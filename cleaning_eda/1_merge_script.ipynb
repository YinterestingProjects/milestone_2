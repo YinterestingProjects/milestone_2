{
 "cells": [
  {
   "cell_type": "markdown",
   "id": "01230cf9-b807-4462-91cf-892c5918c7c3",
   "metadata": {},
   "source": [
    "### Merge Script for 2016 - 2020 Data"
   ]
  },
  {
   "cell_type": "code",
   "execution_count": 8,
   "id": "117bba7b-7d3c-4e5c-80ea-785b751c64bb",
   "metadata": {},
   "outputs": [],
   "source": [
    "import pandas as pd\n",
    "import numpy as np\n",
    "import os"
   ]
  },
  {
   "cell_type": "code",
   "execution_count": 9,
   "id": "d7edb515-bd69-4da5-bdb2-e023600be5b9",
   "metadata": {},
   "outputs": [
    {
     "data": {
      "text/plain": [
       "['DecDetail.FOIA-FWS-2020-00366_Easter-2018Q2.2020.07.09.xlsx',\n",
       " '2019Q2.xlsx',\n",
       " '2019Q3.xlsx',\n",
       " 'DecDetail.FOIA-FWS-2020-00366_Easter-2017Q1.2020.07.09.xlsx',\n",
       " 'DecDetail.FOIA-FWS-2020-00366_Easter-2016Q1.2020.07.08.xlsx',\n",
       " '2020Q1.xlsx',\n",
       " 'DecDetail.FOIA-FWS-2020-00366_Easter-2018Q4.2020.07.09.xlsx',\n",
       " 'DecDetail.FOIA-FWS-2020-00366_Easter-2018Q3.2020.07.09.xlsx',\n",
       " 'DecDetail.FOIA-FWS-2020-00366_Easter-2017Q2.2020.07.09.xlsx',\n",
       " 'DecDetail.FOIA-FWS-2020-00366_Easter-2016Q2.2020.07.08.xlsx',\n",
       " 'DecDetail.FOIA-FWS-2020-00366_Easter-2018Q1.2020.07.09.xlsx',\n",
       " '2020Q2.xlsx',\n",
       " 'DecDetail.FOIA-FWS-2020-00366_Easter-2016Q4.2020.07.08.xlsx',\n",
       " 'DecDetail.FOIA-FWS-2020-00366_Easter-2017Q4.2020.07.09.xlsx',\n",
       " 'DecDetail.FOIA-FWS-2020-00366_Easter-2017Q3.2020.07.09.xlsx',\n",
       " '2019Q1.xlsx',\n",
       " 'DecDetail.FOIA-FWS-2020-00366_Easter-2016Q3.2020.07.08.xlsx']"
      ]
     },
     "execution_count": 9,
     "metadata": {},
     "output_type": "execute_result"
    }
   ],
   "source": [
    "# specify data folder path and select files to merge\n",
    "path = '../data/raw/'\n",
    "data_files = [f for f in os.listdir(path) if f.endswith('.xlsx')]\n",
    "data_files"
   ]
  },
  {
   "cell_type": "code",
   "execution_count": 10,
   "id": "ce110b4b-871f-4de5-ab90-46af4e93f14b",
   "metadata": {},
   "outputs": [],
   "source": [
    "# Specify common columns across files to parse and data type mappings \n",
    "keep_cols = ['Control\\nNumber', 'Species\\nCode', 'Genus', 'Species','Subspecies','Specific\\nName', 'Generic\\nName', 'Wildlf\\nDesc', 'Wildlf\\nCat','Cartons', 'Qty', 'Unit', 'Value', 'Ctry\\nOrg', 'Ctry\\nIE', 'Purp','Src', 'Trans Mode', 'Act', 'Dp\\nCd', 'Disp\\nDate', 'Ship\\nDate','I\\nE', 'Pt\\nCd']\n",
    "dtype_mapping = {'Control\\nNumber': str,\n",
    "                'Cartons': np.float64, \n",
    "                'Qty': np.float64,  \n",
    "                'Value': np.float64}"
   ]
  },
  {
   "cell_type": "code",
   "execution_count": 11,
   "id": "35474dfe-f4a1-4cc1-b578-bc4cf03e35b3",
   "metadata": {
    "tags": []
   },
   "outputs": [
    {
     "name": "stdout",
     "output_type": "stream",
     "text": [
      "24 features, 127703 rows | DecDetail.FOIA-FWS-2020-00366_Easter-2018Q2.2020.07.09.xlsx\n",
      "24 features, 126986 rows | 2019Q2.xlsx\n",
      "24 features, 126657 rows | 2019Q3.xlsx\n",
      "24 features, 123338 rows | DecDetail.FOIA-FWS-2020-00366_Easter-2017Q1.2020.07.09.xlsx\n",
      "24 features, 124213 rows | DecDetail.FOIA-FWS-2020-00366_Easter-2016Q1.2020.07.08.xlsx\n",
      "24 features, 106877 rows | 2020Q1.xlsx\n",
      "24 features, 137119 rows | DecDetail.FOIA-FWS-2020-00366_Easter-2018Q4.2020.07.09.xlsx\n",
      "24 features, 128814 rows | DecDetail.FOIA-FWS-2020-00366_Easter-2018Q3.2020.07.09.xlsx\n",
      "24 features, 128532 rows | DecDetail.FOIA-FWS-2020-00366_Easter-2017Q2.2020.07.09.xlsx\n",
      "24 features, 128419 rows | DecDetail.FOIA-FWS-2020-00366_Easter-2016Q2.2020.07.08.xlsx\n",
      "24 features, 137486 rows | DecDetail.FOIA-FWS-2020-00366_Easter-2018Q1.2020.07.09.xlsx\n",
      "24 features, 51730 rows | 2020Q2.xlsx\n",
      "24 features, 132914 rows | DecDetail.FOIA-FWS-2020-00366_Easter-2016Q4.2020.07.08.xlsx\n",
      "24 features, 137486 rows | DecDetail.FOIA-FWS-2020-00366_Easter-2017Q4.2020.07.09.xlsx\n",
      "24 features, 130381 rows | DecDetail.FOIA-FWS-2020-00366_Easter-2017Q3.2020.07.09.xlsx\n",
      "24 features, 117432 rows | 2019Q1.xlsx\n",
      "24 features, 127418 rows | DecDetail.FOIA-FWS-2020-00366_Easter-2016Q3.2020.07.08.xlsx\n",
      "total: (2093505, 24)\n"
     ]
    }
   ],
   "source": [
    "data_dict = {}\n",
    "for file in data_files:\n",
    "    data_df = pd.read_excel(f'{path}{file}', usecols=keep_cols, dtype=dtype_mapping)\n",
    "    print(f'{data_df.shape[1]} features, {data_df.shape[0]} rows | {file}')\n",
    "    data_dict[file] = data_df\n",
    "\n",
    "df_merged = pd.concat(data_dict.values(), ignore_index=True)\n",
    "print(f'total: {df_merged.shape}')"
   ]
  },
  {
   "cell_type": "code",
   "execution_count": 12,
   "id": "926cd2dc-531e-429a-86c5-78919a707a6c",
   "metadata": {},
   "outputs": [
    {
     "name": "stdout",
     "output_type": "stream",
     "text": [
      "<class 'pandas.core.frame.DataFrame'>\n",
      "RangeIndex: 2093505 entries, 0 to 2093504\n",
      "Data columns (total 24 columns):\n",
      " #   Column          Dtype         \n",
      "---  ------          -----         \n",
      " 0   control_number  object        \n",
      " 1   species_code    object        \n",
      " 2   genus           object        \n",
      " 3   species         object        \n",
      " 4   subspecies      object        \n",
      " 5   specific_name   object        \n",
      " 6   generic_name    object        \n",
      " 7   wildlf_desc     object        \n",
      " 8   wildlf_cat      object        \n",
      " 9   cartons         float64       \n",
      " 10  qty             float64       \n",
      " 11  unit            object        \n",
      " 12  value           float64       \n",
      " 13  ctry_org        object        \n",
      " 14  ctry_ie         object        \n",
      " 15  purp            object        \n",
      " 16  src             object        \n",
      " 17  trans_mode      object        \n",
      " 18  act             object        \n",
      " 19  dp_cd           object        \n",
      " 20  disp_date       object        \n",
      " 21  ship_date       datetime64[ns]\n",
      " 22  i_e             object        \n",
      " 23  pt_cd           object        \n",
      "dtypes: datetime64[ns](1), float64(3), object(20)\n",
      "memory usage: 383.3+ MB\n"
     ]
    }
   ],
   "source": [
    "# quick clean up of column names\n",
    "df_merged.columns = [column.strip().replace('\\n', ' ').replace(' ', '_').lower() for column in df_merged.columns]\n",
    "df_merged.info()"
   ]
  },
  {
   "cell_type": "code",
   "execution_count": 13,
   "id": "d820d208-622c-4bd7-a2fd-10c5cf3aa47f",
   "metadata": {},
   "outputs": [],
   "source": [
    "# name the output and save to data folder path \n",
    "path = '../data/'\n",
    "output_name = 'consolidated_data_2016_2020.csv'\n",
    "df_merged.to_csv(f'{path}{output_name}', index=False)"
   ]
  },
  {
   "cell_type": "code",
   "execution_count": null,
   "id": "453b0e45-6c0a-4362-a9bd-f8ef9b3e9a7c",
   "metadata": {},
   "outputs": [],
   "source": []
  }
 ],
 "metadata": {
  "kernelspec": {
   "display_name": "Python 3 (ipykernel)",
   "language": "python",
   "name": "python3"
  },
  "language_info": {
   "codemirror_mode": {
    "name": "ipython",
    "version": 3
   },
   "file_extension": ".py",
   "mimetype": "text/x-python",
   "name": "python",
   "nbconvert_exporter": "python",
   "pygments_lexer": "ipython3",
   "version": "3.10.4"
  }
 },
 "nbformat": 4,
 "nbformat_minor": 5
}
