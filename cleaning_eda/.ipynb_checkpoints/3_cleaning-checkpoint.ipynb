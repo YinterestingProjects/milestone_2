{
 "cells": [
  {
   "cell_type": "markdown",
   "id": "b026e043-954c-4ce3-b4c0-40913ff43bb2",
   "metadata": {},
   "source": [
    "### Cleaning Script for 2016 - 2020 Data"
   ]
  },
  {
   "cell_type": "code",
   "execution_count": 1,
   "id": "3ceb70d0-f96e-4fff-baaa-6e61a698c61b",
   "metadata": {},
   "outputs": [],
   "source": [
    "import pandas as pd\n",
    "import numpy as np\n",
    "import cleaner as cln"
   ]
  },
  {
   "cell_type": "markdown",
   "id": "935565bd-1baa-4341-924d-155c79cf8c55",
   "metadata": {
    "tags": []
   },
   "source": [
    "#### data cleaning\n",
    "0. feature clean up\n",
    "1. process units\n",
    "2. duplicate handling\n",
    "3. process nulls\n",
    "4. process dates"
   ]
  },
  {
   "cell_type": "code",
   "execution_count": 13,
   "id": "5164ffd0-1c60-4bee-803f-ccefaf90f58e",
   "metadata": {},
   "outputs": [],
   "source": [
    "def cleaning_pipeline(file_path):\n",
    "    \n",
    "    df = pd.read_csv(file_path)\n",
    "    print('Begin cleaning...')\n",
    "      \n",
    "    print('Feature clean up...')\n",
    "    df = cln.process_columns(df)\n",
    "    \n",
    "    print('Cleaning duplicated rows...')\n",
    "    df = cln.process_duplicated_rows(df)\n",
    "    \n",
    "#     # clean units\n",
    "#     df.to_csv(f'../data/dedupped.csv',index=False)\n",
    "    \n",
    "    print('Cleaning null values...')\n",
    "    df = cln.cleanup_nulls(df)\n",
    "    \n",
    "    print('Cleaning dates...')\n",
    "    df = cln.process_dates(df)\n",
    "\n",
    "    return df"
   ]
  },
  {
   "cell_type": "code",
   "execution_count": 14,
   "id": "e21b0187-4856-435a-93f4-935bd1d1ed4e",
   "metadata": {},
   "outputs": [
    {
     "name": "stdout",
     "output_type": "stream",
     "text": [
      "Begin cleaning...\n",
      "Feature clean up...\n",
      "Dropped cols: ['Unnamed: 0', 'subspecies', 'specific_name', 'generic_name']\n",
      "Cleaning duplicated rows...\n",
      "Number of duplicated rows 203,373 out of 2,093,505 total rows\n",
      "Rows remaining 1,890,132\n",
      "Cleaning null values...\n",
      "Cleaning dates...\n"
     ]
    }
   ],
   "source": [
    "p = '../data/'\n",
    "input_name = 'consolidated_data_2016_2020.csv'\n",
    "output_name = 'cleaned.csv'\n",
    "\n",
    "df = cleaning_pipeline(f'{p}{input_name}')"
   ]
  },
  {
   "cell_type": "code",
   "execution_count": 15,
   "id": "31eec74a-87c0-4fc4-a73c-9197ad67fdd0",
   "metadata": {},
   "outputs": [],
   "source": [
    "df.to_csv(f'{p}{output_name}',index=False)"
   ]
  },
  {
   "cell_type": "code",
   "execution_count": null,
   "id": "445fcfbe-1402-4ff1-aac4-6f9765a8998d",
   "metadata": {},
   "outputs": [],
   "source": [
    "# process_units is hard coded at the moment"
   ]
  },
  {
   "cell_type": "code",
   "execution_count": null,
   "id": "eef9c5c8-21d6-426e-82ea-31f5490b97cf",
   "metadata": {},
   "outputs": [],
   "source": [
    "# species name and specific name can be combined?\n",
    "# species_code with *"
   ]
  }
 ],
 "metadata": {
  "kernelspec": {
   "display_name": "Python 3 (ipykernel)",
   "language": "python",
   "name": "python3"
  },
  "language_info": {
   "codemirror_mode": {
    "name": "ipython",
    "version": 3
   },
   "file_extension": ".py",
   "mimetype": "text/x-python",
   "name": "python",
   "nbconvert_exporter": "python",
   "pygments_lexer": "ipython3",
   "version": "3.10.4"
  }
 },
 "nbformat": 4,
 "nbformat_minor": 5
}
