{
 "cells": [
  {
   "cell_type": "markdown",
   "source": [
    "# Import libraries"
   ],
   "metadata": {
    "collapsed": false,
    "pycharm": {
     "name": "#%% md\n"
    }
   }
  },
  {
   "cell_type": "code",
   "execution_count": 1,
   "outputs": [],
   "source": [
    "import pandas as pd"
   ],
   "metadata": {
    "collapsed": false,
    "pycharm": {
     "name": "#%%\n"
    }
   }
  },
  {
   "cell_type": "markdown",
   "source": [
    "# Bring in the data as separate files for the moment"
   ],
   "metadata": {
    "collapsed": false,
    "pycharm": {
     "name": "#%% md\n"
    }
   }
  },
  {
   "cell_type": "code",
   "execution_count": 2,
   "outputs": [],
   "source": [
    "df_2016q1 = pd.read_excel(\"./Data/Tara/DecDetail.FOIA-FWS-2020-00366_Easter-2016Q1.2020.07.08.xlsx\")"
   ],
   "metadata": {
    "collapsed": false,
    "pycharm": {
     "name": "#%%\n"
    }
   }
  },
  {
   "cell_type": "code",
   "execution_count": 3,
   "outputs": [],
   "source": [
    "df_2016q2 = pd.read_excel(\"./Data/Tara/DecDetail.FOIA-FWS-2020-00366_Easter-2016Q2.2020.07.08.xlsx\")"
   ],
   "metadata": {
    "collapsed": false,
    "pycharm": {
     "name": "#%%\n"
    }
   }
  },
  {
   "cell_type": "code",
   "execution_count": 4,
   "outputs": [],
   "source": [
    "df_2016q3 = pd.read_excel(\"./Data/Tara/DecDetail.FOIA-FWS-2020-00366_Easter-2016Q3.2020.07.08.xlsx\")"
   ],
   "metadata": {
    "collapsed": false,
    "pycharm": {
     "name": "#%%\n"
    }
   }
  },
  {
   "cell_type": "code",
   "execution_count": 5,
   "outputs": [],
   "source": [
    "df_2016q4 = pd.read_excel(\"./Data/Tara/DecDetail.FOIA-FWS-2020-00366_Easter-2016Q4.2020.07.08.xlsx\")"
   ],
   "metadata": {
    "collapsed": false,
    "pycharm": {
     "name": "#%%\n"
    }
   }
  },
  {
   "cell_type": "code",
   "execution_count": 6,
   "outputs": [],
   "source": [
    "df_2017q1 = pd.read_excel(\"./Data/Tara/DecDetail.FOIA-FWS-2020-00366_Easter-2017Q1.2020.07.09.xlsx\")"
   ],
   "metadata": {
    "collapsed": false,
    "pycharm": {
     "name": "#%%\n"
    }
   }
  },
  {
   "cell_type": "code",
   "execution_count": 7,
   "outputs": [],
   "source": [
    "df_2017q2 = pd.read_excel(\"./Data/Tara/DecDetail.FOIA-FWS-2020-00366_Easter-2017Q2.2020.07.09.xlsx\")"
   ],
   "metadata": {
    "collapsed": false,
    "pycharm": {
     "name": "#%%\n"
    }
   }
  },
  {
   "cell_type": "code",
   "execution_count": 8,
   "outputs": [],
   "source": [
    "df_2017q3 = pd.read_excel(\"./Data/Tara/DecDetail.FOIA-FWS-2020-00366_Easter-2017Q3.2020.07.09.xlsx\")"
   ],
   "metadata": {
    "collapsed": false,
    "pycharm": {
     "name": "#%%\n"
    }
   }
  },
  {
   "cell_type": "code",
   "execution_count": 9,
   "outputs": [],
   "source": [
    "df_2017q4 = pd.read_excel(\"./Data/Tara/DecDetail.FOIA-FWS-2020-00366_Easter-2017Q4.2020.07.09.xlsx\")"
   ],
   "metadata": {
    "collapsed": false,
    "pycharm": {
     "name": "#%%\n"
    }
   }
  },
  {
   "cell_type": "code",
   "execution_count": 10,
   "outputs": [],
   "source": [
    "df_2018q1 = pd.read_excel(\"./Data/Tara/DecDetail.FOIA-FWS-2020-00366_Easter-2018Q1.2020.07.09.xlsx\")"
   ],
   "metadata": {
    "collapsed": false,
    "pycharm": {
     "name": "#%%\n"
    }
   }
  },
  {
   "cell_type": "code",
   "execution_count": 11,
   "outputs": [],
   "source": [
    "df_2018q2 = pd.read_excel(\"./Data/Tara/DecDetail.FOIA-FWS-2020-00366_Easter-2018Q2.2020.07.09.xlsx\")"
   ],
   "metadata": {
    "collapsed": false,
    "pycharm": {
     "name": "#%%\n"
    }
   }
  },
  {
   "cell_type": "code",
   "execution_count": 12,
   "outputs": [],
   "source": [
    "df_2018q3 = pd.read_excel(\"./Data/Tara/DecDetail.FOIA-FWS-2020-00366_Easter-2018Q3.2020.07.09.xlsx\")"
   ],
   "metadata": {
    "collapsed": false,
    "pycharm": {
     "name": "#%%\n"
    }
   }
  },
  {
   "cell_type": "code",
   "execution_count": 13,
   "outputs": [],
   "source": [
    "df_2018q4 = pd.read_excel(\"./Data/Tara/DecDetail.FOIA-FWS-2020-00366_Easter-2018Q4.2020.07.09.xlsx\")"
   ],
   "metadata": {
    "collapsed": false,
    "pycharm": {
     "name": "#%%\n"
    }
   }
  },
  {
   "cell_type": "code",
   "execution_count": 14,
   "outputs": [],
   "source": [
    "df_2019q1 = pd.read_excel(\"./Data/Tara/2019Q1.xlsx\")"
   ],
   "metadata": {
    "collapsed": false,
    "pycharm": {
     "name": "#%%\n"
    }
   }
  },
  {
   "cell_type": "code",
   "execution_count": 15,
   "outputs": [],
   "source": [
    "df_2019q2 = pd.read_excel(\"./Data/Tara/2019Q2.xlsx\")"
   ],
   "metadata": {
    "collapsed": false,
    "pycharm": {
     "name": "#%%\n"
    }
   }
  },
  {
   "cell_type": "code",
   "execution_count": 16,
   "outputs": [],
   "source": [
    "df_2019q3 = pd.read_excel(\"./Data/Tara/2019Q3.xlsx\")"
   ],
   "metadata": {
    "collapsed": false,
    "pycharm": {
     "name": "#%%\n"
    }
   }
  },
  {
   "cell_type": "code",
   "execution_count": 17,
   "outputs": [],
   "source": [
    "df_2020q1 = pd.read_excel(\"./Data/Tara/2020Q1.xlsx\")"
   ],
   "metadata": {
    "collapsed": false,
    "pycharm": {
     "name": "#%%\n"
    }
   }
  },
  {
   "cell_type": "code",
   "execution_count": 18,
   "outputs": [],
   "source": [
    "df_2020q2 = pd.read_excel(\"./Data/Tara/2020Q2.xlsx\")"
   ],
   "metadata": {
    "collapsed": false,
    "pycharm": {
     "name": "#%%\n"
    }
   }
  },
  {
   "cell_type": "code",
   "execution_count": 19,
   "outputs": [],
   "source": [
    "df_key = pd.read_csv(\"./Data/Tara/key_2016.csv\", encoding=\"cp1252\") # because mac is dumb"
   ],
   "metadata": {
    "collapsed": false,
    "pycharm": {
     "name": "#%%\n"
    }
   }
  },
  {
   "cell_type": "markdown",
   "source": [
    "## Some initial stats about the files"
   ],
   "metadata": {
    "collapsed": false,
    "pycharm": {
     "name": "#%% md\n"
    }
   }
  },
  {
   "cell_type": "code",
   "execution_count": 23,
   "outputs": [
    {
     "name": "stdout",
     "output_type": "stream",
     "text": [
      "df_2016q1: 24 features, 124213 records\n",
      "df_2016q2: 28 features, 128419 records\n",
      "df_2016q3: 24 features, 127418 records\n",
      "df_2016q4: 24 features, 132914 records\n",
      "df_2017q1: 25 features, 123338 records\n",
      "df_2017q2: 24 features, 128532 records\n",
      "df_2017q3: 24 features, 130381 records\n",
      "df_2017q4: 24 features, 137486 records\n",
      "df_2018q1: 24 features, 137486 records\n",
      "df_2018q2: 24 features, 127703 records\n",
      "df_2018q3: 24 features, 128814 records\n",
      "df_2018q4: 24 features, 137119 records\n",
      "df_2019q1: 24 features, 117432 records\n",
      "df_2019q2: 24 features, 126986 records\n",
      "df_2019q3: 25 features, 126657 records\n",
      "df_2020q1: 24 features, 106877 records\n",
      "df_2020q2: 24 features, 51730 records\n",
      "df_key: 3 features, 469 records\n"
     ]
    }
   ],
   "source": [
    "df_list = [df_2016q1, df_2016q2, df_2016q3, df_2016q4, df_2017q1, df_2017q2, df_2017q3, df_2017q4, df_2018q1,\n",
    "           df_2018q2, df_2018q3, df_2018q4, df_2019q1, df_2019q2, df_2019q3, df_2020q1, df_2020q2, df_key]\n",
    "df_names = [\"df_2016q1\", \"df_2016q2\", \"df_2016q3\", \"df_2016q4\", \"df_2017q1\", \"df_2017q2\", \"df_2017q3\", \"df_2017q4\", \"df_2018q1\",\n",
    "            \"df_2018q2\", \"df_2018q3\", \"df_2018q4\", \"df_2019q1\", \"df_2019q2\", \"df_2019q3\", \"df_2020q1\", \"df_2020q2\", \"df_key\"]\n",
    "\n",
    "for idx,df in enumerate(df_list):\n",
    "    print('{}: {} features, {} records'.format(df_names[idx], df.shape[1],df.shape[0]))"
   ],
   "metadata": {
    "collapsed": false,
    "pycharm": {
     "name": "#%%\n"
    }
   }
  },
  {
   "cell_type": "code",
   "execution_count": 25,
   "outputs": [
    {
     "name": "stdout",
     "output_type": "stream",
     "text": [
      "df_2016q1 columns: ['Control\\nNumber', 'Species\\nCode', 'Genus', 'Species', 'Subspecies', 'Specific\\nName', 'Generic\\nName', 'Wildlf\\nDesc', 'Wildlf\\nCat', 'Cartons', 'Qty', 'Unit', 'Value', 'Ctry\\nOrg', 'Ctry\\nIE', 'Purp', 'Src', 'Trans Mode', 'Act', 'Dp\\nCd', 'Disp\\nDate', 'Ship\\nDate', 'I\\nE', 'Pt\\nCd']\n",
      "df_2016q2 columns: ['Control\\nNumber', 'Species\\nCode', 'Genus', 'Species', 'Subspecies', 'Specific\\nName', 'Generic\\nName', 'Wildlf\\nDesc', 'Wildlf\\nCat', 'Cartons', 'Qty', 'Unit', 'Value', 'Ctry\\nOrg', 'Ctry\\nIE', 'Purp', 'Src', 'Trans Mode', 'Act', 'Dp\\nCd', 'Disp\\nDate', 'Ship\\nDate', 'I\\nE', 'Pt\\nCd', 'Unnamed: 24', 'Unnamed: 25', 'Unnamed: 26', 'Unnamed: 27']\n",
      "df_2016q3 columns: ['Control\\nNumber', 'Species\\nCode', 'Genus', 'Species', 'Subspecies', 'Specific\\nName', 'Generic\\nName', 'Wildlf\\nDesc', 'Wildlf\\nCat', 'Cartons', 'Qty', 'Unit', 'Value', 'Ctry\\nOrg', 'Ctry\\nIE', 'Purp', 'Src', 'Trans Mode', 'Act', 'Dp\\nCd', 'Disp\\nDate', 'Ship\\nDate', 'I\\nE', 'Pt\\nCd']\n",
      "df_2016q4 columns: ['Control\\nNumber', 'Species\\nCode', 'Genus', 'Species', 'Subspecies', 'Specific\\nName', 'Generic\\nName', 'Wildlf\\nDesc', 'Wildlf\\nCat', 'Cartons', 'Qty', 'Unit', 'Value', 'Ctry\\nOrg', 'Ctry\\nIE', 'Purp', 'Src', 'Trans Mode', 'Act', 'Dp\\nCd', 'Disp\\nDate', 'Ship\\nDate', 'I\\nE', 'Pt\\nCd']\n",
      "df_2017q1 columns: ['Control\\nNumber', 'Species\\nCode', 'Genus', 'Species', 'Subspecies', 'Specific\\nName', 'Generic\\nName', 'Wildlf\\nDesc', 'Wildlf\\nCat', 'Cartons', 'Qty', 'Unit', 'Value', 'Ctry\\nOrg', 'Ctry\\nIE', 'Purp', 'Src', 'Trans Mode', 'Act', 'Dp\\nCd', 'Disp\\nDate', 'Ship\\nDate', 'I\\nE', 'Pt\\nCd', 'Unnamed: 24']\n",
      "df_2017q2 columns: ['Control\\nNumber', 'Species\\nCode', 'Genus', 'Species', 'Subspecies', 'Specific\\nName', 'Generic\\nName', 'Wildlf\\nDesc', 'Wildlf\\nCat', 'Cartons', 'Qty', 'Unit', 'Value', 'Ctry\\nOrg', 'Ctry\\nIE', 'Purp', 'Src', 'Trans Mode', 'Act', 'Dp\\nCd', 'Disp\\nDate', 'Ship\\nDate', 'I\\nE', 'Pt\\nCd']\n",
      "df_2017q3 columns: ['Control\\nNumber', 'Species\\nCode', 'Genus', 'Species', 'Subspecies', 'Specific\\nName', 'Generic\\nName', 'Wildlf\\nDesc', 'Wildlf\\nCat', 'Cartons', 'Qty', 'Unit', 'Value', 'Ctry\\nOrg', 'Ctry\\nIE', 'Purp', 'Src', 'Trans Mode', 'Act', 'Dp\\nCd', 'Disp\\nDate', 'Ship\\nDate', 'I\\nE', 'Pt\\nCd']\n",
      "df_2017q4 columns: ['Control\\nNumber', 'Species\\nCode', 'Genus', 'Species', 'Subspecies', 'Specific\\nName', 'Generic\\nName', 'Wildlf\\nDesc', 'Wildlf\\nCat', 'Cartons', 'Qty', 'Unit', 'Value', 'Ctry\\nOrg', 'Ctry\\nIE', 'Purp', 'Src', 'Trans Mode', 'Act', 'Dp\\nCd', 'Disp\\nDate', 'Ship\\nDate', 'I\\nE', 'Pt\\nCd']\n",
      "df_2018q1 columns: ['Control\\nNumber', 'Species\\nCode', 'Genus', 'Species', 'Subspecies', 'Specific\\nName', 'Generic\\nName', 'Wildlf\\nDesc', 'Wildlf\\nCat', 'Cartons', 'Qty', 'Unit', 'Value', 'Ctry\\nOrg', 'Ctry\\nIE', 'Purp', 'Src', 'Trans Mode', 'Act', 'Dp\\nCd', 'Disp\\nDate', 'Ship\\nDate', 'I\\nE', 'Pt\\nCd']\n",
      "df_2018q2 columns: ['Control\\nNumber', 'Species\\nCode', 'Genus', 'Species', 'Subspecies', 'Specific\\nName', 'Generic\\nName', 'Wildlf\\nDesc', 'Wildlf\\nCat', 'Cartons', 'Qty', 'Unit', 'Value', 'Ctry\\nOrg', 'Ctry\\nIE', 'Purp', 'Src', 'Trans Mode', 'Act', 'Dp\\nCd', 'Disp\\nDate', 'Ship\\nDate', 'I\\nE', 'Pt\\nCd']\n",
      "df_2018q3 columns: ['Control\\nNumber', 'Species\\nCode', 'Genus', 'Species', 'Subspecies', 'Specific\\nName', 'Generic\\nName', 'Wildlf\\nDesc', 'Wildlf\\nCat', 'Cartons', 'Qty', 'Unit', 'Value', 'Ctry\\nOrg', 'Ctry\\nIE', 'Purp', 'Src', 'Trans Mode', 'Act', 'Dp\\nCd', 'Disp\\nDate', 'Ship\\nDate', 'I\\nE', 'Pt\\nCd']\n",
      "df_2018q4 columns: ['Control\\nNumber', 'Species\\nCode', 'Genus', 'Species', 'Subspecies', 'Specific\\nName', 'Generic\\nName', 'Wildlf\\nDesc', 'Wildlf\\nCat', 'Cartons', 'Qty', 'Unit', 'Value', 'Ctry\\nOrg', 'Ctry\\nIE', 'Purp', 'Src', 'Trans Mode', 'Act', 'Dp\\nCd', 'Disp\\nDate', 'Ship\\nDate', 'I\\nE', 'Pt\\nCd']\n",
      "df_2019q1 columns: ['Control\\nNumber', 'Species\\nCode', 'Genus', 'Species', 'Subspecies', 'Specific\\nName', 'Generic\\nName', 'Wildlf\\nDesc', 'Wildlf\\nCat', 'Cartons', 'Qty', 'Unit', 'Value', 'Ctry\\nOrg', 'Ctry\\nIE', 'Purp', 'Src', 'Trans Mode', 'Act', 'Dp\\nCd', 'Disp\\nDate', 'Ship\\nDate', 'I\\nE', 'Pt\\nCd']\n",
      "df_2019q2 columns: ['Control\\nNumber', 'Species\\nCode', 'Genus', 'Species', 'Subspecies', 'Specific\\nName', 'Generic\\nName', 'Wildlf\\nDesc', 'Wildlf\\nCat', 'Cartons', 'Qty', 'Unit', 'Value', 'Ctry\\nOrg', 'Ctry\\nIE', 'Purp', 'Src', 'Trans Mode', 'Act', 'Dp\\nCd', 'Disp\\nDate', 'Ship\\nDate', 'I\\nE', 'Pt\\nCd']\n",
      "df_2019q3 columns: ['Control\\nNumber', 'Species\\nCode', 'Genus', 'Species', 'Subspecies', 'Specific\\nName', 'Generic\\nName', 'Wildlf\\nDesc', 'Wildlf\\nCat', 'Cartons', 'Qty', 'Unit', 'Value', 'Ctry\\nOrg', 'Ctry\\nIE', 'Purp', 'Src', 'Trans Mode', 'Act', 'Dp\\nCd', 'Disp\\nDate', 'Ship\\nDate', 'I\\nE', 'Pt\\nCd', 'FSR First Name']\n",
      "df_2020q1 columns: ['Control\\nNumber', 'Species\\nCode', 'Genus', 'Species', 'Subspecies', 'Specific\\nName', 'Generic\\nName', 'Wildlf\\nDesc', 'Wildlf\\nCat', 'Cartons', 'Qty', 'Unit', 'Value', 'Ctry\\nOrg', 'Ctry\\nIE', 'Purp', 'Src', 'Trans Mode', 'Act', 'Dp\\nCd', 'Disp\\nDate', 'Ship\\nDate', 'I\\nE', 'Pt\\nCd']\n",
      "df_2020q2 columns: ['Control\\nNumber', 'Species\\nCode', 'Genus', 'Species', 'Subspecies', 'Specific\\nName', 'Generic\\nName', 'Wildlf\\nDesc', 'Wildlf\\nCat', 'Cartons', 'Qty', 'Unit', 'Value', 'Ctry\\nOrg', 'Ctry\\nIE', 'Purp', 'Src', 'Trans Mode', 'Act', 'Dp\\nCd', 'Disp\\nDate', 'Ship\\nDate', 'I\\nE', 'Pt\\nCd']\n",
      "df_key columns: ['field', 'code', 'value']\n"
     ]
    }
   ],
   "source": [
    "# compare columns to see why some have different features\n",
    "for idx, df in enumerate(df_list):\n",
    "    print('{} columns: {}'.format(df_names[idx], list(df.columns)))"
   ],
   "metadata": {
    "collapsed": false,
    "pycharm": {
     "name": "#%%\n"
    }
   }
  },
  {
   "cell_type": "code",
   "execution_count": 26,
   "outputs": [
    {
     "data": {
      "text/plain": "   Control\\nNumber Species\\nCode    Genus  Species Subspecies Specific\\nName  \\\n0       2016827389          COYO    CANIS  LATRANS        NaN            NaN   \n1       2016827389          COYO    CANIS  LATRANS        NaN            NaN   \n2       2016827389          RACC  PROCYON    LOTOR        NaN            NaN   \n3       2016827389          COYO    CANIS  LATRANS        NaN            NaN   \n4       2016827389          COYO    CANIS  LATRANS        NaN            NaN   \n\n  Generic\\nName Wildlf\\nDesc Wildlf\\nCat  Cartons  ...  Act Dp\\nCd  \\\n0        COYOTE          SKI         MAM     59.0  ...    C      C   \n1        COYOTE          SKI         MAM     59.0  ...    C      C   \n2       RACCOON          SKI         MAM     59.0  ...    C      C   \n3        COYOTE          SKI         MAM     59.0  ...    C      C   \n4        COYOTE          SKI         MAM     59.0  ...    C      C   \n\n   Disp\\nDate Ship\\nDate I\\nE Pt\\nCd Unnamed: 24 Unnamed: 25 Unnamed: 26  \\\n0  2016-03-15 2016-04-06    E     CH         NaN         NaN         NaN   \n1  2016-03-15 2016-04-06    E     CH         NaN         NaN         NaN   \n2  2016-03-15 2016-04-06    E     CH         NaN         NaN         NaN   \n3  2016-03-15 2016-04-06    E     CH         NaN         NaN         NaN   \n4  2016-03-15 2016-04-06    E     CH         NaN         NaN         NaN   \n\n  Unnamed: 27  \n0         NaN  \n1         NaN  \n2         NaN  \n3         NaN  \n4         NaN  \n\n[5 rows x 28 columns]",
      "text/html": "<div>\n<style scoped>\n    .dataframe tbody tr th:only-of-type {\n        vertical-align: middle;\n    }\n\n    .dataframe tbody tr th {\n        vertical-align: top;\n    }\n\n    .dataframe thead th {\n        text-align: right;\n    }\n</style>\n<table border=\"1\" class=\"dataframe\">\n  <thead>\n    <tr style=\"text-align: right;\">\n      <th></th>\n      <th>Control\\nNumber</th>\n      <th>Species\\nCode</th>\n      <th>Genus</th>\n      <th>Species</th>\n      <th>Subspecies</th>\n      <th>Specific\\nName</th>\n      <th>Generic\\nName</th>\n      <th>Wildlf\\nDesc</th>\n      <th>Wildlf\\nCat</th>\n      <th>Cartons</th>\n      <th>...</th>\n      <th>Act</th>\n      <th>Dp\\nCd</th>\n      <th>Disp\\nDate</th>\n      <th>Ship\\nDate</th>\n      <th>I\\nE</th>\n      <th>Pt\\nCd</th>\n      <th>Unnamed: 24</th>\n      <th>Unnamed: 25</th>\n      <th>Unnamed: 26</th>\n      <th>Unnamed: 27</th>\n    </tr>\n  </thead>\n  <tbody>\n    <tr>\n      <th>0</th>\n      <td>2016827389</td>\n      <td>COYO</td>\n      <td>CANIS</td>\n      <td>LATRANS</td>\n      <td>NaN</td>\n      <td>NaN</td>\n      <td>COYOTE</td>\n      <td>SKI</td>\n      <td>MAM</td>\n      <td>59.0</td>\n      <td>...</td>\n      <td>C</td>\n      <td>C</td>\n      <td>2016-03-15</td>\n      <td>2016-04-06</td>\n      <td>E</td>\n      <td>CH</td>\n      <td>NaN</td>\n      <td>NaN</td>\n      <td>NaN</td>\n      <td>NaN</td>\n    </tr>\n    <tr>\n      <th>1</th>\n      <td>2016827389</td>\n      <td>COYO</td>\n      <td>CANIS</td>\n      <td>LATRANS</td>\n      <td>NaN</td>\n      <td>NaN</td>\n      <td>COYOTE</td>\n      <td>SKI</td>\n      <td>MAM</td>\n      <td>59.0</td>\n      <td>...</td>\n      <td>C</td>\n      <td>C</td>\n      <td>2016-03-15</td>\n      <td>2016-04-06</td>\n      <td>E</td>\n      <td>CH</td>\n      <td>NaN</td>\n      <td>NaN</td>\n      <td>NaN</td>\n      <td>NaN</td>\n    </tr>\n    <tr>\n      <th>2</th>\n      <td>2016827389</td>\n      <td>RACC</td>\n      <td>PROCYON</td>\n      <td>LOTOR</td>\n      <td>NaN</td>\n      <td>NaN</td>\n      <td>RACCOON</td>\n      <td>SKI</td>\n      <td>MAM</td>\n      <td>59.0</td>\n      <td>...</td>\n      <td>C</td>\n      <td>C</td>\n      <td>2016-03-15</td>\n      <td>2016-04-06</td>\n      <td>E</td>\n      <td>CH</td>\n      <td>NaN</td>\n      <td>NaN</td>\n      <td>NaN</td>\n      <td>NaN</td>\n    </tr>\n    <tr>\n      <th>3</th>\n      <td>2016827389</td>\n      <td>COYO</td>\n      <td>CANIS</td>\n      <td>LATRANS</td>\n      <td>NaN</td>\n      <td>NaN</td>\n      <td>COYOTE</td>\n      <td>SKI</td>\n      <td>MAM</td>\n      <td>59.0</td>\n      <td>...</td>\n      <td>C</td>\n      <td>C</td>\n      <td>2016-03-15</td>\n      <td>2016-04-06</td>\n      <td>E</td>\n      <td>CH</td>\n      <td>NaN</td>\n      <td>NaN</td>\n      <td>NaN</td>\n      <td>NaN</td>\n    </tr>\n    <tr>\n      <th>4</th>\n      <td>2016827389</td>\n      <td>COYO</td>\n      <td>CANIS</td>\n      <td>LATRANS</td>\n      <td>NaN</td>\n      <td>NaN</td>\n      <td>COYOTE</td>\n      <td>SKI</td>\n      <td>MAM</td>\n      <td>59.0</td>\n      <td>...</td>\n      <td>C</td>\n      <td>C</td>\n      <td>2016-03-15</td>\n      <td>2016-04-06</td>\n      <td>E</td>\n      <td>CH</td>\n      <td>NaN</td>\n      <td>NaN</td>\n      <td>NaN</td>\n      <td>NaN</td>\n    </tr>\n  </tbody>\n</table>\n<p>5 rows × 28 columns</p>\n</div>"
     },
     "execution_count": 26,
     "metadata": {},
     "output_type": "execute_result"
    }
   ],
   "source": [
    "# guess we need to check out what Unnamed 24 - 27 are...\n",
    "df_2016q2.head()"
   ],
   "metadata": {
    "collapsed": false,
    "pycharm": {
     "name": "#%%\n"
    }
   }
  },
  {
   "cell_type": "code",
   "execution_count": 27,
   "outputs": [
    {
     "data": {
      "text/plain": "       Control\\nNumber Species\\nCode        Genus           Species  \\\n214         2016836500          LIVA  LITOPENAEUS          VANNAMEI   \n784         2016837348          LIVA  LITOPENAEUS          VANNAMEI   \n3046        2016838733          LIVA  LITOPENAEUS          VANNAMEI   \n5771        2016840147          LIVA  LITOPENAEUS          VANNAMEI   \n20218       2016846178          CMAD       CASSIS  MADAGASCARIENSIS   \n20219       2016846178          CASR       CASSIS              RUFA   \n\n      Subspecies Specific\\nName Generic\\nName Wildlf\\nDesc Wildlf\\nCat  \\\n214          NaN       WHITELEG        SHRIMP          LIV         CRS   \n784          NaN       WHITELEG        SHRIMP          LIV         CRS   \n3046         NaN       WHITELEG        SHRIMP          LIV         CRS   \n5771         NaN       WHITELEG        SHRIMP          LIV         CRS   \n20218        NaN          BLACK        HELMET          SPR         MOL   \n20219        NaN         HELMET         SHELL          SPR         MOL   \n\n       Cartons  ...  Act Dp\\nCd  Disp\\nDate Ship\\nDate I\\nE Pt\\nCd  \\\n214      200.0  ...    C      C  2016-03-31 2016-04-01    E     MI   \n784      200.0  ...    C      C  2016-04-01 2016-04-03    E     MI   \n3046     200.0  ...    C      C  2016-04-05 2016-04-06    E     MI   \n5771     200.0  ...    C      C  2016-04-07 2016-04-08    E     MI   \n20218      1.0  ...    C      C  2016-04-19 2016-04-15    I     ME   \n20219      1.0  ...    C      C  2016-04-19 2016-04-15    I     ME   \n\n                             Unnamed: 24 Unnamed: 25 Unnamed: 26 Unnamed: 27  \n214    AQUACULTURE BIOSCIENCE TECHNOLOGY     CO, LTD    GUOLIANG        CHEN  \n784                             GUOLIANG        CHEN         NaN         NaN  \n3046                            GUOLIANG        CHEN         NaN         NaN  \n5771                            GUOLIANG        CHEN         NaN         NaN  \n20218                                 XX         NaN         NaN         NaN  \n20219                                 XX         NaN         NaN         NaN  \n\n[6 rows x 28 columns]",
      "text/html": "<div>\n<style scoped>\n    .dataframe tbody tr th:only-of-type {\n        vertical-align: middle;\n    }\n\n    .dataframe tbody tr th {\n        vertical-align: top;\n    }\n\n    .dataframe thead th {\n        text-align: right;\n    }\n</style>\n<table border=\"1\" class=\"dataframe\">\n  <thead>\n    <tr style=\"text-align: right;\">\n      <th></th>\n      <th>Control\\nNumber</th>\n      <th>Species\\nCode</th>\n      <th>Genus</th>\n      <th>Species</th>\n      <th>Subspecies</th>\n      <th>Specific\\nName</th>\n      <th>Generic\\nName</th>\n      <th>Wildlf\\nDesc</th>\n      <th>Wildlf\\nCat</th>\n      <th>Cartons</th>\n      <th>...</th>\n      <th>Act</th>\n      <th>Dp\\nCd</th>\n      <th>Disp\\nDate</th>\n      <th>Ship\\nDate</th>\n      <th>I\\nE</th>\n      <th>Pt\\nCd</th>\n      <th>Unnamed: 24</th>\n      <th>Unnamed: 25</th>\n      <th>Unnamed: 26</th>\n      <th>Unnamed: 27</th>\n    </tr>\n  </thead>\n  <tbody>\n    <tr>\n      <th>214</th>\n      <td>2016836500</td>\n      <td>LIVA</td>\n      <td>LITOPENAEUS</td>\n      <td>VANNAMEI</td>\n      <td>NaN</td>\n      <td>WHITELEG</td>\n      <td>SHRIMP</td>\n      <td>LIV</td>\n      <td>CRS</td>\n      <td>200.0</td>\n      <td>...</td>\n      <td>C</td>\n      <td>C</td>\n      <td>2016-03-31</td>\n      <td>2016-04-01</td>\n      <td>E</td>\n      <td>MI</td>\n      <td>AQUACULTURE BIOSCIENCE TECHNOLOGY</td>\n      <td>CO, LTD</td>\n      <td>GUOLIANG</td>\n      <td>CHEN</td>\n    </tr>\n    <tr>\n      <th>784</th>\n      <td>2016837348</td>\n      <td>LIVA</td>\n      <td>LITOPENAEUS</td>\n      <td>VANNAMEI</td>\n      <td>NaN</td>\n      <td>WHITELEG</td>\n      <td>SHRIMP</td>\n      <td>LIV</td>\n      <td>CRS</td>\n      <td>200.0</td>\n      <td>...</td>\n      <td>C</td>\n      <td>C</td>\n      <td>2016-04-01</td>\n      <td>2016-04-03</td>\n      <td>E</td>\n      <td>MI</td>\n      <td>GUOLIANG</td>\n      <td>CHEN</td>\n      <td>NaN</td>\n      <td>NaN</td>\n    </tr>\n    <tr>\n      <th>3046</th>\n      <td>2016838733</td>\n      <td>LIVA</td>\n      <td>LITOPENAEUS</td>\n      <td>VANNAMEI</td>\n      <td>NaN</td>\n      <td>WHITELEG</td>\n      <td>SHRIMP</td>\n      <td>LIV</td>\n      <td>CRS</td>\n      <td>200.0</td>\n      <td>...</td>\n      <td>C</td>\n      <td>C</td>\n      <td>2016-04-05</td>\n      <td>2016-04-06</td>\n      <td>E</td>\n      <td>MI</td>\n      <td>GUOLIANG</td>\n      <td>CHEN</td>\n      <td>NaN</td>\n      <td>NaN</td>\n    </tr>\n    <tr>\n      <th>5771</th>\n      <td>2016840147</td>\n      <td>LIVA</td>\n      <td>LITOPENAEUS</td>\n      <td>VANNAMEI</td>\n      <td>NaN</td>\n      <td>WHITELEG</td>\n      <td>SHRIMP</td>\n      <td>LIV</td>\n      <td>CRS</td>\n      <td>200.0</td>\n      <td>...</td>\n      <td>C</td>\n      <td>C</td>\n      <td>2016-04-07</td>\n      <td>2016-04-08</td>\n      <td>E</td>\n      <td>MI</td>\n      <td>GUOLIANG</td>\n      <td>CHEN</td>\n      <td>NaN</td>\n      <td>NaN</td>\n    </tr>\n    <tr>\n      <th>20218</th>\n      <td>2016846178</td>\n      <td>CMAD</td>\n      <td>CASSIS</td>\n      <td>MADAGASCARIENSIS</td>\n      <td>NaN</td>\n      <td>BLACK</td>\n      <td>HELMET</td>\n      <td>SPR</td>\n      <td>MOL</td>\n      <td>1.0</td>\n      <td>...</td>\n      <td>C</td>\n      <td>C</td>\n      <td>2016-04-19</td>\n      <td>2016-04-15</td>\n      <td>I</td>\n      <td>ME</td>\n      <td>XX</td>\n      <td>NaN</td>\n      <td>NaN</td>\n      <td>NaN</td>\n    </tr>\n    <tr>\n      <th>20219</th>\n      <td>2016846178</td>\n      <td>CASR</td>\n      <td>CASSIS</td>\n      <td>RUFA</td>\n      <td>NaN</td>\n      <td>HELMET</td>\n      <td>SHELL</td>\n      <td>SPR</td>\n      <td>MOL</td>\n      <td>1.0</td>\n      <td>...</td>\n      <td>C</td>\n      <td>C</td>\n      <td>2016-04-19</td>\n      <td>2016-04-15</td>\n      <td>I</td>\n      <td>ME</td>\n      <td>XX</td>\n      <td>NaN</td>\n      <td>NaN</td>\n      <td>NaN</td>\n    </tr>\n  </tbody>\n</table>\n<p>6 rows × 28 columns</p>\n</div>"
     },
     "execution_count": 27,
     "metadata": {},
     "output_type": "execute_result"
    }
   ],
   "source": [
    "# not super helpful... let's see if there is anything with a value\n",
    "df_2016q2.loc[df_2016q2['Unnamed: 24'].notnull()]"
   ],
   "metadata": {
    "collapsed": false,
    "pycharm": {
     "name": "#%%\n"
    }
   }
  },
  {
   "cell_type": "code",
   "execution_count": 28,
   "outputs": [
    {
     "data": {
      "text/plain": "      Control\\nNumber Species\\nCode        Genus   Species Subspecies  \\\n214        2016836500          LIVA  LITOPENAEUS  VANNAMEI        NaN   \n784        2016837348          LIVA  LITOPENAEUS  VANNAMEI        NaN   \n3046       2016838733          LIVA  LITOPENAEUS  VANNAMEI        NaN   \n5771       2016840147          LIVA  LITOPENAEUS  VANNAMEI        NaN   \n\n     Specific\\nName Generic\\nName Wildlf\\nDesc Wildlf\\nCat  Cartons  ...  Act  \\\n214        WHITELEG        SHRIMP          LIV         CRS    200.0  ...    C   \n784        WHITELEG        SHRIMP          LIV         CRS    200.0  ...    C   \n3046       WHITELEG        SHRIMP          LIV         CRS    200.0  ...    C   \n5771       WHITELEG        SHRIMP          LIV         CRS    200.0  ...    C   \n\n     Dp\\nCd  Disp\\nDate Ship\\nDate I\\nE Pt\\nCd  \\\n214       C  2016-03-31 2016-04-01    E     MI   \n784       C  2016-04-01 2016-04-03    E     MI   \n3046      C  2016-04-05 2016-04-06    E     MI   \n5771      C  2016-04-07 2016-04-08    E     MI   \n\n                            Unnamed: 24 Unnamed: 25 Unnamed: 26 Unnamed: 27  \n214   AQUACULTURE BIOSCIENCE TECHNOLOGY     CO, LTD    GUOLIANG        CHEN  \n784                            GUOLIANG        CHEN         NaN         NaN  \n3046                           GUOLIANG        CHEN         NaN         NaN  \n5771                           GUOLIANG        CHEN         NaN         NaN  \n\n[4 rows x 28 columns]",
      "text/html": "<div>\n<style scoped>\n    .dataframe tbody tr th:only-of-type {\n        vertical-align: middle;\n    }\n\n    .dataframe tbody tr th {\n        vertical-align: top;\n    }\n\n    .dataframe thead th {\n        text-align: right;\n    }\n</style>\n<table border=\"1\" class=\"dataframe\">\n  <thead>\n    <tr style=\"text-align: right;\">\n      <th></th>\n      <th>Control\\nNumber</th>\n      <th>Species\\nCode</th>\n      <th>Genus</th>\n      <th>Species</th>\n      <th>Subspecies</th>\n      <th>Specific\\nName</th>\n      <th>Generic\\nName</th>\n      <th>Wildlf\\nDesc</th>\n      <th>Wildlf\\nCat</th>\n      <th>Cartons</th>\n      <th>...</th>\n      <th>Act</th>\n      <th>Dp\\nCd</th>\n      <th>Disp\\nDate</th>\n      <th>Ship\\nDate</th>\n      <th>I\\nE</th>\n      <th>Pt\\nCd</th>\n      <th>Unnamed: 24</th>\n      <th>Unnamed: 25</th>\n      <th>Unnamed: 26</th>\n      <th>Unnamed: 27</th>\n    </tr>\n  </thead>\n  <tbody>\n    <tr>\n      <th>214</th>\n      <td>2016836500</td>\n      <td>LIVA</td>\n      <td>LITOPENAEUS</td>\n      <td>VANNAMEI</td>\n      <td>NaN</td>\n      <td>WHITELEG</td>\n      <td>SHRIMP</td>\n      <td>LIV</td>\n      <td>CRS</td>\n      <td>200.0</td>\n      <td>...</td>\n      <td>C</td>\n      <td>C</td>\n      <td>2016-03-31</td>\n      <td>2016-04-01</td>\n      <td>E</td>\n      <td>MI</td>\n      <td>AQUACULTURE BIOSCIENCE TECHNOLOGY</td>\n      <td>CO, LTD</td>\n      <td>GUOLIANG</td>\n      <td>CHEN</td>\n    </tr>\n    <tr>\n      <th>784</th>\n      <td>2016837348</td>\n      <td>LIVA</td>\n      <td>LITOPENAEUS</td>\n      <td>VANNAMEI</td>\n      <td>NaN</td>\n      <td>WHITELEG</td>\n      <td>SHRIMP</td>\n      <td>LIV</td>\n      <td>CRS</td>\n      <td>200.0</td>\n      <td>...</td>\n      <td>C</td>\n      <td>C</td>\n      <td>2016-04-01</td>\n      <td>2016-04-03</td>\n      <td>E</td>\n      <td>MI</td>\n      <td>GUOLIANG</td>\n      <td>CHEN</td>\n      <td>NaN</td>\n      <td>NaN</td>\n    </tr>\n    <tr>\n      <th>3046</th>\n      <td>2016838733</td>\n      <td>LIVA</td>\n      <td>LITOPENAEUS</td>\n      <td>VANNAMEI</td>\n      <td>NaN</td>\n      <td>WHITELEG</td>\n      <td>SHRIMP</td>\n      <td>LIV</td>\n      <td>CRS</td>\n      <td>200.0</td>\n      <td>...</td>\n      <td>C</td>\n      <td>C</td>\n      <td>2016-04-05</td>\n      <td>2016-04-06</td>\n      <td>E</td>\n      <td>MI</td>\n      <td>GUOLIANG</td>\n      <td>CHEN</td>\n      <td>NaN</td>\n      <td>NaN</td>\n    </tr>\n    <tr>\n      <th>5771</th>\n      <td>2016840147</td>\n      <td>LIVA</td>\n      <td>LITOPENAEUS</td>\n      <td>VANNAMEI</td>\n      <td>NaN</td>\n      <td>WHITELEG</td>\n      <td>SHRIMP</td>\n      <td>LIV</td>\n      <td>CRS</td>\n      <td>200.0</td>\n      <td>...</td>\n      <td>C</td>\n      <td>C</td>\n      <td>2016-04-07</td>\n      <td>2016-04-08</td>\n      <td>E</td>\n      <td>MI</td>\n      <td>GUOLIANG</td>\n      <td>CHEN</td>\n      <td>NaN</td>\n      <td>NaN</td>\n    </tr>\n  </tbody>\n</table>\n<p>4 rows × 28 columns</p>\n</div>"
     },
     "execution_count": 28,
     "metadata": {},
     "output_type": "execute_result"
    }
   ],
   "source": [
    "df_2016q2.loc[df_2016q2['Unnamed: 25'].notnull()]"
   ],
   "metadata": {
    "collapsed": false,
    "pycharm": {
     "name": "#%%\n"
    }
   }
  },
  {
   "cell_type": "code",
   "execution_count": 29,
   "outputs": [
    {
     "data": {
      "text/plain": "     Control\\nNumber Species\\nCode        Genus   Species Subspecies  \\\n214       2016836500          LIVA  LITOPENAEUS  VANNAMEI        NaN   \n\n    Specific\\nName Generic\\nName Wildlf\\nDesc Wildlf\\nCat  Cartons  ...  Act  \\\n214       WHITELEG        SHRIMP          LIV         CRS    200.0  ...    C   \n\n    Dp\\nCd  Disp\\nDate Ship\\nDate I\\nE Pt\\nCd  \\\n214      C  2016-03-31 2016-04-01    E     MI   \n\n                           Unnamed: 24 Unnamed: 25 Unnamed: 26 Unnamed: 27  \n214  AQUACULTURE BIOSCIENCE TECHNOLOGY     CO, LTD    GUOLIANG        CHEN  \n\n[1 rows x 28 columns]",
      "text/html": "<div>\n<style scoped>\n    .dataframe tbody tr th:only-of-type {\n        vertical-align: middle;\n    }\n\n    .dataframe tbody tr th {\n        vertical-align: top;\n    }\n\n    .dataframe thead th {\n        text-align: right;\n    }\n</style>\n<table border=\"1\" class=\"dataframe\">\n  <thead>\n    <tr style=\"text-align: right;\">\n      <th></th>\n      <th>Control\\nNumber</th>\n      <th>Species\\nCode</th>\n      <th>Genus</th>\n      <th>Species</th>\n      <th>Subspecies</th>\n      <th>Specific\\nName</th>\n      <th>Generic\\nName</th>\n      <th>Wildlf\\nDesc</th>\n      <th>Wildlf\\nCat</th>\n      <th>Cartons</th>\n      <th>...</th>\n      <th>Act</th>\n      <th>Dp\\nCd</th>\n      <th>Disp\\nDate</th>\n      <th>Ship\\nDate</th>\n      <th>I\\nE</th>\n      <th>Pt\\nCd</th>\n      <th>Unnamed: 24</th>\n      <th>Unnamed: 25</th>\n      <th>Unnamed: 26</th>\n      <th>Unnamed: 27</th>\n    </tr>\n  </thead>\n  <tbody>\n    <tr>\n      <th>214</th>\n      <td>2016836500</td>\n      <td>LIVA</td>\n      <td>LITOPENAEUS</td>\n      <td>VANNAMEI</td>\n      <td>NaN</td>\n      <td>WHITELEG</td>\n      <td>SHRIMP</td>\n      <td>LIV</td>\n      <td>CRS</td>\n      <td>200.0</td>\n      <td>...</td>\n      <td>C</td>\n      <td>C</td>\n      <td>2016-03-31</td>\n      <td>2016-04-01</td>\n      <td>E</td>\n      <td>MI</td>\n      <td>AQUACULTURE BIOSCIENCE TECHNOLOGY</td>\n      <td>CO, LTD</td>\n      <td>GUOLIANG</td>\n      <td>CHEN</td>\n    </tr>\n  </tbody>\n</table>\n<p>1 rows × 28 columns</p>\n</div>"
     },
     "execution_count": 29,
     "metadata": {},
     "output_type": "execute_result"
    }
   ],
   "source": [
    "df_2016q2.loc[df_2016q2['Unnamed: 26'].notnull()]"
   ],
   "metadata": {
    "collapsed": false,
    "pycharm": {
     "name": "#%%\n"
    }
   }
  },
  {
   "cell_type": "code",
   "execution_count": 30,
   "outputs": [
    {
     "data": {
      "text/plain": "     Control\\nNumber Species\\nCode        Genus   Species Subspecies  \\\n214       2016836500          LIVA  LITOPENAEUS  VANNAMEI        NaN   \n\n    Specific\\nName Generic\\nName Wildlf\\nDesc Wildlf\\nCat  Cartons  ...  Act  \\\n214       WHITELEG        SHRIMP          LIV         CRS    200.0  ...    C   \n\n    Dp\\nCd  Disp\\nDate Ship\\nDate I\\nE Pt\\nCd  \\\n214      C  2016-03-31 2016-04-01    E     MI   \n\n                           Unnamed: 24 Unnamed: 25 Unnamed: 26 Unnamed: 27  \n214  AQUACULTURE BIOSCIENCE TECHNOLOGY     CO, LTD    GUOLIANG        CHEN  \n\n[1 rows x 28 columns]",
      "text/html": "<div>\n<style scoped>\n    .dataframe tbody tr th:only-of-type {\n        vertical-align: middle;\n    }\n\n    .dataframe tbody tr th {\n        vertical-align: top;\n    }\n\n    .dataframe thead th {\n        text-align: right;\n    }\n</style>\n<table border=\"1\" class=\"dataframe\">\n  <thead>\n    <tr style=\"text-align: right;\">\n      <th></th>\n      <th>Control\\nNumber</th>\n      <th>Species\\nCode</th>\n      <th>Genus</th>\n      <th>Species</th>\n      <th>Subspecies</th>\n      <th>Specific\\nName</th>\n      <th>Generic\\nName</th>\n      <th>Wildlf\\nDesc</th>\n      <th>Wildlf\\nCat</th>\n      <th>Cartons</th>\n      <th>...</th>\n      <th>Act</th>\n      <th>Dp\\nCd</th>\n      <th>Disp\\nDate</th>\n      <th>Ship\\nDate</th>\n      <th>I\\nE</th>\n      <th>Pt\\nCd</th>\n      <th>Unnamed: 24</th>\n      <th>Unnamed: 25</th>\n      <th>Unnamed: 26</th>\n      <th>Unnamed: 27</th>\n    </tr>\n  </thead>\n  <tbody>\n    <tr>\n      <th>214</th>\n      <td>2016836500</td>\n      <td>LIVA</td>\n      <td>LITOPENAEUS</td>\n      <td>VANNAMEI</td>\n      <td>NaN</td>\n      <td>WHITELEG</td>\n      <td>SHRIMP</td>\n      <td>LIV</td>\n      <td>CRS</td>\n      <td>200.0</td>\n      <td>...</td>\n      <td>C</td>\n      <td>C</td>\n      <td>2016-03-31</td>\n      <td>2016-04-01</td>\n      <td>E</td>\n      <td>MI</td>\n      <td>AQUACULTURE BIOSCIENCE TECHNOLOGY</td>\n      <td>CO, LTD</td>\n      <td>GUOLIANG</td>\n      <td>CHEN</td>\n    </tr>\n  </tbody>\n</table>\n<p>1 rows × 28 columns</p>\n</div>"
     },
     "execution_count": 30,
     "metadata": {},
     "output_type": "execute_result"
    }
   ],
   "source": [
    "df_2016q2.loc[df_2016q2['Unnamed: 27'].notnull()]"
   ],
   "metadata": {
    "collapsed": false,
    "pycharm": {
     "name": "#%%\n"
    }
   }
  },
  {
   "cell_type": "code",
   "execution_count": 32,
   "outputs": [
    {
     "data": {
      "text/plain": "       Control\\nNumber Species\\nCode     Genus Species Subspecies  \\\n57599       2017123351          PIMX  PINCTADA  MAXIMA        NaN   \n57600       2017123351          HDIS  HALIOTIS  DISCUS        NaN   \n\n      Specific\\nName Generic\\nName Wildlf\\nDesc Wildlf\\nCat  Cartons  ...  \\\n57599       GOLD-LIP        OYSTER          SPR         MOL      2.0  ...   \n57600           DISK       ABALONE          SPR         MOL      2.0  ...   \n\n       Purp Src  Trans Mode Act Dp\\nCd Disp\\nDate Ship\\nDate I\\nE Pt\\nCd  \\\n57599     T   C           A   C      C 2017-03-20 2017-03-20    E     MI   \n57600     T   W           A   C      C 2017-03-20 2017-03-20    E     MI   \n\n                  Unnamed: 24  \n57599  BLUE WATER SHIP ESPANA  \n57600  BLUE WATER SHIP ESPANA  \n\n[2 rows x 25 columns]",
      "text/html": "<div>\n<style scoped>\n    .dataframe tbody tr th:only-of-type {\n        vertical-align: middle;\n    }\n\n    .dataframe tbody tr th {\n        vertical-align: top;\n    }\n\n    .dataframe thead th {\n        text-align: right;\n    }\n</style>\n<table border=\"1\" class=\"dataframe\">\n  <thead>\n    <tr style=\"text-align: right;\">\n      <th></th>\n      <th>Control\\nNumber</th>\n      <th>Species\\nCode</th>\n      <th>Genus</th>\n      <th>Species</th>\n      <th>Subspecies</th>\n      <th>Specific\\nName</th>\n      <th>Generic\\nName</th>\n      <th>Wildlf\\nDesc</th>\n      <th>Wildlf\\nCat</th>\n      <th>Cartons</th>\n      <th>...</th>\n      <th>Purp</th>\n      <th>Src</th>\n      <th>Trans Mode</th>\n      <th>Act</th>\n      <th>Dp\\nCd</th>\n      <th>Disp\\nDate</th>\n      <th>Ship\\nDate</th>\n      <th>I\\nE</th>\n      <th>Pt\\nCd</th>\n      <th>Unnamed: 24</th>\n    </tr>\n  </thead>\n  <tbody>\n    <tr>\n      <th>57599</th>\n      <td>2017123351</td>\n      <td>PIMX</td>\n      <td>PINCTADA</td>\n      <td>MAXIMA</td>\n      <td>NaN</td>\n      <td>GOLD-LIP</td>\n      <td>OYSTER</td>\n      <td>SPR</td>\n      <td>MOL</td>\n      <td>2.0</td>\n      <td>...</td>\n      <td>T</td>\n      <td>C</td>\n      <td>A</td>\n      <td>C</td>\n      <td>C</td>\n      <td>2017-03-20</td>\n      <td>2017-03-20</td>\n      <td>E</td>\n      <td>MI</td>\n      <td>BLUE WATER SHIP ESPANA</td>\n    </tr>\n    <tr>\n      <th>57600</th>\n      <td>2017123351</td>\n      <td>HDIS</td>\n      <td>HALIOTIS</td>\n      <td>DISCUS</td>\n      <td>NaN</td>\n      <td>DISK</td>\n      <td>ABALONE</td>\n      <td>SPR</td>\n      <td>MOL</td>\n      <td>2.0</td>\n      <td>...</td>\n      <td>T</td>\n      <td>W</td>\n      <td>A</td>\n      <td>C</td>\n      <td>C</td>\n      <td>2017-03-20</td>\n      <td>2017-03-20</td>\n      <td>E</td>\n      <td>MI</td>\n      <td>BLUE WATER SHIP ESPANA</td>\n    </tr>\n  </tbody>\n</table>\n<p>2 rows × 25 columns</p>\n</div>"
     },
     "execution_count": 32,
     "metadata": {},
     "output_type": "execute_result"
    }
   ],
   "source": [
    "#2017_q1\n",
    "df_2017q1.loc[df_2017q1['Unnamed: 24'].notnull()]"
   ],
   "metadata": {
    "collapsed": false,
    "pycharm": {
     "name": "#%%\n"
    }
   }
  },
  {
   "cell_type": "code",
   "execution_count": 36,
   "outputs": [
    {
     "name": "stdout",
     "output_type": "stream",
     "text": [
      "(29937, 25)\n",
      "(126657, 25)\n"
     ]
    }
   ],
   "source": [
    "#2019_q3\n",
    "print(df_2019q3.loc[df_2019q3['FSR First Name'].notnull()].shape)\n",
    "print(df_2019q3.shape)"
   ],
   "metadata": {
    "collapsed": false,
    "pycharm": {
     "name": "#%%\n"
    }
   }
  },
  {
   "cell_type": "code",
   "execution_count": 37,
   "outputs": [
    {
     "data": {
      "text/plain": "        Control\\nNumber Species\\nCode           Genus           Species  \\\n41           2019569071          NONL  NONCITES ENTRY               NaN   \n62           2019570460          RBRB           URSUS            ARCTOS   \n63           2019570460          CARI        RANGIFER          TARANDUS   \n64           2019570875          ALLM       ALLIGATOR  MISSISSIPPIENSIS   \n68           2019571138          WDER      ODOCOILEUS       VIRGINIANUS   \n...                 ...           ...             ...               ...   \n126652       2020754740          DEFU     ANDINOBATES        FULGURITUS   \n126653       2020754740          DEMI     ANDINOBATES           MINUTUS   \n126654       2020754740          DEAU     DENDROBATES           AURATUS   \n126655       2020754740          DEFU     ANDINOBATES        FULGURITUS   \n126656       2020754740          DEMI     ANDINOBATES           MINUTUS   \n\n       Subspecies  Specific\\nName      Generic\\nName Wildlf\\nDesc Wildlf\\nCat  \\\n41            NaN             NaN         CRUSTACEAN          SPE         CRS   \n62            NaN           BROWN               BEAR          TRO         MAM   \n63            NaN             NaN           REINDEER          TRO         MAM   \n64            NaN        AMERICAN          ALLIGATOR          LPS         REP   \n68            NaN    WHITE-TAILED               DEER          SKI         MAM   \n...           ...             ...                ...          ...         ...   \n126652        NaN  YELLOW-BELLIED  POISON-ARROW FROG          SPE         AMP   \n126653        NaN    BLUE-BELLIED  POISON-ARROW FROG          SPE         AMP   \n126654        NaN           GREEN  POISON-ARROW FROG          SPE         AMP   \n126655        NaN  YELLOW-BELLIED  POISON-ARROW FROG          SPE         AMP   \n126656        NaN    BLUE-BELLIED  POISON-ARROW FROG          SPE         AMP   \n\n        Cartons  ...  Purp Src  Trans Mode Act Dp\\nCd Disp\\nDate Ship\\nDate  \\\n41          1.0  ...     S   W           P   C      C 2019-06-21 2019-07-24   \n62          1.0  ...     P   W           A   C      C 2019-06-25 2019-07-01   \n63          1.0  ...     P   W           A   C      C 2019-06-25 2019-07-01   \n64          1.0  ...     T   W           A   C      C 2019-06-25 2019-07-01   \n68          0.0  ...     T   W           O   C      C 2019-06-25 2019-07-03   \n...         ...  ...   ...  ..         ...  ..    ...        ...        ...   \n126652    360.0  ...     S   W           P   C      C 2020-07-07 2019-08-29   \n126653    360.0  ...     S   W           P   C      C 2020-07-07 2019-08-29   \n126654    360.0  ...     S   W           P   C      C 2020-07-07 2019-08-29   \n126655    360.0  ...     S   W           P   C      C 2020-07-07 2019-08-29   \n126656    360.0  ...     S   W           P   C      C 2020-07-07 2019-08-29   \n\n       I\\nE Pt\\nCd FSR First Name  \n41        E     OR       DR MARCO  \n62        E     NY            PER  \n63        E     NY            PER  \n64        E     MI          JULIO  \n68        E     NW           TODD  \n...     ...    ...            ...  \n126652    I     TP         EDMUND  \n126653    I     TP         EDMUND  \n126654    I     TP         EDMUND  \n126655    I     TP         EDMUND  \n126656    I     TP         EDMUND  \n\n[29937 rows x 25 columns]",
      "text/html": "<div>\n<style scoped>\n    .dataframe tbody tr th:only-of-type {\n        vertical-align: middle;\n    }\n\n    .dataframe tbody tr th {\n        vertical-align: top;\n    }\n\n    .dataframe thead th {\n        text-align: right;\n    }\n</style>\n<table border=\"1\" class=\"dataframe\">\n  <thead>\n    <tr style=\"text-align: right;\">\n      <th></th>\n      <th>Control\\nNumber</th>\n      <th>Species\\nCode</th>\n      <th>Genus</th>\n      <th>Species</th>\n      <th>Subspecies</th>\n      <th>Specific\\nName</th>\n      <th>Generic\\nName</th>\n      <th>Wildlf\\nDesc</th>\n      <th>Wildlf\\nCat</th>\n      <th>Cartons</th>\n      <th>...</th>\n      <th>Purp</th>\n      <th>Src</th>\n      <th>Trans Mode</th>\n      <th>Act</th>\n      <th>Dp\\nCd</th>\n      <th>Disp\\nDate</th>\n      <th>Ship\\nDate</th>\n      <th>I\\nE</th>\n      <th>Pt\\nCd</th>\n      <th>FSR First Name</th>\n    </tr>\n  </thead>\n  <tbody>\n    <tr>\n      <th>41</th>\n      <td>2019569071</td>\n      <td>NONL</td>\n      <td>NONCITES ENTRY</td>\n      <td>NaN</td>\n      <td>NaN</td>\n      <td>NaN</td>\n      <td>CRUSTACEAN</td>\n      <td>SPE</td>\n      <td>CRS</td>\n      <td>1.0</td>\n      <td>...</td>\n      <td>S</td>\n      <td>W</td>\n      <td>P</td>\n      <td>C</td>\n      <td>C</td>\n      <td>2019-06-21</td>\n      <td>2019-07-24</td>\n      <td>E</td>\n      <td>OR</td>\n      <td>DR MARCO</td>\n    </tr>\n    <tr>\n      <th>62</th>\n      <td>2019570460</td>\n      <td>RBRB</td>\n      <td>URSUS</td>\n      <td>ARCTOS</td>\n      <td>NaN</td>\n      <td>BROWN</td>\n      <td>BEAR</td>\n      <td>TRO</td>\n      <td>MAM</td>\n      <td>1.0</td>\n      <td>...</td>\n      <td>P</td>\n      <td>W</td>\n      <td>A</td>\n      <td>C</td>\n      <td>C</td>\n      <td>2019-06-25</td>\n      <td>2019-07-01</td>\n      <td>E</td>\n      <td>NY</td>\n      <td>PER</td>\n    </tr>\n    <tr>\n      <th>63</th>\n      <td>2019570460</td>\n      <td>CARI</td>\n      <td>RANGIFER</td>\n      <td>TARANDUS</td>\n      <td>NaN</td>\n      <td>NaN</td>\n      <td>REINDEER</td>\n      <td>TRO</td>\n      <td>MAM</td>\n      <td>1.0</td>\n      <td>...</td>\n      <td>P</td>\n      <td>W</td>\n      <td>A</td>\n      <td>C</td>\n      <td>C</td>\n      <td>2019-06-25</td>\n      <td>2019-07-01</td>\n      <td>E</td>\n      <td>NY</td>\n      <td>PER</td>\n    </tr>\n    <tr>\n      <th>64</th>\n      <td>2019570875</td>\n      <td>ALLM</td>\n      <td>ALLIGATOR</td>\n      <td>MISSISSIPPIENSIS</td>\n      <td>NaN</td>\n      <td>AMERICAN</td>\n      <td>ALLIGATOR</td>\n      <td>LPS</td>\n      <td>REP</td>\n      <td>1.0</td>\n      <td>...</td>\n      <td>T</td>\n      <td>W</td>\n      <td>A</td>\n      <td>C</td>\n      <td>C</td>\n      <td>2019-06-25</td>\n      <td>2019-07-01</td>\n      <td>E</td>\n      <td>MI</td>\n      <td>JULIO</td>\n    </tr>\n    <tr>\n      <th>68</th>\n      <td>2019571138</td>\n      <td>WDER</td>\n      <td>ODOCOILEUS</td>\n      <td>VIRGINIANUS</td>\n      <td>NaN</td>\n      <td>WHITE-TAILED</td>\n      <td>DEER</td>\n      <td>SKI</td>\n      <td>MAM</td>\n      <td>0.0</td>\n      <td>...</td>\n      <td>T</td>\n      <td>W</td>\n      <td>O</td>\n      <td>C</td>\n      <td>C</td>\n      <td>2019-06-25</td>\n      <td>2019-07-03</td>\n      <td>E</td>\n      <td>NW</td>\n      <td>TODD</td>\n    </tr>\n    <tr>\n      <th>...</th>\n      <td>...</td>\n      <td>...</td>\n      <td>...</td>\n      <td>...</td>\n      <td>...</td>\n      <td>...</td>\n      <td>...</td>\n      <td>...</td>\n      <td>...</td>\n      <td>...</td>\n      <td>...</td>\n      <td>...</td>\n      <td>...</td>\n      <td>...</td>\n      <td>...</td>\n      <td>...</td>\n      <td>...</td>\n      <td>...</td>\n      <td>...</td>\n      <td>...</td>\n      <td>...</td>\n    </tr>\n    <tr>\n      <th>126652</th>\n      <td>2020754740</td>\n      <td>DEFU</td>\n      <td>ANDINOBATES</td>\n      <td>FULGURITUS</td>\n      <td>NaN</td>\n      <td>YELLOW-BELLIED</td>\n      <td>POISON-ARROW FROG</td>\n      <td>SPE</td>\n      <td>AMP</td>\n      <td>360.0</td>\n      <td>...</td>\n      <td>S</td>\n      <td>W</td>\n      <td>P</td>\n      <td>C</td>\n      <td>C</td>\n      <td>2020-07-07</td>\n      <td>2019-08-29</td>\n      <td>I</td>\n      <td>TP</td>\n      <td>EDMUND</td>\n    </tr>\n    <tr>\n      <th>126653</th>\n      <td>2020754740</td>\n      <td>DEMI</td>\n      <td>ANDINOBATES</td>\n      <td>MINUTUS</td>\n      <td>NaN</td>\n      <td>BLUE-BELLIED</td>\n      <td>POISON-ARROW FROG</td>\n      <td>SPE</td>\n      <td>AMP</td>\n      <td>360.0</td>\n      <td>...</td>\n      <td>S</td>\n      <td>W</td>\n      <td>P</td>\n      <td>C</td>\n      <td>C</td>\n      <td>2020-07-07</td>\n      <td>2019-08-29</td>\n      <td>I</td>\n      <td>TP</td>\n      <td>EDMUND</td>\n    </tr>\n    <tr>\n      <th>126654</th>\n      <td>2020754740</td>\n      <td>DEAU</td>\n      <td>DENDROBATES</td>\n      <td>AURATUS</td>\n      <td>NaN</td>\n      <td>GREEN</td>\n      <td>POISON-ARROW FROG</td>\n      <td>SPE</td>\n      <td>AMP</td>\n      <td>360.0</td>\n      <td>...</td>\n      <td>S</td>\n      <td>W</td>\n      <td>P</td>\n      <td>C</td>\n      <td>C</td>\n      <td>2020-07-07</td>\n      <td>2019-08-29</td>\n      <td>I</td>\n      <td>TP</td>\n      <td>EDMUND</td>\n    </tr>\n    <tr>\n      <th>126655</th>\n      <td>2020754740</td>\n      <td>DEFU</td>\n      <td>ANDINOBATES</td>\n      <td>FULGURITUS</td>\n      <td>NaN</td>\n      <td>YELLOW-BELLIED</td>\n      <td>POISON-ARROW FROG</td>\n      <td>SPE</td>\n      <td>AMP</td>\n      <td>360.0</td>\n      <td>...</td>\n      <td>S</td>\n      <td>W</td>\n      <td>P</td>\n      <td>C</td>\n      <td>C</td>\n      <td>2020-07-07</td>\n      <td>2019-08-29</td>\n      <td>I</td>\n      <td>TP</td>\n      <td>EDMUND</td>\n    </tr>\n    <tr>\n      <th>126656</th>\n      <td>2020754740</td>\n      <td>DEMI</td>\n      <td>ANDINOBATES</td>\n      <td>MINUTUS</td>\n      <td>NaN</td>\n      <td>BLUE-BELLIED</td>\n      <td>POISON-ARROW FROG</td>\n      <td>SPE</td>\n      <td>AMP</td>\n      <td>360.0</td>\n      <td>...</td>\n      <td>S</td>\n      <td>W</td>\n      <td>P</td>\n      <td>C</td>\n      <td>C</td>\n      <td>2020-07-07</td>\n      <td>2019-08-29</td>\n      <td>I</td>\n      <td>TP</td>\n      <td>EDMUND</td>\n    </tr>\n  </tbody>\n</table>\n<p>29937 rows × 25 columns</p>\n</div>"
     },
     "execution_count": 37,
     "metadata": {},
     "output_type": "execute_result"
    }
   ],
   "source": [
    "df_2019q3.loc[df_2019q3['FSR First Name'].notnull()]"
   ],
   "metadata": {
    "collapsed": false,
    "pycharm": {
     "name": "#%%\n"
    }
   }
  },
  {
   "cell_type": "code",
   "execution_count": null,
   "outputs": [],
   "source": [
    "print(df_2019q3.loc[df_2019q3['FSR First Name'].notnull()]"
   ],
   "metadata": {
    "collapsed": false,
    "pycharm": {
     "name": "#%%\n"
    }
   }
  },
  {
   "cell_type": "code",
   "execution_count": 38,
   "outputs": [
    {
     "data": {
      "text/plain": "              field code                                     value\n0       description  BAL                                    Baleen\n1       description  BAR  Bark (raw, dried, powdered, unprocessed)\n2       description  BOC                   Bone product or carving\n3       description  BOD                Dead animal (whole animal)\n4       description  BON    Bones (including jaws, but not skulls)\n..              ...  ...                                       ...\n464  transport_mode   OM                               Ocean cargo\n465  transport_mode    P             Personal accompanying baggage\n466  transport_mode    R                                      Rail\n467  transport_mode    T       Truck (or other commercial vehicle)\n468  transport_mode    V                          Personal vehicle\n\n[469 rows x 3 columns]",
      "text/html": "<div>\n<style scoped>\n    .dataframe tbody tr th:only-of-type {\n        vertical-align: middle;\n    }\n\n    .dataframe tbody tr th {\n        vertical-align: top;\n    }\n\n    .dataframe thead th {\n        text-align: right;\n    }\n</style>\n<table border=\"1\" class=\"dataframe\">\n  <thead>\n    <tr style=\"text-align: right;\">\n      <th></th>\n      <th>field</th>\n      <th>code</th>\n      <th>value</th>\n    </tr>\n  </thead>\n  <tbody>\n    <tr>\n      <th>0</th>\n      <td>description</td>\n      <td>BAL</td>\n      <td>Baleen</td>\n    </tr>\n    <tr>\n      <th>1</th>\n      <td>description</td>\n      <td>BAR</td>\n      <td>Bark (raw, dried, powdered, unprocessed)</td>\n    </tr>\n    <tr>\n      <th>2</th>\n      <td>description</td>\n      <td>BOC</td>\n      <td>Bone product or carving</td>\n    </tr>\n    <tr>\n      <th>3</th>\n      <td>description</td>\n      <td>BOD</td>\n      <td>Dead animal (whole animal)</td>\n    </tr>\n    <tr>\n      <th>4</th>\n      <td>description</td>\n      <td>BON</td>\n      <td>Bones (including jaws, but not skulls)</td>\n    </tr>\n    <tr>\n      <th>...</th>\n      <td>...</td>\n      <td>...</td>\n      <td>...</td>\n    </tr>\n    <tr>\n      <th>464</th>\n      <td>transport_mode</td>\n      <td>OM</td>\n      <td>Ocean cargo</td>\n    </tr>\n    <tr>\n      <th>465</th>\n      <td>transport_mode</td>\n      <td>P</td>\n      <td>Personal accompanying baggage</td>\n    </tr>\n    <tr>\n      <th>466</th>\n      <td>transport_mode</td>\n      <td>R</td>\n      <td>Rail</td>\n    </tr>\n    <tr>\n      <th>467</th>\n      <td>transport_mode</td>\n      <td>T</td>\n      <td>Truck (or other commercial vehicle)</td>\n    </tr>\n    <tr>\n      <th>468</th>\n      <td>transport_mode</td>\n      <td>V</td>\n      <td>Personal vehicle</td>\n    </tr>\n  </tbody>\n</table>\n<p>469 rows × 3 columns</p>\n</div>"
     },
     "execution_count": 38,
     "metadata": {},
     "output_type": "execute_result"
    }
   ],
   "source": [
    "df_key"
   ],
   "metadata": {
    "collapsed": false,
    "pycharm": {
     "name": "#%%\n"
    }
   }
  }
 ],
 "metadata": {
  "kernelspec": {
   "display_name": "Python 3",
   "language": "python",
   "name": "python3"
  },
  "language_info": {
   "codemirror_mode": {
    "name": "ipython",
    "version": 2
   },
   "file_extension": ".py",
   "mimetype": "text/x-python",
   "name": "python",
   "nbconvert_exporter": "python",
   "pygments_lexer": "ipython2",
   "version": "2.7.6"
  }
 },
 "nbformat": 4,
 "nbformat_minor": 0
}