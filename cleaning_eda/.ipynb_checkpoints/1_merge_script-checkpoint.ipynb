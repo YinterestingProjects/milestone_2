{
 "cells": [
  {
   "cell_type": "code",
   "execution_count": 1,
   "id": "117bba7b-7d3c-4e5c-80ea-785b751c64bb",
   "metadata": {},
   "outputs": [],
   "source": [
    "import pandas as pd\n",
    "import numpy as np\n",
    "import os"
   ]
  },
  {
   "cell_type": "code",
   "execution_count": 11,
   "id": "d7edb515-bd69-4da5-bdb2-e023600be5b9",
   "metadata": {},
   "outputs": [
    {
     "data": {
      "text/plain": [
       "['DecDetail.FOIA-FWS-2020-00366_Easter-2018Q2.2020.07.09.xlsx',\n",
       " '2019Q2.xlsx',\n",
       " '2019Q3.xlsx',\n",
       " 'DecDetail.FOIA-FWS-2020-00366_Easter-2017Q1.2020.07.09.xlsx',\n",
       " 'DecDetail.FOIA-FWS-2020-00366_Easter-2016Q1.2020.07.08.xlsx',\n",
       " '2020Q1.xlsx',\n",
       " 'DecDetail.FOIA-FWS-2020-00366_Easter-2018Q4.2020.07.09.xlsx',\n",
       " 'DecDetail.FOIA-FWS-2020-00366_Easter-2018Q3.2020.07.09.xlsx',\n",
       " 'key_2016.csv',\n",
       " 'DecDetail.FOIA-FWS-2020-00366_Easter-2017Q2.2020.07.09.xlsx',\n",
       " 'DecDetail.FOIA-FWS-2020-00366_Easter-2016Q2.2020.07.08.xlsx',\n",
       " 'consolidated_data_2016_2020.csv',\n",
       " 'DecDetail.FOIA-FWS-2020-00366_Easter-2018Q1.2020.07.09.xlsx',\n",
       " '2020Q2.xlsx',\n",
       " 'DecDetail.FOIA-FWS-2020-00366_Easter-2016Q4.2020.07.08.xlsx',\n",
       " 'DecDetail.FOIA-FWS-2020-00366_Easter-2017Q4.2020.07.09.xlsx',\n",
       " 'DecDetail.FOIA-FWS-2020-00366_Easter-2017Q3.2020.07.09.xlsx',\n",
       " '2019Q1.xlsx',\n",
       " 'DecDetail.FOIA-FWS-2020-00366_Easter-2016Q3.2020.07.08.xlsx']"
      ]
     },
     "execution_count": 11,
     "metadata": {},
     "output_type": "execute_result"
    }
   ],
   "source": [
    "path = './data/Tara'\n",
    "data = [f for f in os.listdir(path) if f.endswith('.xlsx') or f.endswith('.csv')]\n",
    "data"
   ]
  },
  {
   "cell_type": "code",
   "execution_count": null,
   "id": "35474dfe-f4a1-4cc1-b578-bc4cf03e35b3",
   "metadata": {},
   "outputs": [],
   "source": [
    "keep_cols = ['Control\\nNumber', 'Species\\nCode', 'Genus', 'Species','Subspecies','Specific\\nName', 'Generic\\nName', 'Wildlf\\nDesc', 'Wildlf\\nCat','Cartons', 'Qty', 'Unit', 'Value', 'Ctry\\nOrg', 'Ctry\\nIE', 'Purp','Src', 'Trans Mode', 'Act', 'Dp\\nCd', 'Disp\\nDate', 'Ship\\nDate','I\\nE', 'Pt\\nCd']\n",
    "dtype_mapping = {'Control\\nNumber': np.int64,\n",
    "                'Cartons': np.float64, \n",
    "                'Qty': np.float64,  \n",
    "                'Value': np.float64\n",
    "               }"
   ]
  },
  {
   "cell_type": "code",
   "execution_count": null,
   "id": "39d6db8d-9ea1-4571-941a-663abac4a972",
   "metadata": {},
   "outputs": [],
   "source": [
    "data_dict = {}\n",
    "\n",
    "for file in data[0]:\n",
    "    raw_df = pd.read_excel()"
   ]
  },
  {
   "cell_type": "code",
   "execution_count": null,
   "id": "dc9dd7f6-eb4f-420c-9941-56dd79d411bd",
   "metadata": {},
   "outputs": [],
   "source": [
    "import_path = 'Lemis Data/Imports 05-16/'\n",
    "export_path = 'Lemis Data/Exports 05-16/'\n",
    "imports = [f for f in os.listdir(import_path)]\n",
    "exports = [f for f in os.listdir(export_path)]\n",
    "lemis_imports_dict = {}\n",
    "lemis_exports_dict = {}\n",
    "\n",
    "for file in imports:\n",
    "    year = re.findall(r'\\d+', file)[0]\n",
    "    import_df = pd.read_csv(f'{import_path}{file}', encoding='ISO-8859-1')\n",
    "    lemis_imports_dict[file] = import_df\n",
    "    \n",
    "for file in exports:\n",
    "    year = re.findall(r'\\d+', file)[0]\n",
    "    export_df = pd.read_csv(f'{export_path}{file}', encoding='ISO-8859-1')\n",
    "    lemis_exports_dict[file] = export_df\n",
    "    \n",
    "lemis_import = pd.concat(lemis_imports_dict.values(), ignore_index=True)\n",
    "lemis_export = pd.concat(lemis_exports_dict.values(), ignore_index=True)"
   ]
  }
 ],
 "metadata": {
  "kernelspec": {
   "display_name": "Python 3 (ipykernel)",
   "language": "python",
   "name": "python3"
  },
  "language_info": {
   "codemirror_mode": {
    "name": "ipython",
    "version": 3
   },
   "file_extension": ".py",
   "mimetype": "text/x-python",
   "name": "python",
   "nbconvert_exporter": "python",
   "pygments_lexer": "ipython3",
   "version": "3.10.4"
  }
 },
 "nbformat": 4,
 "nbformat_minor": 5
}
