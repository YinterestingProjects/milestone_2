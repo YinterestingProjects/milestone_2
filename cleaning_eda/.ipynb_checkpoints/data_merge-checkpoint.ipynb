{
 "cells": [
  {
   "cell_type": "code",
   "execution_count": 1,
   "metadata": {
    "collapsed": true,
    "pycharm": {
     "name": "#%%\n"
    }
   },
   "outputs": [],
   "source": [
    "# imports\n",
    "import pandas as pd"
   ]
  },
  {
   "cell_type": "code",
   "execution_count": 2,
   "outputs": [],
   "source": [
    "# bring in files\n",
    "df_2016q1 = pd.read_excel(\"./Data/Tara/DecDetail.FOIA-FWS-2020-00366_Easter-2016Q1.2020.07.08.xlsx\")\n",
    "df_2016q2 = pd.read_excel(\"./Data/Tara/DecDetail.FOIA-FWS-2020-00366_Easter-2016Q2.2020.07.08.xlsx\")\n",
    "df_2016q3 = pd.read_excel(\"./Data/Tara/DecDetail.FOIA-FWS-2020-00366_Easter-2016Q3.2020.07.08.xlsx\")\n",
    "df_2016q4 = pd.read_excel(\"./Data/Tara/DecDetail.FOIA-FWS-2020-00366_Easter-2016Q4.2020.07.08.xlsx\")\n",
    "df_2017q1 = pd.read_excel(\"./Data/Tara/DecDetail.FOIA-FWS-2020-00366_Easter-2017Q1.2020.07.09.xlsx\")\n",
    "df_2017q2 = pd.read_excel(\"./Data/Tara/DecDetail.FOIA-FWS-2020-00366_Easter-2017Q2.2020.07.09.xlsx\")\n",
    "df_2017q3 = pd.read_excel(\"./Data/Tara/DecDetail.FOIA-FWS-2020-00366_Easter-2017Q3.2020.07.09.xlsx\")\n",
    "df_2017q4 = pd.read_excel(\"./Data/Tara/DecDetail.FOIA-FWS-2020-00366_Easter-2017Q4.2020.07.09.xlsx\")\n",
    "df_2018q1 = pd.read_excel(\"./Data/Tara/DecDetail.FOIA-FWS-2020-00366_Easter-2018Q1.2020.07.09.xlsx\")\n",
    "df_2018q2 = pd.read_excel(\"./Data/Tara/DecDetail.FOIA-FWS-2020-00366_Easter-2018Q2.2020.07.09.xlsx\")\n",
    "df_2018q3 = pd.read_excel(\"./Data/Tara/DecDetail.FOIA-FWS-2020-00366_Easter-2018Q3.2020.07.09.xlsx\")\n",
    "df_2018q4 = pd.read_excel(\"./Data/Tara/DecDetail.FOIA-FWS-2020-00366_Easter-2018Q4.2020.07.09.xlsx\")\n",
    "df_2019q1 = pd.read_excel(\"./Data/Tara/2019Q1.xlsx\")\n",
    "df_2019q2 = pd.read_excel(\"./Data/Tara/2019Q2.xlsx\")\n",
    "df_2019q3 = pd.read_excel(\"./Data/Tara/2019Q3.xlsx\")\n",
    "df_2020q1 = pd.read_excel(\"./Data/Tara/2020Q1.xlsx\")\n",
    "df_2020q2 = pd.read_excel(\"./Data/Tara/2020Q2.xlsx\")"
   ],
   "metadata": {
    "collapsed": false,
    "pycharm": {
     "name": "#%%\n"
    }
   }
  },
  {
   "cell_type": "code",
   "execution_count": 3,
   "outputs": [],
   "source": [
    "# remove extraneous columns\n",
    "# df_2016q2\n",
    "df_2016q2 = df_2016q2.drop(columns=['Unnamed: 24', 'Unnamed: 25', 'Unnamed: 26', 'Unnamed: 27'])\n",
    "# df_2017q1\n",
    "df_2017q1 = df_2017q1.drop(columns=['Unnamed: 24'])\n",
    "# df_2019q3\n",
    "df_2019q3 = df_2019q3.drop(columns=['FSR First Name'])"
   ],
   "metadata": {
    "collapsed": false,
    "pycharm": {
     "name": "#%%\n"
    }
   }
  },
  {
   "cell_type": "code",
   "execution_count": 14,
   "outputs": [
    {
     "name": "stdout",
     "output_type": "stream",
     "text": [
      "Writing df_2016q1 to csv.\n",
      "Completed df_2016q1. 124213 rows written to file.\n",
      "Writing df_2016q2 to csv.\n",
      "Completed df_2016q2. 128419 rows written to file.\n",
      "Writing df_2016q3 to csv.\n",
      "Completed df_2016q3. 127418 rows written to file.\n",
      "Writing df_2016q4 to csv.\n",
      "Completed df_2016q4. 132914 rows written to file.\n",
      "Writing df_2017q1 to csv.\n",
      "Completed df_2017q1. 123338 rows written to file.\n",
      "Writing df_2017q2 to csv.\n",
      "Completed df_2017q2. 128532 rows written to file.\n",
      "Writing df_2017q3 to csv.\n",
      "Completed df_2017q3. 130381 rows written to file.\n",
      "Writing df_2017q4 to csv.\n",
      "Completed df_2017q4. 137486 rows written to file.\n",
      "Writing df_2018q1 to csv.\n",
      "Completed df_2018q1. 137486 rows written to file.\n",
      "Writing df_2018q2 to csv.\n",
      "Completed df_2018q2. 127703 rows written to file.\n",
      "Writing df_2018q3 to csv.\n",
      "Completed df_2018q3. 128814 rows written to file.\n",
      "Writing df_2018q4 to csv.\n",
      "Completed df_2018q4. 137119 rows written to file.\n",
      "Writing df_2019q1 to csv.\n",
      "Completed df_2019q1. 117432 rows written to file.\n",
      "Writing df_2019q2 to csv.\n",
      "Completed df_2019q2. 126986 rows written to file.\n",
      "Writing df_2019q3 to csv.\n",
      "Completed df_2019q3. 126657 rows written to file.\n",
      "Writing df_2020q1 to csv.\n",
      "Completed df_2020q1. 106877 rows written to file.\n",
      "Writing df_2020q2 to csv.\n",
      "Completed df_2020q2. 51730 rows written to file.\n",
      "Finished file writing. 2093505 rows written.\n"
     ]
    }
   ],
   "source": [
    "# write to csv\n",
    "df_list = [df_2016q1, df_2016q2, df_2016q3, df_2016q4, df_2017q1, df_2017q2, df_2017q3, df_2017q4, df_2018q1,\n",
    "           df_2018q2, df_2018q3, df_2018q4, df_2019q1, df_2019q2, df_2019q3, df_2020q1, df_2020q2]\n",
    "\n",
    "df_names = [\"df_2016q1\", \"df_2016q2\", \"df_2016q3\", \"df_2016q4\", \"df_2017q1\", \"df_2017q2\", \"df_2017q3\", \"df_2017q4\", \"df_2018q1\",\n",
    "            \"df_2018q2\", \"df_2018q3\", \"df_2018q4\", \"df_2019q1\", \"df_2019q2\", \"df_2019q3\", \"df_2020q1\", \"df_2020q2\"]\n",
    "\n",
    "row_count = 0\n",
    "# open file and append dfs to it\n",
    "with open('./Data/Tara/consolidated_data_2016_2020.csv','a') as f:\n",
    "    for idx, df in enumerate(df_list):\n",
    "        print(\"Writing {} to csv.\".format(df_names[idx]))\n",
    "        df.to_csv(f, index=False)\n",
    "        f.write(\"\\n\")\n",
    "        print(\"Completed {}. {} rows written to file.\".format(df_names[idx], df.shape[0]))\n",
    "        row_count += df.shape[0]\n",
    "print(\"Finished file writing. {} rows written.\".format(row_count))"
   ],
   "metadata": {
    "collapsed": false,
    "pycharm": {
     "name": "#%%\n"
    }
   }
  }
 ],
 "metadata": {
  "kernelspec": {
   "display_name": "Python 3",
   "language": "python",
   "name": "python3"
  },
  "language_info": {
   "codemirror_mode": {
    "name": "ipython",
    "version": 2
   },
   "file_extension": ".py",
   "mimetype": "text/x-python",
   "name": "python",
   "nbconvert_exporter": "python",
   "pygments_lexer": "ipython2",
   "version": "2.7.6"
  }
 },
 "nbformat": 4,
 "nbformat_minor": 0
}