{
 "cells": [
  {
   "cell_type": "markdown",
   "id": "b026e043-954c-4ce3-b4c0-40913ff43bb2",
   "metadata": {},
   "source": [
    "### Cleaning Script for 2016 - 2020 Data"
   ]
  },
  {
   "cell_type": "code",
   "execution_count": 1,
   "id": "3ceb70d0-f96e-4fff-baaa-6e61a698c61b",
   "metadata": {},
   "outputs": [],
   "source": [
    "import pandas as pd\n",
    "import numpy as np\n",
    "import cleaner as cln"
   ]
  },
  {
   "cell_type": "markdown",
   "id": "935565bd-1baa-4341-924d-155c79cf8c55",
   "metadata": {
    "tags": []
   },
   "source": [
    "#### data cleaning\n",
    "0. feature clean up\n",
    "1. process units (pending)\n",
    "2. duplicate handling\n",
    "3. process nulls\n",
    "4. process dates"
   ]
  },
  {
   "cell_type": "code",
   "execution_count": 2,
   "id": "5164ffd0-1c60-4bee-803f-ccefaf90f58e",
   "metadata": {},
   "outputs": [],
   "source": [
    "def cleaning_pipeline(file_path):\n",
    "    \n",
    "    df = pd.read_csv(file_path)\n",
    "    print('Begin cleaning...')\n",
    "      \n",
    "    print('Feature clean up...')\n",
    "    df = cln.process_columns(df)\n",
    "    \n",
    "    print('Cleaning duplicated rows...')\n",
    "    df = cln.process_duplicated_rows(df)\n",
    "    \n",
    "    print('Cleaning units...')\n",
    "    df = cln.process_units(df)\n",
    "    \n",
    "    print('Cleaning null values...')\n",
    "    df = cln.cleanup_nulls(df)\n",
    "    \n",
    "    print('Cleaning dates...')\n",
    "    df = cln.process_dates(df)\n",
    "\n",
    "    return df"
   ]
  },
  {
   "cell_type": "code",
   "execution_count": 3,
   "id": "e21b0187-4856-435a-93f4-935bd1d1ed4e",
   "metadata": {},
   "outputs": [
    {
     "name": "stdout",
     "output_type": "stream",
     "text": [
      "Begin cleaning...\n",
      "Feature clean up...\n",
      "Dropped cols: ['Unnamed: 0', 'subspecies', 'specific_name', 'generic_name']\n",
      "Cleaning duplicated rows...\n",
      "Number of duplicated rows 203,373 out of 2,093,505 total rows\n",
      "Rows remaining 1,890,132\n",
      "Cleaning units...\n",
      "Cleaning null values...\n",
      "Cleaning dates...\n"
     ]
    }
   ],
   "source": [
    "p = '../data/'\n",
    "input_name = 'consolidated_data_2016_2020.csv'\n",
    "output_name = 'cleaned.csv'\n",
    "\n",
    "df = cleaning_pipeline(f'{p}{input_name}')"
   ]
  },
  {
   "cell_type": "code",
   "execution_count": 4,
   "id": "b9b141df-b111-4b09-babb-9e449ff8cc7c",
   "metadata": {},
   "outputs": [],
   "source": [
    "imf_data = \"IMF_GDP_per_capita.csv\"\n",
    "imf = pd.read_csv(f'{p}{imf_data}', usecols=['Country','2020'])"
   ]
  },
  {
   "cell_type": "code",
   "execution_count": 5,
   "id": "897c845a-37d3-47cd-96ae-58ff46c88452",
   "metadata": {},
   "outputs": [],
   "source": [
    "ctry_key = \"key_2016.csv\"\n",
    "ctry = pd.read_csv(f'{p}{ctry_key}', encoding=\"cp1252\").drop([275,286,287,288,289,290,291])\n",
    "ctry = ctry[ctry['field']=='country']"
   ]
  },
  {
   "cell_type": "code",
   "execution_count": 6,
   "id": "a9517a85-afe6-475e-8630-c63016dbe1f2",
   "metadata": {},
   "outputs": [],
   "source": [
    "df_final = cln.add_gdp_values(df, imf, ctry)"
   ]
  },
  {
   "cell_type": "code",
   "execution_count": 7,
   "id": "31eec74a-87c0-4fc4-a73c-9197ad67fdd0",
   "metadata": {},
   "outputs": [],
   "source": [
    "df_final.to_csv(f'{p}{output_name}',index=False)"
   ]
  },
  {
   "cell_type": "code",
   "execution_count": 8,
   "id": "445fcfbe-1402-4ff1-aac4-6f9765a8998d",
   "metadata": {},
   "outputs": [],
   "source": [
    "# process_units is hard coded at the moment"
   ]
  },
  {
   "cell_type": "code",
   "execution_count": 9,
   "id": "eef9c5c8-21d6-426e-82ea-31f5490b97cf",
   "metadata": {},
   "outputs": [],
   "source": [
    "# species name and specific name can be combined?\n",
    "# species_code with *"
   ]
  }
 ],
 "metadata": {
  "kernelspec": {
   "display_name": "Python 3 (ipykernel)",
   "language": "python",
   "name": "python3"
  },
  "language_info": {
   "codemirror_mode": {
    "name": "ipython",
    "version": 3
   },
   "file_extension": ".py",
   "mimetype": "text/x-python",
   "name": "python",
   "nbconvert_exporter": "python",
   "pygments_lexer": "ipython3",
   "version": "3.8.13"
  }
 },
 "nbformat": 4,
 "nbformat_minor": 5
}
