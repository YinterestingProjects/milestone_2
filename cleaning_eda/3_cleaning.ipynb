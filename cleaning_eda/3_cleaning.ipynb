{
 "cells": [
  {
   "cell_type": "markdown",
   "id": "b026e043-954c-4ce3-b4c0-40913ff43bb2",
   "metadata": {},
   "source": [
    "### Cleaning Script for 2016 - 2020 Data"
   ]
  },
  {
   "cell_type": "code",
   "execution_count": 1,
   "id": "3ceb70d0-f96e-4fff-baaa-6e61a698c61b",
   "metadata": {},
   "outputs": [],
   "source": [
    "import pandas as pd\n",
    "import numpy as np\n",
    "import cleaner as cln"
   ]
  },
  {
   "cell_type": "markdown",
   "id": "935565bd-1baa-4341-924d-155c79cf8c55",
   "metadata": {
    "tags": []
   },
   "source": [
    "#### data cleaning\n",
    "0. feature clean up\n",
    "1. process units (pending)\n",
    "2. duplicate handling\n",
    "3. process nulls\n",
    "4. process dates"
   ]
  },
  {
   "cell_type": "code",
   "execution_count": 2,
   "id": "5164ffd0-1c60-4bee-803f-ccefaf90f58e",
   "metadata": {},
   "outputs": [],
   "source": [
    "def cleaning_pipeline(file_path):\n",
    "    \n",
    "    df = pd.read_csv(file_path)\n",
    "    print('Begin cleaning...')\n",
    "      \n",
    "    print('Feature clean up...')\n",
    "    df = cln.process_columns(df)\n",
    "    \n",
    "    print('Cleaning duplicated rows...')\n",
    "    df = cln.process_duplicated_rows(df)\n",
    "    \n",
    "    print('Cleaning units...')\n",
    "    df = cln.process_units(df)\n",
    "    \n",
    "    print('Cleaning null values...')\n",
    "    df = cln.cleanup_nulls(df)\n",
    "    \n",
    "    print('Cleaning dates...')\n",
    "    df = cln.process_dates(df)\n",
    "\n",
    "    return df"
   ]
  },
  {
   "cell_type": "code",
   "execution_count": 3,
   "id": "e21b0187-4856-435a-93f4-935bd1d1ed4e",
   "metadata": {},
   "outputs": [
    {
     "name": "stdout",
     "output_type": "stream",
     "text": [
      "Begin cleaning...\n",
      "Feature clean up...\n",
      "Dropped cols: ['Unnamed: 0', 'subspecies', 'specific_name', 'generic_name']\n",
      "Cleaning duplicated rows...\n",
      "Number of duplicated rows 203,373 out of 2,093,505 total rows\n",
      "Rows remaining 1,890,132\n",
      "Cleaning units...\n",
      "Cleaning null values...\n",
      "Cleaning dates...\n"
     ]
    }
   ],
   "source": [
    "p = '../data/'\n",
    "input_name = 'consolidated_data_2016_2020.csv'\n",
    "output_name = 'cleaned.csv'\n",
    "\n",
    "df = cleaning_pipeline(f'{p}{input_name}')"
   ]
  },
  {
   "cell_type": "code",
   "execution_count": 12,
   "id": "b9b141df-b111-4b09-babb-9e449ff8cc7c",
   "metadata": {},
   "outputs": [],
   "source": [
    "imf_data = \"IMF_GDP_per_capita.csv\"\n",
    "imf = pd.read_csv(f'{p}{imf_data}', usecols=['Country','2020'])"
   ]
  },
  {
   "cell_type": "code",
   "execution_count": 13,
   "id": "897c845a-37d3-47cd-96ae-58ff46c88452",
   "metadata": {},
   "outputs": [],
   "source": [
    "ctry_key = \"key_2016.csv\"\n",
    "ctry = pd.read_csv(f'{p}{ctry_key}', encoding=\"cp1252\").drop([275,286,287,288,289,290,291])\n",
    "ctry = ctry[ctry['field']=='country']"
   ]
  },
  {
   "cell_type": "code",
   "execution_count": 14,
   "id": "a9517a85-afe6-475e-8630-c63016dbe1f2",
   "metadata": {},
   "outputs": [],
   "source": [
    "df_final = cln.add_gdp_values(df, imf, ctry)"
   ]
  },
  {
   "cell_type": "code",
   "execution_count": 15,
   "id": "31eec74a-87c0-4fc4-a73c-9197ad67fdd0",
   "metadata": {},
   "outputs": [],
   "source": [
    "df_final.to_csv(f'{p}{output_name}',index=False)"
   ]
  },
  {
   "cell_type": "code",
   "execution_count": 16,
   "id": "445fcfbe-1402-4ff1-aac4-6f9765a8998d",
   "metadata": {},
   "outputs": [],
   "source": [
    "# process_units is hard coded at the moment"
   ]
  },
  {
   "cell_type": "code",
   "execution_count": 17,
   "id": "eef9c5c8-21d6-426e-82ea-31f5490b97cf",
   "metadata": {},
   "outputs": [],
   "source": [
    "# species name and specific name can be combined?\n",
    "# species_code with *"
   ]
  },
  {
   "cell_type": "code",
   "execution_count": 18,
   "id": "6b65af37-d0a1-4242-9b2d-e98f17c56f5f",
   "metadata": {},
   "outputs": [
    {
     "data": {
      "text/plain": [
       "Index(['control_number', 'species_code', 'genus', 'species', 'wildlf_desc',\n",
       "       'wildlf_cat', 'cartons', 'qty', 'unit', 'value_x', 'ctry_org',\n",
       "       'ctry_ie', 'purp', 'src', 'trans_mode', 'act', 'dp_cd', 'disp_date',\n",
       "       'ship_date', 'i_e', 'pt_cd', 'specific_generic_name', 'unit_NO',\n",
       "       'unit_KG', 'unit_LT', 'unit_MT', 'unit_M2', 'qty_new', 'ship_date_yyyy',\n",
       "       'ship_date_mm', 'ctry_ie_name', '2020GDP'],\n",
       "      dtype='object')"
      ]
     },
     "execution_count": 18,
     "metadata": {},
     "output_type": "execute_result"
    }
   ],
   "source": [
    "df_final.columns"
   ]
  },
  {
   "cell_type": "code",
   "execution_count": 19,
   "id": "6e4603d7-dedb-4772-a0c0-7de0cdfd0e95",
   "metadata": {},
   "outputs": [
    {
     "data": {
      "text/html": [
       "<div>\n",
       "<style scoped>\n",
       "    .dataframe tbody tr th:only-of-type {\n",
       "        vertical-align: middle;\n",
       "    }\n",
       "\n",
       "    .dataframe tbody tr th {\n",
       "        vertical-align: top;\n",
       "    }\n",
       "\n",
       "    .dataframe thead th {\n",
       "        text-align: right;\n",
       "    }\n",
       "</style>\n",
       "<table border=\"1\" class=\"dataframe\">\n",
       "  <thead>\n",
       "    <tr style=\"text-align: right;\">\n",
       "      <th></th>\n",
       "      <th>control_number</th>\n",
       "      <th>species_code</th>\n",
       "      <th>genus</th>\n",
       "      <th>species</th>\n",
       "      <th>wildlf_desc</th>\n",
       "      <th>wildlf_cat</th>\n",
       "      <th>cartons</th>\n",
       "      <th>qty</th>\n",
       "      <th>unit</th>\n",
       "      <th>value_x</th>\n",
       "      <th>...</th>\n",
       "      <th>unit_NO</th>\n",
       "      <th>unit_KG</th>\n",
       "      <th>unit_LT</th>\n",
       "      <th>unit_MT</th>\n",
       "      <th>unit_M2</th>\n",
       "      <th>qty_new</th>\n",
       "      <th>ship_date_yyyy</th>\n",
       "      <th>ship_date_mm</th>\n",
       "      <th>ctry_ie_name</th>\n",
       "      <th>2020GDP</th>\n",
       "    </tr>\n",
       "  </thead>\n",
       "  <tbody>\n",
       "    <tr>\n",
       "      <th>0</th>\n",
       "      <td>2018280858</td>\n",
       "      <td>WDER</td>\n",
       "      <td>ODOCOILEUS</td>\n",
       "      <td>VIRGINIANUS</td>\n",
       "      <td>MEA</td>\n",
       "      <td>MAM</td>\n",
       "      <td>NaN_cartons</td>\n",
       "      <td>1.0</td>\n",
       "      <td>NO</td>\n",
       "      <td>500.0</td>\n",
       "      <td>...</td>\n",
       "      <td>True</td>\n",
       "      <td>False</td>\n",
       "      <td>False</td>\n",
       "      <td>False</td>\n",
       "      <td>False</td>\n",
       "      <td>1.0</td>\n",
       "      <td>2018</td>\n",
       "      <td>6</td>\n",
       "      <td>Mexico</td>\n",
       "      <td>8506.909</td>\n",
       "    </tr>\n",
       "    <tr>\n",
       "      <th>1</th>\n",
       "      <td>2018301780</td>\n",
       "      <td>BLBE</td>\n",
       "      <td>URSUS</td>\n",
       "      <td>AMERICANUS</td>\n",
       "      <td>TRO</td>\n",
       "      <td>MAM</td>\n",
       "      <td>NaN_cartons</td>\n",
       "      <td>1.0</td>\n",
       "      <td>NO</td>\n",
       "      <td>0.0</td>\n",
       "      <td>...</td>\n",
       "      <td>True</td>\n",
       "      <td>False</td>\n",
       "      <td>False</td>\n",
       "      <td>False</td>\n",
       "      <td>False</td>\n",
       "      <td>1.0</td>\n",
       "      <td>2018</td>\n",
       "      <td>6</td>\n",
       "      <td>Canada</td>\n",
       "      <td>43306.635</td>\n",
       "    </tr>\n",
       "    <tr>\n",
       "      <th>2</th>\n",
       "      <td>2018311221</td>\n",
       "      <td>BAEA</td>\n",
       "      <td>HALIAEETUS</td>\n",
       "      <td>LEUCOCEPHALUS</td>\n",
       "      <td>FEA</td>\n",
       "      <td>EGL</td>\n",
       "      <td>NaN_cartons</td>\n",
       "      <td>2.0</td>\n",
       "      <td>NO</td>\n",
       "      <td>0.0</td>\n",
       "      <td>...</td>\n",
       "      <td>True</td>\n",
       "      <td>False</td>\n",
       "      <td>False</td>\n",
       "      <td>False</td>\n",
       "      <td>False</td>\n",
       "      <td>2.0</td>\n",
       "      <td>2018</td>\n",
       "      <td>6</td>\n",
       "      <td>Mexico</td>\n",
       "      <td>8506.909</td>\n",
       "    </tr>\n",
       "    <tr>\n",
       "      <th>3</th>\n",
       "      <td>2018311221</td>\n",
       "      <td>FEHA</td>\n",
       "      <td>BUTEO</td>\n",
       "      <td>REGALIS</td>\n",
       "      <td>FEA</td>\n",
       "      <td>RAP</td>\n",
       "      <td>NaN_cartons</td>\n",
       "      <td>2.0</td>\n",
       "      <td>NO</td>\n",
       "      <td>0.0</td>\n",
       "      <td>...</td>\n",
       "      <td>True</td>\n",
       "      <td>False</td>\n",
       "      <td>False</td>\n",
       "      <td>False</td>\n",
       "      <td>False</td>\n",
       "      <td>2.0</td>\n",
       "      <td>2018</td>\n",
       "      <td>6</td>\n",
       "      <td>Mexico</td>\n",
       "      <td>8506.909</td>\n",
       "    </tr>\n",
       "    <tr>\n",
       "      <th>4</th>\n",
       "      <td>2018311221</td>\n",
       "      <td>BAOW</td>\n",
       "      <td>TYTO</td>\n",
       "      <td>ALBA</td>\n",
       "      <td>FEA</td>\n",
       "      <td>RAP</td>\n",
       "      <td>NaN_cartons</td>\n",
       "      <td>1.0</td>\n",
       "      <td>NO</td>\n",
       "      <td>0.0</td>\n",
       "      <td>...</td>\n",
       "      <td>True</td>\n",
       "      <td>False</td>\n",
       "      <td>False</td>\n",
       "      <td>False</td>\n",
       "      <td>False</td>\n",
       "      <td>1.0</td>\n",
       "      <td>2018</td>\n",
       "      <td>6</td>\n",
       "      <td>Mexico</td>\n",
       "      <td>8506.909</td>\n",
       "    </tr>\n",
       "  </tbody>\n",
       "</table>\n",
       "<p>5 rows × 32 columns</p>\n",
       "</div>"
      ],
      "text/plain": [
       "  control_number species_code       genus        species wildlf_desc  \\\n",
       "0     2018280858         WDER  ODOCOILEUS    VIRGINIANUS         MEA   \n",
       "1     2018301780         BLBE       URSUS     AMERICANUS         TRO   \n",
       "2     2018311221         BAEA  HALIAEETUS  LEUCOCEPHALUS         FEA   \n",
       "3     2018311221         FEHA       BUTEO        REGALIS         FEA   \n",
       "4     2018311221         BAOW        TYTO           ALBA         FEA   \n",
       "\n",
       "  wildlf_cat      cartons  qty unit value_x  ... unit_NO unit_KG unit_LT  \\\n",
       "0        MAM  NaN_cartons  1.0   NO   500.0  ...    True   False   False   \n",
       "1        MAM  NaN_cartons  1.0   NO     0.0  ...    True   False   False   \n",
       "2        EGL  NaN_cartons  2.0   NO     0.0  ...    True   False   False   \n",
       "3        RAP  NaN_cartons  2.0   NO     0.0  ...    True   False   False   \n",
       "4        RAP  NaN_cartons  1.0   NO     0.0  ...    True   False   False   \n",
       "\n",
       "  unit_MT unit_M2 qty_new ship_date_yyyy ship_date_mm ctry_ie_name    2020GDP  \n",
       "0   False   False     1.0           2018            6       Mexico   8506.909  \n",
       "1   False   False     1.0           2018            6       Canada  43306.635  \n",
       "2   False   False     2.0           2018            6       Mexico   8506.909  \n",
       "3   False   False     2.0           2018            6       Mexico   8506.909  \n",
       "4   False   False     1.0           2018            6       Mexico   8506.909  \n",
       "\n",
       "[5 rows x 32 columns]"
      ]
     },
     "execution_count": 19,
     "metadata": {},
     "output_type": "execute_result"
    }
   ],
   "source": [
    "df_final.head()"
   ]
  },
  {
   "cell_type": "code",
   "execution_count": 22,
   "id": "16f093a4-2500-4a18-b630-0e0d54e84551",
   "metadata": {},
   "outputs": [
    {
     "data": {
      "text/plain": [
       "str"
      ]
     },
     "execution_count": 22,
     "metadata": {},
     "output_type": "execute_result"
    }
   ],
   "source": [
    "type(df_final['ship_date_mm'][0])"
   ]
  },
  {
   "cell_type": "code",
   "execution_count": null,
   "id": "96bca790-a910-412e-849d-414baa6e543a",
   "metadata": {},
   "outputs": [],
   "source": []
  }
 ],
 "metadata": {
  "kernelspec": {
   "display_name": "Python 3 (ipykernel)",
   "language": "python",
   "name": "python3"
  },
  "language_info": {
   "codemirror_mode": {
    "name": "ipython",
    "version": 3
   },
   "file_extension": ".py",
   "mimetype": "text/x-python",
   "name": "python",
   "nbconvert_exporter": "python",
   "pygments_lexer": "ipython3",
   "version": "3.8.13"
  }
 },
 "nbformat": 4,
 "nbformat_minor": 5
}
