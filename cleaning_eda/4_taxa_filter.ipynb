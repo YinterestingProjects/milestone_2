{
 "cells": [
  {
   "cell_type": "markdown",
   "id": "3a351262-5643-4c0f-9a2b-d096c1ac4cff",
   "metadata": {},
   "source": [
    "## Genus filtering"
   ]
  },
  {
   "cell_type": "code",
   "execution_count": 1,
   "id": "abfbdb73-bb73-49ff-a17f-00edf42907c3",
   "metadata": {},
   "outputs": [],
   "source": [
    "import pandas as pd\n",
    "import numpy as np"
   ]
  },
  {
   "cell_type": "code",
   "execution_count": 3,
   "id": "3c020c4e-8266-4063-9dbd-4e4c85634ba7",
   "metadata": {},
   "outputs": [],
   "source": [
    "# read in data\n",
    "p = '../data/'\n",
    "input_name = 'cleaned.csv'\n",
    "\n",
    "df = pd.read_csv(f'{p}{input_name}')\n",
    "df['ship_date_mm'] = df['ship_date_mm'].astype(str)"
   ]
  },
  {
   "cell_type": "code",
   "execution_count": 10,
   "id": "e4e1f4c2-1a77-473e-9ea7-b521a11f46d6",
   "metadata": {},
   "outputs": [],
   "source": [
    "def create_genus_df(df, genus):\n",
    "    sub_df = df[df.genus == genus].copy()\n",
    "    \n",
    "    output_path = '../data/'\n",
    "    sub_df.to_csv(f'{output_path}{genus}.csv', index=False)"
   ]
  },
  {
   "cell_type": "code",
   "execution_count": 11,
   "id": "b0c876c9-1898-4973-9dfe-dc07203f3418",
   "metadata": {},
   "outputs": [],
   "source": [
    "create_genus_df(df, 'ALLIGATOR')\n",
    "create_genus_df(df, 'PYTHON')\n",
    "create_genus_df(df, 'HALIAEETUS')"
   ]
  },
  {
   "cell_type": "code",
   "execution_count": null,
   "id": "8ff8437c-85ed-408d-829d-1642a970012e",
   "metadata": {},
   "outputs": [],
   "source": []
  }
 ],
 "metadata": {
  "kernelspec": {
   "display_name": "Python 3 (ipykernel)",
   "language": "python",
   "name": "python3"
  },
  "language_info": {
   "codemirror_mode": {
    "name": "ipython",
    "version": 3
   },
   "file_extension": ".py",
   "mimetype": "text/x-python",
   "name": "python",
   "nbconvert_exporter": "python",
   "pygments_lexer": "ipython3",
   "version": "3.10.4"
  }
 },
 "nbformat": 4,
 "nbformat_minor": 5
}
