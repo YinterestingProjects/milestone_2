{
 "cells": [
  {
   "cell_type": "markdown",
   "id": "d5a7ca30-f1f6-48fb-9315-788c1d8e8e23",
   "metadata": {},
   "source": [
    "### Log Regression Model Tuning for 2016 - 2020 Data (imports)"
   ]
  },
  {
   "cell_type": "code",
   "execution_count": 1,
   "id": "e5b7908a-bbab-4133-bfdd-8a127e695741",
   "metadata": {
    "tags": []
   },
   "outputs": [],
   "source": [
    "import pandas as pd\n",
    "import numpy as np\n",
    "import seaborn as sns\n",
    "import modelinghelper as helper\n",
    "\n",
    "from sklearn.linear_model import LogisticRegression\n",
    "from sklearn.metrics import classification_report, confusion_matrix, ConfusionMatrixDisplay\n",
    "\n",
    "import joblib\n",
    "import os\n",
    "from datetime import datetime\n",
    "\n",
    "# supress future warnings\n",
    "import warnings\n",
    "warnings.filterwarnings(action='ignore', category=FutureWarning)"
   ]
  },
  {
   "cell_type": "code",
   "execution_count": 2,
   "id": "e18bde1e-1e5e-4ec1-8037-d78b160e8e96",
   "metadata": {},
   "outputs": [
    {
     "name": "stdout",
     "output_type": "stream",
     "text": [
      "Folder already exists\n"
     ]
    }
   ],
   "source": [
    "#set up random seed\n",
    "rng = 42\n",
    "\n",
    "# set up folder to save results\n",
    "output_path = 'import_run8_TargetEncoding_gridsearchCV'\n",
    "dataset = 'import'\n",
    "\n",
    "if not os.path.exists(output_path):\n",
    "    os.makedirs(output_path)\n",
    "else:\n",
    "    print(\"Folder already exists\")\n",
    "\n",
    "# file name\n",
    "prefix = f'{output_path}/{dataset}'"
   ]
  },
  {
   "cell_type": "code",
   "execution_count": 3,
   "id": "6019d607-4640-4f6f-9cea-fa1dfaeaf1e2",
   "metadata": {},
   "outputs": [],
   "source": [
    "# read in data\n",
    "p = '../data/'\n",
    "input_name = 'cleaned.csv'\n",
    "\n",
    "df = pd.read_csv(f'{p}{input_name}')"
   ]
  },
  {
   "cell_type": "code",
   "execution_count": 4,
   "id": "bc51ab93-bda1-4c29-852b-d67cce2eab5d",
   "metadata": {},
   "outputs": [],
   "source": [
    "df['ship_date_mm'] = df['ship_date_mm'].astype(str)"
   ]
  },
  {
   "cell_type": "code",
   "execution_count": 5,
   "id": "0fe15a1a-67d3-46a7-8068-d83651be856e",
   "metadata": {},
   "outputs": [
    {
     "data": {
      "text/html": [
       "<div>\n",
       "<style scoped>\n",
       "    .dataframe tbody tr th:only-of-type {\n",
       "        vertical-align: middle;\n",
       "    }\n",
       "\n",
       "    .dataframe tbody tr th {\n",
       "        vertical-align: top;\n",
       "    }\n",
       "\n",
       "    .dataframe thead th {\n",
       "        text-align: right;\n",
       "    }\n",
       "</style>\n",
       "<table border=\"1\" class=\"dataframe\">\n",
       "  <thead>\n",
       "    <tr style=\"text-align: right;\">\n",
       "      <th></th>\n",
       "      <th>control_number</th>\n",
       "      <th>qty</th>\n",
       "      <th>value</th>\n",
       "      <th>qty_new</th>\n",
       "      <th>ship_date_yyyy</th>\n",
       "    </tr>\n",
       "  </thead>\n",
       "  <tbody>\n",
       "    <tr>\n",
       "      <th>count</th>\n",
       "      <td>1.890132e+06</td>\n",
       "      <td>1.890132e+06</td>\n",
       "      <td>1.890132e+06</td>\n",
       "      <td>1.890132e+06</td>\n",
       "      <td>1.890132e+06</td>\n",
       "    </tr>\n",
       "    <tr>\n",
       "      <th>mean</th>\n",
       "      <td>2.018142e+09</td>\n",
       "      <td>1.955213e+06</td>\n",
       "      <td>9.658016e+03</td>\n",
       "      <td>1.954949e+06</td>\n",
       "      <td>2.017558e+03</td>\n",
       "    </tr>\n",
       "    <tr>\n",
       "      <th>std</th>\n",
       "      <td>1.263350e+06</td>\n",
       "      <td>2.644078e+08</td>\n",
       "      <td>9.355053e+05</td>\n",
       "      <td>2.644078e+08</td>\n",
       "      <td>1.279415e+00</td>\n",
       "    </tr>\n",
       "    <tr>\n",
       "      <th>min</th>\n",
       "      <td>2.014539e+09</td>\n",
       "      <td>-1.000000e+00</td>\n",
       "      <td>0.000000e+00</td>\n",
       "      <td>-1.000000e+00</td>\n",
       "      <td>2.016000e+03</td>\n",
       "    </tr>\n",
       "    <tr>\n",
       "      <th>25%</th>\n",
       "      <td>2.016978e+09</td>\n",
       "      <td>1.500000e+00</td>\n",
       "      <td>5.100000e+01</td>\n",
       "      <td>1.000000e+00</td>\n",
       "      <td>2.016000e+03</td>\n",
       "    </tr>\n",
       "    <tr>\n",
       "      <th>50%</th>\n",
       "      <td>2.017984e+09</td>\n",
       "      <td>9.000000e+00</td>\n",
       "      <td>3.180000e+02</td>\n",
       "      <td>8.000000e+00</td>\n",
       "      <td>2.017000e+03</td>\n",
       "    </tr>\n",
       "    <tr>\n",
       "      <th>75%</th>\n",
       "      <td>2.019505e+09</td>\n",
       "      <td>9.300000e+01</td>\n",
       "      <td>2.104000e+03</td>\n",
       "      <td>8.600000e+01</td>\n",
       "      <td>2.019000e+03</td>\n",
       "    </tr>\n",
       "    <tr>\n",
       "      <th>max</th>\n",
       "      <td>2.020755e+09</td>\n",
       "      <td>9.990708e+10</td>\n",
       "      <td>1.242236e+09</td>\n",
       "      <td>9.990708e+10</td>\n",
       "      <td>2.020000e+03</td>\n",
       "    </tr>\n",
       "  </tbody>\n",
       "</table>\n",
       "</div>"
      ],
      "text/plain": [
       "       control_number           qty         value       qty_new  \\\n",
       "count    1.890132e+06  1.890132e+06  1.890132e+06  1.890132e+06   \n",
       "mean     2.018142e+09  1.955213e+06  9.658016e+03  1.954949e+06   \n",
       "std      1.263350e+06  2.644078e+08  9.355053e+05  2.644078e+08   \n",
       "min      2.014539e+09 -1.000000e+00  0.000000e+00 -1.000000e+00   \n",
       "25%      2.016978e+09  1.500000e+00  5.100000e+01  1.000000e+00   \n",
       "50%      2.017984e+09  9.000000e+00  3.180000e+02  8.000000e+00   \n",
       "75%      2.019505e+09  9.300000e+01  2.104000e+03  8.600000e+01   \n",
       "max      2.020755e+09  9.990708e+10  1.242236e+09  9.990708e+10   \n",
       "\n",
       "       ship_date_yyyy  \n",
       "count    1.890132e+06  \n",
       "mean     2.017558e+03  \n",
       "std      1.279415e+00  \n",
       "min      2.016000e+03  \n",
       "25%      2.016000e+03  \n",
       "50%      2.017000e+03  \n",
       "75%      2.019000e+03  \n",
       "max      2.020000e+03  "
      ]
     },
     "execution_count": 5,
     "metadata": {},
     "output_type": "execute_result"
    }
   ],
   "source": [
    "df.describe()"
   ]
  },
  {
   "cell_type": "code",
   "execution_count": 6,
   "id": "de9c627f-4ffe-4dad-8c6e-085edb9a8fc2",
   "metadata": {},
   "outputs": [
    {
     "data": {
      "text/plain": [
       "(1590505, 12)"
      ]
     },
     "execution_count": 6,
     "metadata": {},
     "output_type": "execute_result"
    }
   ],
   "source": [
    "non_feature_cols = ['control_number', 'disp_date', 'i_e', 'ship_date', \n",
    "                    'cartons', 'qty', 'unit', 'specific_generic_name',\n",
    "                    'genus', 'species', 'wildlf_cat', \n",
    "                    'disp_date_yyyy', 'disp_date_mm', 'disp_ship_date']\n",
    "\n",
    "target = ['act', 'dp_cd']\n",
    "\n",
    "feature_cols = ['species_code', 'wildlf_desc', 'wildlf_cat',\n",
    "                'ctry_org', 'ctry_ie','purp', 'src', 'trans_mode', 'pt_cd', \n",
    "                 'value', 'ship_date_mm']\n",
    "\n",
    "import_df = helper.df_filtering(df, i_e = 'I', f_cols = feature_cols)\n",
    "# import: 1590505 rows × 11 columns\n",
    "# export: 299340 rows × 11 columns\n",
    "import_df.shape"
   ]
  },
  {
   "cell_type": "markdown",
   "id": "1dfbf9ef-939d-42c7-b88e-675494e808e0",
   "metadata": {
    "tags": []
   },
   "source": [
    "#### Modeling Pipeline"
   ]
  },
  {
   "cell_type": "code",
   "execution_count": 7,
   "id": "5b842f26-fc76-49f0-8656-c90aa89779cb",
   "metadata": {},
   "outputs": [],
   "source": [
    "X_train, X_test, y_train, y_test = helper.data_split(import_df)"
   ]
  },
  {
   "cell_type": "markdown",
   "id": "a2749336-21b6-4612-9547-45472ca5b850",
   "metadata": {
    "tags": []
   },
   "source": [
    "#### Log Regression"
   ]
  },
  {
   "cell_type": "code",
   "execution_count": null,
   "id": "513f8cdb-d71b-42bd-a856-1bfe06ab77a6",
   "metadata": {},
   "outputs": [
    {
     "name": "stdout",
     "output_type": "stream",
     "text": [
      "Fitting 5 folds for each of 112 candidates, totalling 560 fits\n",
      "[CV 1/5] END clf__C=0.1, clf__class_weight=None, clf__solver=lbfgs;, score=0.454 total time=  10.3s\n",
      "[CV 2/5] END clf__C=0.1, clf__class_weight=None, clf__solver=lbfgs;, score=0.463 total time=  10.4s\n",
      "[CV 3/5] END clf__C=0.1, clf__class_weight=None, clf__solver=lbfgs;, score=0.442 total time=  10.6s\n",
      "[CV 4/5] END clf__C=0.1, clf__class_weight=None, clf__solver=lbfgs;, score=0.446 total time=  11.0s\n",
      "[CV 5/5] END clf__C=0.1, clf__class_weight=None, clf__solver=lbfgs;, score=0.441 total time=  10.3s\n",
      "[CV 1/5] END clf__C=0.1, clf__class_weight=None, clf__solver=liblinear;, score=0.454 total time=  11.3s\n",
      "[CV 2/5] END clf__C=0.1, clf__class_weight=None, clf__solver=liblinear;, score=0.463 total time=  11.6s\n",
      "[CV 3/5] END clf__C=0.1, clf__class_weight=None, clf__solver=liblinear;, score=0.442 total time=  11.4s\n",
      "[CV 4/5] END clf__C=0.1, clf__class_weight=None, clf__solver=liblinear;, score=0.446 total time=  11.7s\n",
      "[CV 5/5] END clf__C=0.1, clf__class_weight=None, clf__solver=liblinear;, score=0.441 total time=  11.8s\n"
     ]
    },
    {
     "name": "stderr",
     "output_type": "stream",
     "text": [
      "/opt/anaconda3/envs/test_env/lib/python3.10/site-packages/sklearn/linear_model/_sag.py:350: ConvergenceWarning: The max_iter was reached which means the coef_ did not converge\n",
      "  warnings.warn(\n"
     ]
    },
    {
     "name": "stdout",
     "output_type": "stream",
     "text": [
      "[CV 1/5] END clf__C=0.1, clf__class_weight=None, clf__solver=sag;, score=0.450 total time=  47.3s\n"
     ]
    },
    {
     "name": "stderr",
     "output_type": "stream",
     "text": [
      "/opt/anaconda3/envs/test_env/lib/python3.10/site-packages/sklearn/linear_model/_sag.py:350: ConvergenceWarning: The max_iter was reached which means the coef_ did not converge\n",
      "  warnings.warn(\n"
     ]
    },
    {
     "name": "stdout",
     "output_type": "stream",
     "text": [
      "[CV 2/5] END clf__C=0.1, clf__class_weight=None, clf__solver=sag;, score=0.460 total time=  48.0s\n"
     ]
    },
    {
     "name": "stderr",
     "output_type": "stream",
     "text": [
      "/opt/anaconda3/envs/test_env/lib/python3.10/site-packages/sklearn/linear_model/_sag.py:350: ConvergenceWarning: The max_iter was reached which means the coef_ did not converge\n",
      "  warnings.warn(\n"
     ]
    },
    {
     "name": "stdout",
     "output_type": "stream",
     "text": [
      "[CV 3/5] END clf__C=0.1, clf__class_weight=None, clf__solver=sag;, score=0.440 total time=  47.8s\n"
     ]
    },
    {
     "name": "stderr",
     "output_type": "stream",
     "text": [
      "/opt/anaconda3/envs/test_env/lib/python3.10/site-packages/sklearn/linear_model/_sag.py:350: ConvergenceWarning: The max_iter was reached which means the coef_ did not converge\n",
      "  warnings.warn(\n"
     ]
    },
    {
     "name": "stdout",
     "output_type": "stream",
     "text": [
      "[CV 4/5] END clf__C=0.1, clf__class_weight=None, clf__solver=sag;, score=0.442 total time=  48.2s\n"
     ]
    },
    {
     "name": "stderr",
     "output_type": "stream",
     "text": [
      "/opt/anaconda3/envs/test_env/lib/python3.10/site-packages/sklearn/linear_model/_sag.py:350: ConvergenceWarning: The max_iter was reached which means the coef_ did not converge\n",
      "  warnings.warn(\n"
     ]
    },
    {
     "name": "stdout",
     "output_type": "stream",
     "text": [
      "[CV 5/5] END clf__C=0.1, clf__class_weight=None, clf__solver=sag;, score=0.437 total time=  48.2s\n"
     ]
    },
    {
     "name": "stderr",
     "output_type": "stream",
     "text": [
      "/opt/anaconda3/envs/test_env/lib/python3.10/site-packages/sklearn/linear_model/_sag.py:350: ConvergenceWarning: The max_iter was reached which means the coef_ did not converge\n",
      "  warnings.warn(\n"
     ]
    },
    {
     "name": "stdout",
     "output_type": "stream",
     "text": [
      "[CV 1/5] END clf__C=0.1, clf__class_weight=None, clf__solver=saga;, score=0.446 total time=  48.3s\n"
     ]
    },
    {
     "name": "stderr",
     "output_type": "stream",
     "text": [
      "/opt/anaconda3/envs/test_env/lib/python3.10/site-packages/sklearn/linear_model/_sag.py:350: ConvergenceWarning: The max_iter was reached which means the coef_ did not converge\n",
      "  warnings.warn(\n"
     ]
    },
    {
     "name": "stdout",
     "output_type": "stream",
     "text": [
      "[CV 2/5] END clf__C=0.1, clf__class_weight=None, clf__solver=saga;, score=0.455 total time=  49.2s\n"
     ]
    },
    {
     "name": "stderr",
     "output_type": "stream",
     "text": [
      "/opt/anaconda3/envs/test_env/lib/python3.10/site-packages/sklearn/linear_model/_sag.py:350: ConvergenceWarning: The max_iter was reached which means the coef_ did not converge\n",
      "  warnings.warn(\n"
     ]
    },
    {
     "name": "stdout",
     "output_type": "stream",
     "text": [
      "[CV 3/5] END clf__C=0.1, clf__class_weight=None, clf__solver=saga;, score=0.440 total time=  48.4s\n"
     ]
    },
    {
     "name": "stderr",
     "output_type": "stream",
     "text": [
      "/opt/anaconda3/envs/test_env/lib/python3.10/site-packages/sklearn/linear_model/_sag.py:350: ConvergenceWarning: The max_iter was reached which means the coef_ did not converge\n",
      "  warnings.warn(\n"
     ]
    },
    {
     "name": "stdout",
     "output_type": "stream",
     "text": [
      "[CV 4/5] END clf__C=0.1, clf__class_weight=None, clf__solver=saga;, score=0.438 total time=  52.4s\n"
     ]
    },
    {
     "name": "stderr",
     "output_type": "stream",
     "text": [
      "/opt/anaconda3/envs/test_env/lib/python3.10/site-packages/sklearn/linear_model/_sag.py:350: ConvergenceWarning: The max_iter was reached which means the coef_ did not converge\n",
      "  warnings.warn(\n"
     ]
    },
    {
     "name": "stdout",
     "output_type": "stream",
     "text": [
      "[CV 5/5] END clf__C=0.1, clf__class_weight=None, clf__solver=saga;, score=0.431 total time=  51.9s\n",
      "[CV 1/5] END clf__C=0.1, clf__class_weight=balanced, clf__solver=lbfgs;, score=0.761 total time=  10.5s\n",
      "[CV 2/5] END clf__C=0.1, clf__class_weight=balanced, clf__solver=lbfgs;, score=0.761 total time=  10.6s\n",
      "[CV 3/5] END clf__C=0.1, clf__class_weight=balanced, clf__solver=lbfgs;, score=0.755 total time=  10.5s\n",
      "[CV 4/5] END clf__C=0.1, clf__class_weight=balanced, clf__solver=lbfgs;, score=0.751 total time=  11.1s\n",
      "[CV 5/5] END clf__C=0.1, clf__class_weight=balanced, clf__solver=lbfgs;, score=0.749 total time=  10.9s\n",
      "[CV 1/5] END clf__C=0.1, clf__class_weight=balanced, clf__solver=liblinear;, score=0.761 total time=  11.5s\n",
      "[CV 2/5] END clf__C=0.1, clf__class_weight=balanced, clf__solver=liblinear;, score=0.761 total time=  11.8s\n",
      "[CV 3/5] END clf__C=0.1, clf__class_weight=balanced, clf__solver=liblinear;, score=0.755 total time=  11.4s\n",
      "[CV 4/5] END clf__C=0.1, clf__class_weight=balanced, clf__solver=liblinear;, score=0.751 total time=  11.6s\n",
      "[CV 5/5] END clf__C=0.1, clf__class_weight=balanced, clf__solver=liblinear;, score=0.749 total time=  11.9s\n"
     ]
    },
    {
     "name": "stderr",
     "output_type": "stream",
     "text": [
      "/opt/anaconda3/envs/test_env/lib/python3.10/site-packages/sklearn/linear_model/_sag.py:350: ConvergenceWarning: The max_iter was reached which means the coef_ did not converge\n",
      "  warnings.warn(\n"
     ]
    },
    {
     "name": "stdout",
     "output_type": "stream",
     "text": [
      "[CV 1/5] END clf__C=0.1, clf__class_weight=balanced, clf__solver=sag;, score=0.759 total time=  52.9s\n"
     ]
    },
    {
     "name": "stderr",
     "output_type": "stream",
     "text": [
      "/opt/anaconda3/envs/test_env/lib/python3.10/site-packages/sklearn/linear_model/_sag.py:350: ConvergenceWarning: The max_iter was reached which means the coef_ did not converge\n",
      "  warnings.warn(\n"
     ]
    },
    {
     "name": "stdout",
     "output_type": "stream",
     "text": [
      "[CV 2/5] END clf__C=0.1, clf__class_weight=balanced, clf__solver=sag;, score=0.760 total time=  53.8s\n",
      "[CV 3/5] END clf__C=0.1, clf__class_weight=balanced, clf__solver=sag;, score=0.755 total time=  20.3s\n"
     ]
    },
    {
     "name": "stderr",
     "output_type": "stream",
     "text": [
      "/opt/anaconda3/envs/test_env/lib/python3.10/site-packages/sklearn/linear_model/_sag.py:350: ConvergenceWarning: The max_iter was reached which means the coef_ did not converge\n",
      "  warnings.warn(\n"
     ]
    },
    {
     "name": "stdout",
     "output_type": "stream",
     "text": [
      "[CV 4/5] END clf__C=0.1, clf__class_weight=balanced, clf__solver=sag;, score=0.750 total time=  54.4s\n"
     ]
    },
    {
     "name": "stderr",
     "output_type": "stream",
     "text": [
      "/opt/anaconda3/envs/test_env/lib/python3.10/site-packages/sklearn/linear_model/_sag.py:350: ConvergenceWarning: The max_iter was reached which means the coef_ did not converge\n",
      "  warnings.warn(\n"
     ]
    },
    {
     "name": "stdout",
     "output_type": "stream",
     "text": [
      "[CV 5/5] END clf__C=0.1, clf__class_weight=balanced, clf__solver=sag;, score=0.748 total time=  53.1s\n"
     ]
    },
    {
     "name": "stderr",
     "output_type": "stream",
     "text": [
      "/opt/anaconda3/envs/test_env/lib/python3.10/site-packages/sklearn/linear_model/_sag.py:350: ConvergenceWarning: The max_iter was reached which means the coef_ did not converge\n",
      "  warnings.warn(\n"
     ]
    },
    {
     "name": "stdout",
     "output_type": "stream",
     "text": [
      "[CV 1/5] END clf__C=0.1, clf__class_weight=balanced, clf__solver=saga;, score=0.759 total time=  53.4s\n"
     ]
    },
    {
     "name": "stderr",
     "output_type": "stream",
     "text": [
      "/opt/anaconda3/envs/test_env/lib/python3.10/site-packages/sklearn/linear_model/_sag.py:350: ConvergenceWarning: The max_iter was reached which means the coef_ did not converge\n",
      "  warnings.warn(\n"
     ]
    },
    {
     "name": "stdout",
     "output_type": "stream",
     "text": [
      "[CV 2/5] END clf__C=0.1, clf__class_weight=balanced, clf__solver=saga;, score=0.760 total time=  53.9s\n",
      "[CV 3/5] END clf__C=0.1, clf__class_weight=balanced, clf__solver=saga;, score=0.755 total time=  34.9s\n"
     ]
    },
    {
     "name": "stderr",
     "output_type": "stream",
     "text": [
      "/opt/anaconda3/envs/test_env/lib/python3.10/site-packages/sklearn/linear_model/_sag.py:350: ConvergenceWarning: The max_iter was reached which means the coef_ did not converge\n",
      "  warnings.warn(\n"
     ]
    },
    {
     "name": "stdout",
     "output_type": "stream",
     "text": [
      "[CV 4/5] END clf__C=0.1, clf__class_weight=balanced, clf__solver=saga;, score=0.750 total time=  53.8s\n"
     ]
    },
    {
     "name": "stderr",
     "output_type": "stream",
     "text": [
      "/opt/anaconda3/envs/test_env/lib/python3.10/site-packages/sklearn/linear_model/_sag.py:350: ConvergenceWarning: The max_iter was reached which means the coef_ did not converge\n",
      "  warnings.warn(\n"
     ]
    },
    {
     "name": "stdout",
     "output_type": "stream",
     "text": [
      "[CV 5/5] END clf__C=0.1, clf__class_weight=balanced, clf__solver=saga;, score=0.748 total time=  54.1s\n",
      "[CV 1/5] END clf__C=0.1, clf__class_weight={0: 100, 1: 1}, clf__solver=lbfgs;, score=0.108 total time=  11.8s\n",
      "[CV 2/5] END clf__C=0.1, clf__class_weight={0: 100, 1: 1}, clf__solver=lbfgs;, score=0.101 total time=  11.4s\n",
      "[CV 3/5] END clf__C=0.1, clf__class_weight={0: 100, 1: 1}, clf__solver=lbfgs;, score=0.092 total time=  11.5s\n",
      "[CV 4/5] END clf__C=0.1, clf__class_weight={0: 100, 1: 1}, clf__solver=lbfgs;, score=0.104 total time=  11.6s\n",
      "[CV 5/5] END clf__C=0.1, clf__class_weight={0: 100, 1: 1}, clf__solver=lbfgs;, score=0.094 total time=  11.7s\n",
      "[CV 1/5] END clf__C=0.1, clf__class_weight={0: 100, 1: 1}, clf__solver=liblinear;, score=0.108 total time=  12.7s\n",
      "[CV 2/5] END clf__C=0.1, clf__class_weight={0: 100, 1: 1}, clf__solver=liblinear;, score=0.101 total time=  12.3s\n",
      "[CV 3/5] END clf__C=0.1, clf__class_weight={0: 100, 1: 1}, clf__solver=liblinear;, score=0.092 total time=  11.8s\n",
      "[CV 4/5] END clf__C=0.1, clf__class_weight={0: 100, 1: 1}, clf__solver=liblinear;, score=0.103 total time=  11.7s\n",
      "[CV 5/5] END clf__C=0.1, clf__class_weight={0: 100, 1: 1}, clf__solver=liblinear;, score=0.094 total time=  12.3s\n"
     ]
    },
    {
     "name": "stderr",
     "output_type": "stream",
     "text": [
      "/opt/anaconda3/envs/test_env/lib/python3.10/site-packages/sklearn/linear_model/_sag.py:350: ConvergenceWarning: The max_iter was reached which means the coef_ did not converge\n",
      "  warnings.warn(\n"
     ]
    },
    {
     "name": "stdout",
     "output_type": "stream",
     "text": [
      "[CV 1/5] END clf__C=0.1, clf__class_weight={0: 100, 1: 1}, clf__solver=sag;, score=0.107 total time=  54.1s\n"
     ]
    },
    {
     "name": "stderr",
     "output_type": "stream",
     "text": [
      "/opt/anaconda3/envs/test_env/lib/python3.10/site-packages/sklearn/linear_model/_sag.py:350: ConvergenceWarning: The max_iter was reached which means the coef_ did not converge\n",
      "  warnings.warn(\n"
     ]
    },
    {
     "name": "stdout",
     "output_type": "stream",
     "text": [
      "[CV 2/5] END clf__C=0.1, clf__class_weight={0: 100, 1: 1}, clf__solver=sag;, score=0.105 total time=  53.1s\n"
     ]
    },
    {
     "name": "stderr",
     "output_type": "stream",
     "text": [
      "/opt/anaconda3/envs/test_env/lib/python3.10/site-packages/sklearn/linear_model/_sag.py:350: ConvergenceWarning: The max_iter was reached which means the coef_ did not converge\n",
      "  warnings.warn(\n"
     ]
    },
    {
     "name": "stdout",
     "output_type": "stream",
     "text": [
      "[CV 3/5] END clf__C=0.1, clf__class_weight={0: 100, 1: 1}, clf__solver=sag;, score=0.092 total time=  54.6s\n"
     ]
    },
    {
     "name": "stderr",
     "output_type": "stream",
     "text": [
      "/opt/anaconda3/envs/test_env/lib/python3.10/site-packages/sklearn/linear_model/_sag.py:350: ConvergenceWarning: The max_iter was reached which means the coef_ did not converge\n",
      "  warnings.warn(\n"
     ]
    },
    {
     "name": "stdout",
     "output_type": "stream",
     "text": [
      "[CV 4/5] END clf__C=0.1, clf__class_weight={0: 100, 1: 1}, clf__solver=sag;, score=0.102 total time=  53.3s\n"
     ]
    },
    {
     "name": "stderr",
     "output_type": "stream",
     "text": [
      "/opt/anaconda3/envs/test_env/lib/python3.10/site-packages/sklearn/linear_model/_sag.py:350: ConvergenceWarning: The max_iter was reached which means the coef_ did not converge\n",
      "  warnings.warn(\n"
     ]
    },
    {
     "name": "stdout",
     "output_type": "stream",
     "text": [
      "[CV 5/5] END clf__C=0.1, clf__class_weight={0: 100, 1: 1}, clf__solver=sag;, score=0.095 total time= 1.4min\n"
     ]
    },
    {
     "name": "stderr",
     "output_type": "stream",
     "text": [
      "/opt/anaconda3/envs/test_env/lib/python3.10/site-packages/sklearn/linear_model/_sag.py:350: ConvergenceWarning: The max_iter was reached which means the coef_ did not converge\n",
      "  warnings.warn(\n"
     ]
    },
    {
     "name": "stdout",
     "output_type": "stream",
     "text": [
      "[CV 1/5] END clf__C=0.1, clf__class_weight={0: 100, 1: 1}, clf__solver=saga;, score=0.097 total time= 1.3min\n"
     ]
    },
    {
     "name": "stderr",
     "output_type": "stream",
     "text": [
      "/opt/anaconda3/envs/test_env/lib/python3.10/site-packages/sklearn/linear_model/_sag.py:350: ConvergenceWarning: The max_iter was reached which means the coef_ did not converge\n",
      "  warnings.warn(\n"
     ]
    },
    {
     "name": "stdout",
     "output_type": "stream",
     "text": [
      "[CV 2/5] END clf__C=0.1, clf__class_weight={0: 100, 1: 1}, clf__solver=saga;, score=0.093 total time= 1.3min\n"
     ]
    },
    {
     "name": "stderr",
     "output_type": "stream",
     "text": [
      "/opt/anaconda3/envs/test_env/lib/python3.10/site-packages/sklearn/linear_model/_sag.py:350: ConvergenceWarning: The max_iter was reached which means the coef_ did not converge\n",
      "  warnings.warn(\n"
     ]
    },
    {
     "name": "stdout",
     "output_type": "stream",
     "text": [
      "[CV 3/5] END clf__C=0.1, clf__class_weight={0: 100, 1: 1}, clf__solver=saga;, score=0.091 total time= 5.8min\n"
     ]
    },
    {
     "name": "stderr",
     "output_type": "stream",
     "text": [
      "/opt/anaconda3/envs/test_env/lib/python3.10/site-packages/sklearn/linear_model/_sag.py:350: ConvergenceWarning: The max_iter was reached which means the coef_ did not converge\n",
      "  warnings.warn(\n"
     ]
    },
    {
     "name": "stdout",
     "output_type": "stream",
     "text": [
      "[CV 4/5] END clf__C=0.1, clf__class_weight={0: 100, 1: 1}, clf__solver=saga;, score=0.090 total time= 1.9min\n"
     ]
    },
    {
     "name": "stderr",
     "output_type": "stream",
     "text": [
      "/opt/anaconda3/envs/test_env/lib/python3.10/site-packages/sklearn/linear_model/_sag.py:350: ConvergenceWarning: The max_iter was reached which means the coef_ did not converge\n",
      "  warnings.warn(\n"
     ]
    },
    {
     "name": "stdout",
     "output_type": "stream",
     "text": [
      "[CV 5/5] END clf__C=0.1, clf__class_weight={0: 100, 1: 1}, clf__solver=saga;, score=0.085 total time=  53.6s\n",
      "[CV 1/5] END clf__C=0.1, clf__class_weight={0: 50, 1: 1}, clf__solver=lbfgs;, score=0.155 total time=  26.3s\n",
      "[CV 2/5] END clf__C=0.1, clf__class_weight={0: 50, 1: 1}, clf__solver=lbfgs;, score=0.157 total time=  11.0s\n",
      "[CV 3/5] END clf__C=0.1, clf__class_weight={0: 50, 1: 1}, clf__solver=lbfgs;, score=0.154 total time=  11.2s\n",
      "[CV 4/5] END clf__C=0.1, clf__class_weight={0: 50, 1: 1}, clf__solver=lbfgs;, score=0.154 total time=  11.5s\n",
      "[CV 5/5] END clf__C=0.1, clf__class_weight={0: 50, 1: 1}, clf__solver=lbfgs;, score=0.148 total time=  38.2s\n",
      "[CV 1/5] END clf__C=0.1, clf__class_weight={0: 50, 1: 1}, clf__solver=liblinear;, score=0.155 total time=  18.3s\n",
      "[CV 2/5] END clf__C=0.1, clf__class_weight={0: 50, 1: 1}, clf__solver=liblinear;, score=0.157 total time=  22.1s\n",
      "[CV 3/5] END clf__C=0.1, clf__class_weight={0: 50, 1: 1}, clf__solver=liblinear;, score=0.154 total time= 5.2min\n",
      "[CV 4/5] END clf__C=0.1, clf__class_weight={0: 50, 1: 1}, clf__solver=liblinear;, score=0.154 total time=  12.5s\n",
      "[CV 5/5] END clf__C=0.1, clf__class_weight={0: 50, 1: 1}, clf__solver=liblinear;, score=0.148 total time=  12.2s\n"
     ]
    },
    {
     "name": "stderr",
     "output_type": "stream",
     "text": [
      "/opt/anaconda3/envs/test_env/lib/python3.10/site-packages/sklearn/linear_model/_sag.py:350: ConvergenceWarning: The max_iter was reached which means the coef_ did not converge\n",
      "  warnings.warn(\n"
     ]
    },
    {
     "name": "stdout",
     "output_type": "stream",
     "text": [
      "[CV 1/5] END clf__C=0.1, clf__class_weight={0: 50, 1: 1}, clf__solver=sag;, score=0.152 total time=  49.9s\n"
     ]
    },
    {
     "name": "stderr",
     "output_type": "stream",
     "text": [
      "/opt/anaconda3/envs/test_env/lib/python3.10/site-packages/sklearn/linear_model/_sag.py:350: ConvergenceWarning: The max_iter was reached which means the coef_ did not converge\n",
      "  warnings.warn(\n"
     ]
    },
    {
     "name": "stdout",
     "output_type": "stream",
     "text": [
      "[CV 2/5] END clf__C=0.1, clf__class_weight={0: 50, 1: 1}, clf__solver=sag;, score=0.154 total time=  50.9s\n"
     ]
    },
    {
     "name": "stderr",
     "output_type": "stream",
     "text": [
      "/opt/anaconda3/envs/test_env/lib/python3.10/site-packages/sklearn/linear_model/_sag.py:350: ConvergenceWarning: The max_iter was reached which means the coef_ did not converge\n",
      "  warnings.warn(\n"
     ]
    },
    {
     "name": "stdout",
     "output_type": "stream",
     "text": [
      "[CV 3/5] END clf__C=0.1, clf__class_weight={0: 50, 1: 1}, clf__solver=sag;, score=0.153 total time= 5.8min\n"
     ]
    },
    {
     "name": "stderr",
     "output_type": "stream",
     "text": [
      "/opt/anaconda3/envs/test_env/lib/python3.10/site-packages/sklearn/linear_model/_sag.py:350: ConvergenceWarning: The max_iter was reached which means the coef_ did not converge\n",
      "  warnings.warn(\n"
     ]
    },
    {
     "name": "stdout",
     "output_type": "stream",
     "text": [
      "[CV 4/5] END clf__C=0.1, clf__class_weight={0: 50, 1: 1}, clf__solver=sag;, score=0.152 total time= 1.2min\n"
     ]
    },
    {
     "name": "stderr",
     "output_type": "stream",
     "text": [
      "/opt/anaconda3/envs/test_env/lib/python3.10/site-packages/sklearn/linear_model/_sag.py:350: ConvergenceWarning: The max_iter was reached which means the coef_ did not converge\n",
      "  warnings.warn(\n"
     ]
    },
    {
     "name": "stdout",
     "output_type": "stream",
     "text": [
      "[CV 5/5] END clf__C=0.1, clf__class_weight={0: 50, 1: 1}, clf__solver=sag;, score=0.146 total time=  49.6s\n"
     ]
    },
    {
     "name": "stderr",
     "output_type": "stream",
     "text": [
      "/opt/anaconda3/envs/test_env/lib/python3.10/site-packages/sklearn/linear_model/_sag.py:350: ConvergenceWarning: The max_iter was reached which means the coef_ did not converge\n",
      "  warnings.warn(\n"
     ]
    },
    {
     "name": "stdout",
     "output_type": "stream",
     "text": [
      "[CV 1/5] END clf__C=0.1, clf__class_weight={0: 50, 1: 1}, clf__solver=saga;, score=0.150 total time=  49.9s\n"
     ]
    },
    {
     "name": "stderr",
     "output_type": "stream",
     "text": [
      "/opt/anaconda3/envs/test_env/lib/python3.10/site-packages/sklearn/linear_model/_sag.py:350: ConvergenceWarning: The max_iter was reached which means the coef_ did not converge\n",
      "  warnings.warn(\n"
     ]
    },
    {
     "name": "stdout",
     "output_type": "stream",
     "text": [
      "[CV 2/5] END clf__C=0.1, clf__class_weight={0: 50, 1: 1}, clf__solver=saga;, score=0.152 total time=  49.3s\n"
     ]
    },
    {
     "name": "stderr",
     "output_type": "stream",
     "text": [
      "/opt/anaconda3/envs/test_env/lib/python3.10/site-packages/sklearn/linear_model/_sag.py:350: ConvergenceWarning: The max_iter was reached which means the coef_ did not converge\n",
      "  warnings.warn(\n"
     ]
    },
    {
     "name": "stdout",
     "output_type": "stream",
     "text": [
      "[CV 3/5] END clf__C=0.1, clf__class_weight={0: 50, 1: 1}, clf__solver=saga;, score=0.152 total time=  53.0s\n"
     ]
    },
    {
     "name": "stderr",
     "output_type": "stream",
     "text": [
      "/opt/anaconda3/envs/test_env/lib/python3.10/site-packages/sklearn/linear_model/_sag.py:350: ConvergenceWarning: The max_iter was reached which means the coef_ did not converge\n",
      "  warnings.warn(\n"
     ]
    },
    {
     "name": "stdout",
     "output_type": "stream",
     "text": [
      "[CV 4/5] END clf__C=0.1, clf__class_weight={0: 50, 1: 1}, clf__solver=saga;, score=0.151 total time=  54.8s\n"
     ]
    },
    {
     "name": "stderr",
     "output_type": "stream",
     "text": [
      "/opt/anaconda3/envs/test_env/lib/python3.10/site-packages/sklearn/linear_model/_sag.py:350: ConvergenceWarning: The max_iter was reached which means the coef_ did not converge\n",
      "  warnings.warn(\n"
     ]
    },
    {
     "name": "stdout",
     "output_type": "stream",
     "text": [
      "[CV 5/5] END clf__C=0.1, clf__class_weight={0: 50, 1: 1}, clf__solver=saga;, score=0.142 total time=  55.8s\n",
      "[CV 1/5] END clf__C=0.5, clf__class_weight=None, clf__solver=lbfgs;, score=0.454 total time=  12.8s\n",
      "[CV 2/5] END clf__C=0.5, clf__class_weight=None, clf__solver=lbfgs;, score=0.465 total time=  15.5s\n",
      "[CV 3/5] END clf__C=0.5, clf__class_weight=None, clf__solver=lbfgs;, score=0.443 total time=  20.7s\n",
      "[CV 4/5] END clf__C=0.5, clf__class_weight=None, clf__solver=lbfgs;, score=0.447 total time=  22.1s\n",
      "[CV 5/5] END clf__C=0.5, clf__class_weight=None, clf__solver=lbfgs;, score=0.442 total time=  22.8s\n",
      "[CV 1/5] END clf__C=0.5, clf__class_weight=None, clf__solver=liblinear;, score=0.454 total time=  15.1s\n",
      "[CV 2/5] END clf__C=0.5, clf__class_weight=None, clf__solver=liblinear;, score=0.465 total time=  12.0s\n",
      "[CV 3/5] END clf__C=0.5, clf__class_weight=None, clf__solver=liblinear;, score=0.443 total time=  11.9s\n",
      "[CV 4/5] END clf__C=0.5, clf__class_weight=None, clf__solver=liblinear;, score=0.446 total time=  11.9s\n",
      "[CV 5/5] END clf__C=0.5, clf__class_weight=None, clf__solver=liblinear;, score=0.442 total time=  12.3s\n"
     ]
    },
    {
     "name": "stderr",
     "output_type": "stream",
     "text": [
      "/opt/anaconda3/envs/test_env/lib/python3.10/site-packages/sklearn/linear_model/_sag.py:350: ConvergenceWarning: The max_iter was reached which means the coef_ did not converge\n",
      "  warnings.warn(\n"
     ]
    },
    {
     "name": "stdout",
     "output_type": "stream",
     "text": [
      "[CV 1/5] END clf__C=0.5, clf__class_weight=None, clf__solver=sag;, score=0.450 total time=  51.2s\n"
     ]
    },
    {
     "name": "stderr",
     "output_type": "stream",
     "text": [
      "/opt/anaconda3/envs/test_env/lib/python3.10/site-packages/sklearn/linear_model/_sag.py:350: ConvergenceWarning: The max_iter was reached which means the coef_ did not converge\n",
      "  warnings.warn(\n"
     ]
    },
    {
     "name": "stdout",
     "output_type": "stream",
     "text": [
      "[CV 2/5] END clf__C=0.5, clf__class_weight=None, clf__solver=sag;, score=0.460 total time=  51.8s\n"
     ]
    },
    {
     "name": "stderr",
     "output_type": "stream",
     "text": [
      "/opt/anaconda3/envs/test_env/lib/python3.10/site-packages/sklearn/linear_model/_sag.py:350: ConvergenceWarning: The max_iter was reached which means the coef_ did not converge\n",
      "  warnings.warn(\n"
     ]
    },
    {
     "name": "stdout",
     "output_type": "stream",
     "text": [
      "[CV 3/5] END clf__C=0.5, clf__class_weight=None, clf__solver=sag;, score=0.440 total time=  51.8s\n"
     ]
    },
    {
     "name": "stderr",
     "output_type": "stream",
     "text": [
      "/opt/anaconda3/envs/test_env/lib/python3.10/site-packages/sklearn/linear_model/_sag.py:350: ConvergenceWarning: The max_iter was reached which means the coef_ did not converge\n",
      "  warnings.warn(\n"
     ]
    },
    {
     "name": "stdout",
     "output_type": "stream",
     "text": [
      "[CV 4/5] END clf__C=0.5, clf__class_weight=None, clf__solver=sag;, score=0.442 total time=  52.6s\n"
     ]
    },
    {
     "name": "stderr",
     "output_type": "stream",
     "text": [
      "/opt/anaconda3/envs/test_env/lib/python3.10/site-packages/sklearn/linear_model/_sag.py:350: ConvergenceWarning: The max_iter was reached which means the coef_ did not converge\n",
      "  warnings.warn(\n"
     ]
    },
    {
     "name": "stdout",
     "output_type": "stream",
     "text": [
      "[CV 5/5] END clf__C=0.5, clf__class_weight=None, clf__solver=sag;, score=0.437 total time=  51.6s\n"
     ]
    },
    {
     "name": "stderr",
     "output_type": "stream",
     "text": [
      "/opt/anaconda3/envs/test_env/lib/python3.10/site-packages/sklearn/linear_model/_sag.py:350: ConvergenceWarning: The max_iter was reached which means the coef_ did not converge\n",
      "  warnings.warn(\n"
     ]
    },
    {
     "name": "stdout",
     "output_type": "stream",
     "text": [
      "[CV 1/5] END clf__C=0.5, clf__class_weight=None, clf__solver=saga;, score=0.446 total time=  52.6s\n"
     ]
    },
    {
     "name": "stderr",
     "output_type": "stream",
     "text": [
      "/opt/anaconda3/envs/test_env/lib/python3.10/site-packages/sklearn/linear_model/_sag.py:350: ConvergenceWarning: The max_iter was reached which means the coef_ did not converge\n",
      "  warnings.warn(\n"
     ]
    },
    {
     "name": "stdout",
     "output_type": "stream",
     "text": [
      "[CV 2/5] END clf__C=0.5, clf__class_weight=None, clf__solver=saga;, score=0.455 total time=  54.4s\n"
     ]
    },
    {
     "name": "stderr",
     "output_type": "stream",
     "text": [
      "/opt/anaconda3/envs/test_env/lib/python3.10/site-packages/sklearn/linear_model/_sag.py:350: ConvergenceWarning: The max_iter was reached which means the coef_ did not converge\n",
      "  warnings.warn(\n"
     ]
    },
    {
     "name": "stdout",
     "output_type": "stream",
     "text": [
      "[CV 3/5] END clf__C=0.5, clf__class_weight=None, clf__solver=saga;, score=0.440 total time=  52.3s\n"
     ]
    },
    {
     "name": "stderr",
     "output_type": "stream",
     "text": [
      "/opt/anaconda3/envs/test_env/lib/python3.10/site-packages/sklearn/linear_model/_sag.py:350: ConvergenceWarning: The max_iter was reached which means the coef_ did not converge\n",
      "  warnings.warn(\n"
     ]
    },
    {
     "name": "stdout",
     "output_type": "stream",
     "text": [
      "[CV 4/5] END clf__C=0.5, clf__class_weight=None, clf__solver=saga;, score=0.438 total time=  52.5s\n"
     ]
    },
    {
     "name": "stderr",
     "output_type": "stream",
     "text": [
      "/opt/anaconda3/envs/test_env/lib/python3.10/site-packages/sklearn/linear_model/_sag.py:350: ConvergenceWarning: The max_iter was reached which means the coef_ did not converge\n",
      "  warnings.warn(\n"
     ]
    },
    {
     "name": "stdout",
     "output_type": "stream",
     "text": [
      "[CV 5/5] END clf__C=0.5, clf__class_weight=None, clf__solver=saga;, score=0.431 total time=  53.6s\n",
      "[CV 1/5] END clf__C=0.5, clf__class_weight=balanced, clf__solver=lbfgs;, score=0.761 total time=  10.9s\n",
      "[CV 2/5] END clf__C=0.5, clf__class_weight=balanced, clf__solver=lbfgs;, score=0.761 total time=  11.0s\n",
      "[CV 3/5] END clf__C=0.5, clf__class_weight=balanced, clf__solver=lbfgs;, score=0.755 total time=  11.1s\n",
      "[CV 4/5] END clf__C=0.5, clf__class_weight=balanced, clf__solver=lbfgs;, score=0.751 total time=  11.1s\n",
      "[CV 5/5] END clf__C=0.5, clf__class_weight=balanced, clf__solver=lbfgs;, score=0.749 total time=  10.7s\n",
      "[CV 1/5] END clf__C=0.5, clf__class_weight=balanced, clf__solver=liblinear;, score=0.761 total time=  11.3s\n",
      "[CV 2/5] END clf__C=0.5, clf__class_weight=balanced, clf__solver=liblinear;, score=0.761 total time=  11.2s\n",
      "[CV 3/5] END clf__C=0.5, clf__class_weight=balanced, clf__solver=liblinear;, score=0.755 total time=  11.2s\n",
      "[CV 4/5] END clf__C=0.5, clf__class_weight=balanced, clf__solver=liblinear;, score=0.751 total time=  11.2s\n",
      "[CV 5/5] END clf__C=0.5, clf__class_weight=balanced, clf__solver=liblinear;, score=0.749 total time=  11.4s\n"
     ]
    },
    {
     "name": "stderr",
     "output_type": "stream",
     "text": [
      "/opt/anaconda3/envs/test_env/lib/python3.10/site-packages/sklearn/linear_model/_sag.py:350: ConvergenceWarning: The max_iter was reached which means the coef_ did not converge\n",
      "  warnings.warn(\n"
     ]
    },
    {
     "name": "stdout",
     "output_type": "stream",
     "text": [
      "[CV 1/5] END clf__C=0.5, clf__class_weight=balanced, clf__solver=sag;, score=0.759 total time=  48.0s\n"
     ]
    },
    {
     "name": "stderr",
     "output_type": "stream",
     "text": [
      "/opt/anaconda3/envs/test_env/lib/python3.10/site-packages/sklearn/linear_model/_sag.py:350: ConvergenceWarning: The max_iter was reached which means the coef_ did not converge\n",
      "  warnings.warn(\n"
     ]
    },
    {
     "name": "stdout",
     "output_type": "stream",
     "text": [
      "[CV 2/5] END clf__C=0.5, clf__class_weight=balanced, clf__solver=sag;, score=0.760 total time=  49.0s\n",
      "[CV 3/5] END clf__C=0.5, clf__class_weight=balanced, clf__solver=sag;, score=0.755 total time=  19.7s\n"
     ]
    },
    {
     "name": "stderr",
     "output_type": "stream",
     "text": [
      "/opt/anaconda3/envs/test_env/lib/python3.10/site-packages/sklearn/linear_model/_sag.py:350: ConvergenceWarning: The max_iter was reached which means the coef_ did not converge\n",
      "  warnings.warn(\n"
     ]
    },
    {
     "name": "stdout",
     "output_type": "stream",
     "text": [
      "[CV 4/5] END clf__C=0.5, clf__class_weight=balanced, clf__solver=sag;, score=0.750 total time=  48.4s\n"
     ]
    },
    {
     "name": "stderr",
     "output_type": "stream",
     "text": [
      "/opt/anaconda3/envs/test_env/lib/python3.10/site-packages/sklearn/linear_model/_sag.py:350: ConvergenceWarning: The max_iter was reached which means the coef_ did not converge\n",
      "  warnings.warn(\n"
     ]
    },
    {
     "name": "stdout",
     "output_type": "stream",
     "text": [
      "[CV 5/5] END clf__C=0.5, clf__class_weight=balanced, clf__solver=sag;, score=0.748 total time=  48.7s\n"
     ]
    },
    {
     "name": "stderr",
     "output_type": "stream",
     "text": [
      "/opt/anaconda3/envs/test_env/lib/python3.10/site-packages/sklearn/linear_model/_sag.py:350: ConvergenceWarning: The max_iter was reached which means the coef_ did not converge\n",
      "  warnings.warn(\n"
     ]
    },
    {
     "name": "stdout",
     "output_type": "stream",
     "text": [
      "[CV 1/5] END clf__C=0.5, clf__class_weight=balanced, clf__solver=saga;, score=0.759 total time=  48.7s\n"
     ]
    },
    {
     "name": "stderr",
     "output_type": "stream",
     "text": [
      "/opt/anaconda3/envs/test_env/lib/python3.10/site-packages/sklearn/linear_model/_sag.py:350: ConvergenceWarning: The max_iter was reached which means the coef_ did not converge\n",
      "  warnings.warn(\n"
     ]
    },
    {
     "name": "stdout",
     "output_type": "stream",
     "text": [
      "[CV 2/5] END clf__C=0.5, clf__class_weight=balanced, clf__solver=saga;, score=0.760 total time=  47.7s\n",
      "[CV 3/5] END clf__C=0.5, clf__class_weight=balanced, clf__solver=saga;, score=0.755 total time=  30.6s\n"
     ]
    },
    {
     "name": "stderr",
     "output_type": "stream",
     "text": [
      "/opt/anaconda3/envs/test_env/lib/python3.10/site-packages/sklearn/linear_model/_sag.py:350: ConvergenceWarning: The max_iter was reached which means the coef_ did not converge\n",
      "  warnings.warn(\n"
     ]
    },
    {
     "name": "stdout",
     "output_type": "stream",
     "text": [
      "[CV 4/5] END clf__C=0.5, clf__class_weight=balanced, clf__solver=saga;, score=0.750 total time=  46.5s\n"
     ]
    },
    {
     "name": "stderr",
     "output_type": "stream",
     "text": [
      "/opt/anaconda3/envs/test_env/lib/python3.10/site-packages/sklearn/linear_model/_sag.py:350: ConvergenceWarning: The max_iter was reached which means the coef_ did not converge\n",
      "  warnings.warn(\n"
     ]
    },
    {
     "name": "stdout",
     "output_type": "stream",
     "text": [
      "[CV 5/5] END clf__C=0.5, clf__class_weight=balanced, clf__solver=saga;, score=0.748 total time=  46.5s\n",
      "[CV 1/5] END clf__C=0.5, clf__class_weight={0: 100, 1: 1}, clf__solver=lbfgs;, score=0.108 total time=  11.1s\n",
      "[CV 2/5] END clf__C=0.5, clf__class_weight={0: 100, 1: 1}, clf__solver=lbfgs;, score=0.104 total time=  11.4s\n",
      "[CV 3/5] END clf__C=0.5, clf__class_weight={0: 100, 1: 1}, clf__solver=lbfgs;, score=0.092 total time=  11.0s\n",
      "[CV 4/5] END clf__C=0.5, clf__class_weight={0: 100, 1: 1}, clf__solver=lbfgs;, score=0.105 total time=  11.2s\n",
      "[CV 5/5] END clf__C=0.5, clf__class_weight={0: 100, 1: 1}, clf__solver=lbfgs;, score=0.095 total time=  11.3s\n",
      "[CV 1/5] END clf__C=0.5, clf__class_weight={0: 100, 1: 1}, clf__solver=liblinear;, score=0.108 total time=  11.7s\n",
      "[CV 2/5] END clf__C=0.5, clf__class_weight={0: 100, 1: 1}, clf__solver=liblinear;, score=0.104 total time=  12.0s\n",
      "[CV 3/5] END clf__C=0.5, clf__class_weight={0: 100, 1: 1}, clf__solver=liblinear;, score=0.092 total time=  11.5s\n",
      "[CV 4/5] END clf__C=0.5, clf__class_weight={0: 100, 1: 1}, clf__solver=liblinear;, score=0.105 total time=  12.1s\n",
      "[CV 5/5] END clf__C=0.5, clf__class_weight={0: 100, 1: 1}, clf__solver=liblinear;, score=0.095 total time=  12.1s\n"
     ]
    },
    {
     "name": "stderr",
     "output_type": "stream",
     "text": [
      "/opt/anaconda3/envs/test_env/lib/python3.10/site-packages/sklearn/linear_model/_sag.py:350: ConvergenceWarning: The max_iter was reached which means the coef_ did not converge\n",
      "  warnings.warn(\n"
     ]
    },
    {
     "name": "stdout",
     "output_type": "stream",
     "text": [
      "[CV 1/5] END clf__C=0.5, clf__class_weight={0: 100, 1: 1}, clf__solver=sag;, score=0.107 total time=  46.4s\n"
     ]
    },
    {
     "name": "stderr",
     "output_type": "stream",
     "text": [
      "/opt/anaconda3/envs/test_env/lib/python3.10/site-packages/sklearn/linear_model/_sag.py:350: ConvergenceWarning: The max_iter was reached which means the coef_ did not converge\n",
      "  warnings.warn(\n"
     ]
    },
    {
     "name": "stdout",
     "output_type": "stream",
     "text": [
      "[CV 2/5] END clf__C=0.5, clf__class_weight={0: 100, 1: 1}, clf__solver=sag;, score=0.105 total time=  47.7s\n"
     ]
    },
    {
     "name": "stderr",
     "output_type": "stream",
     "text": [
      "/opt/anaconda3/envs/test_env/lib/python3.10/site-packages/sklearn/linear_model/_sag.py:350: ConvergenceWarning: The max_iter was reached which means the coef_ did not converge\n",
      "  warnings.warn(\n"
     ]
    },
    {
     "name": "stdout",
     "output_type": "stream",
     "text": [
      "[CV 3/5] END clf__C=0.5, clf__class_weight={0: 100, 1: 1}, clf__solver=sag;, score=0.092 total time=  46.8s\n"
     ]
    },
    {
     "name": "stderr",
     "output_type": "stream",
     "text": [
      "/opt/anaconda3/envs/test_env/lib/python3.10/site-packages/sklearn/linear_model/_sag.py:350: ConvergenceWarning: The max_iter was reached which means the coef_ did not converge\n",
      "  warnings.warn(\n"
     ]
    },
    {
     "name": "stdout",
     "output_type": "stream",
     "text": [
      "[CV 4/5] END clf__C=0.5, clf__class_weight={0: 100, 1: 1}, clf__solver=sag;, score=0.102 total time=  47.8s\n"
     ]
    },
    {
     "name": "stderr",
     "output_type": "stream",
     "text": [
      "/opt/anaconda3/envs/test_env/lib/python3.10/site-packages/sklearn/linear_model/_sag.py:350: ConvergenceWarning: The max_iter was reached which means the coef_ did not converge\n",
      "  warnings.warn(\n"
     ]
    },
    {
     "name": "stdout",
     "output_type": "stream",
     "text": [
      "[CV 5/5] END clf__C=0.5, clf__class_weight={0: 100, 1: 1}, clf__solver=sag;, score=0.095 total time=  49.6s\n"
     ]
    },
    {
     "name": "stderr",
     "output_type": "stream",
     "text": [
      "/opt/anaconda3/envs/test_env/lib/python3.10/site-packages/sklearn/linear_model/_sag.py:350: ConvergenceWarning: The max_iter was reached which means the coef_ did not converge\n",
      "  warnings.warn(\n"
     ]
    },
    {
     "name": "stdout",
     "output_type": "stream",
     "text": [
      "[CV 1/5] END clf__C=0.5, clf__class_weight={0: 100, 1: 1}, clf__solver=saga;, score=0.097 total time=  47.7s\n"
     ]
    },
    {
     "name": "stderr",
     "output_type": "stream",
     "text": [
      "/opt/anaconda3/envs/test_env/lib/python3.10/site-packages/sklearn/linear_model/_sag.py:350: ConvergenceWarning: The max_iter was reached which means the coef_ did not converge\n",
      "  warnings.warn(\n"
     ]
    },
    {
     "name": "stdout",
     "output_type": "stream",
     "text": [
      "[CV 2/5] END clf__C=0.5, clf__class_weight={0: 100, 1: 1}, clf__solver=saga;, score=0.093 total time=  47.1s\n"
     ]
    },
    {
     "name": "stderr",
     "output_type": "stream",
     "text": [
      "/opt/anaconda3/envs/test_env/lib/python3.10/site-packages/sklearn/linear_model/_sag.py:350: ConvergenceWarning: The max_iter was reached which means the coef_ did not converge\n",
      "  warnings.warn(\n"
     ]
    },
    {
     "name": "stdout",
     "output_type": "stream",
     "text": [
      "[CV 3/5] END clf__C=0.5, clf__class_weight={0: 100, 1: 1}, clf__solver=saga;, score=0.091 total time= 1.0min\n"
     ]
    },
    {
     "name": "stderr",
     "output_type": "stream",
     "text": [
      "/opt/anaconda3/envs/test_env/lib/python3.10/site-packages/sklearn/linear_model/_sag.py:350: ConvergenceWarning: The max_iter was reached which means the coef_ did not converge\n",
      "  warnings.warn(\n"
     ]
    },
    {
     "name": "stdout",
     "output_type": "stream",
     "text": [
      "[CV 4/5] END clf__C=0.5, clf__class_weight={0: 100, 1: 1}, clf__solver=saga;, score=0.090 total time=  50.5s\n"
     ]
    },
    {
     "name": "stderr",
     "output_type": "stream",
     "text": [
      "/opt/anaconda3/envs/test_env/lib/python3.10/site-packages/sklearn/linear_model/_sag.py:350: ConvergenceWarning: The max_iter was reached which means the coef_ did not converge\n",
      "  warnings.warn(\n"
     ]
    },
    {
     "name": "stdout",
     "output_type": "stream",
     "text": [
      "[CV 5/5] END clf__C=0.5, clf__class_weight={0: 100, 1: 1}, clf__solver=saga;, score=0.085 total time=  48.6s\n",
      "[CV 1/5] END clf__C=0.5, clf__class_weight={0: 50, 1: 1}, clf__solver=lbfgs;, score=0.157 total time=  11.3s\n",
      "[CV 2/5] END clf__C=0.5, clf__class_weight={0: 50, 1: 1}, clf__solver=lbfgs;, score=0.157 total time=  11.2s\n",
      "[CV 3/5] END clf__C=0.5, clf__class_weight={0: 50, 1: 1}, clf__solver=lbfgs;, score=0.154 total time=  11.2s\n",
      "[CV 4/5] END clf__C=0.5, clf__class_weight={0: 50, 1: 1}, clf__solver=lbfgs;, score=0.154 total time=  11.5s\n",
      "[CV 5/5] END clf__C=0.5, clf__class_weight={0: 50, 1: 1}, clf__solver=lbfgs;, score=0.150 total time=  11.2s\n",
      "[CV 1/5] END clf__C=0.5, clf__class_weight={0: 50, 1: 1}, clf__solver=liblinear;, score=0.157 total time=  12.1s\n",
      "[CV 2/5] END clf__C=0.5, clf__class_weight={0: 50, 1: 1}, clf__solver=liblinear;, score=0.157 total time=  12.3s\n",
      "[CV 3/5] END clf__C=0.5, clf__class_weight={0: 50, 1: 1}, clf__solver=liblinear;, score=0.154 total time=  12.0s\n",
      "[CV 4/5] END clf__C=0.5, clf__class_weight={0: 50, 1: 1}, clf__solver=liblinear;, score=0.154 total time=  12.1s\n",
      "[CV 5/5] END clf__C=0.5, clf__class_weight={0: 50, 1: 1}, clf__solver=liblinear;, score=0.150 total time=  12.1s\n"
     ]
    },
    {
     "name": "stderr",
     "output_type": "stream",
     "text": [
      "/opt/anaconda3/envs/test_env/lib/python3.10/site-packages/sklearn/linear_model/_sag.py:350: ConvergenceWarning: The max_iter was reached which means the coef_ did not converge\n",
      "  warnings.warn(\n"
     ]
    },
    {
     "name": "stdout",
     "output_type": "stream",
     "text": [
      "[CV 1/5] END clf__C=0.5, clf__class_weight={0: 50, 1: 1}, clf__solver=sag;, score=0.152 total time=  48.4s\n"
     ]
    },
    {
     "name": "stderr",
     "output_type": "stream",
     "text": [
      "/opt/anaconda3/envs/test_env/lib/python3.10/site-packages/sklearn/linear_model/_sag.py:350: ConvergenceWarning: The max_iter was reached which means the coef_ did not converge\n",
      "  warnings.warn(\n"
     ]
    },
    {
     "name": "stdout",
     "output_type": "stream",
     "text": [
      "[CV 2/5] END clf__C=0.5, clf__class_weight={0: 50, 1: 1}, clf__solver=sag;, score=0.154 total time=  49.0s\n"
     ]
    },
    {
     "name": "stderr",
     "output_type": "stream",
     "text": [
      "/opt/anaconda3/envs/test_env/lib/python3.10/site-packages/sklearn/linear_model/_sag.py:350: ConvergenceWarning: The max_iter was reached which means the coef_ did not converge\n",
      "  warnings.warn(\n"
     ]
    },
    {
     "name": "stdout",
     "output_type": "stream",
     "text": [
      "[CV 3/5] END clf__C=0.5, clf__class_weight={0: 50, 1: 1}, clf__solver=sag;, score=0.153 total time=  48.0s\n"
     ]
    },
    {
     "name": "stderr",
     "output_type": "stream",
     "text": [
      "/opt/anaconda3/envs/test_env/lib/python3.10/site-packages/sklearn/linear_model/_sag.py:350: ConvergenceWarning: The max_iter was reached which means the coef_ did not converge\n",
      "  warnings.warn(\n"
     ]
    },
    {
     "name": "stdout",
     "output_type": "stream",
     "text": [
      "[CV 4/5] END clf__C=0.5, clf__class_weight={0: 50, 1: 1}, clf__solver=sag;, score=0.152 total time=  48.1s\n"
     ]
    },
    {
     "name": "stderr",
     "output_type": "stream",
     "text": [
      "/opt/anaconda3/envs/test_env/lib/python3.10/site-packages/sklearn/linear_model/_sag.py:350: ConvergenceWarning: The max_iter was reached which means the coef_ did not converge\n",
      "  warnings.warn(\n"
     ]
    },
    {
     "name": "stdout",
     "output_type": "stream",
     "text": [
      "[CV 5/5] END clf__C=0.5, clf__class_weight={0: 50, 1: 1}, clf__solver=sag;, score=0.146 total time=  47.6s\n"
     ]
    },
    {
     "name": "stderr",
     "output_type": "stream",
     "text": [
      "/opt/anaconda3/envs/test_env/lib/python3.10/site-packages/sklearn/linear_model/_sag.py:350: ConvergenceWarning: The max_iter was reached which means the coef_ did not converge\n",
      "  warnings.warn(\n"
     ]
    },
    {
     "name": "stdout",
     "output_type": "stream",
     "text": [
      "[CV 1/5] END clf__C=0.5, clf__class_weight={0: 50, 1: 1}, clf__solver=saga;, score=0.150 total time=  48.3s\n"
     ]
    },
    {
     "name": "stderr",
     "output_type": "stream",
     "text": [
      "/opt/anaconda3/envs/test_env/lib/python3.10/site-packages/sklearn/linear_model/_sag.py:350: ConvergenceWarning: The max_iter was reached which means the coef_ did not converge\n",
      "  warnings.warn(\n"
     ]
    },
    {
     "name": "stdout",
     "output_type": "stream",
     "text": [
      "[CV 2/5] END clf__C=0.5, clf__class_weight={0: 50, 1: 1}, clf__solver=saga;, score=0.152 total time=  48.4s\n"
     ]
    },
    {
     "name": "stderr",
     "output_type": "stream",
     "text": [
      "/opt/anaconda3/envs/test_env/lib/python3.10/site-packages/sklearn/linear_model/_sag.py:350: ConvergenceWarning: The max_iter was reached which means the coef_ did not converge\n",
      "  warnings.warn(\n"
     ]
    },
    {
     "name": "stdout",
     "output_type": "stream",
     "text": [
      "[CV 3/5] END clf__C=0.5, clf__class_weight={0: 50, 1: 1}, clf__solver=saga;, score=0.152 total time=  48.9s\n"
     ]
    },
    {
     "name": "stderr",
     "output_type": "stream",
     "text": [
      "/opt/anaconda3/envs/test_env/lib/python3.10/site-packages/sklearn/linear_model/_sag.py:350: ConvergenceWarning: The max_iter was reached which means the coef_ did not converge\n",
      "  warnings.warn(\n"
     ]
    },
    {
     "name": "stdout",
     "output_type": "stream",
     "text": [
      "[CV 4/5] END clf__C=0.5, clf__class_weight={0: 50, 1: 1}, clf__solver=saga;, score=0.151 total time=  48.6s\n"
     ]
    },
    {
     "name": "stderr",
     "output_type": "stream",
     "text": [
      "/opt/anaconda3/envs/test_env/lib/python3.10/site-packages/sklearn/linear_model/_sag.py:350: ConvergenceWarning: The max_iter was reached which means the coef_ did not converge\n",
      "  warnings.warn(\n"
     ]
    },
    {
     "name": "stdout",
     "output_type": "stream",
     "text": [
      "[CV 5/5] END clf__C=0.5, clf__class_weight={0: 50, 1: 1}, clf__solver=saga;, score=0.142 total time=  48.3s\n",
      "[CV 1/5] END clf__C=1, clf__class_weight=None, clf__solver=lbfgs;, score=0.454 total time=  11.0s\n",
      "[CV 2/5] END clf__C=1, clf__class_weight=None, clf__solver=lbfgs;, score=0.466 total time=  10.8s\n",
      "[CV 3/5] END clf__C=1, clf__class_weight=None, clf__solver=lbfgs;, score=0.443 total time=  10.9s\n",
      "[CV 4/5] END clf__C=1, clf__class_weight=None, clf__solver=lbfgs;, score=0.447 total time=  11.1s\n",
      "[CV 5/5] END clf__C=1, clf__class_weight=None, clf__solver=lbfgs;, score=0.442 total time=  10.8s\n",
      "[CV 1/5] END clf__C=1, clf__class_weight=None, clf__solver=liblinear;, score=0.454 total time=  12.3s\n",
      "[CV 2/5] END clf__C=1, clf__class_weight=None, clf__solver=liblinear;, score=0.466 total time=  11.4s\n",
      "[CV 3/5] END clf__C=1, clf__class_weight=None, clf__solver=liblinear;, score=0.443 total time=  11.8s\n",
      "[CV 4/5] END clf__C=1, clf__class_weight=None, clf__solver=liblinear;, score=0.447 total time=  12.1s\n",
      "[CV 5/5] END clf__C=1, clf__class_weight=None, clf__solver=liblinear;, score=0.442 total time=  12.3s\n"
     ]
    },
    {
     "name": "stderr",
     "output_type": "stream",
     "text": [
      "/opt/anaconda3/envs/test_env/lib/python3.10/site-packages/sklearn/linear_model/_sag.py:350: ConvergenceWarning: The max_iter was reached which means the coef_ did not converge\n",
      "  warnings.warn(\n"
     ]
    },
    {
     "name": "stdout",
     "output_type": "stream",
     "text": [
      "[CV 1/5] END clf__C=1, clf__class_weight=None, clf__solver=sag;, score=0.450 total time=  48.8s\n"
     ]
    },
    {
     "name": "stderr",
     "output_type": "stream",
     "text": [
      "/opt/anaconda3/envs/test_env/lib/python3.10/site-packages/sklearn/linear_model/_sag.py:350: ConvergenceWarning: The max_iter was reached which means the coef_ did not converge\n",
      "  warnings.warn(\n"
     ]
    },
    {
     "name": "stdout",
     "output_type": "stream",
     "text": [
      "[CV 2/5] END clf__C=1, clf__class_weight=None, clf__solver=sag;, score=0.460 total time=  50.4s\n"
     ]
    },
    {
     "name": "stderr",
     "output_type": "stream",
     "text": [
      "/opt/anaconda3/envs/test_env/lib/python3.10/site-packages/sklearn/linear_model/_sag.py:350: ConvergenceWarning: The max_iter was reached which means the coef_ did not converge\n",
      "  warnings.warn(\n"
     ]
    },
    {
     "name": "stdout",
     "output_type": "stream",
     "text": [
      "[CV 3/5] END clf__C=1, clf__class_weight=None, clf__solver=sag;, score=0.440 total time=  51.5s\n"
     ]
    },
    {
     "name": "stderr",
     "output_type": "stream",
     "text": [
      "/opt/anaconda3/envs/test_env/lib/python3.10/site-packages/sklearn/linear_model/_sag.py:350: ConvergenceWarning: The max_iter was reached which means the coef_ did not converge\n",
      "  warnings.warn(\n"
     ]
    },
    {
     "name": "stdout",
     "output_type": "stream",
     "text": [
      "[CV 4/5] END clf__C=1, clf__class_weight=None, clf__solver=sag;, score=0.442 total time=  48.5s\n"
     ]
    },
    {
     "name": "stderr",
     "output_type": "stream",
     "text": [
      "/opt/anaconda3/envs/test_env/lib/python3.10/site-packages/sklearn/linear_model/_sag.py:350: ConvergenceWarning: The max_iter was reached which means the coef_ did not converge\n",
      "  warnings.warn(\n"
     ]
    },
    {
     "name": "stdout",
     "output_type": "stream",
     "text": [
      "[CV 5/5] END clf__C=1, clf__class_weight=None, clf__solver=sag;, score=0.437 total time=  48.8s\n"
     ]
    },
    {
     "name": "stderr",
     "output_type": "stream",
     "text": [
      "/opt/anaconda3/envs/test_env/lib/python3.10/site-packages/sklearn/linear_model/_sag.py:350: ConvergenceWarning: The max_iter was reached which means the coef_ did not converge\n",
      "  warnings.warn(\n"
     ]
    },
    {
     "name": "stdout",
     "output_type": "stream",
     "text": [
      "[CV 1/5] END clf__C=1, clf__class_weight=None, clf__solver=saga;, score=0.446 total time=  48.4s\n"
     ]
    },
    {
     "name": "stderr",
     "output_type": "stream",
     "text": [
      "/opt/anaconda3/envs/test_env/lib/python3.10/site-packages/sklearn/linear_model/_sag.py:350: ConvergenceWarning: The max_iter was reached which means the coef_ did not converge\n",
      "  warnings.warn(\n"
     ]
    },
    {
     "name": "stdout",
     "output_type": "stream",
     "text": [
      "[CV 2/5] END clf__C=1, clf__class_weight=None, clf__solver=saga;, score=0.455 total time=  48.3s\n"
     ]
    },
    {
     "name": "stderr",
     "output_type": "stream",
     "text": [
      "/opt/anaconda3/envs/test_env/lib/python3.10/site-packages/sklearn/linear_model/_sag.py:350: ConvergenceWarning: The max_iter was reached which means the coef_ did not converge\n",
      "  warnings.warn(\n"
     ]
    },
    {
     "name": "stdout",
     "output_type": "stream",
     "text": [
      "[CV 3/5] END clf__C=1, clf__class_weight=None, clf__solver=saga;, score=0.440 total time=  48.7s\n"
     ]
    },
    {
     "name": "stderr",
     "output_type": "stream",
     "text": [
      "/opt/anaconda3/envs/test_env/lib/python3.10/site-packages/sklearn/linear_model/_sag.py:350: ConvergenceWarning: The max_iter was reached which means the coef_ did not converge\n",
      "  warnings.warn(\n"
     ]
    },
    {
     "name": "stdout",
     "output_type": "stream",
     "text": [
      "[CV 4/5] END clf__C=1, clf__class_weight=None, clf__solver=saga;, score=0.438 total time=  49.7s\n"
     ]
    },
    {
     "name": "stderr",
     "output_type": "stream",
     "text": [
      "/opt/anaconda3/envs/test_env/lib/python3.10/site-packages/sklearn/linear_model/_sag.py:350: ConvergenceWarning: The max_iter was reached which means the coef_ did not converge\n",
      "  warnings.warn(\n"
     ]
    },
    {
     "name": "stdout",
     "output_type": "stream",
     "text": [
      "[CV 5/5] END clf__C=1, clf__class_weight=None, clf__solver=saga;, score=0.431 total time=  50.8s\n",
      "[CV 1/5] END clf__C=1, clf__class_weight=balanced, clf__solver=lbfgs;, score=0.761 total time=  11.2s\n",
      "[CV 2/5] END clf__C=1, clf__class_weight=balanced, clf__solver=lbfgs;, score=0.761 total time=  11.1s\n",
      "[CV 3/5] END clf__C=1, clf__class_weight=balanced, clf__solver=lbfgs;, score=0.755 total time=  10.7s\n",
      "[CV 4/5] END clf__C=1, clf__class_weight=balanced, clf__solver=lbfgs;, score=0.751 total time=  10.7s\n",
      "[CV 5/5] END clf__C=1, clf__class_weight=balanced, clf__solver=lbfgs;, score=0.749 total time=  10.9s\n",
      "[CV 1/5] END clf__C=1, clf__class_weight=balanced, clf__solver=liblinear;, score=0.761 total time=  11.5s\n",
      "[CV 2/5] END clf__C=1, clf__class_weight=balanced, clf__solver=liblinear;, score=0.761 total time=  11.3s\n",
      "[CV 3/5] END clf__C=1, clf__class_weight=balanced, clf__solver=liblinear;, score=0.755 total time=  11.3s\n",
      "[CV 4/5] END clf__C=1, clf__class_weight=balanced, clf__solver=liblinear;, score=0.751 total time=  11.6s\n",
      "[CV 5/5] END clf__C=1, clf__class_weight=balanced, clf__solver=liblinear;, score=0.749 total time=  11.8s\n"
     ]
    },
    {
     "name": "stderr",
     "output_type": "stream",
     "text": [
      "/opt/anaconda3/envs/test_env/lib/python3.10/site-packages/sklearn/linear_model/_sag.py:350: ConvergenceWarning: The max_iter was reached which means the coef_ did not converge\n",
      "  warnings.warn(\n"
     ]
    },
    {
     "name": "stdout",
     "output_type": "stream",
     "text": [
      "[CV 1/5] END clf__C=1, clf__class_weight=balanced, clf__solver=sag;, score=0.759 total time=  48.5s\n"
     ]
    },
    {
     "name": "stderr",
     "output_type": "stream",
     "text": [
      "/opt/anaconda3/envs/test_env/lib/python3.10/site-packages/sklearn/linear_model/_sag.py:350: ConvergenceWarning: The max_iter was reached which means the coef_ did not converge\n",
      "  warnings.warn(\n"
     ]
    },
    {
     "name": "stdout",
     "output_type": "stream",
     "text": [
      "[CV 2/5] END clf__C=1, clf__class_weight=balanced, clf__solver=sag;, score=0.760 total time=  48.0s\n",
      "[CV 3/5] END clf__C=1, clf__class_weight=balanced, clf__solver=sag;, score=0.755 total time=  19.0s\n"
     ]
    },
    {
     "name": "stderr",
     "output_type": "stream",
     "text": [
      "/opt/anaconda3/envs/test_env/lib/python3.10/site-packages/sklearn/linear_model/_sag.py:350: ConvergenceWarning: The max_iter was reached which means the coef_ did not converge\n",
      "  warnings.warn(\n"
     ]
    },
    {
     "name": "stdout",
     "output_type": "stream",
     "text": [
      "[CV 4/5] END clf__C=1, clf__class_weight=balanced, clf__solver=sag;, score=0.750 total time=  51.2s\n"
     ]
    },
    {
     "name": "stderr",
     "output_type": "stream",
     "text": [
      "/opt/anaconda3/envs/test_env/lib/python3.10/site-packages/sklearn/linear_model/_sag.py:350: ConvergenceWarning: The max_iter was reached which means the coef_ did not converge\n",
      "  warnings.warn(\n"
     ]
    },
    {
     "name": "stdout",
     "output_type": "stream",
     "text": [
      "[CV 5/5] END clf__C=1, clf__class_weight=balanced, clf__solver=sag;, score=0.748 total time=  48.2s\n"
     ]
    },
    {
     "name": "stderr",
     "output_type": "stream",
     "text": [
      "/opt/anaconda3/envs/test_env/lib/python3.10/site-packages/sklearn/linear_model/_sag.py:350: ConvergenceWarning: The max_iter was reached which means the coef_ did not converge\n",
      "  warnings.warn(\n"
     ]
    },
    {
     "name": "stdout",
     "output_type": "stream",
     "text": [
      "[CV 1/5] END clf__C=1, clf__class_weight=balanced, clf__solver=saga;, score=0.759 total time=  49.4s\n"
     ]
    },
    {
     "name": "stderr",
     "output_type": "stream",
     "text": [
      "/opt/anaconda3/envs/test_env/lib/python3.10/site-packages/sklearn/linear_model/_sag.py:350: ConvergenceWarning: The max_iter was reached which means the coef_ did not converge\n",
      "  warnings.warn(\n"
     ]
    },
    {
     "name": "stdout",
     "output_type": "stream",
     "text": [
      "[CV 2/5] END clf__C=1, clf__class_weight=balanced, clf__solver=saga;, score=0.760 total time=  48.3s\n",
      "[CV 3/5] END clf__C=1, clf__class_weight=balanced, clf__solver=saga;, score=0.755 total time=  31.2s\n"
     ]
    },
    {
     "name": "stderr",
     "output_type": "stream",
     "text": [
      "/opt/anaconda3/envs/test_env/lib/python3.10/site-packages/sklearn/linear_model/_sag.py:350: ConvergenceWarning: The max_iter was reached which means the coef_ did not converge\n",
      "  warnings.warn(\n"
     ]
    },
    {
     "name": "stdout",
     "output_type": "stream",
     "text": [
      "[CV 4/5] END clf__C=1, clf__class_weight=balanced, clf__solver=saga;, score=0.750 total time=  47.7s\n"
     ]
    },
    {
     "name": "stderr",
     "output_type": "stream",
     "text": [
      "/opt/anaconda3/envs/test_env/lib/python3.10/site-packages/sklearn/linear_model/_sag.py:350: ConvergenceWarning: The max_iter was reached which means the coef_ did not converge\n",
      "  warnings.warn(\n"
     ]
    },
    {
     "name": "stdout",
     "output_type": "stream",
     "text": [
      "[CV 5/5] END clf__C=1, clf__class_weight=balanced, clf__solver=saga;, score=0.748 total time=  48.3s\n",
      "[CV 1/5] END clf__C=1, clf__class_weight={0: 100, 1: 1}, clf__solver=lbfgs;, score=0.108 total time=  11.1s\n",
      "[CV 2/5] END clf__C=1, clf__class_weight={0: 100, 1: 1}, clf__solver=lbfgs;, score=0.104 total time=  11.2s\n",
      "[CV 3/5] END clf__C=1, clf__class_weight={0: 100, 1: 1}, clf__solver=lbfgs;, score=0.092 total time=  11.0s\n",
      "[CV 4/5] END clf__C=1, clf__class_weight={0: 100, 1: 1}, clf__solver=lbfgs;, score=0.106 total time=  11.2s\n",
      "[CV 5/5] END clf__C=1, clf__class_weight={0: 100, 1: 1}, clf__solver=lbfgs;, score=0.096 total time=  11.2s\n",
      "[CV 1/5] END clf__C=1, clf__class_weight={0: 100, 1: 1}, clf__solver=liblinear;, score=0.108 total time=  12.1s\n",
      "[CV 2/5] END clf__C=1, clf__class_weight={0: 100, 1: 1}, clf__solver=liblinear;, score=0.104 total time=  12.2s\n",
      "[CV 3/5] END clf__C=1, clf__class_weight={0: 100, 1: 1}, clf__solver=liblinear;, score=0.092 total time=  11.9s\n",
      "[CV 4/5] END clf__C=1, clf__class_weight={0: 100, 1: 1}, clf__solver=liblinear;, score=0.106 total time=  12.5s\n",
      "[CV 5/5] END clf__C=1, clf__class_weight={0: 100, 1: 1}, clf__solver=liblinear;, score=0.095 total time=  12.0s\n"
     ]
    },
    {
     "name": "stderr",
     "output_type": "stream",
     "text": [
      "/opt/anaconda3/envs/test_env/lib/python3.10/site-packages/sklearn/linear_model/_sag.py:350: ConvergenceWarning: The max_iter was reached which means the coef_ did not converge\n",
      "  warnings.warn(\n"
     ]
    },
    {
     "name": "stdout",
     "output_type": "stream",
     "text": [
      "[CV 1/5] END clf__C=1, clf__class_weight={0: 100, 1: 1}, clf__solver=sag;, score=0.107 total time=  49.8s\n"
     ]
    },
    {
     "name": "stderr",
     "output_type": "stream",
     "text": [
      "/opt/anaconda3/envs/test_env/lib/python3.10/site-packages/sklearn/linear_model/_sag.py:350: ConvergenceWarning: The max_iter was reached which means the coef_ did not converge\n",
      "  warnings.warn(\n"
     ]
    },
    {
     "name": "stdout",
     "output_type": "stream",
     "text": [
      "[CV 2/5] END clf__C=1, clf__class_weight={0: 100, 1: 1}, clf__solver=sag;, score=0.105 total time=  49.9s\n"
     ]
    },
    {
     "name": "stderr",
     "output_type": "stream",
     "text": [
      "/opt/anaconda3/envs/test_env/lib/python3.10/site-packages/sklearn/linear_model/_sag.py:350: ConvergenceWarning: The max_iter was reached which means the coef_ did not converge\n",
      "  warnings.warn(\n"
     ]
    },
    {
     "name": "stdout",
     "output_type": "stream",
     "text": [
      "[CV 3/5] END clf__C=1, clf__class_weight={0: 100, 1: 1}, clf__solver=sag;, score=0.092 total time=  47.5s\n"
     ]
    },
    {
     "name": "stderr",
     "output_type": "stream",
     "text": [
      "/opt/anaconda3/envs/test_env/lib/python3.10/site-packages/sklearn/linear_model/_sag.py:350: ConvergenceWarning: The max_iter was reached which means the coef_ did not converge\n",
      "  warnings.warn(\n"
     ]
    },
    {
     "name": "stdout",
     "output_type": "stream",
     "text": [
      "[CV 4/5] END clf__C=1, clf__class_weight={0: 100, 1: 1}, clf__solver=sag;, score=0.102 total time=  48.1s\n"
     ]
    },
    {
     "name": "stderr",
     "output_type": "stream",
     "text": [
      "/opt/anaconda3/envs/test_env/lib/python3.10/site-packages/sklearn/linear_model/_sag.py:350: ConvergenceWarning: The max_iter was reached which means the coef_ did not converge\n",
      "  warnings.warn(\n"
     ]
    },
    {
     "name": "stdout",
     "output_type": "stream",
     "text": [
      "[CV 5/5] END clf__C=1, clf__class_weight={0: 100, 1: 1}, clf__solver=sag;, score=0.095 total time=  46.2s\n"
     ]
    },
    {
     "name": "stderr",
     "output_type": "stream",
     "text": [
      "/opt/anaconda3/envs/test_env/lib/python3.10/site-packages/sklearn/linear_model/_sag.py:350: ConvergenceWarning: The max_iter was reached which means the coef_ did not converge\n",
      "  warnings.warn(\n"
     ]
    },
    {
     "name": "stdout",
     "output_type": "stream",
     "text": [
      "[CV 1/5] END clf__C=1, clf__class_weight={0: 100, 1: 1}, clf__solver=saga;, score=0.097 total time=  46.9s\n"
     ]
    },
    {
     "name": "stderr",
     "output_type": "stream",
     "text": [
      "/opt/anaconda3/envs/test_env/lib/python3.10/site-packages/sklearn/linear_model/_sag.py:350: ConvergenceWarning: The max_iter was reached which means the coef_ did not converge\n",
      "  warnings.warn(\n"
     ]
    },
    {
     "name": "stdout",
     "output_type": "stream",
     "text": [
      "[CV 2/5] END clf__C=1, clf__class_weight={0: 100, 1: 1}, clf__solver=saga;, score=0.093 total time=  48.2s\n"
     ]
    },
    {
     "name": "stderr",
     "output_type": "stream",
     "text": [
      "/opt/anaconda3/envs/test_env/lib/python3.10/site-packages/sklearn/linear_model/_sag.py:350: ConvergenceWarning: The max_iter was reached which means the coef_ did not converge\n",
      "  warnings.warn(\n"
     ]
    },
    {
     "name": "stdout",
     "output_type": "stream",
     "text": [
      "[CV 3/5] END clf__C=1, clf__class_weight={0: 100, 1: 1}, clf__solver=saga;, score=0.091 total time=  46.5s\n"
     ]
    },
    {
     "name": "stderr",
     "output_type": "stream",
     "text": [
      "/opt/anaconda3/envs/test_env/lib/python3.10/site-packages/sklearn/linear_model/_sag.py:350: ConvergenceWarning: The max_iter was reached which means the coef_ did not converge\n",
      "  warnings.warn(\n"
     ]
    },
    {
     "name": "stdout",
     "output_type": "stream",
     "text": [
      "[CV 4/5] END clf__C=1, clf__class_weight={0: 100, 1: 1}, clf__solver=saga;, score=0.090 total time=  48.5s\n"
     ]
    },
    {
     "name": "stderr",
     "output_type": "stream",
     "text": [
      "/opt/anaconda3/envs/test_env/lib/python3.10/site-packages/sklearn/linear_model/_sag.py:350: ConvergenceWarning: The max_iter was reached which means the coef_ did not converge\n",
      "  warnings.warn(\n"
     ]
    },
    {
     "name": "stdout",
     "output_type": "stream",
     "text": [
      "[CV 5/5] END clf__C=1, clf__class_weight={0: 100, 1: 1}, clf__solver=saga;, score=0.085 total time=  47.5s\n",
      "[CV 1/5] END clf__C=1, clf__class_weight={0: 50, 1: 1}, clf__solver=lbfgs;, score=0.157 total time=  11.0s\n",
      "[CV 2/5] END clf__C=1, clf__class_weight={0: 50, 1: 1}, clf__solver=lbfgs;, score=0.158 total time=  11.4s\n",
      "[CV 3/5] END clf__C=1, clf__class_weight={0: 50, 1: 1}, clf__solver=lbfgs;, score=0.154 total time=  11.1s\n",
      "[CV 4/5] END clf__C=1, clf__class_weight={0: 50, 1: 1}, clf__solver=lbfgs;, score=0.154 total time=  11.2s\n",
      "[CV 5/5] END clf__C=1, clf__class_weight={0: 50, 1: 1}, clf__solver=lbfgs;, score=0.150 total time=  11.1s\n",
      "[CV 1/5] END clf__C=1, clf__class_weight={0: 50, 1: 1}, clf__solver=liblinear;, score=0.157 total time=  11.7s\n",
      "[CV 2/5] END clf__C=1, clf__class_weight={0: 50, 1: 1}, clf__solver=liblinear;, score=0.158 total time=  11.8s\n",
      "[CV 3/5] END clf__C=1, clf__class_weight={0: 50, 1: 1}, clf__solver=liblinear;, score=0.154 total time=  11.6s\n",
      "[CV 4/5] END clf__C=1, clf__class_weight={0: 50, 1: 1}, clf__solver=liblinear;, score=0.154 total time=  11.8s\n",
      "[CV 5/5] END clf__C=1, clf__class_weight={0: 50, 1: 1}, clf__solver=liblinear;, score=0.150 total time=  12.2s\n"
     ]
    },
    {
     "name": "stderr",
     "output_type": "stream",
     "text": [
      "/opt/anaconda3/envs/test_env/lib/python3.10/site-packages/sklearn/linear_model/_sag.py:350: ConvergenceWarning: The max_iter was reached which means the coef_ did not converge\n",
      "  warnings.warn(\n"
     ]
    },
    {
     "name": "stdout",
     "output_type": "stream",
     "text": [
      "[CV 1/5] END clf__C=1, clf__class_weight={0: 50, 1: 1}, clf__solver=sag;, score=0.152 total time=  47.2s\n"
     ]
    },
    {
     "name": "stderr",
     "output_type": "stream",
     "text": [
      "/opt/anaconda3/envs/test_env/lib/python3.10/site-packages/sklearn/linear_model/_sag.py:350: ConvergenceWarning: The max_iter was reached which means the coef_ did not converge\n",
      "  warnings.warn(\n"
     ]
    },
    {
     "name": "stdout",
     "output_type": "stream",
     "text": [
      "[CV 2/5] END clf__C=1, clf__class_weight={0: 50, 1: 1}, clf__solver=sag;, score=0.154 total time=  48.1s\n"
     ]
    },
    {
     "name": "stderr",
     "output_type": "stream",
     "text": [
      "/opt/anaconda3/envs/test_env/lib/python3.10/site-packages/sklearn/linear_model/_sag.py:350: ConvergenceWarning: The max_iter was reached which means the coef_ did not converge\n",
      "  warnings.warn(\n"
     ]
    },
    {
     "name": "stdout",
     "output_type": "stream",
     "text": [
      "[CV 3/5] END clf__C=1, clf__class_weight={0: 50, 1: 1}, clf__solver=sag;, score=0.153 total time=  48.2s\n"
     ]
    },
    {
     "name": "stderr",
     "output_type": "stream",
     "text": [
      "/opt/anaconda3/envs/test_env/lib/python3.10/site-packages/sklearn/linear_model/_sag.py:350: ConvergenceWarning: The max_iter was reached which means the coef_ did not converge\n",
      "  warnings.warn(\n"
     ]
    },
    {
     "name": "stdout",
     "output_type": "stream",
     "text": [
      "[CV 4/5] END clf__C=1, clf__class_weight={0: 50, 1: 1}, clf__solver=sag;, score=0.152 total time=  47.5s\n"
     ]
    },
    {
     "name": "stderr",
     "output_type": "stream",
     "text": [
      "/opt/anaconda3/envs/test_env/lib/python3.10/site-packages/sklearn/linear_model/_sag.py:350: ConvergenceWarning: The max_iter was reached which means the coef_ did not converge\n",
      "  warnings.warn(\n"
     ]
    },
    {
     "name": "stdout",
     "output_type": "stream",
     "text": [
      "[CV 5/5] END clf__C=1, clf__class_weight={0: 50, 1: 1}, clf__solver=sag;, score=0.146 total time=  47.1s\n"
     ]
    },
    {
     "name": "stderr",
     "output_type": "stream",
     "text": [
      "/opt/anaconda3/envs/test_env/lib/python3.10/site-packages/sklearn/linear_model/_sag.py:350: ConvergenceWarning: The max_iter was reached which means the coef_ did not converge\n",
      "  warnings.warn(\n"
     ]
    },
    {
     "name": "stdout",
     "output_type": "stream",
     "text": [
      "[CV 1/5] END clf__C=1, clf__class_weight={0: 50, 1: 1}, clf__solver=saga;, score=0.150 total time=  46.2s\n"
     ]
    },
    {
     "name": "stderr",
     "output_type": "stream",
     "text": [
      "/opt/anaconda3/envs/test_env/lib/python3.10/site-packages/sklearn/linear_model/_sag.py:350: ConvergenceWarning: The max_iter was reached which means the coef_ did not converge\n",
      "  warnings.warn(\n"
     ]
    },
    {
     "name": "stdout",
     "output_type": "stream",
     "text": [
      "[CV 2/5] END clf__C=1, clf__class_weight={0: 50, 1: 1}, clf__solver=saga;, score=0.152 total time=  47.0s\n"
     ]
    },
    {
     "name": "stderr",
     "output_type": "stream",
     "text": [
      "/opt/anaconda3/envs/test_env/lib/python3.10/site-packages/sklearn/linear_model/_sag.py:350: ConvergenceWarning: The max_iter was reached which means the coef_ did not converge\n",
      "  warnings.warn(\n"
     ]
    },
    {
     "name": "stdout",
     "output_type": "stream",
     "text": [
      "[CV 3/5] END clf__C=1, clf__class_weight={0: 50, 1: 1}, clf__solver=saga;, score=0.152 total time=  49.1s\n"
     ]
    },
    {
     "name": "stderr",
     "output_type": "stream",
     "text": [
      "/opt/anaconda3/envs/test_env/lib/python3.10/site-packages/sklearn/linear_model/_sag.py:350: ConvergenceWarning: The max_iter was reached which means the coef_ did not converge\n",
      "  warnings.warn(\n"
     ]
    },
    {
     "name": "stdout",
     "output_type": "stream",
     "text": [
      "[CV 4/5] END clf__C=1, clf__class_weight={0: 50, 1: 1}, clf__solver=saga;, score=0.151 total time=  52.2s\n"
     ]
    },
    {
     "name": "stderr",
     "output_type": "stream",
     "text": [
      "/opt/anaconda3/envs/test_env/lib/python3.10/site-packages/sklearn/linear_model/_sag.py:350: ConvergenceWarning: The max_iter was reached which means the coef_ did not converge\n",
      "  warnings.warn(\n"
     ]
    },
    {
     "name": "stdout",
     "output_type": "stream",
     "text": [
      "[CV 5/5] END clf__C=1, clf__class_weight={0: 50, 1: 1}, clf__solver=saga;, score=0.142 total time=  47.7s\n",
      "[CV 1/5] END clf__C=5, clf__class_weight=None, clf__solver=lbfgs;, score=0.454 total time=  10.9s\n",
      "[CV 2/5] END clf__C=5, clf__class_weight=None, clf__solver=lbfgs;, score=0.466 total time=  11.0s\n",
      "[CV 3/5] END clf__C=5, clf__class_weight=None, clf__solver=lbfgs;, score=0.443 total time=  10.8s\n",
      "[CV 4/5] END clf__C=5, clf__class_weight=None, clf__solver=lbfgs;, score=0.447 total time=  10.7s\n",
      "[CV 5/5] END clf__C=5, clf__class_weight=None, clf__solver=lbfgs;, score=0.442 total time=  10.8s\n",
      "[CV 1/5] END clf__C=5, clf__class_weight=None, clf__solver=liblinear;, score=0.454 total time=  11.6s\n",
      "[CV 2/5] END clf__C=5, clf__class_weight=None, clf__solver=liblinear;, score=0.466 total time=  11.8s\n",
      "[CV 3/5] END clf__C=5, clf__class_weight=None, clf__solver=liblinear;, score=0.443 total time=  11.3s\n",
      "[CV 4/5] END clf__C=5, clf__class_weight=None, clf__solver=liblinear;, score=0.447 total time=  11.9s\n",
      "[CV 5/5] END clf__C=5, clf__class_weight=None, clf__solver=liblinear;, score=0.442 total time=  12.0s\n"
     ]
    },
    {
     "name": "stderr",
     "output_type": "stream",
     "text": [
      "/opt/anaconda3/envs/test_env/lib/python3.10/site-packages/sklearn/linear_model/_sag.py:350: ConvergenceWarning: The max_iter was reached which means the coef_ did not converge\n",
      "  warnings.warn(\n"
     ]
    },
    {
     "name": "stdout",
     "output_type": "stream",
     "text": [
      "[CV 1/5] END clf__C=5, clf__class_weight=None, clf__solver=sag;, score=0.450 total time=  47.0s\n"
     ]
    },
    {
     "name": "stderr",
     "output_type": "stream",
     "text": [
      "/opt/anaconda3/envs/test_env/lib/python3.10/site-packages/sklearn/linear_model/_sag.py:350: ConvergenceWarning: The max_iter was reached which means the coef_ did not converge\n",
      "  warnings.warn(\n"
     ]
    },
    {
     "name": "stdout",
     "output_type": "stream",
     "text": [
      "[CV 2/5] END clf__C=5, clf__class_weight=None, clf__solver=sag;, score=0.460 total time=  46.9s\n"
     ]
    },
    {
     "name": "stderr",
     "output_type": "stream",
     "text": [
      "/opt/anaconda3/envs/test_env/lib/python3.10/site-packages/sklearn/linear_model/_sag.py:350: ConvergenceWarning: The max_iter was reached which means the coef_ did not converge\n",
      "  warnings.warn(\n"
     ]
    },
    {
     "name": "stdout",
     "output_type": "stream",
     "text": [
      "[CV 3/5] END clf__C=5, clf__class_weight=None, clf__solver=sag;, score=0.440 total time=  47.6s\n"
     ]
    },
    {
     "name": "stderr",
     "output_type": "stream",
     "text": [
      "/opt/anaconda3/envs/test_env/lib/python3.10/site-packages/sklearn/linear_model/_sag.py:350: ConvergenceWarning: The max_iter was reached which means the coef_ did not converge\n",
      "  warnings.warn(\n"
     ]
    },
    {
     "name": "stdout",
     "output_type": "stream",
     "text": [
      "[CV 4/5] END clf__C=5, clf__class_weight=None, clf__solver=sag;, score=0.442 total time=  46.9s\n"
     ]
    },
    {
     "name": "stderr",
     "output_type": "stream",
     "text": [
      "/opt/anaconda3/envs/test_env/lib/python3.10/site-packages/sklearn/linear_model/_sag.py:350: ConvergenceWarning: The max_iter was reached which means the coef_ did not converge\n",
      "  warnings.warn(\n"
     ]
    },
    {
     "name": "stdout",
     "output_type": "stream",
     "text": [
      "[CV 5/5] END clf__C=5, clf__class_weight=None, clf__solver=sag;, score=0.437 total time=  47.8s\n"
     ]
    },
    {
     "name": "stderr",
     "output_type": "stream",
     "text": [
      "/opt/anaconda3/envs/test_env/lib/python3.10/site-packages/sklearn/linear_model/_sag.py:350: ConvergenceWarning: The max_iter was reached which means the coef_ did not converge\n",
      "  warnings.warn(\n"
     ]
    },
    {
     "name": "stdout",
     "output_type": "stream",
     "text": [
      "[CV 1/5] END clf__C=5, clf__class_weight=None, clf__solver=saga;, score=0.446 total time=  47.6s\n"
     ]
    },
    {
     "name": "stderr",
     "output_type": "stream",
     "text": [
      "/opt/anaconda3/envs/test_env/lib/python3.10/site-packages/sklearn/linear_model/_sag.py:350: ConvergenceWarning: The max_iter was reached which means the coef_ did not converge\n",
      "  warnings.warn(\n"
     ]
    },
    {
     "name": "stdout",
     "output_type": "stream",
     "text": [
      "[CV 2/5] END clf__C=5, clf__class_weight=None, clf__solver=saga;, score=0.455 total time=  47.8s\n"
     ]
    },
    {
     "name": "stderr",
     "output_type": "stream",
     "text": [
      "/opt/anaconda3/envs/test_env/lib/python3.10/site-packages/sklearn/linear_model/_sag.py:350: ConvergenceWarning: The max_iter was reached which means the coef_ did not converge\n",
      "  warnings.warn(\n"
     ]
    },
    {
     "name": "stdout",
     "output_type": "stream",
     "text": [
      "[CV 3/5] END clf__C=5, clf__class_weight=None, clf__solver=saga;, score=0.440 total time=  47.5s\n"
     ]
    },
    {
     "name": "stderr",
     "output_type": "stream",
     "text": [
      "/opt/anaconda3/envs/test_env/lib/python3.10/site-packages/sklearn/linear_model/_sag.py:350: ConvergenceWarning: The max_iter was reached which means the coef_ did not converge\n",
      "  warnings.warn(\n"
     ]
    },
    {
     "name": "stdout",
     "output_type": "stream",
     "text": [
      "[CV 4/5] END clf__C=5, clf__class_weight=None, clf__solver=saga;, score=0.438 total time=  47.5s\n"
     ]
    },
    {
     "name": "stderr",
     "output_type": "stream",
     "text": [
      "/opt/anaconda3/envs/test_env/lib/python3.10/site-packages/sklearn/linear_model/_sag.py:350: ConvergenceWarning: The max_iter was reached which means the coef_ did not converge\n",
      "  warnings.warn(\n"
     ]
    },
    {
     "name": "stdout",
     "output_type": "stream",
     "text": [
      "[CV 5/5] END clf__C=5, clf__class_weight=None, clf__solver=saga;, score=0.431 total time=  47.7s\n",
      "[CV 1/5] END clf__C=5, clf__class_weight=balanced, clf__solver=lbfgs;, score=0.761 total time=  10.9s\n",
      "[CV 2/5] END clf__C=5, clf__class_weight=balanced, clf__solver=lbfgs;, score=0.761 total time=  10.8s\n",
      "[CV 3/5] END clf__C=5, clf__class_weight=balanced, clf__solver=lbfgs;, score=0.755 total time=  10.8s\n",
      "[CV 4/5] END clf__C=5, clf__class_weight=balanced, clf__solver=lbfgs;, score=0.751 total time=  10.7s\n",
      "[CV 5/5] END clf__C=5, clf__class_weight=balanced, clf__solver=lbfgs;, score=0.749 total time=  10.8s\n",
      "[CV 1/5] END clf__C=5, clf__class_weight=balanced, clf__solver=liblinear;, score=0.761 total time=  11.5s\n",
      "[CV 2/5] END clf__C=5, clf__class_weight=balanced, clf__solver=liblinear;, score=0.761 total time=  11.5s\n",
      "[CV 3/5] END clf__C=5, clf__class_weight=balanced, clf__solver=liblinear;, score=0.755 total time=  11.1s\n",
      "[CV 4/5] END clf__C=5, clf__class_weight=balanced, clf__solver=liblinear;, score=0.751 total time=  11.5s\n",
      "[CV 5/5] END clf__C=5, clf__class_weight=balanced, clf__solver=liblinear;, score=0.749 total time=  11.6s\n"
     ]
    },
    {
     "name": "stderr",
     "output_type": "stream",
     "text": [
      "/opt/anaconda3/envs/test_env/lib/python3.10/site-packages/sklearn/linear_model/_sag.py:350: ConvergenceWarning: The max_iter was reached which means the coef_ did not converge\n",
      "  warnings.warn(\n"
     ]
    },
    {
     "name": "stdout",
     "output_type": "stream",
     "text": [
      "[CV 1/5] END clf__C=5, clf__class_weight=balanced, clf__solver=sag;, score=0.759 total time=  48.7s\n"
     ]
    },
    {
     "name": "stderr",
     "output_type": "stream",
     "text": [
      "/opt/anaconda3/envs/test_env/lib/python3.10/site-packages/sklearn/linear_model/_sag.py:350: ConvergenceWarning: The max_iter was reached which means the coef_ did not converge\n",
      "  warnings.warn(\n"
     ]
    },
    {
     "name": "stdout",
     "output_type": "stream",
     "text": [
      "[CV 2/5] END clf__C=5, clf__class_weight=balanced, clf__solver=sag;, score=0.760 total time=  47.7s\n",
      "[CV 3/5] END clf__C=5, clf__class_weight=balanced, clf__solver=sag;, score=0.755 total time=  18.9s\n"
     ]
    },
    {
     "name": "stderr",
     "output_type": "stream",
     "text": [
      "/opt/anaconda3/envs/test_env/lib/python3.10/site-packages/sklearn/linear_model/_sag.py:350: ConvergenceWarning: The max_iter was reached which means the coef_ did not converge\n",
      "  warnings.warn(\n"
     ]
    },
    {
     "name": "stdout",
     "output_type": "stream",
     "text": [
      "[CV 4/5] END clf__C=5, clf__class_weight=balanced, clf__solver=sag;, score=0.750 total time=  47.4s\n"
     ]
    },
    {
     "name": "stderr",
     "output_type": "stream",
     "text": [
      "/opt/anaconda3/envs/test_env/lib/python3.10/site-packages/sklearn/linear_model/_sag.py:350: ConvergenceWarning: The max_iter was reached which means the coef_ did not converge\n",
      "  warnings.warn(\n"
     ]
    },
    {
     "name": "stdout",
     "output_type": "stream",
     "text": [
      "[CV 5/5] END clf__C=5, clf__class_weight=balanced, clf__solver=sag;, score=0.748 total time=  47.9s\n"
     ]
    },
    {
     "name": "stderr",
     "output_type": "stream",
     "text": [
      "/opt/anaconda3/envs/test_env/lib/python3.10/site-packages/sklearn/linear_model/_sag.py:350: ConvergenceWarning: The max_iter was reached which means the coef_ did not converge\n",
      "  warnings.warn(\n"
     ]
    },
    {
     "name": "stdout",
     "output_type": "stream",
     "text": [
      "[CV 1/5] END clf__C=5, clf__class_weight=balanced, clf__solver=saga;, score=0.759 total time=  49.6s\n"
     ]
    },
    {
     "name": "stderr",
     "output_type": "stream",
     "text": [
      "/opt/anaconda3/envs/test_env/lib/python3.10/site-packages/sklearn/linear_model/_sag.py:350: ConvergenceWarning: The max_iter was reached which means the coef_ did not converge\n",
      "  warnings.warn(\n"
     ]
    },
    {
     "name": "stdout",
     "output_type": "stream",
     "text": [
      "[CV 2/5] END clf__C=5, clf__class_weight=balanced, clf__solver=saga;, score=0.760 total time=  50.0s\n",
      "[CV 3/5] END clf__C=5, clf__class_weight=balanced, clf__solver=saga;, score=0.755 total time=  31.9s\n"
     ]
    },
    {
     "name": "stderr",
     "output_type": "stream",
     "text": [
      "/opt/anaconda3/envs/test_env/lib/python3.10/site-packages/sklearn/linear_model/_sag.py:350: ConvergenceWarning: The max_iter was reached which means the coef_ did not converge\n",
      "  warnings.warn(\n"
     ]
    },
    {
     "name": "stdout",
     "output_type": "stream",
     "text": [
      "[CV 4/5] END clf__C=5, clf__class_weight=balanced, clf__solver=saga;, score=0.750 total time=  48.0s\n"
     ]
    },
    {
     "name": "stderr",
     "output_type": "stream",
     "text": [
      "/opt/anaconda3/envs/test_env/lib/python3.10/site-packages/sklearn/linear_model/_sag.py:350: ConvergenceWarning: The max_iter was reached which means the coef_ did not converge\n",
      "  warnings.warn(\n"
     ]
    },
    {
     "name": "stdout",
     "output_type": "stream",
     "text": [
      "[CV 5/5] END clf__C=5, clf__class_weight=balanced, clf__solver=saga;, score=0.748 total time=  49.0s\n",
      "[CV 1/5] END clf__C=5, clf__class_weight={0: 100, 1: 1}, clf__solver=lbfgs;, score=0.109 total time=  11.4s\n",
      "[CV 2/5] END clf__C=5, clf__class_weight={0: 100, 1: 1}, clf__solver=lbfgs;, score=0.104 total time=  11.4s\n",
      "[CV 3/5] END clf__C=5, clf__class_weight={0: 100, 1: 1}, clf__solver=lbfgs;, score=0.092 total time=  11.3s\n",
      "[CV 4/5] END clf__C=5, clf__class_weight={0: 100, 1: 1}, clf__solver=lbfgs;, score=0.106 total time=  11.1s\n",
      "[CV 5/5] END clf__C=5, clf__class_weight={0: 100, 1: 1}, clf__solver=lbfgs;, score=0.096 total time=  11.3s\n",
      "[CV 1/5] END clf__C=5, clf__class_weight={0: 100, 1: 1}, clf__solver=liblinear;, score=0.109 total time=  12.2s\n",
      "[CV 2/5] END clf__C=5, clf__class_weight={0: 100, 1: 1}, clf__solver=liblinear;, score=0.104 total time=  12.2s\n",
      "[CV 3/5] END clf__C=5, clf__class_weight={0: 100, 1: 1}, clf__solver=liblinear;, score=0.092 total time=  11.6s\n",
      "[CV 4/5] END clf__C=5, clf__class_weight={0: 100, 1: 1}, clf__solver=liblinear;, score=0.106 total time=  12.2s\n",
      "[CV 5/5] END clf__C=5, clf__class_weight={0: 100, 1: 1}, clf__solver=liblinear;, score=0.096 total time=  12.2s\n"
     ]
    },
    {
     "name": "stderr",
     "output_type": "stream",
     "text": [
      "/opt/anaconda3/envs/test_env/lib/python3.10/site-packages/sklearn/linear_model/_sag.py:350: ConvergenceWarning: The max_iter was reached which means the coef_ did not converge\n",
      "  warnings.warn(\n"
     ]
    },
    {
     "name": "stdout",
     "output_type": "stream",
     "text": [
      "[CV 1/5] END clf__C=5, clf__class_weight={0: 100, 1: 1}, clf__solver=sag;, score=0.107 total time=  47.8s\n"
     ]
    },
    {
     "name": "stderr",
     "output_type": "stream",
     "text": [
      "/opt/anaconda3/envs/test_env/lib/python3.10/site-packages/sklearn/linear_model/_sag.py:350: ConvergenceWarning: The max_iter was reached which means the coef_ did not converge\n",
      "  warnings.warn(\n"
     ]
    },
    {
     "name": "stdout",
     "output_type": "stream",
     "text": [
      "[CV 2/5] END clf__C=5, clf__class_weight={0: 100, 1: 1}, clf__solver=sag;, score=0.105 total time=  47.7s\n"
     ]
    },
    {
     "name": "stderr",
     "output_type": "stream",
     "text": [
      "/opt/anaconda3/envs/test_env/lib/python3.10/site-packages/sklearn/linear_model/_sag.py:350: ConvergenceWarning: The max_iter was reached which means the coef_ did not converge\n",
      "  warnings.warn(\n"
     ]
    },
    {
     "name": "stdout",
     "output_type": "stream",
     "text": [
      "[CV 3/5] END clf__C=5, clf__class_weight={0: 100, 1: 1}, clf__solver=sag;, score=0.092 total time=  47.6s\n"
     ]
    },
    {
     "name": "stderr",
     "output_type": "stream",
     "text": [
      "/opt/anaconda3/envs/test_env/lib/python3.10/site-packages/sklearn/linear_model/_sag.py:350: ConvergenceWarning: The max_iter was reached which means the coef_ did not converge\n",
      "  warnings.warn(\n"
     ]
    },
    {
     "name": "stdout",
     "output_type": "stream",
     "text": [
      "[CV 4/5] END clf__C=5, clf__class_weight={0: 100, 1: 1}, clf__solver=sag;, score=0.102 total time=  47.4s\n"
     ]
    },
    {
     "name": "stderr",
     "output_type": "stream",
     "text": [
      "/opt/anaconda3/envs/test_env/lib/python3.10/site-packages/sklearn/linear_model/_sag.py:350: ConvergenceWarning: The max_iter was reached which means the coef_ did not converge\n",
      "  warnings.warn(\n"
     ]
    },
    {
     "name": "stdout",
     "output_type": "stream",
     "text": [
      "[CV 5/5] END clf__C=5, clf__class_weight={0: 100, 1: 1}, clf__solver=sag;, score=0.095 total time=  47.2s\n"
     ]
    },
    {
     "name": "stderr",
     "output_type": "stream",
     "text": [
      "/opt/anaconda3/envs/test_env/lib/python3.10/site-packages/sklearn/linear_model/_sag.py:350: ConvergenceWarning: The max_iter was reached which means the coef_ did not converge\n",
      "  warnings.warn(\n"
     ]
    },
    {
     "name": "stdout",
     "output_type": "stream",
     "text": [
      "[CV 1/5] END clf__C=5, clf__class_weight={0: 100, 1: 1}, clf__solver=saga;, score=0.097 total time=  48.6s\n"
     ]
    },
    {
     "name": "stderr",
     "output_type": "stream",
     "text": [
      "/opt/anaconda3/envs/test_env/lib/python3.10/site-packages/sklearn/linear_model/_sag.py:350: ConvergenceWarning: The max_iter was reached which means the coef_ did not converge\n",
      "  warnings.warn(\n"
     ]
    },
    {
     "name": "stdout",
     "output_type": "stream",
     "text": [
      "[CV 2/5] END clf__C=5, clf__class_weight={0: 100, 1: 1}, clf__solver=saga;, score=0.093 total time=  47.8s\n"
     ]
    },
    {
     "name": "stderr",
     "output_type": "stream",
     "text": [
      "/opt/anaconda3/envs/test_env/lib/python3.10/site-packages/sklearn/linear_model/_sag.py:350: ConvergenceWarning: The max_iter was reached which means the coef_ did not converge\n",
      "  warnings.warn(\n"
     ]
    },
    {
     "name": "stdout",
     "output_type": "stream",
     "text": [
      "[CV 3/5] END clf__C=5, clf__class_weight={0: 100, 1: 1}, clf__solver=saga;, score=0.091 total time=  47.6s\n"
     ]
    },
    {
     "name": "stderr",
     "output_type": "stream",
     "text": [
      "/opt/anaconda3/envs/test_env/lib/python3.10/site-packages/sklearn/linear_model/_sag.py:350: ConvergenceWarning: The max_iter was reached which means the coef_ did not converge\n",
      "  warnings.warn(\n"
     ]
    },
    {
     "name": "stdout",
     "output_type": "stream",
     "text": [
      "[CV 4/5] END clf__C=5, clf__class_weight={0: 100, 1: 1}, clf__solver=saga;, score=0.090 total time=  47.9s\n"
     ]
    },
    {
     "name": "stderr",
     "output_type": "stream",
     "text": [
      "/opt/anaconda3/envs/test_env/lib/python3.10/site-packages/sklearn/linear_model/_sag.py:350: ConvergenceWarning: The max_iter was reached which means the coef_ did not converge\n",
      "  warnings.warn(\n"
     ]
    },
    {
     "name": "stdout",
     "output_type": "stream",
     "text": [
      "[CV 5/5] END clf__C=5, clf__class_weight={0: 100, 1: 1}, clf__solver=saga;, score=0.085 total time=  48.5s\n",
      "[CV 1/5] END clf__C=5, clf__class_weight={0: 50, 1: 1}, clf__solver=lbfgs;, score=0.157 total time=  11.1s\n",
      "[CV 2/5] END clf__C=5, clf__class_weight={0: 50, 1: 1}, clf__solver=lbfgs;, score=0.158 total time=  11.1s\n",
      "[CV 3/5] END clf__C=5, clf__class_weight={0: 50, 1: 1}, clf__solver=lbfgs;, score=0.154 total time=  11.1s\n",
      "[CV 4/5] END clf__C=5, clf__class_weight={0: 50, 1: 1}, clf__solver=lbfgs;, score=0.154 total time=  10.8s\n",
      "[CV 5/5] END clf__C=5, clf__class_weight={0: 50, 1: 1}, clf__solver=lbfgs;, score=0.150 total time=  11.3s\n",
      "[CV 1/5] END clf__C=5, clf__class_weight={0: 50, 1: 1}, clf__solver=liblinear;, score=0.157 total time=  12.3s\n",
      "[CV 2/5] END clf__C=5, clf__class_weight={0: 50, 1: 1}, clf__solver=liblinear;, score=0.158 total time=  12.3s\n",
      "[CV 3/5] END clf__C=5, clf__class_weight={0: 50, 1: 1}, clf__solver=liblinear;, score=0.154 total time=  11.7s\n",
      "[CV 4/5] END clf__C=5, clf__class_weight={0: 50, 1: 1}, clf__solver=liblinear;, score=0.154 total time=  12.0s\n",
      "[CV 5/5] END clf__C=5, clf__class_weight={0: 50, 1: 1}, clf__solver=liblinear;, score=0.150 total time=  12.2s\n"
     ]
    },
    {
     "name": "stderr",
     "output_type": "stream",
     "text": [
      "/opt/anaconda3/envs/test_env/lib/python3.10/site-packages/sklearn/linear_model/_sag.py:350: ConvergenceWarning: The max_iter was reached which means the coef_ did not converge\n",
      "  warnings.warn(\n"
     ]
    },
    {
     "name": "stdout",
     "output_type": "stream",
     "text": [
      "[CV 1/5] END clf__C=5, clf__class_weight={0: 50, 1: 1}, clf__solver=sag;, score=0.152 total time=  46.4s\n"
     ]
    },
    {
     "name": "stderr",
     "output_type": "stream",
     "text": [
      "/opt/anaconda3/envs/test_env/lib/python3.10/site-packages/sklearn/linear_model/_sag.py:350: ConvergenceWarning: The max_iter was reached which means the coef_ did not converge\n",
      "  warnings.warn(\n"
     ]
    },
    {
     "name": "stdout",
     "output_type": "stream",
     "text": [
      "[CV 2/5] END clf__C=5, clf__class_weight={0: 50, 1: 1}, clf__solver=sag;, score=0.154 total time=  46.3s\n"
     ]
    },
    {
     "name": "stderr",
     "output_type": "stream",
     "text": [
      "/opt/anaconda3/envs/test_env/lib/python3.10/site-packages/sklearn/linear_model/_sag.py:350: ConvergenceWarning: The max_iter was reached which means the coef_ did not converge\n",
      "  warnings.warn(\n"
     ]
    },
    {
     "name": "stdout",
     "output_type": "stream",
     "text": [
      "[CV 3/5] END clf__C=5, clf__class_weight={0: 50, 1: 1}, clf__solver=sag;, score=0.153 total time=  48.1s\n"
     ]
    },
    {
     "name": "stderr",
     "output_type": "stream",
     "text": [
      "/opt/anaconda3/envs/test_env/lib/python3.10/site-packages/sklearn/linear_model/_sag.py:350: ConvergenceWarning: The max_iter was reached which means the coef_ did not converge\n",
      "  warnings.warn(\n"
     ]
    },
    {
     "name": "stdout",
     "output_type": "stream",
     "text": [
      "[CV 4/5] END clf__C=5, clf__class_weight={0: 50, 1: 1}, clf__solver=sag;, score=0.152 total time=  48.4s\n"
     ]
    },
    {
     "name": "stderr",
     "output_type": "stream",
     "text": [
      "/opt/anaconda3/envs/test_env/lib/python3.10/site-packages/sklearn/linear_model/_sag.py:350: ConvergenceWarning: The max_iter was reached which means the coef_ did not converge\n",
      "  warnings.warn(\n"
     ]
    },
    {
     "name": "stdout",
     "output_type": "stream",
     "text": [
      "[CV 5/5] END clf__C=5, clf__class_weight={0: 50, 1: 1}, clf__solver=sag;, score=0.146 total time=  48.4s\n"
     ]
    },
    {
     "name": "stderr",
     "output_type": "stream",
     "text": [
      "/opt/anaconda3/envs/test_env/lib/python3.10/site-packages/sklearn/linear_model/_sag.py:350: ConvergenceWarning: The max_iter was reached which means the coef_ did not converge\n",
      "  warnings.warn(\n"
     ]
    },
    {
     "name": "stdout",
     "output_type": "stream",
     "text": [
      "[CV 1/5] END clf__C=5, clf__class_weight={0: 50, 1: 1}, clf__solver=saga;, score=0.150 total time=  46.7s\n"
     ]
    },
    {
     "name": "stderr",
     "output_type": "stream",
     "text": [
      "/opt/anaconda3/envs/test_env/lib/python3.10/site-packages/sklearn/linear_model/_sag.py:350: ConvergenceWarning: The max_iter was reached which means the coef_ did not converge\n",
      "  warnings.warn(\n"
     ]
    },
    {
     "name": "stdout",
     "output_type": "stream",
     "text": [
      "[CV 2/5] END clf__C=5, clf__class_weight={0: 50, 1: 1}, clf__solver=saga;, score=0.152 total time=  49.7s\n"
     ]
    },
    {
     "name": "stderr",
     "output_type": "stream",
     "text": [
      "/opt/anaconda3/envs/test_env/lib/python3.10/site-packages/sklearn/linear_model/_sag.py:350: ConvergenceWarning: The max_iter was reached which means the coef_ did not converge\n",
      "  warnings.warn(\n"
     ]
    },
    {
     "name": "stdout",
     "output_type": "stream",
     "text": [
      "[CV 3/5] END clf__C=5, clf__class_weight={0: 50, 1: 1}, clf__solver=saga;, score=0.152 total time=  47.2s\n"
     ]
    },
    {
     "name": "stderr",
     "output_type": "stream",
     "text": [
      "/opt/anaconda3/envs/test_env/lib/python3.10/site-packages/sklearn/linear_model/_sag.py:350: ConvergenceWarning: The max_iter was reached which means the coef_ did not converge\n",
      "  warnings.warn(\n"
     ]
    },
    {
     "name": "stdout",
     "output_type": "stream",
     "text": [
      "[CV 4/5] END clf__C=5, clf__class_weight={0: 50, 1: 1}, clf__solver=saga;, score=0.151 total time=  47.0s\n"
     ]
    },
    {
     "name": "stderr",
     "output_type": "stream",
     "text": [
      "/opt/anaconda3/envs/test_env/lib/python3.10/site-packages/sklearn/linear_model/_sag.py:350: ConvergenceWarning: The max_iter was reached which means the coef_ did not converge\n",
      "  warnings.warn(\n"
     ]
    },
    {
     "name": "stdout",
     "output_type": "stream",
     "text": [
      "[CV 5/5] END clf__C=5, clf__class_weight={0: 50, 1: 1}, clf__solver=saga;, score=0.142 total time=  48.5s\n",
      "[CV 1/5] END clf__C=10, clf__class_weight=None, clf__solver=lbfgs;, score=0.454 total time=  10.8s\n",
      "[CV 2/5] END clf__C=10, clf__class_weight=None, clf__solver=lbfgs;, score=0.466 total time=  10.7s\n",
      "[CV 3/5] END clf__C=10, clf__class_weight=None, clf__solver=lbfgs;, score=0.443 total time=  10.6s\n",
      "[CV 4/5] END clf__C=10, clf__class_weight=None, clf__solver=lbfgs;, score=0.447 total time=  10.7s\n",
      "[CV 5/5] END clf__C=10, clf__class_weight=None, clf__solver=lbfgs;, score=0.442 total time=  10.4s\n",
      "[CV 1/5] END clf__C=10, clf__class_weight=None, clf__solver=liblinear;, score=0.454 total time=  11.7s\n",
      "[CV 2/5] END clf__C=10, clf__class_weight=None, clf__solver=liblinear;, score=0.466 total time=  11.9s\n",
      "[CV 3/5] END clf__C=10, clf__class_weight=None, clf__solver=liblinear;, score=0.443 total time=  11.3s\n",
      "[CV 4/5] END clf__C=10, clf__class_weight=None, clf__solver=liblinear;, score=0.447 total time=  11.6s\n",
      "[CV 5/5] END clf__C=10, clf__class_weight=None, clf__solver=liblinear;, score=0.442 total time=  12.0s\n"
     ]
    },
    {
     "name": "stderr",
     "output_type": "stream",
     "text": [
      "/opt/anaconda3/envs/test_env/lib/python3.10/site-packages/sklearn/linear_model/_sag.py:350: ConvergenceWarning: The max_iter was reached which means the coef_ did not converge\n",
      "  warnings.warn(\n"
     ]
    },
    {
     "name": "stdout",
     "output_type": "stream",
     "text": [
      "[CV 1/5] END clf__C=10, clf__class_weight=None, clf__solver=sag;, score=0.450 total time= 2.4min\n"
     ]
    },
    {
     "name": "stderr",
     "output_type": "stream",
     "text": [
      "/opt/anaconda3/envs/test_env/lib/python3.10/site-packages/sklearn/linear_model/_sag.py:350: ConvergenceWarning: The max_iter was reached which means the coef_ did not converge\n",
      "  warnings.warn(\n"
     ]
    },
    {
     "name": "stdout",
     "output_type": "stream",
     "text": [
      "[CV 2/5] END clf__C=10, clf__class_weight=None, clf__solver=sag;, score=0.460 total time=12.1min\n"
     ]
    },
    {
     "name": "stderr",
     "output_type": "stream",
     "text": [
      "/opt/anaconda3/envs/test_env/lib/python3.10/site-packages/sklearn/linear_model/_sag.py:350: ConvergenceWarning: The max_iter was reached which means the coef_ did not converge\n",
      "  warnings.warn(\n"
     ]
    },
    {
     "name": "stdout",
     "output_type": "stream",
     "text": [
      "[CV 3/5] END clf__C=10, clf__class_weight=None, clf__solver=sag;, score=0.440 total time= 1.7min\n"
     ]
    },
    {
     "name": "stderr",
     "output_type": "stream",
     "text": [
      "/opt/anaconda3/envs/test_env/lib/python3.10/site-packages/sklearn/linear_model/_sag.py:350: ConvergenceWarning: The max_iter was reached which means the coef_ did not converge\n",
      "  warnings.warn(\n"
     ]
    },
    {
     "name": "stdout",
     "output_type": "stream",
     "text": [
      "[CV 4/5] END clf__C=10, clf__class_weight=None, clf__solver=sag;, score=0.442 total time=  45.7s\n"
     ]
    },
    {
     "name": "stderr",
     "output_type": "stream",
     "text": [
      "/opt/anaconda3/envs/test_env/lib/python3.10/site-packages/sklearn/linear_model/_sag.py:350: ConvergenceWarning: The max_iter was reached which means the coef_ did not converge\n",
      "  warnings.warn(\n"
     ]
    },
    {
     "name": "stdout",
     "output_type": "stream",
     "text": [
      "[CV 5/5] END clf__C=10, clf__class_weight=None, clf__solver=sag;, score=0.437 total time=  46.4s\n"
     ]
    },
    {
     "name": "stderr",
     "output_type": "stream",
     "text": [
      "/opt/anaconda3/envs/test_env/lib/python3.10/site-packages/sklearn/linear_model/_sag.py:350: ConvergenceWarning: The max_iter was reached which means the coef_ did not converge\n",
      "  warnings.warn(\n"
     ]
    },
    {
     "name": "stdout",
     "output_type": "stream",
     "text": [
      "[CV 1/5] END clf__C=10, clf__class_weight=None, clf__solver=saga;, score=0.446 total time=  45.6s\n"
     ]
    },
    {
     "name": "stderr",
     "output_type": "stream",
     "text": [
      "/opt/anaconda3/envs/test_env/lib/python3.10/site-packages/sklearn/linear_model/_sag.py:350: ConvergenceWarning: The max_iter was reached which means the coef_ did not converge\n",
      "  warnings.warn(\n"
     ]
    },
    {
     "name": "stdout",
     "output_type": "stream",
     "text": [
      "[CV 2/5] END clf__C=10, clf__class_weight=None, clf__solver=saga;, score=0.455 total time=  45.6s\n"
     ]
    },
    {
     "name": "stderr",
     "output_type": "stream",
     "text": [
      "/opt/anaconda3/envs/test_env/lib/python3.10/site-packages/sklearn/linear_model/_sag.py:350: ConvergenceWarning: The max_iter was reached which means the coef_ did not converge\n",
      "  warnings.warn(\n"
     ]
    },
    {
     "name": "stdout",
     "output_type": "stream",
     "text": [
      "[CV 3/5] END clf__C=10, clf__class_weight=None, clf__solver=saga;, score=0.440 total time=  48.1s\n"
     ]
    },
    {
     "name": "stderr",
     "output_type": "stream",
     "text": [
      "/opt/anaconda3/envs/test_env/lib/python3.10/site-packages/sklearn/linear_model/_sag.py:350: ConvergenceWarning: The max_iter was reached which means the coef_ did not converge\n",
      "  warnings.warn(\n"
     ]
    },
    {
     "name": "stdout",
     "output_type": "stream",
     "text": [
      "[CV 4/5] END clf__C=10, clf__class_weight=None, clf__solver=saga;, score=0.438 total time=  51.5s\n"
     ]
    },
    {
     "name": "stderr",
     "output_type": "stream",
     "text": [
      "/opt/anaconda3/envs/test_env/lib/python3.10/site-packages/sklearn/linear_model/_sag.py:350: ConvergenceWarning: The max_iter was reached which means the coef_ did not converge\n",
      "  warnings.warn(\n"
     ]
    },
    {
     "name": "stdout",
     "output_type": "stream",
     "text": [
      "[CV 5/5] END clf__C=10, clf__class_weight=None, clf__solver=saga;, score=0.431 total time=  52.6s\n",
      "[CV 1/5] END clf__C=10, clf__class_weight=balanced, clf__solver=lbfgs;, score=0.761 total time=  11.1s\n",
      "[CV 2/5] END clf__C=10, clf__class_weight=balanced, clf__solver=lbfgs;, score=0.761 total time=  11.1s\n",
      "[CV 3/5] END clf__C=10, clf__class_weight=balanced, clf__solver=lbfgs;, score=0.755 total time=  11.3s\n",
      "[CV 4/5] END clf__C=10, clf__class_weight=balanced, clf__solver=lbfgs;, score=0.751 total time=  11.1s\n",
      "[CV 5/5] END clf__C=10, clf__class_weight=balanced, clf__solver=lbfgs;, score=0.749 total time=  11.4s\n",
      "[CV 1/5] END clf__C=10, clf__class_weight=balanced, clf__solver=liblinear;, score=0.761 total time=  11.5s\n",
      "[CV 2/5] END clf__C=10, clf__class_weight=balanced, clf__solver=liblinear;, score=0.761 total time=  12.1s\n",
      "[CV 3/5] END clf__C=10, clf__class_weight=balanced, clf__solver=liblinear;, score=0.755 total time=  11.5s\n",
      "[CV 4/5] END clf__C=10, clf__class_weight=balanced, clf__solver=liblinear;, score=0.751 total time=  11.8s\n",
      "[CV 5/5] END clf__C=10, clf__class_weight=balanced, clf__solver=liblinear;, score=0.749 total time=  11.8s\n"
     ]
    },
    {
     "name": "stderr",
     "output_type": "stream",
     "text": [
      "/opt/anaconda3/envs/test_env/lib/python3.10/site-packages/sklearn/linear_model/_sag.py:350: ConvergenceWarning: The max_iter was reached which means the coef_ did not converge\n",
      "  warnings.warn(\n"
     ]
    },
    {
     "name": "stdout",
     "output_type": "stream",
     "text": [
      "[CV 1/5] END clf__C=10, clf__class_weight=balanced, clf__solver=sag;, score=0.759 total time=  52.1s\n"
     ]
    },
    {
     "name": "stderr",
     "output_type": "stream",
     "text": [
      "/opt/anaconda3/envs/test_env/lib/python3.10/site-packages/sklearn/linear_model/_sag.py:350: ConvergenceWarning: The max_iter was reached which means the coef_ did not converge\n",
      "  warnings.warn(\n"
     ]
    },
    {
     "name": "stdout",
     "output_type": "stream",
     "text": [
      "[CV 2/5] END clf__C=10, clf__class_weight=balanced, clf__solver=sag;, score=0.760 total time=  51.2s\n",
      "[CV 3/5] END clf__C=10, clf__class_weight=balanced, clf__solver=sag;, score=0.755 total time=  20.3s\n"
     ]
    },
    {
     "name": "stderr",
     "output_type": "stream",
     "text": [
      "/opt/anaconda3/envs/test_env/lib/python3.10/site-packages/sklearn/linear_model/_sag.py:350: ConvergenceWarning: The max_iter was reached which means the coef_ did not converge\n",
      "  warnings.warn(\n"
     ]
    },
    {
     "name": "stdout",
     "output_type": "stream",
     "text": [
      "[CV 4/5] END clf__C=10, clf__class_weight=balanced, clf__solver=sag;, score=0.750 total time=  51.5s\n"
     ]
    },
    {
     "name": "stderr",
     "output_type": "stream",
     "text": [
      "/opt/anaconda3/envs/test_env/lib/python3.10/site-packages/sklearn/linear_model/_sag.py:350: ConvergenceWarning: The max_iter was reached which means the coef_ did not converge\n",
      "  warnings.warn(\n"
     ]
    },
    {
     "name": "stdout",
     "output_type": "stream",
     "text": [
      "[CV 5/5] END clf__C=10, clf__class_weight=balanced, clf__solver=sag;, score=0.748 total time=  52.7s\n"
     ]
    },
    {
     "name": "stderr",
     "output_type": "stream",
     "text": [
      "/opt/anaconda3/envs/test_env/lib/python3.10/site-packages/sklearn/linear_model/_sag.py:350: ConvergenceWarning: The max_iter was reached which means the coef_ did not converge\n",
      "  warnings.warn(\n"
     ]
    },
    {
     "name": "stdout",
     "output_type": "stream",
     "text": [
      "[CV 1/5] END clf__C=10, clf__class_weight=balanced, clf__solver=saga;, score=0.759 total time=  51.5s\n"
     ]
    },
    {
     "name": "stderr",
     "output_type": "stream",
     "text": [
      "/opt/anaconda3/envs/test_env/lib/python3.10/site-packages/sklearn/linear_model/_sag.py:350: ConvergenceWarning: The max_iter was reached which means the coef_ did not converge\n",
      "  warnings.warn(\n"
     ]
    },
    {
     "name": "stdout",
     "output_type": "stream",
     "text": [
      "[CV 2/5] END clf__C=10, clf__class_weight=balanced, clf__solver=saga;, score=0.760 total time=  53.1s\n",
      "[CV 3/5] END clf__C=10, clf__class_weight=balanced, clf__solver=saga;, score=0.755 total time=  32.8s\n"
     ]
    },
    {
     "name": "stderr",
     "output_type": "stream",
     "text": [
      "/opt/anaconda3/envs/test_env/lib/python3.10/site-packages/sklearn/linear_model/_sag.py:350: ConvergenceWarning: The max_iter was reached which means the coef_ did not converge\n",
      "  warnings.warn(\n"
     ]
    },
    {
     "name": "stdout",
     "output_type": "stream",
     "text": [
      "[CV 4/5] END clf__C=10, clf__class_weight=balanced, clf__solver=saga;, score=0.750 total time=  52.4s\n"
     ]
    },
    {
     "name": "stderr",
     "output_type": "stream",
     "text": [
      "/opt/anaconda3/envs/test_env/lib/python3.10/site-packages/sklearn/linear_model/_sag.py:350: ConvergenceWarning: The max_iter was reached which means the coef_ did not converge\n",
      "  warnings.warn(\n"
     ]
    },
    {
     "name": "stdout",
     "output_type": "stream",
     "text": [
      "[CV 5/5] END clf__C=10, clf__class_weight=balanced, clf__solver=saga;, score=0.748 total time=  51.8s\n",
      "[CV 1/5] END clf__C=10, clf__class_weight={0: 100, 1: 1}, clf__solver=lbfgs;, score=0.109 total time=  11.8s\n",
      "[CV 2/5] END clf__C=10, clf__class_weight={0: 100, 1: 1}, clf__solver=lbfgs;, score=0.104 total time=  11.8s\n",
      "[CV 3/5] END clf__C=10, clf__class_weight={0: 100, 1: 1}, clf__solver=lbfgs;, score=0.092 total time=  11.6s\n",
      "[CV 4/5] END clf__C=10, clf__class_weight={0: 100, 1: 1}, clf__solver=lbfgs;, score=0.106 total time=  11.7s\n",
      "[CV 5/5] END clf__C=10, clf__class_weight={0: 100, 1: 1}, clf__solver=lbfgs;, score=0.096 total time=  11.9s\n",
      "[CV 1/5] END clf__C=10, clf__class_weight={0: 100, 1: 1}, clf__solver=liblinear;, score=0.109 total time=  12.9s\n",
      "[CV 2/5] END clf__C=10, clf__class_weight={0: 100, 1: 1}, clf__solver=liblinear;, score=0.104 total time=  12.9s\n",
      "[CV 3/5] END clf__C=10, clf__class_weight={0: 100, 1: 1}, clf__solver=liblinear;, score=0.092 total time=  12.1s\n",
      "[CV 4/5] END clf__C=10, clf__class_weight={0: 100, 1: 1}, clf__solver=liblinear;, score=0.106 total time=  12.5s\n",
      "[CV 5/5] END clf__C=10, clf__class_weight={0: 100, 1: 1}, clf__solver=liblinear;, score=0.096 total time=  12.6s\n"
     ]
    },
    {
     "name": "stderr",
     "output_type": "stream",
     "text": [
      "/opt/anaconda3/envs/test_env/lib/python3.10/site-packages/sklearn/linear_model/_sag.py:350: ConvergenceWarning: The max_iter was reached which means the coef_ did not converge\n",
      "  warnings.warn(\n"
     ]
    },
    {
     "name": "stdout",
     "output_type": "stream",
     "text": [
      "[CV 1/5] END clf__C=10, clf__class_weight={0: 100, 1: 1}, clf__solver=sag;, score=0.107 total time=  53.3s\n"
     ]
    },
    {
     "name": "stderr",
     "output_type": "stream",
     "text": [
      "/opt/anaconda3/envs/test_env/lib/python3.10/site-packages/sklearn/linear_model/_sag.py:350: ConvergenceWarning: The max_iter was reached which means the coef_ did not converge\n",
      "  warnings.warn(\n"
     ]
    },
    {
     "name": "stdout",
     "output_type": "stream",
     "text": [
      "[CV 2/5] END clf__C=10, clf__class_weight={0: 100, 1: 1}, clf__solver=sag;, score=0.105 total time=  51.3s\n"
     ]
    },
    {
     "name": "stderr",
     "output_type": "stream",
     "text": [
      "/opt/anaconda3/envs/test_env/lib/python3.10/site-packages/sklearn/linear_model/_sag.py:350: ConvergenceWarning: The max_iter was reached which means the coef_ did not converge\n",
      "  warnings.warn(\n"
     ]
    },
    {
     "name": "stdout",
     "output_type": "stream",
     "text": [
      "[CV 3/5] END clf__C=10, clf__class_weight={0: 100, 1: 1}, clf__solver=sag;, score=0.092 total time=  53.8s\n"
     ]
    },
    {
     "name": "stderr",
     "output_type": "stream",
     "text": [
      "/opt/anaconda3/envs/test_env/lib/python3.10/site-packages/sklearn/linear_model/_sag.py:350: ConvergenceWarning: The max_iter was reached which means the coef_ did not converge\n",
      "  warnings.warn(\n"
     ]
    },
    {
     "name": "stdout",
     "output_type": "stream",
     "text": [
      "[CV 4/5] END clf__C=10, clf__class_weight={0: 100, 1: 1}, clf__solver=sag;, score=0.102 total time=  52.1s\n"
     ]
    },
    {
     "name": "stderr",
     "output_type": "stream",
     "text": [
      "/opt/anaconda3/envs/test_env/lib/python3.10/site-packages/sklearn/linear_model/_sag.py:350: ConvergenceWarning: The max_iter was reached which means the coef_ did not converge\n",
      "  warnings.warn(\n"
     ]
    },
    {
     "name": "stdout",
     "output_type": "stream",
     "text": [
      "[CV 5/5] END clf__C=10, clf__class_weight={0: 100, 1: 1}, clf__solver=sag;, score=0.095 total time=  51.8s\n"
     ]
    },
    {
     "name": "stderr",
     "output_type": "stream",
     "text": [
      "/opt/anaconda3/envs/test_env/lib/python3.10/site-packages/sklearn/linear_model/_sag.py:350: ConvergenceWarning: The max_iter was reached which means the coef_ did not converge\n",
      "  warnings.warn(\n"
     ]
    },
    {
     "name": "stdout",
     "output_type": "stream",
     "text": [
      "[CV 1/5] END clf__C=10, clf__class_weight={0: 100, 1: 1}, clf__solver=saga;, score=0.097 total time=  52.6s\n"
     ]
    },
    {
     "name": "stderr",
     "output_type": "stream",
     "text": [
      "/opt/anaconda3/envs/test_env/lib/python3.10/site-packages/sklearn/linear_model/_sag.py:350: ConvergenceWarning: The max_iter was reached which means the coef_ did not converge\n",
      "  warnings.warn(\n"
     ]
    },
    {
     "name": "stdout",
     "output_type": "stream",
     "text": [
      "[CV 2/5] END clf__C=10, clf__class_weight={0: 100, 1: 1}, clf__solver=saga;, score=0.093 total time=  54.0s\n"
     ]
    },
    {
     "name": "stderr",
     "output_type": "stream",
     "text": [
      "/opt/anaconda3/envs/test_env/lib/python3.10/site-packages/sklearn/linear_model/_sag.py:350: ConvergenceWarning: The max_iter was reached which means the coef_ did not converge\n",
      "  warnings.warn(\n"
     ]
    },
    {
     "name": "stdout",
     "output_type": "stream",
     "text": [
      "[CV 3/5] END clf__C=10, clf__class_weight={0: 100, 1: 1}, clf__solver=saga;, score=0.091 total time=  52.0s\n"
     ]
    },
    {
     "name": "stderr",
     "output_type": "stream",
     "text": [
      "/opt/anaconda3/envs/test_env/lib/python3.10/site-packages/sklearn/linear_model/_sag.py:350: ConvergenceWarning: The max_iter was reached which means the coef_ did not converge\n",
      "  warnings.warn(\n"
     ]
    },
    {
     "name": "stdout",
     "output_type": "stream",
     "text": [
      "[CV 4/5] END clf__C=10, clf__class_weight={0: 100, 1: 1}, clf__solver=saga;, score=0.090 total time=  54.7s\n"
     ]
    },
    {
     "name": "stderr",
     "output_type": "stream",
     "text": [
      "/opt/anaconda3/envs/test_env/lib/python3.10/site-packages/sklearn/linear_model/_sag.py:350: ConvergenceWarning: The max_iter was reached which means the coef_ did not converge\n",
      "  warnings.warn(\n"
     ]
    },
    {
     "name": "stdout",
     "output_type": "stream",
     "text": [
      "[CV 5/5] END clf__C=10, clf__class_weight={0: 100, 1: 1}, clf__solver=saga;, score=0.085 total time=  56.1s\n",
      "[CV 1/5] END clf__C=10, clf__class_weight={0: 50, 1: 1}, clf__solver=lbfgs;, score=0.157 total time=  11.6s\n",
      "[CV 2/5] END clf__C=10, clf__class_weight={0: 50, 1: 1}, clf__solver=lbfgs;, score=0.158 total time=  11.6s\n",
      "[CV 3/5] END clf__C=10, clf__class_weight={0: 50, 1: 1}, clf__solver=lbfgs;, score=0.154 total time=  11.5s\n",
      "[CV 4/5] END clf__C=10, clf__class_weight={0: 50, 1: 1}, clf__solver=lbfgs;, score=0.154 total time=  11.5s\n",
      "[CV 5/5] END clf__C=10, clf__class_weight={0: 50, 1: 1}, clf__solver=lbfgs;, score=0.150 total time=  11.7s\n",
      "[CV 1/5] END clf__C=10, clf__class_weight={0: 50, 1: 1}, clf__solver=liblinear;, score=0.157 total time=  12.4s\n",
      "[CV 2/5] END clf__C=10, clf__class_weight={0: 50, 1: 1}, clf__solver=liblinear;, score=0.158 total time=  12.5s\n",
      "[CV 3/5] END clf__C=10, clf__class_weight={0: 50, 1: 1}, clf__solver=liblinear;, score=0.154 total time=  12.2s\n",
      "[CV 4/5] END clf__C=10, clf__class_weight={0: 50, 1: 1}, clf__solver=liblinear;, score=0.154 total time=  12.3s\n",
      "[CV 5/5] END clf__C=10, clf__class_weight={0: 50, 1: 1}, clf__solver=liblinear;, score=0.150 total time=  12.6s\n"
     ]
    },
    {
     "name": "stderr",
     "output_type": "stream",
     "text": [
      "/opt/anaconda3/envs/test_env/lib/python3.10/site-packages/sklearn/linear_model/_sag.py:350: ConvergenceWarning: The max_iter was reached which means the coef_ did not converge\n",
      "  warnings.warn(\n"
     ]
    },
    {
     "name": "stdout",
     "output_type": "stream",
     "text": [
      "[CV 1/5] END clf__C=10, clf__class_weight={0: 50, 1: 1}, clf__solver=sag;, score=0.152 total time=  53.0s\n"
     ]
    },
    {
     "name": "stderr",
     "output_type": "stream",
     "text": [
      "/opt/anaconda3/envs/test_env/lib/python3.10/site-packages/sklearn/linear_model/_sag.py:350: ConvergenceWarning: The max_iter was reached which means the coef_ did not converge\n",
      "  warnings.warn(\n"
     ]
    },
    {
     "name": "stdout",
     "output_type": "stream",
     "text": [
      "[CV 2/5] END clf__C=10, clf__class_weight={0: 50, 1: 1}, clf__solver=sag;, score=0.154 total time=  52.3s\n"
     ]
    },
    {
     "name": "stderr",
     "output_type": "stream",
     "text": [
      "/opt/anaconda3/envs/test_env/lib/python3.10/site-packages/sklearn/linear_model/_sag.py:350: ConvergenceWarning: The max_iter was reached which means the coef_ did not converge\n",
      "  warnings.warn(\n"
     ]
    },
    {
     "name": "stdout",
     "output_type": "stream",
     "text": [
      "[CV 3/5] END clf__C=10, clf__class_weight={0: 50, 1: 1}, clf__solver=sag;, score=0.153 total time=  53.0s\n"
     ]
    },
    {
     "name": "stderr",
     "output_type": "stream",
     "text": [
      "/opt/anaconda3/envs/test_env/lib/python3.10/site-packages/sklearn/linear_model/_sag.py:350: ConvergenceWarning: The max_iter was reached which means the coef_ did not converge\n",
      "  warnings.warn(\n"
     ]
    },
    {
     "name": "stdout",
     "output_type": "stream",
     "text": [
      "[CV 4/5] END clf__C=10, clf__class_weight={0: 50, 1: 1}, clf__solver=sag;, score=0.152 total time=  52.4s\n"
     ]
    },
    {
     "name": "stderr",
     "output_type": "stream",
     "text": [
      "/opt/anaconda3/envs/test_env/lib/python3.10/site-packages/sklearn/linear_model/_sag.py:350: ConvergenceWarning: The max_iter was reached which means the coef_ did not converge\n",
      "  warnings.warn(\n"
     ]
    },
    {
     "name": "stdout",
     "output_type": "stream",
     "text": [
      "[CV 5/5] END clf__C=10, clf__class_weight={0: 50, 1: 1}, clf__solver=sag;, score=0.146 total time=  54.3s\n"
     ]
    },
    {
     "name": "stderr",
     "output_type": "stream",
     "text": [
      "/opt/anaconda3/envs/test_env/lib/python3.10/site-packages/sklearn/linear_model/_sag.py:350: ConvergenceWarning: The max_iter was reached which means the coef_ did not converge\n",
      "  warnings.warn(\n"
     ]
    },
    {
     "name": "stdout",
     "output_type": "stream",
     "text": [
      "[CV 1/5] END clf__C=10, clf__class_weight={0: 50, 1: 1}, clf__solver=saga;, score=0.150 total time=  55.2s\n"
     ]
    },
    {
     "name": "stderr",
     "output_type": "stream",
     "text": [
      "/opt/anaconda3/envs/test_env/lib/python3.10/site-packages/sklearn/linear_model/_sag.py:350: ConvergenceWarning: The max_iter was reached which means the coef_ did not converge\n",
      "  warnings.warn(\n"
     ]
    },
    {
     "name": "stdout",
     "output_type": "stream",
     "text": [
      "[CV 2/5] END clf__C=10, clf__class_weight={0: 50, 1: 1}, clf__solver=saga;, score=0.152 total time=  53.0s\n"
     ]
    },
    {
     "name": "stderr",
     "output_type": "stream",
     "text": [
      "/opt/anaconda3/envs/test_env/lib/python3.10/site-packages/sklearn/linear_model/_sag.py:350: ConvergenceWarning: The max_iter was reached which means the coef_ did not converge\n",
      "  warnings.warn(\n"
     ]
    },
    {
     "name": "stdout",
     "output_type": "stream",
     "text": [
      "[CV 3/5] END clf__C=10, clf__class_weight={0: 50, 1: 1}, clf__solver=saga;, score=0.152 total time=  53.5s\n"
     ]
    },
    {
     "name": "stderr",
     "output_type": "stream",
     "text": [
      "/opt/anaconda3/envs/test_env/lib/python3.10/site-packages/sklearn/linear_model/_sag.py:350: ConvergenceWarning: The max_iter was reached which means the coef_ did not converge\n",
      "  warnings.warn(\n"
     ]
    },
    {
     "name": "stdout",
     "output_type": "stream",
     "text": [
      "[CV 4/5] END clf__C=10, clf__class_weight={0: 50, 1: 1}, clf__solver=saga;, score=0.151 total time=  53.1s\n"
     ]
    },
    {
     "name": "stderr",
     "output_type": "stream",
     "text": [
      "/opt/anaconda3/envs/test_env/lib/python3.10/site-packages/sklearn/linear_model/_sag.py:350: ConvergenceWarning: The max_iter was reached which means the coef_ did not converge\n",
      "  warnings.warn(\n"
     ]
    },
    {
     "name": "stdout",
     "output_type": "stream",
     "text": [
      "[CV 5/5] END clf__C=10, clf__class_weight={0: 50, 1: 1}, clf__solver=saga;, score=0.142 total time=  52.5s\n",
      "[CV 1/5] END clf__C=50, clf__class_weight=None, clf__solver=lbfgs;, score=0.454 total time=  11.3s\n",
      "[CV 2/5] END clf__C=50, clf__class_weight=None, clf__solver=lbfgs;, score=0.466 total time=  11.2s\n",
      "[CV 3/5] END clf__C=50, clf__class_weight=None, clf__solver=lbfgs;, score=0.443 total time=  11.0s\n",
      "[CV 4/5] END clf__C=50, clf__class_weight=None, clf__solver=lbfgs;, score=0.447 total time=  11.2s\n",
      "[CV 5/5] END clf__C=50, clf__class_weight=None, clf__solver=lbfgs;, score=0.442 total time=  11.1s\n",
      "[CV 1/5] END clf__C=50, clf__class_weight=None, clf__solver=liblinear;, score=0.454 total time=  12.1s\n",
      "[CV 2/5] END clf__C=50, clf__class_weight=None, clf__solver=liblinear;, score=0.466 total time=  12.7s\n",
      "[CV 3/5] END clf__C=50, clf__class_weight=None, clf__solver=liblinear;, score=0.443 total time=  12.0s\n",
      "[CV 4/5] END clf__C=50, clf__class_weight=None, clf__solver=liblinear;, score=0.447 total time=  12.6s\n",
      "[CV 5/5] END clf__C=50, clf__class_weight=None, clf__solver=liblinear;, score=0.442 total time=  12.2s\n"
     ]
    },
    {
     "name": "stderr",
     "output_type": "stream",
     "text": [
      "/opt/anaconda3/envs/test_env/lib/python3.10/site-packages/sklearn/linear_model/_sag.py:350: ConvergenceWarning: The max_iter was reached which means the coef_ did not converge\n",
      "  warnings.warn(\n"
     ]
    },
    {
     "name": "stdout",
     "output_type": "stream",
     "text": [
      "[CV 1/5] END clf__C=50, clf__class_weight=None, clf__solver=sag;, score=0.450 total time=  53.1s\n"
     ]
    },
    {
     "name": "stderr",
     "output_type": "stream",
     "text": [
      "/opt/anaconda3/envs/test_env/lib/python3.10/site-packages/sklearn/linear_model/_sag.py:350: ConvergenceWarning: The max_iter was reached which means the coef_ did not converge\n",
      "  warnings.warn(\n"
     ]
    },
    {
     "name": "stdout",
     "output_type": "stream",
     "text": [
      "[CV 2/5] END clf__C=50, clf__class_weight=None, clf__solver=sag;, score=0.460 total time=  51.8s\n"
     ]
    },
    {
     "name": "stderr",
     "output_type": "stream",
     "text": [
      "/opt/anaconda3/envs/test_env/lib/python3.10/site-packages/sklearn/linear_model/_sag.py:350: ConvergenceWarning: The max_iter was reached which means the coef_ did not converge\n",
      "  warnings.warn(\n"
     ]
    },
    {
     "name": "stdout",
     "output_type": "stream",
     "text": [
      "[CV 3/5] END clf__C=50, clf__class_weight=None, clf__solver=sag;, score=0.440 total time=  51.4s\n"
     ]
    },
    {
     "name": "stderr",
     "output_type": "stream",
     "text": [
      "/opt/anaconda3/envs/test_env/lib/python3.10/site-packages/sklearn/linear_model/_sag.py:350: ConvergenceWarning: The max_iter was reached which means the coef_ did not converge\n",
      "  warnings.warn(\n"
     ]
    },
    {
     "name": "stdout",
     "output_type": "stream",
     "text": [
      "[CV 4/5] END clf__C=50, clf__class_weight=None, clf__solver=sag;, score=0.442 total time=  51.9s\n"
     ]
    },
    {
     "name": "stderr",
     "output_type": "stream",
     "text": [
      "/opt/anaconda3/envs/test_env/lib/python3.10/site-packages/sklearn/linear_model/_sag.py:350: ConvergenceWarning: The max_iter was reached which means the coef_ did not converge\n",
      "  warnings.warn(\n"
     ]
    },
    {
     "name": "stdout",
     "output_type": "stream",
     "text": [
      "[CV 5/5] END clf__C=50, clf__class_weight=None, clf__solver=sag;, score=0.437 total time=  51.6s\n"
     ]
    },
    {
     "name": "stderr",
     "output_type": "stream",
     "text": [
      "/opt/anaconda3/envs/test_env/lib/python3.10/site-packages/sklearn/linear_model/_sag.py:350: ConvergenceWarning: The max_iter was reached which means the coef_ did not converge\n",
      "  warnings.warn(\n"
     ]
    },
    {
     "name": "stdout",
     "output_type": "stream",
     "text": [
      "[CV 1/5] END clf__C=50, clf__class_weight=None, clf__solver=saga;, score=0.446 total time=  53.5s\n"
     ]
    },
    {
     "name": "stderr",
     "output_type": "stream",
     "text": [
      "/opt/anaconda3/envs/test_env/lib/python3.10/site-packages/sklearn/linear_model/_sag.py:350: ConvergenceWarning: The max_iter was reached which means the coef_ did not converge\n",
      "  warnings.warn(\n"
     ]
    },
    {
     "name": "stdout",
     "output_type": "stream",
     "text": [
      "[CV 2/5] END clf__C=50, clf__class_weight=None, clf__solver=saga;, score=0.455 total time=  53.5s\n"
     ]
    },
    {
     "name": "stderr",
     "output_type": "stream",
     "text": [
      "/opt/anaconda3/envs/test_env/lib/python3.10/site-packages/sklearn/linear_model/_sag.py:350: ConvergenceWarning: The max_iter was reached which means the coef_ did not converge\n",
      "  warnings.warn(\n"
     ]
    },
    {
     "name": "stdout",
     "output_type": "stream",
     "text": [
      "[CV 3/5] END clf__C=50, clf__class_weight=None, clf__solver=saga;, score=0.440 total time=  53.2s\n"
     ]
    },
    {
     "name": "stderr",
     "output_type": "stream",
     "text": [
      "/opt/anaconda3/envs/test_env/lib/python3.10/site-packages/sklearn/linear_model/_sag.py:350: ConvergenceWarning: The max_iter was reached which means the coef_ did not converge\n",
      "  warnings.warn(\n"
     ]
    },
    {
     "name": "stdout",
     "output_type": "stream",
     "text": [
      "[CV 4/5] END clf__C=50, clf__class_weight=None, clf__solver=saga;, score=0.438 total time=  50.9s\n"
     ]
    },
    {
     "name": "stderr",
     "output_type": "stream",
     "text": [
      "/opt/anaconda3/envs/test_env/lib/python3.10/site-packages/sklearn/linear_model/_sag.py:350: ConvergenceWarning: The max_iter was reached which means the coef_ did not converge\n",
      "  warnings.warn(\n"
     ]
    },
    {
     "name": "stdout",
     "output_type": "stream",
     "text": [
      "[CV 5/5] END clf__C=50, clf__class_weight=None, clf__solver=saga;, score=0.431 total time=  52.0s\n",
      "[CV 1/5] END clf__C=50, clf__class_weight=balanced, clf__solver=lbfgs;, score=0.761 total time=  11.2s\n",
      "[CV 2/5] END clf__C=50, clf__class_weight=balanced, clf__solver=lbfgs;, score=0.761 total time=  11.5s\n",
      "[CV 3/5] END clf__C=50, clf__class_weight=balanced, clf__solver=lbfgs;, score=0.755 total time=  10.6s\n",
      "[CV 4/5] END clf__C=50, clf__class_weight=balanced, clf__solver=lbfgs;, score=0.751 total time=  11.3s\n",
      "[CV 5/5] END clf__C=50, clf__class_weight=balanced, clf__solver=lbfgs;, score=0.749 total time=  11.2s\n",
      "[CV 1/5] END clf__C=50, clf__class_weight=balanced, clf__solver=liblinear;, score=0.761 total time=  11.8s\n",
      "[CV 2/5] END clf__C=50, clf__class_weight=balanced, clf__solver=liblinear;, score=0.761 total time=  11.8s\n",
      "[CV 3/5] END clf__C=50, clf__class_weight=balanced, clf__solver=liblinear;, score=0.755 total time=  11.5s\n",
      "[CV 4/5] END clf__C=50, clf__class_weight=balanced, clf__solver=liblinear;, score=0.751 total time=  11.9s\n",
      "[CV 5/5] END clf__C=50, clf__class_weight=balanced, clf__solver=liblinear;, score=0.749 total time=  11.8s\n"
     ]
    },
    {
     "name": "stderr",
     "output_type": "stream",
     "text": [
      "/opt/anaconda3/envs/test_env/lib/python3.10/site-packages/sklearn/linear_model/_sag.py:350: ConvergenceWarning: The max_iter was reached which means the coef_ did not converge\n",
      "  warnings.warn(\n"
     ]
    },
    {
     "name": "stdout",
     "output_type": "stream",
     "text": [
      "[CV 1/5] END clf__C=50, clf__class_weight=balanced, clf__solver=sag;, score=0.759 total time=  51.7s\n"
     ]
    },
    {
     "name": "stderr",
     "output_type": "stream",
     "text": [
      "/opt/anaconda3/envs/test_env/lib/python3.10/site-packages/sklearn/linear_model/_sag.py:350: ConvergenceWarning: The max_iter was reached which means the coef_ did not converge\n",
      "  warnings.warn(\n"
     ]
    },
    {
     "name": "stdout",
     "output_type": "stream",
     "text": [
      "[CV 2/5] END clf__C=50, clf__class_weight=balanced, clf__solver=sag;, score=0.760 total time=  51.7s\n",
      "[CV 3/5] END clf__C=50, clf__class_weight=balanced, clf__solver=sag;, score=0.755 total time=  20.3s\n"
     ]
    },
    {
     "name": "stderr",
     "output_type": "stream",
     "text": [
      "/opt/anaconda3/envs/test_env/lib/python3.10/site-packages/sklearn/linear_model/_sag.py:350: ConvergenceWarning: The max_iter was reached which means the coef_ did not converge\n",
      "  warnings.warn(\n"
     ]
    },
    {
     "name": "stdout",
     "output_type": "stream",
     "text": [
      "[CV 4/5] END clf__C=50, clf__class_weight=balanced, clf__solver=sag;, score=0.750 total time=  51.9s\n"
     ]
    },
    {
     "name": "stderr",
     "output_type": "stream",
     "text": [
      "/opt/anaconda3/envs/test_env/lib/python3.10/site-packages/sklearn/linear_model/_sag.py:350: ConvergenceWarning: The max_iter was reached which means the coef_ did not converge\n",
      "  warnings.warn(\n"
     ]
    },
    {
     "name": "stdout",
     "output_type": "stream",
     "text": [
      "[CV 5/5] END clf__C=50, clf__class_weight=balanced, clf__solver=sag;, score=0.748 total time=  53.5s\n"
     ]
    },
    {
     "name": "stderr",
     "output_type": "stream",
     "text": [
      "/opt/anaconda3/envs/test_env/lib/python3.10/site-packages/sklearn/linear_model/_sag.py:350: ConvergenceWarning: The max_iter was reached which means the coef_ did not converge\n",
      "  warnings.warn(\n"
     ]
    },
    {
     "name": "stdout",
     "output_type": "stream",
     "text": [
      "[CV 1/5] END clf__C=50, clf__class_weight=balanced, clf__solver=saga;, score=0.759 total time=  54.7s\n"
     ]
    },
    {
     "name": "stderr",
     "output_type": "stream",
     "text": [
      "/opt/anaconda3/envs/test_env/lib/python3.10/site-packages/sklearn/linear_model/_sag.py:350: ConvergenceWarning: The max_iter was reached which means the coef_ did not converge\n",
      "  warnings.warn(\n"
     ]
    },
    {
     "name": "stdout",
     "output_type": "stream",
     "text": [
      "[CV 2/5] END clf__C=50, clf__class_weight=balanced, clf__solver=saga;, score=0.760 total time=  54.1s\n",
      "[CV 3/5] END clf__C=50, clf__class_weight=balanced, clf__solver=saga;, score=0.755 total time=  33.6s\n"
     ]
    },
    {
     "name": "stderr",
     "output_type": "stream",
     "text": [
      "/opt/anaconda3/envs/test_env/lib/python3.10/site-packages/sklearn/linear_model/_sag.py:350: ConvergenceWarning: The max_iter was reached which means the coef_ did not converge\n",
      "  warnings.warn(\n"
     ]
    },
    {
     "name": "stdout",
     "output_type": "stream",
     "text": [
      "[CV 4/5] END clf__C=50, clf__class_weight=balanced, clf__solver=saga;, score=0.750 total time=  54.1s\n"
     ]
    },
    {
     "name": "stderr",
     "output_type": "stream",
     "text": [
      "/opt/anaconda3/envs/test_env/lib/python3.10/site-packages/sklearn/linear_model/_sag.py:350: ConvergenceWarning: The max_iter was reached which means the coef_ did not converge\n",
      "  warnings.warn(\n"
     ]
    },
    {
     "name": "stdout",
     "output_type": "stream",
     "text": [
      "[CV 5/5] END clf__C=50, clf__class_weight=balanced, clf__solver=saga;, score=0.748 total time=  54.8s\n",
      "[CV 1/5] END clf__C=50, clf__class_weight={0: 100, 1: 1}, clf__solver=lbfgs;, score=0.109 total time=  11.7s\n",
      "[CV 2/5] END clf__C=50, clf__class_weight={0: 100, 1: 1}, clf__solver=lbfgs;, score=0.104 total time=  11.8s\n",
      "[CV 3/5] END clf__C=50, clf__class_weight={0: 100, 1: 1}, clf__solver=lbfgs;, score=0.092 total time=  11.4s\n",
      "[CV 4/5] END clf__C=50, clf__class_weight={0: 100, 1: 1}, clf__solver=lbfgs;, score=0.106 total time=  11.8s\n",
      "[CV 5/5] END clf__C=50, clf__class_weight={0: 100, 1: 1}, clf__solver=lbfgs;, score=0.096 total time=  11.6s\n",
      "[CV 1/5] END clf__C=50, clf__class_weight={0: 100, 1: 1}, clf__solver=liblinear;, score=0.109 total time=  12.7s\n",
      "[CV 2/5] END clf__C=50, clf__class_weight={0: 100, 1: 1}, clf__solver=liblinear;, score=0.104 total time=  11.8s\n",
      "[CV 3/5] END clf__C=50, clf__class_weight={0: 100, 1: 1}, clf__solver=liblinear;, score=0.092 total time=  12.1s\n",
      "[CV 4/5] END clf__C=50, clf__class_weight={0: 100, 1: 1}, clf__solver=liblinear;, score=0.106 total time=  12.8s\n",
      "[CV 5/5] END clf__C=50, clf__class_weight={0: 100, 1: 1}, clf__solver=liblinear;, score=0.096 total time=  12.7s\n"
     ]
    },
    {
     "name": "stderr",
     "output_type": "stream",
     "text": [
      "/opt/anaconda3/envs/test_env/lib/python3.10/site-packages/sklearn/linear_model/_sag.py:350: ConvergenceWarning: The max_iter was reached which means the coef_ did not converge\n",
      "  warnings.warn(\n"
     ]
    },
    {
     "name": "stdout",
     "output_type": "stream",
     "text": [
      "[CV 1/5] END clf__C=50, clf__class_weight={0: 100, 1: 1}, clf__solver=sag;, score=0.107 total time=  53.5s\n"
     ]
    },
    {
     "name": "stderr",
     "output_type": "stream",
     "text": [
      "/opt/anaconda3/envs/test_env/lib/python3.10/site-packages/sklearn/linear_model/_sag.py:350: ConvergenceWarning: The max_iter was reached which means the coef_ did not converge\n",
      "  warnings.warn(\n"
     ]
    },
    {
     "name": "stdout",
     "output_type": "stream",
     "text": [
      "[CV 2/5] END clf__C=50, clf__class_weight={0: 100, 1: 1}, clf__solver=sag;, score=0.105 total time=  55.4s\n"
     ]
    },
    {
     "name": "stderr",
     "output_type": "stream",
     "text": [
      "/opt/anaconda3/envs/test_env/lib/python3.10/site-packages/sklearn/linear_model/_sag.py:350: ConvergenceWarning: The max_iter was reached which means the coef_ did not converge\n",
      "  warnings.warn(\n"
     ]
    },
    {
     "name": "stdout",
     "output_type": "stream",
     "text": [
      "[CV 3/5] END clf__C=50, clf__class_weight={0: 100, 1: 1}, clf__solver=sag;, score=0.092 total time=  55.0s\n"
     ]
    },
    {
     "name": "stderr",
     "output_type": "stream",
     "text": [
      "/opt/anaconda3/envs/test_env/lib/python3.10/site-packages/sklearn/linear_model/_sag.py:350: ConvergenceWarning: The max_iter was reached which means the coef_ did not converge\n",
      "  warnings.warn(\n"
     ]
    },
    {
     "name": "stdout",
     "output_type": "stream",
     "text": [
      "[CV 4/5] END clf__C=50, clf__class_weight={0: 100, 1: 1}, clf__solver=sag;, score=0.102 total time=  55.1s\n"
     ]
    },
    {
     "name": "stderr",
     "output_type": "stream",
     "text": [
      "/opt/anaconda3/envs/test_env/lib/python3.10/site-packages/sklearn/linear_model/_sag.py:350: ConvergenceWarning: The max_iter was reached which means the coef_ did not converge\n",
      "  warnings.warn(\n"
     ]
    },
    {
     "name": "stdout",
     "output_type": "stream",
     "text": [
      "[CV 5/5] END clf__C=50, clf__class_weight={0: 100, 1: 1}, clf__solver=sag;, score=0.095 total time=  52.6s\n"
     ]
    },
    {
     "name": "stderr",
     "output_type": "stream",
     "text": [
      "/opt/anaconda3/envs/test_env/lib/python3.10/site-packages/sklearn/linear_model/_sag.py:350: ConvergenceWarning: The max_iter was reached which means the coef_ did not converge\n",
      "  warnings.warn(\n"
     ]
    },
    {
     "name": "stdout",
     "output_type": "stream",
     "text": [
      "[CV 1/5] END clf__C=50, clf__class_weight={0: 100, 1: 1}, clf__solver=saga;, score=0.097 total time=  53.1s\n"
     ]
    },
    {
     "name": "stderr",
     "output_type": "stream",
     "text": [
      "/opt/anaconda3/envs/test_env/lib/python3.10/site-packages/sklearn/linear_model/_sag.py:350: ConvergenceWarning: The max_iter was reached which means the coef_ did not converge\n",
      "  warnings.warn(\n"
     ]
    },
    {
     "name": "stdout",
     "output_type": "stream",
     "text": [
      "[CV 2/5] END clf__C=50, clf__class_weight={0: 100, 1: 1}, clf__solver=saga;, score=0.093 total time=  52.3s\n"
     ]
    }
   ],
   "source": [
    "clf = LogisticRegression(random_state=rng)\n",
    "lr_params={\n",
    "    'clf__class_weight':[None,\n",
    "                         'balanced', \n",
    "                         {0:100, 1:1}, \n",
    "                         {0:50, 1:1}],\n",
    "    'clf__solver': ['lbfgs', 'liblinear', 'sag', 'saga'],\n",
    "    'clf__C': [0.1, 0.5, 1, 5, 10, 50, 100]\n",
    "}\n",
    "\n",
    "%time lr_pipe = helper.gridsearch_pipeline(X_train, y_train, clf, lr_params) \n",
    "lr_pipe"
   ]
  },
  {
   "cell_type": "code",
   "execution_count": null,
   "id": "e7b1e466-b96a-44b1-a98b-ed60a593364b",
   "metadata": {},
   "outputs": [],
   "source": [
    "joblib.dump(lr_pipe, f'{prefix}_lr_pipe.joblib')"
   ]
  },
  {
   "cell_type": "markdown",
   "id": "e2784a88-d955-45d4-a31a-0628e72c4fc2",
   "metadata": {
    "tags": []
   },
   "source": [
    "#### Evaluation"
   ]
  },
  {
   "cell_type": "code",
   "execution_count": null,
   "id": "a86e5fa6-ecc1-4b88-ab0b-a4b1004a6101",
   "metadata": {},
   "outputs": [],
   "source": [
    "outputs = True\n",
    "lr_predicted = lr_pipe.predict(X_test)\n",
    "confusion = confusion_matrix(y_test, lr_predicted, labels = [1,0])\n",
    "if outputs:\n",
    "    print('Log Regression (best model)\\n', confusion)\n",
    "cm_display = ConfusionMatrixDisplay(confusion, display_labels=[1,0])\n",
    "if outputs:\n",
    "    cm_display.plot()\n",
    "    \n",
    "    "
   ]
  },
  {
   "cell_type": "code",
   "execution_count": null,
   "id": "528c3680-3b0f-4bd6-93ee-e0e75be07628",
   "metadata": {},
   "outputs": [],
   "source": []
  }
 ],
 "metadata": {
  "kernelspec": {
   "display_name": "Python 3 (ipykernel)",
   "language": "python",
   "name": "python3"
  },
  "language_info": {
   "codemirror_mode": {
    "name": "ipython",
    "version": 3
   },
   "file_extension": ".py",
   "mimetype": "text/x-python",
   "name": "python",
   "nbconvert_exporter": "python",
   "pygments_lexer": "ipython3",
   "version": "3.10.4"
  }
 },
 "nbformat": 4,
 "nbformat_minor": 5
}
