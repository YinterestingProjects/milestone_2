{
 "cells": [
  {
   "cell_type": "markdown",
   "id": "9c2c0902-16f6-4b47-8eb2-2fc98643799f",
   "metadata": {},
   "source": [
    "### Import PCA"
   ]
  },
  {
   "cell_type": "code",
   "execution_count": 7,
   "id": "a2d8ec97-4af0-4ab5-9c77-177b114dedea",
   "metadata": {},
   "outputs": [],
   "source": [
    "import pandas as pd\n",
    "import numpy as np\n",
    "\n",
    "from sklearn.model_selection import train_test_split\n",
    "from sklearn.compose import make_column_transformer\n",
    "from category_encoders.target_encoder import TargetEncoder\n",
    "from sklearn.preprocessing import StandardScaler, RobustScaler\n",
    "from sklearn.pipeline import make_pipeline, Pipeline\n",
    "\n",
    "from sklearn.decomposition import PCA, SparsePCA\n",
    "from sklearn.covariance import empirical_covariance\n",
    "\n",
    "import matplotlib.pyplot as plt\n",
    "import matplotlib.cm as cm\n",
    "from matplotlib.colors import ListedColormap, BoundaryNorm\n",
    "import matplotlib.patches as mpatches\n",
    "\n",
    "import seaborn as sns\n",
    "import joblib\n",
    "import os\n",
    "\n",
    "import warnings\n",
    "warnings.filterwarnings(action='ignore', category=FutureWarning) # setting ignore as a parameter and further adding category"
   ]
  },
  {
   "cell_type": "code",
   "execution_count": 8,
   "id": "e1821f0c-e109-41e6-a3b1-fdaf14254ce3",
   "metadata": {},
   "outputs": [],
   "source": [
    "rng = 42"
   ]
  },
  {
   "cell_type": "code",
   "execution_count": 9,
   "id": "1dcf5bf1-4a7b-4159-a2e7-a8d05f92b604",
   "metadata": {},
   "outputs": [],
   "source": [
    "p = '../data/'\n",
    "input_name = 'cleaned.csv'\n",
    "\n",
    "df = pd.read_csv(f'{p}{input_name}')"
   ]
  },
  {
   "cell_type": "code",
   "execution_count": 10,
   "id": "ef535dfa-9fa5-499c-8cc2-5050f06ad6af",
   "metadata": {},
   "outputs": [],
   "source": [
    "# set up folder to save results\n",
    "#os.makedirs('export_run5_PCA')\n",
    "prefix = 'export_run5_PCA/export'"
   ]
  },
  {
   "cell_type": "code",
   "execution_count": 11,
   "id": "f3216777-d653-48fb-abdc-168c8e0e7d11",
   "metadata": {},
   "outputs": [],
   "source": [
    "def df_filtering(df, i_e = 'I', f_cols = []):\n",
    "\n",
    "    filtered_df = df[df.i_e == i_e]\n",
    "    filtered_df = filtered_df[f_cols+['act']]\n",
    "    \n",
    "    return filtered_df\n",
    "\n",
    "def data_split(df):\n",
    "    X, y = df.iloc[:,:-1], df.iloc[:,-1:]\n",
    "    y = np.where(y['act']=='R',1,0)\n",
    "    \n",
    "    X_train, X_test, y_train, y_test = train_test_split(X, y, random_state=rng, stratify=y) \n",
    "    \n",
    "    return X_train, X_test, y_train, y_test"
   ]
  },
  {
   "cell_type": "code",
   "execution_count": 12,
   "id": "8ba00ba2-8716-49c7-824f-068d9641e0c7",
   "metadata": {},
   "outputs": [],
   "source": [
    "non_feature_cols = ['control_number', 'disp_date', 'i_e', 'ship_date', \n",
    "                    'disp_date_yyyy', 'disp_date_mm', 'disp_ship_date']\n",
    "\n",
    "target = ['act', 'dp_cd']\n",
    "\n",
    "feature_cols = ['species_code', 'wildlf_desc', 'specific_generic_name', 'genus', 'species', 'wildlf_cat', \n",
    "                'ctry_org', 'ctry_ie','purp', 'src', 'trans_mode', 'pt_cd',\n",
    "                 'qty', 'unit', #'cartons',\n",
    "                 'value', 'ship_date_mm']\n",
    "\n",
    "import_df = df_filtering(df, i_e = 'I', f_cols = feature_cols)\n",
    "X_train, X_test, y_train, y_test = data_split(import_df)"
   ]
  },
  {
   "cell_type": "code",
   "execution_count": 13,
   "id": "284e34b7-c74f-48f8-bee8-dc90ff4daffa",
   "metadata": {},
   "outputs": [
    {
     "data": {
      "text/plain": [
       "17"
      ]
     },
     "execution_count": 13,
     "metadata": {},
     "output_type": "execute_result"
    }
   ],
   "source": [
    "len(import_df.columns)"
   ]
  },
  {
   "cell_type": "code",
   "execution_count": 14,
   "id": "4514b376-8686-4529-b554-172a924f421d",
   "metadata": {},
   "outputs": [
    {
     "data": {
      "text/html": [
       "<div>\n",
       "<style scoped>\n",
       "    .dataframe tbody tr th:only-of-type {\n",
       "        vertical-align: middle;\n",
       "    }\n",
       "\n",
       "    .dataframe tbody tr th {\n",
       "        vertical-align: top;\n",
       "    }\n",
       "\n",
       "    .dataframe thead th {\n",
       "        text-align: right;\n",
       "    }\n",
       "</style>\n",
       "<table border=\"1\" class=\"dataframe\">\n",
       "  <thead>\n",
       "    <tr style=\"text-align: right;\">\n",
       "      <th></th>\n",
       "      <th>species_code</th>\n",
       "      <th>wildlf_desc</th>\n",
       "      <th>specific_generic_name</th>\n",
       "      <th>genus</th>\n",
       "      <th>species</th>\n",
       "      <th>wildlf_cat</th>\n",
       "      <th>ctry_org</th>\n",
       "      <th>ctry_ie</th>\n",
       "      <th>purp</th>\n",
       "      <th>src</th>\n",
       "      <th>trans_mode</th>\n",
       "      <th>pt_cd</th>\n",
       "      <th>qty</th>\n",
       "      <th>unit</th>\n",
       "      <th>value</th>\n",
       "      <th>ship_date_mm</th>\n",
       "    </tr>\n",
       "  </thead>\n",
       "  <tbody>\n",
       "    <tr>\n",
       "      <th>164498</th>\n",
       "      <td>PMIL</td>\n",
       "      <td>LIV</td>\n",
       "      <td>MILES' FIREFISH</td>\n",
       "      <td>PTEROIS</td>\n",
       "      <td>MILES</td>\n",
       "      <td>FSH</td>\n",
       "      <td>LK</td>\n",
       "      <td>LK</td>\n",
       "      <td>T</td>\n",
       "      <td>W</td>\n",
       "      <td>A</td>\n",
       "      <td>AT</td>\n",
       "      <td>2.0</td>\n",
       "      <td>NO</td>\n",
       "      <td>7.0</td>\n",
       "      <td>5</td>\n",
       "    </tr>\n",
       "    <tr>\n",
       "      <th>1372862</th>\n",
       "      <td>OCTV</td>\n",
       "      <td>LIV</td>\n",
       "      <td>WHIPARM OCTOPUS</td>\n",
       "      <td>OCTOPUS</td>\n",
       "      <td>VARIABILIS</td>\n",
       "      <td>MOL</td>\n",
       "      <td>CN</td>\n",
       "      <td>KR</td>\n",
       "      <td>T</td>\n",
       "      <td>W</td>\n",
       "      <td>A</td>\n",
       "      <td>HN</td>\n",
       "      <td>22.0</td>\n",
       "      <td>NO</td>\n",
       "      <td>141.0</td>\n",
       "      <td>7</td>\n",
       "    </tr>\n",
       "    <tr>\n",
       "      <th>1574178</th>\n",
       "      <td>GAFA</td>\n",
       "      <td>LIV</td>\n",
       "      <td>CRYSTAL CORAL</td>\n",
       "      <td>GALAXEA</td>\n",
       "      <td>FASCICULARIS</td>\n",
       "      <td>COR</td>\n",
       "      <td>ID</td>\n",
       "      <td>ID</td>\n",
       "      <td>T</td>\n",
       "      <td>W</td>\n",
       "      <td>A</td>\n",
       "      <td>AT</td>\n",
       "      <td>5.0</td>\n",
       "      <td>NO</td>\n",
       "      <td>25.0</td>\n",
       "      <td>7</td>\n",
       "    </tr>\n",
       "    <tr>\n",
       "      <th>569908</th>\n",
       "      <td>KATP</td>\n",
       "      <td>MEA</td>\n",
       "      <td>SKIPJACK TUNA</td>\n",
       "      <td>KATSUWONUS</td>\n",
       "      <td>PELAMIS</td>\n",
       "      <td>FSH</td>\n",
       "      <td>VS</td>\n",
       "      <td>TH</td>\n",
       "      <td>T</td>\n",
       "      <td>W</td>\n",
       "      <td>A</td>\n",
       "      <td>AN</td>\n",
       "      <td>15.0</td>\n",
       "      <td>NO</td>\n",
       "      <td>2.0</td>\n",
       "      <td>2</td>\n",
       "    </tr>\n",
       "    <tr>\n",
       "      <th>43368</th>\n",
       "      <td>CRUS</td>\n",
       "      <td>LIV</td>\n",
       "      <td>CRABS,LOBSTERS, CRUSTACEANS</td>\n",
       "      <td>NaN_genus</td>\n",
       "      <td>NaN_species</td>\n",
       "      <td>CRS</td>\n",
       "      <td>TW</td>\n",
       "      <td>TW</td>\n",
       "      <td>T</td>\n",
       "      <td>W</td>\n",
       "      <td>A</td>\n",
       "      <td>LA</td>\n",
       "      <td>6490.0</td>\n",
       "      <td>NO</td>\n",
       "      <td>3555.0</td>\n",
       "      <td>5</td>\n",
       "    </tr>\n",
       "  </tbody>\n",
       "</table>\n",
       "</div>"
      ],
      "text/plain": [
       "        species_code wildlf_desc        specific_generic_name       genus  \\\n",
       "164498          PMIL         LIV              MILES' FIREFISH     PTEROIS   \n",
       "1372862         OCTV         LIV              WHIPARM OCTOPUS     OCTOPUS   \n",
       "1574178         GAFA         LIV                CRYSTAL CORAL     GALAXEA   \n",
       "569908          KATP         MEA                SKIPJACK TUNA  KATSUWONUS   \n",
       "43368           CRUS         LIV  CRABS,LOBSTERS, CRUSTACEANS   NaN_genus   \n",
       "\n",
       "              species wildlf_cat ctry_org ctry_ie purp src trans_mode pt_cd  \\\n",
       "164498          MILES        FSH       LK      LK    T   W          A    AT   \n",
       "1372862    VARIABILIS        MOL       CN      KR    T   W          A    HN   \n",
       "1574178  FASCICULARIS        COR       ID      ID    T   W          A    AT   \n",
       "569908        PELAMIS        FSH       VS      TH    T   W          A    AN   \n",
       "43368     NaN_species        CRS       TW      TW    T   W          A    LA   \n",
       "\n",
       "            qty unit   value  ship_date_mm  \n",
       "164498      2.0   NO     7.0             5  \n",
       "1372862    22.0   NO   141.0             7  \n",
       "1574178     5.0   NO    25.0             7  \n",
       "569908     15.0   NO     2.0             2  \n",
       "43368    6490.0   NO  3555.0             5  "
      ]
     },
     "execution_count": 14,
     "metadata": {},
     "output_type": "execute_result"
    }
   ],
   "source": [
    "X_train.head()"
   ]
  },
  {
   "cell_type": "code",
   "execution_count": 15,
   "id": "5f6218e0-599b-406a-aeb1-59c80739edfb",
   "metadata": {},
   "outputs": [
    {
     "data": {
      "text/plain": [
       "(1192878, 16)"
      ]
     },
     "execution_count": 15,
     "metadata": {},
     "output_type": "execute_result"
    }
   ],
   "source": [
    "X_train.shape"
   ]
  },
  {
   "cell_type": "markdown",
   "id": "0fd4236b-4b3a-4054-a340-f9e55213f867",
   "metadata": {
    "tags": []
   },
   "source": [
    "#### Option 1: TargetEncoding on Categorical and RobustScaler on Numeric Cols"
   ]
  },
  {
   "cell_type": "code",
   "execution_count": 16,
   "id": "1d5df1f4-561f-449a-8f4b-c68cf0379ab7",
   "metadata": {},
   "outputs": [],
   "source": [
    "numerical_var = ['value', 'qty', 'ship_date_mm'] # <- added ship_date_mm\n",
    "categorical_var = ['species_code', 'wildlf_desc', 'specific_generic_name', 'genus', 'species', 'wildlf_cat', \n",
    "                'ctry_org', 'ctry_ie','purp', 'src', 'trans_mode', 'pt_cd', 'unit']\n",
    "\n",
    "ct_target = make_column_transformer(\n",
    "    (StandardScaler(), numerical_var), # <- changed to standard\n",
    "    (TargetEncoder(), categorical_var),\n",
    "    remainder='passthrough')"
   ]
  },
  {
   "cell_type": "code",
   "execution_count": 17,
   "id": "fe03620f-451a-4ab8-a0b7-a937c99d3815",
   "metadata": {},
   "outputs": [],
   "source": [
    "X_train_t = ct_target.fit_transform(X_train, y_train)\n",
    "X_test_t = ct_target.transform(X_test)"
   ]
  },
  {
   "cell_type": "code",
   "execution_count": 18,
   "id": "4b41ab8b-826d-4f9b-8b56-0d0e0163aa21",
   "metadata": {},
   "outputs": [
    {
     "data": {
      "text/plain": [
       "array([[-0.02619352, -0.00842565, -0.40621566,  0.00130208,  0.00393616,\n",
       "         0.00130208,  0.00075635,  0.00130208,  0.01988551,  0.00127508,\n",
       "         0.00181438,  0.00993194,  0.01499162,  0.01117139,  0.0069574 ,\n",
       "         0.01567492],\n",
       "       [-0.02573808, -0.00842559,  0.1996085 ,  0.00264988,  0.00393616,\n",
       "         0.00264988,  0.00283394,  0.00254696,  0.0107438 ,  0.01617875,\n",
       "         0.0077198 ,  0.00993194,  0.01499162,  0.01117139,  0.01238219,\n",
       "         0.01567492]])"
      ]
     },
     "execution_count": 18,
     "metadata": {},
     "output_type": "execute_result"
    }
   ],
   "source": [
    "X_train_t[:2]"
   ]
  },
  {
   "cell_type": "markdown",
   "id": "9d0d9fdd-a1e0-4139-8c0b-e970741d7d86",
   "metadata": {
    "tags": []
   },
   "source": [
    "#### Option 2: TargetEncoding on Categorical and RobustScaler on all"
   ]
  },
  {
   "cell_type": "code",
   "execution_count": 19,
   "id": "84861979-8c66-44ae-844b-07b6734c4277",
   "metadata": {},
   "outputs": [],
   "source": [
    "numerical_var = ['value', 'qty'] # <- added ship_date_mm\n",
    "categorical_var = ['species_code', 'wildlf_desc', 'specific_generic_name', 'genus', 'species', 'wildlf_cat', \n",
    "                'ctry_org', 'ctry_ie','purp', 'src', 'trans_mode', 'pt_cd', 'unit', 'ship_date_mm']\n",
    "\n",
    "\n",
    "ct_target = make_column_transformer(\n",
    "    (TargetEncoder(), categorical_var),\n",
    "    #(RobustScaler(), feature_cols),    #operation is parallelized and concatenated together\n",
    "    remainder='passthrough')\n",
    "\n",
    "pipe = Pipeline([('targetEncoding', ct_target), \n",
    "                 ('standardScaler', StandardScaler()) # <- changed to standard\n",
    "                ], verbose=False)"
   ]
  },
  {
   "cell_type": "code",
   "execution_count": 20,
   "id": "a78e4557-70ca-4403-87d5-9d582c76f74c",
   "metadata": {},
   "outputs": [],
   "source": [
    "X_train_t = pipe.fit_transform(X_train, y_train)\n",
    "X_test_t = pipe.transform(X_test)"
   ]
  },
  {
   "cell_type": "code",
   "execution_count": 21,
   "id": "afd08bc2-6446-4b04-9aec-ec0f474f90f7",
   "metadata": {},
   "outputs": [
    {
     "data": {
      "text/plain": [
       "array([[-0.21464432, -0.37088384, -0.22635742, -0.28044219, -0.41989256,\n",
       "         0.19813252, -0.36436796, -0.53134016, -0.16962527, -0.02843955,\n",
       "        -0.16754869, -0.31002015, -0.05388076, -0.40621566, -0.00842565,\n",
       "        -0.02619352],\n",
       "       [-0.19511328, -0.37088384, -0.2058624 , -0.2428953 , -0.38497922,\n",
       "        -0.31753287, -0.00468166, -0.31579673, -0.16962527, -0.02843955,\n",
       "        -0.16754869, -0.13140895, -0.05388076,  0.1996085 , -0.00842559,\n",
       "        -0.02573808]])"
      ]
     },
     "execution_count": 21,
     "metadata": {},
     "output_type": "execute_result"
    }
   ],
   "source": [
    "X_train_t[:2]"
   ]
  },
  {
   "cell_type": "markdown",
   "id": "5106fc42-86cf-4601-916d-c53f6382ef93",
   "metadata": {
    "tags": []
   },
   "source": [
    "#### PCA"
   ]
  },
  {
   "cell_type": "code",
   "execution_count": 22,
   "id": "f36f0433-9507-41c5-8254-8fba285584b6",
   "metadata": {},
   "outputs": [
    {
     "data": {
      "text/html": [
       "<div>\n",
       "<style scoped>\n",
       "    .dataframe tbody tr th:only-of-type {\n",
       "        vertical-align: middle;\n",
       "    }\n",
       "\n",
       "    .dataframe tbody tr th {\n",
       "        vertical-align: top;\n",
       "    }\n",
       "\n",
       "    .dataframe thead th {\n",
       "        text-align: right;\n",
       "    }\n",
       "</style>\n",
       "<table border=\"1\" class=\"dataframe\">\n",
       "  <thead>\n",
       "    <tr style=\"text-align: right;\">\n",
       "      <th></th>\n",
       "      <th>species_code</th>\n",
       "      <th>wildlf_desc</th>\n",
       "      <th>specific_generic_name</th>\n",
       "      <th>genus</th>\n",
       "      <th>species</th>\n",
       "      <th>wildlf_cat</th>\n",
       "      <th>ctry_org</th>\n",
       "      <th>ctry_ie</th>\n",
       "      <th>purp</th>\n",
       "      <th>src</th>\n",
       "      <th>trans_mode</th>\n",
       "      <th>pt_cd</th>\n",
       "      <th>qty</th>\n",
       "      <th>unit</th>\n",
       "      <th>value</th>\n",
       "      <th>ship_date_mm</th>\n",
       "    </tr>\n",
       "  </thead>\n",
       "  <tbody>\n",
       "    <tr>\n",
       "      <th>count</th>\n",
       "      <td>1.192878e+06</td>\n",
       "      <td>1.192878e+06</td>\n",
       "      <td>1.192878e+06</td>\n",
       "      <td>1.192878e+06</td>\n",
       "      <td>1.192878e+06</td>\n",
       "      <td>1.192878e+06</td>\n",
       "      <td>1.192878e+06</td>\n",
       "      <td>1.192878e+06</td>\n",
       "      <td>1.192878e+06</td>\n",
       "      <td>1.192878e+06</td>\n",
       "      <td>1.192878e+06</td>\n",
       "      <td>1.192878e+06</td>\n",
       "      <td>1.192878e+06</td>\n",
       "      <td>1.192878e+06</td>\n",
       "      <td>1.192878e+06</td>\n",
       "      <td>1.192878e+06</td>\n",
       "    </tr>\n",
       "    <tr>\n",
       "      <th>mean</th>\n",
       "      <td>-1.353486e-15</td>\n",
       "      <td>3.806601e-15</td>\n",
       "      <td>-5.994185e-16</td>\n",
       "      <td>1.464228e-15</td>\n",
       "      <td>1.077671e-16</td>\n",
       "      <td>7.912439e-16</td>\n",
       "      <td>-4.456394e-16</td>\n",
       "      <td>1.115096e-15</td>\n",
       "      <td>3.154055e-15</td>\n",
       "      <td>-1.359933e-15</td>\n",
       "      <td>3.956916e-15</td>\n",
       "      <td>-1.997024e-15</td>\n",
       "      <td>-5.435189e-15</td>\n",
       "      <td>9.495215e-16</td>\n",
       "      <td>-1.868977e-16</td>\n",
       "      <td>6.651928e-16</td>\n",
       "    </tr>\n",
       "    <tr>\n",
       "      <th>std</th>\n",
       "      <td>1.000000e+00</td>\n",
       "      <td>1.000000e+00</td>\n",
       "      <td>1.000000e+00</td>\n",
       "      <td>1.000000e+00</td>\n",
       "      <td>1.000000e+00</td>\n",
       "      <td>1.000000e+00</td>\n",
       "      <td>1.000000e+00</td>\n",
       "      <td>1.000000e+00</td>\n",
       "      <td>1.000000e+00</td>\n",
       "      <td>1.000000e+00</td>\n",
       "      <td>1.000000e+00</td>\n",
       "      <td>1.000000e+00</td>\n",
       "      <td>1.000000e+00</td>\n",
       "      <td>1.000000e+00</td>\n",
       "      <td>1.000000e+00</td>\n",
       "      <td>1.000000e+00</td>\n",
       "    </tr>\n",
       "    <tr>\n",
       "      <th>min</th>\n",
       "      <td>-2.335129e-01</td>\n",
       "      <td>-4.882239e-01</td>\n",
       "      <td>-2.461572e-01</td>\n",
       "      <td>-2.941111e-01</td>\n",
       "      <td>-4.564103e-01</td>\n",
       "      <td>-8.561777e-01</td>\n",
       "      <td>-3.951407e-01</td>\n",
       "      <td>-5.975635e-01</td>\n",
       "      <td>-4.311474e-01</td>\n",
       "      <td>-2.182742e-01</td>\n",
       "      <td>-3.261140e-01</td>\n",
       "      <td>-5.390923e-01</td>\n",
       "      <td>-1.262274e+00</td>\n",
       "      <td>-1.617864e+00</td>\n",
       "      <td>-8.425659e-03</td>\n",
       "      <td>-2.621732e-02</td>\n",
       "    </tr>\n",
       "    <tr>\n",
       "      <th>25%</th>\n",
       "      <td>-2.163840e-01</td>\n",
       "      <td>-3.708838e-01</td>\n",
       "      <td>-2.205742e-01</td>\n",
       "      <td>-2.620396e-01</td>\n",
       "      <td>-4.088485e-01</td>\n",
       "      <td>-3.175329e-01</td>\n",
       "      <td>-2.907507e-01</td>\n",
       "      <td>-3.715621e-01</td>\n",
       "      <td>-1.696253e-01</td>\n",
       "      <td>-2.018745e-01</td>\n",
       "      <td>-1.675487e-01</td>\n",
       "      <td>-3.100202e-01</td>\n",
       "      <td>-5.388076e-02</td>\n",
       "      <td>-7.091277e-01</td>\n",
       "      <td>-8.425653e-03</td>\n",
       "      <td>-2.604737e-02</td>\n",
       "    </tr>\n",
       "    <tr>\n",
       "      <th>50%</th>\n",
       "      <td>-1.816451e-01</td>\n",
       "      <td>-2.597751e-01</td>\n",
       "      <td>-1.783510e-01</td>\n",
       "      <td>-2.042422e-01</td>\n",
       "      <td>-3.040862e-01</td>\n",
       "      <td>-8.285904e-02</td>\n",
       "      <td>-2.529845e-01</td>\n",
       "      <td>-2.512900e-01</td>\n",
       "      <td>-1.696253e-01</td>\n",
       "      <td>-2.843955e-02</td>\n",
       "      <td>-1.675487e-01</td>\n",
       "      <td>-1.915689e-01</td>\n",
       "      <td>-5.388076e-02</td>\n",
       "      <td>-1.033036e-01</td>\n",
       "      <td>-8.425630e-03</td>\n",
       "      <td>-2.519086e-02</td>\n",
       "    </tr>\n",
       "    <tr>\n",
       "      <th>75%</th>\n",
       "      <td>-8.057648e-02</td>\n",
       "      <td>9.591417e-02</td>\n",
       "      <td>-8.007191e-02</td>\n",
       "      <td>1.892180e-05</td>\n",
       "      <td>4.927530e-02</td>\n",
       "      <td>1.981325e-01</td>\n",
       "      <td>-2.087890e-02</td>\n",
       "      <td>-2.985789e-02</td>\n",
       "      <td>-1.696253e-01</td>\n",
       "      <td>-2.843955e-02</td>\n",
       "      <td>-1.675487e-01</td>\n",
       "      <td>1.087169e-01</td>\n",
       "      <td>-5.388076e-02</td>\n",
       "      <td>8.054327e-01</td>\n",
       "      <td>-8.425366e-03</td>\n",
       "      <td>-1.970849e-02</td>\n",
       "    </tr>\n",
       "    <tr>\n",
       "      <th>max</th>\n",
       "      <td>1.425753e+01</td>\n",
       "      <td>2.932796e+01</td>\n",
       "      <td>1.496011e+01</td>\n",
       "      <td>1.777819e+01</td>\n",
       "      <td>2.758922e+01</td>\n",
       "      <td>5.078290e+01</td>\n",
       "      <td>9.682820e+00</td>\n",
       "      <td>2.556022e+01</td>\n",
       "      <td>5.267843e+00</td>\n",
       "      <td>1.338322e+01</td>\n",
       "      <td>6.927907e+00</td>\n",
       "      <td>3.238588e+01</td>\n",
       "      <td>1.563030e+01</td>\n",
       "      <td>1.714169e+00</td>\n",
       "      <td>3.214475e+02</td>\n",
       "      <td>1.049846e+03</td>\n",
       "    </tr>\n",
       "  </tbody>\n",
       "</table>\n",
       "</div>"
      ],
      "text/plain": [
       "       species_code   wildlf_desc  specific_generic_name         genus  \\\n",
       "count  1.192878e+06  1.192878e+06           1.192878e+06  1.192878e+06   \n",
       "mean  -1.353486e-15  3.806601e-15          -5.994185e-16  1.464228e-15   \n",
       "std    1.000000e+00  1.000000e+00           1.000000e+00  1.000000e+00   \n",
       "min   -2.335129e-01 -4.882239e-01          -2.461572e-01 -2.941111e-01   \n",
       "25%   -2.163840e-01 -3.708838e-01          -2.205742e-01 -2.620396e-01   \n",
       "50%   -1.816451e-01 -2.597751e-01          -1.783510e-01 -2.042422e-01   \n",
       "75%   -8.057648e-02  9.591417e-02          -8.007191e-02  1.892180e-05   \n",
       "max    1.425753e+01  2.932796e+01           1.496011e+01  1.777819e+01   \n",
       "\n",
       "            species    wildlf_cat      ctry_org       ctry_ie          purp  \\\n",
       "count  1.192878e+06  1.192878e+06  1.192878e+06  1.192878e+06  1.192878e+06   \n",
       "mean   1.077671e-16  7.912439e-16 -4.456394e-16  1.115096e-15  3.154055e-15   \n",
       "std    1.000000e+00  1.000000e+00  1.000000e+00  1.000000e+00  1.000000e+00   \n",
       "min   -4.564103e-01 -8.561777e-01 -3.951407e-01 -5.975635e-01 -4.311474e-01   \n",
       "25%   -4.088485e-01 -3.175329e-01 -2.907507e-01 -3.715621e-01 -1.696253e-01   \n",
       "50%   -3.040862e-01 -8.285904e-02 -2.529845e-01 -2.512900e-01 -1.696253e-01   \n",
       "75%    4.927530e-02  1.981325e-01 -2.087890e-02 -2.985789e-02 -1.696253e-01   \n",
       "max    2.758922e+01  5.078290e+01  9.682820e+00  2.556022e+01  5.267843e+00   \n",
       "\n",
       "                src    trans_mode         pt_cd           qty          unit  \\\n",
       "count  1.192878e+06  1.192878e+06  1.192878e+06  1.192878e+06  1.192878e+06   \n",
       "mean  -1.359933e-15  3.956916e-15 -1.997024e-15 -5.435189e-15  9.495215e-16   \n",
       "std    1.000000e+00  1.000000e+00  1.000000e+00  1.000000e+00  1.000000e+00   \n",
       "min   -2.182742e-01 -3.261140e-01 -5.390923e-01 -1.262274e+00 -1.617864e+00   \n",
       "25%   -2.018745e-01 -1.675487e-01 -3.100202e-01 -5.388076e-02 -7.091277e-01   \n",
       "50%   -2.843955e-02 -1.675487e-01 -1.915689e-01 -5.388076e-02 -1.033036e-01   \n",
       "75%   -2.843955e-02 -1.675487e-01  1.087169e-01 -5.388076e-02  8.054327e-01   \n",
       "max    1.338322e+01  6.927907e+00  3.238588e+01  1.563030e+01  1.714169e+00   \n",
       "\n",
       "              value  ship_date_mm  \n",
       "count  1.192878e+06  1.192878e+06  \n",
       "mean  -1.868977e-16  6.651928e-16  \n",
       "std    1.000000e+00  1.000000e+00  \n",
       "min   -8.425659e-03 -2.621732e-02  \n",
       "25%   -8.425653e-03 -2.604737e-02  \n",
       "50%   -8.425630e-03 -2.519086e-02  \n",
       "75%   -8.425366e-03 -1.970849e-02  \n",
       "max    3.214475e+02  1.049846e+03  "
      ]
     },
     "execution_count": 22,
     "metadata": {},
     "output_type": "execute_result"
    }
   ],
   "source": [
    "# checking out the transformed data\n",
    "X_train_t_df = pd.DataFrame(X_train_t, columns=X_train.columns)\n",
    "X_train_t_df.describe()"
   ]
  },
  {
   "cell_type": "code",
   "execution_count": 23,
   "id": "2c9516e0-e9c6-48d1-9a8d-98c209a5f1ed",
   "metadata": {},
   "outputs": [
    {
     "name": "stdout",
     "output_type": "stream",
     "text": [
      "(1192878, 16) (1192878, 16)\n"
     ]
    }
   ],
   "source": [
    "pca = PCA(random_state=rng)\n",
    "X_train_pca = pca.fit_transform(X_train_t)\n",
    "print(X_train_t.shape, X_train_pca.shape)"
   ]
  },
  {
   "cell_type": "code",
   "execution_count": 24,
   "id": "27ae64e3-e255-4b6b-9d90-22154c3a5a24",
   "metadata": {},
   "outputs": [],
   "source": [
    "# updated to handle any number of components\n",
    "def plot_pca(pca, f_names):\n",
    "    fig, ax = plt.subplots(figsize=(10, 6))\n",
    "    plt.imshow(pca.components_, interpolation = 'none', cmap = 'plasma')\n",
    "    feature_names=f_names\n",
    "    plt.xticks(np.arange(-0., len(feature_names), 1) , feature_names, rotation = 90, fontsize=12)\n",
    "    plt.yticks(np.arange(0., pca.n_components_, 1), ['PC'+str(i) for i in range(1, pca.n_components_+1)], fontsize = 16)\n",
    "    plt.colorbar()"
   ]
  },
  {
   "cell_type": "code",
   "execution_count": 25,
   "id": "ac59585f-ad5a-4eb1-8526-50e4a2d1c991",
   "metadata": {},
   "outputs": [
    {
     "data": {
      "text/plain": [
       "<AxesSubplot:>"
      ]
     },
     "execution_count": 25,
     "metadata": {},
     "output_type": "execute_result"
    },
    {
     "data": {
      "image/png": "[encoded data removed]",
      "text/plain": [
       "<Figure size 432x288 with 2 Axes>"
      ]
     },
     "metadata": {
      "needs_background": "light"
     },
     "output_type": "display_data"
    }
   ],
   "source": [
    "sns.heatmap(empirical_covariance(X_train_t))"
   ]
  },
  {
   "cell_type": "code",
   "execution_count": 26,
   "id": "c0208b43-21b2-4f35-ac46-330d2e87366f",
   "metadata": {},
   "outputs": [
    {
     "data": {
      "text/plain": [
       "<AxesSubplot:>"
      ]
     },
     "execution_count": 26,
     "metadata": {},
     "output_type": "execute_result"
    },
    {
     "data": {
      "image/png": "[encoded data removed]",
      "text/plain": [
       "<Figure size 432x288 with 2 Axes>"
      ]
     },
     "metadata": {
      "needs_background": "light"
     },
     "output_type": "display_data"
    }
   ],
   "source": [
    "sns.heatmap(empirical_covariance(X_train_pca))"
   ]
  },
  {
   "cell_type": "code",
   "execution_count": 27,
   "id": "98d4d585-bfc4-4bd3-b4c1-f2d945377b91",
   "metadata": {},
   "outputs": [
    {
     "data": {
      "image/png": "[encoded data removed]",
      "text/plain": [
       "<Figure size 720x432 with 2 Axes>"
      ]
     },
     "metadata": {
      "needs_background": "light"
     },
     "output_type": "display_data"
    }
   ],
   "source": [
    "plot_pca(pca, feature_cols)"
   ]
  },
  {
   "cell_type": "code",
   "execution_count": 28,
   "id": "a8c77a30-2b31-4e3a-ab93-a752931e8029",
   "metadata": {},
   "outputs": [
    {
     "name": "stdout",
     "output_type": "stream",
     "text": [
      "explained_variance_ratio: [0.25416502 0.08352695 0.06610683 0.06281392 0.06265103 0.06238136\n",
      " 0.06194746 0.05855389 0.05347372 0.04947116 0.04934233 0.04617987\n",
      " 0.03818934 0.03165603 0.01632091 0.00322019]\n",
      "sum of explained variance ratios: 1.0\n",
      "singular values: [2202.49987606 1262.61609298 1123.26223225 1094.92897488 1093.50833555\n",
      " 1091.15240888 1087.35102951 1057.14817533 1010.24852074  971.70414291\n",
      "  970.43807255  938.8243482   853.74681451  777.29565475  558.1233432\n",
      "  247.91280946]\n"
     ]
    }
   ],
   "source": [
    "print(\"explained_variance_ratio:\", pca.explained_variance_ratio_)\n",
    "print(\"sum of explained variance ratios:\", np.sum(pca.explained_variance_ratio_))\n",
    "print(\"singular values:\", pca.singular_values_)  "
   ]
  },
  {
   "cell_type": "code",
   "execution_count": 29,
   "id": "c840c85d-c0ef-41e8-8840-d4893fadfe3a",
   "metadata": {},
   "outputs": [
    {
     "data": {
      "text/plain": [
       "[<matplotlib.lines.Line2D at 0x7fd2d60dafb0>]"
      ]
     },
     "execution_count": 29,
     "metadata": {},
     "output_type": "execute_result"
    },
    {
     "data": {
      "image/png": "[encoded data removed]",
      "text/plain": [
       "<Figure size 432x288 with 1 Axes>"
      ]
     },
     "metadata": {
      "needs_background": "light"
     },
     "output_type": "display_data"
    }
   ],
   "source": [
    "plt.plot(np.cumsum(pca.explained_variance_ratio_))"
   ]
  },
  {
   "cell_type": "code",
   "execution_count": 30,
   "id": "0dac3011-de8d-4887-b2de-3b7be1519ff3",
   "metadata": {},
   "outputs": [
    {
     "data": {
      "text/plain": [
       "0     0.254165\n",
       "1     0.337692\n",
       "2     0.403799\n",
       "3     0.466613\n",
       "4     0.529264\n",
       "5     0.591645\n",
       "6     0.653593\n",
       "7     0.712146\n",
       "8     0.765620\n",
       "9     0.815091\n",
       "10    0.864434\n",
       "11    0.910614\n",
       "12    0.948803\n",
       "13    0.980459\n",
       "14    0.996780\n",
       "15    1.000000\n",
       "Name: explained var ratio, dtype: float64"
      ]
     },
     "execution_count": 30,
     "metadata": {},
     "output_type": "execute_result"
    },
    {
     "data": {
      "image/png": "[encoded data removed]",
      "text/plain": [
       "<Figure size 432x288 with 1 Axes>"
      ]
     },
     "metadata": {
      "needs_background": "light"
     },
     "output_type": "display_data"
    }
   ],
   "source": [
    "df = pd.DataFrame({'explained var ratio':pca.explained_variance_ratio_,\n",
    "                   'PC':[str(i) for i in range(1, pca.n_components_+1)]}) # updated to handle any number of components\n",
    "sns.barplot(x = 'PC',y = \"explained var ratio\", data = df, color=\"c\");\n",
    "np.cumsum(df['explained var ratio'])"
   ]
  },
  {
   "cell_type": "code",
   "execution_count": 31,
   "id": "93625373-f76f-40f3-8ebc-4a2b0e93a6ee",
   "metadata": {},
   "outputs": [
    {
     "data": {
      "image/png": "[encoded data removed]",
      "text/plain": [
       "<Figure size 432x288 with 1 Axes>"
      ]
     },
     "metadata": {
      "needs_background": "light"
     },
     "output_type": "display_data"
    }
   ],
   "source": [
    "df = pd.DataFrame({'eigenvalue': np.sqrt(pca.explained_variance_),\n",
    "                   'PC':[str(i) for i in range(1, pca.n_components_+1)]}) # updated to handle any number of components\n",
    "sns.lineplot(x = 'PC',y = \"eigenvalue\", data = df, color=\"c\");"
   ]
  },
  {
   "cell_type": "markdown",
   "id": "5df9810e-d109-4a12-b58a-6d4dee4369c8",
   "metadata": {
    "tags": []
   },
   "source": [
    "#### Archive - do not run "
   ]
  },
  {
   "cell_type": "code",
   "execution_count": 32,
   "id": "7908b61a-9bf9-4719-b2d5-93d61307366e",
   "metadata": {},
   "outputs": [
    {
     "data": {
      "text/html": [
       "<div>\n",
       "<style scoped>\n",
       "    .dataframe tbody tr th:only-of-type {\n",
       "        vertical-align: middle;\n",
       "    }\n",
       "\n",
       "    .dataframe tbody tr th {\n",
       "        vertical-align: top;\n",
       "    }\n",
       "\n",
       "    .dataframe thead th {\n",
       "        text-align: right;\n",
       "    }\n",
       "</style>\n",
       "<table border=\"1\" class=\"dataframe\">\n",
       "  <thead>\n",
       "    <tr style=\"text-align: right;\">\n",
       "      <th></th>\n",
       "      <th>species_code</th>\n",
       "      <th>wildlf_desc</th>\n",
       "      <th>specific_generic_name</th>\n",
       "      <th>genus</th>\n",
       "      <th>species</th>\n",
       "      <th>wildlf_cat</th>\n",
       "      <th>ctry_org</th>\n",
       "      <th>ctry_ie</th>\n",
       "      <th>purp</th>\n",
       "      <th>src</th>\n",
       "      <th>trans_mode</th>\n",
       "      <th>pt_cd</th>\n",
       "      <th>qty</th>\n",
       "      <th>unit</th>\n",
       "      <th>value</th>\n",
       "      <th>ship_date_mm</th>\n",
       "    </tr>\n",
       "  </thead>\n",
       "  <tbody>\n",
       "    <tr>\n",
       "      <th>count</th>\n",
       "      <td>1.192878e+06</td>\n",
       "      <td>1.192878e+06</td>\n",
       "      <td>1.192878e+06</td>\n",
       "      <td>1.192878e+06</td>\n",
       "      <td>1.192878e+06</td>\n",
       "      <td>1.192878e+06</td>\n",
       "      <td>1.192878e+06</td>\n",
       "      <td>1.192878e+06</td>\n",
       "      <td>1.192878e+06</td>\n",
       "      <td>1.192878e+06</td>\n",
       "      <td>1.192878e+06</td>\n",
       "      <td>1.192878e+06</td>\n",
       "      <td>1.192878e+06</td>\n",
       "      <td>1.192878e+06</td>\n",
       "      <td>1.192878e+06</td>\n",
       "      <td>1.192878e+06</td>\n",
       "    </tr>\n",
       "    <tr>\n",
       "      <th>mean</th>\n",
       "      <td>-1.353486e-15</td>\n",
       "      <td>3.806601e-15</td>\n",
       "      <td>-5.994185e-16</td>\n",
       "      <td>1.464228e-15</td>\n",
       "      <td>1.077671e-16</td>\n",
       "      <td>7.912439e-16</td>\n",
       "      <td>-4.456394e-16</td>\n",
       "      <td>1.115096e-15</td>\n",
       "      <td>3.154055e-15</td>\n",
       "      <td>-1.359933e-15</td>\n",
       "      <td>3.956916e-15</td>\n",
       "      <td>-1.997024e-15</td>\n",
       "      <td>-5.435189e-15</td>\n",
       "      <td>9.495215e-16</td>\n",
       "      <td>-1.868977e-16</td>\n",
       "      <td>6.651928e-16</td>\n",
       "    </tr>\n",
       "    <tr>\n",
       "      <th>std</th>\n",
       "      <td>1.000000e+00</td>\n",
       "      <td>1.000000e+00</td>\n",
       "      <td>1.000000e+00</td>\n",
       "      <td>1.000000e+00</td>\n",
       "      <td>1.000000e+00</td>\n",
       "      <td>1.000000e+00</td>\n",
       "      <td>1.000000e+00</td>\n",
       "      <td>1.000000e+00</td>\n",
       "      <td>1.000000e+00</td>\n",
       "      <td>1.000000e+00</td>\n",
       "      <td>1.000000e+00</td>\n",
       "      <td>1.000000e+00</td>\n",
       "      <td>1.000000e+00</td>\n",
       "      <td>1.000000e+00</td>\n",
       "      <td>1.000000e+00</td>\n",
       "      <td>1.000000e+00</td>\n",
       "    </tr>\n",
       "    <tr>\n",
       "      <th>min</th>\n",
       "      <td>-2.335129e-01</td>\n",
       "      <td>-4.882239e-01</td>\n",
       "      <td>-2.461572e-01</td>\n",
       "      <td>-2.941111e-01</td>\n",
       "      <td>-4.564103e-01</td>\n",
       "      <td>-8.561777e-01</td>\n",
       "      <td>-3.951407e-01</td>\n",
       "      <td>-5.975635e-01</td>\n",
       "      <td>-4.311474e-01</td>\n",
       "      <td>-2.182742e-01</td>\n",
       "      <td>-3.261140e-01</td>\n",
       "      <td>-5.390923e-01</td>\n",
       "      <td>-1.262274e+00</td>\n",
       "      <td>-1.617864e+00</td>\n",
       "      <td>-8.425659e-03</td>\n",
       "      <td>-2.621732e-02</td>\n",
       "    </tr>\n",
       "    <tr>\n",
       "      <th>25%</th>\n",
       "      <td>-2.163840e-01</td>\n",
       "      <td>-3.708838e-01</td>\n",
       "      <td>-2.205742e-01</td>\n",
       "      <td>-2.620396e-01</td>\n",
       "      <td>-4.088485e-01</td>\n",
       "      <td>-3.175329e-01</td>\n",
       "      <td>-2.907507e-01</td>\n",
       "      <td>-3.715621e-01</td>\n",
       "      <td>-1.696253e-01</td>\n",
       "      <td>-2.018745e-01</td>\n",
       "      <td>-1.675487e-01</td>\n",
       "      <td>-3.100202e-01</td>\n",
       "      <td>-5.388076e-02</td>\n",
       "      <td>-7.091277e-01</td>\n",
       "      <td>-8.425653e-03</td>\n",
       "      <td>-2.604737e-02</td>\n",
       "    </tr>\n",
       "    <tr>\n",
       "      <th>50%</th>\n",
       "      <td>-1.816451e-01</td>\n",
       "      <td>-2.597751e-01</td>\n",
       "      <td>-1.783510e-01</td>\n",
       "      <td>-2.042422e-01</td>\n",
       "      <td>-3.040862e-01</td>\n",
       "      <td>-8.285904e-02</td>\n",
       "      <td>-2.529845e-01</td>\n",
       "      <td>-2.512900e-01</td>\n",
       "      <td>-1.696253e-01</td>\n",
       "      <td>-2.843955e-02</td>\n",
       "      <td>-1.675487e-01</td>\n",
       "      <td>-1.915689e-01</td>\n",
       "      <td>-5.388076e-02</td>\n",
       "      <td>-1.033036e-01</td>\n",
       "      <td>-8.425630e-03</td>\n",
       "      <td>-2.519086e-02</td>\n",
       "    </tr>\n",
       "    <tr>\n",
       "      <th>75%</th>\n",
       "      <td>-8.057648e-02</td>\n",
       "      <td>9.591417e-02</td>\n",
       "      <td>-8.007191e-02</td>\n",
       "      <td>1.892180e-05</td>\n",
       "      <td>4.927530e-02</td>\n",
       "      <td>1.981325e-01</td>\n",
       "      <td>-2.087890e-02</td>\n",
       "      <td>-2.985789e-02</td>\n",
       "      <td>-1.696253e-01</td>\n",
       "      <td>-2.843955e-02</td>\n",
       "      <td>-1.675487e-01</td>\n",
       "      <td>1.087169e-01</td>\n",
       "      <td>-5.388076e-02</td>\n",
       "      <td>8.054327e-01</td>\n",
       "      <td>-8.425366e-03</td>\n",
       "      <td>-1.970849e-02</td>\n",
       "    </tr>\n",
       "    <tr>\n",
       "      <th>max</th>\n",
       "      <td>1.425753e+01</td>\n",
       "      <td>2.932796e+01</td>\n",
       "      <td>1.496011e+01</td>\n",
       "      <td>1.777819e+01</td>\n",
       "      <td>2.758922e+01</td>\n",
       "      <td>5.078290e+01</td>\n",
       "      <td>9.682820e+00</td>\n",
       "      <td>2.556022e+01</td>\n",
       "      <td>5.267843e+00</td>\n",
       "      <td>1.338322e+01</td>\n",
       "      <td>6.927907e+00</td>\n",
       "      <td>3.238588e+01</td>\n",
       "      <td>1.563030e+01</td>\n",
       "      <td>1.714169e+00</td>\n",
       "      <td>3.214475e+02</td>\n",
       "      <td>1.049846e+03</td>\n",
       "    </tr>\n",
       "  </tbody>\n",
       "</table>\n",
       "</div>"
      ],
      "text/plain": [
       "       species_code   wildlf_desc  specific_generic_name         genus  \\\n",
       "count  1.192878e+06  1.192878e+06           1.192878e+06  1.192878e+06   \n",
       "mean  -1.353486e-15  3.806601e-15          -5.994185e-16  1.464228e-15   \n",
       "std    1.000000e+00  1.000000e+00           1.000000e+00  1.000000e+00   \n",
       "min   -2.335129e-01 -4.882239e-01          -2.461572e-01 -2.941111e-01   \n",
       "25%   -2.163840e-01 -3.708838e-01          -2.205742e-01 -2.620396e-01   \n",
       "50%   -1.816451e-01 -2.597751e-01          -1.783510e-01 -2.042422e-01   \n",
       "75%   -8.057648e-02  9.591417e-02          -8.007191e-02  1.892180e-05   \n",
       "max    1.425753e+01  2.932796e+01           1.496011e+01  1.777819e+01   \n",
       "\n",
       "            species    wildlf_cat      ctry_org       ctry_ie          purp  \\\n",
       "count  1.192878e+06  1.192878e+06  1.192878e+06  1.192878e+06  1.192878e+06   \n",
       "mean   1.077671e-16  7.912439e-16 -4.456394e-16  1.115096e-15  3.154055e-15   \n",
       "std    1.000000e+00  1.000000e+00  1.000000e+00  1.000000e+00  1.000000e+00   \n",
       "min   -4.564103e-01 -8.561777e-01 -3.951407e-01 -5.975635e-01 -4.311474e-01   \n",
       "25%   -4.088485e-01 -3.175329e-01 -2.907507e-01 -3.715621e-01 -1.696253e-01   \n",
       "50%   -3.040862e-01 -8.285904e-02 -2.529845e-01 -2.512900e-01 -1.696253e-01   \n",
       "75%    4.927530e-02  1.981325e-01 -2.087890e-02 -2.985789e-02 -1.696253e-01   \n",
       "max    2.758922e+01  5.078290e+01  9.682820e+00  2.556022e+01  5.267843e+00   \n",
       "\n",
       "                src    trans_mode         pt_cd           qty          unit  \\\n",
       "count  1.192878e+06  1.192878e+06  1.192878e+06  1.192878e+06  1.192878e+06   \n",
       "mean  -1.359933e-15  3.956916e-15 -1.997024e-15 -5.435189e-15  9.495215e-16   \n",
       "std    1.000000e+00  1.000000e+00  1.000000e+00  1.000000e+00  1.000000e+00   \n",
       "min   -2.182742e-01 -3.261140e-01 -5.390923e-01 -1.262274e+00 -1.617864e+00   \n",
       "25%   -2.018745e-01 -1.675487e-01 -3.100202e-01 -5.388076e-02 -7.091277e-01   \n",
       "50%   -2.843955e-02 -1.675487e-01 -1.915689e-01 -5.388076e-02 -1.033036e-01   \n",
       "75%   -2.843955e-02 -1.675487e-01  1.087169e-01 -5.388076e-02  8.054327e-01   \n",
       "max    1.338322e+01  6.927907e+00  3.238588e+01  1.563030e+01  1.714169e+00   \n",
       "\n",
       "              value  ship_date_mm  \n",
       "count  1.192878e+06  1.192878e+06  \n",
       "mean  -1.868977e-16  6.651928e-16  \n",
       "std    1.000000e+00  1.000000e+00  \n",
       "min   -8.425659e-03 -2.621732e-02  \n",
       "25%   -8.425653e-03 -2.604737e-02  \n",
       "50%   -8.425630e-03 -2.519086e-02  \n",
       "75%   -8.425366e-03 -1.970849e-02  \n",
       "max    3.214475e+02  1.049846e+03  "
      ]
     },
     "execution_count": 32,
     "metadata": {},
     "output_type": "execute_result"
    }
   ],
   "source": [
    "# checking out the transformed data\n",
    "X_train_t_df = pd.DataFrame(X_train_t, columns=X_train.columns)\n",
    "X_train_t_df.describe() \n",
    "\n",
    "#numerical shipment encoding"
   ]
  },
  {
   "cell_type": "code",
   "execution_count": 33,
   "id": "67675b71-b910-469f-8060-37317fec51cf",
   "metadata": {},
   "outputs": [],
   "source": [
    "numerical_var = ['value', 'qty']\n",
    "categorical_var = ['species_code', 'wildlf_desc', 'specific_generic_name', 'genus', 'species', 'wildlf_cat', \n",
    "                'ctry_org', 'ctry_ie','purp', 'src', 'trans_mode', 'pt_cd', 'unit']\n",
    "\n",
    "\n",
    "ct_target = make_column_transformer(\n",
    "    (TargetEncoder(), categorical_var),\n",
    "    (StandardScaler(), numerical_var),\n",
    "    remainder='passthrough')"
   ]
  },
  {
   "cell_type": "code",
   "execution_count": null,
   "id": "6f8c6900-baa1-40b0-9ad2-ad18d2468aae",
   "metadata": {},
   "outputs": [],
   "source": []
  }
 ],
 "metadata": {
  "kernelspec": {
   "display_name": "Python 3 (ipykernel)",
   "language": "python",
   "name": "python3"
  },
  "language_info": {
   "codemirror_mode": {
    "name": "ipython",
    "version": 3
   },
   "file_extension": ".py",
   "mimetype": "text/x-python",
   "name": "python",
   "nbconvert_exporter": "python",
   "pygments_lexer": "ipython3",
   "version": "3.10.4"
  }
 },
 "nbformat": 4,
 "nbformat_minor": 5
}
