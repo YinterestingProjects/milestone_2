{
 "cells": [
  {
   "cell_type": "markdown",
   "id": "65eba54c-61dd-4500-b137-5bbbf6d2ffe9",
   "metadata": {
    "pycharm": {
     "name": "#%% md\n"
    }
   },
   "source": [
    "### Baseline Models Template for 2016 - 2020 Data"
   ]
  },
  {
   "cell_type": "code",
   "execution_count": 4,
   "id": "cf47ec1f-dd36-41cf-adc1-b8cd24655722",
   "metadata": {
    "pycharm": {
     "name": "#%%\n"
    }
   },
   "outputs": [],
   "source": [
    "import pandas as pd\n",
    "import numpy as np\n",
    "from sklearn.model_selection import train_test_split\n",
    "from sklearn.preprocessing import StandardScaler, OneHotEncoder, LabelEncoder\n",
    "from sklearn.tree import DecisionTreeClassifier\n",
    "from sklearn.ensemble import RandomForestClassifier, GradientBoostingClassifier\n",
    "from sklearn.dummy import DummyClassifier\n",
    "from sklearn.linear_model import LogisticRegression\n",
    "from sklearn.metrics import classification_report, confusion_matrix\n",
    "\n",
    "from sklearn.pipeline import make_pipeline\n",
    "from sklearn.compose import make_column_transformer\n",
    "from sklearn.decomposition import PCA, SparsePCA\n",
    "from sklearn.covariance import empirical_covariance\n",
    "import matplotlib.pyplot as plt\n",
    "import matplotlib.cm as cm\n",
    "from matplotlib.colors import ListedColormap, BoundaryNorm\n",
    "import matplotlib.patches as mpatches\n",
    "\n",
    "# additional library for boosted trees\n",
    "import xgboost as xgb\n",
    "\n",
    "#FIGS\n",
    "from imodels import FIGSClassifier\n",
    "\n",
    "# imbalanced dataset tool\n",
    "import imblearn\n",
    "\n",
    "# target encoding\n",
    "from category_encoders.target_encoder import TargetEncoder\n",
    "\n",
    "import seaborn as sns\n",
    "import joblib\n",
    "import os\n",
    "#from adspy_shared_utilities import plot_decision_tree\n",
    "from datetime import datetime"
   ]
  },
  {
   "cell_type": "code",
   "execution_count": 5,
   "id": "91f0c944-93fc-4b98-b727-5c634fd32cc5",
   "metadata": {
    "pycharm": {
     "name": "#%%\n"
    }
   },
   "outputs": [],
   "source": [
    "rng = 42"
   ]
  },
  {
   "cell_type": "code",
   "execution_count": 6,
   "id": "15252d07-f6f9-47bf-8fa4-d33d9663bc7e",
   "metadata": {
    "pycharm": {
     "name": "#%%\n"
    }
   },
   "outputs": [],
   "source": [
    "p = '../data/'\n",
    "input_name = 'cleaned.csv'\n",
    "\n",
    "df = pd.read_csv(f'{p}{input_name}')"
   ]
  },
  {
   "cell_type": "markdown",
   "id": "030d9cea-5f82-472c-8789-4cee707da730",
   "metadata": {
    "pycharm": {
     "name": "#%% md\n"
    },
    "tags": []
   },
   "source": [
    "#### Preprocessing"
   ]
  },
  {
   "cell_type": "code",
   "execution_count": 7,
   "id": "f49fadea-28c9-4221-8ee5-1457bddfd692",
   "metadata": {
    "pycharm": {
     "name": "#%%\n"
    }
   },
   "outputs": [],
   "source": [
    "def df_filtering(df, i_e = 'I', f_cols = []):\n",
    "\n",
    "    filtered_df = df[df.i_e == i_e]\n",
    "    filtered_df = filtered_df[f_cols+['act']]\n",
    "    \n",
    "    return filtered_df"
   ]
  },
  {
   "cell_type": "code",
   "execution_count": 8,
   "id": "a02364b7-9904-44d4-8bdc-0934ee5fee78",
   "metadata": {
    "pycharm": {
     "name": "#%%\n"
    }
   },
   "outputs": [
    {
     "data": {
      "text/plain": [
       "Index(['control_number', 'species_code', 'genus', 'species', 'wildlf_desc',\n",
       "       'wildlf_cat', 'cartons', 'qty', 'unit', 'value', 'ctry_org', 'ctry_ie',\n",
       "       'purp', 'src', 'trans_mode', 'act', 'dp_cd', 'disp_date', 'ship_date',\n",
       "       'i_e', 'pt_cd', 'specific_generic_name', 'disp_date_yyyy',\n",
       "       'disp_date_mm', 'ship_date_yyyy', 'ship_date_mm', 'disp_ship_date'],\n",
       "      dtype='object')"
      ]
     },
     "execution_count": 8,
     "metadata": {},
     "output_type": "execute_result"
    }
   ],
   "source": [
    "df.columns"
   ]
  },
  {
   "cell_type": "code",
   "execution_count": 9,
   "id": "66ad55fe-d543-4b10-ac4d-66fb10b8aba5",
   "metadata": {
    "pycharm": {
     "name": "#%%\n"
    }
   },
   "outputs": [],
   "source": [
    "non_feature_cols = ['control_number', 'disp_date', 'i_e', 'ship_date', \n",
    "                    'cartons', 'qty', 'unit', 'specific_generic_name',\n",
    "                    'genus', 'species', 'wildlf_cat', \n",
    "                    'disp_date_yyyy', 'disp_date_mm', 'disp_ship_date']\n",
    "\n",
    "target = ['act', 'dp_cd']\n",
    "\n",
    "feature_cols = ['species_code', 'wildlf_desc', \n",
    "                'ctry_org', 'ctry_ie','purp', 'src', 'trans_mode', 'pt_cd', \n",
    "                 'value', 'ship_date_mm']"
   ]
  },
  {
   "cell_type": "code",
   "execution_count": 10,
   "id": "39a9e465-92ac-487f-a9df-782636d25b10",
   "metadata": {
    "pycharm": {
     "name": "#%%\n"
    }
   },
   "outputs": [],
   "source": [
    "import_df = df_filtering(df, i_e = 'I', f_cols = feature_cols)\n",
    "#export_df = df_filtering(df, i_e = 'E', f_cols = feature_cols)\n",
    "# import: 590505 rows × 11 columns\n",
    "# export: 299340 rows × 11 columns"
   ]
  },
  {
   "cell_type": "code",
   "execution_count": 11,
   "id": "ea48575a-4448-497f-8488-ca54c88ed2c3",
   "metadata": {
    "pycharm": {
     "name": "#%%\n"
    }
   },
   "outputs": [
    {
     "ename": "FileExistsError",
     "evalue": "[WinError 183] Cannot create a file when that file already exists: 'import_run3_TargetEncoding_JP'",
     "output_type": "error",
     "traceback": [
      "\u001b[1;31m---------------------------------------------------------------------------\u001b[0m",
      "\u001b[1;31mFileExistsError\u001b[0m                           Traceback (most recent call last)",
      "Cell \u001b[1;32mIn [11], line 2\u001b[0m\n\u001b[0;32m      1\u001b[0m \u001b[38;5;66;03m# set up folder to save results\u001b[39;00m\n\u001b[1;32m----> 2\u001b[0m \u001b[43mos\u001b[49m\u001b[38;5;241;43m.\u001b[39;49m\u001b[43mmakedirs\u001b[49m\u001b[43m(\u001b[49m\u001b[38;5;124;43m'\u001b[39;49m\u001b[38;5;124;43mimport_run3_TargetEncoding_JP\u001b[39;49m\u001b[38;5;124;43m'\u001b[39;49m\u001b[43m)\u001b[49m\n",
      "File \u001b[1;32m~\\AppData\\Roaming\\jupyterlab-desktop\\jlab_server\\lib\\os.py:223\u001b[0m, in \u001b[0;36mmakedirs\u001b[1;34m(name, mode, exist_ok)\u001b[0m\n\u001b[0;32m    221\u001b[0m         \u001b[38;5;28;01mreturn\u001b[39;00m\n\u001b[0;32m    222\u001b[0m \u001b[38;5;28;01mtry\u001b[39;00m:\n\u001b[1;32m--> 223\u001b[0m     \u001b[43mmkdir\u001b[49m\u001b[43m(\u001b[49m\u001b[43mname\u001b[49m\u001b[43m,\u001b[49m\u001b[43m \u001b[49m\u001b[43mmode\u001b[49m\u001b[43m)\u001b[49m\n\u001b[0;32m    224\u001b[0m \u001b[38;5;28;01mexcept\u001b[39;00m \u001b[38;5;167;01mOSError\u001b[39;00m:\n\u001b[0;32m    225\u001b[0m     \u001b[38;5;66;03m# Cannot rely on checking for EEXIST, since the operating system\u001b[39;00m\n\u001b[0;32m    226\u001b[0m     \u001b[38;5;66;03m# could give priority to other errors like EACCES or EROFS\u001b[39;00m\n\u001b[0;32m    227\u001b[0m     \u001b[38;5;28;01mif\u001b[39;00m \u001b[38;5;129;01mnot\u001b[39;00m exist_ok \u001b[38;5;129;01mor\u001b[39;00m \u001b[38;5;129;01mnot\u001b[39;00m path\u001b[38;5;241m.\u001b[39misdir(name):\n",
      "\u001b[1;31mFileExistsError\u001b[0m: [WinError 183] Cannot create a file when that file already exists: 'import_run3_TargetEncoding_JP'"
     ]
    }
   ],
   "source": [
    "# set up folder to save results\n",
    "os.makedirs('import_run3_TargetEncoding_JP')"
   ]
  },
  {
   "cell_type": "code",
   "execution_count": 12,
   "id": "7cd642fd-20fc-4507-a3a6-fa174b56da47",
   "metadata": {
    "pycharm": {
     "name": "#%%\n"
    }
   },
   "outputs": [],
   "source": [
    "prefix = 'import_run3_TargetEncoding_JP/import'"
   ]
  },
  {
   "cell_type": "code",
   "execution_count": 13,
   "id": "8e4ee54e-2879-488b-948e-f7decfb4a969",
   "metadata": {
    "pycharm": {
     "name": "#%%\n"
    }
   },
   "outputs": [],
   "source": [
    "def data_transformation(df):\n",
    "    X, y = df.iloc[:,:-1], df.iloc[:,-1:]\n",
    "    # X = pd.get_dummies(X, sparse=True)\n",
    "    y = np.where(y['act']=='R',1,0)\n",
    "    \n",
    "    X_train, X_test, y_train, y_test = train_test_split(X, y, random_state=rng, stratify=y) \n",
    "    \n",
    "    return X_train, X_test, y_train, y_test\n",
    "    "
   ]
  },
  {
   "cell_type": "code",
   "execution_count": 14,
   "id": "0f88beda-31ad-4282-80b6-397773aac7ab",
   "metadata": {
    "pycharm": {
     "name": "#%%\n"
    }
   },
   "outputs": [],
   "source": [
    "X_train, X_test, y_train, y_test = data_transformation(import_df)"
   ]
  },
  {
   "cell_type": "markdown",
   "id": "868debda-5536-413a-9761-161e589716e9",
   "metadata": {
    "pycharm": {
     "name": "#%% md\n"
    },
    "tags": []
   },
   "source": [
    "#### column transformer w/ TargetEncoding"
   ]
  },
  {
   "cell_type": "code",
   "execution_count": 15,
   "id": "c573f6f9-e520-4eb5-b0e5-68adce740615",
   "metadata": {
    "pycharm": {
     "name": "#%%\n"
    }
   },
   "outputs": [],
   "source": [
    "categorical_var = ['species_code', 'wildlf_desc', 'ctry_org', 'ctry_ie','purp', 'src', \n",
    "                   'trans_mode', 'pt_cd']\n",
    "numerical_var = ['value']"
   ]
  },
  {
   "cell_type": "code",
   "execution_count": 16,
   "id": "58c9f75b-af98-466d-8c9f-76f48cb1f296",
   "metadata": {
    "pycharm": {
     "name": "#%%\n"
    }
   },
   "outputs": [
    {
     "name": "stderr",
     "output_type": "stream",
     "text": [
      "C:\\Users\\yujin\\AppData\\Roaming\\jupyterlab-desktop\\jlab_server\\lib\\site-packages\\category_encoders\\target_encoder.py:122: FutureWarning: Default parameter min_samples_leaf will change in version 2.6.See https://github.com/scikit-learn-contrib/category_encoders/issues/327\n",
      "  warnings.warn(\"Default parameter min_samples_leaf will change in version 2.6.\"\n",
      "C:\\Users\\yujin\\AppData\\Roaming\\jupyterlab-desktop\\jlab_server\\lib\\site-packages\\category_encoders\\target_encoder.py:127: FutureWarning: Default parameter smoothing will change in version 2.6.See https://github.com/scikit-learn-contrib/category_encoders/issues/327\n",
      "  warnings.warn(\"Default parameter smoothing will change in version 2.6.\"\n"
     ]
    }
   ],
   "source": [
    "ct_target = make_column_transformer(\n",
    "    (StandardScaler(), numerical_var),\n",
    "    (TargetEncoder(), categorical_var),\n",
    "    remainder='passthrough')\n",
    "le = LabelEncoder()"
   ]
  },
  {
   "cell_type": "code",
   "execution_count": 17,
   "id": "0f6f071f-a66b-47a8-ad24-44e2876d86e6",
   "metadata": {
    "pycharm": {
     "name": "#%%\n"
    }
   },
   "outputs": [
    {
     "name": "stderr",
     "output_type": "stream",
     "text": [
      "C:\\Users\\yujin\\AppData\\Roaming\\jupyterlab-desktop\\jlab_server\\lib\\site-packages\\category_encoders\\target_encoder.py:122: FutureWarning: Default parameter min_samples_leaf will change in version 2.6.See https://github.com/scikit-learn-contrib/category_encoders/issues/327\n",
      "  warnings.warn(\"Default parameter min_samples_leaf will change in version 2.6.\"\n",
      "C:\\Users\\yujin\\AppData\\Roaming\\jupyterlab-desktop\\jlab_server\\lib\\site-packages\\category_encoders\\target_encoder.py:127: FutureWarning: Default parameter smoothing will change in version 2.6.See https://github.com/scikit-learn-contrib/category_encoders/issues/327\n",
      "  warnings.warn(\"Default parameter smoothing will change in version 2.6.\"\n"
     ]
    },
    {
     "data": {
      "text/plain": [
       "['X_test_targetEncoding.joblib']"
      ]
     },
     "execution_count": 17,
     "metadata": {},
     "output_type": "execute_result"
    }
   ],
   "source": [
    "X_train = ct_target.fit_transform(X_train, y_train)\n",
    "joblib.dump(X_train, 'X_train_targetEncoding.joblib')\n",
    "\n",
    "X_test = ct_target.transform(X_test)\n",
    "joblib.dump(X_test, 'X_test_targetEncoding.joblib')\n",
    "# Found unknown categories \n"
   ]
  },
  {
   "cell_type": "markdown",
   "id": "38712ba7-e296-4a1b-a3bc-77920c6115d7",
   "metadata": {
    "pycharm": {
     "name": "#%% md\n"
    },
    "tags": []
   },
   "source": [
    "#### Dummy Classifiers"
   ]
  },
  {
   "cell_type": "code",
   "execution_count": 18,
   "id": "457ca9a8-2623-42bf-8610-b129f927217d",
   "metadata": {
    "pycharm": {
     "name": "#%%\n"
    }
   },
   "outputs": [
    {
     "name": "stdout",
     "output_type": "stream",
     "text": [
      "model run time: 0:00:00.025819\n"
     ]
    }
   ],
   "source": [
    "start = datetime.now()\n",
    "dummy_majority = DummyClassifier(strategy = 'most_frequent').fit(X_train, y_train)\n",
    "end = datetime.now()\n",
    "print(f'model run time: {end - start}')\n",
    "\n",
    "# dummy_majority.score(X_test, y_test)\n",
    "dummy_predicted = dummy_majority.predict(X_test)"
   ]
  },
  {
   "cell_type": "code",
   "execution_count": 19,
   "id": "60285ed2-962a-4016-90ad-9a1a2e218853",
   "metadata": {
    "pycharm": {
     "name": "#%%\n"
    }
   },
   "outputs": [
    {
     "data": {
      "text/plain": [
       "['import_run3_TargetEncoding_JP/import_dummy_majority_clf.joblib']"
      ]
     },
     "execution_count": 19,
     "metadata": {},
     "output_type": "execute_result"
    }
   ],
   "source": [
    "joblib.dump(dummy_majority, f'{prefix}_dummy_majority_clf.joblib')"
   ]
  },
  {
   "cell_type": "markdown",
   "id": "7726cbe7-fb99-4902-8ac8-b7ed33b200db",
   "metadata": {
    "pycharm": {
     "name": "#%% md\n"
    },
    "tags": []
   },
   "source": [
    "#### Logistic Regression"
   ]
  },
  {
   "cell_type": "code",
   "execution_count": 20,
   "id": "1272a83e-5b37-40d6-9b89-893bdd465b67",
   "metadata": {
    "pycharm": {
     "name": "#%%\n"
    }
   },
   "outputs": [
    {
     "name": "stdout",
     "output_type": "stream",
     "text": [
      "model run time: 0:00:03.829476\n",
      "Logistic regression classifier (default settings)\n",
      " [[390548    568]\n",
      " [  3575   2936]]\n"
     ]
    }
   ],
   "source": [
    "start = datetime.now()\n",
    "lr = LogisticRegression(random_state=rng, max_iter=1000).fit(X_train, y_train)\n",
    "end = datetime.now()\n",
    "print(f'model run time: {end - start}')\n",
    "\n",
    "lr_predicted = lr.predict(X_test)\n",
    "confusion = confusion_matrix(y_test, lr_predicted)\n",
    "print('Logistic regression classifier (default settings)\\n', confusion)"
   ]
  },
  {
   "cell_type": "code",
   "execution_count": 21,
   "id": "bdf2888c-6c3a-4e51-a7e2-b881628458f7",
   "metadata": {
    "pycharm": {
     "name": "#%%\n"
    }
   },
   "outputs": [
    {
     "name": "stdout",
     "output_type": "stream",
     "text": [
      "model run time: 0:00:02.891928\n",
      "Logistic regression classifier (balanced)\n",
      " [[364434  26682]\n",
      " [  1587   4924]]\n"
     ]
    }
   ],
   "source": [
    "start = datetime.now()\n",
    "lr_balanced = LogisticRegression(random_state=rng, class_weight='balanced', max_iter=1000).fit(X_train, y_train)\n",
    "end = datetime.now()\n",
    "print(f'model run time: {end - start}')\n",
    "\n",
    "lr_balanced_predicted = lr_balanced.predict(X_test)\n",
    "confusion = confusion_matrix(y_test, lr_balanced_predicted)\n",
    "print('Logistic regression classifier (balanced)\\n', confusion)"
   ]
  },
  {
   "cell_type": "code",
   "execution_count": 22,
   "id": "d3dff4f3-de64-42bb-94c1-93e5f66ebd4f",
   "metadata": {
    "pycharm": {
     "name": "#%%\n"
    }
   },
   "outputs": [
    {
     "data": {
      "text/plain": [
       "['import_run3_TargetEncoding_JP/import_lr_balanced_clf.joblib']"
      ]
     },
     "execution_count": 22,
     "metadata": {},
     "output_type": "execute_result"
    }
   ],
   "source": [
    "joblib.dump(lr, f'{prefix}_lr_clf.joblib')\n",
    "joblib.dump(lr_balanced, f'{prefix}_lr_balanced_clf.joblib')"
   ]
  },
  {
   "cell_type": "markdown",
   "id": "7adb248b-2822-40e0-b157-4407ee314cfd",
   "metadata": {
    "pycharm": {
     "name": "#%% md\n"
    },
    "tags": []
   },
   "source": [
    "#### Decision Tree"
   ]
  },
  {
   "cell_type": "code",
   "execution_count": 23,
   "id": "88cfaff7-0061-45af-90e7-60d55a592e61",
   "metadata": {
    "pycharm": {
     "name": "#%%\n"
    }
   },
   "outputs": [
    {
     "name": "stdout",
     "output_type": "stream",
     "text": [
      "model run time: 0:00:05.054390\n"
     ]
    }
   ],
   "source": [
    "start = datetime.now()\n",
    "decision_tree_clf = DecisionTreeClassifier(random_state=rng).fit(X_train, y_train)\n",
    "end = datetime.now()\n",
    "print(f'model run time: {end - start}')"
   ]
  },
  {
   "cell_type": "code",
   "execution_count": 24,
   "id": "ac5c1593-221d-445a-81de-63527f4ef804",
   "metadata": {
    "pycharm": {
     "name": "#%%\n"
    }
   },
   "outputs": [
    {
     "name": "stdout",
     "output_type": "stream",
     "text": [
      "Decision Tree Classifier\n",
      " [[388786   2330]\n",
      " [  2296   4215]]\n"
     ]
    }
   ],
   "source": [
    "tree_predicted = decision_tree_clf.predict(X_test)\n",
    "confusion = confusion_matrix(y_test, tree_predicted)\n",
    "print('Decision Tree Classifier\\n', confusion)"
   ]
  },
  {
   "cell_type": "code",
   "execution_count": 25,
   "id": "64ef3d8a-d872-4af6-a88a-539600e89ea8",
   "metadata": {
    "pycharm": {
     "name": "#%%\n"
    }
   },
   "outputs": [
    {
     "data": {
      "text/plain": [
       "['import_run3_TargetEncoding_JP/import_decision_tree_clf.joblib']"
      ]
     },
     "execution_count": 25,
     "metadata": {},
     "output_type": "execute_result"
    }
   ],
   "source": [
    "joblib.dump(decision_tree_clf, f'{prefix}_decision_tree_clf.joblib')"
   ]
  },
  {
   "cell_type": "markdown",
   "id": "2c9a906b-06d1-4472-9902-f8c24ef8d282",
   "metadata": {
    "pycharm": {
     "name": "#%% md\n"
    },
    "tags": []
   },
   "source": [
    "#### Random Forest"
   ]
  },
  {
   "cell_type": "code",
   "execution_count": 26,
   "id": "b20ae03b-c2c4-49d6-9ba4-ef2e6702cb78",
   "metadata": {
    "pycharm": {
     "name": "#%%\n"
    }
   },
   "outputs": [
    {
     "name": "stdout",
     "output_type": "stream",
     "text": [
      "model run time: 0:02:13.502730\n"
     ]
    }
   ],
   "source": [
    "start = datetime.now()\n",
    "rf_clf = RandomForestClassifier(random_state=rng).fit(X_train, y_train)\n",
    "end = datetime.now()\n",
    "print(f'model run time: {end - start}')"
   ]
  },
  {
   "cell_type": "code",
   "execution_count": 27,
   "id": "f553addd-7e72-4e25-adce-87cf5d655398",
   "metadata": {
    "pycharm": {
     "name": "#%%\n"
    }
   },
   "outputs": [
    {
     "name": "stdout",
     "output_type": "stream",
     "text": [
      "Random Forest Classifier\n",
      " [[390526    590]\n",
      " [  2352   4159]]\n"
     ]
    }
   ],
   "source": [
    "rf_predicted = rf_clf.predict(X_test)\n",
    "confusion = confusion_matrix(y_test, rf_predicted)\n",
    "print('Random Forest Classifier\\n', confusion)"
   ]
  },
  {
   "cell_type": "code",
   "execution_count": 28,
   "id": "4c7470c8-08ff-44da-bac6-a28e3efdb6cf",
   "metadata": {
    "pycharm": {
     "name": "#%%\n"
    }
   },
   "outputs": [
    {
     "data": {
      "text/plain": [
       "['import_run3_TargetEncoding_JP/import_rf_clf.joblib']"
      ]
     },
     "execution_count": 28,
     "metadata": {},
     "output_type": "execute_result"
    }
   ],
   "source": [
    "joblib.dump(rf_clf, f'{prefix}_rf_clf.joblib')"
   ]
  },
  {
   "cell_type": "markdown",
   "id": "b4f43548",
   "metadata": {
    "pycharm": {
     "name": "#%% md\n"
    }
   },
   "source": [
    "#### XGBoost Classifier\n",
    "(default settings)"
   ]
  },
  {
   "cell_type": "code",
   "execution_count": 29,
   "id": "85127105",
   "metadata": {
    "collapsed": false,
    "jupyter": {
     "outputs_hidden": false
    },
    "pycharm": {
     "name": "#%%\n"
    }
   },
   "outputs": [
    {
     "name": "stdout",
     "output_type": "stream",
     "text": [
      "model run time: 0:00:13.937397\n"
     ]
    }
   ],
   "source": [
    "start = datetime.now()\n",
    "xgb_params = {\"seed\": rng }\n",
    "xgb_clf = xgb.XGBClassifier(random_state = rng).fit(X_train,y_train)\n",
    "end = datetime.now()\n",
    "print(f'model run time: {end - start}')"
   ]
  },
  {
   "cell_type": "code",
   "execution_count": 30,
   "id": "eb43e6ba",
   "metadata": {
    "collapsed": false,
    "jupyter": {
     "outputs_hidden": false
    },
    "pycharm": {
     "name": "#%%\n"
    }
   },
   "outputs": [
    {
     "name": "stdout",
     "output_type": "stream",
     "text": [
      "XGB Classifier Confusion Matrix\n",
      " [[390739    377]\n",
      " [  2746   3765]]\n"
     ]
    }
   ],
   "source": [
    "xgb_predicted = xgb_clf.predict(X_test)\n",
    "confusion = confusion_matrix(y_test, xgb_predicted)\n",
    "print('XGB Classifier Confusion Matrix\\n', confusion)"
   ]
  },
  {
   "cell_type": "code",
   "execution_count": 31,
   "id": "4be8a878",
   "metadata": {
    "collapsed": false,
    "jupyter": {
     "outputs_hidden": false
    },
    "pycharm": {
     "name": "#%%\n"
    }
   },
   "outputs": [
    {
     "data": {
      "text/plain": [
       "['import_run3_TargetEncoding_JP/import_xgb_clf.joblib']"
      ]
     },
     "execution_count": 31,
     "metadata": {},
     "output_type": "execute_result"
    }
   ],
   "source": [
    "joblib.dump(rf_clf, f'{prefix}_xgb_clf.joblib')"
   ]
  },
  {
   "cell_type": "markdown",
   "id": "2603827a-5c33-482c-8cfd-e7541f9e53cd",
   "metadata": {},
   "source": [
    "#### FIGS"
   ]
  },
  {
   "cell_type": "code",
   "execution_count": 32,
   "id": "0ed5e59b-f9ce-47b4-8911-a4c98f55196b",
   "metadata": {},
   "outputs": [
    {
     "name": "stdout",
     "output_type": "stream",
     "text": [
      "model run time: 0:00:33.773844\n"
     ]
    }
   ],
   "source": [
    "start = datetime.now()\n",
    "figs_clf = FIGSClassifier(random_state=rng).fit(X_train,y_train)\n",
    "end = datetime.now()\n",
    "print(f'model run time: {end - start}')"
   ]
  },
  {
   "cell_type": "code",
   "execution_count": 33,
   "id": "5523ab2b-7b66-42eb-a1b8-8ef030964999",
   "metadata": {},
   "outputs": [
    {
     "name": "stdout",
     "output_type": "stream",
     "text": [
      "FIGS Classifier Confusion Matrix\n",
      " [[390558    558]\n",
      " [  3731   2780]]\n"
     ]
    }
   ],
   "source": [
    "figs_predicted = figs_clf.predict(X_test)\n",
    "confusion = confusion_matrix(y_test, figs_predicted)\n",
    "print('FIGS Classifier Confusion Matrix\\n', confusion)"
   ]
  },
  {
   "cell_type": "code",
   "execution_count": 34,
   "id": "c627711f-db85-41b1-a649-d6202ea60342",
   "metadata": {},
   "outputs": [
    {
     "data": {
      "text/plain": [
       "['import_run3_TargetEncoding_JP/import_figs_clf.joblib']"
      ]
     },
     "execution_count": 34,
     "metadata": {},
     "output_type": "execute_result"
    }
   ],
   "source": [
    "joblib.dump(rf_clf, f'{prefix}_figs_clf.joblib')"
   ]
  },
  {
   "cell_type": "markdown",
   "id": "4c2771bf-e988-45d9-aa1f-4c6bc760cb47",
   "metadata": {
    "pycharm": {
     "name": "#%% md\n"
    },
    "tags": []
   },
   "source": [
    "#### Model Evaluation"
   ]
  },
  {
   "cell_type": "code",
   "execution_count": 35,
   "id": "8f99bb64-ca49-460f-84a8-3afffcd8ccd7",
   "metadata": {
    "pycharm": {
     "name": "#%%\n"
    }
   },
   "outputs": [
    {
     "name": "stderr",
     "output_type": "stream",
     "text": [
      "C:\\Users\\yujin\\AppData\\Roaming\\jupyterlab-desktop\\jlab_server\\lib\\site-packages\\sklearn\\metrics\\_classification.py:1334: UndefinedMetricWarning: Precision and F-score are ill-defined and being set to 0.0 in labels with no predicted samples. Use `zero_division` parameter to control this behavior.\n",
      "  _warn_prf(average, modifier, msg_start, len(result))\n",
      "C:\\Users\\yujin\\AppData\\Roaming\\jupyterlab-desktop\\jlab_server\\lib\\site-packages\\sklearn\\metrics\\_classification.py:1334: UndefinedMetricWarning: Precision and F-score are ill-defined and being set to 0.0 in labels with no predicted samples. Use `zero_division` parameter to control this behavior.\n",
      "  _warn_prf(average, modifier, msg_start, len(result))\n",
      "C:\\Users\\yujin\\AppData\\Roaming\\jupyterlab-desktop\\jlab_server\\lib\\site-packages\\sklearn\\metrics\\_classification.py:1334: UndefinedMetricWarning: Precision and F-score are ill-defined and being set to 0.0 in labels with no predicted samples. Use `zero_division` parameter to control this behavior.\n",
      "  _warn_prf(average, modifier, msg_start, len(result))\n"
     ]
    },
    {
     "name": "stdout",
     "output_type": "stream",
     "text": [
      "Random class-proportional (dummy)\n",
      "               precision    recall  f1-score   support\n",
      "\n",
      "       clear       0.98      1.00      0.99    391116\n",
      "      seized       0.00      0.00      0.00      6511\n",
      "\n",
      "    accuracy                           0.98    397627\n",
      "   macro avg       0.49      0.50      0.50    397627\n",
      "weighted avg       0.97      0.98      0.98    397627\n",
      "\n",
      "Decision Tree \n",
      "               precision    recall  f1-score   support\n",
      "\n",
      "       clear       0.99      0.99      0.99    391116\n",
      "      seized       0.64      0.65      0.65      6511\n",
      "\n",
      "    accuracy                           0.99    397627\n",
      "   macro avg       0.82      0.82      0.82    397627\n",
      "weighted avg       0.99      0.99      0.99    397627\n",
      "\n",
      "Random Forest \n",
      "               precision    recall  f1-score   support\n",
      "\n",
      "       clear       0.99      1.00      1.00    391116\n",
      "      seized       0.88      0.64      0.74      6511\n",
      "\n",
      "    accuracy                           0.99    397627\n",
      "   macro avg       0.93      0.82      0.87    397627\n",
      "weighted avg       0.99      0.99      0.99    397627\n",
      "\n",
      "Logistic Regression \n",
      "               precision    recall  f1-score   support\n",
      "\n",
      "       clear       0.99      1.00      0.99    391116\n",
      "      seized       0.84      0.45      0.59      6511\n",
      "\n",
      "    accuracy                           0.99    397627\n",
      "   macro avg       0.91      0.72      0.79    397627\n",
      "weighted avg       0.99      0.99      0.99    397627\n",
      "\n",
      "Logistic Regression (balanced) \n",
      "               precision    recall  f1-score   support\n",
      "\n",
      "       clear       1.00      0.93      0.96    391116\n",
      "      seized       0.16      0.76      0.26      6511\n",
      "\n",
      "    accuracy                           0.93    397627\n",
      "   macro avg       0.58      0.84      0.61    397627\n",
      "weighted avg       0.98      0.93      0.95    397627\n",
      "\n",
      "XGBoost Classifier \n",
      "               precision    recall  f1-score   support\n",
      "\n",
      "       clear       0.99      1.00      1.00    391116\n",
      "      seized       0.91      0.58      0.71      6511\n",
      "\n",
      "    accuracy                           0.99    397627\n",
      "   macro avg       0.95      0.79      0.85    397627\n",
      "weighted avg       0.99      0.99      0.99    397627\n",
      "\n",
      "FIGS Classifier \n",
      "               precision    recall  f1-score   support\n",
      "\n",
      "       clear       0.99      1.00      0.99    391116\n",
      "      seized       0.83      0.43      0.56      6511\n",
      "\n",
      "    accuracy                           0.99    397627\n",
      "   macro avg       0.91      0.71      0.78    397627\n",
      "weighted avg       0.99      0.99      0.99    397627\n",
      "\n"
     ]
    }
   ],
   "source": [
    "print('Random class-proportional (dummy)\\n', \n",
    "      classification_report(y_test, dummy_predicted, target_names=['clear', 'seized']))\n",
    "print('Decision Tree \\n', \n",
    "      classification_report(y_test, tree_predicted, target_names=['clear', 'seized']))\n",
    "print('Random Forest \\n', \n",
    "      classification_report(y_test, rf_predicted, target_names=['clear', 'seized']))\n",
    "print('Logistic Regression \\n', \n",
    "      classification_report(y_test, lr_predicted, target_names=['clear', 'seized']))\n",
    "print('Logistic Regression (balanced) \\n', \n",
    "      classification_report(y_test, lr_balanced_predicted, target_names=['clear', 'seized']))\n",
    "print('XGBoost Classifier \\n',\n",
    "      classification_report(y_test, xgb_predicted, target_names=['clear', 'seized']))\n",
    "print('FIGS Classifier \\n',\n",
    "      classification_report(y_test, figs_predicted, target_names=['clear', 'seized']))"
   ]
  },
  {
   "cell_type": "markdown",
   "id": "f913dc23-88e6-456f-a988-6f0c842e77c5",
   "metadata": {},
   "source": [
    "## Variable Selection"
   ]
  },
  {
   "cell_type": "code",
   "execution_count": 39,
   "id": "8faa5280-e0a7-4400-a378-890247b8f48d",
   "metadata": {},
   "outputs": [
    {
     "data": {
      "text/plain": [
       "((1192878, 10), (1192878,))"
      ]
     },
     "execution_count": 39,
     "metadata": {},
     "output_type": "execute_result"
    }
   ],
   "source": [
    "X_train.shape, y_train.shape"
   ]
  },
  {
   "cell_type": "markdown",
   "id": "f9ffb1e4-0cb2-487f-8ff6-2039f26e8c7c",
   "metadata": {},
   "source": [
    "#### Forward Selection"
   ]
  },
  {
   "cell_type": "code",
   "execution_count": 2,
   "id": "ce2f8830-76fc-42fe-8304-1e7f7eb82eab",
   "metadata": {},
   "outputs": [],
   "source": [
    "from mlxtend.feature_selection import SequentialFeatureSelector as sfs"
   ]
  },
  {
   "cell_type": "code",
   "execution_count": 41,
   "id": "da10f77b-fe56-495e-9ade-86222374a73c",
   "metadata": {},
   "outputs": [],
   "source": [
    "# Logistic Regression\n",
    "lr = LogisticRegression(random_state=rng, max_iter=1000)\n",
    "sfs_lr = sfs(lr, k_features=10, forward=True, floating=False)\n",
    "sfs_lr = sfs_lr.fit(X_train, y_train)\n",
    "sfs_lr_features = list(sfs_lr.k_feature_names_)"
   ]
  },
  {
   "cell_type": "code",
   "execution_count": 43,
   "id": "7ca5fb36-508e-4f4e-b348-715e87a4104c",
   "metadata": {},
   "outputs": [],
   "source": [
    "# Logistic Regression - Balanced\n",
    "lrb = LogisticRegression(random_state=rng, class_weight='balanced', max_iter=1000)\n",
    "sfs_lrb = sfs(lrb, k_features=10, forward=True, floating=False)\n",
    "sfs_lrb = sfs_lrb.fit(X_train, y_train)\n",
    "sfs_lrb_features = list(sfs_lrb.k_feature_names_)"
   ]
  },
  {
   "cell_type": "code",
   "execution_count": 44,
   "id": "db5bf151-9d72-45ce-b9f3-3529c5c1188c",
   "metadata": {},
   "outputs": [],
   "source": [
    "# Decision Tree \n",
    "dtree = DecisionTreeClassifier(random_state=rng)\n",
    "sfs_dtree = sfs(dtree, k_features=10, forward=True, floating=False)\n",
    "sfs_dtree = sfs_dtree.fit(X_train, y_train)\n",
    "sfs_dtree_features = list(sfs_dtree.k_feature_names_)"
   ]
  },
  {
   "cell_type": "code",
   "execution_count": 45,
   "id": "46622a94-dd40-4149-8f61-011ab077b9c7",
   "metadata": {},
   "outputs": [],
   "source": [
    "# Random Forest\n",
    "rf = RandomForestClassifier(random_state=rng)\n",
    "sfs_rf = sfs(rf, k_features=10, forward=True, floating=False)\n",
    "sfs_rf = sfs_rf.fit(X_train, y_train)\n",
    "sfs_rf_features = list(sfs_rf.k_feature_names_)"
   ]
  },
  {
   "cell_type": "code",
   "execution_count": 46,
   "id": "71e266a9-ffee-4a46-a035-5aaa138e971f",
   "metadata": {},
   "outputs": [],
   "source": [
    "# XGBoost\n",
    "xgbst = xgb.XGBClassifier(random_state = rng)\n",
    "sfs_xgbst = sfs(xgbst, k_features=10, forward=True, floating=False)\n",
    "sfs_xgbst = sfs_xgbst.fit(X_train, y_train)\n",
    "sfs_xgbst_features = list(sfs_xgbst.k_feature_names_)"
   ]
  },
  {
   "cell_type": "code",
   "execution_count": 50,
   "id": "f07ae9b3-4a83-4423-a687-898c2e6262dd",
   "metadata": {},
   "outputs": [],
   "source": [
    "# FIGS -- Doesn't work"
   ]
  },
  {
   "cell_type": "code",
   "execution_count": 48,
   "id": "c4e3eafb-83cc-489f-b0eb-47fc64a600cc",
   "metadata": {},
   "outputs": [
    {
     "name": "stdout",
     "output_type": "stream",
     "text": [
      "Forward Selection Results for Logistic Regression: ['0', '1', '2', '3', '4', '5', '6', '7', '8', '9']\n",
      "Forward Selection Results for Logistic Regression - Balanced: ['0', '1', '2', '3', '4', '5', '6', '7', '8', '9']\n",
      "Forward Selection Results for Decision Tree: ['0', '1', '2', '3', '4', '5', '6', '7', '8', '9']\n",
      "Forward Selection Results for Random Forest: ['0', '1', '2', '3', '4', '5', '6', '7', '8', '9']\n",
      "Forward Selection Results for XGBoost: ['0', '1', '2', '3', '4', '5', '6', '7', '8', '9']\n"
     ]
    },
    {
     "ename": "NameError",
     "evalue": "name 'sfs_figs_features' is not defined",
     "output_type": "error",
     "traceback": [
      "\u001b[1;31m---------------------------------------------------------------------------\u001b[0m",
      "\u001b[1;31mNameError\u001b[0m                                 Traceback (most recent call last)",
      "Cell \u001b[1;32mIn [48], line 6\u001b[0m\n\u001b[0;32m      4\u001b[0m \u001b[38;5;28mprint\u001b[39m(\u001b[38;5;124m'\u001b[39m\u001b[38;5;124mForward Selection Results for Random Forest:\u001b[39m\u001b[38;5;124m'\u001b[39m, sfs_rf_features)\n\u001b[0;32m      5\u001b[0m \u001b[38;5;28mprint\u001b[39m(\u001b[38;5;124m'\u001b[39m\u001b[38;5;124mForward Selection Results for XGBoost:\u001b[39m\u001b[38;5;124m'\u001b[39m, sfs_xgbst_features)\n\u001b[1;32m----> 6\u001b[0m \u001b[38;5;28mprint\u001b[39m(\u001b[38;5;124m'\u001b[39m\u001b[38;5;124mForward Selection Results for FIGS:\u001b[39m\u001b[38;5;124m'\u001b[39m, \u001b[43msfs_figs_features\u001b[49m)\n",
      "\u001b[1;31mNameError\u001b[0m: name 'sfs_figs_features' is not defined"
     ]
    }
   ],
   "source": [
    "print('Forward Selection Results for Logistic Regression:', sfs_lr_features)\n",
    "print('Forward Selection Results for Logistic Regression - Balanced:', sfs_lrb_features)\n",
    "print('Forward Selection Results for Decision Tree:', sfs_dtree_features)\n",
    "print('Forward Selection Results for Random Forest:', sfs_rf_features)\n",
    "print('Forward Selection Results for XGBoost:', sfs_xgbst_features)"
   ]
  },
  {
   "cell_type": "markdown",
   "id": "aee096fa-e188-46bb-9864-9c4f691b9b9e",
   "metadata": {},
   "source": [
    "#### Backward Selection"
   ]
  },
  {
   "cell_type": "code",
   "execution_count": 51,
   "id": "3fa1ed39-3fcc-4e49-b4cd-8e74285abcb1",
   "metadata": {},
   "outputs": [],
   "source": [
    "# Logistic Regression\n",
    "lr = LogisticRegression(random_state=rng, max_iter=1000)\n",
    "sfs_lr = sfs(lr, k_features=10, forward=False, floating=False)\n",
    "sfs_lr = sfs_lr.fit(X_train, y_train)\n",
    "sfs_lr_features = list(sfs_lr.k_feature_names_)"
   ]
  },
  {
   "cell_type": "code",
   "execution_count": 52,
   "id": "609a4824-23c6-41e7-abcb-9dbc905a6135",
   "metadata": {},
   "outputs": [],
   "source": [
    "# Logistic Regression - Balanced\n",
    "lrb = LogisticRegression(random_state=rng, class_weight='balanced', max_iter=1000)\n",
    "sfs_lrb = sfs(lrb, k_features=10, forward=False, floating=False)\n",
    "sfs_lrb = sfs_lrb.fit(X_train, y_train)\n",
    "sfs_lrb_features = list(sfs_lrb.k_feature_names_)"
   ]
  },
  {
   "cell_type": "code",
   "execution_count": 53,
   "id": "43a30112-d594-4613-a03c-68e40e056c95",
   "metadata": {},
   "outputs": [],
   "source": [
    "# Decision Tree \n",
    "dtree = DecisionTreeClassifier(random_state=rng)\n",
    "sfs_dtree = sfs(dtree, k_features=10, forward=False, floating=False)\n",
    "sfs_dtree = sfs_dtree.fit(X_train, y_train)\n",
    "sfs_dtree_features = list(sfs_dtree.k_feature_names_)"
   ]
  },
  {
   "cell_type": "code",
   "execution_count": 54,
   "id": "8df3bfe6-7fb5-40e8-a12a-b7761f9723ba",
   "metadata": {},
   "outputs": [],
   "source": [
    "# Random Forest\n",
    "rf = RandomForestClassifier(random_state=rng)\n",
    "sfs_rf = sfs(rf, k_features=10, forward=True, floating=False)\n",
    "sfs_rf = sfs_rf.fit(X_train, y_train)\n",
    "sfs_rf_features = list(sfs_rf.k_feature_names_)"
   ]
  },
  {
   "cell_type": "code",
   "execution_count": 55,
   "id": "5a52d6d6-3073-4f1f-8d5e-c4f3cb47ff8f",
   "metadata": {},
   "outputs": [],
   "source": [
    "# XGBoost\n",
    "xgbst = xgb.XGBClassifier(random_state = rng)\n",
    "sfs_xgbst = sfs(xgbst, k_features=10, forward=False, floating=False)\n",
    "sfs_xgbst = sfs_xgbst.fit(X_train, y_train)\n",
    "sfs_xgbst_features = list(sfs_xgbst.k_feature_names_)"
   ]
  },
  {
   "cell_type": "code",
   "execution_count": 56,
   "id": "7d401a89-29ea-4ca8-a660-640824eda241",
   "metadata": {},
   "outputs": [],
   "source": [
    "# FIGS -- Doesn't work"
   ]
  },
  {
   "cell_type": "code",
   "execution_count": 57,
   "id": "25ebbbce-205c-4127-8261-52c3e73bb7ff",
   "metadata": {},
   "outputs": [
    {
     "name": "stdout",
     "output_type": "stream",
     "text": [
      "Backward Selection Results for Logistic Regression: ['0', '1', '2', '3', '4', '5', '6', '7', '8', '9']\n",
      "Backward Selection Results for Logistic Regression - Balanced: ['0', '1', '2', '3', '4', '5', '6', '7', '8', '9']\n",
      "Backward Selection Results for Decision Tree: ['0', '1', '2', '3', '4', '5', '6', '7', '8', '9']\n",
      "Backward Selection Results for Random Forest: ['0', '1', '2', '3', '4', '5', '6', '7', '8', '9']\n",
      "Backward Selection Results for XGBoost: ['0', '1', '2', '3', '4', '5', '6', '7', '8', '9']\n"
     ]
    }
   ],
   "source": [
    "print('Backward Selection Results for Logistic Regression:', sfs_lr_features)\n",
    "print('Backward Selection Results for Logistic Regression - Balanced:', sfs_lrb_features)\n",
    "print('Backward Selection Results for Decision Tree:', sfs_dtree_features)\n",
    "print('Backward Selection Results for Random Forest:', sfs_rf_features)\n",
    "print('Backward Selection Results for XGBoost:', sfs_xgbst_features)"
   ]
  },
  {
   "cell_type": "markdown",
   "id": "a27f539a",
   "metadata": {
    "pycharm": {
     "name": "#%% md\n"
    }
   },
   "source": [
    "## Standard Resampling with replacement?"
   ]
  },
  {
   "cell_type": "code",
   "execution_count": 30,
   "id": "062a572f",
   "metadata": {
    "collapsed": false,
    "jupyter": {
     "outputs_hidden": false
    },
    "pycharm": {
     "name": "#%%\n"
    }
   },
   "outputs": [],
   "source": [
    "# https://www.analyticsvidhya.com/blog/2021/06/5-techniques-to-handle-imbalanced-data-for-a-classification-problem/\n",
    "from sklearn.utils import resample\n",
    "\n",
    "# probably need to take the original dataframe, resample it"
   ]
  },
  {
   "cell_type": "markdown",
   "id": "2fcb461f",
   "metadata": {
    "pycharm": {
     "name": "#%% md\n"
    },
    "tags": []
   },
   "source": [
    "## Resampling with SMOTE ?"
   ]
  },
  {
   "cell_type": "code",
   "execution_count": null,
   "id": "7cba6c51-8605-446b-a92b-7c378d9ee6c0",
   "metadata": {
    "pycharm": {
     "name": "#%%\n"
    }
   },
   "outputs": [],
   "source": [
    "# Accuracy = TP + TN / (TP + TN + FP + FN)\n",
    "# Precision = TP / (TP + FP)\n",
    "# Recall = TP / (TP + FN)  Also known as sensitivity, or True Positive Rate\n",
    "# F1 = 2 * Precision * Recall / (Precision + Recall) "
   ]
  },
  {
   "cell_type": "markdown",
   "id": "a3269c23-50f6-4f43-bc33-52b8322a4886",
   "metadata": {
    "jp-MarkdownHeadingCollapsed": true,
    "pycharm": {
     "name": "#%% md\n"
    },
    "tags": []
   },
   "source": [
    "#### PCA"
   ]
  },
  {
   "cell_type": "markdown",
   "id": "37b6a9d0-c5a5-4a98-8f73-bc3b610e9aea",
   "metadata": {
    "pycharm": {
     "name": "#%% md\n"
    }
   },
   "source": [
    "def plot_labelled_scatter(X, y, class_labels):\n",
    "    num_labels = len(class_labels)\n",
    "\n",
    "    x_min, x_max = X[:, 0].min() - 1, X[:, 0].max() + 1\n",
    "    y_min, y_max = X[:, 1].min() - 1, X[:, 1].max() + 1\n",
    "\n",
    "    marker_array = ['o', '^', '*']\n",
    "    color_array = ['#FFFF00', '#00AAFF', '#000000', '#FF00AA']\n",
    "    cmap_bold = ListedColormap(color_array)\n",
    "    bnorm = BoundaryNorm(np.arange(0, num_labels + 1, 1), ncolors=num_labels)\n",
    "    plt.figure()\n",
    "\n",
    "    plt.scatter(X[:, 0], X[:, 1], s=65, c=y, cmap=cmap_bold, norm = bnorm, alpha = 0.40, edgecolor='black', lw = 1)\n",
    "\n",
    "    plt.xlim(x_min, x_max)\n",
    "    plt.ylim(y_min, y_max)\n",
    "\n",
    "    h = []\n",
    "    for c in range(0, num_labels):\n",
    "        h.append(mpatches.Patch(color=color_array[c], label=class_labels[c]))\n",
    "    plt.legend(handles=h)\n",
    "\n",
    "    plt.show()\n",
    "    \n",
    "def plot_pca(pca, f_names, top_k = 10):\n",
    "    fig, ax = plt.subplots(figsize=(10, 6))\n",
    "    plt.imshow(pca.components_[0:top_k], interpolation = 'none', cmap = 'plasma')\n",
    "    feature_names=f_names\n",
    "    plt.xticks(np.arange(-0., len(feature_names), 1) , feature_names, rotation = 90, fontsize=12)\n",
    "    plt.yticks(np.arange(0., 2, 1), ['First PC', 'Second PC'], fontsize = 16)\n",
    "    plt.colorbar()"
   ]
  },
  {
   "cell_type": "markdown",
   "id": "dfde0df6-4c27-4e87-95b8-dfcea55f1171",
   "metadata": {
    "pycharm": {
     "name": "#%% md\n"
    }
   },
   "source": [
    "ct.named_transformers_\n",
    "transformed_features = ct.named_transformers_['onehotencoder'].get_feature_names_out()"
   ]
  },
  {
   "cell_type": "markdown",
   "id": "ee742f3c-f089-4506-8a1d-50260818b885",
   "metadata": {
    "pycharm": {
     "name": "#%% md\n"
    }
   },
   "source": [
    "pca = PCA(n_components=2, random_state=rng)\n",
    "X_train_pca = pca.fit_transform(X_train_t.toarray())\n",
    "print(X_train_t.shape, X_train_pca.shape)"
   ]
  },
  {
   "cell_type": "markdown",
   "id": "0a5d379d-029e-4026-8faa-689dde5f0761",
   "metadata": {
    "pycharm": {
     "name": "#%% md\n"
    }
   },
   "source": [
    "joblib.dump(X_train_pca, f'{prefix}_X_train_pca.joblib')"
   ]
  },
  {
   "cell_type": "markdown",
   "id": "7cd9e4f3-b801-47d7-95cd-92d0396e4541",
   "metadata": {
    "pycharm": {
     "name": "#%% md\n"
    }
   },
   "source": [
    "sns.heatmap(empirical_covariance(X_train_pca))"
   ]
  },
  {
   "cell_type": "markdown",
   "id": "6c0bc491-144f-4c6b-8bef-e4655b99278e",
   "metadata": {
    "pycharm": {
     "name": "#%% md\n"
    }
   },
   "source": [
    "plot_labelled_scatter(X_train_pca, y_train_t, ['clear', 'seized'])"
   ]
  },
  {
   "cell_type": "markdown",
   "id": "beef698f-e7a7-480a-a0b5-e4757543690e",
   "metadata": {
    "pycharm": {
     "name": "#%% md\n"
    }
   },
   "source": [
    "plot_pca(pca, transformed_features)"
   ]
  },
  {
   "cell_type": "markdown",
   "id": "b58f8f5c-1ad3-4dab-a035-1f0ac3c1e728",
   "metadata": {
    "pycharm": {
     "name": "#%% md\n"
    }
   },
   "source": [
    "pca_sparse = SparsePCA(n_components=2, random_state=rng)\n",
    "X_train_pca_sparse = pca_sparse.fit_transform(X_train_t.toarray())"
   ]
  },
  {
   "cell_type": "markdown",
   "id": "1623fafc-a18d-429c-9893-1f1831cf803a",
   "metadata": {
    "pycharm": {
     "name": "#%% md\n"
    }
   },
   "source": [
    "joblib.dump(X_train_pca_sparse, f'{prefix}_X_train_pca_sparse.joblib')"
   ]
  },
  {
   "cell_type": "markdown",
   "id": "4a9438ac-1b12-488d-b406-10d36cf8e812",
   "metadata": {
    "pycharm": {
     "name": "#%% md\n"
    }
   },
   "source": [
    "sns.heatmap(empirical_covariance(X_train_pca_sparse))"
   ]
  },
  {
   "cell_type": "markdown",
   "id": "2847d297-e88a-4f35-8e64-856fdce11fed",
   "metadata": {
    "pycharm": {
     "name": "#%% md\n"
    }
   },
   "source": [
    "plot_pca(pca_sparse, transformed_features)"
   ]
  }
 ],
 "metadata": {
  "kernelspec": {
   "display_name": "Python 3 (ipykernel)",
   "language": "python",
   "name": "python3"
  },
  "language_info": {
   "codemirror_mode": {
    "name": "ipython",
    "version": 3
   },
   "file_extension": ".py",
   "mimetype": "text/x-python",
   "name": "python",
   "nbconvert_exporter": "python",
   "pygments_lexer": "ipython3",
   "version": "3.8.13"
  }
 },
 "nbformat": 4,
 "nbformat_minor": 5
}
