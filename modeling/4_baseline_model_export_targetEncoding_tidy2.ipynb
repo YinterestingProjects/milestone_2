{
 "cells": [
  {
   "cell_type": "markdown",
   "id": "65eba54c-61dd-4500-b137-5bbbf6d2ffe9",
   "metadata": {
    "pycharm": {
     "name": "#%% md\n"
    }
   },
   "source": [
    "# Baseline Models Template for 2016 - 2020 Data (exports)\n",
    "Tidying up \"4_baseline_model_export_targetEncoding\" as well as adding in resampling options"
   ]
  },
  {
   "cell_type": "markdown",
   "id": "707bd7c3",
   "metadata": {
    "pycharm": {
     "name": "#%% md\n"
    }
   },
   "source": [
    "## Setup"
   ]
  },
  {
   "cell_type": "code",
   "execution_count": 1,
   "id": "cf47ec1f-dd36-41cf-adc1-b8cd24655722",
   "metadata": {
    "pycharm": {
     "name": "#%%\n"
    }
   },
   "outputs": [],
   "source": [
    "# imports\n",
    "import pandas as pd\n",
    "import numpy as np\n",
    "from datetime import datetime\n",
    "import xgboost as xgb\n",
    "from imodels import FIGSClassifier\n",
    "from imblearn.over_sampling import SMOTE\n",
    "import lightgbm as lgb\n",
    "# sklearn\n",
    "from sklearn.pipeline import make_pipeline\n",
    "from sklearn.compose import make_column_transformer\n",
    "from sklearn.decomposition import PCA, SparsePCA\n",
    "from sklearn.covariance import empirical_covariance\n",
    "from sklearn.model_selection import train_test_split\n",
    "from sklearn.preprocessing import StandardScaler, OneHotEncoder, LabelEncoder\n",
    "from sklearn.tree import DecisionTreeClassifier\n",
    "from sklearn.ensemble import RandomForestClassifier, GradientBoostingClassifier\n",
    "from sklearn.dummy import DummyClassifier\n",
    "from sklearn.linear_model import LogisticRegression\n",
    "from sklearn.metrics import classification_report, confusion_matrix, ConfusionMatrixDisplay\n",
    "from sklearn.utils import resample\n",
    "\n",
    "# plotting\n",
    "import matplotlib.pyplot as plt\n",
    "import matplotlib.cm as cm\n",
    "from matplotlib.colors import ListedColormap, BoundaryNorm\n",
    "import matplotlib.patches as mpatches\n",
    "import seaborn as sns\n",
    "#from adspy_shared_utilities import plot_decision_tree\n",
    "from adspy_shared_utilities import plot_feature_importances\n",
    "\n",
    "# create folders and export models\n",
    "import joblib\n",
    "import os"
   ]
  },
  {
   "cell_type": "code",
   "execution_count": 2,
   "id": "91f0c944-93fc-4b98-b727-5c634fd32cc5",
   "metadata": {
    "pycharm": {
     "name": "#%%\n"
    }
   },
   "outputs": [
    {
     "name": "stdout",
     "output_type": "stream",
     "text": [
      "Folder already exists\n"
     ]
    }
   ],
   "source": [
    "# environment variables\n",
    "rng = 42\n",
    "p = '../data/'\n",
    "input_name = 'cleaned.csv'\n",
    "# change this value to False if you don't want printouts after every model\n",
    "outputs = True\n",
    "\n",
    "# set up folder to save results\n",
    "output_path = 'export_run5_TargetEncoding_resampling'\n",
    "if not os.path.exists(output_path):\n",
    "    os.makedirs(output_path)\n",
    "else:\n",
    "    print(\"Folder already exists\")\n",
    "# file name\n",
    "prefix = 'export_run5_TargetEncoding_resampling/export'"
   ]
  },
  {
   "cell_type": "code",
   "execution_count": 3,
   "id": "758bc6e4",
   "metadata": {
    "collapsed": false,
    "jupyter": {
     "outputs_hidden": false
    },
    "pycharm": {
     "name": "#%%\n"
    }
   },
   "outputs": [],
   "source": [
    "# helper functions\n",
    "def df_filtering(df, i_e = 'I', f_cols = []):\n",
    "\n",
    "    filtered_df = df[df.i_e == i_e]\n",
    "    filtered_df = filtered_df[f_cols+['act']]\n",
    "\n",
    "    return filtered_df\n",
    "\n",
    "def data_split(df):\n",
    "    X, y = df.iloc[:,:-1], df.iloc[:,-1:]\n",
    "    y = np.where(y['act']=='R',1,0)\n",
    "\n",
    "    X_train, X_test, y_train, y_test = train_test_split(X, y, random_state=rng, stratify=y)\n",
    "\n",
    "    return X_train, X_test, y_train, y_test\n",
    "\n",
    "def plot_labelled_scatter(X, y, class_labels):\n",
    "    num_labels = len(class_labels)\n",
    "\n",
    "    x_min, x_max = X[:, 0].min() - 1, X[:, 0].max() + 1\n",
    "    y_min, y_max = X[:, 1].min() - 1, X[:, 1].max() + 1\n",
    "\n",
    "    marker_array = ['o', '^', '*']\n",
    "    color_array = ['#FFFF00', '#00AAFF', '#000000', '#FF00AA']\n",
    "    cmap_bold = ListedColormap(color_array)\n",
    "    bnorm = BoundaryNorm(np.arange(0, num_labels + 1, 1), ncolors=num_labels)\n",
    "    plt.figure()\n",
    "\n",
    "    plt.scatter(X[:, 0], X[:, 1], s=65, c=y, cmap=cmap_bold, norm = bnorm, alpha = 0.40, edgecolor='black', lw = 1)\n",
    "\n",
    "    plt.xlim(x_min, x_max)\n",
    "    plt.ylim(y_min, y_max)\n",
    "\n",
    "    h = []\n",
    "    for c in range(0, num_labels):\n",
    "        h.append(mpatches.Patch(color=color_array[c], label=class_labels[c]))\n",
    "    plt.legend(handles=h)\n",
    "\n",
    "    plt.show()\n",
    "\n",
    "def plot_pca(pca, f_names, top_k = 10):\n",
    "    fig, ax = plt.subplots(figsize=(10, 6))\n",
    "    plt.imshow(pca.components_[0:top_k], interpolation = 'none', cmap = 'plasma')\n",
    "    feature_names=f_names\n",
    "    plt.xticks(np.arange(-0., len(feature_names), 1) , feature_names, rotation = 90, fontsize=12)\n",
    "    plt.yticks(np.arange(0., 2, 1), ['First PC', 'Second PC'], fontsize = 16)\n",
    "    plt.colorbar()\n",
    "\n",
    "def upsampler(df_x, df_y): # https://www.analyticsvidhya.com/blog/2021/06/5-techniques-to-handle-imbalanced-data-for-a-classification-problem/\n",
    "    # combine results\n",
    "    df_x['act'] = df_y\n",
    "    # filter into majority / minority\n",
    "    df_majority = df_x.loc[df_x['act']==0]\n",
    "    df_minority = df_x.loc[df_x['act']==1]\n",
    "    # upsample to the size of the majority\n",
    "    df_minority_upsampled = resample(df_minority, replace=True, n_samples= len(df_majority), random_state=rng)\n",
    "    # combine and split back into x and y dfs\n",
    "    df_upsampled = pd.concat([df_minority_upsampled, df_majority])\n",
    "    new_y = df_upsampled['act']\n",
    "    new_x = df_upsampled.drop(columns=['act'])\n",
    "    return new_x, new_y"
   ]
  },
  {
   "cell_type": "markdown",
   "id": "030d9cea-5f82-472c-8789-4cee707da730",
   "metadata": {
    "pycharm": {
     "name": "#%% md\n"
    },
    "tags": []
   },
   "source": [
    "#### Preprocessing"
   ]
  },
  {
   "cell_type": "code",
   "execution_count": 4,
   "id": "a02364b7-9904-44d4-8bdc-0934ee5fee78",
   "metadata": {
    "pycharm": {
     "name": "#%%\n"
    }
   },
   "outputs": [
    {
     "name": "stdout",
     "output_type": "stream",
     "text": [
      "Index(['control_number', 'species_code', 'genus', 'species', 'wildlf_desc',\n",
      "       'wildlf_cat', 'cartons', 'qty', 'unit', 'value', 'ctry_org', 'ctry_ie',\n",
      "       'purp', 'src', 'trans_mode', 'act', 'dp_cd', 'disp_date', 'ship_date',\n",
      "       'i_e', 'pt_cd', 'specific_generic_name', 'disp_date_yyyy',\n",
      "       'disp_date_mm', 'ship_date_yyyy', 'ship_date_mm', 'disp_ship_date'],\n",
      "      dtype='object')\n"
     ]
    }
   ],
   "source": [
    "# read in the data\n",
    "df = pd.read_csv(f'{p}{input_name}')\n",
    "if outputs:\n",
    "    print(df.columns)"
   ]
  },
  {
   "cell_type": "code",
   "execution_count": 5,
   "id": "66ad55fe-d543-4b10-ac4d-66fb10b8aba5",
   "metadata": {
    "pycharm": {
     "name": "#%%\n"
    }
   },
   "outputs": [],
   "source": [
    "# modify these columns to adjust what features are used\n",
    "non_feature_cols = ['control_number', 'disp_date', 'i_e', 'ship_date',\n",
    "                    'cartons', 'qty', 'unit', 'specific_generic_name',\n",
    "                    'genus', 'species', 'wildlf_cat', \n",
    "                    'disp_date_yyyy', 'disp_date_mm', 'disp_ship_date']\n",
    "\n",
    "target = ['act', 'dp_cd']\n",
    "\n",
    "feature_cols = ['species_code', 'wildlf_desc', \n",
    "                'ctry_org', 'ctry_ie','purp', 'src', 'trans_mode', 'pt_cd', \n",
    "                 'value', 'ship_date_mm']"
   ]
  },
  {
   "cell_type": "code",
   "execution_count": 6,
   "id": "39a9e465-92ac-487f-a9df-782636d25b10",
   "metadata": {
    "pycharm": {
     "name": "#%%\n"
    }
   },
   "outputs": [],
   "source": [
    "#import_df = df_filtering(df, i_e = 'I', f_cols = feature_cols)\n",
    "export_df = df_filtering(df, i_e = 'E', f_cols = feature_cols)\n",
    "# import: 590505 rows × 11 columns\n",
    "# export: 299340 rows × 11 columns"
   ]
  },
  {
   "cell_type": "code",
   "execution_count": 7,
   "id": "0f88beda-31ad-4282-80b6-397773aac7ab",
   "metadata": {
    "pycharm": {
     "name": "#%%\n"
    }
   },
   "outputs": [],
   "source": [
    "# standard version of the data\n",
    "X_train, X_test, y_train, y_test = data_split(export_df)"
   ]
  },
  {
   "cell_type": "code",
   "execution_count": 8,
   "id": "b01d2bab",
   "metadata": {
    "collapsed": false,
    "jupyter": {
     "outputs_hidden": false
    },
    "pycharm": {
     "name": "#%%\n"
    }
   },
   "outputs": [],
   "source": [
    "# resampled version of the data (not CV)\n",
    "X_train_resampled, y_train_resampled = upsampler(X_train.copy(),y_train.copy())"
   ]
  },
  {
   "cell_type": "markdown",
   "id": "868debda-5536-413a-9761-161e589716e9",
   "metadata": {
    "pycharm": {
     "name": "#%% md\n"
    },
    "tags": []
   },
   "source": [
    "#### column transformer w/ TargetEncoding"
   ]
  },
  {
   "cell_type": "code",
   "execution_count": 1,
   "id": "8c7c0713-ae39-4e0e-916f-081a278e309d",
   "metadata": {
    "pycharm": {
     "name": "#%%\n"
    }
   },
   "outputs": [],
   "source": [
    "from category_encoders.target_encoder import TargetEncoder"
   ]
  },
  {
   "cell_type": "code",
   "execution_count": 2,
   "id": "c573f6f9-e520-4eb5-b0e5-68adce740615",
   "metadata": {
    "pycharm": {
     "name": "#%%\n"
    }
   },
   "outputs": [],
   "source": [
    "categorical_var = ['species_code', 'wildlf_desc', 'ctry_org', 'ctry_ie','purp', 'src', \n",
    "                   'trans_mode', 'pt_cd','ship_date_mm']\n",
    "numerical_var = ['value']"
   ]
  },
  {
   "cell_type": "code",
   "execution_count": 11,
   "id": "58c9f75b-af98-466d-8c9f-76f48cb1f296",
   "metadata": {
    "pycharm": {
     "name": "#%%\n"
    }
   },
   "outputs": [
    {
     "name": "stderr",
     "output_type": "stream",
     "text": [
      "C:\\Users\\joshh\\anaconda3\\lib\\site-packages\\category_encoders\\target_encoder.py:122: FutureWarning: Default parameter min_samples_leaf will change in version 2.6.See https://github.com/scikit-learn-contrib/category_encoders/issues/327\n",
      "  warnings.warn(\"Default parameter min_samples_leaf will change in version 2.6.\"\n",
      "C:\\Users\\joshh\\anaconda3\\lib\\site-packages\\category_encoders\\target_encoder.py:127: FutureWarning: Default parameter smoothing will change in version 2.6.See https://github.com/scikit-learn-contrib/category_encoders/issues/327\n",
      "  warnings.warn(\"Default parameter smoothing will change in version 2.6.\"\n"
     ]
    }
   ],
   "source": [
    "ct_target = make_column_transformer(\n",
    "    (StandardScaler(), numerical_var),\n",
    "    (TargetEncoder(), categorical_var),\n",
    "    remainder='passthrough')\n",
    "le = LabelEncoder()"
   ]
  },
  {
   "cell_type": "code",
   "execution_count": 12,
   "id": "0f6f071f-a66b-47a8-ad24-44e2876d86e6",
   "metadata": {
    "pycharm": {
     "name": "#%%\n"
    }
   },
   "outputs": [
    {
     "name": "stderr",
     "output_type": "stream",
     "text": [
      "C:\\Users\\joshh\\anaconda3\\lib\\site-packages\\category_encoders\\target_encoder.py:122: FutureWarning: Default parameter min_samples_leaf will change in version 2.6.See https://github.com/scikit-learn-contrib/category_encoders/issues/327\n",
      "  warnings.warn(\"Default parameter min_samples_leaf will change in version 2.6.\"\n",
      "C:\\Users\\joshh\\anaconda3\\lib\\site-packages\\category_encoders\\target_encoder.py:127: FutureWarning: Default parameter smoothing will change in version 2.6.See https://github.com/scikit-learn-contrib/category_encoders/issues/327\n",
      "  warnings.warn(\"Default parameter smoothing will change in version 2.6.\"\n"
     ]
    },
    {
     "data": {
      "text/plain": [
       "['X_train_targetEncoding_resampled.joblib']"
      ]
     },
     "execution_count": 12,
     "metadata": {},
     "output_type": "execute_result"
    }
   ],
   "source": [
    "X_train = ct_target.fit_transform(X_train, y_train)\n",
    "#joblib.dump(X_train, 'X_train_targetEncoding.joblib')\n",
    "\n",
    "X_test = ct_target.transform(X_test)\n",
    "#joblib.dump(X_test, 'X_test_targetEncoding.joblib')\n",
    "# Found unknown categories\n",
    "\n",
    "X_train_resampled = ct_target.transform(X_train_resampled)\n",
    "#joblib.dump(X_train_resampled, 'X_train_targetEncoding_resampled.joblib')"
   ]
  },
  {
   "cell_type": "code",
   "execution_count": 13,
   "id": "f97cba42",
   "metadata": {
    "collapsed": false,
    "jupyter": {
     "outputs_hidden": false
    },
    "pycharm": {
     "name": "#%%\n"
    }
   },
   "outputs": [],
   "source": [
    "# SMOTE version of the data on target encoded (not CV)\n",
    "sm = SMOTE(sampling_strategy='minority', random_state=rng)\n",
    "X_train_SMOTE, y_train_SMOTE = sm.fit_sample(X_train, y_train)"
   ]
  },
  {
   "cell_type": "markdown",
   "id": "42196af3",
   "metadata": {
    "pycharm": {
     "name": "#%% md\n"
    },
    "tags": []
   },
   "source": [
    "## Modeling Standard Target Encoded Data"
   ]
  },
  {
   "cell_type": "markdown",
   "id": "38712ba7-e296-4a1b-a3bc-77920c6115d7",
   "metadata": {
    "pycharm": {
     "name": "#%% md\n"
    },
    "tags": []
   },
   "source": [
    "#### Dummy Classifers"
   ]
  },
  {
   "cell_type": "code",
   "execution_count": 14,
   "id": "457ca9a8-2623-42bf-8610-b129f927217d",
   "metadata": {
    "pycharm": {
     "name": "#%%\n"
    }
   },
   "outputs": [
    {
     "name": "stdout",
     "output_type": "stream",
     "text": [
      "model run time: 0:00:00.005511\n"
     ]
    }
   ],
   "source": [
    "start = datetime.now()\n",
    "dummy_majority = DummyClassifier(strategy = 'most_frequent').fit(X_train, y_train)\n",
    "end = datetime.now()\n",
    "if outputs:\n",
    "    print(f'model run time: {end - start}')\n",
    "\n",
    "# dummy_majority.score(X_test, y_test)\n",
    "dummy_predicted = dummy_majority.predict(X_test)"
   ]
  },
  {
   "cell_type": "code",
   "execution_count": 15,
   "id": "60285ed2-962a-4016-90ad-9a1a2e218853",
   "metadata": {
    "pycharm": {
     "name": "#%%\n"
    }
   },
   "outputs": [
    {
     "data": {
      "text/plain": [
       "['export_run5_TargetEncoding_resampling/export_dummy_majority_clf.joblib']"
      ]
     },
     "execution_count": 15,
     "metadata": {},
     "output_type": "execute_result"
    }
   ],
   "source": [
    "joblib.dump(dummy_majority, f'{prefix}_dummy_majority_clf.joblib')"
   ]
  },
  {
   "cell_type": "markdown",
   "id": "7726cbe7-fb99-4902-8ac8-b7ed33b200db",
   "metadata": {
    "pycharm": {
     "name": "#%% md\n"
    },
    "tags": []
   },
   "source": [
    "#### Logistic Regression"
   ]
  },
  {
   "cell_type": "code",
   "execution_count": 16,
   "id": "1272a83e-5b37-40d6-9b89-893bdd465b67",
   "metadata": {
    "pycharm": {
     "name": "#%%\n"
    }
   },
   "outputs": [
    {
     "name": "stdout",
     "output_type": "stream",
     "text": [
      "model run time: 0:00:01.202965\n",
      "Logistic regression classifier (default settings)\n",
      " [[   75   568]\n",
      " [   30 74162]]\n"
     ]
    },
    {
     "data": {
      "image/png": "[encoded data removed]",
      "text/plain": [
       "<Figure size 1800x1200 with 2 Axes>"
      ]
     },
     "metadata": {},
     "output_type": "display_data"
    }
   ],
   "source": [
    "start = datetime.now()\n",
    "lr = LogisticRegression(random_state=rng, max_iter=1000).fit(X_train, y_train)\n",
    "end = datetime.now()\n",
    "if outputs:\n",
    "    print(f'model run time: {end - start}')\n",
    "\n",
    "lr_predicted = lr.predict(X_test)\n",
    "confusion = confusion_matrix(y_test, lr_predicted, labels = [1,0])\n",
    "if outputs:\n",
    "    print('Logistic regression classifier (default settings)\\n', confusion)\n",
    "cm_display = ConfusionMatrixDisplay(confusion, display_labels=[1,0])\n",
    "if outputs:\n",
    "    cm_display.plot()"
   ]
  },
  {
   "cell_type": "code",
   "execution_count": 17,
   "id": "bdf2888c-6c3a-4e51-a7e2-b881628458f7",
   "metadata": {
    "pycharm": {
     "name": "#%%\n"
    }
   },
   "outputs": [
    {
     "name": "stdout",
     "output_type": "stream",
     "text": [
      "model run time: 0:00:01.303410\n",
      "Logistic regression classifier (balanced)\n",
      " [[67702  6490]\n",
      " [  295   348]]\n"
     ]
    }
   ],
   "source": [
    "start = datetime.now()\n",
    "lr_balanced = LogisticRegression(random_state=rng, class_weight='balanced', max_iter=1000).fit(X_train, y_train)\n",
    "end = datetime.now()\n",
    "if outputs:\n",
    "    print(f'model run time: {end - start}')\n",
    "\n",
    "lr_balanced_predicted = lr_balanced.predict(X_test)\n",
    "confusion = confusion_matrix(y_test, lr_balanced_predicted)\n",
    "if outputs:\n",
    "    print('Logistic regression classifier (balanced)\\n', confusion)"
   ]
  },
  {
   "cell_type": "code",
   "execution_count": 18,
   "id": "d3dff4f3-de64-42bb-94c1-93e5f66ebd4f",
   "metadata": {
    "pycharm": {
     "name": "#%%\n"
    }
   },
   "outputs": [
    {
     "data": {
      "text/plain": [
       "['export_run5_TargetEncoding_resampling/export_lr_balanced_clf.joblib']"
      ]
     },
     "execution_count": 18,
     "metadata": {},
     "output_type": "execute_result"
    }
   ],
   "source": [
    "joblib.dump(lr, f'{prefix}_lr_clf.joblib')\n",
    "joblib.dump(lr_balanced, f'{prefix}_lr_balanced_clf.joblib')"
   ]
  },
  {
   "cell_type": "markdown",
   "id": "7adb248b-2822-40e0-b157-4407ee314cfd",
   "metadata": {
    "pycharm": {
     "name": "#%% md\n"
    },
    "tags": []
   },
   "source": [
    "#### Decision Tree"
   ]
  },
  {
   "cell_type": "code",
   "execution_count": 21,
   "id": "07ae33aa-bf0b-4ca7-ac4d-58e999f59cc1",
   "metadata": {
    "pycharm": {
     "name": "#%%\n"
    }
   },
   "outputs": [
    {
     "data": {
      "image/png": "[encoded data removed]",
      "text/plain": [
       "<Figure size 800x320 with 1 Axes>"
      ]
     },
     "metadata": {},
     "output_type": "display_data"
    },
    {
     "name": "stdout",
     "output_type": "stream",
     "text": [
      "Feature importances: [0.1034151  0.09471394 0.12736673 0.04938061 0.02818066 0.081759\n",
      " 0.05633878 0.06116747 0.18996441 0.20771333]\n"
     ]
    }
   ],
   "source": [
    "start = datetime.now()\n",
    "decision_tree_clf = DecisionTreeClassifier(random_state=rng).fit(X_train, y_train)\n",
    "end = datetime.now()\n",
    "if outputs:\n",
    "    print(f'model run time: {end - start}')\n",
    "tree_predicted = decision_tree_clf.predict(X_test)\n",
    "confusion = confusion_matrix(y_test, tree_predicted)\n",
    "if outputs:\n",
    "    print('Decision Tree classifier (balanced)\\n', confusion)\n",
    "plt.figure(figsize=(10,4), dpi=80)\n",
    "plot_feature_importances(decision_tree_clf, feature_cols)\n",
    "if outputs:\n",
    "    plt.show()\n",
    "    print('Feature importances: {}'.format(decision_tree_clf.feature_importances_[::-1]))"
   ]
  },
  {
   "cell_type": "code",
   "execution_count": 22,
   "id": "64ef3d8a-d872-4af6-a88a-539600e89ea8",
   "metadata": {
    "pycharm": {
     "name": "#%%\n"
    }
   },
   "outputs": [
    {
     "data": {
      "text/plain": [
       "['export_run5_TargetEncoding_resampling/export_decision_tree_clf.joblib']"
      ]
     },
     "execution_count": 22,
     "metadata": {},
     "output_type": "execute_result"
    }
   ],
   "source": [
    "joblib.dump(decision_tree_clf, f'{prefix}_decision_tree_clf.joblib')"
   ]
  },
  {
   "cell_type": "markdown",
   "id": "2c9a906b-06d1-4472-9902-f8c24ef8d282",
   "metadata": {
    "pycharm": {
     "name": "#%% md\n"
    },
    "tags": []
   },
   "source": [
    "#### Random Forest"
   ]
  },
  {
   "cell_type": "code",
   "execution_count": 26,
   "id": "2f657c2f-223a-4ec2-b6b3-5187d13552b4",
   "metadata": {
    "pycharm": {
     "name": "#%%\n"
    }
   },
   "outputs": [
    {
     "data": {
      "image/png": "[encoded data removed]",
      "text/plain": [
       "<Figure size 800x320 with 1 Axes>"
      ]
     },
     "metadata": {},
     "output_type": "display_data"
    },
    {
     "name": "stdout",
     "output_type": "stream",
     "text": [
      "Feature importances: [0.09635666 0.09526445 0.06666391 0.06341149 0.03632125 0.08788921\n",
      " 0.10143157 0.06837879 0.18115329 0.20312939]\n"
     ]
    }
   ],
   "source": [
    "start = datetime.now()\n",
    "rf_clf = RandomForestClassifier(random_state=rng).fit(X_train, y_train)\n",
    "end = datetime.now()\n",
    "if outputs:\n",
    "    print(f'model run time: {end - start}')\n",
    "rf_predicted = rf_clf.predict(X_test)\n",
    "confusion = confusion_matrix(y_test, rf_predicted)\n",
    "if outputs:\n",
    "    print('Random Forest classifier (balanced)\\n', confusion)\n",
    "plt.figure(figsize=(10,4), dpi=80)\n",
    "plot_feature_importances(rf_clf, feature_cols)\n",
    "if outputs:\n",
    "    plt.show()\n",
    "    print('Feature importances: {}'.format(rf_clf.feature_importances_[::-1]))"
   ]
  },
  {
   "cell_type": "code",
   "execution_count": 25,
   "id": "5a4963d6",
   "metadata": {
    "collapsed": false,
    "jupyter": {
     "outputs_hidden": false
    },
    "pycharm": {
     "name": "#%%\n"
    }
   },
   "outputs": [
    {
     "data": {
      "text/plain": [
       "['export_run5_TargetEncoding_resampling/export_rf_clf.joblib']"
      ]
     },
     "execution_count": 25,
     "metadata": {},
     "output_type": "execute_result"
    }
   ],
   "source": [
    "joblib.dump(rf_clf, f'{prefix}_rf_clf.joblib')"
   ]
  },
  {
   "cell_type": "markdown",
   "id": "be9f570c-afc2-401e-9e6e-e851c2a04552",
   "metadata": {
    "pycharm": {
     "name": "#%% md\n"
    }
   },
   "source": [
    "#### XGBoost Classifier\n",
    "(default settings)"
   ]
  },
  {
   "cell_type": "code",
   "execution_count": 28,
   "id": "b7ac385e-6a59-40fd-a165-6c018c1e632d",
   "metadata": {
    "pycharm": {
     "name": "#%%\n"
    }
   },
   "outputs": [
    {
     "name": "stdout",
     "output_type": "stream",
     "text": [
      "XGB Classifier Confusion Matrix\n",
      " [[74151    41]\n",
      " [  419   224]]\n"
     ]
    }
   ],
   "source": [
    "start = datetime.now()\n",
    "xgb_params = {\"seed\": rng }\n",
    "xgb_clf = xgb.XGBClassifier(random_state = rng).fit(X_train,y_train)\n",
    "end = datetime.now()\n",
    "if outputs:\n",
    "    print(f'model run time: {end - start}')\n",
    "xgb_predicted = xgb_clf.predict(X_test)\n",
    "confusion = confusion_matrix(y_test, xgb_predicted)\n",
    "if outputs:\n",
    "    print('XGB Classifier Confusion Matrix\\n', confusion)"
   ]
  },
  {
   "cell_type": "code",
   "execution_count": 29,
   "id": "13096e47-b034-4074-85d1-1177cf1c01f8",
   "metadata": {
    "pycharm": {
     "name": "#%%\n"
    }
   },
   "outputs": [
    {
     "data": {
      "text/plain": [
       "['export_run5_TargetEncoding_resampling/export_xgb_clf.joblib']"
      ]
     },
     "execution_count": 29,
     "metadata": {},
     "output_type": "execute_result"
    }
   ],
   "source": [
    "joblib.dump(rf_clf, f'{prefix}_xgb_clf.joblib')"
   ]
  },
  {
   "cell_type": "markdown",
   "id": "29088722-282e-42da-8124-48ff846b6b7e",
   "metadata": {
    "pycharm": {
     "name": "#%% md\n"
    }
   },
   "source": [
    "#### FIGS"
   ]
  },
  {
   "cell_type": "code",
   "execution_count": 31,
   "id": "7a6a6f5f-a375-4103-9721-d5a035ab12f8",
   "metadata": {
    "pycharm": {
     "name": "#%%\n"
    }
   },
   "outputs": [
    {
     "name": "stdout",
     "output_type": "stream",
     "text": [
      "FIGS Classifier Confusion Matrix\n",
      " [[74157    35]\n",
      " [  469   174]]\n"
     ]
    }
   ],
   "source": [
    "start = datetime.now()\n",
    "figs_clf = FIGSClassifier(random_state=rng).fit(X_train,y_train)\n",
    "end = datetime.now()\n",
    "if outputs:\n",
    "    print(f'model run time: {end - start}')\n",
    "figs_predicted = figs_clf.predict(X_test)\n",
    "confusion = confusion_matrix(y_test, figs_predicted)\n",
    "if outputs:\n",
    "    print('FIGS Classifier Confusion Matrix\\n', confusion)"
   ]
  },
  {
   "cell_type": "code",
   "execution_count": 32,
   "id": "c5b5ba86-f80c-4e72-97df-661018d563ab",
   "metadata": {
    "pycharm": {
     "name": "#%%\n"
    }
   },
   "outputs": [
    {
     "data": {
      "text/plain": [
       "['export_run5_TargetEncoding_resampling/export_figs_clf.joblib']"
      ]
     },
     "execution_count": 32,
     "metadata": {},
     "output_type": "execute_result"
    }
   ],
   "source": [
    "joblib.dump(rf_clf, f'{prefix}_figs_clf.joblib')"
   ]
  },
  {
   "cell_type": "markdown",
   "id": "219a10de",
   "metadata": {
    "pycharm": {
     "name": "#%% md\n"
    }
   },
   "source": [
    "#### LGBM"
   ]
  },
  {
   "cell_type": "code",
   "execution_count": 34,
   "id": "d12ff38a",
   "metadata": {
    "collapsed": false,
    "jupyter": {
     "outputs_hidden": false
    },
    "pycharm": {
     "name": "#%%\n"
    }
   },
   "outputs": [
    {
     "name": "stdout",
     "output_type": "stream",
     "text": [
      "LightLGBM Classifier Confusion Matrix\n",
      " [[74079   113]\n",
      " [  444   199]]\n"
     ]
    }
   ],
   "source": [
    "# light gbm with default params (this thing has a LOT of customization options fyi)\n",
    "# https://lightgbm.readthedocs.io/en/latest/pythonapi/lightgbm.LGBMClassifier.html\n",
    "start = datetime.now()\n",
    "lgbm_model = lgb.LGBMClassifier().fit(X_train, y_train, eval_set=[(X_test,y_test),(X_train,y_train)])\n",
    "end = datetime.now()\n",
    "if outputs:\n",
    "    print(f'model run time: {end - start}')\n",
    "lgbm_predicted = lgbm_model.predict(X_test)\n",
    "confusion = confusion_matrix(y_test, lgbm_predicted)\n",
    "if outputs:\n",
    "    print('LightLGBM Classifier Confusion Matrix\\n', confusion)"
   ]
  },
  {
   "cell_type": "code",
   "execution_count": 35,
   "id": "35b9adad",
   "metadata": {
    "collapsed": false,
    "jupyter": {
     "outputs_hidden": false
    },
    "pycharm": {
     "name": "#%%\n"
    }
   },
   "outputs": [
    {
     "data": {
      "text/plain": [
       "['export_run5_TargetEncoding_resampling/export_lgbm_clf.joblib']"
      ]
     },
     "execution_count": 35,
     "metadata": {},
     "output_type": "execute_result"
    }
   ],
   "source": [
    "joblib.dump(rf_clf, f'{prefix}_lgbm_clf.joblib')"
   ]
  },
  {
   "cell_type": "markdown",
   "id": "4c2771bf-e988-45d9-aa1f-4c6bc760cb47",
   "metadata": {
    "pycharm": {
     "name": "#%% md\n"
    },
    "tags": []
   },
   "source": [
    "#### Model Evaluation"
   ]
  },
  {
   "cell_type": "code",
   "execution_count": 36,
   "id": "8f99bb64-ca49-460f-84a8-3afffcd8ccd7",
   "metadata": {
    "pycharm": {
     "name": "#%%\n"
    }
   },
   "outputs": [
    {
     "name": "stdout",
     "output_type": "stream",
     "text": [
      "Most frequent class (dummy classifier) \n",
      "               precision    recall  f1-score   support\n",
      "\n",
      "       clear       0.99      1.00      1.00     74192\n",
      "      seized       0.00      0.00      0.00       643\n",
      "\n",
      "    accuracy                           0.99     74835\n",
      "   macro avg       0.50      0.50      0.50     74835\n",
      "weighted avg       0.98      0.99      0.99     74835\n",
      "\n",
      "Logistic Regression \n",
      "               precision    recall  f1-score   support\n",
      "\n",
      "       clear       0.99      1.00      1.00     74192\n",
      "      seized       0.71      0.12      0.20       643\n",
      "\n",
      "    accuracy                           0.99     74835\n",
      "   macro avg       0.85      0.56      0.60     74835\n",
      "weighted avg       0.99      0.99      0.99     74835\n",
      "\n"
     ]
    },
    {
     "name": "stderr",
     "output_type": "stream",
     "text": [
      "C:\\Users\\joshh\\anaconda3\\lib\\site-packages\\sklearn\\metrics\\_classification.py:1334: UndefinedMetricWarning: Precision and F-score are ill-defined and being set to 0.0 in labels with no predicted samples. Use `zero_division` parameter to control this behavior.\n",
      "  _warn_prf(average, modifier, msg_start, len(result))\n",
      "C:\\Users\\joshh\\anaconda3\\lib\\site-packages\\sklearn\\metrics\\_classification.py:1334: UndefinedMetricWarning: Precision and F-score are ill-defined and being set to 0.0 in labels with no predicted samples. Use `zero_division` parameter to control this behavior.\n",
      "  _warn_prf(average, modifier, msg_start, len(result))\n",
      "C:\\Users\\joshh\\anaconda3\\lib\\site-packages\\sklearn\\metrics\\_classification.py:1334: UndefinedMetricWarning: Precision and F-score are ill-defined and being set to 0.0 in labels with no predicted samples. Use `zero_division` parameter to control this behavior.\n",
      "  _warn_prf(average, modifier, msg_start, len(result))\n"
     ]
    },
    {
     "name": "stdout",
     "output_type": "stream",
     "text": [
      "Logistic Regression (balanced) \n",
      "               precision    recall  f1-score   support\n",
      "\n",
      "       clear       1.00      0.91      0.95     74192\n",
      "      seized       0.05      0.54      0.09       643\n",
      "\n",
      "    accuracy                           0.91     74835\n",
      "   macro avg       0.52      0.73      0.52     74835\n",
      "weighted avg       0.99      0.91      0.94     74835\n",
      "\n",
      "Decision Tree \n",
      "               precision    recall  f1-score   support\n",
      "\n",
      "       clear       1.00      1.00      1.00     74192\n",
      "      seized       0.46      0.45      0.45       643\n",
      "\n",
      "    accuracy                           0.99     74835\n",
      "   macro avg       0.73      0.72      0.72     74835\n",
      "weighted avg       0.99      0.99      0.99     74835\n",
      "\n",
      "Random Forest \n",
      "               precision    recall  f1-score   support\n",
      "\n",
      "       clear       0.99      1.00      1.00     74192\n",
      "      seized       0.75      0.42      0.54       643\n",
      "\n",
      "    accuracy                           0.99     74835\n",
      "   macro avg       0.87      0.71      0.77     74835\n",
      "weighted avg       0.99      0.99      0.99     74835\n",
      "\n",
      "XGBoost Classifier \n",
      "               precision    recall  f1-score   support\n",
      "\n",
      "       clear       0.99      1.00      1.00     74192\n",
      "      seized       0.85      0.35      0.49       643\n",
      "\n",
      "    accuracy                           0.99     74835\n",
      "   macro avg       0.92      0.67      0.75     74835\n",
      "weighted avg       0.99      0.99      0.99     74835\n",
      "\n",
      "FIGS Classifier \n",
      "               precision    recall  f1-score   support\n",
      "\n",
      "       clear       0.99      1.00      1.00     74192\n",
      "      seized       0.83      0.27      0.41       643\n",
      "\n",
      "    accuracy                           0.99     74835\n",
      "   macro avg       0.91      0.64      0.70     74835\n",
      "weighted avg       0.99      0.99      0.99     74835\n",
      "\n",
      "LGBM Classifier \n",
      "               precision    recall  f1-score   support\n",
      "\n",
      "       clear       0.99      1.00      1.00     74192\n",
      "      seized       0.64      0.31      0.42       643\n",
      "\n",
      "    accuracy                           0.99     74835\n",
      "   macro avg       0.82      0.65      0.71     74835\n",
      "weighted avg       0.99      0.99      0.99     74835\n",
      "\n"
     ]
    }
   ],
   "source": [
    "if outputs:\n",
    "    print('Most frequent class (dummy classifier) \\n',\n",
    "          classification_report(y_test, dummy_predicted, target_names=['clear', 'seized']))\n",
    "    print('Logistic Regression \\n',\n",
    "          classification_report(y_test, lr_predicted, target_names=['clear', 'seized']))\n",
    "    print('Logistic Regression (balanced) \\n',\n",
    "          classification_report(y_test, lr_balanced_predicted, target_names=['clear', 'seized']))\n",
    "    print('Decision Tree \\n',\n",
    "          classification_report(y_test, tree_predicted, target_names=['clear', 'seized']))\n",
    "    print('Random Forest \\n',\n",
    "          classification_report(y_test, rf_predicted, target_names=['clear', 'seized']))\n",
    "    print('XGBoost Classifier \\n',\n",
    "          classification_report(y_test, xgb_predicted, target_names=['clear', 'seized']))\n",
    "    print('FIGS Classifier \\n',\n",
    "          classification_report(y_test, figs_predicted, target_names=['clear', 'seized']))\n",
    "    print(\"LGBM Classifier \\n\",\n",
    "          classification_report(y_test, lgbm_predicted, target_names=['clear', 'seized']))"
   ]
  },
  {
   "cell_type": "code",
   "execution_count": 37,
   "id": "7cba6c51-8605-446b-a92b-7c378d9ee6c0",
   "metadata": {
    "pycharm": {
     "name": "#%%\n"
    }
   },
   "outputs": [],
   "source": [
    "# Accuracy = TP + TN / (TP + TN + FP + FN)\n",
    "# Precision = TP / (TP + FP)\n",
    "# Recall = TP / (TP + FN)  Also known as sensitivity, or True Positive Rate\n",
    "# F1 = 2 * Precision * Recall / (Precision + Recall)"
   ]
  },
  {
   "cell_type": "markdown",
   "id": "ec0acaa0",
   "metadata": {
    "jp-MarkdownHeadingCollapsed": true,
    "pycharm": {
     "name": "#%% md\n"
    },
    "tags": []
   },
   "source": [
    "## Resampled Data"
   ]
  },
  {
   "cell_type": "code",
   "execution_count": 38,
   "id": "37505fed",
   "metadata": {
    "collapsed": false,
    "jupyter": {
     "outputs_hidden": false
    },
    "pycharm": {
     "name": "#%%\n"
    }
   },
   "outputs": [
    {
     "name": "stdout",
     "output_type": "stream",
     "text": [
      "model run time: 0:00:00.011086\n"
     ]
    },
    {
     "data": {
      "text/plain": [
       "['export_run5_TargetEncoding_resampling/export_dummy_majority_clf_resampled.joblib']"
      ]
     },
     "execution_count": 38,
     "metadata": {},
     "output_type": "execute_result"
    }
   ],
   "source": [
    "# dummy classifier\n",
    "start = datetime.now()\n",
    "dummy_majority_resampled = DummyClassifier(strategy = 'most_frequent').fit(X_train_resampled, y_train_resampled)\n",
    "end = datetime.now()\n",
    "if outputs:\n",
    "    print(f'model run time: {end - start}')\n",
    "\n",
    "# dummy_majority.score(X_test, y_test)\n",
    "dummy_predicted_resampled = dummy_majority_resampled.predict(X_test)\n",
    "joblib.dump(dummy_majority, f'{prefix}_dummy_majority_clf_resampled.joblib')"
   ]
  },
  {
   "cell_type": "code",
   "execution_count": 39,
   "id": "add50f96",
   "metadata": {
    "collapsed": false,
    "jupyter": {
     "outputs_hidden": false
    },
    "pycharm": {
     "name": "#%%\n"
    }
   },
   "outputs": [
    {
     "name": "stdout",
     "output_type": "stream",
     "text": [
      "model run time: 0:00:03.662190\n",
      "Logistic regression classifier resampled (default settings)\n",
      " [[  355   288]\n",
      " [ 6998 67194]]\n"
     ]
    },
    {
     "data": {
      "image/png": "[encoded data removed]",
      "text/plain": [
       "<Figure size 1800x1200 with 2 Axes>"
      ]
     },
     "metadata": {},
     "output_type": "display_data"
    }
   ],
   "source": [
    "# logistic regression\n",
    "start = datetime.now()\n",
    "lr_resampled = LogisticRegression(random_state=rng, max_iter=1000).fit(X_train_resampled, y_train_resampled)\n",
    "end = datetime.now()\n",
    "if outputs:\n",
    "    print(f'model run time: {end - start}')\n",
    "lr_predicted_resampled = lr_resampled.predict(X_test)\n",
    "confusion = confusion_matrix(y_test, lr_predicted_resampled, labels=[1, 0])\n",
    "if outputs:\n",
    "    print('Logistic regression classifier resampled (default settings)\\n', confusion)\n",
    "cm_display = ConfusionMatrixDisplay(confusion, display_labels=[1, 0])\n",
    "if outputs:\n",
    "    cm_display.plot()"
   ]
  },
  {
   "cell_type": "code",
   "execution_count": 40,
   "id": "3dd138f1",
   "metadata": {
    "collapsed": false,
    "jupyter": {
     "outputs_hidden": false
    },
    "pycharm": {
     "name": "#%%\n"
    }
   },
   "outputs": [
    {
     "name": "stdout",
     "output_type": "stream",
     "text": [
      "model run time: 0:00:03.781091\n",
      "Logistic regression classifier resampled (balanced)\n",
      " [[67702  6490]\n",
      " [  295   348]]\n"
     ]
    }
   ],
   "source": [
    "# balanced logistic regression\n",
    "start = datetime.now()\n",
    "lr_balanced_resampled = LogisticRegression(random_state=rng, class_weight='balanced', max_iter=1000).fit(X_train_resampled, y_train_resampled)\n",
    "end = datetime.now()\n",
    "if outputs:\n",
    "    print(f'model run time: {end - start}')\n",
    "lr_balanced_predicted_resampled = lr_balanced.predict(X_test)\n",
    "confusion = confusion_matrix(y_test, lr_balanced_predicted_resampled)\n",
    "if outputs:\n",
    "    print('Logistic regression classifier resampled (balanced)\\n', confusion)"
   ]
  },
  {
   "cell_type": "code",
   "execution_count": 41,
   "id": "fe763dbf",
   "metadata": {
    "collapsed": false,
    "jupyter": {
     "outputs_hidden": false
    },
    "pycharm": {
     "name": "#%%\n"
    }
   },
   "outputs": [
    {
     "data": {
      "text/plain": [
       "['export_run5_TargetEncoding_resampling/export_lr_balanced_clf_resampled.joblib']"
      ]
     },
     "execution_count": 41,
     "metadata": {},
     "output_type": "execute_result"
    }
   ],
   "source": [
    "joblib.dump(lr_resampled, f'{prefix}_lr_clf_resampled.joblib')\n",
    "joblib.dump(lr_balanced_resampled, f'{prefix}_lr_balanced_clf_resampled.joblib')"
   ]
  },
  {
   "cell_type": "code",
   "execution_count": 42,
   "id": "202ee6e9",
   "metadata": {
    "collapsed": false,
    "jupyter": {
     "outputs_hidden": false
    },
    "pycharm": {
     "name": "#%%\n"
    }
   },
   "outputs": [
    {
     "name": "stdout",
     "output_type": "stream",
     "text": [
      "model run time: 0:00:00.930136\n",
      "Decision Tree classifier resampled\n",
      " [[73879   313]\n",
      " [  388   255]]\n"
     ]
    },
    {
     "data": {
      "image/png": "[encoded data removed]",
      "text/plain": [
       "<Figure size 800x320 with 1 Axes>"
      ]
     },
     "metadata": {},
     "output_type": "display_data"
    },
    {
     "name": "stdout",
     "output_type": "stream",
     "text": [
      "Feature importances: [0.0776644  0.11012274 0.03809846 0.04015594 0.01103578 0.09200006\n",
      " 0.0581536  0.04150631 0.41938353 0.11187918]\n"
     ]
    }
   ],
   "source": [
    "# decision tree\n",
    "start = datetime.now()\n",
    "decision_tree_clf_resampled = DecisionTreeClassifier(random_state=rng).fit(X_train_resampled, y_train_resampled)\n",
    "end = datetime.now()\n",
    "if outputs:\n",
    "    print(f'model run time: {end - start}')\n",
    "tree_predicted_resampled = decision_tree_clf_resampled.predict(X_test)\n",
    "confusion = confusion_matrix(y_test, tree_predicted_resampled)\n",
    "if outputs:\n",
    "    print('Decision Tree classifier resampled\\n', confusion)\n",
    "plt.figure(figsize=(10, 4), dpi=80)\n",
    "plot_feature_importances(decision_tree_clf_resampled, feature_cols)\n",
    "if outputs:\n",
    "    plt.show()\n",
    "    print('Feature importances: {}'.format(decision_tree_clf_resampled.feature_importances_[::-1]))"
   ]
  },
  {
   "cell_type": "code",
   "execution_count": 43,
   "id": "145eadd0",
   "metadata": {
    "collapsed": false,
    "jupyter": {
     "outputs_hidden": false
    },
    "pycharm": {
     "name": "#%%\n"
    }
   },
   "outputs": [
    {
     "data": {
      "text/plain": [
       "['export_run5_TargetEncoding_resampling/export_decision_tree_clf_resampled.joblib']"
      ]
     },
     "execution_count": 43,
     "metadata": {},
     "output_type": "execute_result"
    }
   ],
   "source": [
    "joblib.dump(decision_tree_clf_resampled, f'{prefix}_decision_tree_clf_resampled.joblib')"
   ]
  },
  {
   "cell_type": "code",
   "execution_count": 44,
   "id": "1c58b533",
   "metadata": {
    "collapsed": false,
    "jupyter": {
     "outputs_hidden": false
    },
    "pycharm": {
     "name": "#%%\n"
    }
   },
   "outputs": [
    {
     "name": "stdout",
     "output_type": "stream",
     "text": [
      "model run time: 0:00:26.727858\n",
      "Random Forest classifier (balanced)\n",
      " [[74036   156]\n",
      " [  371   272]]\n"
     ]
    },
    {
     "data": {
      "image/png": "[encoded data removed]",
      "text/plain": [
       "<Figure size 800x320 with 1 Axes>"
      ]
     },
     "metadata": {},
     "output_type": "display_data"
    },
    {
     "name": "stdout",
     "output_type": "stream",
     "text": [
      "Feature importances: [0.07856192 0.12584312 0.05238165 0.04457253 0.01714821 0.09877354\n",
      " 0.10168859 0.06158398 0.31564597 0.10380049]\n"
     ]
    }
   ],
   "source": [
    "# random forest\n",
    "start = datetime.now()\n",
    "rf_clf_resampled = RandomForestClassifier(random_state=rng).fit(X_train_resampled, y_train_resampled)\n",
    "end = datetime.now()\n",
    "if outputs:\n",
    "    print(f'model run time: {end - start}')\n",
    "rf_predicted_resampled = rf_clf_resampled.predict(X_test)\n",
    "confusion = confusion_matrix(y_test, rf_predicted_resampled)\n",
    "if outputs:\n",
    "    print('Random Forest classifier (balanced)\\n', confusion)\n",
    "plt.figure(figsize=(10, 4), dpi=80)\n",
    "plot_feature_importances(rf_clf_resampled, feature_cols)\n",
    "if outputs:\n",
    "    plt.show()\n",
    "    print('Feature importances: {}'.format(rf_clf_resampled.feature_importances_[::-1]))"
   ]
  },
  {
   "cell_type": "code",
   "execution_count": 45,
   "id": "e1a5c1af",
   "metadata": {
    "collapsed": false,
    "jupyter": {
     "outputs_hidden": false
    },
    "pycharm": {
     "name": "#%%\n"
    }
   },
   "outputs": [
    {
     "data": {
      "text/plain": [
       "['export_run5_TargetEncoding_resampling/export_rf_clf_resampled.joblib']"
      ]
     },
     "execution_count": 45,
     "metadata": {},
     "output_type": "execute_result"
    }
   ],
   "source": [
    "joblib.dump(rf_clf, f'{prefix}_rf_clf_resampled.joblib')"
   ]
  },
  {
   "cell_type": "code",
   "execution_count": 46,
   "id": "b7b8c576",
   "metadata": {
    "collapsed": false,
    "jupyter": {
     "outputs_hidden": false
    },
    "pycharm": {
     "name": "#%%\n"
    }
   },
   "outputs": [
    {
     "name": "stdout",
     "output_type": "stream",
     "text": [
      "[22:42:10] WARNING: C:\\Windows\\Temp\\abs_557yfx631l\\croots\\recipe\\xgboost-split_1659548953302\\work\\src\\learner.cc:1115: Starting in XGBoost 1.3.0, the default evaluation metric used with the objective 'binary:logistic' was changed from 'error' to 'logloss'. Explicitly set eval_metric if you'd like to restore the old behavior.\n"
     ]
    },
    {
     "name": "stderr",
     "output_type": "stream",
     "text": [
      "C:\\Users\\joshh\\anaconda3\\lib\\site-packages\\xgboost\\sklearn.py:1224: UserWarning: The use of label encoder in XGBClassifier is deprecated and will be removed in a future release. To remove this warning, do the following: 1) Pass option use_label_encoder=False when constructing XGBClassifier object; and 2) Encode your labels (y) as integers starting with 0, i.e. 0, 1, 2, ..., [num_class - 1].\n",
      "  warnings.warn(label_encoder_deprecation_msg, UserWarning)\n"
     ]
    },
    {
     "name": "stdout",
     "output_type": "stream",
     "text": [
      "model run time: 0:00:04.695704\n",
      "XGB Classifier Resampled Confusion Matrix\n",
      " [[71397  2795]\n",
      " [  272   371]]\n"
     ]
    },
    {
     "data": {
      "text/plain": [
       "['export_run5_TargetEncoding_resampling/export_xgb_clf_resampled.joblib']"
      ]
     },
     "execution_count": 46,
     "metadata": {},
     "output_type": "execute_result"
    }
   ],
   "source": [
    "# xgboost\n",
    "start = datetime.now()\n",
    "xgb_params = {\"seed\": rng}\n",
    "xgb_clf_resampled = xgb.XGBClassifier(random_state=rng).fit(X_train_resampled, y_train_resampled)\n",
    "end = datetime.now()\n",
    "if outputs:\n",
    "    print(f'model run time: {end - start}')\n",
    "xgb_predicted_resampled = xgb_clf_resampled.predict(X_test)\n",
    "confusion = confusion_matrix(y_test, xgb_predicted_resampled)\n",
    "if outputs:\n",
    "    print('XGB Classifier Resampled Confusion Matrix\\n', confusion)\n",
    "joblib.dump(rf_clf_resampled, f'{prefix}_xgb_clf_resampled.joblib')"
   ]
  },
  {
   "cell_type": "code",
   "execution_count": 47,
   "id": "ec4f36b5",
   "metadata": {
    "collapsed": false,
    "jupyter": {
     "outputs_hidden": false
    },
    "pycharm": {
     "name": "#%%\n"
    }
   },
   "outputs": [
    {
     "name": "stdout",
     "output_type": "stream",
     "text": [
      "model run time: 0:00:13.473461\n",
      "FIGS Classifier Resampled Confusion Matrix\n",
      " [[61062 13130]\n",
      " [  235   408]]\n"
     ]
    },
    {
     "data": {
      "text/plain": [
       "['export_run5_TargetEncoding_resampling/export_figs_clf_resampled.joblib']"
      ]
     },
     "execution_count": 47,
     "metadata": {},
     "output_type": "execute_result"
    }
   ],
   "source": [
    "# figs\n",
    "start = datetime.now()\n",
    "figs_clf_resampled = FIGSClassifier(random_state=rng).fit(X_train_resampled, y_train_resampled)\n",
    "end = datetime.now()\n",
    "if outputs:\n",
    "    print(f'model run time: {end - start}')\n",
    "figs_predicted_resampled = figs_clf_resampled.predict(X_test)\n",
    "confusion = confusion_matrix(y_test, figs_predicted_resampled)\n",
    "if outputs:\n",
    "    print('FIGS Classifier Resampled Confusion Matrix\\n', confusion)\n",
    "joblib.dump(rf_clf, f'{prefix}_figs_clf_resampled.joblib')"
   ]
  },
  {
   "cell_type": "code",
   "execution_count": 48,
   "id": "44890dba",
   "metadata": {
    "collapsed": false,
    "jupyter": {
     "outputs_hidden": false
    },
    "pycharm": {
     "name": "#%%\n"
    }
   },
   "outputs": [
    {
     "name": "stdout",
     "output_type": "stream",
     "text": [
      "[1]\ttraining's binary_logloss: 0.640436\tvalid_0's binary_logloss: 0.641452\n",
      "[2]\ttraining's binary_logloss: 0.597086\tvalid_0's binary_logloss: 0.598867\n",
      "[3]\ttraining's binary_logloss: 0.560913\tvalid_0's binary_logloss: 0.563358\n",
      "[4]\ttraining's binary_logloss: 0.530109\tvalid_0's binary_logloss: 0.5331\n",
      "[5]\ttraining's binary_logloss: 0.503827\tvalid_0's binary_logloss: 0.507489\n",
      "[6]\ttraining's binary_logloss: 0.479967\tvalid_0's binary_logloss: 0.48384\n",
      "[7]\ttraining's binary_logloss: 0.459746\tvalid_0's binary_logloss: 0.46367\n",
      "[8]\ttraining's binary_logloss: 0.441787\tvalid_0's binary_logloss: 0.446019\n",
      "[9]\ttraining's binary_logloss: 0.42581\tvalid_0's binary_logloss: 0.430115\n",
      "[10]\ttraining's binary_logloss: 0.411333\tvalid_0's binary_logloss: 0.415911\n",
      "[11]\ttraining's binary_logloss: 0.39832\tvalid_0's binary_logloss: 0.403181\n",
      "[12]\ttraining's binary_logloss: 0.386786\tvalid_0's binary_logloss: 0.391729\n",
      "[13]\ttraining's binary_logloss: 0.376408\tvalid_0's binary_logloss: 0.381867\n",
      "[14]\ttraining's binary_logloss: 0.366996\tvalid_0's binary_logloss: 0.372825\n",
      "[15]\ttraining's binary_logloss: 0.358015\tvalid_0's binary_logloss: 0.364233\n",
      "[16]\ttraining's binary_logloss: 0.350318\tvalid_0's binary_logloss: 0.356625\n",
      "[17]\ttraining's binary_logloss: 0.342836\tvalid_0's binary_logloss: 0.349516\n",
      "[18]\ttraining's binary_logloss: 0.336749\tvalid_0's binary_logloss: 0.343915\n",
      "[19]\ttraining's binary_logloss: 0.329878\tvalid_0's binary_logloss: 0.337627\n",
      "[20]\ttraining's binary_logloss: 0.323754\tvalid_0's binary_logloss: 0.33135\n",
      "[21]\ttraining's binary_logloss: 0.317996\tvalid_0's binary_logloss: 0.326022\n",
      "[22]\ttraining's binary_logloss: 0.313409\tvalid_0's binary_logloss: 0.32188\n",
      "[23]\ttraining's binary_logloss: 0.308758\tvalid_0's binary_logloss: 0.317857\n",
      "[24]\ttraining's binary_logloss: 0.304233\tvalid_0's binary_logloss: 0.313485\n",
      "[25]\ttraining's binary_logloss: 0.300025\tvalid_0's binary_logloss: 0.309841\n",
      "[26]\ttraining's binary_logloss: 0.295983\tvalid_0's binary_logloss: 0.305819\n",
      "[27]\ttraining's binary_logloss: 0.291277\tvalid_0's binary_logloss: 0.301747\n",
      "[28]\ttraining's binary_logloss: 0.287456\tvalid_0's binary_logloss: 0.298357\n",
      "[29]\ttraining's binary_logloss: 0.284563\tvalid_0's binary_logloss: 0.296241\n",
      "[30]\ttraining's binary_logloss: 0.281333\tvalid_0's binary_logloss: 0.293358\n",
      "[31]\ttraining's binary_logloss: 0.278634\tvalid_0's binary_logloss: 0.291034\n",
      "[32]\ttraining's binary_logloss: 0.275589\tvalid_0's binary_logloss: 0.288405\n",
      "[33]\ttraining's binary_logloss: 0.27297\tvalid_0's binary_logloss: 0.286321\n",
      "[34]\ttraining's binary_logloss: 0.269738\tvalid_0's binary_logloss: 0.283541\n",
      "[35]\ttraining's binary_logloss: 0.266659\tvalid_0's binary_logloss: 0.280907\n",
      "[36]\ttraining's binary_logloss: 0.264336\tvalid_0's binary_logloss: 0.27953\n",
      "[37]\ttraining's binary_logloss: 0.262006\tvalid_0's binary_logloss: 0.27825\n",
      "[38]\ttraining's binary_logloss: 0.259821\tvalid_0's binary_logloss: 0.276137\n",
      "[39]\ttraining's binary_logloss: 0.257879\tvalid_0's binary_logloss: 0.274278\n",
      "[40]\ttraining's binary_logloss: 0.255516\tvalid_0's binary_logloss: 0.272578\n",
      "[41]\ttraining's binary_logloss: 0.253307\tvalid_0's binary_logloss: 0.27059\n",
      "[42]\ttraining's binary_logloss: 0.251756\tvalid_0's binary_logloss: 0.269144\n",
      "[43]\ttraining's binary_logloss: 0.24999\tvalid_0's binary_logloss: 0.267953\n",
      "[44]\ttraining's binary_logloss: 0.248407\tvalid_0's binary_logloss: 0.267043\n",
      "[45]\ttraining's binary_logloss: 0.245946\tvalid_0's binary_logloss: 0.264881\n",
      "[46]\ttraining's binary_logloss: 0.244802\tvalid_0's binary_logloss: 0.263561\n",
      "[47]\ttraining's binary_logloss: 0.243851\tvalid_0's binary_logloss: 0.262864\n",
      "[48]\ttraining's binary_logloss: 0.2424\tvalid_0's binary_logloss: 0.261567\n",
      "[49]\ttraining's binary_logloss: 0.240976\tvalid_0's binary_logloss: 0.260235\n",
      "[50]\ttraining's binary_logloss: 0.23992\tvalid_0's binary_logloss: 0.259371\n",
      "[51]\ttraining's binary_logloss: 0.239021\tvalid_0's binary_logloss: 0.258709\n",
      "[52]\ttraining's binary_logloss: 0.237332\tvalid_0's binary_logloss: 0.257123\n",
      "[53]\ttraining's binary_logloss: 0.235903\tvalid_0's binary_logloss: 0.255912\n",
      "[54]\ttraining's binary_logloss: 0.234391\tvalid_0's binary_logloss: 0.254716\n",
      "[55]\ttraining's binary_logloss: 0.232801\tvalid_0's binary_logloss: 0.2538\n",
      "[56]\ttraining's binary_logloss: 0.231915\tvalid_0's binary_logloss: 0.25303\n",
      "[57]\ttraining's binary_logloss: 0.230526\tvalid_0's binary_logloss: 0.251628\n",
      "[58]\ttraining's binary_logloss: 0.228675\tvalid_0's binary_logloss: 0.250143\n",
      "[59]\ttraining's binary_logloss: 0.227463\tvalid_0's binary_logloss: 0.249255\n",
      "[60]\ttraining's binary_logloss: 0.226709\tvalid_0's binary_logloss: 0.248472\n",
      "[61]\ttraining's binary_logloss: 0.225409\tvalid_0's binary_logloss: 0.247272\n",
      "[62]\ttraining's binary_logloss: 0.224643\tvalid_0's binary_logloss: 0.246307\n",
      "[63]\ttraining's binary_logloss: 0.223647\tvalid_0's binary_logloss: 0.245568\n",
      "[64]\ttraining's binary_logloss: 0.222115\tvalid_0's binary_logloss: 0.244147\n",
      "[65]\ttraining's binary_logloss: 0.220792\tvalid_0's binary_logloss: 0.24332\n",
      "[66]\ttraining's binary_logloss: 0.219849\tvalid_0's binary_logloss: 0.242687\n",
      "[67]\ttraining's binary_logloss: 0.218256\tvalid_0's binary_logloss: 0.2414\n",
      "[68]\ttraining's binary_logloss: 0.216762\tvalid_0's binary_logloss: 0.239965\n",
      "[69]\ttraining's binary_logloss: 0.215384\tvalid_0's binary_logloss: 0.23869\n",
      "[70]\ttraining's binary_logloss: 0.214406\tvalid_0's binary_logloss: 0.237841\n",
      "[71]\ttraining's binary_logloss: 0.213063\tvalid_0's binary_logloss: 0.236844\n",
      "[72]\ttraining's binary_logloss: 0.211711\tvalid_0's binary_logloss: 0.235772\n",
      "[73]\ttraining's binary_logloss: 0.210311\tvalid_0's binary_logloss: 0.234272\n",
      "[74]\ttraining's binary_logloss: 0.20941\tvalid_0's binary_logloss: 0.233611\n",
      "[75]\ttraining's binary_logloss: 0.208772\tvalid_0's binary_logloss: 0.233076\n",
      "[76]\ttraining's binary_logloss: 0.207522\tvalid_0's binary_logloss: 0.23168\n",
      "[77]\ttraining's binary_logloss: 0.205821\tvalid_0's binary_logloss: 0.229649\n",
      "[78]\ttraining's binary_logloss: 0.205283\tvalid_0's binary_logloss: 0.228966\n",
      "[79]\ttraining's binary_logloss: 0.204058\tvalid_0's binary_logloss: 0.228062\n",
      "[80]\ttraining's binary_logloss: 0.203312\tvalid_0's binary_logloss: 0.227237\n",
      "[81]\ttraining's binary_logloss: 0.202071\tvalid_0's binary_logloss: 0.226211\n",
      "[82]\ttraining's binary_logloss: 0.20098\tvalid_0's binary_logloss: 0.225091\n",
      "[83]\ttraining's binary_logloss: 0.199756\tvalid_0's binary_logloss: 0.224035\n",
      "[84]\ttraining's binary_logloss: 0.198586\tvalid_0's binary_logloss: 0.223167\n",
      "[85]\ttraining's binary_logloss: 0.197771\tvalid_0's binary_logloss: 0.222205\n",
      "[86]\ttraining's binary_logloss: 0.19587\tvalid_0's binary_logloss: 0.220674\n",
      "[87]\ttraining's binary_logloss: 0.194504\tvalid_0's binary_logloss: 0.219138\n",
      "[88]\ttraining's binary_logloss: 0.193373\tvalid_0's binary_logloss: 0.218067\n",
      "[89]\ttraining's binary_logloss: 0.192642\tvalid_0's binary_logloss: 0.217499\n",
      "[90]\ttraining's binary_logloss: 0.19154\tvalid_0's binary_logloss: 0.216711\n",
      "[91]\ttraining's binary_logloss: 0.190337\tvalid_0's binary_logloss: 0.215643\n",
      "[92]\ttraining's binary_logloss: 0.18941\tvalid_0's binary_logloss: 0.21477\n",
      "[93]\ttraining's binary_logloss: 0.188607\tvalid_0's binary_logloss: 0.213822\n",
      "[94]\ttraining's binary_logloss: 0.187514\tvalid_0's binary_logloss: 0.212981\n",
      "[95]\ttraining's binary_logloss: 0.186725\tvalid_0's binary_logloss: 0.212383\n",
      "[96]\ttraining's binary_logloss: 0.185582\tvalid_0's binary_logloss: 0.2112\n",
      "[97]\ttraining's binary_logloss: 0.184921\tvalid_0's binary_logloss: 0.210686\n",
      "[98]\ttraining's binary_logloss: 0.184107\tvalid_0's binary_logloss: 0.209844\n",
      "[99]\ttraining's binary_logloss: 0.183412\tvalid_0's binary_logloss: 0.209326\n",
      "[100]\ttraining's binary_logloss: 0.182983\tvalid_0's binary_logloss: 0.208799\n",
      "model run time: 0:00:00.876974\n",
      "LightLGBM Classifier Resampled Confusion Matrix\n",
      " [[68283  5909]\n",
      " [  228   415]]\n"
     ]
    },
    {
     "data": {
      "text/plain": [
       "['export_run5_TargetEncoding_resampling/export_lgbm_clf_resampled.joblib']"
      ]
     },
     "execution_count": 48,
     "metadata": {},
     "output_type": "execute_result"
    }
   ],
   "source": [
    "#lightgbm\n",
    "start = datetime.now()\n",
    "lgbm_model_resampled = lgb.LGBMClassifier().fit(X_train_resampled, y_train_resampled, eval_set=[(X_test, y_test),\n",
    "                                                                                      (X_train_resampled, y_train_resampled)])\n",
    "end = datetime.now()\n",
    "if outputs:\n",
    "    print(f'model run time: {end - start}')\n",
    "lgbm_predicted_resampled = lgbm_model_resampled.predict(X_test)\n",
    "confusion = confusion_matrix(y_test, lgbm_predicted_resampled)\n",
    "if outputs:\n",
    "    print('LightLGBM Classifier Resampled Confusion Matrix\\n', confusion)\n",
    "joblib.dump(rf_clf, f'{prefix}_lgbm_clf_resampled.joblib')"
   ]
  },
  {
   "cell_type": "markdown",
   "id": "2e74cc5a",
   "metadata": {
    "jp-MarkdownHeadingCollapsed": true,
    "pycharm": {
     "name": "#%% md\n"
    },
    "tags": []
   },
   "source": [
    "## SMOTE Data"
   ]
  },
  {
   "cell_type": "code",
   "execution_count": 49,
   "id": "29e03aad",
   "metadata": {
    "collapsed": false,
    "jupyter": {
     "outputs_hidden": false
    },
    "pycharm": {
     "name": "#%%\n"
    }
   },
   "outputs": [
    {
     "name": "stdout",
     "output_type": "stream",
     "text": [
      "model run time: 0:00:00.013472\n"
     ]
    },
    {
     "data": {
      "text/plain": [
       "['export_run5_TargetEncoding_resampling/export_dummy_majority_clf_smote.joblib']"
      ]
     },
     "execution_count": 49,
     "metadata": {},
     "output_type": "execute_result"
    }
   ],
   "source": [
    "# dummy classifier\n",
    "start = datetime.now()\n",
    "dummy_majority_smote = DummyClassifier(strategy = 'most_frequent').fit(X_train_SMOTE, y_train_SMOTE)\n",
    "end = datetime.now()\n",
    "if outputs:\n",
    "    print(f'model run time: {end - start}')\n",
    "\n",
    "# dummy_majority.score(X_test, y_test)\n",
    "dummy_predicted_smote = dummy_majority_smote.predict(X_test)\n",
    "joblib.dump(dummy_majority, f'{prefix}_dummy_majority_clf_smote.joblib')"
   ]
  },
  {
   "cell_type": "code",
   "execution_count": 50,
   "id": "253c77a4",
   "metadata": {
    "collapsed": false,
    "jupyter": {
     "outputs_hidden": false
    },
    "pycharm": {
     "name": "#%%\n"
    }
   },
   "outputs": [
    {
     "name": "stdout",
     "output_type": "stream",
     "text": [
      "model run time: 0:00:04.079395\n",
      "Logistic regression classifier SMOTE (default settings)\n",
      " [[  357   286]\n",
      " [ 7155 67037]]\n"
     ]
    },
    {
     "data": {
      "image/png": "[encoded data removed]",
      "text/plain": [
       "<Figure size 1800x1200 with 2 Axes>"
      ]
     },
     "metadata": {},
     "output_type": "display_data"
    }
   ],
   "source": [
    "# logistic regression\n",
    "start = datetime.now()\n",
    "lr_smote = LogisticRegression(random_state=rng, max_iter=1000).fit(X_train_SMOTE, y_train_SMOTE)\n",
    "end = datetime.now()\n",
    "if outputs:\n",
    "    print(f'model run time: {end - start}')\n",
    "lr_predicted_smote = lr_smote.predict(X_test)\n",
    "confusion = confusion_matrix(y_test, lr_predicted_smote, labels=[1, 0])\n",
    "if outputs:\n",
    "    print('Logistic regression classifier SMOTE (default settings)\\n', confusion)\n",
    "cm_display = ConfusionMatrixDisplay(confusion, display_labels=[1, 0])\n",
    "if outputs:\n",
    "    cm_display.plot()"
   ]
  },
  {
   "cell_type": "code",
   "execution_count": 51,
   "id": "04d6ef99",
   "metadata": {
    "collapsed": false,
    "jupyter": {
     "outputs_hidden": false
    },
    "pycharm": {
     "name": "#%%\n"
    }
   },
   "outputs": [
    {
     "name": "stdout",
     "output_type": "stream",
     "text": [
      "model run time: 0:00:04.056923\n",
      "Logistic regression classifier SMOTE (balanced)\n",
      " [[67037  7155]\n",
      " [  286   357]]\n"
     ]
    }
   ],
   "source": [
    "# balanced logistic regression\n",
    "start = datetime.now()\n",
    "lr_balanced_smote = LogisticRegression(random_state=rng, class_weight='balanced', max_iter=1000).fit(\n",
    "    X_train_SMOTE, y_train_SMOTE)\n",
    "end = datetime.now()\n",
    "if outputs:\n",
    "    print(f'model run time: {end - start}')\n",
    "lr_balanced_predicted_smote = lr_balanced_smote.predict(X_test)\n",
    "confusion = confusion_matrix(y_test, lr_balanced_predicted_smote)\n",
    "if outputs:\n",
    "    print('Logistic regression classifier SMOTE (balanced)\\n', confusion)"
   ]
  },
  {
   "cell_type": "code",
   "execution_count": 52,
   "id": "a83989c7",
   "metadata": {
    "collapsed": false,
    "jupyter": {
     "outputs_hidden": false
    },
    "pycharm": {
     "name": "#%%\n"
    }
   },
   "outputs": [
    {
     "data": {
      "text/plain": [
       "['export_run5_TargetEncoding_resampling/export_lr_balanced_clf_smote.joblib']"
      ]
     },
     "execution_count": 52,
     "metadata": {},
     "output_type": "execute_result"
    }
   ],
   "source": [
    "joblib.dump(lr_smote, f'{prefix}_lr_clf_smote.joblib')\n",
    "joblib.dump(lr_balanced_smote, f'{prefix}_lr_balanced_clf_smote.joblib')"
   ]
  },
  {
   "cell_type": "code",
   "execution_count": 53,
   "id": "2aa31b99",
   "metadata": {
    "collapsed": false,
    "jupyter": {
     "outputs_hidden": false
    },
    "pycharm": {
     "name": "#%%\n"
    }
   },
   "outputs": [
    {
     "name": "stdout",
     "output_type": "stream",
     "text": [
      "model run time: 0:00:02.253601\n",
      "Decision Tree classifier SMOTE\n",
      " [[73680   512]\n",
      " [  366   277]]\n"
     ]
    },
    {
     "data": {
      "image/png": "[encoded data removed]",
      "text/plain": [
       "<Figure size 800x320 with 1 Axes>"
      ]
     },
     "metadata": {},
     "output_type": "display_data"
    },
    {
     "name": "stdout",
     "output_type": "stream",
     "text": [
      "Feature importances: [0.04166059 0.1713789  0.04565472 0.05541097 0.01445036 0.07561073\n",
      " 0.05691768 0.04764924 0.44739133 0.04387547]\n"
     ]
    }
   ],
   "source": [
    "# decision tree\n",
    "start = datetime.now()\n",
    "decision_tree_clf_smote = DecisionTreeClassifier(random_state=rng).fit(X_train_SMOTE, y_train_SMOTE)\n",
    "end = datetime.now()\n",
    "if outputs:\n",
    "    print(f'model run time: {end - start}')\n",
    "tree_predicted_smote = decision_tree_clf_smote.predict(X_test)\n",
    "confusion = confusion_matrix(y_test, tree_predicted_smote)\n",
    "if outputs:\n",
    "    print('Decision Tree classifier SMOTE\\n', confusion)\n",
    "plt.figure(figsize=(10, 4), dpi=80)\n",
    "plot_feature_importances(decision_tree_clf_smote, feature_cols)\n",
    "if outputs:\n",
    "    plt.show()\n",
    "    print('Feature importances: {}'.format(decision_tree_clf_smote.feature_importances_[::-1]))"
   ]
  },
  {
   "cell_type": "code",
   "execution_count": 54,
   "id": "88ab7e5b",
   "metadata": {
    "collapsed": false,
    "jupyter": {
     "outputs_hidden": false
    },
    "pycharm": {
     "name": "#%%\n"
    }
   },
   "outputs": [
    {
     "data": {
      "text/plain": [
       "['export_run5_TargetEncoding_resampling/export_decision_tree_clf_smote.joblib']"
      ]
     },
     "execution_count": 54,
     "metadata": {},
     "output_type": "execute_result"
    }
   ],
   "source": [
    "joblib.dump(decision_tree_clf_smote, f'{prefix}_decision_tree_clf_smote.joblib')"
   ]
  },
  {
   "cell_type": "code",
   "execution_count": 55,
   "id": "9b2a2df8",
   "metadata": {
    "collapsed": false,
    "jupyter": {
     "outputs_hidden": false
    },
    "pycharm": {
     "name": "#%%\n"
    }
   },
   "outputs": [
    {
     "name": "stdout",
     "output_type": "stream",
     "text": [
      "model run time: 0:00:47.391396\n",
      "Logistic regression classifier (balanced)\n",
      " [[74015   177]\n",
      " [  354   289]]\n"
     ]
    },
    {
     "data": {
      "image/png": "[encoded data removed]",
      "text/plain": [
       "<Figure size 800x320 with 1 Axes>"
      ]
     },
     "metadata": {},
     "output_type": "display_data"
    },
    {
     "name": "stdout",
     "output_type": "stream",
     "text": [
      "Feature importances: [0.04851433 0.16144691 0.08651249 0.06269804 0.01796376 0.10750109\n",
      " 0.10268448 0.06924305 0.29757459 0.04586125]\n"
     ]
    }
   ],
   "source": [
    "# random forest\n",
    "start = datetime.now()\n",
    "rf_clf_smote = RandomForestClassifier(random_state=rng).fit(X_train_SMOTE, y_train_SMOTE)\n",
    "end = datetime.now()\n",
    "if outputs:\n",
    "    print(f'model run time: {end - start}')\n",
    "rf_predicted_smote = rf_clf_smote.predict(X_test)\n",
    "confusion = confusion_matrix(y_test, rf_predicted_smote)\n",
    "if outputs:\n",
    "    print('Logistic regression classifier (balanced)\\n', confusion)\n",
    "plt.figure(figsize=(10, 4), dpi=80)\n",
    "plot_feature_importances(rf_clf_smote, feature_cols)\n",
    "if outputs:\n",
    "    plt.show()\n",
    "    print('Feature importances: {}'.format(rf_clf_smote.feature_importances_[::-1]))"
   ]
  },
  {
   "cell_type": "code",
   "execution_count": 56,
   "id": "5e11d4dc",
   "metadata": {
    "collapsed": false,
    "jupyter": {
     "outputs_hidden": false
    },
    "pycharm": {
     "name": "#%%\n"
    }
   },
   "outputs": [
    {
     "data": {
      "text/plain": [
       "['export_run5_TargetEncoding_resampling/export_rf_clf_smote.joblib']"
      ]
     },
     "execution_count": 56,
     "metadata": {},
     "output_type": "execute_result"
    }
   ],
   "source": [
    "joblib.dump(rf_clf, f'{prefix}_rf_clf_smote.joblib')"
   ]
  },
  {
   "cell_type": "code",
   "execution_count": 57,
   "id": "1081fa1a",
   "metadata": {
    "collapsed": false,
    "jupyter": {
     "outputs_hidden": false
    },
    "pycharm": {
     "name": "#%%\n"
    }
   },
   "outputs": [
    {
     "name": "stderr",
     "output_type": "stream",
     "text": [
      "C:\\Users\\joshh\\anaconda3\\lib\\site-packages\\xgboost\\sklearn.py:1224: UserWarning: The use of label encoder in XGBClassifier is deprecated and will be removed in a future release. To remove this warning, do the following: 1) Pass option use_label_encoder=False when constructing XGBClassifier object; and 2) Encode your labels (y) as integers starting with 0, i.e. 0, 1, 2, ..., [num_class - 1].\n",
      "  warnings.warn(label_encoder_deprecation_msg, UserWarning)\n"
     ]
    },
    {
     "name": "stdout",
     "output_type": "stream",
     "text": [
      "[22:43:29] WARNING: C:\\Windows\\Temp\\abs_557yfx631l\\croots\\recipe\\xgboost-split_1659548953302\\work\\src\\learner.cc:1115: Starting in XGBoost 1.3.0, the default evaluation metric used with the objective 'binary:logistic' was changed from 'error' to 'logloss'. Explicitly set eval_metric if you'd like to restore the old behavior.\n",
      "model run time: 0:00:08.332176\n",
      "XGB Classifier SMOTE Confusion Matrix\n",
      " [[73626   566]\n",
      " [  342   301]]\n"
     ]
    },
    {
     "data": {
      "text/plain": [
       "['export_run5_TargetEncoding_resampling/export_xgb_clf_resampled.joblib']"
      ]
     },
     "execution_count": 57,
     "metadata": {},
     "output_type": "execute_result"
    }
   ],
   "source": [
    "# xgboost\n",
    "start = datetime.now()\n",
    "xgb_params = {\"seed\": rng}\n",
    "xgb_clf_smote = xgb.XGBClassifier(random_state=rng).fit(X_train_SMOTE, y_train_SMOTE)\n",
    "end = datetime.now()\n",
    "if outputs:\n",
    "    print(f'model run time: {end - start}')\n",
    "xgb_predicted_smote = xgb_clf_smote.predict(X_test)\n",
    "confusion = confusion_matrix(y_test, xgb_predicted_smote)\n",
    "if outputs:\n",
    "    print('XGB Classifier SMOTE Confusion Matrix\\n', confusion)\n",
    "joblib.dump(rf_clf_smote, f'{prefix}_xgb_clf_resampled.joblib')"
   ]
  },
  {
   "cell_type": "code",
   "execution_count": 58,
   "id": "ffc3472a",
   "metadata": {
    "collapsed": false,
    "jupyter": {
     "outputs_hidden": false
    },
    "pycharm": {
     "name": "#%%\n"
    }
   },
   "outputs": [
    {
     "name": "stdout",
     "output_type": "stream",
     "text": [
      "model run time: 0:00:18.186968\n",
      "FIGS Classifier SMOTE Confusion Matrix\n",
      " [[64467  9725]\n",
      " [  284   359]]\n"
     ]
    },
    {
     "data": {
      "text/plain": [
       "['export_run5_TargetEncoding_resampling/export_figs_clf_smote.joblib']"
      ]
     },
     "execution_count": 58,
     "metadata": {},
     "output_type": "execute_result"
    }
   ],
   "source": [
    "# figs\n",
    "start = datetime.now()\n",
    "figs_clf_smote = FIGSClassifier(random_state=rng).fit(X_train_SMOTE, y_train_SMOTE)\n",
    "end = datetime.now()\n",
    "if outputs:\n",
    "    print(f'model run time: {end - start}')\n",
    "figs_predicted_smote = figs_clf_smote.predict(X_test)\n",
    "confusion = confusion_matrix(y_test, figs_predicted_smote)\n",
    "if outputs:\n",
    "    print('FIGS Classifier SMOTE Confusion Matrix\\n', confusion)\n",
    "joblib.dump(rf_clf, f'{prefix}_figs_clf_smote.joblib')"
   ]
  },
  {
   "cell_type": "code",
   "execution_count": 59,
   "id": "d43969ca",
   "metadata": {
    "collapsed": false,
    "jupyter": {
     "outputs_hidden": false
    },
    "pycharm": {
     "name": "#%%\n"
    }
   },
   "outputs": [
    {
     "name": "stdout",
     "output_type": "stream",
     "text": [
      "[1]\ttraining's binary_logloss: 0.632419\tvalid_0's binary_logloss: 0.633205\n",
      "[2]\ttraining's binary_logloss: 0.583411\tvalid_0's binary_logloss: 0.585307\n",
      "[3]\ttraining's binary_logloss: 0.541586\tvalid_0's binary_logloss: 0.544074\n",
      "[4]\ttraining's binary_logloss: 0.505381\tvalid_0's binary_logloss: 0.508587\n",
      "[5]\ttraining's binary_logloss: 0.474014\tvalid_0's binary_logloss: 0.47793\n",
      "[6]\ttraining's binary_logloss: 0.44598\tvalid_0's binary_logloss: 0.45084\n",
      "[7]\ttraining's binary_logloss: 0.420805\tvalid_0's binary_logloss: 0.426724\n",
      "[8]\ttraining's binary_logloss: 0.398979\tvalid_0's binary_logloss: 0.405872\n",
      "[9]\ttraining's binary_logloss: 0.379669\tvalid_0's binary_logloss: 0.386986\n",
      "[10]\ttraining's binary_logloss: 0.36188\tvalid_0's binary_logloss: 0.369729\n",
      "[11]\ttraining's binary_logloss: 0.346036\tvalid_0's binary_logloss: 0.35472\n",
      "[12]\ttraining's binary_logloss: 0.331462\tvalid_0's binary_logloss: 0.340525\n",
      "[13]\ttraining's binary_logloss: 0.318182\tvalid_0's binary_logloss: 0.327432\n",
      "[14]\ttraining's binary_logloss: 0.305676\tvalid_0's binary_logloss: 0.315449\n",
      "[15]\ttraining's binary_logloss: 0.293419\tvalid_0's binary_logloss: 0.30359\n",
      "[16]\ttraining's binary_logloss: 0.28265\tvalid_0's binary_logloss: 0.292858\n",
      "[17]\ttraining's binary_logloss: 0.271799\tvalid_0's binary_logloss: 0.28186\n",
      "[18]\ttraining's binary_logloss: 0.261342\tvalid_0's binary_logloss: 0.270889\n",
      "[19]\ttraining's binary_logloss: 0.251864\tvalid_0's binary_logloss: 0.261229\n",
      "[20]\ttraining's binary_logloss: 0.243621\tvalid_0's binary_logloss: 0.252788\n",
      "[21]\ttraining's binary_logloss: 0.236224\tvalid_0's binary_logloss: 0.245417\n",
      "[22]\ttraining's binary_logloss: 0.229124\tvalid_0's binary_logloss: 0.238737\n",
      "[23]\ttraining's binary_logloss: 0.220797\tvalid_0's binary_logloss: 0.230212\n",
      "[24]\ttraining's binary_logloss: 0.213941\tvalid_0's binary_logloss: 0.223784\n",
      "[25]\ttraining's binary_logloss: 0.206465\tvalid_0's binary_logloss: 0.216641\n",
      "[26]\ttraining's binary_logloss: 0.200345\tvalid_0's binary_logloss: 0.21056\n",
      "[27]\ttraining's binary_logloss: 0.194195\tvalid_0's binary_logloss: 0.204827\n",
      "[28]\ttraining's binary_logloss: 0.188425\tvalid_0's binary_logloss: 0.199406\n",
      "[29]\ttraining's binary_logloss: 0.183648\tvalid_0's binary_logloss: 0.194889\n",
      "[30]\ttraining's binary_logloss: 0.178388\tvalid_0's binary_logloss: 0.189975\n",
      "[31]\ttraining's binary_logloss: 0.173982\tvalid_0's binary_logloss: 0.185884\n",
      "[32]\ttraining's binary_logloss: 0.170141\tvalid_0's binary_logloss: 0.18249\n",
      "[33]\ttraining's binary_logloss: 0.166011\tvalid_0's binary_logloss: 0.17863\n",
      "[34]\ttraining's binary_logloss: 0.162521\tvalid_0's binary_logloss: 0.175071\n",
      "[35]\ttraining's binary_logloss: 0.158954\tvalid_0's binary_logloss: 0.171776\n",
      "[36]\ttraining's binary_logloss: 0.156109\tvalid_0's binary_logloss: 0.169187\n",
      "[37]\ttraining's binary_logloss: 0.153163\tvalid_0's binary_logloss: 0.166295\n",
      "[38]\ttraining's binary_logloss: 0.150327\tvalid_0's binary_logloss: 0.163652\n",
      "[39]\ttraining's binary_logloss: 0.1471\tvalid_0's binary_logloss: 0.160537\n",
      "[40]\ttraining's binary_logloss: 0.144303\tvalid_0's binary_logloss: 0.157886\n",
      "[41]\ttraining's binary_logloss: 0.141824\tvalid_0's binary_logloss: 0.155619\n",
      "[42]\ttraining's binary_logloss: 0.139526\tvalid_0's binary_logloss: 0.153451\n",
      "[43]\ttraining's binary_logloss: 0.13716\tvalid_0's binary_logloss: 0.151091\n",
      "[44]\ttraining's binary_logloss: 0.135197\tvalid_0's binary_logloss: 0.149169\n",
      "[45]\ttraining's binary_logloss: 0.133013\tvalid_0's binary_logloss: 0.147357\n",
      "[46]\ttraining's binary_logloss: 0.13122\tvalid_0's binary_logloss: 0.145604\n",
      "[47]\ttraining's binary_logloss: 0.129469\tvalid_0's binary_logloss: 0.143904\n",
      "[48]\ttraining's binary_logloss: 0.12742\tvalid_0's binary_logloss: 0.141999\n",
      "[49]\ttraining's binary_logloss: 0.1257\tvalid_0's binary_logloss: 0.140522\n",
      "[50]\ttraining's binary_logloss: 0.124025\tvalid_0's binary_logloss: 0.138704\n",
      "[51]\ttraining's binary_logloss: 0.122585\tvalid_0's binary_logloss: 0.137102\n",
      "[52]\ttraining's binary_logloss: 0.120794\tvalid_0's binary_logloss: 0.135581\n",
      "[53]\ttraining's binary_logloss: 0.118344\tvalid_0's binary_logloss: 0.13359\n",
      "[54]\ttraining's binary_logloss: 0.116748\tvalid_0's binary_logloss: 0.131861\n",
      "[55]\ttraining's binary_logloss: 0.115207\tvalid_0's binary_logloss: 0.130199\n",
      "[56]\ttraining's binary_logloss: 0.113941\tvalid_0's binary_logloss: 0.128973\n",
      "[57]\ttraining's binary_logloss: 0.111895\tvalid_0's binary_logloss: 0.12722\n",
      "[58]\ttraining's binary_logloss: 0.110379\tvalid_0's binary_logloss: 0.125664\n",
      "[59]\ttraining's binary_logloss: 0.10898\tvalid_0's binary_logloss: 0.124346\n",
      "[60]\ttraining's binary_logloss: 0.107631\tvalid_0's binary_logloss: 0.123143\n",
      "[61]\ttraining's binary_logloss: 0.106063\tvalid_0's binary_logloss: 0.121785\n",
      "[62]\ttraining's binary_logloss: 0.105034\tvalid_0's binary_logloss: 0.120655\n",
      "[63]\ttraining's binary_logloss: 0.103529\tvalid_0's binary_logloss: 0.119451\n",
      "[64]\ttraining's binary_logloss: 0.1024\tvalid_0's binary_logloss: 0.118261\n",
      "[65]\ttraining's binary_logloss: 0.101033\tvalid_0's binary_logloss: 0.116967\n",
      "[66]\ttraining's binary_logloss: 0.0997963\tvalid_0's binary_logloss: 0.115953\n",
      "[67]\ttraining's binary_logloss: 0.0987813\tvalid_0's binary_logloss: 0.114847\n",
      "[68]\ttraining's binary_logloss: 0.0973745\tvalid_0's binary_logloss: 0.11347\n",
      "[69]\ttraining's binary_logloss: 0.0962716\tvalid_0's binary_logloss: 0.112493\n",
      "[70]\ttraining's binary_logloss: 0.0953934\tvalid_0's binary_logloss: 0.111577\n",
      "[71]\ttraining's binary_logloss: 0.0942166\tvalid_0's binary_logloss: 0.110447\n",
      "[72]\ttraining's binary_logloss: 0.0934361\tvalid_0's binary_logloss: 0.109874\n",
      "[73]\ttraining's binary_logloss: 0.0926928\tvalid_0's binary_logloss: 0.109039\n",
      "[74]\ttraining's binary_logloss: 0.0914254\tvalid_0's binary_logloss: 0.107842\n",
      "[75]\ttraining's binary_logloss: 0.0906512\tvalid_0's binary_logloss: 0.107189\n",
      "[76]\ttraining's binary_logloss: 0.0897287\tvalid_0's binary_logloss: 0.106458\n",
      "[77]\ttraining's binary_logloss: 0.0883866\tvalid_0's binary_logloss: 0.105106\n",
      "[78]\ttraining's binary_logloss: 0.0876309\tvalid_0's binary_logloss: 0.10437\n",
      "[79]\ttraining's binary_logloss: 0.0866084\tvalid_0's binary_logloss: 0.103463\n",
      "[80]\ttraining's binary_logloss: 0.085625\tvalid_0's binary_logloss: 0.10268\n",
      "[81]\ttraining's binary_logloss: 0.085008\tvalid_0's binary_logloss: 0.102058\n",
      "[82]\ttraining's binary_logloss: 0.0839225\tvalid_0's binary_logloss: 0.101084\n",
      "[83]\ttraining's binary_logloss: 0.0830524\tvalid_0's binary_logloss: 0.100308\n",
      "[84]\ttraining's binary_logloss: 0.0822961\tvalid_0's binary_logloss: 0.0994679\n",
      "[85]\ttraining's binary_logloss: 0.0814868\tvalid_0's binary_logloss: 0.0984972\n",
      "[86]\ttraining's binary_logloss: 0.0807668\tvalid_0's binary_logloss: 0.09793\n",
      "[87]\ttraining's binary_logloss: 0.0800045\tvalid_0's binary_logloss: 0.0971015\n",
      "[88]\ttraining's binary_logloss: 0.0792968\tvalid_0's binary_logloss: 0.0965033\n",
      "[89]\ttraining's binary_logloss: 0.0786106\tvalid_0's binary_logloss: 0.0958131\n",
      "[90]\ttraining's binary_logloss: 0.0779656\tvalid_0's binary_logloss: 0.0953628\n",
      "[91]\ttraining's binary_logloss: 0.0773113\tvalid_0's binary_logloss: 0.0946766\n",
      "[92]\ttraining's binary_logloss: 0.0763737\tvalid_0's binary_logloss: 0.0938234\n",
      "[93]\ttraining's binary_logloss: 0.0757381\tvalid_0's binary_logloss: 0.0932859\n",
      "[94]\ttraining's binary_logloss: 0.0752336\tvalid_0's binary_logloss: 0.0928022\n",
      "[95]\ttraining's binary_logloss: 0.0746721\tvalid_0's binary_logloss: 0.0922284\n",
      "[96]\ttraining's binary_logloss: 0.0741646\tvalid_0's binary_logloss: 0.0916667\n",
      "[97]\ttraining's binary_logloss: 0.0734615\tvalid_0's binary_logloss: 0.0909199\n",
      "[98]\ttraining's binary_logloss: 0.072665\tvalid_0's binary_logloss: 0.0902252\n",
      "[99]\ttraining's binary_logloss: 0.0718146\tvalid_0's binary_logloss: 0.0893282\n",
      "[100]\ttraining's binary_logloss: 0.0712232\tvalid_0's binary_logloss: 0.0887899\n",
      "model run time: 0:00:00.867555\n",
      "LightLGBM Classifier SMOTE Confusion Matrix\n",
      " [[72848  1344]\n",
      " [  312   331]]\n"
     ]
    },
    {
     "data": {
      "text/plain": [
       "['export_run5_TargetEncoding_resampling/export_lgbm_clf_smote.joblib']"
      ]
     },
     "execution_count": 59,
     "metadata": {},
     "output_type": "execute_result"
    }
   ],
   "source": [
    "#lightgbm\n",
    "start = datetime.now()\n",
    "lgbm_model_smote = lgb.LGBMClassifier().fit(X_train_SMOTE, y_train_SMOTE, eval_set=[(X_test, y_test),\n",
    "                                                                                    (X_train_SMOTE, y_train_SMOTE)])\n",
    "end = datetime.now()\n",
    "if outputs:\n",
    "    print(f'model run time: {end - start}')\n",
    "lgbm_predicted_smote = lgbm_model_smote.predict(X_test)\n",
    "confusion = confusion_matrix(y_test, lgbm_predicted_smote)\n",
    "if outputs:\n",
    "    print('LightLGBM Classifier SMOTE Confusion Matrix\\n', confusion)\n",
    "joblib.dump(rf_clf, f'{prefix}_lgbm_clf_smote.joblib')"
   ]
  },
  {
   "cell_type": "markdown",
   "id": "8c1925b0",
   "metadata": {
    "pycharm": {
     "name": "#%% md\n"
    }
   },
   "source": [
    "## Overall Data Comparison"
   ]
  },
  {
   "cell_type": "code",
   "execution_count": 60,
   "id": "14141374",
   "metadata": {
    "collapsed": false,
    "jupyter": {
     "outputs_hidden": false
    },
    "pycharm": {
     "name": "#%%\n"
    }
   },
   "outputs": [
    {
     "name": "stdout",
     "output_type": "stream",
     "text": [
      "Most frequent class standard(dummy classifier) \n",
      "               precision    recall  f1-score   support\n",
      "\n",
      "       clear       0.99      1.00      1.00     74192\n",
      "      seized       0.00      0.00      0.00       643\n",
      "\n",
      "    accuracy                           0.99     74835\n",
      "   macro avg       0.50      0.50      0.50     74835\n",
      "weighted avg       0.98      0.99      0.99     74835\n",
      "\n"
     ]
    },
    {
     "name": "stderr",
     "output_type": "stream",
     "text": [
      "C:\\Users\\joshh\\anaconda3\\lib\\site-packages\\sklearn\\metrics\\_classification.py:1334: UndefinedMetricWarning: Precision and F-score are ill-defined and being set to 0.0 in labels with no predicted samples. Use `zero_division` parameter to control this behavior.\n",
      "  _warn_prf(average, modifier, msg_start, len(result))\n",
      "C:\\Users\\joshh\\anaconda3\\lib\\site-packages\\sklearn\\metrics\\_classification.py:1334: UndefinedMetricWarning: Precision and F-score are ill-defined and being set to 0.0 in labels with no predicted samples. Use `zero_division` parameter to control this behavior.\n",
      "  _warn_prf(average, modifier, msg_start, len(result))\n",
      "C:\\Users\\joshh\\anaconda3\\lib\\site-packages\\sklearn\\metrics\\_classification.py:1334: UndefinedMetricWarning: Precision and F-score are ill-defined and being set to 0.0 in labels with no predicted samples. Use `zero_division` parameter to control this behavior.\n",
      "  _warn_prf(average, modifier, msg_start, len(result))\n",
      "C:\\Users\\joshh\\anaconda3\\lib\\site-packages\\sklearn\\metrics\\_classification.py:1334: UndefinedMetricWarning: Precision and F-score are ill-defined and being set to 0.0 in labels with no predicted samples. Use `zero_division` parameter to control this behavior.\n",
      "  _warn_prf(average, modifier, msg_start, len(result))\n",
      "C:\\Users\\joshh\\anaconda3\\lib\\site-packages\\sklearn\\metrics\\_classification.py:1334: UndefinedMetricWarning: Precision and F-score are ill-defined and being set to 0.0 in labels with no predicted samples. Use `zero_division` parameter to control this behavior.\n",
      "  _warn_prf(average, modifier, msg_start, len(result))\n",
      "C:\\Users\\joshh\\anaconda3\\lib\\site-packages\\sklearn\\metrics\\_classification.py:1334: UndefinedMetricWarning: Precision and F-score are ill-defined and being set to 0.0 in labels with no predicted samples. Use `zero_division` parameter to control this behavior.\n",
      "  _warn_prf(average, modifier, msg_start, len(result))\n",
      "C:\\Users\\joshh\\anaconda3\\lib\\site-packages\\sklearn\\metrics\\_classification.py:1334: UndefinedMetricWarning: Precision and F-score are ill-defined and being set to 0.0 in labels with no predicted samples. Use `zero_division` parameter to control this behavior.\n",
      "  _warn_prf(average, modifier, msg_start, len(result))\n",
      "C:\\Users\\joshh\\anaconda3\\lib\\site-packages\\sklearn\\metrics\\_classification.py:1334: UndefinedMetricWarning: Precision and F-score are ill-defined and being set to 0.0 in labels with no predicted samples. Use `zero_division` parameter to control this behavior.\n",
      "  _warn_prf(average, modifier, msg_start, len(result))\n",
      "C:\\Users\\joshh\\anaconda3\\lib\\site-packages\\sklearn\\metrics\\_classification.py:1334: UndefinedMetricWarning: Precision and F-score are ill-defined and being set to 0.0 in labels with no predicted samples. Use `zero_division` parameter to control this behavior.\n",
      "  _warn_prf(average, modifier, msg_start, len(result))\n"
     ]
    },
    {
     "name": "stdout",
     "output_type": "stream",
     "text": [
      "Most frequent class resampled (dummy classifier) \n",
      "               precision    recall  f1-score   support\n",
      "\n",
      "       clear       0.99      1.00      1.00     74192\n",
      "      seized       0.00      0.00      0.00       643\n",
      "\n",
      "    accuracy                           0.99     74835\n",
      "   macro avg       0.50      0.50      0.50     74835\n",
      "weighted avg       0.98      0.99      0.99     74835\n",
      "\n",
      "Most frequent class SMOTE (dummy classifier) \n",
      "               precision    recall  f1-score   support\n",
      "\n",
      "       clear       0.99      1.00      1.00     74192\n",
      "      seized       0.00      0.00      0.00       643\n",
      "\n",
      "    accuracy                           0.99     74835\n",
      "   macro avg       0.50      0.50      0.50     74835\n",
      "weighted avg       0.98      0.99      0.99     74835\n",
      "\n",
      "Logistic Regression standard \n",
      "               precision    recall  f1-score   support\n",
      "\n",
      "       clear       0.99      1.00      1.00     74192\n",
      "      seized       0.71      0.12      0.20       643\n",
      "\n",
      "    accuracy                           0.99     74835\n",
      "   macro avg       0.85      0.56      0.60     74835\n",
      "weighted avg       0.99      0.99      0.99     74835\n",
      "\n",
      "Logistic Regression resampled \n",
      "               precision    recall  f1-score   support\n",
      "\n",
      "       clear       1.00      0.91      0.95     74192\n",
      "      seized       0.05      0.55      0.09       643\n",
      "\n",
      "    accuracy                           0.90     74835\n",
      "   macro avg       0.52      0.73      0.52     74835\n",
      "weighted avg       0.99      0.90      0.94     74835\n",
      "\n",
      "Logistic Regression SMOTE \n",
      "               precision    recall  f1-score   support\n",
      "\n",
      "       clear       1.00      0.90      0.95     74192\n",
      "      seized       0.05      0.56      0.09       643\n",
      "\n",
      "    accuracy                           0.90     74835\n",
      "   macro avg       0.52      0.73      0.52     74835\n",
      "weighted avg       0.99      0.90      0.94     74835\n",
      "\n",
      "Logistic Regression (balanced) \n",
      "               precision    recall  f1-score   support\n",
      "\n",
      "       clear       1.00      0.91      0.95     74192\n",
      "      seized       0.05      0.54      0.09       643\n",
      "\n",
      "    accuracy                           0.91     74835\n",
      "   macro avg       0.52      0.73      0.52     74835\n",
      "weighted avg       0.99      0.91      0.94     74835\n",
      "\n",
      "Logistic Regression resampled (balanced) \n",
      "               precision    recall  f1-score   support\n",
      "\n",
      "       clear       1.00      0.91      0.95     74192\n",
      "      seized       0.05      0.54      0.09       643\n",
      "\n",
      "    accuracy                           0.91     74835\n",
      "   macro avg       0.52      0.73      0.52     74835\n",
      "weighted avg       0.99      0.91      0.94     74835\n",
      "\n",
      "Logistic Regression SMOTE (balanced) \n",
      "               precision    recall  f1-score   support\n",
      "\n",
      "       clear       1.00      0.90      0.95     74192\n",
      "      seized       0.05      0.56      0.09       643\n",
      "\n",
      "    accuracy                           0.90     74835\n",
      "   macro avg       0.52      0.73      0.52     74835\n",
      "weighted avg       0.99      0.90      0.94     74835\n",
      "\n",
      "Decision Tree \n",
      "               precision    recall  f1-score   support\n",
      "\n",
      "       clear       1.00      1.00      1.00     74192\n",
      "      seized       0.46      0.45      0.45       643\n",
      "\n",
      "    accuracy                           0.99     74835\n",
      "   macro avg       0.73      0.72      0.72     74835\n",
      "weighted avg       0.99      0.99      0.99     74835\n",
      "\n",
      "Decision Tree resampled \n",
      "               precision    recall  f1-score   support\n",
      "\n",
      "       clear       0.99      1.00      1.00     74192\n",
      "      seized       0.45      0.40      0.42       643\n",
      "\n",
      "    accuracy                           0.99     74835\n",
      "   macro avg       0.72      0.70      0.71     74835\n",
      "weighted avg       0.99      0.99      0.99     74835\n",
      "\n",
      "Decision Tree SMOTE \n",
      "               precision    recall  f1-score   support\n",
      "\n",
      "       clear       1.00      0.99      0.99     74192\n",
      "      seized       0.35      0.43      0.39       643\n",
      "\n",
      "    accuracy                           0.99     74835\n",
      "   macro avg       0.67      0.71      0.69     74835\n",
      "weighted avg       0.99      0.99      0.99     74835\n",
      "\n",
      "Random Forest \n",
      "               precision    recall  f1-score   support\n",
      "\n",
      "       clear       0.99      1.00      1.00     74192\n",
      "      seized       0.75      0.42      0.54       643\n",
      "\n",
      "    accuracy                           0.99     74835\n",
      "   macro avg       0.87      0.71      0.77     74835\n",
      "weighted avg       0.99      0.99      0.99     74835\n",
      "\n",
      "Random Forest resampled \n",
      "               precision    recall  f1-score   support\n",
      "\n",
      "       clear       1.00      1.00      1.00     74192\n",
      "      seized       0.64      0.42      0.51       643\n",
      "\n",
      "    accuracy                           0.99     74835\n",
      "   macro avg       0.82      0.71      0.75     74835\n",
      "weighted avg       0.99      0.99      0.99     74835\n",
      "\n",
      "Random Forest SMOTE \n",
      "               precision    recall  f1-score   support\n",
      "\n",
      "       clear       1.00      1.00      1.00     74192\n",
      "      seized       0.62      0.45      0.52       643\n",
      "\n",
      "    accuracy                           0.99     74835\n",
      "   macro avg       0.81      0.72      0.76     74835\n",
      "weighted avg       0.99      0.99      0.99     74835\n",
      "\n",
      "XGBoost Classifier \n",
      "               precision    recall  f1-score   support\n",
      "\n",
      "       clear       0.99      1.00      1.00     74192\n",
      "      seized       0.85      0.35      0.49       643\n",
      "\n",
      "    accuracy                           0.99     74835\n",
      "   macro avg       0.92      0.67      0.75     74835\n",
      "weighted avg       0.99      0.99      0.99     74835\n",
      "\n",
      "XGBoost Classifier resampled \n",
      "               precision    recall  f1-score   support\n",
      "\n",
      "       clear       1.00      0.96      0.98     74192\n",
      "      seized       0.12      0.58      0.19       643\n",
      "\n",
      "    accuracy                           0.96     74835\n",
      "   macro avg       0.56      0.77      0.59     74835\n",
      "weighted avg       0.99      0.96      0.97     74835\n",
      "\n",
      "XGBoost Classifier SMOTE \n",
      "               precision    recall  f1-score   support\n",
      "\n",
      "       clear       1.00      0.96      0.98     74192\n",
      "      seized       0.12      0.58      0.19       643\n",
      "\n",
      "    accuracy                           0.96     74835\n",
      "   macro avg       0.56      0.77      0.59     74835\n",
      "weighted avg       0.99      0.96      0.97     74835\n",
      "\n",
      "FIGS Classifier \n",
      "               precision    recall  f1-score   support\n",
      "\n",
      "       clear       0.99      1.00      1.00     74192\n",
      "      seized       0.83      0.27      0.41       643\n",
      "\n",
      "    accuracy                           0.99     74835\n",
      "   macro avg       0.91      0.64      0.70     74835\n",
      "weighted avg       0.99      0.99      0.99     74835\n",
      "\n",
      "FIGS Classifier resampled\n",
      "               precision    recall  f1-score   support\n",
      "\n",
      "       clear       1.00      0.82      0.90     74192\n",
      "      seized       0.03      0.63      0.06       643\n",
      "\n",
      "    accuracy                           0.82     74835\n",
      "   macro avg       0.51      0.73      0.48     74835\n",
      "weighted avg       0.99      0.82      0.89     74835\n",
      "\n",
      "FIGS Classifier SMOTE\n",
      "               precision    recall  f1-score   support\n",
      "\n",
      "       clear       1.00      0.87      0.93     74192\n",
      "      seized       0.04      0.56      0.07       643\n",
      "\n",
      "    accuracy                           0.87     74835\n",
      "   macro avg       0.52      0.71      0.50     74835\n",
      "weighted avg       0.99      0.87      0.92     74835\n",
      "\n",
      "LGBM Classifier \n",
      "               precision    recall  f1-score   support\n",
      "\n",
      "       clear       0.99      1.00      1.00     74192\n",
      "      seized       0.64      0.31      0.42       643\n",
      "\n",
      "    accuracy                           0.99     74835\n",
      "   macro avg       0.82      0.65      0.71     74835\n",
      "weighted avg       0.99      0.99      0.99     74835\n",
      "\n",
      "LGBM Classifier resampled \n",
      "               precision    recall  f1-score   support\n",
      "\n",
      "       clear       1.00      0.92      0.96     74192\n",
      "      seized       0.07      0.65      0.12       643\n",
      "\n",
      "    accuracy                           0.92     74835\n",
      "   macro avg       0.53      0.78      0.54     74835\n",
      "weighted avg       0.99      0.92      0.95     74835\n",
      "\n",
      "LGBM Classifier SMOTE \n",
      "               precision    recall  f1-score   support\n",
      "\n",
      "       clear       1.00      0.98      0.99     74192\n",
      "      seized       0.20      0.51      0.29       643\n",
      "\n",
      "    accuracy                           0.98     74835\n",
      "   macro avg       0.60      0.75      0.64     74835\n",
      "weighted avg       0.99      0.98      0.98     74835\n",
      "\n"
     ]
    }
   ],
   "source": [
    "if outputs:\n",
    "    # dummy\n",
    "    print('Most frequent class standard(dummy classifier) \\n',\n",
    "          classification_report(y_test, dummy_predicted, target_names=['clear', 'seized']))\n",
    "    print('Most frequent class resampled (dummy classifier) \\n',\n",
    "          classification_report(y_test, dummy_predicted_resampled, target_names=['clear', 'seized']))\n",
    "    print('Most frequent class SMOTE (dummy classifier) \\n',\n",
    "          classification_report(y_test, dummy_predicted_smote, target_names=['clear', 'seized']))\\\n",
    "    # logistic regression\n",
    "    print('Logistic Regression standard \\n',\n",
    "          classification_report(y_test, lr_predicted, target_names=['clear', 'seized']))\n",
    "    print('Logistic Regression resampled \\n',\n",
    "          classification_report(y_test, lr_predicted_resampled, target_names=['clear', 'seized']))\n",
    "    print('Logistic Regression SMOTE \\n',\n",
    "          classification_report(y_test, lr_predicted_smote, target_names=['clear', 'seized']))\n",
    "    # logistic regression balanced\n",
    "    print('Logistic Regression (balanced) \\n',\n",
    "          classification_report(y_test, lr_balanced_predicted, target_names=['clear', 'seized']))\n",
    "    print('Logistic Regression resampled (balanced) \\n',\n",
    "          classification_report(y_test, lr_balanced_predicted_resampled, target_names=['clear', 'seized']))\n",
    "    print('Logistic Regression SMOTE (balanced) \\n',\n",
    "          classification_report(y_test, lr_balanced_predicted_smote, target_names=['clear', 'seized']))\n",
    "    # decision tree\n",
    "    print('Decision Tree \\n',\n",
    "          classification_report(y_test, tree_predicted, target_names=['clear', 'seized']))\n",
    "    print('Decision Tree resampled \\n',\n",
    "          classification_report(y_test, tree_predicted_resampled, target_names=['clear', 'seized']))\n",
    "    print('Decision Tree SMOTE \\n',\n",
    "          classification_report(y_test, tree_predicted_smote, target_names=['clear', 'seized']))\n",
    "    # random forest\n",
    "    print('Random Forest \\n',\n",
    "          classification_report(y_test, rf_predicted, target_names=['clear', 'seized']))\n",
    "    print('Random Forest resampled \\n',\n",
    "          classification_report(y_test, rf_predicted_resampled, target_names=['clear', 'seized']))\n",
    "    print('Random Forest SMOTE \\n',\n",
    "          classification_report(y_test, rf_predicted_smote, target_names=['clear', 'seized']))\n",
    "    # XGBoost\n",
    "    print('XGBoost Classifier \\n',\n",
    "          classification_report(y_test, xgb_predicted, target_names=['clear', 'seized']))\n",
    "    print('XGBoost Classifier resampled \\n',\n",
    "          classification_report(y_test, xgb_predicted_resampled, target_names=['clear', 'seized']))\n",
    "    print('XGBoost Classifier SMOTE \\n',\n",
    "          classification_report(y_test, xgb_predicted_resampled, target_names=['clear', 'seized']))\n",
    "    # FIGS\n",
    "    print('FIGS Classifier \\n',\n",
    "          classification_report(y_test, figs_predicted, target_names=['clear', 'seized']))\n",
    "    print('FIGS Classifier resampled\\n',\n",
    "          classification_report(y_test, figs_predicted_resampled, target_names=['clear', 'seized']))\n",
    "    print('FIGS Classifier SMOTE\\n',\n",
    "          classification_report(y_test, figs_predicted_smote, target_names=['clear', 'seized']))\n",
    "    # LGBM\n",
    "    print(\"LGBM Classifier \\n\",\n",
    "          classification_report(y_test, lgbm_predicted, target_names=['clear', 'seized']))\n",
    "    print(\"LGBM Classifier resampled \\n\",\n",
    "          classification_report(y_test, lgbm_predicted_resampled, target_names=['clear', 'seized']))\n",
    "    print(\"LGBM Classifier SMOTE \\n\",\n",
    "          classification_report(y_test, lgbm_predicted_smote, target_names=['clear', 'seized']))"
   ]
  }
 ],
 "metadata": {
  "kernelspec": {
   "display_name": "Python 3 (ipykernel)",
   "language": "python",
   "name": "python3"
  },
  "language_info": {
   "codemirror_mode": {
    "name": "ipython",
    "version": 3
   },
   "file_extension": ".py",
   "mimetype": "text/x-python",
   "name": "python",
   "nbconvert_exporter": "python",
   "pygments_lexer": "ipython3",
   "version": "3.10.4"
  }
 },
 "nbformat": 4,
 "nbformat_minor": 5
}