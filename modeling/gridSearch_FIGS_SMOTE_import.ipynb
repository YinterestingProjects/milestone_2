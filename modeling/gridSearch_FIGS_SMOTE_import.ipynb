{
 "cells": [
  {
   "cell_type": "markdown",
   "source": [
    "# Implementing gridsearchcv for XGBoost"
   ],
   "metadata": {
    "collapsed": false
   }
  },
  {
   "cell_type": "code",
   "execution_count": 7,
   "outputs": [
    {
     "name": "stderr",
     "output_type": "stream",
     "text": [
      "C:\\Users\\joshh\\anaconda3\\lib\\site-packages\\ipykernel\\ipkernel.py:287: DeprecationWarning: `should_run_async` will not call `transform_cell` automatically in the future. Please pass the result to `transformed_cell` argument and any exception that happen during thetransform in `preprocessing_exc_tuple` in IPython 7.17 and above.\n",
      "  and should_run_async(code)\n"
     ]
    }
   ],
   "source": [
    "import pandas as pd\n",
    "import numpy as np\n",
    "import modelinghelper as helper\n",
    "from imodels import FIGSClassifier\n",
    "import os\n",
    "import joblib\n",
    "# supress future warnings\n",
    "import warnings\n",
    "warnings.filterwarnings(action='ignore', category=FutureWarning)"
   ],
   "metadata": {
    "collapsed": false
   }
  },
  {
   "cell_type": "code",
   "execution_count": 9,
   "outputs": [
    {
     "name": "stdout",
     "output_type": "stream",
     "text": [
      "Folder already exists\n"
     ]
    },
    {
     "name": "stderr",
     "output_type": "stream",
     "text": [
      "C:\\Users\\joshh\\anaconda3\\lib\\site-packages\\ipykernel\\ipkernel.py:287: DeprecationWarning: `should_run_async` will not call `transform_cell` automatically in the future. Please pass the result to `transformed_cell` argument and any exception that happen during thetransform in `preprocessing_exc_tuple` in IPython 7.17 and above.\n",
      "  and should_run_async(code)\n"
     ]
    }
   ],
   "source": [
    "#set up random seed\n",
    "rng = 42\n",
    "\n",
    "# set up folder to save results\n",
    "output_path = 'gridsearch_all_models'\n",
    "dataset = 'import'\n",
    "mod_name = \"FIGS\"\n",
    "run_num = \"run_1\"\n",
    "\n",
    "if not os.path.exists(output_path):\n",
    "    os.makedirs(output_path)\n",
    "else:\n",
    "    print(\"Folder already exists\")\n",
    "\n",
    "# file name\n",
    "prefix = f'{output_path}'"
   ],
   "metadata": {
    "collapsed": false
   }
  },
  {
   "cell_type": "code",
   "execution_count": 3,
   "outputs": [
    {
     "name": "stderr",
     "output_type": "stream",
     "text": [
      "C:\\Users\\joshh\\anaconda3\\lib\\site-packages\\ipykernel\\ipkernel.py:287: DeprecationWarning: `should_run_async` will not call `transform_cell` automatically in the future. Please pass the result to `transformed_cell` argument and any exception that happen during thetransform in `preprocessing_exc_tuple` in IPython 7.17 and above.\n",
      "  and should_run_async(code)\n"
     ]
    }
   ],
   "source": [
    "# read in data\n",
    "p = '../data/'\n",
    "input_name = 'cleaned.csv'\n",
    "\n",
    "df = pd.read_csv(f'{p}{input_name}')\n",
    "# convert month to string\n",
    "df['ship_date_mm'] = df['ship_date_mm'].astype(str)"
   ],
   "metadata": {
    "collapsed": false
   }
  },
  {
   "cell_type": "code",
   "execution_count": 4,
   "outputs": [
    {
     "name": "stderr",
     "output_type": "stream",
     "text": [
      "C:\\Users\\joshh\\anaconda3\\lib\\site-packages\\ipykernel\\ipkernel.py:287: DeprecationWarning: `should_run_async` will not call `transform_cell` automatically in the future. Please pass the result to `transformed_cell` argument and any exception that happen during thetransform in `preprocessing_exc_tuple` in IPython 7.17 and above.\n",
      "  and should_run_async(code)\n"
     ]
    }
   ],
   "source": [
    "non_feature_cols = ['control_number', 'disp_date', 'i_e', 'ship_date',\n",
    "                    'cartons', 'qty', 'unit', 'specific_generic_name',\n",
    "                    'genus', 'species', 'wildlf_cat',\n",
    "                    'disp_date_yyyy', 'disp_date_mm', 'disp_ship_date']\n",
    "\n",
    "target = ['act', 'dp_cd']\n",
    "\n",
    "feature_cols = ['species_code', 'wildlf_desc', 'wildlf_cat',\n",
    "                'ctry_org', 'ctry_ie','purp', 'src', 'trans_mode', 'pt_cd',\n",
    "                'value', 'ship_date_mm']\n",
    "\n",
    "export_df = helper.df_filtering(df, i_e = 'I', f_cols = feature_cols)"
   ],
   "metadata": {
    "collapsed": false
   }
  },
  {
   "cell_type": "code",
   "execution_count": 5,
   "outputs": [
    {
     "name": "stderr",
     "output_type": "stream",
     "text": [
      "C:\\Users\\joshh\\anaconda3\\lib\\site-packages\\ipykernel\\ipkernel.py:287: DeprecationWarning: `should_run_async` will not call `transform_cell` automatically in the future. Please pass the result to `transformed_cell` argument and any exception that happen during thetransform in `preprocessing_exc_tuple` in IPython 7.17 and above.\n",
      "  and should_run_async(code)\n"
     ]
    }
   ],
   "source": [
    "X_train, X_test, y_train, y_test = helper.data_split(export_df)"
   ],
   "metadata": {
    "collapsed": false
   }
  },
  {
   "cell_type": "markdown",
   "source": [
    "### FIGS"
   ],
   "metadata": {
    "collapsed": false
   }
  },
  {
   "cell_type": "code",
   "execution_count": 6,
   "outputs": [
    {
     "name": "stderr",
     "output_type": "stream",
     "text": [
      "C:\\Users\\joshh\\anaconda3\\lib\\site-packages\\ipykernel\\ipkernel.py:287: DeprecationWarning: `should_run_async` will not call `transform_cell` automatically in the future. Please pass the result to `transformed_cell` argument and any exception that happen during thetransform in `preprocessing_exc_tuple` in IPython 7.17 and above.\n",
      "  and should_run_async(code)\n"
     ]
    },
    {
     "name": "stdout",
     "output_type": "stream",
     "text": [
      "Fitting 5 folds for each of 49 candidates, totalling 245 fits\n",
      "[CV 1/5] END ..................clf__max_rules=1;, score=0.814 total time=  18.8s\n",
      "[CV 2/5] END ..................clf__max_rules=1;, score=0.689 total time=  18.5s\n",
      "[CV 3/5] END ..................clf__max_rules=1;, score=0.691 total time=  18.5s\n",
      "[CV 4/5] END ..................clf__max_rules=1;, score=0.793 total time=  18.6s\n",
      "[CV 5/5] END ..................clf__max_rules=1;, score=0.668 total time=  18.4s\n",
      "[CV 1/5] END ..................clf__max_rules=2;, score=0.814 total time=  22.6s\n",
      "[CV 2/5] END ..................clf__max_rules=2;, score=0.689 total time=  22.4s\n",
      "[CV 3/5] END ..................clf__max_rules=2;, score=0.691 total time=  22.4s\n",
      "[CV 4/5] END ..................clf__max_rules=2;, score=0.793 total time=  22.5s\n",
      "[CV 5/5] END ..................clf__max_rules=2;, score=0.668 total time=  22.6s\n",
      "[CV 1/5] END ..................clf__max_rules=3;, score=0.664 total time=  26.6s\n",
      "[CV 2/5] END ..................clf__max_rules=3;, score=0.744 total time=  29.1s\n",
      "[CV 3/5] END ..................clf__max_rules=3;, score=0.739 total time=  28.9s\n",
      "[CV 4/5] END ..................clf__max_rules=3;, score=0.733 total time=  29.3s\n",
      "[CV 5/5] END ..................clf__max_rules=3;, score=0.715 total time=  29.2s\n",
      "[CV 1/5] END ..................clf__max_rules=4;, score=0.760 total time=  33.2s\n",
      "[CV 2/5] END ..................clf__max_rules=4;, score=0.816 total time=  35.6s\n",
      "[CV 3/5] END ..................clf__max_rules=4;, score=0.807 total time=  35.5s\n",
      "[CV 4/5] END ..................clf__max_rules=4;, score=0.733 total time=  35.6s\n",
      "[CV 5/5] END ..................clf__max_rules=4;, score=0.781 total time=  35.4s\n",
      "[CV 1/5] END ..................clf__max_rules=5;, score=0.760 total time=  40.1s\n",
      "[CV 2/5] END ..................clf__max_rules=5;, score=0.782 total time=  41.9s\n",
      "[CV 3/5] END ..................clf__max_rules=5;, score=0.769 total time=  42.0s\n",
      "[CV 4/5] END ..................clf__max_rules=5;, score=0.753 total time=  42.3s\n",
      "[CV 5/5] END ..................clf__max_rules=5;, score=0.752 total time=  41.8s\n",
      "[CV 1/5] END ..................clf__max_rules=6;, score=0.731 total time=  46.7s\n",
      "[CV 2/5] END ..................clf__max_rules=6;, score=0.742 total time=  49.0s\n",
      "[CV 3/5] END ..................clf__max_rules=6;, score=0.751 total time=  48.8s\n",
      "[CV 4/5] END ..................clf__max_rules=6;, score=0.718 total time=  48.8s\n",
      "[CV 5/5] END ..................clf__max_rules=6;, score=0.707 total time=  48.7s\n",
      "[CV 1/5] END ..................clf__max_rules=7;, score=0.726 total time=  56.1s\n",
      "[CV 2/5] END ..................clf__max_rules=7;, score=0.692 total time=  56.5s\n",
      "[CV 3/5] END ..................clf__max_rules=7;, score=0.751 total time=  56.3s\n",
      "[CV 4/5] END ..................clf__max_rules=7;, score=0.716 total time=  58.6s\n",
      "[CV 5/5] END ..................clf__max_rules=7;, score=0.698 total time=  55.8s\n",
      "[CV 1/5] END ..................clf__max_rules=8;, score=0.737 total time= 1.1min\n",
      "[CV 2/5] END ..................clf__max_rules=8;, score=0.692 total time= 1.1min\n",
      "[CV 3/5] END ..................clf__max_rules=8;, score=0.741 total time= 1.0min\n",
      "[CV 4/5] END ..................clf__max_rules=8;, score=0.725 total time= 1.1min\n",
      "[CV 5/5] END ..................clf__max_rules=8;, score=0.707 total time= 1.0min\n",
      "[CV 1/5] END ..................clf__max_rules=9;, score=0.729 total time= 1.3min\n",
      "[CV 2/5] END ..................clf__max_rules=9;, score=0.730 total time= 1.2min\n",
      "[CV 3/5] END ..................clf__max_rules=9;, score=0.730 total time= 1.2min\n",
      "[CV 4/5] END ..................clf__max_rules=9;, score=0.716 total time= 1.3min\n",
      "[CV 5/5] END ..................clf__max_rules=9;, score=0.734 total time= 1.2min\n",
      "[CV 1/5] END .................clf__max_rules=10;, score=0.724 total time= 1.6min\n",
      "[CV 2/5] END .................clf__max_rules=10;, score=0.717 total time= 1.3min\n",
      "[CV 3/5] END .................clf__max_rules=10;, score=0.701 total time= 1.3min\n",
      "[CV 4/5] END .................clf__max_rules=10;, score=0.716 total time= 1.4min\n",
      "[CV 5/5] END .................clf__max_rules=10;, score=0.726 total time= 1.3min\n",
      "[CV 1/5] END .................clf__max_rules=11;, score=0.724 total time= 1.6min\n",
      "[CV 2/5] END .................clf__max_rules=11;, score=0.709 total time= 1.4min\n",
      "[CV 3/5] END .................clf__max_rules=11;, score=0.692 total time= 1.4min\n",
      "[CV 4/5] END .................clf__max_rules=11;, score=0.713 total time= 1.6min\n",
      "[CV 5/5] END .................clf__max_rules=11;, score=0.718 total time= 1.4min\n",
      "[CV 1/5] END .................clf__max_rules=12;, score=0.725 total time= 1.7min\n",
      "[CV 2/5] END .................clf__max_rules=12;, score=0.698 total time= 1.6min\n",
      "[CV 3/5] END .................clf__max_rules=12;, score=0.692 total time= 1.6min\n",
      "[CV 4/5] END .................clf__max_rules=12;, score=0.716 total time= 1.8min\n",
      "[CV 5/5] END .................clf__max_rules=12;, score=0.682 total time= 1.5min\n",
      "[CV 1/5] END .................clf__max_rules=13;, score=0.748 total time= 1.9min\n",
      "[CV 2/5] END .................clf__max_rules=13;, score=0.702 total time= 1.7min\n",
      "[CV 3/5] END .................clf__max_rules=13;, score=0.704 total time= 1.7min\n",
      "[CV 4/5] END .................clf__max_rules=13;, score=0.707 total time= 1.9min\n",
      "[CV 5/5] END .................clf__max_rules=13;, score=0.700 total time= 1.7min\n",
      "[CV 1/5] END .................clf__max_rules=14;, score=0.743 total time= 2.1min\n",
      "[CV 2/5] END .................clf__max_rules=14;, score=0.700 total time= 1.8min\n",
      "[CV 3/5] END .................clf__max_rules=14;, score=0.698 total time= 1.8min\n",
      "[CV 4/5] END .................clf__max_rules=14;, score=0.707 total time= 2.1min\n",
      "[CV 5/5] END .................clf__max_rules=14;, score=0.700 total time= 1.8min\n",
      "[CV 1/5] END .................clf__max_rules=15;, score=0.743 total time= 2.2min\n",
      "[CV 2/5] END .................clf__max_rules=15;, score=0.694 total time= 2.0min\n",
      "[CV 3/5] END .................clf__max_rules=15;, score=0.703 total time= 2.0min\n",
      "[CV 4/5] END .................clf__max_rules=15;, score=0.708 total time= 2.3min\n",
      "[CV 5/5] END .................clf__max_rules=15;, score=0.703 total time= 1.9min\n",
      "[CV 1/5] END .................clf__max_rules=16;, score=0.741 total time= 2.4min\n",
      "[CV 2/5] END .................clf__max_rules=16;, score=0.693 total time= 2.1min\n",
      "[CV 3/5] END .................clf__max_rules=16;, score=0.712 total time= 2.1min\n",
      "[CV 4/5] END .................clf__max_rules=16;, score=0.704 total time= 2.5min\n",
      "[CV 5/5] END .................clf__max_rules=16;, score=0.702 total time= 2.1min\n",
      "[CV 1/5] END .................clf__max_rules=17;, score=0.739 total time= 2.6min\n",
      "[CV 2/5] END .................clf__max_rules=17;, score=0.697 total time= 2.3min\n",
      "[CV 3/5] END .................clf__max_rules=17;, score=0.697 total time= 2.2min\n",
      "[CV 4/5] END .................clf__max_rules=17;, score=0.704 total time= 2.6min\n",
      "[CV 5/5] END .................clf__max_rules=17;, score=0.702 total time= 2.3min\n",
      "[CV 1/5] END .................clf__max_rules=18;, score=0.740 total time= 2.8min\n",
      "[CV 2/5] END .................clf__max_rules=18;, score=0.697 total time= 2.4min\n",
      "[CV 3/5] END .................clf__max_rules=18;, score=0.697 total time= 2.4min\n",
      "[CV 4/5] END .................clf__max_rules=18;, score=0.704 total time= 2.8min\n",
      "[CV 5/5] END .................clf__max_rules=18;, score=0.720 total time= 2.4min\n",
      "[CV 1/5] END .................clf__max_rules=19;, score=0.719 total time= 2.9min\n",
      "[CV 2/5] END .................clf__max_rules=19;, score=0.693 total time= 2.5min\n",
      "[CV 3/5] END .................clf__max_rules=19;, score=0.696 total time= 2.5min\n",
      "[CV 4/5] END .................clf__max_rules=19;, score=0.703 total time= 3.0min\n",
      "[CV 5/5] END .................clf__max_rules=19;, score=0.717 total time= 2.5min\n",
      "[CV 1/5] END .................clf__max_rules=20;, score=0.710 total time= 3.3min\n",
      "[CV 2/5] END .................clf__max_rules=20;, score=0.689 total time= 2.7min\n",
      "[CV 3/5] END .................clf__max_rules=20;, score=0.706 total time= 2.7min\n",
      "[CV 4/5] END .................clf__max_rules=20;, score=0.706 total time= 3.2min\n",
      "[CV 5/5] END .................clf__max_rules=20;, score=0.699 total time= 2.9min\n",
      "[CV 1/5] END .................clf__max_rules=21;, score=0.725 total time= 3.5min\n",
      "[CV 2/5] END .................clf__max_rules=21;, score=0.689 total time= 2.8min\n",
      "[CV 3/5] END .................clf__max_rules=21;, score=0.717 total time= 2.9min\n",
      "[CV 4/5] END .................clf__max_rules=21;, score=0.707 total time= 3.4min\n",
      "[CV 5/5] END .................clf__max_rules=21;, score=0.710 total time= 2.8min\n",
      "[CV 1/5] END .................clf__max_rules=22;, score=0.721 total time= 3.7min\n",
      "[CV 2/5] END .................clf__max_rules=22;, score=0.686 total time= 3.0min\n",
      "[CV 3/5] END .................clf__max_rules=22;, score=0.709 total time= 3.1min\n",
      "[CV 4/5] END .................clf__max_rules=22;, score=0.727 total time= 3.7min\n",
      "[CV 5/5] END .................clf__max_rules=22;, score=0.708 total time= 2.9min\n",
      "[CV 1/5] END .................clf__max_rules=23;, score=0.742 total time= 3.8min\n",
      "[CV 2/5] END .................clf__max_rules=23;, score=0.690 total time= 3.1min\n",
      "[CV 3/5] END .................clf__max_rules=23;, score=0.707 total time= 3.3min\n",
      "[CV 4/5] END .................clf__max_rules=23;, score=0.718 total time= 4.4min\n",
      "[CV 5/5] END .................clf__max_rules=23;, score=0.708 total time= 3.1min\n",
      "[CV 1/5] END .................clf__max_rules=24;, score=0.720 total time= 3.8min\n",
      "[CV 2/5] END .................clf__max_rules=24;, score=0.690 total time= 3.2min\n",
      "[CV 3/5] END .................clf__max_rules=24;, score=0.710 total time= 3.4min\n",
      "[CV 4/5] END .................clf__max_rules=24;, score=0.723 total time= 4.1min\n",
      "[CV 5/5] END .................clf__max_rules=24;, score=0.710 total time= 3.4min\n",
      "[CV 1/5] END .................clf__max_rules=25;, score=0.725 total time= 4.4min\n",
      "[CV 2/5] END .................clf__max_rules=25;, score=0.702 total time= 3.4min\n",
      "[CV 3/5] END .................clf__max_rules=25;, score=0.708 total time= 3.6min\n",
      "[CV 4/5] END .................clf__max_rules=25;, score=0.739 total time= 4.3min\n",
      "[CV 5/5] END .................clf__max_rules=25;, score=0.687 total time= 3.8min\n",
      "[CV 1/5] END .................clf__max_rules=26;, score=0.731 total time= 4.8min\n",
      "[CV 2/5] END .................clf__max_rules=26;, score=0.702 total time= 3.5min\n",
      "[CV 3/5] END .................clf__max_rules=26;, score=0.704 total time= 3.9min\n",
      "[CV 4/5] END .................clf__max_rules=26;, score=0.730 total time= 4.6min\n",
      "[CV 5/5] END .................clf__max_rules=26;, score=0.697 total time= 3.5min\n",
      "[CV 1/5] END .................clf__max_rules=27;, score=0.747 total time= 5.1min\n",
      "[CV 2/5] END .................clf__max_rules=27;, score=0.688 total time= 4.0min\n",
      "[CV 3/5] END .................clf__max_rules=27;, score=0.709 total time= 4.0min\n",
      "[CV 4/5] END .................clf__max_rules=27;, score=0.746 total time= 4.8min\n",
      "[CV 5/5] END .................clf__max_rules=27;, score=0.701 total time= 3.7min\n",
      "[CV 1/5] END .................clf__max_rules=28;, score=0.743 total time= 5.4min\n",
      "[CV 2/5] END .................clf__max_rules=28;, score=0.714 total time= 3.9min\n",
      "[CV 3/5] END .................clf__max_rules=28;, score=0.706 total time= 4.2min\n",
      "[CV 4/5] END .................clf__max_rules=28;, score=0.735 total time= 5.0min\n",
      "[CV 5/5] END .................clf__max_rules=28;, score=0.706 total time= 4.4min\n",
      "[CV 1/5] END .................clf__max_rules=29;, score=0.741 total time= 5.2min\n",
      "[CV 2/5] END .................clf__max_rules=29;, score=0.715 total time= 4.0min\n",
      "[CV 3/5] END .................clf__max_rules=29;, score=0.709 total time= 4.5min\n",
      "[CV 4/5] END .................clf__max_rules=29;, score=0.737 total time= 5.2min\n",
      "[CV 5/5] END .................clf__max_rules=29;, score=0.704 total time= 4.4min\n",
      "[CV 1/5] END .................clf__max_rules=30;, score=0.744 total time= 5.9min\n",
      "[CV 2/5] END .................clf__max_rules=30;, score=0.690 total time= 4.4min\n",
      "[CV 3/5] END .................clf__max_rules=30;, score=0.703 total time= 4.6min\n",
      "[CV 4/5] END .................clf__max_rules=30;, score=0.751 total time= 5.5min\n",
      "[CV 5/5] END .................clf__max_rules=30;, score=0.703 total time= 4.7min\n",
      "[CV 1/5] END .................clf__max_rules=31;, score=0.739 total time= 6.2min\n",
      "[CV 2/5] END .................clf__max_rules=31;, score=0.708 total time= 4.9min\n",
      "[CV 3/5] END .................clf__max_rules=31;, score=0.705 total time= 4.8min\n",
      "[CV 4/5] END .................clf__max_rules=31;, score=0.733 total time= 5.7min\n",
      "[CV 5/5] END .................clf__max_rules=31;, score=0.694 total time= 4.7min\n",
      "[CV 1/5] END .................clf__max_rules=32;, score=0.732 total time= 6.0min\n",
      "[CV 2/5] END .................clf__max_rules=32;, score=0.697 total time= 5.1min\n",
      "[CV 3/5] END .................clf__max_rules=32;, score=0.697 total time= 5.0min\n",
      "[CV 4/5] END .................clf__max_rules=32;, score=0.733 total time= 6.0min\n",
      "[CV 5/5] END .................clf__max_rules=32;, score=0.698 total time= 4.6min\n",
      "[CV 1/5] END .................clf__max_rules=33;, score=0.733 total time= 6.2min\n",
      "[CV 2/5] END .................clf__max_rules=33;, score=0.706 total time= 5.1min\n",
      "[CV 3/5] END .................clf__max_rules=33;, score=0.712 total time= 5.3min\n",
      "[CV 4/5] END .................clf__max_rules=33;, score=0.747 total time= 6.2min\n",
      "[CV 5/5] END .................clf__max_rules=33;, score=0.697 total time= 4.8min\n",
      "[CV 1/5] END .................clf__max_rules=34;, score=0.731 total time= 6.5min\n",
      "[CV 2/5] END .................clf__max_rules=34;, score=0.706 total time= 5.3min\n",
      "[CV 3/5] END .................clf__max_rules=34;, score=0.702 total time= 5.4min\n",
      "[CV 4/5] END .................clf__max_rules=34;, score=0.729 total time= 6.5min\n",
      "[CV 5/5] END .................clf__max_rules=34;, score=0.680 total time= 5.1min\n",
      "[CV 1/5] END .................clf__max_rules=35;, score=0.728 total time= 6.7min\n",
      "[CV 2/5] END .................clf__max_rules=35;, score=0.704 total time= 5.5min\n",
      "[CV 3/5] END .................clf__max_rules=35;, score=0.718 total time= 5.7min\n",
      "[CV 4/5] END .................clf__max_rules=35;, score=0.728 total time= 6.8min\n",
      "[CV 5/5] END .................clf__max_rules=35;, score=0.686 total time= 5.3min\n",
      "[CV 1/5] END .................clf__max_rules=36;, score=0.732 total time= 7.1min\n",
      "[CV 2/5] END .................clf__max_rules=36;, score=0.708 total time= 5.9min\n",
      "[CV 3/5] END .................clf__max_rules=36;, score=0.692 total time= 6.0min\n",
      "[CV 4/5] END .................clf__max_rules=36;, score=0.726 total time= 7.0min\n",
      "[CV 5/5] END .................clf__max_rules=36;, score=0.680 total time= 5.6min\n",
      "[CV 1/5] END .................clf__max_rules=37;, score=0.733 total time= 7.3min\n",
      "[CV 2/5] END .................clf__max_rules=37;, score=0.705 total time= 6.2min\n",
      "[CV 3/5] END .................clf__max_rules=37;, score=0.696 total time= 6.2min\n",
      "[CV 4/5] END .................clf__max_rules=37;, score=0.720 total time= 7.3min\n",
      "[CV 5/5] END .................clf__max_rules=37;, score=0.697 total time= 6.8min\n",
      "[CV 1/5] END .................clf__max_rules=38;, score=0.730 total time= 7.9min\n",
      "[CV 2/5] END .................clf__max_rules=38;, score=0.705 total time= 6.3min\n",
      "[CV 3/5] END .................clf__max_rules=38;, score=0.700 total time= 7.0min\n",
      "[CV 4/5] END .................clf__max_rules=38;, score=0.732 total time= 7.5min\n",
      "[CV 5/5] END .................clf__max_rules=38;, score=0.678 total time= 6.5min\n",
      "[CV 1/5] END .................clf__max_rules=39;, score=0.725 total time= 8.7min\n",
      "[CV 2/5] END .................clf__max_rules=39;, score=0.700 total time= 6.5min\n",
      "[CV 3/5] END .................clf__max_rules=39;, score=0.687 total time= 6.7min\n",
      "[CV 4/5] END .................clf__max_rules=39;, score=0.715 total time= 7.8min\n",
      "[CV 5/5] END .................clf__max_rules=39;, score=0.683 total time= 6.3min\n",
      "[CV 1/5] END .................clf__max_rules=40;, score=0.724 total time= 8.0min\n",
      "[CV 2/5] END .................clf__max_rules=40;, score=0.702 total time= 6.1min\n",
      "[CV 3/5] END .................clf__max_rules=40;, score=0.713 total time= 6.8min\n",
      "[CV 4/5] END .................clf__max_rules=40;, score=0.723 total time= 8.0min\n",
      "[CV 5/5] END .................clf__max_rules=40;, score=0.689 total time= 7.7min\n",
      "[CV 1/5] END .................clf__max_rules=41;, score=0.727 total time= 9.1min\n",
      "[CV 2/5] END .................clf__max_rules=41;, score=0.701 total time= 7.0min\n",
      "[CV 3/5] END .................clf__max_rules=41;, score=0.685 total time= 7.2min\n",
      "[CV 4/5] END .................clf__max_rules=41;, score=0.730 total time= 8.3min\n",
      "[CV 5/5] END .................clf__max_rules=41;, score=0.684 total time= 6.9min\n",
      "[CV 1/5] END .................clf__max_rules=42;, score=0.730 total time= 8.6min\n",
      "[CV 2/5] END .................clf__max_rules=42;, score=0.697 total time= 7.3min\n",
      "[CV 3/5] END .................clf__max_rules=42;, score=0.687 total time= 7.5min\n",
      "[CV 4/5] END .................clf__max_rules=42;, score=0.723 total time= 8.7min\n",
      "[CV 5/5] END .................clf__max_rules=42;, score=0.681 total time= 7.1min\n",
      "[CV 1/5] END .................clf__max_rules=43;, score=0.732 total time= 9.4min\n",
      "[CV 2/5] END .................clf__max_rules=43;, score=0.697 total time= 7.5min\n",
      "[CV 3/5] END .................clf__max_rules=43;, score=0.692 total time= 7.7min\n",
      "[CV 4/5] END .................clf__max_rules=43;, score=0.720 total time= 9.0min\n",
      "[CV 5/5] END .................clf__max_rules=43;, score=0.678 total time= 7.1min\n",
      "[CV 1/5] END .................clf__max_rules=44;, score=0.725 total time= 9.4min\n",
      "[CV 2/5] END .................clf__max_rules=44;, score=0.694 total time= 7.7min\n",
      "[CV 3/5] END .................clf__max_rules=44;, score=0.683 total time= 7.9min\n",
      "[CV 4/5] END .................clf__max_rules=44;, score=0.706 total time= 9.6min\n",
      "[CV 5/5] END .................clf__max_rules=44;, score=0.686 total time= 9.1min\n",
      "[CV 1/5] END .................clf__max_rules=45;, score=0.726 total time= 9.6min\n",
      "[CV 2/5] END .................clf__max_rules=45;, score=0.689 total time= 7.4min\n",
      "[CV 3/5] END .................clf__max_rules=45;, score=0.699 total time= 9.1min\n",
      "[CV 4/5] END .................clf__max_rules=45;, score=0.721 total time= 9.4min\n",
      "[CV 5/5] END .................clf__max_rules=45;, score=0.687 total time= 7.9min\n",
      "[CV 1/5] END .................clf__max_rules=46;, score=0.729 total time=10.3min\n",
      "[CV 2/5] END .................clf__max_rules=46;, score=0.692 total time= 7.7min\n",
      "[CV 3/5] END .................clf__max_rules=46;, score=0.687 total time= 8.4min\n",
      "[CV 4/5] END .................clf__max_rules=46;, score=0.702 total time=10.2min\n",
      "[CV 5/5] END .................clf__max_rules=46;, score=0.676 total time= 8.4min\n",
      "[CV 1/5] END .................clf__max_rules=47;, score=0.731 total time=11.8min\n",
      "[CV 2/5] END .................clf__max_rules=47;, score=0.697 total time= 8.4min\n",
      "[CV 3/5] END .................clf__max_rules=47;, score=0.683 total time= 8.7min\n",
      "[CV 4/5] END .................clf__max_rules=47;, score=0.714 total time=10.2min\n",
      "[CV 5/5] END .................clf__max_rules=47;, score=0.696 total time= 8.1min\n",
      "[CV 1/5] END .................clf__max_rules=48;, score=0.724 total time=11.3min\n",
      "[CV 2/5] END .................clf__max_rules=48;, score=0.700 total time= 8.7min\n",
      "[CV 3/5] END .................clf__max_rules=48;, score=0.685 total time= 9.0min\n",
      "[CV 4/5] END .................clf__max_rules=48;, score=0.730 total time=10.2min\n",
      "[CV 5/5] END .................clf__max_rules=48;, score=0.682 total time= 8.9min\n",
      "[CV 1/5] END .................clf__max_rules=49;, score=0.727 total time=11.5min\n",
      "[CV 2/5] END .................clf__max_rules=49;, score=0.690 total time= 8.7min\n",
      "[CV 3/5] END .................clf__max_rules=49;, score=0.687 total time= 9.3min\n",
      "[CV 4/5] END .................clf__max_rules=49;, score=0.712 total time=10.9min\n",
      "[CV 5/5] END .................clf__max_rules=49;, score=0.682 total time= 9.1min\n",
      "Grid best parameter (max. recall):  {'clf__max_rules': 4}\n",
      "Grid best score (recall):  0.7794868034594911\n"
     ]
    }
   ],
   "source": [
    "clf_figs = FIGSClassifier(random_state=rng)\n",
    "\n",
    "figs_params = {\n",
    "    'clf__max_rules' : np.arange(1,50),\n",
    "    #early stopping?\n",
    "}\n",
    "figs_pipe = helper.gridsearch_pipeline(X_train, y_train, clf_figs, figs_params,imbalance_pipe=True)"
   ],
   "metadata": {
    "collapsed": false
   }
  },
  {
   "cell_type": "code",
   "execution_count": 10,
   "outputs": [
    {
     "name": "stderr",
     "output_type": "stream",
     "text": [
      "C:\\Users\\joshh\\anaconda3\\lib\\site-packages\\ipykernel\\ipkernel.py:287: DeprecationWarning: `should_run_async` will not call `transform_cell` automatically in the future. Please pass the result to `transformed_cell` argument and any exception that happen during thetransform in `preprocessing_exc_tuple` in IPython 7.17 and above.\n",
      "  and should_run_async(code)\n"
     ]
    },
    {
     "data": {
      "text/plain": "['gridsearch_all_models/figs_pipe_import_SMOTE.joblib']"
     },
     "execution_count": 10,
     "metadata": {},
     "output_type": "execute_result"
    }
   ],
   "source": [
    "joblib.dump(figs_pipe, f'{prefix}/figs_pipe_import_SMOTE.joblib')"
   ],
   "metadata": {
    "collapsed": false
   }
  }
 ],
 "metadata": {
  "kernelspec": {
   "display_name": "Python 3",
   "language": "python",
   "name": "python3"
  },
  "language_info": {
   "codemirror_mode": {
    "name": "ipython",
    "version": 2
   },
   "file_extension": ".py",
   "mimetype": "text/x-python",
   "name": "python",
   "nbconvert_exporter": "python",
   "pygments_lexer": "ipython2",
   "version": "2.7.6"
  }
 },
 "nbformat": 4,
 "nbformat_minor": 0
}
