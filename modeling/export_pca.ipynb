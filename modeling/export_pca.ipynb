{
 "cells": [
  {
   "cell_type": "markdown",
   "id": "9c2c0902-16f6-4b47-8eb2-2fc98643799f",
   "metadata": {},
   "source": [
    "### PCA"
   ]
  },
  {
   "cell_type": "code",
   "execution_count": 2,
   "id": "a2d8ec97-4af0-4ab5-9c77-177b114dedea",
   "metadata": {},
   "outputs": [],
   "source": [
    "import pandas as pd\n",
    "import numpy as np\n",
    "\n",
    "from sklearn.model_selection import train_test_split\n",
    "from sklearn.compose import make_column_transformer\n",
    "from category_encoders.target_encoder import TargetEncoder\n",
    "from sklearn.preprocessing import StandardScaler, RobustScaler\n",
    "from sklearn.pipeline import make_pipeline, Pipeline\n",
    "\n",
    "from sklearn.decomposition import PCA, SparsePCA\n",
    "from sklearn.covariance import empirical_covariance\n",
    "\n",
    "import matplotlib.pyplot as plt\n",
    "import matplotlib.cm as cm\n",
    "from matplotlib.colors import ListedColormap, BoundaryNorm\n",
    "import matplotlib.patches as mpatches\n",
    "\n",
    "import seaborn as sns\n",
    "import joblib\n",
    "import os\n",
    "\n",
    "import warnings\n",
    "warnings.filterwarnings(action='ignore', category=FutureWarning) # setting ignore as a parameter and further adding category"
   ]
  },
  {
   "cell_type": "code",
   "execution_count": 3,
   "id": "e1821f0c-e109-41e6-a3b1-fdaf14254ce3",
   "metadata": {},
   "outputs": [],
   "source": [
    "rng = 42"
   ]
  },
  {
   "cell_type": "code",
   "execution_count": 4,
   "id": "1dcf5bf1-4a7b-4159-a2e7-a8d05f92b604",
   "metadata": {},
   "outputs": [],
   "source": [
    "p = '../data/'\n",
    "input_name = 'cleaned.csv'\n",
    "\n",
    "df = pd.read_csv(f'{p}{input_name}')"
   ]
  },
  {
   "cell_type": "code",
   "execution_count": 5,
   "id": "ef535dfa-9fa5-499c-8cc2-5050f06ad6af",
   "metadata": {},
   "outputs": [],
   "source": [
    "# set up folder to save results\n",
    "#os.makedirs('export_run5_PCA')\n",
    "prefix = 'export_run5_PCA/export'"
   ]
  },
  {
   "cell_type": "code",
   "execution_count": 6,
   "id": "f3216777-d653-48fb-abdc-168c8e0e7d11",
   "metadata": {},
   "outputs": [],
   "source": [
    "def df_filtering(df, i_e = 'I', f_cols = []):\n",
    "\n",
    "    filtered_df = df[df.i_e == i_e]\n",
    "    filtered_df = filtered_df[f_cols+['act']]\n",
    "    \n",
    "    return filtered_df\n",
    "\n",
    "def data_split(df):\n",
    "    X, y = df.iloc[:,:-1], df.iloc[:,-1:]\n",
    "    y = np.where(y['act']=='R',1,0)\n",
    "    \n",
    "    X_train, X_test, y_train, y_test = train_test_split(X, y, random_state=rng, stratify=y) \n",
    "    \n",
    "    return X_train, X_test, y_train, y_test"
   ]
  },
  {
   "cell_type": "code",
   "execution_count": 65,
   "id": "284e34b7-c74f-48f8-bee8-dc90ff4daffa",
   "metadata": {},
   "outputs": [
    {
     "data": {
      "text/plain": [
       "17"
      ]
     },
     "execution_count": 65,
     "metadata": {},
     "output_type": "execute_result"
    }
   ],
   "source": [
    "len(export_df.columns)"
   ]
  },
  {
   "cell_type": "code",
   "execution_count": 7,
   "id": "8ba00ba2-8716-49c7-824f-068d9641e0c7",
   "metadata": {},
   "outputs": [],
   "source": [
    "non_feature_cols = ['control_number', 'disp_date', 'i_e', 'ship_date', \n",
    "                    'disp_date_yyyy', 'disp_date_mm', 'disp_ship_date']\n",
    "\n",
    "target = ['act', 'dp_cd']\n",
    "\n",
    "feature_cols = ['species_code', 'wildlf_desc', 'specific_generic_name', 'genus', 'species', 'wildlf_cat', \n",
    "                'ctry_org', 'ctry_ie','purp', 'src', 'trans_mode', 'pt_cd',\n",
    "                 'qty', 'unit', #'cartons',\n",
    "                 'value', 'ship_date_mm']\n",
    "\n",
    "export_df = df_filtering(df, i_e = 'E', f_cols = feature_cols)\n",
    "X_train, X_test, y_train, y_test = data_split(export_df)"
   ]
  },
  {
   "cell_type": "code",
   "execution_count": 8,
   "id": "4514b376-8686-4529-b554-172a924f421d",
   "metadata": {},
   "outputs": [
    {
     "data": {
      "text/html": [
       "<div>\n",
       "<style scoped>\n",
       "    .dataframe tbody tr th:only-of-type {\n",
       "        vertical-align: middle;\n",
       "    }\n",
       "\n",
       "    .dataframe tbody tr th {\n",
       "        vertical-align: top;\n",
       "    }\n",
       "\n",
       "    .dataframe thead th {\n",
       "        text-align: right;\n",
       "    }\n",
       "</style>\n",
       "<table border=\"1\" class=\"dataframe\">\n",
       "  <thead>\n",
       "    <tr style=\"text-align: right;\">\n",
       "      <th></th>\n",
       "      <th>species_code</th>\n",
       "      <th>wildlf_desc</th>\n",
       "      <th>specific_generic_name</th>\n",
       "      <th>genus</th>\n",
       "      <th>species</th>\n",
       "      <th>wildlf_cat</th>\n",
       "      <th>ctry_org</th>\n",
       "      <th>ctry_ie</th>\n",
       "      <th>purp</th>\n",
       "      <th>src</th>\n",
       "      <th>trans_mode</th>\n",
       "      <th>pt_cd</th>\n",
       "      <th>qty</th>\n",
       "      <th>unit</th>\n",
       "      <th>value</th>\n",
       "      <th>ship_date_mm</th>\n",
       "    </tr>\n",
       "  </thead>\n",
       "  <tbody>\n",
       "    <tr>\n",
       "      <th>65575</th>\n",
       "      <td>PINM</td>\n",
       "      <td>TRI</td>\n",
       "      <td>GREAT PEARL OYSTER</td>\n",
       "      <td>PINCTADA</td>\n",
       "      <td>MARGARITIFERA</td>\n",
       "      <td>MOL</td>\n",
       "      <td>PF</td>\n",
       "      <td>JP</td>\n",
       "      <td>T</td>\n",
       "      <td>W</td>\n",
       "      <td>A</td>\n",
       "      <td>BA</td>\n",
       "      <td>1.0</td>\n",
       "      <td>NO</td>\n",
       "      <td>0.0</td>\n",
       "      <td>5</td>\n",
       "    </tr>\n",
       "    <tr>\n",
       "      <th>126087</th>\n",
       "      <td>ALLM</td>\n",
       "      <td>SPE</td>\n",
       "      <td>AMERICAN ALLIGATOR</td>\n",
       "      <td>ALLIGATOR</td>\n",
       "      <td>MISSISSIPPIENSIS</td>\n",
       "      <td>REP</td>\n",
       "      <td>US</td>\n",
       "      <td>TT</td>\n",
       "      <td>M</td>\n",
       "      <td>W</td>\n",
       "      <td>A</td>\n",
       "      <td>MI</td>\n",
       "      <td>14.0</td>\n",
       "      <td>NO</td>\n",
       "      <td>2320.0</td>\n",
       "      <td>4</td>\n",
       "    </tr>\n",
       "    <tr>\n",
       "      <th>486033</th>\n",
       "      <td>PIMX</td>\n",
       "      <td>JWL</td>\n",
       "      <td>GOLD-LIP OYSTER</td>\n",
       "      <td>PINCTADA</td>\n",
       "      <td>MAXIMA</td>\n",
       "      <td>MOL</td>\n",
       "      <td>MX</td>\n",
       "      <td>HK</td>\n",
       "      <td>T</td>\n",
       "      <td>W</td>\n",
       "      <td>A</td>\n",
       "      <td>HA</td>\n",
       "      <td>1.0</td>\n",
       "      <td>NO</td>\n",
       "      <td>53.0</td>\n",
       "      <td>1</td>\n",
       "    </tr>\n",
       "    <tr>\n",
       "      <th>798703</th>\n",
       "      <td>MOLL</td>\n",
       "      <td>LIV</td>\n",
       "      <td>SHELLS MOLLUSCS</td>\n",
       "      <td>NaN_genus</td>\n",
       "      <td>NaN_species</td>\n",
       "      <td>MOL</td>\n",
       "      <td>VS</td>\n",
       "      <td>CA</td>\n",
       "      <td>T</td>\n",
       "      <td>W</td>\n",
       "      <td>A</td>\n",
       "      <td>LA</td>\n",
       "      <td>350.0</td>\n",
       "      <td>NO</td>\n",
       "      <td>208.0</td>\n",
       "      <td>12</td>\n",
       "    </tr>\n",
       "    <tr>\n",
       "      <th>392269</th>\n",
       "      <td>WDER</td>\n",
       "      <td>SKI</td>\n",
       "      <td>WHITE-TAILED DEER</td>\n",
       "      <td>ODOCOILEUS</td>\n",
       "      <td>VIRGINIANUS</td>\n",
       "      <td>MAM</td>\n",
       "      <td>US</td>\n",
       "      <td>CN</td>\n",
       "      <td>T</td>\n",
       "      <td>W</td>\n",
       "      <td>O</td>\n",
       "      <td>NW</td>\n",
       "      <td>744.0</td>\n",
       "      <td>NO</td>\n",
       "      <td>22190.0</td>\n",
       "      <td>2</td>\n",
       "    </tr>\n",
       "  </tbody>\n",
       "</table>\n",
       "</div>"
      ],
      "text/plain": [
       "       species_code wildlf_desc specific_generic_name       genus  \\\n",
       "65575          PINM         TRI    GREAT PEARL OYSTER    PINCTADA   \n",
       "126087         ALLM         SPE    AMERICAN ALLIGATOR   ALLIGATOR   \n",
       "486033         PIMX         JWL       GOLD-LIP OYSTER    PINCTADA   \n",
       "798703         MOLL         LIV       SHELLS MOLLUSCS   NaN_genus   \n",
       "392269         WDER         SKI     WHITE-TAILED DEER  ODOCOILEUS   \n",
       "\n",
       "                 species wildlf_cat ctry_org ctry_ie purp src trans_mode  \\\n",
       "65575      MARGARITIFERA        MOL       PF      JP    T   W          A   \n",
       "126087  MISSISSIPPIENSIS        REP       US      TT    M   W          A   \n",
       "486033            MAXIMA        MOL       MX      HK    T   W          A   \n",
       "798703       NaN_species        MOL       VS      CA    T   W          A   \n",
       "392269       VIRGINIANUS        MAM       US      CN    T   W          O   \n",
       "\n",
       "       pt_cd    qty unit    value  ship_date_mm  \n",
       "65575     BA    1.0   NO      0.0             5  \n",
       "126087    MI   14.0   NO   2320.0             4  \n",
       "486033    HA    1.0   NO     53.0             1  \n",
       "798703    LA  350.0   NO    208.0            12  \n",
       "392269    NW  744.0   NO  22190.0             2  "
      ]
     },
     "execution_count": 8,
     "metadata": {},
     "output_type": "execute_result"
    }
   ],
   "source": [
    "X_train.head()"
   ]
  },
  {
   "cell_type": "code",
   "execution_count": 9,
   "id": "5f6218e0-599b-406a-aeb1-59c80739edfb",
   "metadata": {},
   "outputs": [
    {
     "data": {
      "text/plain": [
       "(224505, 16)"
      ]
     },
     "execution_count": 9,
     "metadata": {},
     "output_type": "execute_result"
    }
   ],
   "source": [
    "X_train.shape"
   ]
  },
  {
   "cell_type": "markdown",
   "id": "0fd4236b-4b3a-4054-a340-f9e55213f867",
   "metadata": {
    "tags": []
   },
   "source": [
    "#### Option 1: TargetEncoding on Categorical and RobustScaler on Numeric Cols"
   ]
  },
  {
   "cell_type": "code",
   "execution_count": 10,
   "id": "1d5df1f4-561f-449a-8f4b-c68cf0379ab7",
   "metadata": {},
   "outputs": [],
   "source": [
    "numerical_var = ['value', 'qty', 'ship_date_mm'] # <- added ship_date_mm\n",
    "categorical_var = ['species_code', 'wildlf_desc', 'specific_generic_name', 'genus', 'species', 'wildlf_cat', \n",
    "                'ctry_org', 'ctry_ie','purp', 'src', 'trans_mode', 'pt_cd', 'unit']\n",
    "\n",
    "ct_target = make_column_transformer(\n",
    "    (StandardScaler(), numerical_var), # <- changed to standard\n",
    "    (TargetEncoder(), categorical_var),\n",
    "    remainder='passthrough')"
   ]
  },
  {
   "cell_type": "code",
   "execution_count": 11,
   "id": "fe03620f-451a-4ab8-a0b7-a937c99d3815",
   "metadata": {},
   "outputs": [],
   "source": [
    "X_train_t = ct_target.fit_transform(X_train, y_train)\n",
    "X_test_t = ct_target.transform(X_test)"
   ]
  },
  {
   "cell_type": "code",
   "execution_count": 12,
   "id": "4b41ab8b-826d-4f9b-8b56-0d0e0163aa21",
   "metadata": {},
   "outputs": [
    {
     "data": {
      "text/plain": [
       "array([[-1.11761166e-01, -1.41236740e-02, -3.84762007e-01,\n",
       "         1.17187500e-03,  1.41166405e-02,  1.17187500e-03,\n",
       "         3.24858757e-03,  1.04239055e-03,  4.55603725e-03,\n",
       "         0.00000000e+00,  6.34431783e-03,  8.38549976e-03,\n",
       "         7.48914176e-03,  5.48979767e-03,  3.54484225e-04,\n",
       "         8.36848617e-03],\n",
       "       [-9.56524672e-02, -1.40663713e-02, -6.92312154e-01,\n",
       "         5.99026582e-03,  3.08513794e-03,  5.99026582e-03,\n",
       "         5.99026582e-03,  5.99026582e-03,  9.32896890e-03,\n",
       "         7.68923905e-03,  9.43396226e-03,  3.24745616e-03,\n",
       "         7.48914176e-03,  5.48979767e-03,  5.40807723e-03,\n",
       "         8.36848617e-03]])"
      ]
     },
     "execution_count": 12,
     "metadata": {},
     "output_type": "execute_result"
    }
   ],
   "source": [
    "X_train_t[:2]"
   ]
  },
  {
   "cell_type": "markdown",
   "id": "9d0d9fdd-a1e0-4139-8c0b-e970741d7d86",
   "metadata": {
    "tags": []
   },
   "source": [
    "#### Option 2: TargetEncoding on Categorical and RobustScaler on all"
   ]
  },
  {
   "cell_type": "code",
   "execution_count": 59,
   "id": "84861979-8c66-44ae-844b-07b6734c4277",
   "metadata": {},
   "outputs": [],
   "source": [
    "numerical_var = ['value', 'qty'] # <- added ship_date_mm\n",
    "categorical_var = ['species_code', 'wildlf_desc', 'specific_generic_name', 'genus', 'species', 'wildlf_cat', \n",
    "                'ctry_org', 'ctry_ie','purp', 'src', 'trans_mode', 'pt_cd', 'unit', 'ship_date_mm']\n",
    "\n",
    "\n",
    "ct_target = make_column_transformer(\n",
    "    (TargetEncoder(), categorical_var),\n",
    "    #(RobustScaler(), feature_cols),    #operation is parallelized and concatenated together\n",
    "    remainder='passthrough')\n",
    "\n",
    "pipe = Pipeline([('targetEncoding', ct_target), \n",
    "                 ('standardScaler', StandardScaler()) # <- changed to standard\n",
    "                ], verbose=False)"
   ]
  },
  {
   "cell_type": "code",
   "execution_count": 60,
   "id": "a78e4557-70ca-4403-87d5-9d582c76f74c",
   "metadata": {},
   "outputs": [],
   "source": [
    "X_train_t = pipe.fit_transform(X_train, y_train)\n",
    "X_test_t = pipe.transform(X_test)"
   ]
  },
  {
   "cell_type": "code",
   "execution_count": 61,
   "id": "afd08bc2-6446-4b04-9aec-ec0f474f90f7",
   "metadata": {},
   "outputs": [
    {
     "data": {
      "text/plain": [
       "array([[-0.22878276,  0.47090855, -0.24492625, -0.21997912, -0.44523195,\n",
       "        -0.74137561, -0.37576451, -0.33087877, -0.03731943, -0.04926299,\n",
       "        -0.3408816 , -0.75649171, -0.05605808, -0.38476201, -0.01412367,\n",
       "        -0.11176117],\n",
       "       [-0.07709861, -0.46656331, -0.0835635 , -0.10568989, -0.15180395,\n",
       "         0.13752048, -0.03913527,  0.12647017, -1.00640272, -0.04926299,\n",
       "        -0.3408816 , -0.29146118, -0.05605808, -0.69231215, -0.01406637,\n",
       "        -0.09565247]])"
      ]
     },
     "execution_count": 61,
     "metadata": {},
     "output_type": "execute_result"
    }
   ],
   "source": [
    "X_train_t[:2]"
   ]
  },
  {
   "cell_type": "markdown",
   "id": "5106fc42-86cf-4601-916d-c53f6382ef93",
   "metadata": {
    "tags": []
   },
   "source": [
    "#### PCA"
   ]
  },
  {
   "cell_type": "code",
   "execution_count": 63,
   "id": "f36f0433-9507-41c5-8254-8fba285584b6",
   "metadata": {},
   "outputs": [
    {
     "data": {
      "text/html": [
       "<div>\n",
       "<style scoped>\n",
       "    .dataframe tbody tr th:only-of-type {\n",
       "        vertical-align: middle;\n",
       "    }\n",
       "\n",
       "    .dataframe tbody tr th {\n",
       "        vertical-align: top;\n",
       "    }\n",
       "\n",
       "    .dataframe thead th {\n",
       "        text-align: right;\n",
       "    }\n",
       "</style>\n",
       "<table border=\"1\" class=\"dataframe\">\n",
       "  <thead>\n",
       "    <tr style=\"text-align: right;\">\n",
       "      <th></th>\n",
       "      <th>species_code</th>\n",
       "      <th>wildlf_desc</th>\n",
       "      <th>specific_generic_name</th>\n",
       "      <th>genus</th>\n",
       "      <th>species</th>\n",
       "      <th>wildlf_cat</th>\n",
       "      <th>ctry_org</th>\n",
       "      <th>ctry_ie</th>\n",
       "      <th>purp</th>\n",
       "      <th>src</th>\n",
       "      <th>trans_mode</th>\n",
       "      <th>pt_cd</th>\n",
       "      <th>qty</th>\n",
       "      <th>unit</th>\n",
       "      <th>value</th>\n",
       "      <th>ship_date_mm</th>\n",
       "    </tr>\n",
       "  </thead>\n",
       "  <tbody>\n",
       "    <tr>\n",
       "      <th>count</th>\n",
       "      <td>2.245050e+05</td>\n",
       "      <td>2.245050e+05</td>\n",
       "      <td>2.245050e+05</td>\n",
       "      <td>2.245050e+05</td>\n",
       "      <td>2.245050e+05</td>\n",
       "      <td>2.245050e+05</td>\n",
       "      <td>2.245050e+05</td>\n",
       "      <td>2.245050e+05</td>\n",
       "      <td>2.245050e+05</td>\n",
       "      <td>2.245050e+05</td>\n",
       "      <td>2.245050e+05</td>\n",
       "      <td>2.245050e+05</td>\n",
       "      <td>2.245050e+05</td>\n",
       "      <td>2.245050e+05</td>\n",
       "      <td>2.245050e+05</td>\n",
       "      <td>2.245050e+05</td>\n",
       "    </tr>\n",
       "    <tr>\n",
       "      <th>mean</th>\n",
       "      <td>-8.249614e-17</td>\n",
       "      <td>9.484101e-16</td>\n",
       "      <td>3.236179e-17</td>\n",
       "      <td>2.575681e-16</td>\n",
       "      <td>-6.859876e-16</td>\n",
       "      <td>-2.011917e-16</td>\n",
       "      <td>-6.902871e-16</td>\n",
       "      <td>5.538985e-16</td>\n",
       "      <td>1.141172e-16</td>\n",
       "      <td>1.962047e-16</td>\n",
       "      <td>-1.214546e-15</td>\n",
       "      <td>-6.581844e-16</td>\n",
       "      <td>1.036664e-15</td>\n",
       "      <td>7.705541e-16</td>\n",
       "      <td>-2.532172e-15</td>\n",
       "      <td>-3.029022e-16</td>\n",
       "    </tr>\n",
       "    <tr>\n",
       "      <th>std</th>\n",
       "      <td>1.000002e+00</td>\n",
       "      <td>1.000002e+00</td>\n",
       "      <td>1.000002e+00</td>\n",
       "      <td>1.000002e+00</td>\n",
       "      <td>1.000002e+00</td>\n",
       "      <td>1.000002e+00</td>\n",
       "      <td>1.000002e+00</td>\n",
       "      <td>1.000002e+00</td>\n",
       "      <td>1.000002e+00</td>\n",
       "      <td>1.000002e+00</td>\n",
       "      <td>1.000002e+00</td>\n",
       "      <td>1.000002e+00</td>\n",
       "      <td>1.000002e+00</td>\n",
       "      <td>1.000002e+00</td>\n",
       "      <td>1.000002e+00</td>\n",
       "      <td>1.000002e+00</td>\n",
       "    </tr>\n",
       "    <tr>\n",
       "      <th>min</th>\n",
       "      <td>-2.656737e-01</td>\n",
       "      <td>-7.287425e-01</td>\n",
       "      <td>-2.841711e-01</td>\n",
       "      <td>-3.553993e-01</td>\n",
       "      <td>-5.070497e-01</td>\n",
       "      <td>-1.580332e+00</td>\n",
       "      <td>-3.757645e-01</td>\n",
       "      <td>-1.270005e+00</td>\n",
       "      <td>-1.618903e+00</td>\n",
       "      <td>-3.864428e-01</td>\n",
       "      <td>-9.458122e-01</td>\n",
       "      <td>-7.891113e-01</td>\n",
       "      <td>-2.285216e+00</td>\n",
       "      <td>-1.614963e+00</td>\n",
       "      <td>-1.412808e-02</td>\n",
       "      <td>-1.117612e-01</td>\n",
       "    </tr>\n",
       "    <tr>\n",
       "      <th>25%</th>\n",
       "      <td>-2.329431e-01</td>\n",
       "      <td>-3.815407e-01</td>\n",
       "      <td>-2.373334e-01</td>\n",
       "      <td>-2.561177e-01</td>\n",
       "      <td>-3.938127e-01</td>\n",
       "      <td>-7.413756e-01</td>\n",
       "      <td>-1.886736e-01</td>\n",
       "      <td>-4.488603e-01</td>\n",
       "      <td>-3.731943e-02</td>\n",
       "      <td>-1.215290e-01</td>\n",
       "      <td>-3.408816e-01</td>\n",
       "      <td>-5.002340e-01</td>\n",
       "      <td>-5.605808e-02</td>\n",
       "      <td>-6.923122e-01</td>\n",
       "      <td>-1.411927e-02</td>\n",
       "      <td>-1.113654e-01</td>\n",
       "    </tr>\n",
       "    <tr>\n",
       "      <th>50%</th>\n",
       "      <td>-1.547584e-01</td>\n",
       "      <td>-2.050792e-01</td>\n",
       "      <td>-1.661786e-01</td>\n",
       "      <td>-1.511417e-01</td>\n",
       "      <td>-2.428901e-01</td>\n",
       "      <td>1.375205e-01</td>\n",
       "      <td>-3.913527e-02</td>\n",
       "      <td>-1.273470e-01</td>\n",
       "      <td>-3.731943e-02</td>\n",
       "      <td>-4.926299e-02</td>\n",
       "      <td>-3.408816e-01</td>\n",
       "      <td>-2.034979e-01</td>\n",
       "      <td>-5.605808e-02</td>\n",
       "      <td>-7.721186e-02</td>\n",
       "      <td>-1.408400e-02</td>\n",
       "      <td>-1.089838e-01</td>\n",
       "    </tr>\n",
       "    <tr>\n",
       "      <th>75%</th>\n",
       "      <td>-1.727611e-02</td>\n",
       "      <td>1.025272e-01</td>\n",
       "      <td>-1.992388e-02</td>\n",
       "      <td>-4.615699e-02</td>\n",
       "      <td>9.289255e-02</td>\n",
       "      <td>7.619365e-01</td>\n",
       "      <td>-3.913527e-02</td>\n",
       "      <td>-1.273470e-01</td>\n",
       "      <td>-3.731943e-02</td>\n",
       "      <td>-4.926299e-02</td>\n",
       "      <td>-3.408816e-01</td>\n",
       "      <td>2.423685e-01</td>\n",
       "      <td>-5.605808e-02</td>\n",
       "      <td>8.454386e-01</td>\n",
       "      <td>-1.368729e-02</td>\n",
       "      <td>-8.527902e-02</td>\n",
       "    </tr>\n",
       "    <tr>\n",
       "      <th>max</th>\n",
       "      <td>3.120411e+01</td>\n",
       "      <td>6.604665e+01</td>\n",
       "      <td>3.319362e+01</td>\n",
       "      <td>3.668640e+01</td>\n",
       "      <td>4.298443e+01</td>\n",
       "      <td>6.615395e+01</td>\n",
       "      <td>1.572790e+01</td>\n",
       "      <td>3.090965e+01</td>\n",
       "      <td>6.256824e+00</td>\n",
       "      <td>1.672210e+01</td>\n",
       "      <td>3.446883e+00</td>\n",
       "      <td>8.035580e+01</td>\n",
       "      <td>1.798247e+01</td>\n",
       "      <td>1.768089e+00</td>\n",
       "      <td>4.407762e+02</td>\n",
       "      <td>1.668425e+02</td>\n",
       "    </tr>\n",
       "  </tbody>\n",
       "</table>\n",
       "</div>"
      ],
      "text/plain": [
       "       species_code   wildlf_desc  specific_generic_name         genus  \\\n",
       "count  2.245050e+05  2.245050e+05           2.245050e+05  2.245050e+05   \n",
       "mean  -8.249614e-17  9.484101e-16           3.236179e-17  2.575681e-16   \n",
       "std    1.000002e+00  1.000002e+00           1.000002e+00  1.000002e+00   \n",
       "min   -2.656737e-01 -7.287425e-01          -2.841711e-01 -3.553993e-01   \n",
       "25%   -2.329431e-01 -3.815407e-01          -2.373334e-01 -2.561177e-01   \n",
       "50%   -1.547584e-01 -2.050792e-01          -1.661786e-01 -1.511417e-01   \n",
       "75%   -1.727611e-02  1.025272e-01          -1.992388e-02 -4.615699e-02   \n",
       "max    3.120411e+01  6.604665e+01           3.319362e+01  3.668640e+01   \n",
       "\n",
       "            species    wildlf_cat      ctry_org       ctry_ie          purp  \\\n",
       "count  2.245050e+05  2.245050e+05  2.245050e+05  2.245050e+05  2.245050e+05   \n",
       "mean  -6.859876e-16 -2.011917e-16 -6.902871e-16  5.538985e-16  1.141172e-16   \n",
       "std    1.000002e+00  1.000002e+00  1.000002e+00  1.000002e+00  1.000002e+00   \n",
       "min   -5.070497e-01 -1.580332e+00 -3.757645e-01 -1.270005e+00 -1.618903e+00   \n",
       "25%   -3.938127e-01 -7.413756e-01 -1.886736e-01 -4.488603e-01 -3.731943e-02   \n",
       "50%   -2.428901e-01  1.375205e-01 -3.913527e-02 -1.273470e-01 -3.731943e-02   \n",
       "75%    9.289255e-02  7.619365e-01 -3.913527e-02 -1.273470e-01 -3.731943e-02   \n",
       "max    4.298443e+01  6.615395e+01  1.572790e+01  3.090965e+01  6.256824e+00   \n",
       "\n",
       "                src    trans_mode         pt_cd           qty          unit  \\\n",
       "count  2.245050e+05  2.245050e+05  2.245050e+05  2.245050e+05  2.245050e+05   \n",
       "mean   1.962047e-16 -1.214546e-15 -6.581844e-16  1.036664e-15  7.705541e-16   \n",
       "std    1.000002e+00  1.000002e+00  1.000002e+00  1.000002e+00  1.000002e+00   \n",
       "min   -3.864428e-01 -9.458122e-01 -7.891113e-01 -2.285216e+00 -1.614963e+00   \n",
       "25%   -1.215290e-01 -3.408816e-01 -5.002340e-01 -5.605808e-02 -6.923122e-01   \n",
       "50%   -4.926299e-02 -3.408816e-01 -2.034979e-01 -5.605808e-02 -7.721186e-02   \n",
       "75%   -4.926299e-02 -3.408816e-01  2.423685e-01 -5.605808e-02  8.454386e-01   \n",
       "max    1.672210e+01  3.446883e+00  8.035580e+01  1.798247e+01  1.768089e+00   \n",
       "\n",
       "              value  ship_date_mm  \n",
       "count  2.245050e+05  2.245050e+05  \n",
       "mean  -2.532172e-15 -3.029022e-16  \n",
       "std    1.000002e+00  1.000002e+00  \n",
       "min   -1.412808e-02 -1.117612e-01  \n",
       "25%   -1.411927e-02 -1.113654e-01  \n",
       "50%   -1.408400e-02 -1.089838e-01  \n",
       "75%   -1.368729e-02 -8.527902e-02  \n",
       "max    4.407762e+02  1.668425e+02  "
      ]
     },
     "execution_count": 63,
     "metadata": {},
     "output_type": "execute_result"
    }
   ],
   "source": [
    "# checking out the transformed data\n",
    "X_train_t_df = pd.DataFrame(X_train_t, columns=X_train.columns)\n",
    "X_train_t_df.describe()"
   ]
  },
  {
   "cell_type": "code",
   "execution_count": 43,
   "id": "2c9516e0-e9c6-48d1-9a8d-98c209a5f1ed",
   "metadata": {},
   "outputs": [
    {
     "name": "stdout",
     "output_type": "stream",
     "text": [
      "(224505, 16) (224505, 16)\n"
     ]
    }
   ],
   "source": [
    "pca = PCA(random_state=rng)\n",
    "X_train_pca = pca.fit_transform(X_train_t)\n",
    "print(X_train_t.shape, X_train_pca.shape)"
   ]
  },
  {
   "cell_type": "code",
   "execution_count": 44,
   "id": "27ae64e3-e255-4b6b-9d90-22154c3a5a24",
   "metadata": {},
   "outputs": [],
   "source": [
    "# updated to handle any number of components\n",
    "def plot_pca(pca, f_names):\n",
    "    fig, ax = plt.subplots(figsize=(10, 6))\n",
    "    plt.imshow(pca.components_, interpolation = 'none', cmap = 'plasma')\n",
    "    feature_names=f_names\n",
    "    plt.xticks(np.arange(-0., len(feature_names), 1) , feature_names, rotation = 90, fontsize=12)\n",
    "    plt.yticks(np.arange(0., pca.n_components_, 1), ['PC'+str(i) for i in range(1, pca.n_components_+1)], fontsize = 16)\n",
    "    plt.colorbar()"
   ]
  },
  {
   "cell_type": "code",
   "execution_count": 45,
   "id": "ac59585f-ad5a-4eb1-8526-50e4a2d1c991",
   "metadata": {},
   "outputs": [
    {
     "data": {
      "text/plain": [
       "<AxesSubplot:>"
      ]
     },
     "execution_count": 45,
     "metadata": {},
     "output_type": "execute_result"
    },
    {
     "data": {
      "image/png": "[encoded data removed]",
      "text/plain": [
       "<Figure size 432x288 with 2 Axes>"
      ]
     },
     "metadata": {
      "needs_background": "light"
     },
     "output_type": "display_data"
    }
   ],
   "source": [
    "sns.heatmap(empirical_covariance(X_train_t))"
   ]
  },
  {
   "cell_type": "code",
   "execution_count": 46,
   "id": "c0208b43-21b2-4f35-ac46-330d2e87366f",
   "metadata": {},
   "outputs": [
    {
     "data": {
      "text/plain": [
       "<AxesSubplot:>"
      ]
     },
     "execution_count": 46,
     "metadata": {},
     "output_type": "execute_result"
    },
    {
     "data": {
      "image/png": "[encoded data removed]",
      "text/plain": [
       "<Figure size 432x288 with 2 Axes>"
      ]
     },
     "metadata": {
      "needs_background": "light"
     },
     "output_type": "display_data"
    }
   ],
   "source": [
    "sns.heatmap(empirical_covariance(X_train_pca))"
   ]
  },
  {
   "cell_type": "code",
   "execution_count": 47,
   "id": "98d4d585-bfc4-4bd3-b4c1-f2d945377b91",
   "metadata": {},
   "outputs": [
    {
     "data": {
      "image/png": "[encoded data removed]",
      "text/plain": [
       "<Figure size 720x432 with 2 Axes>"
      ]
     },
     "metadata": {
      "needs_background": "light"
     },
     "output_type": "display_data"
    }
   ],
   "source": [
    "plot_pca(pca, feature_cols)"
   ]
  },
  {
   "cell_type": "code",
   "execution_count": 48,
   "id": "a8c77a30-2b31-4e3a-ab93-a752931e8029",
   "metadata": {},
   "outputs": [
    {
     "name": "stdout",
     "output_type": "stream",
     "text": [
      "explained_variance_ratio: [0.21081876 0.08488586 0.08122736 0.06979721 0.06593611 0.06285543\n",
      " 0.06198088 0.06106947 0.06004155 0.05288176 0.04860532 0.04641892\n",
      " 0.03639514 0.03072592 0.02136583 0.00499447]\n",
      "sum of explained variance ratios: 1.0\n",
      "singular values: [870.21711991 552.19272478 540.16217765 500.71664287 486.67010613\n",
      " 475.16496422 471.8477377  468.36570745 464.4071997  435.83887499\n",
      " 417.84472601 408.33868658 361.57191249 332.21973242 277.03385714\n",
      " 133.94229646]\n"
     ]
    }
   ],
   "source": [
    "print(\"explained_variance_ratio:\", pca.explained_variance_ratio_)\n",
    "print(\"sum of explained variance ratios:\", np.sum(pca.explained_variance_ratio_))\n",
    "print(\"singular values:\", pca.singular_values_)  "
   ]
  },
  {
   "cell_type": "code",
   "execution_count": 49,
   "id": "c840c85d-c0ef-41e8-8840-d4893fadfe3a",
   "metadata": {},
   "outputs": [
    {
     "data": {
      "text/plain": [
       "[<matplotlib.lines.Line2D at 0x7f904872fa00>]"
      ]
     },
     "execution_count": 49,
     "metadata": {},
     "output_type": "execute_result"
    },
    {
     "data": {
      "image/png": "[encoded data removed]",
      "text/plain": [
       "<Figure size 432x288 with 1 Axes>"
      ]
     },
     "metadata": {
      "needs_background": "light"
     },
     "output_type": "display_data"
    }
   ],
   "source": [
    "plt.plot(np.cumsum(pca.explained_variance_ratio_))"
   ]
  },
  {
   "cell_type": "code",
   "execution_count": 50,
   "id": "0dac3011-de8d-4887-b2de-3b7be1519ff3",
   "metadata": {},
   "outputs": [
    {
     "data": {
      "text/plain": [
       "0     0.210819\n",
       "1     0.295705\n",
       "2     0.376932\n",
       "3     0.446729\n",
       "4     0.512665\n",
       "5     0.575521\n",
       "6     0.637502\n",
       "7     0.698571\n",
       "8     0.758613\n",
       "9     0.811494\n",
       "10    0.860100\n",
       "11    0.906519\n",
       "12    0.942914\n",
       "13    0.973640\n",
       "14    0.995006\n",
       "15    1.000000\n",
       "Name: explained var ratio, dtype: float64"
      ]
     },
     "execution_count": 50,
     "metadata": {},
     "output_type": "execute_result"
    },
    {
     "data": {
      "image/png": "[encoded data removed]",
      "text/plain": [
       "<Figure size 432x288 with 1 Axes>"
      ]
     },
     "metadata": {
      "needs_background": "light"
     },
     "output_type": "display_data"
    }
   ],
   "source": [
    "df = pd.DataFrame({'explained var ratio':pca.explained_variance_ratio_,\n",
    "                   'PC':[str(i) for i in range(1, pca.n_components_+1)]}) # updated to handle any number of components\n",
    "sns.barplot(x = 'PC',y = \"explained var ratio\", data = df, color=\"c\");\n",
    "np.cumsum(df['explained var ratio'])"
   ]
  },
  {
   "cell_type": "code",
   "execution_count": 51,
   "id": "93625373-f76f-40f3-8ebc-4a2b0e93a6ee",
   "metadata": {},
   "outputs": [
    {
     "data": {
      "image/png": "[encoded data removed]",
      "text/plain": [
       "<Figure size 432x288 with 1 Axes>"
      ]
     },
     "metadata": {
      "needs_background": "light"
     },
     "output_type": "display_data"
    }
   ],
   "source": [
    "df = pd.DataFrame({'eigenvalue': np.sqrt(pca.explained_variance_),\n",
    "                   'PC':[str(i) for i in range(1, pca.n_components_+1)]}) # updated to handle any number of components\n",
    "sns.lineplot(x = 'PC',y = \"eigenvalue\", data = df, color=\"c\");"
   ]
  },
  {
   "cell_type": "markdown",
   "id": "5df9810e-d109-4a12-b58a-6d4dee4369c8",
   "metadata": {
    "jp-MarkdownHeadingCollapsed": true,
    "tags": []
   },
   "source": [
    "#### Archive - do not run "
   ]
  },
  {
   "cell_type": "code",
   "execution_count": 57,
   "id": "7908b61a-9bf9-4719-b2d5-93d61307366e",
   "metadata": {},
   "outputs": [
    {
     "data": {
      "text/html": [
       "<div>\n",
       "<style scoped>\n",
       "    .dataframe tbody tr th:only-of-type {\n",
       "        vertical-align: middle;\n",
       "    }\n",
       "\n",
       "    .dataframe tbody tr th {\n",
       "        vertical-align: top;\n",
       "    }\n",
       "\n",
       "    .dataframe thead th {\n",
       "        text-align: right;\n",
       "    }\n",
       "</style>\n",
       "<table border=\"1\" class=\"dataframe\">\n",
       "  <thead>\n",
       "    <tr style=\"text-align: right;\">\n",
       "      <th></th>\n",
       "      <th>species_code</th>\n",
       "      <th>wildlf_desc</th>\n",
       "      <th>specific_generic_name</th>\n",
       "      <th>genus</th>\n",
       "      <th>species</th>\n",
       "      <th>wildlf_cat</th>\n",
       "      <th>ctry_org</th>\n",
       "      <th>ctry_ie</th>\n",
       "      <th>purp</th>\n",
       "      <th>src</th>\n",
       "      <th>trans_mode</th>\n",
       "      <th>pt_cd</th>\n",
       "      <th>qty</th>\n",
       "      <th>unit</th>\n",
       "      <th>value</th>\n",
       "      <th>ship_date_mm</th>\n",
       "    </tr>\n",
       "  </thead>\n",
       "  <tbody>\n",
       "    <tr>\n",
       "      <th>count</th>\n",
       "      <td>2.245050e+05</td>\n",
       "      <td>2.245050e+05</td>\n",
       "      <td>2.245050e+05</td>\n",
       "      <td>2.245050e+05</td>\n",
       "      <td>2.245050e+05</td>\n",
       "      <td>2.245050e+05</td>\n",
       "      <td>2.245050e+05</td>\n",
       "      <td>2.245050e+05</td>\n",
       "      <td>2.245050e+05</td>\n",
       "      <td>2.245050e+05</td>\n",
       "      <td>2.245050e+05</td>\n",
       "      <td>2.245050e+05</td>\n",
       "      <td>2.245050e+05</td>\n",
       "      <td>2.245050e+05</td>\n",
       "      <td>2.245050e+05</td>\n",
       "      <td>2.245050e+05</td>\n",
       "    </tr>\n",
       "    <tr>\n",
       "      <th>mean</th>\n",
       "      <td>-8.249614e-17</td>\n",
       "      <td>9.484101e-16</td>\n",
       "      <td>3.236179e-17</td>\n",
       "      <td>2.575681e-16</td>\n",
       "      <td>-6.859876e-16</td>\n",
       "      <td>-2.011917e-16</td>\n",
       "      <td>-6.902871e-16</td>\n",
       "      <td>5.538985e-16</td>\n",
       "      <td>1.141172e-16</td>\n",
       "      <td>1.962047e-16</td>\n",
       "      <td>-1.214546e-15</td>\n",
       "      <td>-6.581844e-16</td>\n",
       "      <td>1.036664e-15</td>\n",
       "      <td>-2.532172e-15</td>\n",
       "      <td>-3.029022e-16</td>\n",
       "      <td>7.705541e-16</td>\n",
       "    </tr>\n",
       "    <tr>\n",
       "      <th>std</th>\n",
       "      <td>1.000002e+00</td>\n",
       "      <td>1.000002e+00</td>\n",
       "      <td>1.000002e+00</td>\n",
       "      <td>1.000002e+00</td>\n",
       "      <td>1.000002e+00</td>\n",
       "      <td>1.000002e+00</td>\n",
       "      <td>1.000002e+00</td>\n",
       "      <td>1.000002e+00</td>\n",
       "      <td>1.000002e+00</td>\n",
       "      <td>1.000002e+00</td>\n",
       "      <td>1.000002e+00</td>\n",
       "      <td>1.000002e+00</td>\n",
       "      <td>1.000002e+00</td>\n",
       "      <td>1.000002e+00</td>\n",
       "      <td>1.000002e+00</td>\n",
       "      <td>1.000002e+00</td>\n",
       "    </tr>\n",
       "    <tr>\n",
       "      <th>min</th>\n",
       "      <td>-2.656737e-01</td>\n",
       "      <td>-7.287425e-01</td>\n",
       "      <td>-2.841711e-01</td>\n",
       "      <td>-3.553993e-01</td>\n",
       "      <td>-5.070497e-01</td>\n",
       "      <td>-1.580332e+00</td>\n",
       "      <td>-3.757645e-01</td>\n",
       "      <td>-1.270005e+00</td>\n",
       "      <td>-1.618903e+00</td>\n",
       "      <td>-3.864428e-01</td>\n",
       "      <td>-9.458122e-01</td>\n",
       "      <td>-7.891113e-01</td>\n",
       "      <td>-2.285216e+00</td>\n",
       "      <td>-1.412808e-02</td>\n",
       "      <td>-1.117612e-01</td>\n",
       "      <td>-1.614963e+00</td>\n",
       "    </tr>\n",
       "    <tr>\n",
       "      <th>25%</th>\n",
       "      <td>-2.329431e-01</td>\n",
       "      <td>-3.815407e-01</td>\n",
       "      <td>-2.373334e-01</td>\n",
       "      <td>-2.561177e-01</td>\n",
       "      <td>-3.938127e-01</td>\n",
       "      <td>-7.413756e-01</td>\n",
       "      <td>-1.886736e-01</td>\n",
       "      <td>-4.488603e-01</td>\n",
       "      <td>-3.731943e-02</td>\n",
       "      <td>-1.215290e-01</td>\n",
       "      <td>-3.408816e-01</td>\n",
       "      <td>-5.002340e-01</td>\n",
       "      <td>-5.605808e-02</td>\n",
       "      <td>-1.411927e-02</td>\n",
       "      <td>-1.113654e-01</td>\n",
       "      <td>-6.923122e-01</td>\n",
       "    </tr>\n",
       "    <tr>\n",
       "      <th>50%</th>\n",
       "      <td>-1.547584e-01</td>\n",
       "      <td>-2.050792e-01</td>\n",
       "      <td>-1.661786e-01</td>\n",
       "      <td>-1.511417e-01</td>\n",
       "      <td>-2.428901e-01</td>\n",
       "      <td>1.375205e-01</td>\n",
       "      <td>-3.913527e-02</td>\n",
       "      <td>-1.273470e-01</td>\n",
       "      <td>-3.731943e-02</td>\n",
       "      <td>-4.926299e-02</td>\n",
       "      <td>-3.408816e-01</td>\n",
       "      <td>-2.034979e-01</td>\n",
       "      <td>-5.605808e-02</td>\n",
       "      <td>-1.408400e-02</td>\n",
       "      <td>-1.089838e-01</td>\n",
       "      <td>-7.721186e-02</td>\n",
       "    </tr>\n",
       "    <tr>\n",
       "      <th>75%</th>\n",
       "      <td>-1.727611e-02</td>\n",
       "      <td>1.025272e-01</td>\n",
       "      <td>-1.992388e-02</td>\n",
       "      <td>-4.615699e-02</td>\n",
       "      <td>9.289255e-02</td>\n",
       "      <td>7.619365e-01</td>\n",
       "      <td>-3.913527e-02</td>\n",
       "      <td>-1.273470e-01</td>\n",
       "      <td>-3.731943e-02</td>\n",
       "      <td>-4.926299e-02</td>\n",
       "      <td>-3.408816e-01</td>\n",
       "      <td>2.423685e-01</td>\n",
       "      <td>-5.605808e-02</td>\n",
       "      <td>-1.368729e-02</td>\n",
       "      <td>-8.527902e-02</td>\n",
       "      <td>8.454386e-01</td>\n",
       "    </tr>\n",
       "    <tr>\n",
       "      <th>max</th>\n",
       "      <td>3.120411e+01</td>\n",
       "      <td>6.604665e+01</td>\n",
       "      <td>3.319362e+01</td>\n",
       "      <td>3.668640e+01</td>\n",
       "      <td>4.298443e+01</td>\n",
       "      <td>6.615395e+01</td>\n",
       "      <td>1.572790e+01</td>\n",
       "      <td>3.090965e+01</td>\n",
       "      <td>6.256824e+00</td>\n",
       "      <td>1.672210e+01</td>\n",
       "      <td>3.446883e+00</td>\n",
       "      <td>8.035580e+01</td>\n",
       "      <td>1.798247e+01</td>\n",
       "      <td>4.407762e+02</td>\n",
       "      <td>1.668425e+02</td>\n",
       "      <td>1.768089e+00</td>\n",
       "    </tr>\n",
       "  </tbody>\n",
       "</table>\n",
       "</div>"
      ],
      "text/plain": [
       "       species_code   wildlf_desc  specific_generic_name         genus  \\\n",
       "count  2.245050e+05  2.245050e+05           2.245050e+05  2.245050e+05   \n",
       "mean  -8.249614e-17  9.484101e-16           3.236179e-17  2.575681e-16   \n",
       "std    1.000002e+00  1.000002e+00           1.000002e+00  1.000002e+00   \n",
       "min   -2.656737e-01 -7.287425e-01          -2.841711e-01 -3.553993e-01   \n",
       "25%   -2.329431e-01 -3.815407e-01          -2.373334e-01 -2.561177e-01   \n",
       "50%   -1.547584e-01 -2.050792e-01          -1.661786e-01 -1.511417e-01   \n",
       "75%   -1.727611e-02  1.025272e-01          -1.992388e-02 -4.615699e-02   \n",
       "max    3.120411e+01  6.604665e+01           3.319362e+01  3.668640e+01   \n",
       "\n",
       "            species    wildlf_cat      ctry_org       ctry_ie          purp  \\\n",
       "count  2.245050e+05  2.245050e+05  2.245050e+05  2.245050e+05  2.245050e+05   \n",
       "mean  -6.859876e-16 -2.011917e-16 -6.902871e-16  5.538985e-16  1.141172e-16   \n",
       "std    1.000002e+00  1.000002e+00  1.000002e+00  1.000002e+00  1.000002e+00   \n",
       "min   -5.070497e-01 -1.580332e+00 -3.757645e-01 -1.270005e+00 -1.618903e+00   \n",
       "25%   -3.938127e-01 -7.413756e-01 -1.886736e-01 -4.488603e-01 -3.731943e-02   \n",
       "50%   -2.428901e-01  1.375205e-01 -3.913527e-02 -1.273470e-01 -3.731943e-02   \n",
       "75%    9.289255e-02  7.619365e-01 -3.913527e-02 -1.273470e-01 -3.731943e-02   \n",
       "max    4.298443e+01  6.615395e+01  1.572790e+01  3.090965e+01  6.256824e+00   \n",
       "\n",
       "                src    trans_mode         pt_cd           qty          unit  \\\n",
       "count  2.245050e+05  2.245050e+05  2.245050e+05  2.245050e+05  2.245050e+05   \n",
       "mean   1.962047e-16 -1.214546e-15 -6.581844e-16  1.036664e-15 -2.532172e-15   \n",
       "std    1.000002e+00  1.000002e+00  1.000002e+00  1.000002e+00  1.000002e+00   \n",
       "min   -3.864428e-01 -9.458122e-01 -7.891113e-01 -2.285216e+00 -1.412808e-02   \n",
       "25%   -1.215290e-01 -3.408816e-01 -5.002340e-01 -5.605808e-02 -1.411927e-02   \n",
       "50%   -4.926299e-02 -3.408816e-01 -2.034979e-01 -5.605808e-02 -1.408400e-02   \n",
       "75%   -4.926299e-02 -3.408816e-01  2.423685e-01 -5.605808e-02 -1.368729e-02   \n",
       "max    1.672210e+01  3.446883e+00  8.035580e+01  1.798247e+01  4.407762e+02   \n",
       "\n",
       "              value  ship_date_mm  \n",
       "count  2.245050e+05  2.245050e+05  \n",
       "mean  -3.029022e-16  7.705541e-16  \n",
       "std    1.000002e+00  1.000002e+00  \n",
       "min   -1.117612e-01 -1.614963e+00  \n",
       "25%   -1.113654e-01 -6.923122e-01  \n",
       "50%   -1.089838e-01 -7.721186e-02  \n",
       "75%   -8.527902e-02  8.454386e-01  \n",
       "max    1.668425e+02  1.768089e+00  "
      ]
     },
     "execution_count": 57,
     "metadata": {},
     "output_type": "execute_result"
    }
   ],
   "source": [
    "# checking out the transformed data\n",
    "X_train_t_df = pd.DataFrame(X_train_t, columns=X_train.columns)\n",
    "X_train_t_df.describe() \n",
    "\n",
    "#numerical shipment encoding"
   ]
  },
  {
   "cell_type": "code",
   "execution_count": 52,
   "id": "67675b71-b910-469f-8060-37317fec51cf",
   "metadata": {},
   "outputs": [],
   "source": [
    "numerical_var = ['value', 'qty']\n",
    "categorical_var = ['species_code', 'wildlf_desc', 'specific_generic_name', 'genus', 'species', 'wildlf_cat', \n",
    "                'ctry_org', 'ctry_ie','purp', 'src', 'trans_mode', 'pt_cd', 'unit']\n",
    "\n",
    "\n",
    "ct_target = make_column_transformer(\n",
    "    (TargetEncoder(), categorical_var),\n",
    "    (StandardScaler(), numerical_var),\n",
    "    remainder='passthrough')"
   ]
  },
  {
   "cell_type": "code",
   "execution_count": null,
   "id": "6f8c6900-baa1-40b0-9ad2-ad18d2468aae",
   "metadata": {},
   "outputs": [],
   "source": []
  }
 ],
 "metadata": {
  "kernelspec": {
   "display_name": "Python 3 (ipykernel)",
   "language": "python",
   "name": "python3"
  },
  "language_info": {
   "codemirror_mode": {
    "name": "ipython",
    "version": 3
   },
   "file_extension": ".py",
   "mimetype": "text/x-python",
   "name": "python",
   "nbconvert_exporter": "python",
   "pygments_lexer": "ipython3",
   "version": "3.10.4"
  }
 },
 "nbformat": 4,
 "nbformat_minor": 5
}
