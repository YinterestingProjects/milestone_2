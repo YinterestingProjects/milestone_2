{
 "cells": [
  {
   "cell_type": "markdown",
   "id": "65eba54c-61dd-4500-b137-5bbbf6d2ffe9",
   "metadata": {},
   "source": [
    "### Baseline Models Template for 2016 - 2020 Data (exports)"
   ]
  },
  {
   "cell_type": "code",
   "execution_count": 49,
   "id": "cf47ec1f-dd36-41cf-adc1-b8cd24655722",
   "metadata": {},
   "outputs": [],
   "source": [
    "import pandas as pd\n",
    "import numpy as np\n",
    "from sklearn.model_selection import train_test_split\n",
    "from sklearn.preprocessing import StandardScaler, OneHotEncoder, LabelEncoder\n",
    "from sklearn.tree import DecisionTreeClassifier\n",
    "from sklearn.ensemble import RandomForestClassifier, GradientBoostingClassifier\n",
    "from sklearn.dummy import DummyClassifier\n",
    "from sklearn.linear_model import LogisticRegression\n",
    "from sklearn.metrics import classification_report, confusion_matrix, ConfusionMatrixDisplay\n",
    "\n",
    "from sklearn.pipeline import make_pipeline\n",
    "from sklearn.compose import make_column_transformer\n",
    "from sklearn.decomposition import PCA, SparsePCA\n",
    "from sklearn.covariance import empirical_covariance\n",
    "import matplotlib.pyplot as plt\n",
    "import matplotlib.cm as cm\n",
    "from matplotlib.colors import ListedColormap, BoundaryNorm\n",
    "import matplotlib.patches as mpatches\n",
    "\n",
    "import seaborn as sns\n",
    "import joblib\n",
    "import os\n",
    "#from adspy_shared_utilities import plot_decision_tree\n",
    "from datetime import datetime"
   ]
  },
  {
   "cell_type": "code",
   "execution_count": 2,
   "id": "91f0c944-93fc-4b98-b727-5c634fd32cc5",
   "metadata": {},
   "outputs": [],
   "source": [
    "rng = 42"
   ]
  },
  {
   "cell_type": "code",
   "execution_count": 3,
   "id": "15252d07-f6f9-47bf-8fa4-d33d9663bc7e",
   "metadata": {},
   "outputs": [],
   "source": [
    "p = '../data/'\n",
    "input_name = 'cleaned.csv'\n",
    "\n",
    "df = pd.read_csv(f'{p}{input_name}')"
   ]
  },
  {
   "cell_type": "markdown",
   "id": "030d9cea-5f82-472c-8789-4cee707da730",
   "metadata": {
    "tags": []
   },
   "source": [
    "#### Preprocessing"
   ]
  },
  {
   "cell_type": "code",
   "execution_count": 4,
   "id": "f49fadea-28c9-4221-8ee5-1457bddfd692",
   "metadata": {},
   "outputs": [],
   "source": [
    "def df_filtering(df, i_e = 'I', f_cols = []):\n",
    "\n",
    "    filtered_df = df[df.i_e == i_e]\n",
    "    filtered_df = filtered_df[f_cols+['act']]\n",
    "    \n",
    "    return filtered_df"
   ]
  },
  {
   "cell_type": "code",
   "execution_count": 5,
   "id": "a02364b7-9904-44d4-8bdc-0934ee5fee78",
   "metadata": {},
   "outputs": [
    {
     "data": {
      "text/plain": [
       "Index(['control_number', 'species_code', 'genus', 'species', 'wildlf_desc',\n",
       "       'wildlf_cat', 'cartons', 'qty', 'unit', 'value', 'ctry_org', 'ctry_ie',\n",
       "       'purp', 'src', 'trans_mode', 'act', 'dp_cd', 'disp_date', 'ship_date',\n",
       "       'i_e', 'pt_cd', 'specific_generic_name', 'disp_date_yyyy',\n",
       "       'disp_date_mm', 'ship_date_yyyy', 'ship_date_mm', 'disp_ship_date'],\n",
       "      dtype='object')"
      ]
     },
     "execution_count": 5,
     "metadata": {},
     "output_type": "execute_result"
    }
   ],
   "source": [
    "df.columns"
   ]
  },
  {
   "cell_type": "code",
   "execution_count": 6,
   "id": "66ad55fe-d543-4b10-ac4d-66fb10b8aba5",
   "metadata": {},
   "outputs": [],
   "source": [
    "non_feature_cols = ['control_number', 'disp_date', 'i_e', 'ship_date', \n",
    "                    'cartons', 'qty', 'unit', 'specific_generic_name',\n",
    "                    'genus', 'species', 'wildlf_cat', \n",
    "                    'disp_date_yyyy', 'disp_date_mm', 'disp_ship_date']\n",
    "\n",
    "target = ['act', 'dp_cd']\n",
    "\n",
    "feature_cols = ['species_code', 'wildlf_desc', \n",
    "                'ctry_org', 'ctry_ie','purp', 'src', 'trans_mode', 'pt_cd', \n",
    "                 'value', 'ship_date_mm']"
   ]
  },
  {
   "cell_type": "code",
   "execution_count": 7,
   "id": "39a9e465-92ac-487f-a9df-782636d25b10",
   "metadata": {},
   "outputs": [],
   "source": [
    "#import_df = df_filtering(df, i_e = 'I', f_cols = feature_cols)\n",
    "export_df = df_filtering(df, i_e = 'E', f_cols = feature_cols)\n",
    "# import: 590505 rows × 11 columns\n",
    "# export: 299340 rows × 11 columns"
   ]
  },
  {
   "cell_type": "code",
   "execution_count": 10,
   "id": "ea48575a-4448-497f-8488-ca54c88ed2c3",
   "metadata": {},
   "outputs": [],
   "source": [
    "# set up folder to save results\n",
    "os.makedirs('export_run3_TargetEncoding')"
   ]
  },
  {
   "cell_type": "code",
   "execution_count": 23,
   "id": "7cd642fd-20fc-4507-a3a6-fa174b56da47",
   "metadata": {},
   "outputs": [],
   "source": [
    "prefix = 'export_run3_TargetEncoding/export'"
   ]
  },
  {
   "cell_type": "code",
   "execution_count": 12,
   "id": "8e4ee54e-2879-488b-948e-f7decfb4a969",
   "metadata": {},
   "outputs": [],
   "source": [
    "def data_split(df):\n",
    "    X, y = df.iloc[:,:-1], df.iloc[:,-1:]\n",
    "    y = np.where(y['act']=='R',1,0)\n",
    "    \n",
    "    X_train, X_test, y_train, y_test = train_test_split(X, y, random_state=rng, stratify=y) \n",
    "    \n",
    "    return X_train, X_test, y_train, y_test\n",
    "    "
   ]
  },
  {
   "cell_type": "code",
   "execution_count": 13,
   "id": "0f88beda-31ad-4282-80b6-397773aac7ab",
   "metadata": {},
   "outputs": [],
   "source": [
    "X_train, X_test, y_train, y_test = data_split(export_df)"
   ]
  },
  {
   "cell_type": "markdown",
   "id": "868debda-5536-413a-9761-161e589716e9",
   "metadata": {
    "tags": []
   },
   "source": [
    "#### column transformer w/ TargetEncoding"
   ]
  },
  {
   "cell_type": "code",
   "execution_count": 11,
   "id": "8c7c0713-ae39-4e0e-916f-081a278e309d",
   "metadata": {},
   "outputs": [],
   "source": [
    "from category_encoders.target_encoder import TargetEncoder"
   ]
  },
  {
   "cell_type": "code",
   "execution_count": 14,
   "id": "c573f6f9-e520-4eb5-b0e5-68adce740615",
   "metadata": {},
   "outputs": [],
   "source": [
    "categorical_var = ['species_code', 'wildlf_desc', 'ctry_org', 'ctry_ie','purp', 'src', \n",
    "                   'trans_mode', 'pt_cd']\n",
    "numerical_var = ['value']"
   ]
  },
  {
   "cell_type": "code",
   "execution_count": 15,
   "id": "58c9f75b-af98-466d-8c9f-76f48cb1f296",
   "metadata": {},
   "outputs": [
    {
     "name": "stderr",
     "output_type": "stream",
     "text": [
      "/opt/anaconda3/envs/test_env/lib/python3.10/site-packages/category_encoders/target_encoder.py:92: FutureWarning: Default parameter min_samples_leaf will change in version 2.6.See https://github.com/scikit-learn-contrib/category_encoders/issues/327\n",
      "  warnings.warn(\"Default parameter min_samples_leaf will change in version 2.6.\"\n",
      "/opt/anaconda3/envs/test_env/lib/python3.10/site-packages/category_encoders/target_encoder.py:97: FutureWarning: Default parameter smoothing will change in version 2.6.See https://github.com/scikit-learn-contrib/category_encoders/issues/327\n",
      "  warnings.warn(\"Default parameter smoothing will change in version 2.6.\"\n"
     ]
    }
   ],
   "source": [
    "ct_target = make_column_transformer(\n",
    "    (StandardScaler(), numerical_var),\n",
    "    (TargetEncoder(), categorical_var),\n",
    "    remainder='passthrough')\n",
    "le = LabelEncoder()"
   ]
  },
  {
   "cell_type": "code",
   "execution_count": 20,
   "id": "0f6f071f-a66b-47a8-ad24-44e2876d86e6",
   "metadata": {},
   "outputs": [
    {
     "name": "stderr",
     "output_type": "stream",
     "text": [
      "/opt/anaconda3/envs/test_env/lib/python3.10/site-packages/category_encoders/target_encoder.py:92: FutureWarning: Default parameter min_samples_leaf will change in version 2.6.See https://github.com/scikit-learn-contrib/category_encoders/issues/327\n",
      "  warnings.warn(\"Default parameter min_samples_leaf will change in version 2.6.\"\n",
      "/opt/anaconda3/envs/test_env/lib/python3.10/site-packages/category_encoders/target_encoder.py:97: FutureWarning: Default parameter smoothing will change in version 2.6.See https://github.com/scikit-learn-contrib/category_encoders/issues/327\n",
      "  warnings.warn(\"Default parameter smoothing will change in version 2.6.\"\n"
     ]
    },
    {
     "data": {
      "text/plain": [
       "['X_test_tragetEncoding.joblib']"
      ]
     },
     "execution_count": 20,
     "metadata": {},
     "output_type": "execute_result"
    }
   ],
   "source": [
    "X_train = ct_target.fit_transform(X_train, y_train)\n",
    "joblib.dump(X_train, 'X_train_tragetEncoding.joblib')\n",
    "\n",
    "X_test = ct_target.transform(X_test)\n",
    "joblib.dump(X_test, 'X_test_tragetEncoding.joblib')\n",
    "# Found unknown categories \n"
   ]
  },
  {
   "cell_type": "markdown",
   "id": "38712ba7-e296-4a1b-a3bc-77920c6115d7",
   "metadata": {
    "tags": []
   },
   "source": [
    "#### Dummy Classifers"
   ]
  },
  {
   "cell_type": "code",
   "execution_count": 21,
   "id": "457ca9a8-2623-42bf-8610-b129f927217d",
   "metadata": {},
   "outputs": [
    {
     "name": "stdout",
     "output_type": "stream",
     "text": [
      "model run time: 0:00:00.016193\n"
     ]
    }
   ],
   "source": [
    "start = datetime.now()\n",
    "dummy_majority = DummyClassifier(strategy = 'most_frequent').fit(X_train, y_train)\n",
    "end = datetime.now()\n",
    "print(f'model run time: {end - start}')\n",
    "\n",
    "# dummy_majority.score(X_test, y_test)\n",
    "dummy_predicted = dummy_majority.predict(X_test)"
   ]
  },
  {
   "cell_type": "code",
   "execution_count": 24,
   "id": "60285ed2-962a-4016-90ad-9a1a2e218853",
   "metadata": {},
   "outputs": [
    {
     "data": {
      "text/plain": [
       "['export_run3_TargetEncoding/export_dummy_majority_clf.joblib']"
      ]
     },
     "execution_count": 24,
     "metadata": {},
     "output_type": "execute_result"
    }
   ],
   "source": [
    "joblib.dump(dummy_majority, f'{prefix}_dummy_majority_clf.joblib')"
   ]
  },
  {
   "cell_type": "markdown",
   "id": "7726cbe7-fb99-4902-8ac8-b7ed33b200db",
   "metadata": {
    "tags": []
   },
   "source": [
    "#### Logistic Regression"
   ]
  },
  {
   "cell_type": "code",
   "execution_count": 56,
   "id": "1272a83e-5b37-40d6-9b89-893bdd465b67",
   "metadata": {},
   "outputs": [
    {
     "name": "stdout",
     "output_type": "stream",
     "text": [
      "model run time: 0:00:00.739921\n",
      "Logistic regression classifier (default settings)\n",
      " [[   75   568]\n",
      " [   30 74162]]\n"
     ]
    },
    {
     "name": "stderr",
     "output_type": "stream",
     "text": [
      "/opt/anaconda3/envs/test_env/lib/python3.10/site-packages/sklearn/linear_model/_logistic.py:444: ConvergenceWarning: lbfgs failed to converge (status=1):\n",
      "STOP: TOTAL NO. of ITERATIONS REACHED LIMIT.\n",
      "\n",
      "Increase the number of iterations (max_iter) or scale the data as shown in:\n",
      "    https://scikit-learn.org/stable/modules/preprocessing.html\n",
      "Please also refer to the documentation for alternative solver options:\n",
      "    https://scikit-learn.org/stable/modules/linear_model.html#logistic-regression\n",
      "  n_iter_i = _check_optimize_result(\n"
     ]
    },
    {
     "data": {
      "text/plain": [
       "<sklearn.metrics._plot.confusion_matrix.ConfusionMatrixDisplay at 0x7f7920b9a260>"
      ]
     },
     "execution_count": 56,
     "metadata": {},
     "output_type": "execute_result"
    },
    {
     "data": {
      "image/png": "[encoded data removed]",
      "text/plain": [
       "<Figure size 432x288 with 2 Axes>"
      ]
     },
     "metadata": {
      "needs_background": "light"
     },
     "output_type": "display_data"
    }
   ],
   "source": [
    "start = datetime.now()\n",
    "lr = LogisticRegression(random_state=rng).fit(X_train, y_train)\n",
    "end = datetime.now()\n",
    "print(f'model run time: {end - start}')\n",
    "\n",
    "lr_predicted = lr.predict(X_test)\n",
    "confusion = confusion_matrix(y_test, lr_predicted, labels = [1,0])\n",
    "print('Logistic regression classifier (default settings)\\n', confusion)\n",
    "cm_display = ConfusionMatrixDisplay(confusion, display_labels=[1,0])\n",
    "cm_display.plot()"
   ]
  },
  {
   "cell_type": "code",
   "execution_count": 26,
   "id": "bdf2888c-6c3a-4e51-a7e2-b881628458f7",
   "metadata": {},
   "outputs": [
    {
     "name": "stdout",
     "output_type": "stream",
     "text": [
      "model run time: 0:00:01.010160\n",
      "Logistic regression classifier (balanced)\n",
      " [[67745  6447]\n",
      " [  295   348]]\n"
     ]
    },
    {
     "name": "stderr",
     "output_type": "stream",
     "text": [
      "/opt/anaconda3/envs/test_env/lib/python3.10/site-packages/sklearn/linear_model/_logistic.py:444: ConvergenceWarning: lbfgs failed to converge (status=1):\n",
      "STOP: TOTAL NO. of ITERATIONS REACHED LIMIT.\n",
      "\n",
      "Increase the number of iterations (max_iter) or scale the data as shown in:\n",
      "    https://scikit-learn.org/stable/modules/preprocessing.html\n",
      "Please also refer to the documentation for alternative solver options:\n",
      "    https://scikit-learn.org/stable/modules/linear_model.html#logistic-regression\n",
      "  n_iter_i = _check_optimize_result(\n"
     ]
    }
   ],
   "source": [
    "start = datetime.now()\n",
    "lr_balanced = LogisticRegression(random_state=rng, class_weight='balanced').fit(X_train, y_train)\n",
    "end = datetime.now()\n",
    "print(f'model run time: {end - start}')\n",
    "\n",
    "lr_balanced_predicted = lr_balanced.predict(X_test)\n",
    "confusion = confusion_matrix(y_test, lr_balanced_predicted)\n",
    "print('Logistic regression classifier (balanced)\\n', confusion)"
   ]
  },
  {
   "cell_type": "code",
   "execution_count": 27,
   "id": "d3dff4f3-de64-42bb-94c1-93e5f66ebd4f",
   "metadata": {},
   "outputs": [
    {
     "data": {
      "text/plain": [
       "['export_run3_TargetEncoding/export_lr_balanced_clf.joblib']"
      ]
     },
     "execution_count": 27,
     "metadata": {},
     "output_type": "execute_result"
    }
   ],
   "source": [
    "joblib.dump(lr, f'{prefix}_lr_clf.joblib')\n",
    "joblib.dump(lr_balanced, f'{prefix}_lr_balanced_clf.joblib')"
   ]
  },
  {
   "cell_type": "markdown",
   "id": "7adb248b-2822-40e0-b157-4407ee314cfd",
   "metadata": {
    "tags": []
   },
   "source": [
    "#### Decision Tree"
   ]
  },
  {
   "cell_type": "code",
   "execution_count": 28,
   "id": "88cfaff7-0061-45af-90e7-60d55a592e61",
   "metadata": {},
   "outputs": [
    {
     "name": "stdout",
     "output_type": "stream",
     "text": [
      "model run time: 0:00:00.786365\n"
     ]
    }
   ],
   "source": [
    "start = datetime.now()\n",
    "decision_tree_clf = DecisionTreeClassifier(random_state=rng).fit(X_train, y_train)\n",
    "end = datetime.now()\n",
    "print(f'model run time: {end - start}')"
   ]
  },
  {
   "cell_type": "code",
   "execution_count": 29,
   "id": "ac5c1593-221d-445a-81de-63527f4ef804",
   "metadata": {},
   "outputs": [
    {
     "name": "stdout",
     "output_type": "stream",
     "text": [
      "Logistic regression classifier (balanced)\n",
      " [[73846   346]\n",
      " [  353   290]]\n"
     ]
    }
   ],
   "source": [
    "tree_predicted = decision_tree_clf.predict(X_test)\n",
    "confusion = confusion_matrix(y_test, tree_predicted)\n",
    "print('Logistic regression classifier (balanced)\\n', confusion)"
   ]
  },
  {
   "cell_type": "code",
   "execution_count": 48,
   "id": "07ae33aa-bf0b-4ca7-ac4d-58e999f59cc1",
   "metadata": {},
   "outputs": [
    {
     "data": {
      "image/png": "[encoded data removed]",
      "text/plain": [
       "<Figure size 800x320 with 1 Axes>"
      ]
     },
     "metadata": {
      "needs_background": "light"
     },
     "output_type": "display_data"
    },
    {
     "name": "stdout",
     "output_type": "stream",
     "text": [
      "Feature importances: [0.1034151  0.09471394 0.12736673 0.04938061 0.02818066 0.081759\n",
      " 0.05633878 0.06116747 0.18996441 0.20771333]\n"
     ]
    }
   ],
   "source": [
    "from adspy_shared_utilities import plot_feature_importances\n",
    "\n",
    "plt.figure(figsize=(10,4), dpi=80)\n",
    "plot_feature_importances(decision_tree_clf, feature_cols)\n",
    "plt.show()\n",
    "\n",
    "print('Feature importances: {}'.format(decision_tree_clf.feature_importances_[::-1]))"
   ]
  },
  {
   "cell_type": "code",
   "execution_count": 30,
   "id": "64ef3d8a-d872-4af6-a88a-539600e89ea8",
   "metadata": {},
   "outputs": [
    {
     "data": {
      "text/plain": [
       "['export_run3_TargetEncoding/export_decision_tree_clf.joblib']"
      ]
     },
     "execution_count": 30,
     "metadata": {},
     "output_type": "execute_result"
    }
   ],
   "source": [
    "joblib.dump(decision_tree_clf, f'{prefix}_decision_tree_clf.joblib')"
   ]
  },
  {
   "cell_type": "markdown",
   "id": "2c9a906b-06d1-4472-9902-f8c24ef8d282",
   "metadata": {
    "tags": []
   },
   "source": [
    "#### Random Forest"
   ]
  },
  {
   "cell_type": "code",
   "execution_count": 31,
   "id": "b20ae03b-c2c4-49d6-9ba4-ef2e6702cb78",
   "metadata": {},
   "outputs": [
    {
     "name": "stdout",
     "output_type": "stream",
     "text": [
      "model run time: 0:00:18.235343\n"
     ]
    }
   ],
   "source": [
    "start = datetime.now()\n",
    "rf_clf = RandomForestClassifier(random_state=rng).fit(X_train, y_train)\n",
    "end = datetime.now()\n",
    "print(f'model run time: {end - start}')"
   ]
  },
  {
   "cell_type": "code",
   "execution_count": 32,
   "id": "f553addd-7e72-4e25-adce-87cf5d655398",
   "metadata": {},
   "outputs": [
    {
     "name": "stdout",
     "output_type": "stream",
     "text": [
      "Logistic regression classifier (balanced)\n",
      " [[74105    87]\n",
      " [  376   267]]\n"
     ]
    }
   ],
   "source": [
    "rf_predicted = rf_clf.predict(X_test)\n",
    "confusion = confusion_matrix(y_test, rf_predicted)\n",
    "print('Logistic regression classifier (balanced)\\n', confusion)"
   ]
  },
  {
   "cell_type": "code",
   "execution_count": 33,
   "id": "4c7470c8-08ff-44da-bac6-a28e3efdb6cf",
   "metadata": {},
   "outputs": [
    {
     "data": {
      "text/plain": [
       "['export_run3_TargetEncoding/export_rf_clf.joblib']"
      ]
     },
     "execution_count": 33,
     "metadata": {},
     "output_type": "execute_result"
    }
   ],
   "source": [
    "joblib.dump(rf_clf, f'{prefix}_rf_clf.joblib')"
   ]
  },
  {
   "cell_type": "code",
   "execution_count": 47,
   "id": "2f657c2f-223a-4ec2-b6b3-5187d13552b4",
   "metadata": {},
   "outputs": [
    {
     "data": {
      "image/png": "[encoded data removed]",
      "text/plain": [
       "<Figure size 800x320 with 1 Axes>"
      ]
     },
     "metadata": {
      "needs_background": "light"
     },
     "output_type": "display_data"
    },
    {
     "name": "stdout",
     "output_type": "stream",
     "text": [
      "Feature importances: [0.09635666 0.09526445 0.06666391 0.06341149 0.03632125 0.08788921\n",
      " 0.10143157 0.06837879 0.18115329 0.20312939]\n"
     ]
    }
   ],
   "source": [
    "plt.figure(figsize=(10,4), dpi=80)\n",
    "plot_feature_importances(rf_clf, feature_cols)\n",
    "plt.show()\n",
    "\n",
    "print('Feature importances: {}'.format(rf_clf.feature_importances_[::-1]))"
   ]
  },
  {
   "cell_type": "markdown",
   "id": "4c2771bf-e988-45d9-aa1f-4c6bc760cb47",
   "metadata": {
    "tags": []
   },
   "source": [
    "#### Model Evaluation"
   ]
  },
  {
   "cell_type": "code",
   "execution_count": 38,
   "id": "8f99bb64-ca49-460f-84a8-3afffcd8ccd7",
   "metadata": {},
   "outputs": [
    {
     "name": "stderr",
     "output_type": "stream",
     "text": [
      "/opt/anaconda3/envs/test_env/lib/python3.10/site-packages/sklearn/metrics/_classification.py:1327: UndefinedMetricWarning: Precision and F-score are ill-defined and being set to 0.0 in labels with no predicted samples. Use `zero_division` parameter to control this behavior.\n",
      "  _warn_prf(average, modifier, msg_start, len(result))\n",
      "/opt/anaconda3/envs/test_env/lib/python3.10/site-packages/sklearn/metrics/_classification.py:1327: UndefinedMetricWarning: Precision and F-score are ill-defined and being set to 0.0 in labels with no predicted samples. Use `zero_division` parameter to control this behavior.\n",
      "  _warn_prf(average, modifier, msg_start, len(result))\n",
      "/opt/anaconda3/envs/test_env/lib/python3.10/site-packages/sklearn/metrics/_classification.py:1327: UndefinedMetricWarning: Precision and F-score are ill-defined and being set to 0.0 in labels with no predicted samples. Use `zero_division` parameter to control this behavior.\n",
      "  _warn_prf(average, modifier, msg_start, len(result))\n"
     ]
    },
    {
     "name": "stdout",
     "output_type": "stream",
     "text": [
      "Most frequent class (dummy classifier) \n",
      "               precision    recall  f1-score   support\n",
      "\n",
      "       clear       0.99      1.00      1.00     74192\n",
      "      seized       0.00      0.00      0.00       643\n",
      "\n",
      "    accuracy                           0.99     74835\n",
      "   macro avg       0.50      0.50      0.50     74835\n",
      "weighted avg       0.98      0.99      0.99     74835\n",
      "\n",
      "Logistic Regression \n",
      "               precision    recall  f1-score   support\n",
      "\n",
      "       clear       0.99      1.00      1.00     74192\n",
      "      seized       0.71      0.12      0.20       643\n",
      "\n",
      "    accuracy                           0.99     74835\n",
      "   macro avg       0.85      0.56      0.60     74835\n",
      "weighted avg       0.99      0.99      0.99     74835\n",
      "\n",
      "Logistic Regression (balanced) \n",
      "               precision    recall  f1-score   support\n",
      "\n",
      "       clear       1.00      0.91      0.95     74192\n",
      "      seized       0.05      0.54      0.09       643\n",
      "\n",
      "    accuracy                           0.91     74835\n",
      "   macro avg       0.52      0.73      0.52     74835\n",
      "weighted avg       0.99      0.91      0.95     74835\n",
      "\n",
      "Decision Tree \n",
      "               precision    recall  f1-score   support\n",
      "\n",
      "       clear       1.00      1.00      1.00     74192\n",
      "      seized       0.46      0.45      0.45       643\n",
      "\n",
      "    accuracy                           0.99     74835\n",
      "   macro avg       0.73      0.72      0.72     74835\n",
      "weighted avg       0.99      0.99      0.99     74835\n",
      "\n",
      "Random Forest \n",
      "               precision    recall  f1-score   support\n",
      "\n",
      "       clear       0.99      1.00      1.00     74192\n",
      "      seized       0.75      0.42      0.54       643\n",
      "\n",
      "    accuracy                           0.99     74835\n",
      "   macro avg       0.87      0.71      0.77     74835\n",
      "weighted avg       0.99      0.99      0.99     74835\n",
      "\n"
     ]
    }
   ],
   "source": [
    "print('Most frequent class (dummy classifier) \\n', \n",
    "      classification_report(y_test, dummy_predicted, target_names=['clear', 'seized']))\n",
    "print('Logistic Regression \\n', \n",
    "      classification_report(y_test, lr_predicted, target_names=['clear', 'seized']))\n",
    "print('Logistic Regression (balanced) \\n', \n",
    "      classification_report(y_test, lr_balanced_predicted, target_names=['clear', 'seized']))\n",
    "print('Decision Tree \\n', \n",
    "      classification_report(y_test, tree_predicted, target_names=['clear', 'seized']))\n",
    "print('Random Forest \\n', \n",
    "      classification_report(y_test, rf_predicted, target_names=['clear', 'seized']))"
   ]
  },
  {
   "cell_type": "code",
   "execution_count": 35,
   "id": "7cba6c51-8605-446b-a92b-7c378d9ee6c0",
   "metadata": {},
   "outputs": [],
   "source": [
    "# Accuracy = TP + TN / (TP + TN + FP + FN)\n",
    "# Precision = TP / (TP + FP)\n",
    "# Recall = TP / (TP + FN)  Also known as sensitivity, or True Positive Rate\n",
    "# F1 = 2 * Precision * Recall / (Precision + Recall) "
   ]
  },
  {
   "cell_type": "markdown",
   "id": "a3269c23-50f6-4f43-bc33-52b8322a4886",
   "metadata": {
    "tags": []
   },
   "source": [
    "#### PCA"
   ]
  },
  {
   "cell_type": "code",
   "execution_count": null,
   "id": "d44cd535-1cb2-4cbc-b929-247658cb0597",
   "metadata": {},
   "outputs": [],
   "source": [
    "def plot_labelled_scatter(X, y, class_labels):\n",
    "    num_labels = len(class_labels)\n",
    "\n",
    "    x_min, x_max = X[:, 0].min() - 1, X[:, 0].max() + 1\n",
    "    y_min, y_max = X[:, 1].min() - 1, X[:, 1].max() + 1\n",
    "\n",
    "    marker_array = ['o', '^', '*']\n",
    "    color_array = ['#FFFF00', '#00AAFF', '#000000', '#FF00AA']\n",
    "    cmap_bold = ListedColormap(color_array)\n",
    "    bnorm = BoundaryNorm(np.arange(0, num_labels + 1, 1), ncolors=num_labels)\n",
    "    plt.figure()\n",
    "\n",
    "    plt.scatter(X[:, 0], X[:, 1], s=65, c=y, cmap=cmap_bold, norm = bnorm, alpha = 0.40, edgecolor='black', lw = 1)\n",
    "\n",
    "    plt.xlim(x_min, x_max)\n",
    "    plt.ylim(y_min, y_max)\n",
    "\n",
    "    h = []\n",
    "    for c in range(0, num_labels):\n",
    "        h.append(mpatches.Patch(color=color_array[c], label=class_labels[c]))\n",
    "    plt.legend(handles=h)\n",
    "\n",
    "    plt.show()\n",
    "    \n",
    "def plot_pca(pca, f_names, top_k = 10):\n",
    "    fig, ax = plt.subplots(figsize=(10, 6))\n",
    "    plt.imshow(pca.components_[0:top_k], interpolation = 'none', cmap = 'plasma')\n",
    "    feature_names=f_names\n",
    "    plt.xticks(np.arange(-0., len(feature_names), 1) , feature_names, rotation = 90, fontsize=12)\n",
    "    plt.yticks(np.arange(0., 2, 1), ['First PC', 'Second PC'], fontsize = 16)\n",
    "    plt.colorbar()"
   ]
  },
  {
   "cell_type": "code",
   "execution_count": null,
   "id": "09c61aab-acbe-449f-8ffe-05742f89b9a5",
   "metadata": {},
   "outputs": [],
   "source": [
    "ct.named_transformers_\n",
    "transformed_features = ct.named_transformers_['onehotencoder'].get_feature_names_out()"
   ]
  },
  {
   "cell_type": "code",
   "execution_count": null,
   "id": "cd88b0e6-af6f-476c-95f1-1f4a6a8b1e04",
   "metadata": {},
   "outputs": [],
   "source": [
    "pca = PCA(n_components=2, random_state=rng)\n",
    "X_train_pca = pca.fit_transform(X_train_t.toarray())\n",
    "print(X_train_t.shape, X_train_pca.shape)"
   ]
  },
  {
   "cell_type": "code",
   "execution_count": null,
   "id": "51b28b80-7075-45ea-b996-ace5d212c5fd",
   "metadata": {},
   "outputs": [],
   "source": [
    "joblib.dump(X_train_pca, f'{prefix}_X_train_pca.joblib')"
   ]
  },
  {
   "cell_type": "code",
   "execution_count": null,
   "id": "139e9787-f451-4d26-96b5-06345f51c93e",
   "metadata": {},
   "outputs": [],
   "source": [
    "sns.heatmap(empirical_covariance(X_train_pca))"
   ]
  },
  {
   "cell_type": "code",
   "execution_count": null,
   "id": "6df22e05-2a58-4da0-a12e-7295a6efac95",
   "metadata": {},
   "outputs": [],
   "source": [
    "plot_labelled_scatter(X_train_pca, y_train_t, ['clear', 'seized'])"
   ]
  },
  {
   "cell_type": "code",
   "execution_count": null,
   "id": "c77d5d2a-137d-4ca0-94e8-ad1ff461b597",
   "metadata": {},
   "outputs": [],
   "source": [
    "plot_pca(pca, transformed_features)"
   ]
  },
  {
   "cell_type": "code",
   "execution_count": null,
   "id": "e03c25ba-0c3b-4c44-9e62-be6c09623602",
   "metadata": {},
   "outputs": [],
   "source": [
    "pca_sparse = SparsePCA(n_components=2, random_state=rng)\n",
    "X_train_pca_sparse = pca_sparse.fit_transform(X_train_t.toarray())"
   ]
  },
  {
   "cell_type": "code",
   "execution_count": null,
   "id": "6f52ad4f-ff84-4c31-911d-da43961e92c1",
   "metadata": {},
   "outputs": [],
   "source": [
    "joblib.dump(X_train_pca_sparse, f'{prefix}_X_train_pca_sparse.joblib')"
   ]
  },
  {
   "cell_type": "code",
   "execution_count": null,
   "id": "7ddfe907-e038-4640-9976-51df722a5a79",
   "metadata": {},
   "outputs": [],
   "source": [
    "sns.heatmap(empirical_covariance(X_train_pca_sparse))"
   ]
  },
  {
   "cell_type": "code",
   "execution_count": null,
   "id": "23bdd56a-74db-46b0-87df-16e1ef1ef90b",
   "metadata": {},
   "outputs": [],
   "source": [
    "plot_pca(pca_sparse, transformed_features)"
   ]
  }
 ],
 "metadata": {
  "kernelspec": {
   "display_name": "Python 3 (ipykernel)",
   "language": "python",
   "name": "python3"
  },
  "language_info": {
   "codemirror_mode": {
    "name": "ipython",
    "version": 3
   },
   "file_extension": ".py",
   "mimetype": "text/x-python",
   "name": "python",
   "nbconvert_exporter": "python",
   "pygments_lexer": "ipython3",
   "version": "3.8.13"
  }
 },
 "nbformat": 4,
 "nbformat_minor": 5
}
