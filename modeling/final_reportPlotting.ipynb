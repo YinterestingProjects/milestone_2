{
 "cells": [
  {
   "cell_type": "markdown",
   "source": [
    "# Various Plots For Final Report"
   ],
   "metadata": {
    "collapsed": false,
    "pycharm": {
     "name": "#%% md\n"
    }
   }
  },
  {
   "cell_type": "markdown",
   "source": [
    "## Setup"
   ],
   "metadata": {
    "collapsed": false,
    "pycharm": {
     "name": "#%% md\n"
    }
   }
  },
  {
   "cell_type": "code",
   "execution_count": null,
   "outputs": [],
   "source": [
    "# imports\n",
    "\n",
    "import pandas as pd\n",
    "import numpy as np\n",
    "import seaborn as sns\n",
    "import modelinghelper as helper\n",
    "import imblearn\n",
    "from sklearn.tree import DecisionTreeClassifier\n",
    "from sklearn.ensemble import RandomForestClassifier, GradientBoostingClassifier\n",
    "from sklearn.dummy import DummyClassifier\n",
    "from sklearn.linear_model import LogisticRegression\n",
    "from sklearn.metrics import classification_report, confusion_matrix, ConfusionMatrixDisplay, f1_score, recall_score\n",
    "from adspy_shared_utilities import plot_feature_importances\n",
    "#from adspy_shared_utilities import plot_decision_tree\n",
    "import lightgbm\n",
    "\n",
    "import joblib\n",
    "import os\n",
    "from datetime import datetime\n",
    "\n",
    "# supress future warnings\n",
    "import warnings\n",
    "warnings.filterwarnings(action='ignore', category=FutureWarning)\n",
    "warnings.filterwarnings(action='ignore', category=UserWarning)\n",
    "from adspy_shared_utilities import plot_feature_importances\n",
    "from adspy_shared_utilities import plot_decision_tree\n",
    "import matplotlib.pyplot as plt\n",
    "import joblib"
   ],
   "metadata": {
    "collapsed": false,
    "pycharm": {
     "name": "#%%\n"
    }
   }
  },
  {
   "cell_type": "code",
   "execution_count": null,
   "outputs": [],
   "source": [
    "#set up random seed\n",
    "rng = 42"
   ],
   "metadata": {
    "collapsed": false,
    "pycharm": {
     "name": "#%%\n"
    }
   }
  },
  {
   "cell_type": "code",
   "execution_count": null,
   "outputs": [],
   "source": [
    "# bring in data and setup for test data\n",
    "p = '../data/'\n",
    "input_name = 'cleaned.csv'\n",
    "df = pd.read_csv(f'{p}{input_name}')\n",
    "# convert month to string\n",
    "df['ship_date_mm'] = df['ship_date_mm'].astype(str)\n",
    "\n",
    "non_feature_cols = ['control_number', 'disp_date', 'i_e', 'ship_date',\n",
    "                    'cartons', 'qty', 'unit', 'specific_generic_name',\n",
    "                    'genus', 'species', 'wildlf_cat',\n",
    "                    'disp_date_yyyy', 'disp_date_mm', 'disp_ship_date']\n",
    "\n",
    "target = ['act', 'dp_cd']\n",
    "\n",
    "feature_cols = ['species_code', 'wildlf_desc', 'wildlf_cat',\n",
    "                'ctry_org', 'ctry_ie', 'purp', 'src', 'trans_mode', 'pt_cd',\n",
    "                'value', 'ship_date_mm']\n",
    "\n",
    "import_df = helper.df_filtering(df, i_e='I', f_cols=feature_cols)\n",
    "export_df = helper.df_filtering(df, i_e='E', f_cols=feature_cols)\n",
    "import_X_train, import_X_test, import_y_train, import_y_test = helper.data_split(import_df)\n",
    "export_X_train, export_X_test, export_y_train, export_y_test = helper.data_split(export_df)"
   ],
   "metadata": {
    "collapsed": false,
    "pycharm": {
     "name": "#%%\n"
    }
   }
  },
  {
   "cell_type": "code",
   "execution_count": null,
   "outputs": [],
   "source": [
    "# read in the joblibs\n",
    "path = \"gridsearch_all_models\"\n",
    "# logistic regression\n",
    "export_lr_pipe = joblib.load(f'{path}/export_lr_pipe.joblib')\n",
    "export_smote_lr_pipe = joblib.load(f'{path}/export_SMOTE_lr_pipe.joblib')\n",
    "import_lr_pipe = joblib.load(f'{path}/import_lr_pipe.joblib')\n",
    "import_smote_lr_pipe = joblib.load(f'{path}/export_SMOTE_lr_pipe.joblib')\n",
    "# decision tree\n",
    "export_dt_pipe = joblib.load(f'{path}/export_dt_pipe.joblib')\n",
    "export_smote_dt_pipe = joblib.load(f'{path}/export_SMOTE_dt_pipe.joblib')\n",
    "import_dt_pipe = joblib.load(f'{path}/import_dt_pipe.joblib')\n",
    "import_smote_dt_pipe = joblib.load(f'{path}/import_SMOTE_dt_pipe.joblib')\n",
    "# random forest\n",
    "export_rf_pipe = joblib.load(f'{path}/export_rf_pipe.joblib')\n",
    "export_smote_rf_pipe = joblib.load(f'{path}/export_SMOTE_rf_pipe.joblib')\n",
    "import_rf_pipe = joblib.load(f'{path}/import_rf_pipe.joblib')\n",
    "import_smote_rf_pipe = joblib.load(f'{path}/import_SMOTE_rf_pipe.joblib')\n",
    "# lgbm\n",
    "export_lgbm_pipe = joblib.load(f'{path}/lgbm_export.joblib')\n",
    "export_smote_lgbm_pipe = joblib.load(f'{path}/lgbm_export_SMOTE.joblib')\n",
    "import_lgbm_pipe = joblib.load(f'{path}/lgbm_pipe_import.joblib')\n",
    "import_smote_lgbm_pipe = joblib.load(f'{path}/lgbm_import_SMOTE.joblib')"
   ],
   "metadata": {
    "collapsed": false,
    "pycharm": {
     "name": "#%%\n"
    }
   }
  },
  {
   "cell_type": "code",
   "execution_count": null,
   "outputs": [],
   "source": [
    "# smote testing\n"
   ],
   "metadata": {
    "collapsed": false,
    "pycharm": {
     "name": "#%%\n"
    }
   }
  },
  {
   "cell_type": "code",
   "execution_count": null,
   "outputs": [],
   "source": [
    "def plot_feature_importances_lgbm(clf, feature_names):\n",
    "    c_features = len(feature_names)\n",
    "    plt.barh(range(c_features), (clf.feature_importances_)/sum(clf.feature_importances_))\n",
    "    plt.xlabel(\"Feature importance\")\n",
    "    plt.ylabel(\"Feature name\")\n",
    "    plt.xlim(0,1)\n",
    "    plt.yticks(np.arange(c_features), feature_names)"
   ],
   "metadata": {
    "collapsed": false,
    "pycharm": {
     "name": "#%%\n"
    }
   }
  },
  {
   "cell_type": "code",
   "execution_count": null,
   "outputs": [],
   "source": [
    "model_names = ['Logistic Regression', 'Logistic Regression (SMOTE)',\n",
    "               'Decision Tree', 'Decision Tree (SMOTE)',\n",
    "               'Random Forest', 'Random Forest (SMOTE)',\n",
    "               'LightGBM', 'LightGBM (SMOTE)']\n",
    "\n",
    "ex_lst = [export_lr_pipe, export_smote_lr_pipe, \n",
    "              export_dt_pipe, export_smote_dt_pipe, \n",
    "              export_rf_pipe, export_smote_rf_pipe, \n",
    "              export_lgbm_pipe, export_smote_lgbm_pipe]\n",
    "im_lst = [import_lr_pipe, import_smote_lr_pipe,\n",
    "         import_dt_pipe, import_smote_dt_pipe,\n",
    "         import_rf_pipe, import_smote_rf_pipe,\n",
    "         import_lgbm_pipe, import_smote_lgbm_pipe]"
   ],
   "metadata": {
    "collapsed": false,
    "pycharm": {
     "name": "#%%\n"
    }
   }
  },
  {
   "cell_type": "markdown",
   "source": [
    "## Confusion Matrix Plots (Export)"
   ],
   "metadata": {
    "collapsed": false,
    "pycharm": {
     "name": "#%% md\n"
    }
   }
  },
  {
   "cell_type": "code",
   "execution_count": null,
   "outputs": [],
   "source": [
    "plt.figure(figsize=(8,12))\n",
    "plt.subplots_adjust(hspace=0.75)\n",
    "#plt.suptitle(\"Export Models Confusion Matrix\", fontsize=20, x=.55)\n",
    "\n",
    "\n",
    "# export\n",
    "for idx, m in enumerate(ex_lst):\n",
    "    # add subplot\n",
    "    ax = plt.subplot(4,2, idx+1)\n",
    "    # predict and create confusion matrix\n",
    "    export_pred = m.predict(export_X_test)\n",
    "    confusion = confusion_matrix(export_y_test, export_pred, labels = [1,0])\n",
    "    ConfusionMatrixDisplay(confusion, display_labels=[1,0]).plot(ax=ax)\n",
    "    # change labels\n",
    "    ax.set_title(model_names[idx])\n",
    "    \n",
    "    "
   ],
   "metadata": {
    "collapsed": false,
    "pycharm": {
     "name": "#%%\n"
    }
   }
  },
  {
   "cell_type": "markdown",
   "source": [
    "## Confusion Matrix Plots (Import)"
   ],
   "metadata": {
    "collapsed": false,
    "pycharm": {
     "name": "#%% md\n"
    }
   }
  },
  {
   "cell_type": "code",
   "execution_count": null,
   "outputs": [],
   "source": [
    "plt.figure(figsize=(8,12))\n",
    "plt.subplots_adjust(hspace=0.75)\n",
    "#plt.suptitle(\"Import Models Confusion Matrix\", fontsize=20, x=.55)\n",
    "\n",
    "\n",
    "# export\n",
    "for idx, m in enumerate(im_lst):\n",
    "    # add subplot\n",
    "    ax = plt.subplot(4,2, idx+1)\n",
    "    # predict and create confusion matrix\n",
    "    import_pred = m.predict(import_X_test)\n",
    "    confusion = confusion_matrix(import_y_test, import_pred, labels = [1,0])\n",
    "    ConfusionMatrixDisplay(confusion, display_labels=[1,0]).plot(ax=ax)\n",
    "    # change labels\n",
    "    ax.set_title(model_names[idx])"
   ],
   "metadata": {
    "collapsed": false,
    "pycharm": {
     "name": "#%%\n"
    }
   }
  },
  {
   "cell_type": "markdown",
   "source": [
    "## Feature Importance Export"
   ],
   "metadata": {
    "collapsed": false,
    "pycharm": {
     "name": "#%% md\n"
    }
   }
  },
  {
   "cell_type": "code",
   "execution_count": null,
   "outputs": [],
   "source": [
    "ex_lst_noreg = [export_dt_pipe, export_smote_dt_pipe, \n",
    "              export_rf_pipe, export_smote_rf_pipe, \n",
    "              export_lgbm_pipe, export_smote_lgbm_pipe]\n",
    "im_lst_noreg = [import_dt_pipe, import_smote_dt_pipe,\n",
    "             import_rf_pipe, import_smote_rf_pipe,\n",
    "             import_lgbm_pipe, import_smote_lgbm_pipe]\n",
    "\n",
    "model_names_noreg = [\n",
    "               'Decision Tree', 'Decision Tree (SMOTE)',\n",
    "               'Random Forest', 'Random Forest (SMOTE)',\n",
    "               'LightGBM', 'LightGBM (SMOTE)']"
   ],
   "metadata": {
    "collapsed": false,
    "pycharm": {
     "name": "#%%\n"
    }
   }
  },
  {
   "cell_type": "code",
   "execution_count": null,
   "outputs": [],
   "source": [
    "plt.figure(figsize=(10,12))\n",
    "plt.subplots_adjust(hspace=0.5,wspace = .75)\n",
    "#plt.suptitle(\"Export Models\", fontsize=20, x=.5)\n",
    "\n",
    "\n",
    "# export\n",
    "for idx, m in enumerate(ex_lst_noreg):\n",
    "    # add subplot\n",
    "    ax = plt.subplot(3,2, idx+1)\n",
    "    # predict and create confusion matrix\n",
    "    plot_feature_importances_lgbm(m.best_estimator_.named_steps['clf'], feature_cols)\n",
    "    # change labels\n",
    "    ax.set_title(model_names_noreg[idx])\n",
    "    # fix x axis\n",
    "    "
   ],
   "metadata": {
    "collapsed": false,
    "pycharm": {
     "name": "#%%\n"
    }
   }
  },
  {
   "cell_type": "markdown",
   "source": [
    "## Feature Importance Import"
   ],
   "metadata": {
    "collapsed": false,
    "pycharm": {
     "name": "#%% md\n"
    }
   }
  },
  {
   "cell_type": "code",
   "execution_count": null,
   "outputs": [],
   "source": [
    "plt.figure(figsize=(10,12))\n",
    "plt.subplots_adjust(hspace=0.5,wspace = .75)\n",
    "#plt.suptitle(\"Import Models\", fontsize=20, x=.5)\n",
    "\n",
    "\n",
    "# export\n",
    "for idx, m in enumerate(im_lst_noreg):\n",
    "    # add subplot\n",
    "    ax = plt.subplot(3,2, idx+1)\n",
    "    # predict and create confusion matrix\n",
    "    plot_feature_importances_lgbm(m.best_estimator_.named_steps['clf'], feature_cols)\n",
    "    # change labels\n",
    "    ax.set_title(model_names_noreg[idx])\n",
    "    # fix x axis\n",
    "    "
   ],
   "metadata": {
    "collapsed": false,
    "pycharm": {
     "name": "#%%\n"
    }
   }
  },
  {
   "cell_type": "markdown",
   "source": [
    "## All Models Scores"
   ],
   "metadata": {
    "collapsed": false,
    "pycharm": {
     "name": "#%% md\n"
    }
   }
  },
  {
   "cell_type": "code",
   "execution_count": null,
   "outputs": [],
   "source": [
    "# dummy classifier\n",
    "from sklearn.dummy import DummyClassifier\n",
    "dummy_majority_import = DummyClassifier(strategy = 'most_frequent').fit(import_X_train, import_y_train)\n",
    "dummy_majority_export = DummyClassifier(strategy = 'most_frequent').fit(export_X_train, export_y_train)"
   ],
   "metadata": {
    "collapsed": false,
    "pycharm": {
     "name": "#%%\n"
    }
   }
  },
  {
   "cell_type": "code",
   "execution_count": null,
   "outputs": [],
   "source": [
    "# recall and F1\n",
    "\n",
    "im_all_lst = [dummy_majority_import,\n",
    "                    import_lr_pipe, import_smote_lr_pipe,\n",
    "                    import_dt_pipe, import_smote_dt_pipe,\n",
    "                    import_rf_pipe, import_smote_rf_pipe,\n",
    "                    import_lgbm_pipe, import_smote_lgbm_pipe]\n",
    "ex_all_lst = [dummy_majority_export,\n",
    "                    export_lr_pipe, export_smote_lr_pipe, \n",
    "                    export_dt_pipe, export_smote_dt_pipe, \n",
    "                    export_rf_pipe, export_smote_rf_pipe, \n",
    "                    export_lgbm_pipe, export_smote_lgbm_pipe]\n",
    "\n",
    "all_model_names = ['Dummy Majority', 'Logistic Regression', 'Logistic Regression (SMOTE)',\n",
    "               'Decision Tree', 'Decision Tree (SMOTE)',\n",
    "               'Random Forest', 'Random Forest (SMOTE)',\n",
    "               'LightGBM', 'LightGBM (SMOTE)']\n",
    "\n",
    "# export\n",
    "export_f1 = []\n",
    "export_recall = []\n",
    "for m in ex_all_lst:\n",
    "    ex_pred = m.predict(export_X_test)\n",
    "    export_f1.append(f1_score(export_y_test, ex_pred))\n",
    "    export_recall.append(recall_score(export_y_test, ex_pred))\n",
    "\n",
    "# import\n",
    "import_f1 = []\n",
    "import_recall = []\n",
    "for m in im_all_lst:\n",
    "    im_pred = m.predict(import_X_test)\n",
    "    import_f1.append(f1_score(import_y_test, im_pred))\n",
    "    import_recall.append(recall_score(import_y_test, im_pred))"
   ],
   "metadata": {
    "collapsed": false,
    "pycharm": {
     "name": "#%%\n"
    }
   }
  },
  {
   "cell_type": "code",
   "execution_count": null,
   "outputs": [],
   "source": [
    "f1_score(export_y_test,dummy_majority_export.predict(export_X_test))"
   ],
   "metadata": {
    "collapsed": false,
    "pycharm": {
     "name": "#%%\n"
    }
   }
  },
  {
   "cell_type": "code",
   "execution_count": null,
   "outputs": [],
   "source": [
    "import plotly.graph_objects as go\n",
    "import plotly.express as px\n",
    "from plotly.subplots import make_subplots"
   ],
   "metadata": {
    "collapsed": false,
    "pycharm": {
     "name": "#%%\n"
    }
   }
  },
  {
   "cell_type": "code",
   "execution_count": null,
   "outputs": [],
   "source": [
    "fig = make_subplots(rows=2,cols=1, subplot_titles=(\"Exports\",\"Imports\"), vertical_spacing=.25)\n",
    "\n",
    "# export\n",
    "trace1 = go.Bar(name='F1 Score', x=all_model_names, y=export_f1, marker_color=\"#636efa\")\n",
    "trace2 = go.Bar(name='Recall', x=all_model_names, y=export_recall, marker_color=\"#ab63fa\")\n",
    "# import\n",
    "trace3 = go.Bar(showlegend=False, x=all_model_names, y=import_f1, marker_color=\"#636efa\")\n",
    "trace4 = go.Bar(showlegend=False, x=all_model_names, y=import_recall, marker_color=\"#ab63fa\")\n",
    "\n",
    "fig.append_trace(trace1, 1,1)\n",
    "fig.append_trace(trace2, 1,1)\n",
    "\n",
    "fig.append_trace(trace3, 2,1)\n",
    "fig.append_trace(trace4, 2,1)\n",
    "\n",
    "fig.update_layout(height=600, width = 1600, title={\"text\":\"Model Recall and F1 Performance\", \"x\":.5})\n",
    "fig.update_annotations(x=.02, selector={\"text\":\"Exports\"})\n",
    "fig.update_annotations(x=.02, selector={\"text\":\"Imports\"})\n",
    "fig.show()"
   ],
   "metadata": {
    "collapsed": false,
    "pycharm": {
     "name": "#%%\n"
    }
   }
  },
  {
   "cell_type": "code",
   "execution_count": null,
   "outputs": [],
   "source": [
    "from sklearn import tree\n",
    "import graphviz\n",
    "from IPython.display import display"
   ],
   "metadata": {
    "collapsed": false,
    "pycharm": {
     "name": "#%%\n"
    }
   }
  },
  {
   "cell_type": "code",
   "execution_count": null,
   "outputs": [],
   "source": [
    "#dot_data = tree.export_graphviz(export_dt_pipe.best_estimator_.named_steps['clf'], out_file=None) \n",
    "dot_data = tree.export_graphviz(import_dt_pipe.best_estimator_.named_steps['clf'], out_file=None, \n",
    "                                feature_names=feature_cols,\n",
    "                                class_names=[\"Clear\",\"Seize\"],\n",
    "                                filled=True, rounded=True,  \n",
    "                                special_characters=True)  \n",
    "graph = graphviz.Source(dot_data)  \n",
    "graph.render(\"import_dt\")"
   ],
   "metadata": {
    "collapsed": false,
    "pycharm": {
     "name": "#%%\n"
    }
   }
  },
  {
   "cell_type": "code",
   "execution_count": null,
   "outputs": [],
   "source": [
    "import_lgbm_pipe"
   ],
   "metadata": {
    "collapsed": false,
    "pycharm": {
     "name": "#%%\n"
    }
   }
  },
  {
   "cell_type": "code",
   "execution_count": null,
   "outputs": [],
   "source": [
    "col_names = [\"Data Set\",\"Metric\"] + all_model_names\n",
    "row1 = [\"Import\",\""
   ],
   "metadata": {
    "collapsed": false,
    "pycharm": {
     "name": "#%%\n"
    }
   }
  },
  {
   "cell_type": "code",
   "execution_count": null,
   "outputs": [],
   "source": [
    "score_df = pd.DataFrame(columns=col_names)\n",
    "row1 = ['Export','F1'] + export_f1\n",
    "row2 = ['Export','Recall'] + export_recall\n",
    "row3 = ['Import', 'F1'] + import_f1\n",
    "row4 = ['Import','Recall'] + import_recall\n",
    "score_df.loc[len(score_df)] = row1\n",
    "score_df.loc[len(score_df)] = row2\n",
    "score_df.loc[len(score_df)] = row3\n",
    "score_df.loc[len(score_df)] = row4\n",
    "score_df.round(3)"
   ],
   "metadata": {
    "collapsed": false,
    "pycharm": {
     "name": "#%%\n"
    }
   }
  },
  {
   "cell_type": "code",
   "execution_count": null,
   "outputs": [],
   "source": [
    "import_X_test.head()"
   ],
   "metadata": {
    "collapsed": false,
    "pycharm": {
     "name": "#%%\n"
    }
   }
  },
  {
   "cell_type": "code",
   "execution_count": null,
   "outputs": [],
   "source": [
    "# # read in the joblibs\n",
    "# path = \"gridsearch_all_models\"\n",
    "# # logistic regression\n",
    "# export_lr_pipe = joblib.load(f'{path}/export_lr_pipe.joblib')\n",
    "# export_smote_lr_pipe = joblib.load(f'{path}/export_SMOTE_lr_pipe.joblib')\n",
    "# import_lr_pipe = joblib.load(f'{path}/import_lr_pipe.joblib')\n",
    "# import_smote_lr_pipe = joblib.load(f'{path}/export_SMOTE_lr_pipe.joblib')\n",
    "# # decision tree\n",
    "# export_dt_pipe = joblib.load(f'{path}/export_dt_pipe.joblib')\n",
    "# export_smote_dt_pipe = joblib.load(f'{path}/export_SMOTE_dt_pipe.joblib')\n",
    "# import_dt_pipe = joblib.load(f'{path}/import_dt_pipe.joblib')\n",
    "# import_smote_dt_pipe = joblib.load(f'{path}/import_SMOTE_dt_pipe.joblib')\n",
    "# # random forest\n",
    "# export_rf_pipe = joblib.load(f'{path}/export_rf_pipe.joblib')\n",
    "# export_smote_rf_pipe = joblib.load(f'{path}/export_SMOTE_rf_pipe.joblib')\n",
    "# import_rf_pipe = joblib.load(f'{path}/import_rf_pipe.joblib')\n",
    "# import_smote_rf_pipe = joblib.load(f'{path}/import_SMOTE_rf_pipe.joblib')\n",
    "# # lgbm\n",
    "# export_lgbm_pipe = joblib.load(f'{path}/lgbm_export.joblib')\n",
    "# export_smote_lgbm_pipe = joblib.load(f'{path}/lgbm_export_SMOTE.joblib')\n",
    "# import_lgbm_pipe = joblib.load(f'{path}/lgbm_pipe_import.joblib')\n",
    "# import_smote_lgbm_pipe = joblib.load(f'{path}/lgbm_import_SMOTE.joblib') # still running"
   ],
   "metadata": {
    "collapsed": false,
    "pycharm": {
     "name": "#%%\n"
    }
   }
  },
  {
   "cell_type": "code",
   "execution_count": null,
   "outputs": [],
   "source": [
    "# imports\n",
    "# regression\n",
    "import_reg_preds = import_lr_pipe.predict(import_X_test)\n",
    "import_reg_smote_preds = import_smote_lr_pipe.predict(import_X_test)\n",
    "# decision tree\n",
    "import_dt_preds = import_dt_pipe.predict(import_X_test)\n",
    "import_dt_smote_preds = import_smote_dt_pipe.predict(import_X_test)\n",
    "# random forest\n",
    "import_rf_preds = import_rf_pipe.predict(import_X_test)\n",
    "import_rf_smote_preds = import_smote_rf_pipe.predict(import_X_test)\n",
    "# lgbm\n",
    "import_lgbm_preds = import_lgbm_pipe.predict(import_X_test)\n",
    "import_lgbm_smote_preds = import_smote_lgbm_pipe.predict(import_X_test)\n",
    "# exports\n",
    "# regression\n",
    "export_reg_preds = export_lr_pipe.predict(export_X_test)\n",
    "export_reg_smote_preds = export_smote_lr_pipe.predict(export_X_test)\n",
    "# decision tree\n",
    "export_dt_preds = export_dt_pipe.predict(export_X_test)\n",
    "export_dt_smote_preds = export_smote_dt_pipe.predict(export_X_test)\n",
    "# random forest\n",
    "export_rf_preds = export_rf_pipe.predict(export_X_test)\n",
    "export_rf_smote_preds = export_smote_rf_pipe.predict(export_X_test)\n",
    "# lgbm\n",
    "export_lgbm_preds = export_lgbm_pipe.predict(export_X_test)\n",
    "export_lgbm_smote_preds = export_smote_lgbm_pipe.predict(export_X_test)"
   ],
   "metadata": {
    "collapsed": false,
    "pycharm": {
     "name": "#%%\n"
    }
   }
  },
  {
   "cell_type": "code",
   "execution_count": null,
   "outputs": [],
   "source": [
    "predicted_df_import = import_X_test.copy()\n",
    "predicted_df_export = export_X_test.copy()\n",
    "predicted_df_import['y'] = import_y_test\n",
    "predicted_df_export['y'] = export_y_test\n",
    "\n",
    "predicted_df_import['import_lr'] = import_reg_preds\n",
    "predicted_df_import['import_lr_smote'] = import_reg_smote_preds\n",
    "predicted_df_import['import_dt'] = import_dt_preds\n",
    "predicted_df_import['import_dt_smote'] = import_dt_smote_preds\n",
    "predicted_df_import['import_rf'] = import_rf_preds\n",
    "predicted_df_import['import_rf_smote'] = import_rf_smote_preds\n",
    "predicted_df_import['import_lgbm'] = import_lgbm_preds\n",
    "predicted_df_import['import_lgbm_smote'] = import_lgbm_smote_preds\n",
    "\n",
    "\n",
    "predicted_df_export['export_lr'] = export_reg_preds\n",
    "predicted_df_export['export_lr_smote'] = export_reg_smote_preds\n",
    "predicted_df_export['export_dt'] = export_dt_preds\n",
    "predicted_df_export['export_dt_smote'] = export_dt_smote_preds\n",
    "predicted_df_export['export_rf'] = export_rf_preds\n",
    "predicted_df_export['export_rf_smote'] = export_rf_smote_preds\n",
    "predicted_df_export['export_lgbm'] = export_lgbm_preds\n",
    "predicted_df_export['export_lgbm_smote'] = export_lgbm_smote_preds"
   ],
   "metadata": {
    "collapsed": false,
    "pycharm": {
     "name": "#%%\n"
    }
   }
  },
  {
   "cell_type": "code",
   "execution_count": null,
   "outputs": [],
   "source": [
    "predicted_df_import.head()"
   ],
   "metadata": {
    "collapsed": false,
    "pycharm": {
     "name": "#%%\n"
    }
   }
  },
  {
   "cell_type": "code",
   "execution_count": null,
   "outputs": [],
   "source": [
    "predicted_df_export.head()"
   ],
   "metadata": {
    "collapsed": false,
    "pycharm": {
     "name": "#%%\n"
    }
   }
  },
  {
   "cell_type": "code",
   "execution_count": null,
   "outputs": [],
   "source": [
    "predicted_df_export.shape"
   ],
   "metadata": {
    "collapsed": false,
    "pycharm": {
     "name": "#%%\n"
    }
   }
  },
  {
   "cell_type": "code",
   "execution_count": null,
   "outputs": [],
   "source": [
    "export_err = predicted_df_export.loc[(predicted_df_export['y'] != predicted_df_export['export_lr']) | (predicted_df_export['y'] != predicted_df_export['export_lr_smote']) | \n",
    "                       (predicted_df_export['y'] != predicted_df_export['export_dt']) | (predicted_df_export['y'] != predicted_df_export['export_dt_smote']) |\n",
    "                       (predicted_df_export['y'] != predicted_df_export['export_rf']) | (predicted_df_export['y'] != predicted_df_export['export_rf_smote'])|\n",
    "                       (predicted_df_export['y'] != predicted_df_export['export_lgbm']) | (predicted_df_export['y'] != predicted_df_export['export_lgbm_smote'])]"
   ],
   "metadata": {
    "collapsed": false,
    "pycharm": {
     "name": "#%%\n"
    }
   }
  },
  {
   "cell_type": "code",
   "execution_count": null,
   "outputs": [],
   "source": [
    "import_err = predicted_df_import.loc[(predicted_df_import['y'] != predicted_df_import['import_lr']) | (predicted_df_import['y'] != predicted_df_import['import_lr_smote']) | \n",
    "                       (predicted_df_import['y'] != predicted_df_import['import_dt']) | (predicted_df_import['y'] != predicted_df_import['import_dt_smote']) |\n",
    "                       (predicted_df_import['y'] != predicted_df_import['import_rf']) | (predicted_df_import['y'] != predicted_df_import['import_rf_smote'])|\n",
    "                       (predicted_df_import['y'] != predicted_df_import['import_lgbm']) | (predicted_df_import['y'] != predicted_df_import['import_lgbm_smote'])]"
   ],
   "metadata": {
    "collapsed": false,
    "pycharm": {
     "name": "#%%\n"
    }
   }
  },
  {
   "cell_type": "code",
   "execution_count": null,
   "outputs": [],
   "source": [
    "export_err.to_csv(\"export_errors.csv\")"
   ],
   "metadata": {
    "collapsed": false,
    "pycharm": {
     "name": "#%%\n"
    }
   }
  },
  {
   "cell_type": "code",
   "execution_count": null,
   "outputs": [],
   "source": [
    "predicted_df_export.shape"
   ],
   "metadata": {
    "collapsed": false,
    "pycharm": {
     "name": "#%%\n"
    }
   }
  },
  {
   "cell_type": "code",
   "execution_count": null,
   "outputs": [],
   "source": [
    "export_err.shape"
   ],
   "metadata": {
    "collapsed": false,
    "pycharm": {
     "name": "#%%\n"
    }
   }
  },
  {
   "cell_type": "code",
   "execution_count": null,
   "outputs": [],
   "source": [
    "import_err.to_csv(\"import_errors.csv\")"
   ],
   "metadata": {
    "collapsed": false,
    "pycharm": {
     "name": "#%%\n"
    }
   }
  },
  {
   "cell_type": "code",
   "execution_count": null,
   "outputs": [],
   "source": [
    "import_err.shape"
   ],
   "metadata": {
    "collapsed": false,
    "pycharm": {
     "name": "#%%\n"
    }
   }
  },
  {
   "cell_type": "code",
   "execution_count": null,
   "outputs": [],
   "source": [
    "predicted_df_import.loc[predicted_df_import['y']==0].shape"
   ],
   "metadata": {
    "collapsed": false,
    "pycharm": {
     "name": "#%%\n"
    }
   }
  },
  {
   "cell_type": "code",
   "execution_count": null,
   "outputs": [],
   "source": [
    "predicted_df_import.loc[predicted_df_import['y']==1].shape"
   ],
   "metadata": {
    "collapsed": false,
    "pycharm": {
     "name": "#%%\n"
    }
   }
  },
  {
   "cell_type": "code",
   "execution_count": null,
   "outputs": [],
   "source": [
    "predicted_df_import"
   ],
   "metadata": {
    "collapsed": false,
    "pycharm": {
     "name": "#%%\n"
    }
   }
  },
  {
   "cell_type": "code",
   "execution_count": 6,
   "metadata": {},
   "outputs": [],
   "source": [
    "# smote testing\n"
   ]
  },
  {
   "cell_type": "code",
   "execution_count": 7,
   "metadata": {},
   "outputs": [],
   "source": [
    "def plot_feature_importances_lgbm(clf, feature_names):\n",
    "    c_features = len(feature_names)\n",
    "    plt.barh(range(c_features), (clf.feature_importances_)/sum(clf.feature_importances_))\n",
    "    plt.xlabel(\"Feature importance\")\n",
    "    plt.ylabel(\"Feature name\")\n",
    "    plt.xlim(0,1)\n",
    "    plt.yticks(np.arange(c_features), feature_names)"
   ]
  },
  {
   "cell_type": "code",
   "execution_count": 77,
   "metadata": {},
   "outputs": [],
   "source": [
    "model_names = ['Logistic Regression', 'Logistic Regression (SMOTE)',\n",
    "               'Decision Tree', 'Decision Tree (SMOTE)',\n",
    "               'Random Forest', 'Random Forest (SMOTE)',\n",
    "               'LightGBM', 'LightGBM (SMOTE)']\n",
    "\n",
    "ex_lst = [export_lr_pipe, export_smote_lr_pipe, \n",
    "              export_dt_pipe, export_smote_dt_pipe, \n",
    "              export_rf_pipe, export_smote_rf_pipe, \n",
    "              export_lgbm_pipe, export_smote_lgbm_pipe]\n",
    "im_lst = [import_lr_pipe, import_smote_lr_pipe,\n",
    "         import_dt_pipe, import_smote_dt_pipe,\n",
    "         import_rf_pipe, import_smote_rf_pipe,\n",
    "         import_lgbm_pipe, import_smote_lgbm_pipe]"
   ]
  },
  {
   "cell_type": "markdown",
   "metadata": {
    "tags": []
   },
   "source": [
    "## Confusion Matrix Plots (Export)"
   ]
  },
  {
   "cell_type": "code",
   "execution_count": 81,
   "metadata": {},
   "outputs": [
    {
     "data": {
      "image/png": "[encoded data removed]",
      "text/plain": [
       "<Figure size 800x1200 with 16 Axes>"
      ]
     },
     "metadata": {},
     "output_type": "display_data"
    }
   ],
   "source": [
    "plt.figure(figsize=(8,12))\n",
    "plt.subplots_adjust(hspace=0.75)\n",
    "#plt.suptitle(\"Export Models Confusion Matrix\", fontsize=20, x=.55)\n",
    "\n",
    "\n",
    "# export\n",
    "for idx, m in enumerate(ex_lst):\n",
    "    # add subplot\n",
    "    ax = plt.subplot(4,2, idx+1)\n",
    "    # predict and create confusion matrix\n",
    "    export_pred = m.predict(export_X_test)\n",
    "    confusion = confusion_matrix(export_y_test, export_pred, labels = [1,0])\n",
    "    ConfusionMatrixDisplay(confusion, display_labels=[1,0]).plot(ax=ax)\n",
    "    # change labels\n",
    "    ax.set_title(model_names[idx])\n",
    "    \n",
    "    "
   ]
  },
  {
   "cell_type": "markdown",
   "metadata": {
    "tags": []
   },
   "source": [
    "## Confusion Matrix Plots (Import)"
   ]
  },
  {
   "cell_type": "code",
   "execution_count": 80,
   "metadata": {},
   "outputs": [
    {
     "data": {
      "image/png": "[encoded data removed]",
      "text/plain": [
       "<Figure size 800x1200 with 16 Axes>"
      ]
     },
     "metadata": {},
     "output_type": "display_data"
    }
   ],
   "source": [
    "plt.figure(figsize=(8,12))\n",
    "plt.subplots_adjust(hspace=0.75)\n",
    "#plt.suptitle(\"Import Models Confusion Matrix\", fontsize=20, x=.55)\n",
    "\n",
    "\n",
    "# export\n",
    "for idx, m in enumerate(im_lst):\n",
    "    # add subplot\n",
    "    ax = plt.subplot(4,2, idx+1)\n",
    "    # predict and create confusion matrix\n",
    "    import_pred = m.predict(import_X_test)\n",
    "    confusion = confusion_matrix(import_y_test, import_pred, labels = [1,0])\n",
    "    ConfusionMatrixDisplay(confusion, display_labels=[1,0]).plot(ax=ax)\n",
    "    # change labels\n",
    "    ax.set_title(model_names[idx])"
   ]
  },
  {
   "cell_type": "markdown",
   "metadata": {
    "tags": []
   },
   "source": [
    "## Feature Importance Export"
   ]
  },
  {
   "cell_type": "code",
   "execution_count": 82,
   "metadata": {},
   "outputs": [],
   "source": [
    "ex_lst_noreg = [export_dt_pipe, export_smote_dt_pipe, \n",
    "              export_rf_pipe, export_smote_rf_pipe, \n",
    "              export_lgbm_pipe, export_smote_lgbm_pipe]\n",
    "im_lst_noreg = [import_dt_pipe, import_smote_dt_pipe,\n",
    "             import_rf_pipe, import_smote_rf_pipe,\n",
    "             import_lgbm_pipe, import_smote_lgbm_pipe]\n",
    "\n",
    "model_names_noreg = [\n",
    "               'Decision Tree', 'Decision Tree (SMOTE)',\n",
    "               'Random Forest', 'Random Forest (SMOTE)',\n",
    "               'LightGBM', 'LightGBM (SMOTE)']"
   ]
  },
  {
   "cell_type": "code",
   "execution_count": 86,
   "metadata": {},
   "outputs": [
    {
     "data": {
      "image/png": "[encoded data removed]",
      "text/plain": [
       "<Figure size 1000x1200 with 6 Axes>"
      ]
     },
     "metadata": {},
     "output_type": "display_data"
    }
   ],
   "source": [
    "plt.figure(figsize=(10,12))\n",
    "plt.subplots_adjust(hspace=0.5,wspace = .75)\n",
    "#plt.suptitle(\"Export Models\", fontsize=20, x=.5)\n",
    "\n",
    "\n",
    "# export\n",
    "for idx, m in enumerate(ex_lst_noreg):\n",
    "    # add subplot\n",
    "    ax = plt.subplot(3,2, idx+1)\n",
    "    # predict and create confusion matrix\n",
    "    plot_feature_importances_lgbm(m.best_estimator_.named_steps['clf'], feature_cols)\n",
    "    # change labels\n",
    "    ax.set_title(model_names_noreg[idx])\n",
    "    # fix x axis\n",
    "    "
   ]
  },
  {
   "cell_type": "markdown",
   "metadata": {
    "tags": []
   },
   "source": [
    "## Feature Importance Import"
   ]
  },
  {
   "cell_type": "code",
   "execution_count": 85,
   "metadata": {},
   "outputs": [
    {
     "data": {
      "image/png": "[encoded data removed]",
      "text/plain": [
       "<Figure size 1000x1200 with 6 Axes>"
      ]
     },
     "metadata": {},
     "output_type": "display_data"
    }
   ],
   "source": [
    "plt.figure(figsize=(10,12))\n",
    "plt.subplots_adjust(hspace=0.5,wspace = .75)\n",
    "#plt.suptitle(\"Import Models\", fontsize=20, x=.5)\n",
    "\n",
    "\n",
    "# export\n",
    "for idx, m in enumerate(im_lst_noreg):\n",
    "    # add subplot\n",
    "    ax = plt.subplot(3,2, idx+1)\n",
    "    # predict and create confusion matrix\n",
    "    plot_feature_importances_lgbm(m.best_estimator_.named_steps['clf'], feature_cols)\n",
    "    # change labels\n",
    "    ax.set_title(model_names_noreg[idx])\n",
    "    # fix x axis\n",
    "    "
   ]
  },
  {
   "cell_type": "markdown",
   "metadata": {},
   "source": [
    "## All Models Scores"
   ]
  },
  {
   "cell_type": "code",
   "execution_count": 14,
   "metadata": {},
   "outputs": [],
   "source": [
    "# dummy classifier\n",
    "from sklearn.dummy import DummyClassifier\n",
    "dummy_majority_import = DummyClassifier(strategy = 'most_frequent').fit(import_X_train, import_y_train)\n",
    "dummy_majority_export = DummyClassifier(strategy = 'most_frequent').fit(export_X_train, export_y_train)"
   ]
  },
  {
   "cell_type": "code",
   "execution_count": 88,
   "metadata": {},
   "outputs": [],
   "source": [
    "# recall and F1\n",
    "\n",
    "im_all_lst = [dummy_majority_import,\n",
    "                    import_lr_pipe, import_smote_lr_pipe,\n",
    "                    import_dt_pipe, import_smote_dt_pipe,\n",
    "                    import_rf_pipe, import_smote_rf_pipe,\n",
    "                    import_lgbm_pipe, import_smote_lgbm_pipe]\n",
    "ex_all_lst = [dummy_majority_export,\n",
    "                    export_lr_pipe, export_smote_lr_pipe, \n",
    "                    export_dt_pipe, export_smote_dt_pipe, \n",
    "                    export_rf_pipe, export_smote_rf_pipe, \n",
    "                    export_lgbm_pipe, export_smote_lgbm_pipe]\n",
    "\n",
    "all_model_names = ['Dummy Majority', 'Logistic Regression', 'Logistic Regression (SMOTE)',\n",
    "               'Decision Tree', 'Decision Tree (SMOTE)',\n",
    "               'Random Forest', 'Random Forest (SMOTE)',\n",
    "               'LightGBM', 'LightGBM (SMOTE)']\n",
    "\n",
    "# export\n",
    "export_f1 = []\n",
    "export_recall = []\n",
    "for m in ex_all_lst:\n",
    "    ex_pred = m.predict(export_X_test)\n",
    "    export_f1.append(f1_score(export_y_test, ex_pred))\n",
    "    export_recall.append(recall_score(export_y_test, ex_pred))\n",
    "\n",
    "# import\n",
    "import_f1 = []\n",
    "import_recall = []\n",
    "for m in im_all_lst:\n",
    "    im_pred = m.predict(import_X_test)\n",
    "    import_f1.append(f1_score(import_y_test, im_pred))\n",
    "    import_recall.append(recall_score(import_y_test, im_pred))"
   ]
  },
  {
   "cell_type": "code",
   "execution_count": 16,
   "metadata": {},
   "outputs": [
    {
     "data": {
      "text/plain": [
       "0.0"
      ]
     },
     "execution_count": 16,
     "metadata": {},
     "output_type": "execute_result"
    }
   ],
   "source": [
    "f1_score(export_y_test,dummy_majority_export.predict(export_X_test))"
   ]
  },
  {
   "cell_type": "code",
   "execution_count": 17,
   "metadata": {},
   "outputs": [],
   "source": [
    "import plotly.graph_objects as go\n",
    "import plotly.express as px\n",
    "from plotly.subplots import make_subplots"
   ]
  },
  {
   "cell_type": "code",
   "execution_count": 93,
   "metadata": {},
   "outputs": [
    {
     "data": {
      "application/vnd.plotly.v1+json": {
       "config": {
        "plotlyServerURL": "https://plot.ly"
       },
       "data": [
        {
         "marker": {
          "color": "#636efa"
         },
         "name": "F1 Score",
         "type": "bar",
         "x": [
          "Dummy Majority",
          "Logistic Regression",
          "Logistic Regression (SMOTE)",
          "Decision Tree",
          "Decision Tree (SMOTE)",
          "Random Forest",
          "Random Forest (SMOTE)",
          "LightGBM",
          "LightGBM (SMOTE)"
         ],
         "xaxis": "x",
         "y": [
          0,
          0.09460996133727542,
          0.09880382775119617,
          0.0728499621290367,
          0.05747885042299153,
          0.07406821239218168,
          0.05672764357192937,
          0.07360799862092743,
          0.14519677340503545
         ],
         "yaxis": "y"
        },
        {
         "marker": {
          "color": "#ab63fa"
         },
         "name": "Recall",
         "type": "bar",
         "x": [
          "Dummy Majority",
          "Logistic Regression",
          "Logistic Regression (SMOTE)",
          "Decision Tree",
          "Decision Tree (SMOTE)",
          "Random Forest",
          "Random Forest (SMOTE)",
          "LightGBM",
          "LightGBM (SMOTE)"
         ],
         "xaxis": "x",
         "y": [
          0,
          0.6469673405909798,
          0.6423017107309487,
          0.8227060653188181,
          0.744945567651633,
          0.7278382581648523,
          0.6920684292379471,
          0.6640746500777605,
          0.4618973561430793
         ],
         "yaxis": "y"
        },
        {
         "marker": {
          "color": "#636efa"
         },
         "showlegend": false,
         "type": "bar",
         "x": [
          "Dummy Majority",
          "Logistic Regression",
          "Logistic Regression (SMOTE)",
          "Decision Tree",
          "Decision Tree (SMOTE)",
          "Random Forest",
          "Random Forest (SMOTE)",
          "LightGBM",
          "LightGBM (SMOTE)"
         ],
         "xaxis": "x2",
         "y": [
          0,
          0.2671861656703672,
          0.08215025826606043,
          0.14021694427308246,
          0.15264322879236497,
          0.26682310381071106,
          0.23391971744888948,
          0.3192244993013507,
          0.7401732786137711
         ],
         "yaxis": "y2"
        },
        {
         "marker": {
          "color": "#ab63fa"
         },
         "showlegend": false,
         "type": "bar",
         "x": [
          "Dummy Majority",
          "Logistic Regression",
          "Logistic Regression (SMOTE)",
          "Decision Tree",
          "Decision Tree (SMOTE)",
          "Random Forest",
          "Random Forest (SMOTE)",
          "LightGBM",
          "LightGBM (SMOTE)"
         ],
         "xaxis": "x2",
         "y": [
          0,
          0.7688527107971126,
          0.6118875748732914,
          0.8378129319612962,
          0.8155429273537091,
          0.8382736906773153,
          0.7934265089847949,
          0.8421133466441407,
          0.6232529565350945
         ],
         "yaxis": "y2"
        }
       ],
       "layout": {
        "annotations": [
         {
          "font": {
           "size": 16
          },
          "showarrow": false,
          "text": "Exports",
          "x": 0.02,
          "xanchor": "center",
          "xref": "paper",
          "y": 1,
          "yanchor": "bottom",
          "yref": "paper"
         },
         {
          "font": {
           "size": 16
          },
          "showarrow": false,
          "text": "Imports",
          "x": 0.02,
          "xanchor": "center",
          "xref": "paper",
          "y": 0.375,
          "yanchor": "bottom",
          "yref": "paper"
         }
        ],
        "height": 600,
        "template": {
         "data": {
          "bar": [
           {
            "error_x": {
             "color": "#2a3f5f"
            },
            "error_y": {
             "color": "#2a3f5f"
            },
            "marker": {
             "line": {
              "color": "#E5ECF6",
              "width": 0.5
             },
             "pattern": {
              "fillmode": "overlay",
              "size": 10,
              "solidity": 0.2
             }
            },
            "type": "bar"
           }
          ],
          "barpolar": [
           {
            "marker": {
             "line": {
              "color": "#E5ECF6",
              "width": 0.5
             },
             "pattern": {
              "fillmode": "overlay",
              "size": 10,
              "solidity": 0.2
             }
            },
            "type": "barpolar"
           }
          ],
          "carpet": [
           {
            "aaxis": {
             "endlinecolor": "#2a3f5f",
             "gridcolor": "white",
             "linecolor": "white",
             "minorgridcolor": "white",
             "startlinecolor": "#2a3f5f"
            },
            "baxis": {
             "endlinecolor": "#2a3f5f",
             "gridcolor": "white",
             "linecolor": "white",
             "minorgridcolor": "white",
             "startlinecolor": "#2a3f5f"
            },
            "type": "carpet"
           }
          ],
          "choropleth": [
           {
            "colorbar": {
             "outlinewidth": 0,
             "ticks": ""
            },
            "type": "choropleth"
           }
          ],
          "contour": [
           {
            "colorbar": {
             "outlinewidth": 0,
             "ticks": ""
            },
            "colorscale": [
             [
              0,
              "#0d0887"
             ],
             [
              0.1111111111111111,
              "#46039f"
             ],
             [
              0.2222222222222222,
              "#7201a8"
             ],
             [
              0.3333333333333333,
              "#9c179e"
             ],
             [
              0.4444444444444444,
              "#bd3786"
             ],
             [
              0.5555555555555556,
              "#d8576b"
             ],
             [
              0.6666666666666666,
              "#ed7953"
             ],
             [
              0.7777777777777778,
              "#fb9f3a"
             ],
             [
              0.8888888888888888,
              "#fdca26"
             ],
             [
              1,
              "#f0f921"
             ]
            ],
            "type": "contour"
           }
          ],
          "contourcarpet": [
           {
            "colorbar": {
             "outlinewidth": 0,
             "ticks": ""
            },
            "type": "contourcarpet"
           }
          ],
          "heatmap": [
           {
            "colorbar": {
             "outlinewidth": 0,
             "ticks": ""
            },
            "colorscale": [
             [
              0,
              "#0d0887"
             ],
             [
              0.1111111111111111,
              "#46039f"
             ],
             [
              0.2222222222222222,
              "#7201a8"
             ],
             [
              0.3333333333333333,
              "#9c179e"
             ],
             [
              0.4444444444444444,
              "#bd3786"
             ],
             [
              0.5555555555555556,
              "#d8576b"
             ],
             [
              0.6666666666666666,
              "#ed7953"
             ],
             [
              0.7777777777777778,
              "#fb9f3a"
             ],
             [
              0.8888888888888888,
              "#fdca26"
             ],
             [
              1,
              "#f0f921"
             ]
            ],
            "type": "heatmap"
           }
          ],
          "heatmapgl": [
           {
            "colorbar": {
             "outlinewidth": 0,
             "ticks": ""
            },
            "colorscale": [
             [
              0,
              "#0d0887"
             ],
             [
              0.1111111111111111,
              "#46039f"
             ],
             [
              0.2222222222222222,
              "#7201a8"
             ],
             [
              0.3333333333333333,
              "#9c179e"
             ],
             [
              0.4444444444444444,
              "#bd3786"
             ],
             [
              0.5555555555555556,
              "#d8576b"
             ],
             [
              0.6666666666666666,
              "#ed7953"
             ],
             [
              0.7777777777777778,
              "#fb9f3a"
             ],
             [
              0.8888888888888888,
              "#fdca26"
             ],
             [
              1,
              "#f0f921"
             ]
            ],
            "type": "heatmapgl"
           }
          ],
          "histogram": [
           {
            "marker": {
             "pattern": {
              "fillmode": "overlay",
              "size": 10,
              "solidity": 0.2
             }
            },
            "type": "histogram"
           }
          ],
          "histogram2d": [
           {
            "colorbar": {
             "outlinewidth": 0,
             "ticks": ""
            },
            "colorscale": [
             [
              0,
              "#0d0887"
             ],
             [
              0.1111111111111111,
              "#46039f"
             ],
             [
              0.2222222222222222,
              "#7201a8"
             ],
             [
              0.3333333333333333,
              "#9c179e"
             ],
             [
              0.4444444444444444,
              "#bd3786"
             ],
             [
              0.5555555555555556,
              "#d8576b"
             ],
             [
              0.6666666666666666,
              "#ed7953"
             ],
             [
              0.7777777777777778,
              "#fb9f3a"
             ],
             [
              0.8888888888888888,
              "#fdca26"
             ],
             [
              1,
              "#f0f921"
             ]
            ],
            "type": "histogram2d"
           }
          ],
          "histogram2dcontour": [
           {
            "colorbar": {
             "outlinewidth": 0,
             "ticks": ""
            },
            "colorscale": [
             [
              0,
              "#0d0887"
             ],
             [
              0.1111111111111111,
              "#46039f"
             ],
             [
              0.2222222222222222,
              "#7201a8"
             ],
             [
              0.3333333333333333,
              "#9c179e"
             ],
             [
              0.4444444444444444,
              "#bd3786"
             ],
             [
              0.5555555555555556,
              "#d8576b"
             ],
             [
              0.6666666666666666,
              "#ed7953"
             ],
             [
              0.7777777777777778,
              "#fb9f3a"
             ],
             [
              0.8888888888888888,
              "#fdca26"
             ],
             [
              1,
              "#f0f921"
             ]
            ],
            "type": "histogram2dcontour"
           }
          ],
          "mesh3d": [
           {
            "colorbar": {
             "outlinewidth": 0,
             "ticks": ""
            },
            "type": "mesh3d"
           }
          ],
          "parcoords": [
           {
            "line": {
             "colorbar": {
              "outlinewidth": 0,
              "ticks": ""
             }
            },
            "type": "parcoords"
           }
          ],
          "pie": [
           {
            "automargin": true,
            "type": "pie"
           }
          ],
          "scatter": [
           {
            "fillpattern": {
             "fillmode": "overlay",
             "size": 10,
             "solidity": 0.2
            },
            "type": "scatter"
           }
          ],
          "scatter3d": [
           {
            "line": {
             "colorbar": {
              "outlinewidth": 0,
              "ticks": ""
             }
            },
            "marker": {
             "colorbar": {
              "outlinewidth": 0,
              "ticks": ""
             }
            },
            "type": "scatter3d"
           }
          ],
          "scattercarpet": [
           {
            "marker": {
             "colorbar": {
              "outlinewidth": 0,
              "ticks": ""
             }
            },
            "type": "scattercarpet"
           }
          ],
          "scattergeo": [
           {
            "marker": {
             "colorbar": {
              "outlinewidth": 0,
              "ticks": ""
             }
            },
            "type": "scattergeo"
           }
          ],
          "scattergl": [
           {
            "marker": {
             "colorbar": {
              "outlinewidth": 0,
              "ticks": ""
             }
            },
            "type": "scattergl"
           }
          ],
          "scattermapbox": [
           {
            "marker": {
             "colorbar": {
              "outlinewidth": 0,
              "ticks": ""
             }
            },
            "type": "scattermapbox"
           }
          ],
          "scatterpolar": [
           {
            "marker": {
             "colorbar": {
              "outlinewidth": 0,
              "ticks": ""
             }
            },
            "type": "scatterpolar"
           }
          ],
          "scatterpolargl": [
           {
            "marker": {
             "colorbar": {
              "outlinewidth": 0,
              "ticks": ""
             }
            },
            "type": "scatterpolargl"
           }
          ],
          "scatterternary": [
           {
            "marker": {
             "colorbar": {
              "outlinewidth": 0,
              "ticks": ""
             }
            },
            "type": "scatterternary"
           }
          ],
          "surface": [
           {
            "colorbar": {
             "outlinewidth": 0,
             "ticks": ""
            },
            "colorscale": [
             [
              0,
              "#0d0887"
             ],
             [
              0.1111111111111111,
              "#46039f"
             ],
             [
              0.2222222222222222,
              "#7201a8"
             ],
             [
              0.3333333333333333,
              "#9c179e"
             ],
             [
              0.4444444444444444,
              "#bd3786"
             ],
             [
              0.5555555555555556,
              "#d8576b"
             ],
             [
              0.6666666666666666,
              "#ed7953"
             ],
             [
              0.7777777777777778,
              "#fb9f3a"
             ],
             [
              0.8888888888888888,
              "#fdca26"
             ],
             [
              1,
              "#f0f921"
             ]
            ],
            "type": "surface"
           }
          ],
          "table": [
           {
            "cells": {
             "fill": {
              "color": "#EBF0F8"
             },
             "line": {
              "color": "white"
             }
            },
            "header": {
             "fill": {
              "color": "#C8D4E3"
             },
             "line": {
              "color": "white"
             }
            },
            "type": "table"
           }
          ]
         },
         "layout": {
          "annotationdefaults": {
           "arrowcolor": "#2a3f5f",
           "arrowhead": 0,
           "arrowwidth": 1
          },
          "autotypenumbers": "strict",
          "coloraxis": {
           "colorbar": {
            "outlinewidth": 0,
            "ticks": ""
           }
          },
          "colorscale": {
           "diverging": [
            [
             0,
             "#8e0152"
            ],
            [
             0.1,
             "#c51b7d"
            ],
            [
             0.2,
             "#de77ae"
            ],
            [
             0.3,
             "#f1b6da"
            ],
            [
             0.4,
             "#fde0ef"
            ],
            [
             0.5,
             "#f7f7f7"
            ],
            [
             0.6,
             "#e6f5d0"
            ],
            [
             0.7,
             "#b8e186"
            ],
            [
             0.8,
             "#7fbc41"
            ],
            [
             0.9,
             "#4d9221"
            ],
            [
             1,
             "#276419"
            ]
           ],
           "sequential": [
            [
             0,
             "#0d0887"
            ],
            [
             0.1111111111111111,
             "#46039f"
            ],
            [
             0.2222222222222222,
             "#7201a8"
            ],
            [
             0.3333333333333333,
             "#9c179e"
            ],
            [
             0.4444444444444444,
             "#bd3786"
            ],
            [
             0.5555555555555556,
             "#d8576b"
            ],
            [
             0.6666666666666666,
             "#ed7953"
            ],
            [
             0.7777777777777778,
             "#fb9f3a"
            ],
            [
             0.8888888888888888,
             "#fdca26"
            ],
            [
             1,
             "#f0f921"
            ]
           ],
           "sequentialminus": [
            [
             0,
             "#0d0887"
            ],
            [
             0.1111111111111111,
             "#46039f"
            ],
            [
             0.2222222222222222,
             "#7201a8"
            ],
            [
             0.3333333333333333,
             "#9c179e"
            ],
            [
             0.4444444444444444,
             "#bd3786"
            ],
            [
             0.5555555555555556,
             "#d8576b"
            ],
            [
             0.6666666666666666,
             "#ed7953"
            ],
            [
             0.7777777777777778,
             "#fb9f3a"
            ],
            [
             0.8888888888888888,
             "#fdca26"
            ],
            [
             1,
             "#f0f921"
            ]
           ]
          },
          "colorway": [
           "#636efa",
           "#EF553B",
           "#00cc96",
           "#ab63fa",
           "#FFA15A",
           "#19d3f3",
           "#FF6692",
           "#B6E880",
           "#FF97FF",
           "#FECB52"
          ],
          "font": {
           "color": "#2a3f5f"
          },
          "geo": {
           "bgcolor": "white",
           "lakecolor": "white",
           "landcolor": "#E5ECF6",
           "showlakes": true,
           "showland": true,
           "subunitcolor": "white"
          },
          "hoverlabel": {
           "align": "left"
          },
          "hovermode": "closest",
          "mapbox": {
           "style": "light"
          },
          "paper_bgcolor": "white",
          "plot_bgcolor": "#E5ECF6",
          "polar": {
           "angularaxis": {
            "gridcolor": "white",
            "linecolor": "white",
            "ticks": ""
           },
           "bgcolor": "#E5ECF6",
           "radialaxis": {
            "gridcolor": "white",
            "linecolor": "white",
            "ticks": ""
           }
          },
          "scene": {
           "xaxis": {
            "backgroundcolor": "#E5ECF6",
            "gridcolor": "white",
            "gridwidth": 2,
            "linecolor": "white",
            "showbackground": true,
            "ticks": "",
            "zerolinecolor": "white"
           },
           "yaxis": {
            "backgroundcolor": "#E5ECF6",
            "gridcolor": "white",
            "gridwidth": 2,
            "linecolor": "white",
            "showbackground": true,
            "ticks": "",
            "zerolinecolor": "white"
           },
           "zaxis": {
            "backgroundcolor": "#E5ECF6",
            "gridcolor": "white",
            "gridwidth": 2,
            "linecolor": "white",
            "showbackground": true,
            "ticks": "",
            "zerolinecolor": "white"
           }
          },
          "shapedefaults": {
           "line": {
            "color": "#2a3f5f"
           }
          },
          "ternary": {
           "aaxis": {
            "gridcolor": "white",
            "linecolor": "white",
            "ticks": ""
           },
           "baxis": {
            "gridcolor": "white",
            "linecolor": "white",
            "ticks": ""
           },
           "bgcolor": "#E5ECF6",
           "caxis": {
            "gridcolor": "white",
            "linecolor": "white",
            "ticks": ""
           }
          },
          "title": {
           "x": 0.05
          },
          "xaxis": {
           "automargin": true,
           "gridcolor": "white",
           "linecolor": "white",
           "ticks": "",
           "title": {
            "standoff": 15
           },
           "zerolinecolor": "white",
           "zerolinewidth": 2
          },
          "yaxis": {
           "automargin": true,
           "gridcolor": "white",
           "linecolor": "white",
           "ticks": "",
           "title": {
            "standoff": 15
           },
           "zerolinecolor": "white",
           "zerolinewidth": 2
          }
         }
        },
        "title": {
         "text": "Model Recall and F1 Performance",
         "x": 0.5
        },
        "width": 1600,
        "xaxis": {
         "anchor": "y",
         "autorange": true,
         "domain": [
          0,
          1
         ],
         "range": [
          -0.5,
          8.5
         ],
         "type": "category"
        },
        "xaxis2": {
         "anchor": "y2",
         "autorange": true,
         "domain": [
          0,
          1
         ],
         "range": [
          -0.5,
          8.5
         ],
         "type": "category"
        },
        "yaxis": {
         "anchor": "x",
         "autorange": true,
         "domain": [
          0.625,
          1
         ],
         "range": [
          0,
          0.8660063845461243
         ],
         "type": "linear"
        },
        "yaxis2": {
         "anchor": "x2",
         "autorange": true,
         "domain": [
          0,
          0.375
         ],
         "range": [
          0,
          0.8864351017306744
         ],
         "type": "linear"
        }
       }
      },
      "image/png": "[encoded data removed]",
      "text/html": [
       "<div>                            <div id=\"6a18020b-f571-4c14-a8e4-7d3aad03268d\" class=\"plotly-graph-div\" style=\"height:600px; width:1600px;\"></div>            <script type=\"text/javascript\">                require([\"plotly\"], function(Plotly) {                    window.PLOTLYENV=window.PLOTLYENV || {};                                    if (document.getElementById(\"6a18020b-f571-4c14-a8e4-7d3aad03268d\")) {                    Plotly.newPlot(                        \"6a18020b-f571-4c14-a8e4-7d3aad03268d\",                        [{\"marker\":{\"color\":\"#636efa\"},\"name\":\"F1 Score\",\"x\":[\"Dummy Majority\",\"Logistic Regression\",\"Logistic Regression (SMOTE)\",\"Decision Tree\",\"Decision Tree (SMOTE)\",\"Random Forest\",\"Random Forest (SMOTE)\",\"LightGBM\",\"LightGBM (SMOTE)\"],\"y\":[0.0,0.09460996133727542,0.09880382775119617,0.0728499621290367,0.05747885042299153,0.07406821239218168,0.05672764357192937,0.07360799862092743,0.14519677340503545],\"type\":\"bar\",\"xaxis\":\"x\",\"yaxis\":\"y\"},{\"marker\":{\"color\":\"#ab63fa\"},\"name\":\"Recall\",\"x\":[\"Dummy Majority\",\"Logistic Regression\",\"Logistic Regression (SMOTE)\",\"Decision Tree\",\"Decision Tree (SMOTE)\",\"Random Forest\",\"Random Forest (SMOTE)\",\"LightGBM\",\"LightGBM (SMOTE)\"],\"y\":[0.0,0.6469673405909798,0.6423017107309487,0.8227060653188181,0.744945567651633,0.7278382581648523,0.6920684292379471,0.6640746500777605,0.4618973561430793],\"type\":\"bar\",\"xaxis\":\"x\",\"yaxis\":\"y\"},{\"marker\":{\"color\":\"#636efa\"},\"showlegend\":false,\"x\":[\"Dummy Majority\",\"Logistic Regression\",\"Logistic Regression (SMOTE)\",\"Decision Tree\",\"Decision Tree (SMOTE)\",\"Random Forest\",\"Random Forest (SMOTE)\",\"LightGBM\",\"LightGBM (SMOTE)\"],\"y\":[0.0,0.2671861656703672,0.08215025826606043,0.14021694427308246,0.15264322879236497,0.26682310381071106,0.23391971744888948,0.3192244993013507,0.7401732786137711],\"type\":\"bar\",\"xaxis\":\"x2\",\"yaxis\":\"y2\"},{\"marker\":{\"color\":\"#ab63fa\"},\"showlegend\":false,\"x\":[\"Dummy Majority\",\"Logistic Regression\",\"Logistic Regression (SMOTE)\",\"Decision Tree\",\"Decision Tree (SMOTE)\",\"Random Forest\",\"Random Forest (SMOTE)\",\"LightGBM\",\"LightGBM (SMOTE)\"],\"y\":[0.0,0.7688527107971126,0.6118875748732914,0.8378129319612962,0.8155429273537091,0.8382736906773153,0.7934265089847949,0.8421133466441407,0.6232529565350945],\"type\":\"bar\",\"xaxis\":\"x2\",\"yaxis\":\"y2\"}],                        {\"template\":{\"data\":{\"histogram2dcontour\":[{\"type\":\"histogram2dcontour\",\"colorbar\":{\"outlinewidth\":0,\"ticks\":\"\"},\"colorscale\":[[0.0,\"#0d0887\"],[0.1111111111111111,\"#46039f\"],[0.2222222222222222,\"#7201a8\"],[0.3333333333333333,\"#9c179e\"],[0.4444444444444444,\"#bd3786\"],[0.5555555555555556,\"#d8576b\"],[0.6666666666666666,\"#ed7953\"],[0.7777777777777778,\"#fb9f3a\"],[0.8888888888888888,\"#fdca26\"],[1.0,\"#f0f921\"]]}],\"choropleth\":[{\"type\":\"choropleth\",\"colorbar\":{\"outlinewidth\":0,\"ticks\":\"\"}}],\"histogram2d\":[{\"type\":\"histogram2d\",\"colorbar\":{\"outlinewidth\":0,\"ticks\":\"\"},\"colorscale\":[[0.0,\"#0d0887\"],[0.1111111111111111,\"#46039f\"],[0.2222222222222222,\"#7201a8\"],[0.3333333333333333,\"#9c179e\"],[0.4444444444444444,\"#bd3786\"],[0.5555555555555556,\"#d8576b\"],[0.6666666666666666,\"#ed7953\"],[0.7777777777777778,\"#fb9f3a\"],[0.8888888888888888,\"#fdca26\"],[1.0,\"#f0f921\"]]}],\"heatmap\":[{\"type\":\"heatmap\",\"colorbar\":{\"outlinewidth\":0,\"ticks\":\"\"},\"colorscale\":[[0.0,\"#0d0887\"],[0.1111111111111111,\"#46039f\"],[0.2222222222222222,\"#7201a8\"],[0.3333333333333333,\"#9c179e\"],[0.4444444444444444,\"#bd3786\"],[0.5555555555555556,\"#d8576b\"],[0.6666666666666666,\"#ed7953\"],[0.7777777777777778,\"#fb9f3a\"],[0.8888888888888888,\"#fdca26\"],[1.0,\"#f0f921\"]]}],\"heatmapgl\":[{\"type\":\"heatmapgl\",\"colorbar\":{\"outlinewidth\":0,\"ticks\":\"\"},\"colorscale\":[[0.0,\"#0d0887\"],[0.1111111111111111,\"#46039f\"],[0.2222222222222222,\"#7201a8\"],[0.3333333333333333,\"#9c179e\"],[0.4444444444444444,\"#bd3786\"],[0.5555555555555556,\"#d8576b\"],[0.6666666666666666,\"#ed7953\"],[0.7777777777777778,\"#fb9f3a\"],[0.8888888888888888,\"#fdca26\"],[1.0,\"#f0f921\"]]}],\"contourcarpet\":[{\"type\":\"contourcarpet\",\"colorbar\":{\"outlinewidth\":0,\"ticks\":\"\"}}],\"contour\":[{\"type\":\"contour\",\"colorbar\":{\"outlinewidth\":0,\"ticks\":\"\"},\"colorscale\":[[0.0,\"#0d0887\"],[0.1111111111111111,\"#46039f\"],[0.2222222222222222,\"#7201a8\"],[0.3333333333333333,\"#9c179e\"],[0.4444444444444444,\"#bd3786\"],[0.5555555555555556,\"#d8576b\"],[0.6666666666666666,\"#ed7953\"],[0.7777777777777778,\"#fb9f3a\"],[0.8888888888888888,\"#fdca26\"],[1.0,\"#f0f921\"]]}],\"surface\":[{\"type\":\"surface\",\"colorbar\":{\"outlinewidth\":0,\"ticks\":\"\"},\"colorscale\":[[0.0,\"#0d0887\"],[0.1111111111111111,\"#46039f\"],[0.2222222222222222,\"#7201a8\"],[0.3333333333333333,\"#9c179e\"],[0.4444444444444444,\"#bd3786\"],[0.5555555555555556,\"#d8576b\"],[0.6666666666666666,\"#ed7953\"],[0.7777777777777778,\"#fb9f3a\"],[0.8888888888888888,\"#fdca26\"],[1.0,\"#f0f921\"]]}],\"mesh3d\":[{\"type\":\"mesh3d\",\"colorbar\":{\"outlinewidth\":0,\"ticks\":\"\"}}],\"scatter\":[{\"fillpattern\":{\"fillmode\":\"overlay\",\"size\":10,\"solidity\":0.2},\"type\":\"scatter\"}],\"parcoords\":[{\"type\":\"parcoords\",\"line\":{\"colorbar\":{\"outlinewidth\":0,\"ticks\":\"\"}}}],\"scatterpolargl\":[{\"type\":\"scatterpolargl\",\"marker\":{\"colorbar\":{\"outlinewidth\":0,\"ticks\":\"\"}}}],\"bar\":[{\"error_x\":{\"color\":\"#2a3f5f\"},\"error_y\":{\"color\":\"#2a3f5f\"},\"marker\":{\"line\":{\"color\":\"#E5ECF6\",\"width\":0.5},\"pattern\":{\"fillmode\":\"overlay\",\"size\":10,\"solidity\":0.2}},\"type\":\"bar\"}],\"scattergeo\":[{\"type\":\"scattergeo\",\"marker\":{\"colorbar\":{\"outlinewidth\":0,\"ticks\":\"\"}}}],\"scatterpolar\":[{\"type\":\"scatterpolar\",\"marker\":{\"colorbar\":{\"outlinewidth\":0,\"ticks\":\"\"}}}],\"histogram\":[{\"marker\":{\"pattern\":{\"fillmode\":\"overlay\",\"size\":10,\"solidity\":0.2}},\"type\":\"histogram\"}],\"scattergl\":[{\"type\":\"scattergl\",\"marker\":{\"colorbar\":{\"outlinewidth\":0,\"ticks\":\"\"}}}],\"scatter3d\":[{\"type\":\"scatter3d\",\"line\":{\"colorbar\":{\"outlinewidth\":0,\"ticks\":\"\"}},\"marker\":{\"colorbar\":{\"outlinewidth\":0,\"ticks\":\"\"}}}],\"scattermapbox\":[{\"type\":\"scattermapbox\",\"marker\":{\"colorbar\":{\"outlinewidth\":0,\"ticks\":\"\"}}}],\"scatterternary\":[{\"type\":\"scatterternary\",\"marker\":{\"colorbar\":{\"outlinewidth\":0,\"ticks\":\"\"}}}],\"scattercarpet\":[{\"type\":\"scattercarpet\",\"marker\":{\"colorbar\":{\"outlinewidth\":0,\"ticks\":\"\"}}}],\"carpet\":[{\"aaxis\":{\"endlinecolor\":\"#2a3f5f\",\"gridcolor\":\"white\",\"linecolor\":\"white\",\"minorgridcolor\":\"white\",\"startlinecolor\":\"#2a3f5f\"},\"baxis\":{\"endlinecolor\":\"#2a3f5f\",\"gridcolor\":\"white\",\"linecolor\":\"white\",\"minorgridcolor\":\"white\",\"startlinecolor\":\"#2a3f5f\"},\"type\":\"carpet\"}],\"table\":[{\"cells\":{\"fill\":{\"color\":\"#EBF0F8\"},\"line\":{\"color\":\"white\"}},\"header\":{\"fill\":{\"color\":\"#C8D4E3\"},\"line\":{\"color\":\"white\"}},\"type\":\"table\"}],\"barpolar\":[{\"marker\":{\"line\":{\"color\":\"#E5ECF6\",\"width\":0.5},\"pattern\":{\"fillmode\":\"overlay\",\"size\":10,\"solidity\":0.2}},\"type\":\"barpolar\"}],\"pie\":[{\"automargin\":true,\"type\":\"pie\"}]},\"layout\":{\"autotypenumbers\":\"strict\",\"colorway\":[\"#636efa\",\"#EF553B\",\"#00cc96\",\"#ab63fa\",\"#FFA15A\",\"#19d3f3\",\"#FF6692\",\"#B6E880\",\"#FF97FF\",\"#FECB52\"],\"font\":{\"color\":\"#2a3f5f\"},\"hovermode\":\"closest\",\"hoverlabel\":{\"align\":\"left\"},\"paper_bgcolor\":\"white\",\"plot_bgcolor\":\"#E5ECF6\",\"polar\":{\"bgcolor\":\"#E5ECF6\",\"angularaxis\":{\"gridcolor\":\"white\",\"linecolor\":\"white\",\"ticks\":\"\"},\"radialaxis\":{\"gridcolor\":\"white\",\"linecolor\":\"white\",\"ticks\":\"\"}},\"ternary\":{\"bgcolor\":\"#E5ECF6\",\"aaxis\":{\"gridcolor\":\"white\",\"linecolor\":\"white\",\"ticks\":\"\"},\"baxis\":{\"gridcolor\":\"white\",\"linecolor\":\"white\",\"ticks\":\"\"},\"caxis\":{\"gridcolor\":\"white\",\"linecolor\":\"white\",\"ticks\":\"\"}},\"coloraxis\":{\"colorbar\":{\"outlinewidth\":0,\"ticks\":\"\"}},\"colorscale\":{\"sequential\":[[0.0,\"#0d0887\"],[0.1111111111111111,\"#46039f\"],[0.2222222222222222,\"#7201a8\"],[0.3333333333333333,\"#9c179e\"],[0.4444444444444444,\"#bd3786\"],[0.5555555555555556,\"#d8576b\"],[0.6666666666666666,\"#ed7953\"],[0.7777777777777778,\"#fb9f3a\"],[0.8888888888888888,\"#fdca26\"],[1.0,\"#f0f921\"]],\"sequentialminus\":[[0.0,\"#0d0887\"],[0.1111111111111111,\"#46039f\"],[0.2222222222222222,\"#7201a8\"],[0.3333333333333333,\"#9c179e\"],[0.4444444444444444,\"#bd3786\"],[0.5555555555555556,\"#d8576b\"],[0.6666666666666666,\"#ed7953\"],[0.7777777777777778,\"#fb9f3a\"],[0.8888888888888888,\"#fdca26\"],[1.0,\"#f0f921\"]],\"diverging\":[[0,\"#8e0152\"],[0.1,\"#c51b7d\"],[0.2,\"#de77ae\"],[0.3,\"#f1b6da\"],[0.4,\"#fde0ef\"],[0.5,\"#f7f7f7\"],[0.6,\"#e6f5d0\"],[0.7,\"#b8e186\"],[0.8,\"#7fbc41\"],[0.9,\"#4d9221\"],[1,\"#276419\"]]},\"xaxis\":{\"gridcolor\":\"white\",\"linecolor\":\"white\",\"ticks\":\"\",\"title\":{\"standoff\":15},\"zerolinecolor\":\"white\",\"automargin\":true,\"zerolinewidth\":2},\"yaxis\":{\"gridcolor\":\"white\",\"linecolor\":\"white\",\"ticks\":\"\",\"title\":{\"standoff\":15},\"zerolinecolor\":\"white\",\"automargin\":true,\"zerolinewidth\":2},\"scene\":{\"xaxis\":{\"backgroundcolor\":\"#E5ECF6\",\"gridcolor\":\"white\",\"linecolor\":\"white\",\"showbackground\":true,\"ticks\":\"\",\"zerolinecolor\":\"white\",\"gridwidth\":2},\"yaxis\":{\"backgroundcolor\":\"#E5ECF6\",\"gridcolor\":\"white\",\"linecolor\":\"white\",\"showbackground\":true,\"ticks\":\"\",\"zerolinecolor\":\"white\",\"gridwidth\":2},\"zaxis\":{\"backgroundcolor\":\"#E5ECF6\",\"gridcolor\":\"white\",\"linecolor\":\"white\",\"showbackground\":true,\"ticks\":\"\",\"zerolinecolor\":\"white\",\"gridwidth\":2}},\"shapedefaults\":{\"line\":{\"color\":\"#2a3f5f\"}},\"annotationdefaults\":{\"arrowcolor\":\"#2a3f5f\",\"arrowhead\":0,\"arrowwidth\":1},\"geo\":{\"bgcolor\":\"white\",\"landcolor\":\"#E5ECF6\",\"subunitcolor\":\"white\",\"showland\":true,\"showlakes\":true,\"lakecolor\":\"white\"},\"title\":{\"x\":0.05},\"mapbox\":{\"style\":\"light\"}}},\"xaxis\":{\"anchor\":\"y\",\"domain\":[0.0,1.0]},\"yaxis\":{\"anchor\":\"x\",\"domain\":[0.625,1.0]},\"xaxis2\":{\"anchor\":\"y2\",\"domain\":[0.0,1.0]},\"yaxis2\":{\"anchor\":\"x2\",\"domain\":[0.0,0.375]},\"annotations\":[{\"font\":{\"size\":16},\"showarrow\":false,\"text\":\"Exports\",\"x\":0.02,\"xanchor\":\"center\",\"xref\":\"paper\",\"y\":1.0,\"yanchor\":\"bottom\",\"yref\":\"paper\"},{\"font\":{\"size\":16},\"showarrow\":false,\"text\":\"Imports\",\"x\":0.02,\"xanchor\":\"center\",\"xref\":\"paper\",\"y\":0.375,\"yanchor\":\"bottom\",\"yref\":\"paper\"}],\"title\":{\"text\":\"Model Recall and F1 Performance\",\"x\":0.5},\"height\":600,\"width\":1600},                        {\"responsive\": true}                    ).then(function(){\n",
       "                            \n",
       "var gd = document.getElementById('6a18020b-f571-4c14-a8e4-7d3aad03268d');\n",
       "var x = new MutationObserver(function (mutations, observer) {{\n",
       "        var display = window.getComputedStyle(gd).display;\n",
       "        if (!display || display === 'none') {{\n",
       "            console.log([gd, 'removed!']);\n",
       "            Plotly.purge(gd);\n",
       "            observer.disconnect();\n",
       "        }}\n",
       "}});\n",
       "\n",
       "// Listen for the removal of the full notebook cells\n",
       "var notebookContainer = gd.closest('#notebook-container');\n",
       "if (notebookContainer) {{\n",
       "    x.observe(notebookContainer, {childList: true});\n",
       "}}\n",
       "\n",
       "// Listen for the clearing of the current output cell\n",
       "var outputEl = gd.closest('.output');\n",
       "if (outputEl) {{\n",
       "    x.observe(outputEl, {childList: true});\n",
       "}}\n",
       "\n",
       "                        })                };                });            </script>        </div>"
      ]
     },
     "metadata": {},
     "output_type": "display_data"
    }
   ],
   "source": [
    "fig = make_subplots(rows=2,cols=1, subplot_titles=(\"Exports\",\"Imports\"), vertical_spacing=.25)\n",
    "\n",
    "# export\n",
    "trace1 = go.Bar(name='F1 Score', x=all_model_names, y=export_f1, marker_color=\"#636efa\")\n",
    "trace2 = go.Bar(name='Recall', x=all_model_names, y=export_recall, marker_color=\"#ab63fa\")\n",
    "# import\n",
    "trace3 = go.Bar(showlegend=False, x=all_model_names, y=import_f1, marker_color=\"#636efa\")\n",
    "trace4 = go.Bar(showlegend=False, x=all_model_names, y=import_recall, marker_color=\"#ab63fa\")\n",
    "\n",
    "fig.append_trace(trace1, 1,1)\n",
    "fig.append_trace(trace2, 1,1)\n",
    "\n",
    "fig.append_trace(trace3, 2,1)\n",
    "fig.append_trace(trace4, 2,1)\n",
    "\n",
    "fig.update_layout(height=600, width = 1600, title={\"text\":\"Model Recall and F1 Performance\", \"x\":.5})\n",
    "fig.update_annotations(x=.02, selector={\"text\":\"Exports\"})\n",
    "fig.update_annotations(x=.02, selector={\"text\":\"Imports\"})\n",
    "fig.show()"
   ]
  },
  {
   "cell_type": "code",
   "execution_count": 19,
   "metadata": {},
   "outputs": [],
   "source": [
    "from sklearn import tree\n",
    "import graphviz\n",
    "from IPython.display import display"
   ]
  },
  {
   "cell_type": "code",
   "execution_count": 20,
   "metadata": {},
   "outputs": [
    {
     "data": {
      "text/plain": [
       "'import_dt.pdf'"
      ]
     },
     "execution_count": 20,
     "metadata": {},
     "output_type": "execute_result"
    }
   ],
   "source": [
    "#dot_data = tree.export_graphviz(export_dt_pipe.best_estimator_.named_steps['clf'], out_file=None) \n",
    "dot_data = tree.export_graphviz(import_dt_pipe.best_estimator_.named_steps['clf'], out_file=None, \n",
    "                                feature_names=feature_cols,\n",
    "                                class_names=[\"Clear\",\"Seize\"],\n",
    "                                filled=True, rounded=True,  \n",
    "                                special_characters=True)  \n",
    "graph = graphviz.Source(dot_data)  \n",
    "graph.render(\"import_dt\")"
   ]
  },
  {
   "cell_type": "code",
   "execution_count": 21,
   "metadata": {},
   "outputs": [
    {
     "data": {
      "text/html": [
       "<style>#sk-container-id-1 {color: black;background-color: white;}#sk-container-id-1 pre{padding: 0;}#sk-container-id-1 div.sk-toggleable {background-color: white;}#sk-container-id-1 label.sk-toggleable__label {cursor: pointer;display: block;width: 100%;margin-bottom: 0;padding: 0.3em;box-sizing: border-box;text-align: center;}#sk-container-id-1 label.sk-toggleable__label-arrow:before {content: \"▸\";float: left;margin-right: 0.25em;color: #696969;}#sk-container-id-1 label.sk-toggleable__label-arrow:hover:before {color: black;}#sk-container-id-1 div.sk-estimator:hover label.sk-toggleable__label-arrow:before {color: black;}#sk-container-id-1 div.sk-toggleable__content {max-height: 0;max-width: 0;overflow: hidden;text-align: left;background-color: #f0f8ff;}#sk-container-id-1 div.sk-toggleable__content pre {margin: 0.2em;color: black;border-radius: 0.25em;background-color: #f0f8ff;}#sk-container-id-1 input.sk-toggleable__control:checked~div.sk-toggleable__content {max-height: 200px;max-width: 100%;overflow: auto;}#sk-container-id-1 input.sk-toggleable__control:checked~label.sk-toggleable__label-arrow:before {content: \"▾\";}#sk-container-id-1 div.sk-estimator input.sk-toggleable__control:checked~label.sk-toggleable__label {background-color: #d4ebff;}#sk-container-id-1 div.sk-label input.sk-toggleable__control:checked~label.sk-toggleable__label {background-color: #d4ebff;}#sk-container-id-1 input.sk-hidden--visually {border: 0;clip: rect(1px 1px 1px 1px);clip: rect(1px, 1px, 1px, 1px);height: 1px;margin: -1px;overflow: hidden;padding: 0;position: absolute;width: 1px;}#sk-container-id-1 div.sk-estimator {font-family: monospace;background-color: #f0f8ff;border: 1px dotted black;border-radius: 0.25em;box-sizing: border-box;margin-bottom: 0.5em;}#sk-container-id-1 div.sk-estimator:hover {background-color: #d4ebff;}#sk-container-id-1 div.sk-parallel-item::after {content: \"\";width: 100%;border-bottom: 1px solid gray;flex-grow: 1;}#sk-container-id-1 div.sk-label:hover label.sk-toggleable__label {background-color: #d4ebff;}#sk-container-id-1 div.sk-serial::before {content: \"\";position: absolute;border-left: 1px solid gray;box-sizing: border-box;top: 0;bottom: 0;left: 50%;z-index: 0;}#sk-container-id-1 div.sk-serial {display: flex;flex-direction: column;align-items: center;background-color: white;padding-right: 0.2em;padding-left: 0.2em;position: relative;}#sk-container-id-1 div.sk-item {position: relative;z-index: 1;}#sk-container-id-1 div.sk-parallel {display: flex;align-items: stretch;justify-content: center;background-color: white;position: relative;}#sk-container-id-1 div.sk-item::before, #sk-container-id-1 div.sk-parallel-item::before {content: \"\";position: absolute;border-left: 1px solid gray;box-sizing: border-box;top: 0;bottom: 0;left: 50%;z-index: -1;}#sk-container-id-1 div.sk-parallel-item {display: flex;flex-direction: column;z-index: 1;position: relative;background-color: white;}#sk-container-id-1 div.sk-parallel-item:first-child::after {align-self: flex-end;width: 50%;}#sk-container-id-1 div.sk-parallel-item:last-child::after {align-self: flex-start;width: 50%;}#sk-container-id-1 div.sk-parallel-item:only-child::after {width: 0;}#sk-container-id-1 div.sk-dashed-wrapped {border: 1px dashed gray;margin: 0 0.4em 0.5em 0.4em;box-sizing: border-box;padding-bottom: 0.4em;background-color: white;}#sk-container-id-1 div.sk-label label {font-family: monospace;font-weight: bold;display: inline-block;line-height: 1.2em;}#sk-container-id-1 div.sk-label-container {text-align: center;}#sk-container-id-1 div.sk-container {/* jupyter's `normalize.less` sets `[hidden] { display: none; }` but bootstrap.min.css set `[hidden] { display: none !important; }` so we also need the `!important` here to be able to override the default hidden behavior on the sphinx rendered scikit-learn.org. See: https://github.com/scikit-learn/scikit-learn/issues/21755 */display: inline-block !important;position: relative;}#sk-container-id-1 div.sk-text-repr-fallback {display: none;}</style><div id=\"sk-container-id-1\" class=\"sk-top-container\"><div class=\"sk-text-repr-fallback\"><pre>GridSearchCV(cv=5,\n",
       "             estimator=Pipeline(steps=[(&#x27;targetEncoding&#x27;,\n",
       "                                        ColumnTransformer(remainder=&#x27;passthrough&#x27;,\n",
       "                                                          transformers=[(&#x27;targetencoder&#x27;,\n",
       "                                                                         TargetEncoder(),\n",
       "                                                                         [&#x27;species_code&#x27;,\n",
       "                                                                          &#x27;wildlf_desc&#x27;,\n",
       "                                                                          &#x27;wildlf_cat&#x27;,\n",
       "                                                                          &#x27;ctry_org&#x27;,\n",
       "                                                                          &#x27;ctry_ie&#x27;,\n",
       "                                                                          &#x27;purp&#x27;,\n",
       "                                                                          &#x27;src&#x27;,\n",
       "                                                                          &#x27;trans_mode&#x27;,\n",
       "                                                                          &#x27;pt_cd&#x27;,\n",
       "                                                                          &#x27;ship_date_mm&#x27;])])),\n",
       "                                       (&#x27;standardScaler&#x27;, StandardScaler()),\n",
       "                                       (&#x27;clf&#x27;,\n",
       "                                        LGBMClassifier(random_state=42,\n",
       "                                                       verbose=-1))]),\n",
       "             param_grid={&#x27;clf__is_unbalance&#x27;: [True, False],\n",
       "                         &#x27;clf__learning_rate&#x27;: [0.05, 0.1],\n",
       "                         &#x27;clf__max_depth&#x27;: [5, 10, 15, 20, -1],\n",
       "                         &#x27;clf__n_estimators&#x27;: [500, 1000],\n",
       "                         &#x27;clf__num_leaves&#x27;: [10, 20, 50, 70]},\n",
       "             scoring=&#x27;recall&#x27;, verbose=3)</pre><b>In a Jupyter environment, please rerun this cell to show the HTML representation or trust the notebook. <br />On GitHub, the HTML representation is unable to render, please try loading this page with nbviewer.org.</b></div><div class=\"sk-container\" hidden><div class=\"sk-item sk-dashed-wrapped\"><div class=\"sk-label-container\"><div class=\"sk-label sk-toggleable\"><input class=\"sk-toggleable__control sk-hidden--visually\" id=\"sk-estimator-id-1\" type=\"checkbox\" ><label for=\"sk-estimator-id-1\" class=\"sk-toggleable__label sk-toggleable__label-arrow\">GridSearchCV</label><div class=\"sk-toggleable__content\"><pre>GridSearchCV(cv=5,\n",
       "             estimator=Pipeline(steps=[(&#x27;targetEncoding&#x27;,\n",
       "                                        ColumnTransformer(remainder=&#x27;passthrough&#x27;,\n",
       "                                                          transformers=[(&#x27;targetencoder&#x27;,\n",
       "                                                                         TargetEncoder(),\n",
       "                                                                         [&#x27;species_code&#x27;,\n",
       "                                                                          &#x27;wildlf_desc&#x27;,\n",
       "                                                                          &#x27;wildlf_cat&#x27;,\n",
       "                                                                          &#x27;ctry_org&#x27;,\n",
       "                                                                          &#x27;ctry_ie&#x27;,\n",
       "                                                                          &#x27;purp&#x27;,\n",
       "                                                                          &#x27;src&#x27;,\n",
       "                                                                          &#x27;trans_mode&#x27;,\n",
       "                                                                          &#x27;pt_cd&#x27;,\n",
       "                                                                          &#x27;ship_date_mm&#x27;])])),\n",
       "                                       (&#x27;standardScaler&#x27;, StandardScaler()),\n",
       "                                       (&#x27;clf&#x27;,\n",
       "                                        LGBMClassifier(random_state=42,\n",
       "                                                       verbose=-1))]),\n",
       "             param_grid={&#x27;clf__is_unbalance&#x27;: [True, False],\n",
       "                         &#x27;clf__learning_rate&#x27;: [0.05, 0.1],\n",
       "                         &#x27;clf__max_depth&#x27;: [5, 10, 15, 20, -1],\n",
       "                         &#x27;clf__n_estimators&#x27;: [500, 1000],\n",
       "                         &#x27;clf__num_leaves&#x27;: [10, 20, 50, 70]},\n",
       "             scoring=&#x27;recall&#x27;, verbose=3)</pre></div></div></div><div class=\"sk-parallel\"><div class=\"sk-parallel-item\"><div class=\"sk-item\"><div class=\"sk-label-container\"><div class=\"sk-label sk-toggleable\"><input class=\"sk-toggleable__control sk-hidden--visually\" id=\"sk-estimator-id-2\" type=\"checkbox\" ><label for=\"sk-estimator-id-2\" class=\"sk-toggleable__label sk-toggleable__label-arrow\">estimator: Pipeline</label><div class=\"sk-toggleable__content\"><pre>Pipeline(steps=[(&#x27;targetEncoding&#x27;,\n",
       "                 ColumnTransformer(remainder=&#x27;passthrough&#x27;,\n",
       "                                   transformers=[(&#x27;targetencoder&#x27;,\n",
       "                                                  TargetEncoder(),\n",
       "                                                  [&#x27;species_code&#x27;,\n",
       "                                                   &#x27;wildlf_desc&#x27;, &#x27;wildlf_cat&#x27;,\n",
       "                                                   &#x27;ctry_org&#x27;, &#x27;ctry_ie&#x27;,\n",
       "                                                   &#x27;purp&#x27;, &#x27;src&#x27;, &#x27;trans_mode&#x27;,\n",
       "                                                   &#x27;pt_cd&#x27;,\n",
       "                                                   &#x27;ship_date_mm&#x27;])])),\n",
       "                (&#x27;standardScaler&#x27;, StandardScaler()),\n",
       "                (&#x27;clf&#x27;, LGBMClassifier(random_state=42, verbose=-1))])</pre></div></div></div><div class=\"sk-serial\"><div class=\"sk-item\"><div class=\"sk-serial\"><div class=\"sk-item sk-dashed-wrapped\"><div class=\"sk-label-container\"><div class=\"sk-label sk-toggleable\"><input class=\"sk-toggleable__control sk-hidden--visually\" id=\"sk-estimator-id-3\" type=\"checkbox\" ><label for=\"sk-estimator-id-3\" class=\"sk-toggleable__label sk-toggleable__label-arrow\">targetEncoding: ColumnTransformer</label><div class=\"sk-toggleable__content\"><pre>ColumnTransformer(remainder=&#x27;passthrough&#x27;,\n",
       "                  transformers=[(&#x27;targetencoder&#x27;, TargetEncoder(),\n",
       "                                 [&#x27;species_code&#x27;, &#x27;wildlf_desc&#x27;, &#x27;wildlf_cat&#x27;,\n",
       "                                  &#x27;ctry_org&#x27;, &#x27;ctry_ie&#x27;, &#x27;purp&#x27;, &#x27;src&#x27;,\n",
       "                                  &#x27;trans_mode&#x27;, &#x27;pt_cd&#x27;, &#x27;ship_date_mm&#x27;])])</pre></div></div></div><div class=\"sk-parallel\"><div class=\"sk-parallel-item\"><div class=\"sk-item\"><div class=\"sk-label-container\"><div class=\"sk-label sk-toggleable\"><input class=\"sk-toggleable__control sk-hidden--visually\" id=\"sk-estimator-id-4\" type=\"checkbox\" ><label for=\"sk-estimator-id-4\" class=\"sk-toggleable__label sk-toggleable__label-arrow\">targetencoder</label><div class=\"sk-toggleable__content\"><pre>[&#x27;species_code&#x27;, &#x27;wildlf_desc&#x27;, &#x27;wildlf_cat&#x27;, &#x27;ctry_org&#x27;, &#x27;ctry_ie&#x27;, &#x27;purp&#x27;, &#x27;src&#x27;, &#x27;trans_mode&#x27;, &#x27;pt_cd&#x27;, &#x27;ship_date_mm&#x27;]</pre></div></div></div><div class=\"sk-serial\"><div class=\"sk-item\"><div class=\"sk-estimator sk-toggleable\"><input class=\"sk-toggleable__control sk-hidden--visually\" id=\"sk-estimator-id-5\" type=\"checkbox\" ><label for=\"sk-estimator-id-5\" class=\"sk-toggleable__label sk-toggleable__label-arrow\">TargetEncoder</label><div class=\"sk-toggleable__content\"><pre>TargetEncoder()</pre></div></div></div></div></div></div><div class=\"sk-parallel-item\"><div class=\"sk-item\"><div class=\"sk-label-container\"><div class=\"sk-label sk-toggleable\"><input class=\"sk-toggleable__control sk-hidden--visually\" id=\"sk-estimator-id-6\" type=\"checkbox\" ><label for=\"sk-estimator-id-6\" class=\"sk-toggleable__label sk-toggleable__label-arrow\">remainder</label><div class=\"sk-toggleable__content\"><pre></pre></div></div></div><div class=\"sk-serial\"><div class=\"sk-item\"><div class=\"sk-estimator sk-toggleable\"><input class=\"sk-toggleable__control sk-hidden--visually\" id=\"sk-estimator-id-7\" type=\"checkbox\" ><label for=\"sk-estimator-id-7\" class=\"sk-toggleable__label sk-toggleable__label-arrow\">passthrough</label><div class=\"sk-toggleable__content\"><pre>passthrough</pre></div></div></div></div></div></div></div></div><div class=\"sk-item\"><div class=\"sk-estimator sk-toggleable\"><input class=\"sk-toggleable__control sk-hidden--visually\" id=\"sk-estimator-id-8\" type=\"checkbox\" ><label for=\"sk-estimator-id-8\" class=\"sk-toggleable__label sk-toggleable__label-arrow\">StandardScaler</label><div class=\"sk-toggleable__content\"><pre>StandardScaler()</pre></div></div></div><div class=\"sk-item\"><div class=\"sk-estimator sk-toggleable\"><input class=\"sk-toggleable__control sk-hidden--visually\" id=\"sk-estimator-id-9\" type=\"checkbox\" ><label for=\"sk-estimator-id-9\" class=\"sk-toggleable__label sk-toggleable__label-arrow\">LGBMClassifier</label><div class=\"sk-toggleable__content\"><pre>LGBMClassifier(random_state=42, verbose=-1)</pre></div></div></div></div></div></div></div></div></div></div></div></div>"
      ],
      "text/plain": [
       "GridSearchCV(cv=5,\n",
       "             estimator=Pipeline(steps=[('targetEncoding',\n",
       "                                        ColumnTransformer(remainder='passthrough',\n",
       "                                                          transformers=[('targetencoder',\n",
       "                                                                         TargetEncoder(),\n",
       "                                                                         ['species_code',\n",
       "                                                                          'wildlf_desc',\n",
       "                                                                          'wildlf_cat',\n",
       "                                                                          'ctry_org',\n",
       "                                                                          'ctry_ie',\n",
       "                                                                          'purp',\n",
       "                                                                          'src',\n",
       "                                                                          'trans_mode',\n",
       "                                                                          'pt_cd',\n",
       "                                                                          'ship_date_mm'])])),\n",
       "                                       ('standardScaler', StandardScaler()),\n",
       "                                       ('clf',\n",
       "                                        LGBMClassifier(random_state=42,\n",
       "                                                       verbose=-1))]),\n",
       "             param_grid={'clf__is_unbalance': [True, False],\n",
       "                         'clf__learning_rate': [0.05, 0.1],\n",
       "                         'clf__max_depth': [5, 10, 15, 20, -1],\n",
       "                         'clf__n_estimators': [500, 1000],\n",
       "                         'clf__num_leaves': [10, 20, 50, 70]},\n",
       "             scoring='recall', verbose=3)"
      ]
     },
     "execution_count": 21,
     "metadata": {},
     "output_type": "execute_result"
    }
   ],
   "source": [
    "import_lgbm_pipe"
   ]
  },
  {
   "cell_type": "code",
   "execution_count": 29,
   "metadata": {},
   "outputs": [],
   "source": [
    "col_names = [\"Data Set\",\"Metric\"] + all_model_names\n",
    "row1 = [\"Import\",\""
   ]
  },
  {
   "cell_type": "code",
   "execution_count": 40,
   "metadata": {},
   "outputs": [
    {
     "data": {
      "text/html": [
       "<div>\n",
       "<style scoped>\n",
       "    .dataframe tbody tr th:only-of-type {\n",
       "        vertical-align: middle;\n",
       "    }\n",
       "\n",
       "    .dataframe tbody tr th {\n",
       "        vertical-align: top;\n",
       "    }\n",
       "\n",
       "    .dataframe thead th {\n",
       "        text-align: right;\n",
       "    }\n",
       "</style>\n",
       "<table border=\"1\" class=\"dataframe\">\n",
       "  <thead>\n",
       "    <tr style=\"text-align: right;\">\n",
       "      <th></th>\n",
       "      <th>Data Set</th>\n",
       "      <th>Metric</th>\n",
       "      <th>Dummy Majority</th>\n",
       "      <th>Logistic Regression</th>\n",
       "      <th>Logistic Regression (SMOTE)</th>\n",
       "      <th>Decision Tree</th>\n",
       "      <th>Decision Tree (SMOTE)</th>\n",
       "      <th>Random Forest</th>\n",
       "      <th>Random Forest (SMOTE)</th>\n",
       "      <th>LightBGM</th>\n",
       "      <th>LightBGM (SMOTE)</th>\n",
       "    </tr>\n",
       "  </thead>\n",
       "  <tbody>\n",
       "    <tr>\n",
       "      <th>0</th>\n",
       "      <td>Export</td>\n",
       "      <td>F1</td>\n",
       "      <td>0.0</td>\n",
       "      <td>0.095</td>\n",
       "      <td>0.099</td>\n",
       "      <td>0.073</td>\n",
       "      <td>0.057</td>\n",
       "      <td>0.074</td>\n",
       "      <td>0.057</td>\n",
       "      <td>0.074</td>\n",
       "      <td>0.145</td>\n",
       "    </tr>\n",
       "    <tr>\n",
       "      <th>1</th>\n",
       "      <td>Export</td>\n",
       "      <td>Recall</td>\n",
       "      <td>0.0</td>\n",
       "      <td>0.647</td>\n",
       "      <td>0.642</td>\n",
       "      <td>0.823</td>\n",
       "      <td>0.745</td>\n",
       "      <td>0.728</td>\n",
       "      <td>0.692</td>\n",
       "      <td>0.664</td>\n",
       "      <td>0.462</td>\n",
       "    </tr>\n",
       "    <tr>\n",
       "      <th>2</th>\n",
       "      <td>Import</td>\n",
       "      <td>F1</td>\n",
       "      <td>0.0</td>\n",
       "      <td>0.267</td>\n",
       "      <td>0.082</td>\n",
       "      <td>0.140</td>\n",
       "      <td>0.153</td>\n",
       "      <td>0.267</td>\n",
       "      <td>0.234</td>\n",
       "      <td>0.319</td>\n",
       "      <td>0.740</td>\n",
       "    </tr>\n",
       "    <tr>\n",
       "      <th>3</th>\n",
       "      <td>Import</td>\n",
       "      <td>Recall</td>\n",
       "      <td>0.0</td>\n",
       "      <td>0.769</td>\n",
       "      <td>0.612</td>\n",
       "      <td>0.838</td>\n",
       "      <td>0.816</td>\n",
       "      <td>0.838</td>\n",
       "      <td>0.793</td>\n",
       "      <td>0.842</td>\n",
       "      <td>0.623</td>\n",
       "    </tr>\n",
       "  </tbody>\n",
       "</table>\n",
       "</div>"
      ],
      "text/plain": [
       "  Data Set  Metric  Dummy Majority  Logistic Regression  \\\n",
       "0   Export      F1             0.0                0.095   \n",
       "1   Export  Recall             0.0                0.647   \n",
       "2   Import      F1             0.0                0.267   \n",
       "3   Import  Recall             0.0                0.769   \n",
       "\n",
       "   Logistic Regression (SMOTE)  Decision Tree  Decision Tree (SMOTE)  \\\n",
       "0                        0.099          0.073                  0.057   \n",
       "1                        0.642          0.823                  0.745   \n",
       "2                        0.082          0.140                  0.153   \n",
       "3                        0.612          0.838                  0.816   \n",
       "\n",
       "   Random Forest  Random Forest (SMOTE)  LightBGM  LightBGM (SMOTE)  \n",
       "0          0.074                  0.057     0.074             0.145  \n",
       "1          0.728                  0.692     0.664             0.462  \n",
       "2          0.267                  0.234     0.319             0.740  \n",
       "3          0.838                  0.793     0.842             0.623  "
      ]
     },
     "execution_count": 40,
     "metadata": {},
     "output_type": "execute_result"
    }
   ],
   "source": [
    "score_df = pd.DataFrame(columns=col_names)\n",
    "row1 = ['Export','F1'] + export_f1\n",
    "row2 = ['Export','Recall'] + export_recall\n",
    "row3 = ['Import', 'F1'] + import_f1\n",
    "row4 = ['Import','Recall'] + import_recall\n",
    "score_df.loc[len(score_df)] = row1\n",
    "score_df.loc[len(score_df)] = row2\n",
    "score_df.loc[len(score_df)] = row3\n",
    "score_df.loc[len(score_df)] = row4\n",
    "score_df.round(3)"
   ]
  },
  {
   "cell_type": "code",
   "execution_count": 46,
   "metadata": {},
   "outputs": [
    {
     "data": {
      "text/html": [
       "<div>\n",
       "<style scoped>\n",
       "    .dataframe tbody tr th:only-of-type {\n",
       "        vertical-align: middle;\n",
       "    }\n",
       "\n",
       "    .dataframe tbody tr th {\n",
       "        vertical-align: top;\n",
       "    }\n",
       "\n",
       "    .dataframe thead th {\n",
       "        text-align: right;\n",
       "    }\n",
       "</style>\n",
       "<table border=\"1\" class=\"dataframe\">\n",
       "  <thead>\n",
       "    <tr style=\"text-align: right;\">\n",
       "      <th></th>\n",
       "      <th>species_code</th>\n",
       "      <th>wildlf_desc</th>\n",
       "      <th>wildlf_cat</th>\n",
       "      <th>ctry_org</th>\n",
       "      <th>ctry_ie</th>\n",
       "      <th>purp</th>\n",
       "      <th>src</th>\n",
       "      <th>trans_mode</th>\n",
       "      <th>pt_cd</th>\n",
       "      <th>value</th>\n",
       "      <th>ship_date_mm</th>\n",
       "    </tr>\n",
       "  </thead>\n",
       "  <tbody>\n",
       "    <tr>\n",
       "      <th>756428</th>\n",
       "      <td>DEBR</td>\n",
       "      <td>LIV</td>\n",
       "      <td>FSH</td>\n",
       "      <td>ID</td>\n",
       "      <td>ID</td>\n",
       "      <td>T</td>\n",
       "      <td>W</td>\n",
       "      <td>A</td>\n",
       "      <td>LA</td>\n",
       "      <td>1.0</td>\n",
       "      <td>11</td>\n",
       "    </tr>\n",
       "    <tr>\n",
       "      <th>325122</th>\n",
       "      <td>ACTE</td>\n",
       "      <td>LIV</td>\n",
       "      <td>COR</td>\n",
       "      <td>TW</td>\n",
       "      <td>TW</td>\n",
       "      <td>T</td>\n",
       "      <td>C</td>\n",
       "      <td>A</td>\n",
       "      <td>LA</td>\n",
       "      <td>579.0</td>\n",
       "      <td>9</td>\n",
       "    </tr>\n",
       "    <tr>\n",
       "      <th>1763495</th>\n",
       "      <td>NONV</td>\n",
       "      <td>BOD</td>\n",
       "      <td>OIV</td>\n",
       "      <td>XX</td>\n",
       "      <td>CN</td>\n",
       "      <td>T</td>\n",
       "      <td>U</td>\n",
       "      <td>M</td>\n",
       "      <td>SF</td>\n",
       "      <td>90.0</td>\n",
       "      <td>3</td>\n",
       "    </tr>\n",
       "    <tr>\n",
       "      <th>900000</th>\n",
       "      <td>HOBU</td>\n",
       "      <td>SHO</td>\n",
       "      <td>REP</td>\n",
       "      <td>ID</td>\n",
       "      <td>CH</td>\n",
       "      <td>T</td>\n",
       "      <td>C</td>\n",
       "      <td>A</td>\n",
       "      <td>NW</td>\n",
       "      <td>8754.0</td>\n",
       "      <td>8</td>\n",
       "    </tr>\n",
       "    <tr>\n",
       "      <th>60764</th>\n",
       "      <td>PVL?</td>\n",
       "      <td>LIV</td>\n",
       "      <td>COR</td>\n",
       "      <td>FM</td>\n",
       "      <td>MH</td>\n",
       "      <td>T</td>\n",
       "      <td>C</td>\n",
       "      <td>A</td>\n",
       "      <td>TP</td>\n",
       "      <td>153.0</td>\n",
       "      <td>5</td>\n",
       "    </tr>\n",
       "  </tbody>\n",
       "</table>\n",
       "</div>"
      ],
      "text/plain": [
       "        species_code wildlf_desc wildlf_cat ctry_org ctry_ie purp src  \\\n",
       "756428          DEBR         LIV        FSH       ID      ID    T   W   \n",
       "325122          ACTE         LIV        COR       TW      TW    T   C   \n",
       "1763495         NONV         BOD        OIV       XX      CN    T   U   \n",
       "900000          HOBU         SHO        REP       ID      CH    T   C   \n",
       "60764           PVL?         LIV        COR       FM      MH    T   C   \n",
       "\n",
       "        trans_mode pt_cd   value ship_date_mm  \n",
       "756428           A    LA     1.0           11  \n",
       "325122           A    LA   579.0            9  \n",
       "1763495          M    SF    90.0            3  \n",
       "900000           A    NW  8754.0            8  \n",
       "60764            A    TP   153.0            5  "
      ]
     },
     "execution_count": 46,
     "metadata": {},
     "output_type": "execute_result"
    }
   ],
   "source": [
    "import_X_test.head()"
   ]
  },
  {
   "cell_type": "code",
   "execution_count": null,
   "metadata": {},
   "outputs": [],
   "source": [
    "# # read in the joblibs\n",
    "# path = \"gridsearch_all_models\"\n",
    "# # logistic regression\n",
    "# export_lr_pipe = joblib.load(f'{path}/export_lr_pipe.joblib')\n",
    "# export_smote_lr_pipe = joblib.load(f'{path}/export_SMOTE_lr_pipe.joblib')\n",
    "# import_lr_pipe = joblib.load(f'{path}/import_lr_pipe.joblib')\n",
    "# import_smote_lr_pipe = joblib.load(f'{path}/export_SMOTE_lr_pipe.joblib')\n",
    "# # decision tree\n",
    "# export_dt_pipe = joblib.load(f'{path}/export_dt_pipe.joblib')\n",
    "# export_smote_dt_pipe = joblib.load(f'{path}/export_SMOTE_dt_pipe.joblib')\n",
    "# import_dt_pipe = joblib.load(f'{path}/import_dt_pipe.joblib')\n",
    "# import_smote_dt_pipe = joblib.load(f'{path}/import_SMOTE_dt_pipe.joblib')\n",
    "# # random forest\n",
    "# export_rf_pipe = joblib.load(f'{path}/export_rf_pipe.joblib')\n",
    "# export_smote_rf_pipe = joblib.load(f'{path}/export_SMOTE_rf_pipe.joblib')\n",
    "# import_rf_pipe = joblib.load(f'{path}/import_rf_pipe.joblib')\n",
    "# import_smote_rf_pipe = joblib.load(f'{path}/import_SMOTE_rf_pipe.joblib')\n",
    "# # lgbm\n",
    "# export_lgbm_pipe = joblib.load(f'{path}/lgbm_export.joblib')\n",
    "# export_smote_lgbm_pipe = joblib.load(f'{path}/lgbm_export_SMOTE.joblib')\n",
    "# import_lgbm_pipe = joblib.load(f'{path}/lgbm_pipe_import.joblib')\n",
    "# import_smote_lgbm_pipe = joblib.load(f'{path}/lgbm_import_SMOTE.joblib') # still running"
   ]
  },
  {
   "cell_type": "code",
   "execution_count": 50,
   "metadata": {},
   "outputs": [],
   "source": [
    "# imports\n",
    "# regression\n",
    "import_reg_preds = import_lr_pipe.predict(import_X_test)\n",
    "import_reg_smote_preds = import_smote_lr_pipe.predict(import_X_test)\n",
    "# decision tree\n",
    "import_dt_preds = import_dt_pipe.predict(import_X_test)\n",
    "import_dt_smote_preds = import_smote_dt_pipe.predict(import_X_test)\n",
    "# random forest\n",
    "import_rf_preds = import_rf_pipe.predict(import_X_test)\n",
    "import_rf_smote_preds = import_smote_rf_pipe.predict(import_X_test)\n",
    "# lgbm\n",
    "import_lgbm_preds = import_lgbm_pipe.predict(import_X_test)\n",
    "import_lgbm_smote_preds = import_smote_lgbm_pipe.predict(import_X_test)\n",
    "# exports\n",
    "# regression\n",
    "export_reg_preds = export_lr_pipe.predict(export_X_test)\n",
    "export_reg_smote_preds = export_smote_lr_pipe.predict(export_X_test)\n",
    "# decision tree\n",
    "export_dt_preds = export_dt_pipe.predict(export_X_test)\n",
    "export_dt_smote_preds = export_smote_dt_pipe.predict(export_X_test)\n",
    "# random forest\n",
    "export_rf_preds = export_rf_pipe.predict(export_X_test)\n",
    "export_rf_smote_preds = export_smote_rf_pipe.predict(export_X_test)\n",
    "# lgbm\n",
    "export_lgbm_preds = export_lgbm_pipe.predict(export_X_test)\n",
    "export_lgbm_smote_preds = export_smote_lgbm_pipe.predict(export_X_test)"
   ]
  },
  {
   "cell_type": "code",
   "execution_count": 52,
   "metadata": {},
   "outputs": [],
   "source": [
    "predicted_df_import = import_X_test.copy()\n",
    "predicted_df_export = export_X_test.copy()\n",
    "predicted_df_import['y'] = import_y_test\n",
    "predicted_df_export['y'] = export_y_test\n",
    "\n",
    "predicted_df_import['import_lr'] = import_reg_preds\n",
    "predicted_df_import['import_lr_smote'] = import_reg_smote_preds\n",
    "predicted_df_import['import_dt'] = import_dt_preds\n",
    "predicted_df_import['import_dt_smote'] = import_dt_smote_preds\n",
    "predicted_df_import['import_rf'] = import_rf_preds\n",
    "predicted_df_import['import_rf_smote'] = import_rf_smote_preds\n",
    "predicted_df_import['import_lgbm'] = import_lgbm_preds\n",
    "predicted_df_import['import_lgbm_smote'] = import_lgbm_smote_preds\n",
    "\n",
    "\n",
    "predicted_df_export['export_lr'] = export_reg_preds\n",
    "predicted_df_export['export_lr_smote'] = export_reg_smote_preds\n",
    "predicted_df_export['export_dt'] = export_dt_preds\n",
    "predicted_df_export['export_dt_smote'] = export_dt_smote_preds\n",
    "predicted_df_export['export_rf'] = export_rf_preds\n",
    "predicted_df_export['export_rf_smote'] = export_rf_smote_preds\n",
    "predicted_df_export['export_lgbm'] = export_lgbm_preds\n",
    "predicted_df_export['export_lgbm_smote'] = export_lgbm_smote_preds"
   ]
  },
  {
   "cell_type": "code",
   "execution_count": 53,
   "metadata": {},
   "outputs": [
    {
     "data": {
      "text/html": [
       "<div>\n",
       "<style scoped>\n",
       "    .dataframe tbody tr th:only-of-type {\n",
       "        vertical-align: middle;\n",
       "    }\n",
       "\n",
       "    .dataframe tbody tr th {\n",
       "        vertical-align: top;\n",
       "    }\n",
       "\n",
       "    .dataframe thead th {\n",
       "        text-align: right;\n",
       "    }\n",
       "</style>\n",
       "<table border=\"1\" class=\"dataframe\">\n",
       "  <thead>\n",
       "    <tr style=\"text-align: right;\">\n",
       "      <th></th>\n",
       "      <th>species_code</th>\n",
       "      <th>wildlf_desc</th>\n",
       "      <th>wildlf_cat</th>\n",
       "      <th>ctry_org</th>\n",
       "      <th>ctry_ie</th>\n",
       "      <th>purp</th>\n",
       "      <th>src</th>\n",
       "      <th>trans_mode</th>\n",
       "      <th>pt_cd</th>\n",
       "      <th>value</th>\n",
       "      <th>ship_date_mm</th>\n",
       "      <th>y</th>\n",
       "      <th>import_lr</th>\n",
       "      <th>import_lr_smote</th>\n",
       "      <th>import_dt</th>\n",
       "      <th>import_dt_smote</th>\n",
       "      <th>import_rf</th>\n",
       "      <th>import_rf_smote</th>\n",
       "      <th>import_lgbm</th>\n",
       "      <th>import_lgbm_smote</th>\n",
       "    </tr>\n",
       "  </thead>\n",
       "  <tbody>\n",
       "    <tr>\n",
       "      <th>756428</th>\n",
       "      <td>DEBR</td>\n",
       "      <td>LIV</td>\n",
       "      <td>FSH</td>\n",
       "      <td>ID</td>\n",
       "      <td>ID</td>\n",
       "      <td>T</td>\n",
       "      <td>W</td>\n",
       "      <td>A</td>\n",
       "      <td>LA</td>\n",
       "      <td>1.0</td>\n",
       "      <td>11</td>\n",
       "      <td>0</td>\n",
       "      <td>0</td>\n",
       "      <td>1</td>\n",
       "      <td>0</td>\n",
       "      <td>0</td>\n",
       "      <td>0</td>\n",
       "      <td>0</td>\n",
       "      <td>0</td>\n",
       "      <td>0</td>\n",
       "    </tr>\n",
       "    <tr>\n",
       "      <th>325122</th>\n",
       "      <td>ACTE</td>\n",
       "      <td>LIV</td>\n",
       "      <td>COR</td>\n",
       "      <td>TW</td>\n",
       "      <td>TW</td>\n",
       "      <td>T</td>\n",
       "      <td>C</td>\n",
       "      <td>A</td>\n",
       "      <td>LA</td>\n",
       "      <td>579.0</td>\n",
       "      <td>9</td>\n",
       "      <td>0</td>\n",
       "      <td>0</td>\n",
       "      <td>1</td>\n",
       "      <td>0</td>\n",
       "      <td>0</td>\n",
       "      <td>0</td>\n",
       "      <td>0</td>\n",
       "      <td>0</td>\n",
       "      <td>0</td>\n",
       "    </tr>\n",
       "    <tr>\n",
       "      <th>1763495</th>\n",
       "      <td>NONV</td>\n",
       "      <td>BOD</td>\n",
       "      <td>OIV</td>\n",
       "      <td>XX</td>\n",
       "      <td>CN</td>\n",
       "      <td>T</td>\n",
       "      <td>U</td>\n",
       "      <td>M</td>\n",
       "      <td>SF</td>\n",
       "      <td>90.0</td>\n",
       "      <td>3</td>\n",
       "      <td>1</td>\n",
       "      <td>1</td>\n",
       "      <td>1</td>\n",
       "      <td>1</td>\n",
       "      <td>1</td>\n",
       "      <td>1</td>\n",
       "      <td>1</td>\n",
       "      <td>1</td>\n",
       "      <td>1</td>\n",
       "    </tr>\n",
       "    <tr>\n",
       "      <th>900000</th>\n",
       "      <td>HOBU</td>\n",
       "      <td>SHO</td>\n",
       "      <td>REP</td>\n",
       "      <td>ID</td>\n",
       "      <td>CH</td>\n",
       "      <td>T</td>\n",
       "      <td>C</td>\n",
       "      <td>A</td>\n",
       "      <td>NW</td>\n",
       "      <td>8754.0</td>\n",
       "      <td>8</td>\n",
       "      <td>0</td>\n",
       "      <td>0</td>\n",
       "      <td>0</td>\n",
       "      <td>0</td>\n",
       "      <td>0</td>\n",
       "      <td>0</td>\n",
       "      <td>0</td>\n",
       "      <td>0</td>\n",
       "      <td>0</td>\n",
       "    </tr>\n",
       "    <tr>\n",
       "      <th>60764</th>\n",
       "      <td>PVL?</td>\n",
       "      <td>LIV</td>\n",
       "      <td>COR</td>\n",
       "      <td>FM</td>\n",
       "      <td>MH</td>\n",
       "      <td>T</td>\n",
       "      <td>C</td>\n",
       "      <td>A</td>\n",
       "      <td>TP</td>\n",
       "      <td>153.0</td>\n",
       "      <td>5</td>\n",
       "      <td>0</td>\n",
       "      <td>0</td>\n",
       "      <td>0</td>\n",
       "      <td>1</td>\n",
       "      <td>0</td>\n",
       "      <td>0</td>\n",
       "      <td>1</td>\n",
       "      <td>0</td>\n",
       "      <td>0</td>\n",
       "    </tr>\n",
       "  </tbody>\n",
       "</table>\n",
       "</div>"
      ],
      "text/plain": [
       "        species_code wildlf_desc wildlf_cat ctry_org ctry_ie purp src  \\\n",
       "756428          DEBR         LIV        FSH       ID      ID    T   W   \n",
       "325122          ACTE         LIV        COR       TW      TW    T   C   \n",
       "1763495         NONV         BOD        OIV       XX      CN    T   U   \n",
       "900000          HOBU         SHO        REP       ID      CH    T   C   \n",
       "60764           PVL?         LIV        COR       FM      MH    T   C   \n",
       "\n",
       "        trans_mode pt_cd   value ship_date_mm  y  import_lr  import_lr_smote  \\\n",
       "756428           A    LA     1.0           11  0          0                1   \n",
       "325122           A    LA   579.0            9  0          0                1   \n",
       "1763495          M    SF    90.0            3  1          1                1   \n",
       "900000           A    NW  8754.0            8  0          0                0   \n",
       "60764            A    TP   153.0            5  0          0                0   \n",
       "\n",
       "         import_dt  import_dt_smote  import_rf  import_rf_smote  import_lgbm  \\\n",
       "756428           0                0          0                0            0   \n",
       "325122           0                0          0                0            0   \n",
       "1763495          1                1          1                1            1   \n",
       "900000           0                0          0                0            0   \n",
       "60764            1                0          0                1            0   \n",
       "\n",
       "         import_lgbm_smote  \n",
       "756428                   0  \n",
       "325122                   0  \n",
       "1763495                  1  \n",
       "900000                   0  \n",
       "60764                    0  "
      ]
     },
     "execution_count": 53,
     "metadata": {},
     "output_type": "execute_result"
    }
   ],
   "source": [
    "predicted_df_import.head()"
   ]
  },
  {
   "cell_type": "code",
   "execution_count": 54,
   "metadata": {},
   "outputs": [
    {
     "data": {
      "text/html": [
       "<div>\n",
       "<style scoped>\n",
       "    .dataframe tbody tr th:only-of-type {\n",
       "        vertical-align: middle;\n",
       "    }\n",
       "\n",
       "    .dataframe tbody tr th {\n",
       "        vertical-align: top;\n",
       "    }\n",
       "\n",
       "    .dataframe thead th {\n",
       "        text-align: right;\n",
       "    }\n",
       "</style>\n",
       "<table border=\"1\" class=\"dataframe\">\n",
       "  <thead>\n",
       "    <tr style=\"text-align: right;\">\n",
       "      <th></th>\n",
       "      <th>species_code</th>\n",
       "      <th>wildlf_desc</th>\n",
       "      <th>wildlf_cat</th>\n",
       "      <th>ctry_org</th>\n",
       "      <th>ctry_ie</th>\n",
       "      <th>purp</th>\n",
       "      <th>src</th>\n",
       "      <th>trans_mode</th>\n",
       "      <th>pt_cd</th>\n",
       "      <th>value</th>\n",
       "      <th>ship_date_mm</th>\n",
       "      <th>y</th>\n",
       "      <th>export_lr</th>\n",
       "      <th>export_lr_smote</th>\n",
       "      <th>export_dt</th>\n",
       "      <th>export_dt_smote</th>\n",
       "      <th>export_rf</th>\n",
       "      <th>export_rf_smote</th>\n",
       "      <th>export_lgbm</th>\n",
       "      <th>export_lgbm_smote</th>\n",
       "    </tr>\n",
       "  </thead>\n",
       "  <tbody>\n",
       "    <tr>\n",
       "      <th>1017027</th>\n",
       "      <td>MATF</td>\n",
       "      <td>LIV</td>\n",
       "      <td>TFS</td>\n",
       "      <td>VS</td>\n",
       "      <td>CA</td>\n",
       "      <td>T</td>\n",
       "      <td>W</td>\n",
       "      <td>A</td>\n",
       "      <td>LA</td>\n",
       "      <td>801.0</td>\n",
       "      <td>5</td>\n",
       "      <td>0</td>\n",
       "      <td>0</td>\n",
       "      <td>0</td>\n",
       "      <td>0</td>\n",
       "      <td>0</td>\n",
       "      <td>0</td>\n",
       "      <td>0</td>\n",
       "      <td>0</td>\n",
       "      <td>0</td>\n",
       "    </tr>\n",
       "    <tr>\n",
       "      <th>28992</th>\n",
       "      <td>PIMX</td>\n",
       "      <td>SPR</td>\n",
       "      <td>MOL</td>\n",
       "      <td>AU</td>\n",
       "      <td>AE</td>\n",
       "      <td>T</td>\n",
       "      <td>R</td>\n",
       "      <td>A</td>\n",
       "      <td>SE</td>\n",
       "      <td>957.0</td>\n",
       "      <td>4</td>\n",
       "      <td>0</td>\n",
       "      <td>0</td>\n",
       "      <td>0</td>\n",
       "      <td>0</td>\n",
       "      <td>0</td>\n",
       "      <td>0</td>\n",
       "      <td>0</td>\n",
       "      <td>0</td>\n",
       "      <td>0</td>\n",
       "    </tr>\n",
       "    <tr>\n",
       "      <th>451713</th>\n",
       "      <td>MATF</td>\n",
       "      <td>LIV</td>\n",
       "      <td>TFS</td>\n",
       "      <td>VS</td>\n",
       "      <td>TW</td>\n",
       "      <td>T</td>\n",
       "      <td>W</td>\n",
       "      <td>A</td>\n",
       "      <td>HA</td>\n",
       "      <td>3841.0</td>\n",
       "      <td>1</td>\n",
       "      <td>0</td>\n",
       "      <td>0</td>\n",
       "      <td>0</td>\n",
       "      <td>0</td>\n",
       "      <td>0</td>\n",
       "      <td>0</td>\n",
       "      <td>0</td>\n",
       "      <td>0</td>\n",
       "      <td>0</td>\n",
       "    </tr>\n",
       "    <tr>\n",
       "      <th>605610</th>\n",
       "      <td>PBXC</td>\n",
       "      <td>LIV</td>\n",
       "      <td>MAM</td>\n",
       "      <td>CO</td>\n",
       "      <td>CO</td>\n",
       "      <td>P</td>\n",
       "      <td>C</td>\n",
       "      <td>P</td>\n",
       "      <td>MI</td>\n",
       "      <td>500.0</td>\n",
       "      <td>3</td>\n",
       "      <td>0</td>\n",
       "      <td>0</td>\n",
       "      <td>0</td>\n",
       "      <td>0</td>\n",
       "      <td>0</td>\n",
       "      <td>0</td>\n",
       "      <td>1</td>\n",
       "      <td>0</td>\n",
       "      <td>0</td>\n",
       "    </tr>\n",
       "    <tr>\n",
       "      <th>620372</th>\n",
       "      <td>VIPR</td>\n",
       "      <td>SPE</td>\n",
       "      <td>REP</td>\n",
       "      <td>US</td>\n",
       "      <td>BR</td>\n",
       "      <td>T</td>\n",
       "      <td>F</td>\n",
       "      <td>A</td>\n",
       "      <td>NY</td>\n",
       "      <td>26021.0</td>\n",
       "      <td>1</td>\n",
       "      <td>0</td>\n",
       "      <td>0</td>\n",
       "      <td>0</td>\n",
       "      <td>0</td>\n",
       "      <td>0</td>\n",
       "      <td>0</td>\n",
       "      <td>0</td>\n",
       "      <td>0</td>\n",
       "      <td>0</td>\n",
       "    </tr>\n",
       "  </tbody>\n",
       "</table>\n",
       "</div>"
      ],
      "text/plain": [
       "        species_code wildlf_desc wildlf_cat ctry_org ctry_ie purp src  \\\n",
       "1017027         MATF         LIV        TFS       VS      CA    T   W   \n",
       "28992           PIMX         SPR        MOL       AU      AE    T   R   \n",
       "451713          MATF         LIV        TFS       VS      TW    T   W   \n",
       "605610          PBXC         LIV        MAM       CO      CO    P   C   \n",
       "620372          VIPR         SPE        REP       US      BR    T   F   \n",
       "\n",
       "        trans_mode pt_cd    value ship_date_mm  y  export_lr  export_lr_smote  \\\n",
       "1017027          A    LA    801.0            5  0          0                0   \n",
       "28992            A    SE    957.0            4  0          0                0   \n",
       "451713           A    HA   3841.0            1  0          0                0   \n",
       "605610           P    MI    500.0            3  0          0                0   \n",
       "620372           A    NY  26021.0            1  0          0                0   \n",
       "\n",
       "         export_dt  export_dt_smote  export_rf  export_rf_smote  export_lgbm  \\\n",
       "1017027          0                0          0                0            0   \n",
       "28992            0                0          0                0            0   \n",
       "451713           0                0          0                0            0   \n",
       "605610           0                0          0                1            0   \n",
       "620372           0                0          0                0            0   \n",
       "\n",
       "         export_lgbm_smote  \n",
       "1017027                  0  \n",
       "28992                    0  \n",
       "451713                   0  \n",
       "605610                   0  \n",
       "620372                   0  "
      ]
     },
     "execution_count": 54,
     "metadata": {},
     "output_type": "execute_result"
    }
   ],
   "source": [
    "predicted_df_export.head()"
   ]
  },
  {
   "cell_type": "code",
   "execution_count": 55,
   "metadata": {},
   "outputs": [
    {
     "data": {
      "text/plain": [
       "(74835, 20)"
      ]
     },
     "execution_count": 55,
     "metadata": {},
     "output_type": "execute_result"
    }
   ],
   "source": [
    "predicted_df_export.shape"
   ]
  },
  {
   "cell_type": "code",
   "execution_count": 63,
   "metadata": {},
   "outputs": [],
   "source": [
    "export_err = predicted_df_export.loc[(predicted_df_export['y'] != predicted_df_export['export_lr']) | (predicted_df_export['y'] != predicted_df_export['export_lr_smote']) | \n",
    "                       (predicted_df_export['y'] != predicted_df_export['export_dt']) | (predicted_df_export['y'] != predicted_df_export['export_dt_smote']) |\n",
    "                       (predicted_df_export['y'] != predicted_df_export['export_rf']) | (predicted_df_export['y'] != predicted_df_export['export_rf_smote'])|\n",
    "                       (predicted_df_export['y'] != predicted_df_export['export_lgbm']) | (predicted_df_export['y'] != predicted_df_export['export_lgbm_smote'])]"
   ]
  },
  {
   "cell_type": "code",
   "execution_count": 65,
   "metadata": {},
   "outputs": [],
   "source": [
    "import_err = predicted_df_import.loc[(predicted_df_import['y'] != predicted_df_import['import_lr']) | (predicted_df_import['y'] != predicted_df_import['import_lr_smote']) | \n",
    "                       (predicted_df_import['y'] != predicted_df_import['import_dt']) | (predicted_df_import['y'] != predicted_df_import['import_dt_smote']) |\n",
    "                       (predicted_df_import['y'] != predicted_df_import['import_rf']) | (predicted_df_import['y'] != predicted_df_import['import_rf_smote'])|\n",
    "                       (predicted_df_import['y'] != predicted_df_import['import_lgbm']) | (predicted_df_import['y'] != predicted_df_import['import_lgbm_smote'])]"
   ]
  },
  {
   "cell_type": "code",
   "execution_count": 67,
   "metadata": {},
   "outputs": [],
   "source": [
    "export_err.to_csv(\"export_errors.csv\")"
   ]
  },
  {
   "cell_type": "code",
   "execution_count": 73,
   "metadata": {},
   "outputs": [
    {
     "data": {
      "text/plain": [
       "(74835, 20)"
      ]
     },
     "execution_count": 73,
     "metadata": {},
     "output_type": "execute_result"
    }
   ],
   "source": [
    "predicted_df_export.shape"
   ]
  },
  {
   "cell_type": "code",
   "execution_count": 74,
   "metadata": {},
   "outputs": [
    {
     "data": {
      "text/plain": [
       "(26518, 20)"
      ]
     },
     "execution_count": 74,
     "metadata": {},
     "output_type": "execute_result"
    }
   ],
   "source": [
    "export_err.shape"
   ]
  },
  {
   "cell_type": "code",
   "execution_count": 68,
   "metadata": {},
   "outputs": [],
   "source": [
    "import_err.to_csv(\"import_errors.csv\")"
   ]
  },
  {
   "cell_type": "code",
   "execution_count": 69,
   "metadata": {},
   "outputs": [
    {
     "data": {
      "text/plain": [
       "(157481, 20)"
      ]
     },
     "execution_count": 69,
     "metadata": {},
     "output_type": "execute_result"
    }
   ],
   "source": [
    "import_err.shape"
   ]
  },
  {
   "cell_type": "code",
   "execution_count": 71,
   "metadata": {},
   "outputs": [
    {
     "data": {
      "text/plain": [
       "(391116, 20)"
      ]
     },
     "execution_count": 71,
     "metadata": {},
     "output_type": "execute_result"
    }
   ],
   "source": [
    "predicted_df_import.loc[predicted_df_import['y']==0].shape"
   ]
  },
  {
   "cell_type": "code",
   "execution_count": 72,
   "metadata": {},
   "outputs": [
    {
     "data": {
      "text/plain": [
       "(6511, 20)"
      ]
     },
     "execution_count": 72,
     "metadata": {},
     "output_type": "execute_result"
    }
   ],
   "source": [
    "predicted_df_import.loc[predicted_df_import['y']==1].shape"
   ]
  },
  {
   "cell_type": "code",
   "execution_count": 75,
   "metadata": {},
   "outputs": [
    {
     "data": {
      "text/html": [
       "<div>\n",
       "<style scoped>\n",
       "    .dataframe tbody tr th:only-of-type {\n",
       "        vertical-align: middle;\n",
       "    }\n",
       "\n",
       "    .dataframe tbody tr th {\n",
       "        vertical-align: top;\n",
       "    }\n",
       "\n",
       "    .dataframe thead th {\n",
       "        text-align: right;\n",
       "    }\n",
       "</style>\n",
       "<table border=\"1\" class=\"dataframe\">\n",
       "  <thead>\n",
       "    <tr style=\"text-align: right;\">\n",
       "      <th></th>\n",
       "      <th>species_code</th>\n",
       "      <th>wildlf_desc</th>\n",
       "      <th>wildlf_cat</th>\n",
       "      <th>ctry_org</th>\n",
       "      <th>ctry_ie</th>\n",
       "      <th>purp</th>\n",
       "      <th>src</th>\n",
       "      <th>trans_mode</th>\n",
       "      <th>pt_cd</th>\n",
       "      <th>value</th>\n",
       "      <th>ship_date_mm</th>\n",
       "      <th>y</th>\n",
       "      <th>import_lr</th>\n",
       "      <th>import_lr_smote</th>\n",
       "      <th>import_dt</th>\n",
       "      <th>import_dt_smote</th>\n",
       "      <th>import_rf</th>\n",
       "      <th>import_rf_smote</th>\n",
       "      <th>import_lgbm</th>\n",
       "      <th>import_lgbm_smote</th>\n",
       "    </tr>\n",
       "  </thead>\n",
       "  <tbody>\n",
       "    <tr>\n",
       "      <th>756428</th>\n",
       "      <td>DEBR</td>\n",
       "      <td>LIV</td>\n",
       "      <td>FSH</td>\n",
       "      <td>ID</td>\n",
       "      <td>ID</td>\n",
       "      <td>T</td>\n",
       "      <td>W</td>\n",
       "      <td>A</td>\n",
       "      <td>LA</td>\n",
       "      <td>1.0</td>\n",
       "      <td>11</td>\n",
       "      <td>0</td>\n",
       "      <td>0</td>\n",
       "      <td>1</td>\n",
       "      <td>0</td>\n",
       "      <td>0</td>\n",
       "      <td>0</td>\n",
       "      <td>0</td>\n",
       "      <td>0</td>\n",
       "      <td>0</td>\n",
       "    </tr>\n",
       "    <tr>\n",
       "      <th>325122</th>\n",
       "      <td>ACTE</td>\n",
       "      <td>LIV</td>\n",
       "      <td>COR</td>\n",
       "      <td>TW</td>\n",
       "      <td>TW</td>\n",
       "      <td>T</td>\n",
       "      <td>C</td>\n",
       "      <td>A</td>\n",
       "      <td>LA</td>\n",
       "      <td>579.0</td>\n",
       "      <td>9</td>\n",
       "      <td>0</td>\n",
       "      <td>0</td>\n",
       "      <td>1</td>\n",
       "      <td>0</td>\n",
       "      <td>0</td>\n",
       "      <td>0</td>\n",
       "      <td>0</td>\n",
       "      <td>0</td>\n",
       "      <td>0</td>\n",
       "    </tr>\n",
       "    <tr>\n",
       "      <th>1763495</th>\n",
       "      <td>NONV</td>\n",
       "      <td>BOD</td>\n",
       "      <td>OIV</td>\n",
       "      <td>XX</td>\n",
       "      <td>CN</td>\n",
       "      <td>T</td>\n",
       "      <td>U</td>\n",
       "      <td>M</td>\n",
       "      <td>SF</td>\n",
       "      <td>90.0</td>\n",
       "      <td>3</td>\n",
       "      <td>1</td>\n",
       "      <td>1</td>\n",
       "      <td>1</td>\n",
       "      <td>1</td>\n",
       "      <td>1</td>\n",
       "      <td>1</td>\n",
       "      <td>1</td>\n",
       "      <td>1</td>\n",
       "      <td>1</td>\n",
       "    </tr>\n",
       "    <tr>\n",
       "      <th>900000</th>\n",
       "      <td>HOBU</td>\n",
       "      <td>SHO</td>\n",
       "      <td>REP</td>\n",
       "      <td>ID</td>\n",
       "      <td>CH</td>\n",
       "      <td>T</td>\n",
       "      <td>C</td>\n",
       "      <td>A</td>\n",
       "      <td>NW</td>\n",
       "      <td>8754.0</td>\n",
       "      <td>8</td>\n",
       "      <td>0</td>\n",
       "      <td>0</td>\n",
       "      <td>0</td>\n",
       "      <td>0</td>\n",
       "      <td>0</td>\n",
       "      <td>0</td>\n",
       "      <td>0</td>\n",
       "      <td>0</td>\n",
       "      <td>0</td>\n",
       "    </tr>\n",
       "    <tr>\n",
       "      <th>60764</th>\n",
       "      <td>PVL?</td>\n",
       "      <td>LIV</td>\n",
       "      <td>COR</td>\n",
       "      <td>FM</td>\n",
       "      <td>MH</td>\n",
       "      <td>T</td>\n",
       "      <td>C</td>\n",
       "      <td>A</td>\n",
       "      <td>TP</td>\n",
       "      <td>153.0</td>\n",
       "      <td>5</td>\n",
       "      <td>0</td>\n",
       "      <td>0</td>\n",
       "      <td>0</td>\n",
       "      <td>1</td>\n",
       "      <td>0</td>\n",
       "      <td>0</td>\n",
       "      <td>1</td>\n",
       "      <td>0</td>\n",
       "      <td>0</td>\n",
       "    </tr>\n",
       "    <tr>\n",
       "      <th>...</th>\n",
       "      <td>...</td>\n",
       "      <td>...</td>\n",
       "      <td>...</td>\n",
       "      <td>...</td>\n",
       "      <td>...</td>\n",
       "      <td>...</td>\n",
       "      <td>...</td>\n",
       "      <td>...</td>\n",
       "      <td>...</td>\n",
       "      <td>...</td>\n",
       "      <td>...</td>\n",
       "      <td>...</td>\n",
       "      <td>...</td>\n",
       "      <td>...</td>\n",
       "      <td>...</td>\n",
       "      <td>...</td>\n",
       "      <td>...</td>\n",
       "      <td>...</td>\n",
       "      <td>...</td>\n",
       "      <td>...</td>\n",
       "    </tr>\n",
       "    <tr>\n",
       "      <th>1587600</th>\n",
       "      <td>HIPN</td>\n",
       "      <td>TRO</td>\n",
       "      <td>MAM</td>\n",
       "      <td>ZA</td>\n",
       "      <td>ZA</td>\n",
       "      <td>H</td>\n",
       "      <td>W</td>\n",
       "      <td>A</td>\n",
       "      <td>CH</td>\n",
       "      <td>225.0</td>\n",
       "      <td>8</td>\n",
       "      <td>0</td>\n",
       "      <td>0</td>\n",
       "      <td>1</td>\n",
       "      <td>0</td>\n",
       "      <td>0</td>\n",
       "      <td>0</td>\n",
       "      <td>0</td>\n",
       "      <td>0</td>\n",
       "      <td>0</td>\n",
       "    </tr>\n",
       "    <tr>\n",
       "      <th>1318755</th>\n",
       "      <td>GEMS</td>\n",
       "      <td>TRO</td>\n",
       "      <td>MAM</td>\n",
       "      <td>ZA</td>\n",
       "      <td>ZA</td>\n",
       "      <td>H</td>\n",
       "      <td>W</td>\n",
       "      <td>A</td>\n",
       "      <td>NY</td>\n",
       "      <td>858.0</td>\n",
       "      <td>11</td>\n",
       "      <td>0</td>\n",
       "      <td>0</td>\n",
       "      <td>1</td>\n",
       "      <td>0</td>\n",
       "      <td>0</td>\n",
       "      <td>0</td>\n",
       "      <td>0</td>\n",
       "      <td>0</td>\n",
       "      <td>0</td>\n",
       "    </tr>\n",
       "    <tr>\n",
       "      <th>1522394</th>\n",
       "      <td>ELKK</td>\n",
       "      <td>TRO</td>\n",
       "      <td>MAM</td>\n",
       "      <td>AR</td>\n",
       "      <td>AR</td>\n",
       "      <td>H</td>\n",
       "      <td>W</td>\n",
       "      <td>A</td>\n",
       "      <td>CH</td>\n",
       "      <td>200.0</td>\n",
       "      <td>12</td>\n",
       "      <td>0</td>\n",
       "      <td>0</td>\n",
       "      <td>1</td>\n",
       "      <td>0</td>\n",
       "      <td>0</td>\n",
       "      <td>0</td>\n",
       "      <td>0</td>\n",
       "      <td>0</td>\n",
       "      <td>0</td>\n",
       "    </tr>\n",
       "    <tr>\n",
       "      <th>1220652</th>\n",
       "      <td>HOBU</td>\n",
       "      <td>SHO</td>\n",
       "      <td>REP</td>\n",
       "      <td>ID</td>\n",
       "      <td>IT</td>\n",
       "      <td>T</td>\n",
       "      <td>C</td>\n",
       "      <td>A</td>\n",
       "      <td>NY</td>\n",
       "      <td>1042.0</td>\n",
       "      <td>10</td>\n",
       "      <td>0</td>\n",
       "      <td>0</td>\n",
       "      <td>0</td>\n",
       "      <td>0</td>\n",
       "      <td>0</td>\n",
       "      <td>0</td>\n",
       "      <td>0</td>\n",
       "      <td>0</td>\n",
       "      <td>0</td>\n",
       "    </tr>\n",
       "    <tr>\n",
       "      <th>307659</th>\n",
       "      <td>PYTM</td>\n",
       "      <td>LPS</td>\n",
       "      <td>REP</td>\n",
       "      <td>VN</td>\n",
       "      <td>CH</td>\n",
       "      <td>T</td>\n",
       "      <td>C</td>\n",
       "      <td>A</td>\n",
       "      <td>NW</td>\n",
       "      <td>1939.0</td>\n",
       "      <td>8</td>\n",
       "      <td>0</td>\n",
       "      <td>0</td>\n",
       "      <td>0</td>\n",
       "      <td>0</td>\n",
       "      <td>0</td>\n",
       "      <td>0</td>\n",
       "      <td>0</td>\n",
       "      <td>0</td>\n",
       "      <td>0</td>\n",
       "    </tr>\n",
       "  </tbody>\n",
       "</table>\n",
       "<p>397627 rows × 20 columns</p>\n",
       "</div>"
      ],
      "text/plain": [
       "        species_code wildlf_desc wildlf_cat ctry_org ctry_ie purp src  \\\n",
       "756428          DEBR         LIV        FSH       ID      ID    T   W   \n",
       "325122          ACTE         LIV        COR       TW      TW    T   C   \n",
       "1763495         NONV         BOD        OIV       XX      CN    T   U   \n",
       "900000          HOBU         SHO        REP       ID      CH    T   C   \n",
       "60764           PVL?         LIV        COR       FM      MH    T   C   \n",
       "...              ...         ...        ...      ...     ...  ...  ..   \n",
       "1587600         HIPN         TRO        MAM       ZA      ZA    H   W   \n",
       "1318755         GEMS         TRO        MAM       ZA      ZA    H   W   \n",
       "1522394         ELKK         TRO        MAM       AR      AR    H   W   \n",
       "1220652         HOBU         SHO        REP       ID      IT    T   C   \n",
       "307659          PYTM         LPS        REP       VN      CH    T   C   \n",
       "\n",
       "        trans_mode pt_cd   value ship_date_mm  y  import_lr  import_lr_smote  \\\n",
       "756428           A    LA     1.0           11  0          0                1   \n",
       "325122           A    LA   579.0            9  0          0                1   \n",
       "1763495          M    SF    90.0            3  1          1                1   \n",
       "900000           A    NW  8754.0            8  0          0                0   \n",
       "60764            A    TP   153.0            5  0          0                0   \n",
       "...            ...   ...     ...          ... ..        ...              ...   \n",
       "1587600          A    CH   225.0            8  0          0                1   \n",
       "1318755          A    NY   858.0           11  0          0                1   \n",
       "1522394          A    CH   200.0           12  0          0                1   \n",
       "1220652          A    NY  1042.0           10  0          0                0   \n",
       "307659           A    NW  1939.0            8  0          0                0   \n",
       "\n",
       "         import_dt  import_dt_smote  import_rf  import_rf_smote  import_lgbm  \\\n",
       "756428           0                0          0                0            0   \n",
       "325122           0                0          0                0            0   \n",
       "1763495          1                1          1                1            1   \n",
       "900000           0                0          0                0            0   \n",
       "60764            1                0          0                1            0   \n",
       "...            ...              ...        ...              ...          ...   \n",
       "1587600          0                0          0                0            0   \n",
       "1318755          0                0          0                0            0   \n",
       "1522394          0                0          0                0            0   \n",
       "1220652          0                0          0                0            0   \n",
       "307659           0                0          0                0            0   \n",
       "\n",
       "         import_lgbm_smote  \n",
       "756428                   0  \n",
       "325122                   0  \n",
       "1763495                  1  \n",
       "900000                   0  \n",
       "60764                    0  \n",
       "...                    ...  \n",
       "1587600                  0  \n",
       "1318755                  0  \n",
       "1522394                  0  \n",
       "1220652                  0  \n",
       "307659                   0  \n",
       "\n",
       "[397627 rows x 20 columns]"
      ]
     },
     "execution_count": 75,
     "metadata": {},
     "output_type": "execute_result"
    }
   ],
   "source": [
    "predicted_df_import"
   ]
  }
 ],
 "metadata": {
  "kernelspec": {
   "display_name": "Python 3 (ipykernel)",
   "language": "python",
   "name": "python3"
  },
  "language_info": {
   "codemirror_mode": {
    "name": "ipython",
    "version": 3
   },
   "file_extension": ".py",
   "mimetype": "text/x-python",
   "name": "python",
   "nbconvert_exporter": "python",
   "pygments_lexer": "ipython3",
   "version": "3.9.13"
  }
 },
 "nbformat": 4,
 "nbformat_minor": 4
}