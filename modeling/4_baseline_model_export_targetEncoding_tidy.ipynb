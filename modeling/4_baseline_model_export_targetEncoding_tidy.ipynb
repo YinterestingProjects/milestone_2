{
 "cells": [
  {
   "cell_type": "markdown",
   "source": [
    "# Baseline Models Template for 2016 - 2020 Data (exports)\n",
    "Tidying up \"4_baseline_model_export_targetEncoding\" as well as adding in resampling options"
   ],
   "metadata": {
    "collapsed": false,
    "pycharm": {
     "name": "#%% md\n"
    }
   }
  },
  {
   "cell_type": "markdown",
   "source": [
    "## Setup"
   ],
   "metadata": {
    "collapsed": false,
    "pycharm": {
     "name": "#%% md\n"
    }
   },
   "execution_count": 1
  },
  {
   "cell_type": "code",
   "execution_count": 1,
   "id": "cf47ec1f-dd36-41cf-adc1-b8cd24655722",
   "metadata": {
    "pycharm": {
     "name": "#%%\n"
    }
   },
   "outputs": [],
   "source": [
    "# imports\n",
    "import pandas as pd\n",
    "import numpy as np\n",
    "from datetime import datetime\n",
    "import xgboost as xgb\n",
    "from imodels import FIGSClassifier\n",
    "from imblearn.over_sampling import SMOTE\n",
    "import lightgbm as lgb\n",
    "# sklearn\n",
    "from sklearn.pipeline import make_pipeline\n",
    "from sklearn.compose import make_column_transformer\n",
    "from sklearn.decomposition import PCA, SparsePCA\n",
    "from sklearn.covariance import empirical_covariance\n",
    "from sklearn.model_selection import train_test_split\n",
    "from sklearn.preprocessing import StandardScaler, OneHotEncoder, LabelEncoder\n",
    "from sklearn.tree import DecisionTreeClassifier\n",
    "from sklearn.ensemble import RandomForestClassifier, GradientBoostingClassifier\n",
    "from sklearn.dummy import DummyClassifier\n",
    "from sklearn.linear_model import LogisticRegression\n",
    "from sklearn.metrics import classification_report, confusion_matrix, ConfusionMatrixDisplay\n",
    "from sklearn.utils import resample\n",
    "\n",
    "# plotting\n",
    "import matplotlib.pyplot as plt\n",
    "import matplotlib.cm as cm\n",
    "from matplotlib.colors import ListedColormap, BoundaryNorm\n",
    "import matplotlib.patches as mpatches\n",
    "import seaborn as sns\n",
    "#from adspy_shared_utilities import plot_decision_tree\n",
    "from adspy_shared_utilities import plot_feature_importances\n",
    "\n",
    "# create folders and export models\n",
    "import joblib\n",
    "import os"
   ]
  },
  {
   "cell_type": "code",
   "execution_count": 2,
   "id": "91f0c944-93fc-4b98-b727-5c634fd32cc5",
   "metadata": {
    "pycharm": {
     "name": "#%%\n"
    }
   },
   "outputs": [
    {
     "name": "stdout",
     "output_type": "stream",
     "text": [
      "Folder already exists\n"
     ]
    }
   ],
   "source": [
    "# environment variables\n",
    "rng = 42\n",
    "p = '../data/'\n",
    "input_name = 'cleaned.csv'\n",
    "# change this value to False if you don't want printouts after every model\n",
    "outputs = False\n",
    "\n",
    "# set up folder to save results\n",
    "output_path = 'export_run5_TargetEncoding_resampling'\n",
    "if not os.path.exists(output_path):\n",
    "    os.makedirs(output_path)\n",
    "else:\n",
    "    print(\"Folder already exists\")\n",
    "# file name\n",
    "prefix = 'export_run5_TargetEncoding_resampling/export'"
   ]
  },
  {
   "cell_type": "code",
   "execution_count": 3,
   "outputs": [],
   "source": [
    "# helper functions\n",
    "def df_filtering(df, i_e = 'I', f_cols = []):\n",
    "\n",
    "    filtered_df = df[df.i_e == i_e]\n",
    "    filtered_df = filtered_df[f_cols+['act']]\n",
    "\n",
    "    return filtered_df\n",
    "\n",
    "def data_split(df):\n",
    "    X, y = df.iloc[:,:-1], df.iloc[:,-1:]\n",
    "    y = np.where(y['act']=='R',1,0)\n",
    "\n",
    "    X_train, X_test, y_train, y_test = train_test_split(X, y, random_state=rng, stratify=y)\n",
    "\n",
    "    return X_train, X_test, y_train, y_test\n",
    "\n",
    "def plot_labelled_scatter(X, y, class_labels):\n",
    "    num_labels = len(class_labels)\n",
    "\n",
    "    x_min, x_max = X[:, 0].min() - 1, X[:, 0].max() + 1\n",
    "    y_min, y_max = X[:, 1].min() - 1, X[:, 1].max() + 1\n",
    "\n",
    "    marker_array = ['o', '^', '*']\n",
    "    color_array = ['#FFFF00', '#00AAFF', '#000000', '#FF00AA']\n",
    "    cmap_bold = ListedColormap(color_array)\n",
    "    bnorm = BoundaryNorm(np.arange(0, num_labels + 1, 1), ncolors=num_labels)\n",
    "    plt.figure()\n",
    "\n",
    "    plt.scatter(X[:, 0], X[:, 1], s=65, c=y, cmap=cmap_bold, norm = bnorm, alpha = 0.40, edgecolor='black', lw = 1)\n",
    "\n",
    "    plt.xlim(x_min, x_max)\n",
    "    plt.ylim(y_min, y_max)\n",
    "\n",
    "    h = []\n",
    "    for c in range(0, num_labels):\n",
    "        h.append(mpatches.Patch(color=color_array[c], label=class_labels[c]))\n",
    "    plt.legend(handles=h)\n",
    "\n",
    "    plt.show()\n",
    "\n",
    "def plot_pca(pca, f_names, top_k = 10):\n",
    "    fig, ax = plt.subplots(figsize=(10, 6))\n",
    "    plt.imshow(pca.components_[0:top_k], interpolation = 'none', cmap = 'plasma')\n",
    "    feature_names=f_names\n",
    "    plt.xticks(np.arange(-0., len(feature_names), 1) , feature_names, rotation = 90, fontsize=12)\n",
    "    plt.yticks(np.arange(0., 2, 1), ['First PC', 'Second PC'], fontsize = 16)\n",
    "    plt.colorbar()\n",
    "\n",
    "def upsampler(df_x, df_y): # https://www.analyticsvidhya.com/blog/2021/06/5-techniques-to-handle-imbalanced-data-for-a-classification-problem/\n",
    "    # combine results\n",
    "    df_x['act'] = df_y\n",
    "    # filter into majority / minority\n",
    "    df_majority = df_x.loc[df_x['act']==0]\n",
    "    df_minority = df_x.loc[df_x['act']==1]\n",
    "    # upsample to the size of the majority\n",
    "    df_minority_upsampled = resample(df_minority, replace=True, n_samples= len(df_majority), random_state=rng)\n",
    "    # combine and split back into x and y dfs\n",
    "    df_upsampled = pd.concat([df_minority_upsampled, df_majority])\n",
    "    new_y = df_upsampled['act']\n",
    "    new_x = df_upsampled.drop(columns=['act'])\n",
    "    return new_x, new_y"
   ],
   "metadata": {
    "collapsed": false,
    "pycharm": {
     "name": "#%%\n"
    }
   }
  },
  {
   "cell_type": "markdown",
   "id": "030d9cea-5f82-472c-8789-4cee707da730",
   "metadata": {
    "tags": [],
    "pycharm": {
     "name": "#%% md\n"
    }
   },
   "source": [
    "#### Preprocessing"
   ]
  },
  {
   "cell_type": "code",
   "execution_count": 4,
   "id": "a02364b7-9904-44d4-8bdc-0934ee5fee78",
   "metadata": {
    "pycharm": {
     "name": "#%%\n"
    }
   },
   "outputs": [],
   "source": [
    "# read in the data\n",
    "df = pd.read_csv(f'{p}{input_name}')\n",
    "if outputs:\n",
    "    print(df.columns)"
   ]
  },
  {
   "cell_type": "code",
   "execution_count": 5,
   "id": "66ad55fe-d543-4b10-ac4d-66fb10b8aba5",
   "metadata": {
    "pycharm": {
     "name": "#%%\n"
    }
   },
   "outputs": [],
   "source": [
    "# modify these columns to adjust what features are used\n",
    "non_feature_cols = ['control_number', 'disp_date', 'i_e', 'ship_date',\n",
    "                    'cartons', 'qty', 'unit', 'specific_generic_name',\n",
    "                    'genus', 'species', 'wildlf_cat', \n",
    "                    'disp_date_yyyy', 'disp_date_mm', 'disp_ship_date']\n",
    "\n",
    "target = ['act', 'dp_cd']\n",
    "\n",
    "feature_cols = ['species_code', 'wildlf_desc', \n",
    "                'ctry_org', 'ctry_ie','purp', 'src', 'trans_mode', 'pt_cd', \n",
    "                 'value', 'ship_date_mm']"
   ]
  },
  {
   "cell_type": "code",
   "execution_count": 6,
   "id": "39a9e465-92ac-487f-a9df-782636d25b10",
   "metadata": {
    "pycharm": {
     "name": "#%%\n"
    }
   },
   "outputs": [],
   "source": [
    "#import_df = df_filtering(df, i_e = 'I', f_cols = feature_cols)\n",
    "export_df = df_filtering(df, i_e = 'E', f_cols = feature_cols)\n",
    "# import: 590505 rows × 11 columns\n",
    "# export: 299340 rows × 11 columns"
   ]
  },
  {
   "cell_type": "code",
   "execution_count": 7,
   "id": "0f88beda-31ad-4282-80b6-397773aac7ab",
   "metadata": {
    "pycharm": {
     "name": "#%%\n"
    }
   },
   "outputs": [],
   "source": [
    "# standard version of the data\n",
    "X_train, X_test, y_train, y_test = data_split(export_df)"
   ]
  },
  {
   "cell_type": "code",
   "execution_count": 8,
   "outputs": [],
   "source": [
    "# resampled version of the data (not CV)\n",
    "X_train_resampled, y_train_resampled = upsampler(X_train.copy(),y_train.copy())"
   ],
   "metadata": {
    "collapsed": false,
    "pycharm": {
     "name": "#%%\n"
    }
   }
  },
  {
   "cell_type": "markdown",
   "id": "868debda-5536-413a-9761-161e589716e9",
   "metadata": {
    "tags": [],
    "pycharm": {
     "name": "#%% md\n"
    }
   },
   "source": [
    "#### column transformer w/ TargetEncoding"
   ]
  },
  {
   "cell_type": "code",
   "execution_count": 9,
   "id": "8c7c0713-ae39-4e0e-916f-081a278e309d",
   "metadata": {
    "pycharm": {
     "name": "#%%\n"
    }
   },
   "outputs": [],
   "source": [
    "from category_encoders.target_encoder import TargetEncoder"
   ]
  },
  {
   "cell_type": "code",
   "execution_count": 10,
   "id": "c573f6f9-e520-4eb5-b0e5-68adce740615",
   "metadata": {
    "pycharm": {
     "name": "#%%\n"
    }
   },
   "outputs": [],
   "source": [
    "categorical_var = ['species_code', 'wildlf_desc', 'ctry_org', 'ctry_ie','purp', 'src', \n",
    "                   'trans_mode', 'pt_cd']\n",
    "numerical_var = ['value']"
   ]
  },
  {
   "cell_type": "code",
   "execution_count": 11,
   "id": "58c9f75b-af98-466d-8c9f-76f48cb1f296",
   "metadata": {
    "pycharm": {
     "name": "#%%\n"
    }
   },
   "outputs": [
    {
     "name": "stderr",
     "output_type": "stream",
     "text": [
      "C:\\Users\\joshh\\anaconda3\\lib\\site-packages\\category_encoders\\target_encoder.py:122: FutureWarning: Default parameter min_samples_leaf will change in version 2.6.See https://github.com/scikit-learn-contrib/category_encoders/issues/327\n",
      "  warnings.warn(\"Default parameter min_samples_leaf will change in version 2.6.\"\n",
      "C:\\Users\\joshh\\anaconda3\\lib\\site-packages\\category_encoders\\target_encoder.py:127: FutureWarning: Default parameter smoothing will change in version 2.6.See https://github.com/scikit-learn-contrib/category_encoders/issues/327\n",
      "  warnings.warn(\"Default parameter smoothing will change in version 2.6.\"\n"
     ]
    }
   ],
   "source": [
    "ct_target = make_column_transformer(\n",
    "    (StandardScaler(), numerical_var),\n",
    "    (TargetEncoder(), categorical_var),\n",
    "    remainder='passthrough')\n",
    "le = LabelEncoder()"
   ]
  },
  {
   "cell_type": "code",
   "execution_count": 12,
   "id": "0f6f071f-a66b-47a8-ad24-44e2876d86e6",
   "metadata": {
    "pycharm": {
     "name": "#%%\n"
    }
   },
   "outputs": [
    {
     "name": "stderr",
     "output_type": "stream",
     "text": [
      "C:\\Users\\joshh\\anaconda3\\lib\\site-packages\\category_encoders\\target_encoder.py:122: FutureWarning: Default parameter min_samples_leaf will change in version 2.6.See https://github.com/scikit-learn-contrib/category_encoders/issues/327\n",
      "  warnings.warn(\"Default parameter min_samples_leaf will change in version 2.6.\"\n",
      "C:\\Users\\joshh\\anaconda3\\lib\\site-packages\\category_encoders\\target_encoder.py:127: FutureWarning: Default parameter smoothing will change in version 2.6.See https://github.com/scikit-learn-contrib/category_encoders/issues/327\n",
      "  warnings.warn(\"Default parameter smoothing will change in version 2.6.\"\n"
     ]
    },
    {
     "data": {
      "text/plain": "['X_train_targetEncoding_resampled.joblib']"
     },
     "execution_count": 12,
     "metadata": {},
     "output_type": "execute_result"
    }
   ],
   "source": [
    "X_train = ct_target.fit_transform(X_train, y_train)\n",
    "joblib.dump(X_train, 'X_train_targetEncoding.joblib')\n",
    "\n",
    "X_test = ct_target.transform(X_test)\n",
    "joblib.dump(X_test, 'X_test_targetEncoding.joblib')\n",
    "# Found unknown categories\n",
    "\n",
    "X_train_resampled = ct_target.transform(X_train_resampled)\n",
    "joblib.dump(X_train_resampled, 'X_train_targetEncoding_resampled.joblib')"
   ]
  },
  {
   "cell_type": "code",
   "execution_count": 13,
   "outputs": [],
   "source": [
    "# SMOTE version of the data on target encoded (not CV)\n",
    "sm = SMOTE(sampling_strategy='minority', random_state=rng)\n",
    "X_train_SMOTE, y_train_SMOTE = sm.fit_sample(X_train, y_train)"
   ],
   "metadata": {
    "collapsed": false,
    "pycharm": {
     "name": "#%%\n"
    }
   }
  },
  {
   "cell_type": "code",
   "execution_count": 13,
   "outputs": [],
   "source": [],
   "metadata": {
    "collapsed": false,
    "pycharm": {
     "name": "#%%\n"
    }
   }
  },
  {
   "cell_type": "markdown",
   "source": [
    "## Modeling Standard Target Encoded Data"
   ],
   "metadata": {
    "collapsed": false,
    "pycharm": {
     "name": "#%% md\n"
    }
   }
  },
  {
   "cell_type": "markdown",
   "id": "38712ba7-e296-4a1b-a3bc-77920c6115d7",
   "metadata": {
    "tags": [],
    "pycharm": {
     "name": "#%% md\n"
    }
   },
   "source": [
    "#### Dummy Classifers"
   ]
  },
  {
   "cell_type": "code",
   "execution_count": 14,
   "id": "457ca9a8-2623-42bf-8610-b129f927217d",
   "metadata": {
    "pycharm": {
     "name": "#%%\n"
    }
   },
   "outputs": [],
   "source": [
    "start = datetime.now()\n",
    "dummy_majority = DummyClassifier(strategy = 'most_frequent').fit(X_train, y_train)\n",
    "end = datetime.now()\n",
    "if outputs:\n",
    "    print(f'model run time: {end - start}')\n",
    "\n",
    "# dummy_majority.score(X_test, y_test)\n",
    "dummy_predicted = dummy_majority.predict(X_test)"
   ]
  },
  {
   "cell_type": "code",
   "execution_count": 15,
   "id": "60285ed2-962a-4016-90ad-9a1a2e218853",
   "metadata": {
    "pycharm": {
     "name": "#%%\n"
    }
   },
   "outputs": [
    {
     "data": {
      "text/plain": "['export_run5_TargetEncoding_resampling/export_dummy_majority_clf.joblib']"
     },
     "execution_count": 15,
     "metadata": {},
     "output_type": "execute_result"
    }
   ],
   "source": [
    "joblib.dump(dummy_majority, f'{prefix}_dummy_majority_clf.joblib')"
   ]
  },
  {
   "cell_type": "markdown",
   "id": "7726cbe7-fb99-4902-8ac8-b7ed33b200db",
   "metadata": {
    "tags": [],
    "pycharm": {
     "name": "#%% md\n"
    }
   },
   "source": [
    "#### Logistic Regression"
   ]
  },
  {
   "cell_type": "code",
   "execution_count": 16,
   "id": "1272a83e-5b37-40d6-9b89-893bdd465b67",
   "metadata": {
    "pycharm": {
     "name": "#%%\n"
    }
   },
   "outputs": [],
   "source": [
    "start = datetime.now()\n",
    "lr = LogisticRegression(random_state=rng, max_iter=1000).fit(X_train, y_train)\n",
    "end = datetime.now()\n",
    "if outputs:\n",
    "    print(f'model run time: {end - start}')\n",
    "\n",
    "lr_predicted = lr.predict(X_test)\n",
    "confusion = confusion_matrix(y_test, lr_predicted, labels = [1,0])\n",
    "if outputs:\n",
    "    print('Logistic regression classifier (default settings)\\n', confusion)\n",
    "cm_display = ConfusionMatrixDisplay(confusion, display_labels=[1,0])\n",
    "if outputs:\n",
    "    cm_display.plot()"
   ]
  },
  {
   "cell_type": "code",
   "execution_count": 17,
   "id": "bdf2888c-6c3a-4e51-a7e2-b881628458f7",
   "metadata": {
    "pycharm": {
     "name": "#%%\n"
    }
   },
   "outputs": [],
   "source": [
    "start = datetime.now()\n",
    "lr_balanced = LogisticRegression(random_state=rng, class_weight='balanced', max_iter=1000).fit(X_train, y_train)\n",
    "end = datetime.now()\n",
    "if outputs:\n",
    "    print(f'model run time: {end - start}')\n",
    "\n",
    "lr_balanced_predicted = lr_balanced.predict(X_test)\n",
    "confusion = confusion_matrix(y_test, lr_balanced_predicted)\n",
    "if outputs:\n",
    "    print('Logistic regression classifier (balanced)\\n', confusion)"
   ]
  },
  {
   "cell_type": "code",
   "execution_count": 18,
   "id": "d3dff4f3-de64-42bb-94c1-93e5f66ebd4f",
   "metadata": {
    "pycharm": {
     "name": "#%%\n"
    }
   },
   "outputs": [
    {
     "data": {
      "text/plain": "['export_run5_TargetEncoding_resampling/export_lr_balanced_clf.joblib']"
     },
     "execution_count": 18,
     "metadata": {},
     "output_type": "execute_result"
    }
   ],
   "source": [
    "joblib.dump(lr, f'{prefix}_lr_clf.joblib')\n",
    "joblib.dump(lr_balanced, f'{prefix}_lr_balanced_clf.joblib')"
   ]
  },
  {
   "cell_type": "markdown",
   "id": "7adb248b-2822-40e0-b157-4407ee314cfd",
   "metadata": {
    "tags": [],
    "pycharm": {
     "name": "#%% md\n"
    }
   },
   "source": [
    "#### Decision Tree"
   ]
  },
  {
   "cell_type": "code",
   "execution_count": 19,
   "id": "07ae33aa-bf0b-4ca7-ac4d-58e999f59cc1",
   "metadata": {
    "pycharm": {
     "name": "#%%\n"
    }
   },
   "outputs": [
    {
     "data": {
      "text/plain": "<Figure size 800x320 with 1 Axes>",
      "image/png": "[encoded data removed]"
     },
     "metadata": {},
     "output_type": "display_data"
    }
   ],
   "source": [
    "start = datetime.now()\n",
    "decision_tree_clf = DecisionTreeClassifier(random_state=rng).fit(X_train, y_train)\n",
    "end = datetime.now()\n",
    "if outputs:\n",
    "    print(f'model run time: {end - start}')\n",
    "tree_predicted = decision_tree_clf.predict(X_test)\n",
    "confusion = confusion_matrix(y_test, tree_predicted)\n",
    "if outputs:\n",
    "    print('Decision Tree classifier (balanced)\\n', confusion)\n",
    "plt.figure(figsize=(10,4), dpi=80)\n",
    "plot_feature_importances(decision_tree_clf, feature_cols)\n",
    "if outputs:\n",
    "    plt.show()\n",
    "    print('Feature importances: {}'.format(decision_tree_clf.feature_importances_[::-1]))"
   ]
  },
  {
   "cell_type": "code",
   "execution_count": 20,
   "id": "64ef3d8a-d872-4af6-a88a-539600e89ea8",
   "metadata": {
    "pycharm": {
     "name": "#%%\n"
    }
   },
   "outputs": [
    {
     "data": {
      "text/plain": "['export_run5_TargetEncoding_resampling/export_decision_tree_clf.joblib']"
     },
     "execution_count": 20,
     "metadata": {},
     "output_type": "execute_result"
    }
   ],
   "source": [
    "joblib.dump(decision_tree_clf, f'{prefix}_decision_tree_clf.joblib')"
   ]
  },
  {
   "cell_type": "markdown",
   "id": "2c9a906b-06d1-4472-9902-f8c24ef8d282",
   "metadata": {
    "tags": [],
    "pycharm": {
     "name": "#%% md\n"
    }
   },
   "source": [
    "#### Random Forest"
   ]
  },
  {
   "cell_type": "code",
   "execution_count": 21,
   "id": "2f657c2f-223a-4ec2-b6b3-5187d13552b4",
   "metadata": {
    "pycharm": {
     "name": "#%%\n"
    }
   },
   "outputs": [
    {
     "data": {
      "text/plain": "<Figure size 800x320 with 1 Axes>",
      "image/png": "[encoded data removed]"
     },
     "metadata": {},
     "output_type": "display_data"
    }
   ],
   "source": [
    "start = datetime.now()\n",
    "rf_clf = RandomForestClassifier(random_state=rng).fit(X_train, y_train)\n",
    "end = datetime.now()\n",
    "if outputs:\n",
    "    print(f'model run time: {end - start}')\n",
    "rf_predicted = rf_clf.predict(X_test)\n",
    "confusion = confusion_matrix(y_test, rf_predicted)\n",
    "if outputs:\n",
    "    print('Random Forest classifier (balanced)\\n', confusion)\n",
    "plt.figure(figsize=(10,4), dpi=80)\n",
    "plot_feature_importances(rf_clf, feature_cols)\n",
    "if outputs:\n",
    "    plt.show()\n",
    "    print('Feature importances: {}'.format(rf_clf.feature_importances_[::-1]))"
   ]
  },
  {
   "cell_type": "code",
   "execution_count": 22,
   "outputs": [
    {
     "data": {
      "text/plain": "['export_run5_TargetEncoding_resampling/export_rf_clf.joblib']"
     },
     "execution_count": 22,
     "metadata": {},
     "output_type": "execute_result"
    }
   ],
   "source": [
    "joblib.dump(rf_clf, f'{prefix}_rf_clf.joblib')"
   ],
   "metadata": {
    "collapsed": false,
    "pycharm": {
     "name": "#%%\n"
    }
   }
  },
  {
   "cell_type": "markdown",
   "id": "be9f570c-afc2-401e-9e6e-e851c2a04552",
   "metadata": {
    "pycharm": {
     "name": "#%% md\n"
    }
   },
   "source": [
    "#### XGBoost Classifier\n",
    "(default settings)"
   ]
  },
  {
   "cell_type": "code",
   "execution_count": 23,
   "id": "b7ac385e-6a59-40fd-a165-6c018c1e632d",
   "metadata": {
    "pycharm": {
     "name": "#%%\n"
    }
   },
   "outputs": [
    {
     "name": "stderr",
     "output_type": "stream",
     "text": [
      "C:\\Users\\joshh\\anaconda3\\lib\\site-packages\\xgboost\\sklearn.py:1224: UserWarning: The use of label encoder in XGBClassifier is deprecated and will be removed in a future release. To remove this warning, do the following: 1) Pass option use_label_encoder=False when constructing XGBClassifier object; and 2) Encode your labels (y) as integers starting with 0, i.e. 0, 1, 2, ..., [num_class - 1].\n",
      "  warnings.warn(label_encoder_deprecation_msg, UserWarning)\n"
     ]
    },
    {
     "name": "stdout",
     "output_type": "stream",
     "text": [
      "[17:17:51] WARNING: C:\\Windows\\Temp\\abs_557yfx631l\\croots\\recipe\\xgboost-split_1659548953302\\work\\src\\learner.cc:1115: Starting in XGBoost 1.3.0, the default evaluation metric used with the objective 'binary:logistic' was changed from 'error' to 'logloss'. Explicitly set eval_metric if you'd like to restore the old behavior.\n"
     ]
    }
   ],
   "source": [
    "start = datetime.now()\n",
    "xgb_params = {\"seed\": rng }\n",
    "xgb_clf = xgb.XGBClassifier(random_state = rng).fit(X_train,y_train)\n",
    "end = datetime.now()\n",
    "if outputs:\n",
    "    print(f'model run time: {end - start}')\n",
    "xgb_predicted = xgb_clf.predict(X_test)\n",
    "confusion = confusion_matrix(y_test, xgb_predicted)\n",
    "if outputs:\n",
    "    print('XGB Classifier Confusion Matrix\\n', confusion)"
   ]
  },
  {
   "cell_type": "code",
   "execution_count": 24,
   "id": "13096e47-b034-4074-85d1-1177cf1c01f8",
   "metadata": {
    "pycharm": {
     "name": "#%%\n"
    }
   },
   "outputs": [
    {
     "data": {
      "text/plain": "['export_run5_TargetEncoding_resampling/export_xgb_clf.joblib']"
     },
     "execution_count": 24,
     "metadata": {},
     "output_type": "execute_result"
    }
   ],
   "source": [
    "joblib.dump(rf_clf, f'{prefix}_xgb_clf.joblib')"
   ]
  },
  {
   "cell_type": "markdown",
   "id": "29088722-282e-42da-8124-48ff846b6b7e",
   "metadata": {
    "pycharm": {
     "name": "#%% md\n"
    }
   },
   "source": [
    "#### FIGS"
   ]
  },
  {
   "cell_type": "code",
   "execution_count": 25,
   "id": "7a6a6f5f-a375-4103-9721-d5a035ab12f8",
   "metadata": {
    "pycharm": {
     "name": "#%%\n"
    }
   },
   "outputs": [],
   "source": [
    "start = datetime.now()\n",
    "figs_clf = FIGSClassifier(random_state=rng).fit(X_train,y_train)\n",
    "end = datetime.now()\n",
    "if outputs:\n",
    "    print(f'model run time: {end - start}')\n",
    "figs_predicted = figs_clf.predict(X_test)\n",
    "confusion = confusion_matrix(y_test, figs_predicted)\n",
    "if outputs:\n",
    "    print('FIGS Classifier Confusion Matrix\\n', confusion)"
   ]
  },
  {
   "cell_type": "code",
   "execution_count": 26,
   "id": "c5b5ba86-f80c-4e72-97df-661018d563ab",
   "metadata": {
    "pycharm": {
     "name": "#%%\n"
    }
   },
   "outputs": [
    {
     "data": {
      "text/plain": "['export_run5_TargetEncoding_resampling/export_figs_clf.joblib']"
     },
     "execution_count": 26,
     "metadata": {},
     "output_type": "execute_result"
    }
   ],
   "source": [
    "joblib.dump(rf_clf, f'{prefix}_figs_clf.joblib')"
   ]
  },
  {
   "cell_type": "markdown",
   "source": [
    "#### LGBM"
   ],
   "metadata": {
    "collapsed": false,
    "pycharm": {
     "name": "#%% md\n"
    }
   }
  },
  {
   "cell_type": "code",
   "execution_count": 27,
   "outputs": [
    {
     "name": "stdout",
     "output_type": "stream",
     "text": [
      "[1]\ttraining's binary_logloss: 0.0357043\tvalid_0's binary_logloss: 0.0392839\n",
      "[2]\ttraining's binary_logloss: 0.033794\tvalid_0's binary_logloss: 0.0384049\n",
      "[3]\ttraining's binary_logloss: 0.0326437\tvalid_0's binary_logloss: 0.0379268\n",
      "[4]\ttraining's binary_logloss: 0.0316441\tvalid_0's binary_logloss: 0.0372832\n",
      "[5]\ttraining's binary_logloss: 0.0306088\tvalid_0's binary_logloss: 0.0368207\n",
      "[6]\ttraining's binary_logloss: 0.0298931\tvalid_0's binary_logloss: 0.0364894\n",
      "[7]\ttraining's binary_logloss: 0.0292776\tvalid_0's binary_logloss: 0.0362365\n",
      "[8]\ttraining's binary_logloss: 0.0287615\tvalid_0's binary_logloss: 0.0359911\n",
      "[9]\ttraining's binary_logloss: 0.0282274\tvalid_0's binary_logloss: 0.0357767\n",
      "[10]\ttraining's binary_logloss: 0.0278203\tvalid_0's binary_logloss: 0.0356025\n",
      "[11]\ttraining's binary_logloss: 0.0273304\tvalid_0's binary_logloss: 0.0353891\n",
      "[12]\ttraining's binary_logloss: 0.0268443\tvalid_0's binary_logloss: 0.0350994\n",
      "[13]\ttraining's binary_logloss: 0.0264404\tvalid_0's binary_logloss: 0.034969\n",
      "[14]\ttraining's binary_logloss: 0.0261336\tvalid_0's binary_logloss: 0.0349197\n",
      "[15]\ttraining's binary_logloss: 0.025861\tvalid_0's binary_logloss: 0.0348973\n",
      "[16]\ttraining's binary_logloss: 0.0254997\tvalid_0's binary_logloss: 0.0348752\n",
      "[17]\ttraining's binary_logloss: 0.0252459\tvalid_0's binary_logloss: 0.0348339\n",
      "[18]\ttraining's binary_logloss: 0.0248985\tvalid_0's binary_logloss: 0.0346872\n",
      "[19]\ttraining's binary_logloss: 0.0246474\tvalid_0's binary_logloss: 0.0346935\n",
      "[20]\ttraining's binary_logloss: 0.0244009\tvalid_0's binary_logloss: 0.0346556\n",
      "[21]\ttraining's binary_logloss: 0.0240326\tvalid_0's binary_logloss: 0.0345106\n",
      "[22]\ttraining's binary_logloss: 0.0238486\tvalid_0's binary_logloss: 0.0344559\n",
      "[23]\ttraining's binary_logloss: 0.0235166\tvalid_0's binary_logloss: 0.0345618\n",
      "[24]\ttraining's binary_logloss: 0.0233337\tvalid_0's binary_logloss: 0.0345633\n",
      "[25]\ttraining's binary_logloss: 0.0230962\tvalid_0's binary_logloss: 0.0345199\n",
      "[26]\ttraining's binary_logloss: 0.0230054\tvalid_0's binary_logloss: 0.0346932\n",
      "[27]\ttraining's binary_logloss: 0.0228146\tvalid_0's binary_logloss: 0.0346964\n",
      "[28]\ttraining's binary_logloss: 0.0225911\tvalid_0's binary_logloss: 0.0347333\n",
      "[29]\ttraining's binary_logloss: 0.0225272\tvalid_0's binary_logloss: 0.034875\n",
      "[30]\ttraining's binary_logloss: 0.0222978\tvalid_0's binary_logloss: 0.0348856\n",
      "[31]\ttraining's binary_logloss: 0.0222624\tvalid_0's binary_logloss: 0.0352168\n",
      "[32]\ttraining's binary_logloss: 0.0220284\tvalid_0's binary_logloss: 0.0352533\n",
      "[33]\ttraining's binary_logloss: 0.0217485\tvalid_0's binary_logloss: 0.0353049\n",
      "[34]\ttraining's binary_logloss: 0.0215685\tvalid_0's binary_logloss: 0.0353124\n",
      "[35]\ttraining's binary_logloss: 0.0213947\tvalid_0's binary_logloss: 0.0354338\n",
      "[36]\ttraining's binary_logloss: 0.0212768\tvalid_0's binary_logloss: 0.0355722\n",
      "[37]\ttraining's binary_logloss: 0.021145\tvalid_0's binary_logloss: 0.0356563\n",
      "[38]\ttraining's binary_logloss: 0.0214579\tvalid_0's binary_logloss: 0.0360315\n",
      "[39]\ttraining's binary_logloss: 0.0210599\tvalid_0's binary_logloss: 0.0358952\n",
      "[40]\ttraining's binary_logloss: 0.0220162\tvalid_0's binary_logloss: 0.0369573\n",
      "[41]\ttraining's binary_logloss: 0.0208093\tvalid_0's binary_logloss: 0.0361285\n",
      "[42]\ttraining's binary_logloss: 0.0207293\tvalid_0's binary_logloss: 0.0364293\n",
      "[43]\ttraining's binary_logloss: 0.0205631\tvalid_0's binary_logloss: 0.0364372\n",
      "[44]\ttraining's binary_logloss: 0.020433\tvalid_0's binary_logloss: 0.0364933\n",
      "[45]\ttraining's binary_logloss: 0.0202706\tvalid_0's binary_logloss: 0.0365514\n",
      "[46]\ttraining's binary_logloss: 0.0201226\tvalid_0's binary_logloss: 0.0366644\n",
      "[47]\ttraining's binary_logloss: 0.0199828\tvalid_0's binary_logloss: 0.0368111\n",
      "[48]\ttraining's binary_logloss: 0.0198584\tvalid_0's binary_logloss: 0.036912\n",
      "[49]\ttraining's binary_logloss: 0.0197347\tvalid_0's binary_logloss: 0.0369138\n",
      "[50]\ttraining's binary_logloss: 0.0260947\tvalid_0's binary_logloss: 0.0468\n",
      "[51]\ttraining's binary_logloss: 0.0197062\tvalid_0's binary_logloss: 0.0371158\n",
      "[52]\ttraining's binary_logloss: 0.0195418\tvalid_0's binary_logloss: 0.0371494\n",
      "[53]\ttraining's binary_logloss: 0.024715\tvalid_0's binary_logloss: 0.0464858\n",
      "[54]\ttraining's binary_logloss: 0.0231971\tvalid_0's binary_logloss: 0.0419874\n",
      "[55]\ttraining's binary_logloss: 0.0193738\tvalid_0's binary_logloss: 0.0391014\n",
      "[56]\ttraining's binary_logloss: 0.019294\tvalid_0's binary_logloss: 0.0392672\n",
      "[57]\ttraining's binary_logloss: 0.0196973\tvalid_0's binary_logloss: 0.0398465\n",
      "[58]\ttraining's binary_logloss: 0.0256414\tvalid_0's binary_logloss: 0.0459746\n",
      "[59]\ttraining's binary_logloss: 0.0234431\tvalid_0's binary_logloss: 0.0428996\n",
      "[60]\ttraining's binary_logloss: 0.0213927\tvalid_0's binary_logloss: 0.0414741\n",
      "[61]\ttraining's binary_logloss: 0.0193624\tvalid_0's binary_logloss: 0.0407969\n",
      "[62]\ttraining's binary_logloss: 0.0306459\tvalid_0's binary_logloss: 0.0556309\n",
      "[63]\ttraining's binary_logloss: 0.0290783\tvalid_0's binary_logloss: 0.054511\n",
      "[64]\ttraining's binary_logloss: 0.0202648\tvalid_0's binary_logloss: 0.0464734\n",
      "[65]\ttraining's binary_logloss: 0.0240587\tvalid_0's binary_logloss: 0.0472703\n",
      "[66]\ttraining's binary_logloss: 0.0272363\tvalid_0's binary_logloss: 0.05662\n",
      "[67]\ttraining's binary_logloss: 0.020225\tvalid_0's binary_logloss: 0.0499806\n",
      "[68]\ttraining's binary_logloss: 0.0282194\tvalid_0's binary_logloss: 0.0579722\n",
      "[69]\ttraining's binary_logloss: 0.0194752\tvalid_0's binary_logloss: 0.0489257\n",
      "[70]\ttraining's binary_logloss: 0.0303543\tvalid_0's binary_logloss: 0.0588531\n",
      "[71]\ttraining's binary_logloss: 0.0360106\tvalid_0's binary_logloss: 0.0652472\n",
      "[72]\ttraining's binary_logloss: 0.0195445\tvalid_0's binary_logloss: 0.0484406\n",
      "[73]\ttraining's binary_logloss: 0.0196511\tvalid_0's binary_logloss: 0.050434\n",
      "[74]\ttraining's binary_logloss: 0.0287002\tvalid_0's binary_logloss: 0.0556069\n",
      "[75]\ttraining's binary_logloss: 0.0191774\tvalid_0's binary_logloss: 0.0523899\n",
      "[76]\ttraining's binary_logloss: 0.0436325\tvalid_0's binary_logloss: 0.0711808\n",
      "[77]\ttraining's binary_logloss: 0.0301635\tvalid_0's binary_logloss: 0.0661026\n",
      "[78]\ttraining's binary_logloss: 0.0407563\tvalid_0's binary_logloss: 0.0752031\n",
      "[79]\ttraining's binary_logloss: 0.0671317\tvalid_0's binary_logloss: 0.0986717\n",
      "[80]\ttraining's binary_logloss: 0.0215078\tvalid_0's binary_logloss: 0.0566243\n",
      "[81]\ttraining's binary_logloss: 0.0494449\tvalid_0's binary_logloss: 0.0906602\n",
      "[82]\ttraining's binary_logloss: 0.0184557\tvalid_0's binary_logloss: 0.0534499\n",
      "[83]\ttraining's binary_logloss: 0.0734291\tvalid_0's binary_logloss: 0.100002\n",
      "[84]\ttraining's binary_logloss: 0.0465312\tvalid_0's binary_logloss: 0.0777247\n",
      "[85]\ttraining's binary_logloss: 0.0187954\tvalid_0's binary_logloss: 0.0563945\n",
      "[86]\ttraining's binary_logloss: 0.216782\tvalid_0's binary_logloss: 0.265099\n",
      "[87]\ttraining's binary_logloss: 0.076666\tvalid_0's binary_logloss: 0.110633\n",
      "[88]\ttraining's binary_logloss: 0.0191647\tvalid_0's binary_logloss: 0.061689\n",
      "[89]\ttraining's binary_logloss: 0.132838\tvalid_0's binary_logloss: 0.172148\n",
      "[90]\ttraining's binary_logloss: 0.0206333\tvalid_0's binary_logloss: 0.0669256\n",
      "[91]\ttraining's binary_logloss: 0.204758\tvalid_0's binary_logloss: 0.238481\n",
      "[92]\ttraining's binary_logloss: 0.0178629\tvalid_0's binary_logloss: 0.0681774\n",
      "[93]\ttraining's binary_logloss: 0.202438\tvalid_0's binary_logloss: 0.264795\n",
      "[94]\ttraining's binary_logloss: 0.0184022\tvalid_0's binary_logloss: 0.0705666\n",
      "[95]\ttraining's binary_logloss: 0.0176886\tvalid_0's binary_logloss: 0.0717165\n",
      "[96]\ttraining's binary_logloss: 0.285005\tvalid_0's binary_logloss: 0.323072\n",
      "[97]\ttraining's binary_logloss: 0.0226065\tvalid_0's binary_logloss: 0.079016\n",
      "[98]\ttraining's binary_logloss: 0.0224212\tvalid_0's binary_logloss: 0.0788969\n",
      "[99]\ttraining's binary_logloss: 0.0221448\tvalid_0's binary_logloss: 0.0788066\n",
      "[100]\ttraining's binary_logloss: 0.0219541\tvalid_0's binary_logloss: 0.0787431\n"
     ]
    }
   ],
   "source": [
    "# light gbm with default params (this thing has a LOT of customization options fyi)\n",
    "# https://lightgbm.readthedocs.io/en/latest/pythonapi/lightgbm.LGBMClassifier.html\n",
    "start = datetime.now()\n",
    "lgbm_model = lgb.LGBMClassifier().fit(X_train, y_train, eval_set=[(X_test,y_test),(X_train,y_train)])\n",
    "end = datetime.now()\n",
    "if outputs:\n",
    "    print(f'model run time: {end - start}')\n",
    "lgbm_predicted = lgbm_model.predict(X_test)\n",
    "confusion = confusion_matrix(y_test, lgbm_predicted)\n",
    "if outputs:\n",
    "    print('LightLGBM Classifier Confusion Matrix\\n', confusion)"
   ],
   "metadata": {
    "collapsed": false,
    "pycharm": {
     "name": "#%%\n"
    }
   }
  },
  {
   "cell_type": "code",
   "execution_count": 28,
   "outputs": [
    {
     "data": {
      "text/plain": "['export_run5_TargetEncoding_resampling/export_lgbm_clf.joblib']"
     },
     "execution_count": 28,
     "metadata": {},
     "output_type": "execute_result"
    }
   ],
   "source": [
    "joblib.dump(rf_clf, f'{prefix}_lgbm_clf.joblib')"
   ],
   "metadata": {
    "collapsed": false,
    "pycharm": {
     "name": "#%%\n"
    }
   }
  },
  {
   "cell_type": "markdown",
   "id": "4c2771bf-e988-45d9-aa1f-4c6bc760cb47",
   "metadata": {
    "tags": [],
    "pycharm": {
     "name": "#%% md\n"
    }
   },
   "source": [
    "#### Model Evaluation"
   ]
  },
  {
   "cell_type": "code",
   "execution_count": 29,
   "id": "8f99bb64-ca49-460f-84a8-3afffcd8ccd7",
   "metadata": {
    "pycharm": {
     "name": "#%%\n"
    }
   },
   "outputs": [],
   "source": [
    "if outputs:\n",
    "    print('Most frequent class (dummy classifier) \\n',\n",
    "          classification_report(y_test, dummy_predicted, target_names=['clear', 'seized']))\n",
    "    print('Logistic Regression \\n',\n",
    "          classification_report(y_test, lr_predicted, target_names=['clear', 'seized']))\n",
    "    print('Logistic Regression (balanced) \\n',\n",
    "          classification_report(y_test, lr_balanced_predicted, target_names=['clear', 'seized']))\n",
    "    print('Decision Tree \\n',\n",
    "          classification_report(y_test, tree_predicted, target_names=['clear', 'seized']))\n",
    "    print('Random Forest \\n',\n",
    "          classification_report(y_test, rf_predicted, target_names=['clear', 'seized']))\n",
    "    print('XGBoost Classifier \\n',\n",
    "          classification_report(y_test, xgb_predicted, target_names=['clear', 'seized']))\n",
    "    print('FIGS Classifier \\n',\n",
    "          classification_report(y_test, figs_predicted, target_names=['clear', 'seized']))\n",
    "    print(\"LGBM Classifier \\n\",\n",
    "          classification_report(y_test, lgbm_predicted, target_names=['clear', 'seized']))"
   ]
  },
  {
   "cell_type": "code",
   "execution_count": 30,
   "id": "7cba6c51-8605-446b-a92b-7c378d9ee6c0",
   "metadata": {
    "pycharm": {
     "name": "#%%\n"
    }
   },
   "outputs": [],
   "source": [
    "# Accuracy = TP + TN / (TP + TN + FP + FN)\n",
    "# Precision = TP / (TP + FP)\n",
    "# Recall = TP / (TP + FN)  Also known as sensitivity, or True Positive Rate\n",
    "# F1 = 2 * Precision * Recall / (Precision + Recall)"
   ]
  },
  {
   "cell_type": "markdown",
   "source": [
    "## Resampled Data"
   ],
   "metadata": {
    "collapsed": false,
    "pycharm": {
     "name": "#%% md\n"
    }
   }
  },
  {
   "cell_type": "code",
   "execution_count": 31,
   "outputs": [
    {
     "data": {
      "text/plain": "['export_run5_TargetEncoding_resampling/export_dummy_majority_clf_resampled.joblib']"
     },
     "execution_count": 31,
     "metadata": {},
     "output_type": "execute_result"
    }
   ],
   "source": [
    "# dummy classifier\n",
    "start = datetime.now()\n",
    "dummy_majority_resampled = DummyClassifier(strategy = 'most_frequent').fit(X_train_resampled, y_train_resampled)\n",
    "end = datetime.now()\n",
    "if outputs:\n",
    "    print(f'model run time: {end - start}')\n",
    "\n",
    "# dummy_majority.score(X_test, y_test)\n",
    "dummy_predicted_resampled = dummy_majority_resampled.predict(X_test)\n",
    "joblib.dump(dummy_majority, f'{prefix}_dummy_majority_clf_resampled.joblib')"
   ],
   "metadata": {
    "collapsed": false,
    "pycharm": {
     "name": "#%%\n"
    }
   }
  },
  {
   "cell_type": "code",
   "execution_count": 32,
   "outputs": [],
   "source": [
    "# logistic regression\n",
    "start = datetime.now()\n",
    "lr_resampled = LogisticRegression(random_state=rng, max_iter=1000).fit(X_train_resampled, y_train_resampled)\n",
    "end = datetime.now()\n",
    "if outputs:\n",
    "    print(f'model run time: {end - start}')\n",
    "lr_predicted_resampled = lr_resampled.predict(X_test)\n",
    "confusion = confusion_matrix(y_test, lr_predicted_resampled, labels=[1, 0])\n",
    "if outputs:\n",
    "    print('Logistic regression classifier resampled (default settings)\\n', confusion)\n",
    "cm_display = ConfusionMatrixDisplay(confusion, display_labels=[1, 0])\n",
    "if outputs:\n",
    "    cm_display.plot()"
   ],
   "metadata": {
    "collapsed": false,
    "pycharm": {
     "name": "#%%\n"
    }
   }
  },
  {
   "cell_type": "code",
   "execution_count": 33,
   "outputs": [],
   "source": [
    "# balanced logistic regression\n",
    "start = datetime.now()\n",
    "lr_balanced_resampled = LogisticRegression(random_state=rng, class_weight='balanced', max_iter=1000).fit(X_train_resampled, y_train_resampled)\n",
    "end = datetime.now()\n",
    "if outputs:\n",
    "    print(f'model run time: {end - start}')\n",
    "lr_balanced_predicted_resampled = lr_balanced.predict(X_test)\n",
    "confusion = confusion_matrix(y_test, lr_balanced_predicted_resampled)\n",
    "if outputs:\n",
    "    print('Logistic regression classifier resampled (balanced)\\n', confusion)"
   ],
   "metadata": {
    "collapsed": false,
    "pycharm": {
     "name": "#%%\n"
    }
   }
  },
  {
   "cell_type": "code",
   "execution_count": 34,
   "outputs": [
    {
     "data": {
      "text/plain": "['export_run5_TargetEncoding_resampling/export_lr_balanced_clf_resampled.joblib']"
     },
     "execution_count": 34,
     "metadata": {},
     "output_type": "execute_result"
    }
   ],
   "source": [
    "joblib.dump(lr_resampled, f'{prefix}_lr_clf_resampled.joblib')\n",
    "joblib.dump(lr_balanced_resampled, f'{prefix}_lr_balanced_clf_resampled.joblib')"
   ],
   "metadata": {
    "collapsed": false,
    "pycharm": {
     "name": "#%%\n"
    }
   }
  },
  {
   "cell_type": "code",
   "execution_count": 35,
   "outputs": [
    {
     "data": {
      "text/plain": "<Figure size 800x320 with 1 Axes>",
      "image/png": "[encoded data removed]"
     },
     "metadata": {},
     "output_type": "display_data"
    }
   ],
   "source": [
    "# decision tree\n",
    "start = datetime.now()\n",
    "decision_tree_clf_resampled = DecisionTreeClassifier(random_state=rng).fit(X_train_resampled, y_train_resampled)\n",
    "end = datetime.now()\n",
    "if outputs:\n",
    "    print(f'model run time: {end - start}')\n",
    "tree_predicted_resampled = decision_tree_clf_resampled.predict(X_test)\n",
    "confusion = confusion_matrix(y_test, tree_predicted_resampled)\n",
    "if outputs:\n",
    "    print('Decision Tree classifier resampled\\n', confusion)\n",
    "plt.figure(figsize=(10, 4), dpi=80)\n",
    "plot_feature_importances(decision_tree_clf_resampled, feature_cols)\n",
    "if outputs:\n",
    "    plt.show()\n",
    "    print('Feature importances: {}'.format(decision_tree_clf_resampled.feature_importances_[::-1]))"
   ],
   "metadata": {
    "collapsed": false,
    "pycharm": {
     "name": "#%%\n"
    }
   }
  },
  {
   "cell_type": "code",
   "execution_count": 36,
   "outputs": [
    {
     "data": {
      "text/plain": "['export_run5_TargetEncoding_resampling/export_decision_tree_clf_resampled.joblib']"
     },
     "execution_count": 36,
     "metadata": {},
     "output_type": "execute_result"
    }
   ],
   "source": [
    "joblib.dump(decision_tree_clf_resampled, f'{prefix}_decision_tree_clf_resampled.joblib')"
   ],
   "metadata": {
    "collapsed": false,
    "pycharm": {
     "name": "#%%\n"
    }
   }
  },
  {
   "cell_type": "code",
   "execution_count": 37,
   "outputs": [
    {
     "data": {
      "text/plain": "<Figure size 800x320 with 1 Axes>",
      "image/png": "[encoded data removed]"
     },
     "metadata": {},
     "output_type": "display_data"
    }
   ],
   "source": [
    "# random forest\n",
    "start = datetime.now()\n",
    "rf_clf_resampled = RandomForestClassifier(random_state=rng).fit(X_train_resampled, y_train_resampled)\n",
    "end = datetime.now()\n",
    "if outputs:\n",
    "    print(f'model run time: {end - start}')\n",
    "rf_predicted_resampled = rf_clf_resampled.predict(X_test)\n",
    "confusion = confusion_matrix(y_test, rf_predicted_resampled)\n",
    "if outputs:\n",
    "    print('Random Forest classifier (balanced)\\n', confusion)\n",
    "plt.figure(figsize=(10, 4), dpi=80)\n",
    "plot_feature_importances(rf_clf_resampled, feature_cols)\n",
    "if outputs:\n",
    "    plt.show()\n",
    "    print('Feature importances: {}'.format(rf_clf_resampled.feature_importances_[::-1]))"
   ],
   "metadata": {
    "collapsed": false,
    "pycharm": {
     "name": "#%%\n"
    }
   }
  },
  {
   "cell_type": "code",
   "execution_count": 38,
   "outputs": [
    {
     "data": {
      "text/plain": "['export_run5_TargetEncoding_resampling/export_rf_clf_resampled.joblib']"
     },
     "execution_count": 38,
     "metadata": {},
     "output_type": "execute_result"
    }
   ],
   "source": [
    "joblib.dump(rf_clf, f'{prefix}_rf_clf_resampled.joblib')"
   ],
   "metadata": {
    "collapsed": false,
    "pycharm": {
     "name": "#%%\n"
    }
   }
  },
  {
   "cell_type": "code",
   "execution_count": 39,
   "outputs": [
    {
     "name": "stderr",
     "output_type": "stream",
     "text": [
      "C:\\Users\\joshh\\anaconda3\\lib\\site-packages\\xgboost\\sklearn.py:1224: UserWarning: The use of label encoder in XGBClassifier is deprecated and will be removed in a future release. To remove this warning, do the following: 1) Pass option use_label_encoder=False when constructing XGBClassifier object; and 2) Encode your labels (y) as integers starting with 0, i.e. 0, 1, 2, ..., [num_class - 1].\n",
      "  warnings.warn(label_encoder_deprecation_msg, UserWarning)\n"
     ]
    },
    {
     "name": "stdout",
     "output_type": "stream",
     "text": [
      "[17:18:52] WARNING: C:\\Windows\\Temp\\abs_557yfx631l\\croots\\recipe\\xgboost-split_1659548953302\\work\\src\\learner.cc:1115: Starting in XGBoost 1.3.0, the default evaluation metric used with the objective 'binary:logistic' was changed from 'error' to 'logloss'. Explicitly set eval_metric if you'd like to restore the old behavior.\n"
     ]
    },
    {
     "data": {
      "text/plain": "['export_run5_TargetEncoding_resampling/export_xgb_clf_resampled.joblib']"
     },
     "execution_count": 39,
     "metadata": {},
     "output_type": "execute_result"
    }
   ],
   "source": [
    "# xgboost\n",
    "start = datetime.now()\n",
    "xgb_params = {\"seed\": rng}\n",
    "xgb_clf_resampled = xgb.XGBClassifier(random_state=rng).fit(X_train_resampled, y_train_resampled)\n",
    "end = datetime.now()\n",
    "if outputs:\n",
    "    print(f'model run time: {end - start}')\n",
    "xgb_predicted_resampled = xgb_clf_resampled.predict(X_test)\n",
    "confusion = confusion_matrix(y_test, xgb_predicted_resampled)\n",
    "if outputs:\n",
    "    print('XGB Classifier Resampled Confusion Matrix\\n', confusion)\n",
    "joblib.dump(rf_clf_resampled, f'{prefix}_xgb_clf_resampled.joblib')"
   ],
   "metadata": {
    "collapsed": false,
    "pycharm": {
     "name": "#%%\n"
    }
   }
  },
  {
   "cell_type": "code",
   "execution_count": 40,
   "outputs": [
    {
     "data": {
      "text/plain": "['export_run5_TargetEncoding_resampling/export_figs_clf_resampled.joblib']"
     },
     "execution_count": 40,
     "metadata": {},
     "output_type": "execute_result"
    }
   ],
   "source": [
    "# figs\n",
    "start = datetime.now()\n",
    "figs_clf_resampled = FIGSClassifier(random_state=rng).fit(X_train_resampled, y_train_resampled)\n",
    "end = datetime.now()\n",
    "if outputs:\n",
    "    print(f'model run time: {end - start}')\n",
    "figs_predicted_resampled = figs_clf_resampled.predict(X_test)\n",
    "confusion = confusion_matrix(y_test, figs_predicted_resampled)\n",
    "if outputs:\n",
    "    print('FIGS Classifier Resampled Confusion Matrix\\n', confusion)\n",
    "joblib.dump(rf_clf, f'{prefix}_figs_clf_resampled.joblib')"
   ],
   "metadata": {
    "collapsed": false,
    "pycharm": {
     "name": "#%%\n"
    }
   }
  },
  {
   "cell_type": "code",
   "execution_count": 41,
   "outputs": [
    {
     "name": "stdout",
     "output_type": "stream",
     "text": [
      "[1]\ttraining's binary_logloss: 0.640436\tvalid_0's binary_logloss: 0.641452\n",
      "[2]\ttraining's binary_logloss: 0.597086\tvalid_0's binary_logloss: 0.598867\n",
      "[3]\ttraining's binary_logloss: 0.560913\tvalid_0's binary_logloss: 0.563358\n",
      "[4]\ttraining's binary_logloss: 0.530109\tvalid_0's binary_logloss: 0.5331\n",
      "[5]\ttraining's binary_logloss: 0.503827\tvalid_0's binary_logloss: 0.507489\n",
      "[6]\ttraining's binary_logloss: 0.479967\tvalid_0's binary_logloss: 0.48384\n",
      "[7]\ttraining's binary_logloss: 0.459746\tvalid_0's binary_logloss: 0.46367\n",
      "[8]\ttraining's binary_logloss: 0.441787\tvalid_0's binary_logloss: 0.446019\n",
      "[9]\ttraining's binary_logloss: 0.42581\tvalid_0's binary_logloss: 0.430115\n",
      "[10]\ttraining's binary_logloss: 0.411333\tvalid_0's binary_logloss: 0.415911\n",
      "[11]\ttraining's binary_logloss: 0.39832\tvalid_0's binary_logloss: 0.403181\n",
      "[12]\ttraining's binary_logloss: 0.386786\tvalid_0's binary_logloss: 0.391729\n",
      "[13]\ttraining's binary_logloss: 0.376408\tvalid_0's binary_logloss: 0.381867\n",
      "[14]\ttraining's binary_logloss: 0.366996\tvalid_0's binary_logloss: 0.372825\n",
      "[15]\ttraining's binary_logloss: 0.358015\tvalid_0's binary_logloss: 0.364233\n",
      "[16]\ttraining's binary_logloss: 0.350318\tvalid_0's binary_logloss: 0.356625\n",
      "[17]\ttraining's binary_logloss: 0.342836\tvalid_0's binary_logloss: 0.349516\n",
      "[18]\ttraining's binary_logloss: 0.336749\tvalid_0's binary_logloss: 0.343915\n",
      "[19]\ttraining's binary_logloss: 0.329878\tvalid_0's binary_logloss: 0.337627\n",
      "[20]\ttraining's binary_logloss: 0.323754\tvalid_0's binary_logloss: 0.33135\n",
      "[21]\ttraining's binary_logloss: 0.317996\tvalid_0's binary_logloss: 0.326022\n",
      "[22]\ttraining's binary_logloss: 0.313409\tvalid_0's binary_logloss: 0.32188\n",
      "[23]\ttraining's binary_logloss: 0.308758\tvalid_0's binary_logloss: 0.317857\n",
      "[24]\ttraining's binary_logloss: 0.304233\tvalid_0's binary_logloss: 0.313485\n",
      "[25]\ttraining's binary_logloss: 0.300025\tvalid_0's binary_logloss: 0.309841\n",
      "[26]\ttraining's binary_logloss: 0.295983\tvalid_0's binary_logloss: 0.305819\n",
      "[27]\ttraining's binary_logloss: 0.291277\tvalid_0's binary_logloss: 0.301747\n",
      "[28]\ttraining's binary_logloss: 0.287456\tvalid_0's binary_logloss: 0.298357\n",
      "[29]\ttraining's binary_logloss: 0.284563\tvalid_0's binary_logloss: 0.296241\n",
      "[30]\ttraining's binary_logloss: 0.281333\tvalid_0's binary_logloss: 0.293358\n",
      "[31]\ttraining's binary_logloss: 0.278634\tvalid_0's binary_logloss: 0.291034\n",
      "[32]\ttraining's binary_logloss: 0.275589\tvalid_0's binary_logloss: 0.288405\n",
      "[33]\ttraining's binary_logloss: 0.27297\tvalid_0's binary_logloss: 0.286321\n",
      "[34]\ttraining's binary_logloss: 0.269738\tvalid_0's binary_logloss: 0.283541\n",
      "[35]\ttraining's binary_logloss: 0.266659\tvalid_0's binary_logloss: 0.280907\n",
      "[36]\ttraining's binary_logloss: 0.264336\tvalid_0's binary_logloss: 0.27953\n",
      "[37]\ttraining's binary_logloss: 0.262006\tvalid_0's binary_logloss: 0.27825\n",
      "[38]\ttraining's binary_logloss: 0.259821\tvalid_0's binary_logloss: 0.276137\n",
      "[39]\ttraining's binary_logloss: 0.257879\tvalid_0's binary_logloss: 0.274278\n",
      "[40]\ttraining's binary_logloss: 0.255516\tvalid_0's binary_logloss: 0.272578\n",
      "[41]\ttraining's binary_logloss: 0.253307\tvalid_0's binary_logloss: 0.27059\n",
      "[42]\ttraining's binary_logloss: 0.251756\tvalid_0's binary_logloss: 0.269144\n",
      "[43]\ttraining's binary_logloss: 0.24999\tvalid_0's binary_logloss: 0.267953\n",
      "[44]\ttraining's binary_logloss: 0.248407\tvalid_0's binary_logloss: 0.267043\n",
      "[45]\ttraining's binary_logloss: 0.245946\tvalid_0's binary_logloss: 0.264881\n",
      "[46]\ttraining's binary_logloss: 0.244802\tvalid_0's binary_logloss: 0.263561\n",
      "[47]\ttraining's binary_logloss: 0.243851\tvalid_0's binary_logloss: 0.262864\n",
      "[48]\ttraining's binary_logloss: 0.2424\tvalid_0's binary_logloss: 0.261567\n",
      "[49]\ttraining's binary_logloss: 0.240976\tvalid_0's binary_logloss: 0.260235\n",
      "[50]\ttraining's binary_logloss: 0.23992\tvalid_0's binary_logloss: 0.259371\n",
      "[51]\ttraining's binary_logloss: 0.239021\tvalid_0's binary_logloss: 0.258709\n",
      "[52]\ttraining's binary_logloss: 0.237332\tvalid_0's binary_logloss: 0.257123\n",
      "[53]\ttraining's binary_logloss: 0.235903\tvalid_0's binary_logloss: 0.255912\n",
      "[54]\ttraining's binary_logloss: 0.234391\tvalid_0's binary_logloss: 0.254716\n",
      "[55]\ttraining's binary_logloss: 0.232801\tvalid_0's binary_logloss: 0.2538\n",
      "[56]\ttraining's binary_logloss: 0.231915\tvalid_0's binary_logloss: 0.25303\n",
      "[57]\ttraining's binary_logloss: 0.230526\tvalid_0's binary_logloss: 0.251628\n",
      "[58]\ttraining's binary_logloss: 0.228675\tvalid_0's binary_logloss: 0.250143\n",
      "[59]\ttraining's binary_logloss: 0.227463\tvalid_0's binary_logloss: 0.249255\n",
      "[60]\ttraining's binary_logloss: 0.226709\tvalid_0's binary_logloss: 0.248472\n",
      "[61]\ttraining's binary_logloss: 0.225409\tvalid_0's binary_logloss: 0.247272\n",
      "[62]\ttraining's binary_logloss: 0.224643\tvalid_0's binary_logloss: 0.246307\n",
      "[63]\ttraining's binary_logloss: 0.223647\tvalid_0's binary_logloss: 0.245568\n",
      "[64]\ttraining's binary_logloss: 0.222115\tvalid_0's binary_logloss: 0.244147\n",
      "[65]\ttraining's binary_logloss: 0.220792\tvalid_0's binary_logloss: 0.24332\n",
      "[66]\ttraining's binary_logloss: 0.219849\tvalid_0's binary_logloss: 0.242687\n",
      "[67]\ttraining's binary_logloss: 0.218256\tvalid_0's binary_logloss: 0.2414\n",
      "[68]\ttraining's binary_logloss: 0.216762\tvalid_0's binary_logloss: 0.239965\n",
      "[69]\ttraining's binary_logloss: 0.215384\tvalid_0's binary_logloss: 0.23869\n",
      "[70]\ttraining's binary_logloss: 0.214406\tvalid_0's binary_logloss: 0.237841\n",
      "[71]\ttraining's binary_logloss: 0.213063\tvalid_0's binary_logloss: 0.236844\n",
      "[72]\ttraining's binary_logloss: 0.211711\tvalid_0's binary_logloss: 0.235772\n",
      "[73]\ttraining's binary_logloss: 0.210311\tvalid_0's binary_logloss: 0.234272\n",
      "[74]\ttraining's binary_logloss: 0.20941\tvalid_0's binary_logloss: 0.233611\n",
      "[75]\ttraining's binary_logloss: 0.208772\tvalid_0's binary_logloss: 0.233076\n",
      "[76]\ttraining's binary_logloss: 0.207522\tvalid_0's binary_logloss: 0.23168\n",
      "[77]\ttraining's binary_logloss: 0.205821\tvalid_0's binary_logloss: 0.229649\n",
      "[78]\ttraining's binary_logloss: 0.205283\tvalid_0's binary_logloss: 0.228966\n",
      "[79]\ttraining's binary_logloss: 0.204058\tvalid_0's binary_logloss: 0.228062\n",
      "[80]\ttraining's binary_logloss: 0.203312\tvalid_0's binary_logloss: 0.227237\n",
      "[81]\ttraining's binary_logloss: 0.202071\tvalid_0's binary_logloss: 0.226211\n",
      "[82]\ttraining's binary_logloss: 0.20098\tvalid_0's binary_logloss: 0.225091\n",
      "[83]\ttraining's binary_logloss: 0.199756\tvalid_0's binary_logloss: 0.224035\n",
      "[84]\ttraining's binary_logloss: 0.198586\tvalid_0's binary_logloss: 0.223167\n",
      "[85]\ttraining's binary_logloss: 0.197771\tvalid_0's binary_logloss: 0.222205\n",
      "[86]\ttraining's binary_logloss: 0.19587\tvalid_0's binary_logloss: 0.220674\n",
      "[87]\ttraining's binary_logloss: 0.194504\tvalid_0's binary_logloss: 0.219138\n",
      "[88]\ttraining's binary_logloss: 0.193373\tvalid_0's binary_logloss: 0.218067\n",
      "[89]\ttraining's binary_logloss: 0.192642\tvalid_0's binary_logloss: 0.217499\n",
      "[90]\ttraining's binary_logloss: 0.19154\tvalid_0's binary_logloss: 0.216711\n",
      "[91]\ttraining's binary_logloss: 0.190337\tvalid_0's binary_logloss: 0.215643\n",
      "[92]\ttraining's binary_logloss: 0.18941\tvalid_0's binary_logloss: 0.21477\n",
      "[93]\ttraining's binary_logloss: 0.188607\tvalid_0's binary_logloss: 0.213822\n",
      "[94]\ttraining's binary_logloss: 0.187514\tvalid_0's binary_logloss: 0.212981\n",
      "[95]\ttraining's binary_logloss: 0.186725\tvalid_0's binary_logloss: 0.212383\n",
      "[96]\ttraining's binary_logloss: 0.185582\tvalid_0's binary_logloss: 0.2112\n",
      "[97]\ttraining's binary_logloss: 0.184921\tvalid_0's binary_logloss: 0.210686\n",
      "[98]\ttraining's binary_logloss: 0.184107\tvalid_0's binary_logloss: 0.209844\n",
      "[99]\ttraining's binary_logloss: 0.183412\tvalid_0's binary_logloss: 0.209326\n",
      "[100]\ttraining's binary_logloss: 0.182983\tvalid_0's binary_logloss: 0.208799\n"
     ]
    },
    {
     "data": {
      "text/plain": "['export_run5_TargetEncoding_resampling/export_lgbm_clf_resampled.joblib']"
     },
     "execution_count": 41,
     "metadata": {},
     "output_type": "execute_result"
    }
   ],
   "source": [
    "#lightgbm\n",
    "start = datetime.now()\n",
    "lgbm_model_resampled = lgb.LGBMClassifier().fit(X_train_resampled, y_train_resampled, eval_set=[(X_test, y_test),\n",
    "                                                                                      (X_train_resampled, y_train_resampled)])\n",
    "end = datetime.now()\n",
    "if outputs:\n",
    "    print(f'model run time: {end - start}')\n",
    "lgbm_predicted_resampled = lgbm_model_resampled.predict(X_test)\n",
    "confusion = confusion_matrix(y_test, lgbm_predicted_resampled)\n",
    "if outputs:\n",
    "    print('LightLGBM Classifier Resampled Confusion Matrix\\n', confusion)\n",
    "joblib.dump(rf_clf, f'{prefix}_lgbm_clf_resampled.joblib')"
   ],
   "metadata": {
    "collapsed": false,
    "pycharm": {
     "name": "#%%\n"
    }
   }
  },
  {
   "cell_type": "markdown",
   "source": [
    "## SMOTE Data"
   ],
   "metadata": {
    "collapsed": false,
    "pycharm": {
     "name": "#%% md\n"
    }
   }
  },
  {
   "cell_type": "code",
   "execution_count": 42,
   "outputs": [
    {
     "data": {
      "text/plain": "['export_run5_TargetEncoding_resampling/export_dummy_majority_clf_smote.joblib']"
     },
     "execution_count": 42,
     "metadata": {},
     "output_type": "execute_result"
    }
   ],
   "source": [
    "# dummy classifier\n",
    "start = datetime.now()\n",
    "dummy_majority_smote = DummyClassifier(strategy = 'most_frequent').fit(X_train_SMOTE, y_train_SMOTE)\n",
    "end = datetime.now()\n",
    "if outputs:\n",
    "    print(f'model run time: {end - start}')\n",
    "\n",
    "# dummy_majority.score(X_test, y_test)\n",
    "dummy_predicted_smote = dummy_majority_smote.predict(X_test)\n",
    "joblib.dump(dummy_majority, f'{prefix}_dummy_majority_clf_smote.joblib')"
   ],
   "metadata": {
    "collapsed": false,
    "pycharm": {
     "name": "#%%\n"
    }
   }
  },
  {
   "cell_type": "code",
   "execution_count": 43,
   "outputs": [],
   "source": [
    "# logistic regression\n",
    "start = datetime.now()\n",
    "lr_smote = LogisticRegression(random_state=rng, max_iter=1000).fit(X_train_SMOTE, y_train_SMOTE)\n",
    "end = datetime.now()\n",
    "if outputs:\n",
    "    print(f'model run time: {end - start}')\n",
    "lr_predicted_smote = lr_smote.predict(X_test)\n",
    "confusion = confusion_matrix(y_test, lr_predicted_smote, labels=[1, 0])\n",
    "if outputs:\n",
    "    print('Logistic regression classifier SMOTE (default settings)\\n', confusion)\n",
    "cm_display = ConfusionMatrixDisplay(confusion, display_labels=[1, 0])\n",
    "if outputs:\n",
    "    cm_display.plot()"
   ],
   "metadata": {
    "collapsed": false,
    "pycharm": {
     "name": "#%%\n"
    }
   }
  },
  {
   "cell_type": "code",
   "execution_count": 44,
   "outputs": [],
   "source": [
    "# balanced logistic regression\n",
    "start = datetime.now()\n",
    "lr_balanced_smote = LogisticRegression(random_state=rng, class_weight='balanced', max_iter=1000).fit(\n",
    "    X_train_SMOTE, y_train_SMOTE)\n",
    "end = datetime.now()\n",
    "if outputs:\n",
    "    print(f'model run time: {end - start}')\n",
    "lr_balanced_predicted_smote = lr_balanced_smote.predict(X_test)\n",
    "confusion = confusion_matrix(y_test, lr_balanced_predicted_smote)\n",
    "if outputs:\n",
    "    print('Logistic regression classifier SMOTE (balanced)\\n', confusion)"
   ],
   "metadata": {
    "collapsed": false,
    "pycharm": {
     "name": "#%%\n"
    }
   }
  },
  {
   "cell_type": "code",
   "execution_count": 45,
   "outputs": [
    {
     "data": {
      "text/plain": "['export_run5_TargetEncoding_resampling/export_lr_balanced_clf_smote.joblib']"
     },
     "execution_count": 45,
     "metadata": {},
     "output_type": "execute_result"
    }
   ],
   "source": [
    "joblib.dump(lr_smote, f'{prefix}_lr_clf_smote.joblib')\n",
    "joblib.dump(lr_balanced_smote, f'{prefix}_lr_balanced_clf_smote.joblib')"
   ],
   "metadata": {
    "collapsed": false,
    "pycharm": {
     "name": "#%%\n"
    }
   }
  },
  {
   "cell_type": "code",
   "execution_count": 46,
   "outputs": [
    {
     "data": {
      "text/plain": "<Figure size 800x320 with 1 Axes>",
      "image/png": "[encoded data removed]"
     },
     "metadata": {},
     "output_type": "display_data"
    }
   ],
   "source": [
    "# decision tree\n",
    "start = datetime.now()\n",
    "decision_tree_clf_smote = DecisionTreeClassifier(random_state=rng).fit(X_train_SMOTE, y_train_SMOTE)\n",
    "end = datetime.now()\n",
    "if outputs:\n",
    "    print(f'model run time: {end - start}')\n",
    "tree_predicted_smote = decision_tree_clf_smote.predict(X_test)\n",
    "confusion = confusion_matrix(y_test, tree_predicted_smote)\n",
    "if outputs:\n",
    "    print('Decision Tree classifier SMOTE\\n', confusion)\n",
    "plt.figure(figsize=(10, 4), dpi=80)\n",
    "plot_feature_importances(decision_tree_clf_smote, feature_cols)\n",
    "if outputs:\n",
    "    plt.show()\n",
    "    print('Feature importances: {}'.format(decision_tree_clf_smote.feature_importances_[::-1]))"
   ],
   "metadata": {
    "collapsed": false,
    "pycharm": {
     "name": "#%%\n"
    }
   }
  },
  {
   "cell_type": "code",
   "execution_count": 47,
   "outputs": [
    {
     "data": {
      "text/plain": "['export_run5_TargetEncoding_resampling/export_decision_tree_clf_smote.joblib']"
     },
     "execution_count": 47,
     "metadata": {},
     "output_type": "execute_result"
    }
   ],
   "source": [
    "joblib.dump(decision_tree_clf_smote, f'{prefix}_decision_tree_clf_smote.joblib')"
   ],
   "metadata": {
    "collapsed": false,
    "pycharm": {
     "name": "#%%\n"
    }
   }
  },
  {
   "cell_type": "code",
   "execution_count": 48,
   "outputs": [
    {
     "data": {
      "text/plain": "<Figure size 800x320 with 1 Axes>",
      "image/png": "[encoded data removed]"
     },
     "metadata": {},
     "output_type": "display_data"
    }
   ],
   "source": [
    "# random forest\n",
    "start = datetime.now()\n",
    "rf_clf_smote = RandomForestClassifier(random_state=rng).fit(X_train_SMOTE, y_train_SMOTE)\n",
    "end = datetime.now()\n",
    "if outputs:\n",
    "    print(f'model run time: {end - start}')\n",
    "rf_predicted_smote = rf_clf_smote.predict(X_test)\n",
    "confusion = confusion_matrix(y_test, rf_predicted_smote)\n",
    "if outputs:\n",
    "    print('Logistic regression classifier (balanced)\\n', confusion)\n",
    "plt.figure(figsize=(10, 4), dpi=80)\n",
    "plot_feature_importances(rf_clf_smote, feature_cols)\n",
    "if outputs:\n",
    "    plt.show()\n",
    "    print('Feature importances: {}'.format(rf_clf_smote.feature_importances_[::-1]))"
   ],
   "metadata": {
    "collapsed": false,
    "pycharm": {
     "name": "#%%\n"
    }
   }
  },
  {
   "cell_type": "code",
   "execution_count": 49,
   "outputs": [
    {
     "data": {
      "text/plain": "['export_run5_TargetEncoding_resampling/export_rf_clf_smote.joblib']"
     },
     "execution_count": 49,
     "metadata": {},
     "output_type": "execute_result"
    }
   ],
   "source": [
    "joblib.dump(rf_clf, f'{prefix}_rf_clf_smote.joblib')"
   ],
   "metadata": {
    "collapsed": false,
    "pycharm": {
     "name": "#%%\n"
    }
   }
  },
  {
   "cell_type": "code",
   "execution_count": 50,
   "outputs": [
    {
     "name": "stderr",
     "output_type": "stream",
     "text": [
      "C:\\Users\\joshh\\anaconda3\\lib\\site-packages\\xgboost\\sklearn.py:1224: UserWarning: The use of label encoder in XGBClassifier is deprecated and will be removed in a future release. To remove this warning, do the following: 1) Pass option use_label_encoder=False when constructing XGBClassifier object; and 2) Encode your labels (y) as integers starting with 0, i.e. 0, 1, 2, ..., [num_class - 1].\n",
      "  warnings.warn(label_encoder_deprecation_msg, UserWarning)\n"
     ]
    },
    {
     "name": "stdout",
     "output_type": "stream",
     "text": [
      "[17:20:22] WARNING: C:\\Windows\\Temp\\abs_557yfx631l\\croots\\recipe\\xgboost-split_1659548953302\\work\\src\\learner.cc:1115: Starting in XGBoost 1.3.0, the default evaluation metric used with the objective 'binary:logistic' was changed from 'error' to 'logloss'. Explicitly set eval_metric if you'd like to restore the old behavior.\n"
     ]
    },
    {
     "data": {
      "text/plain": "['export_run5_TargetEncoding_resampling/export_xgb_clf_resampled.joblib']"
     },
     "execution_count": 50,
     "metadata": {},
     "output_type": "execute_result"
    }
   ],
   "source": [
    "# xgboost\n",
    "start = datetime.now()\n",
    "xgb_params = {\"seed\": rng}\n",
    "xgb_clf_smote = xgb.XGBClassifier(random_state=rng).fit(X_train_SMOTE, y_train_SMOTE)\n",
    "end = datetime.now()\n",
    "if outputs:\n",
    "    print(f'model run time: {end - start}')\n",
    "xgb_predicted_smote = xgb_clf_smote.predict(X_test)\n",
    "confusion = confusion_matrix(y_test, xgb_predicted_smote)\n",
    "if outputs:\n",
    "    print('XGB Classifier SMOTE Confusion Matrix\\n', confusion)\n",
    "joblib.dump(rf_clf_smote, f'{prefix}_xgb_clf_resampled.joblib')"
   ],
   "metadata": {
    "collapsed": false,
    "pycharm": {
     "name": "#%%\n"
    }
   }
  },
  {
   "cell_type": "code",
   "execution_count": 51,
   "outputs": [
    {
     "data": {
      "text/plain": "['export_run5_TargetEncoding_resampling/export_figs_clf_smote.joblib']"
     },
     "execution_count": 51,
     "metadata": {},
     "output_type": "execute_result"
    }
   ],
   "source": [
    "# figs\n",
    "start = datetime.now()\n",
    "figs_clf_smote = FIGSClassifier(random_state=rng).fit(X_train_SMOTE, y_train_SMOTE)\n",
    "end = datetime.now()\n",
    "if outputs:\n",
    "    print(f'model run time: {end - start}')\n",
    "figs_predicted_smote = figs_clf_smote.predict(X_test)\n",
    "confusion = confusion_matrix(y_test, figs_predicted_smote)\n",
    "if outputs:\n",
    "    print('FIGS Classifier SMOTE Confusion Matrix\\n', confusion)\n",
    "joblib.dump(rf_clf, f'{prefix}_figs_clf_smote.joblib')"
   ],
   "metadata": {
    "collapsed": false,
    "pycharm": {
     "name": "#%%\n"
    }
   }
  },
  {
   "cell_type": "code",
   "execution_count": 52,
   "outputs": [
    {
     "name": "stdout",
     "output_type": "stream",
     "text": [
      "[1]\ttraining's binary_logloss: 0.632419\tvalid_0's binary_logloss: 0.633205\n",
      "[2]\ttraining's binary_logloss: 0.583411\tvalid_0's binary_logloss: 0.585307\n",
      "[3]\ttraining's binary_logloss: 0.541586\tvalid_0's binary_logloss: 0.544074\n",
      "[4]\ttraining's binary_logloss: 0.505381\tvalid_0's binary_logloss: 0.508587\n",
      "[5]\ttraining's binary_logloss: 0.474014\tvalid_0's binary_logloss: 0.47793\n",
      "[6]\ttraining's binary_logloss: 0.44598\tvalid_0's binary_logloss: 0.45084\n",
      "[7]\ttraining's binary_logloss: 0.420805\tvalid_0's binary_logloss: 0.426724\n",
      "[8]\ttraining's binary_logloss: 0.398979\tvalid_0's binary_logloss: 0.405872\n",
      "[9]\ttraining's binary_logloss: 0.379669\tvalid_0's binary_logloss: 0.386986\n",
      "[10]\ttraining's binary_logloss: 0.36188\tvalid_0's binary_logloss: 0.369729\n",
      "[11]\ttraining's binary_logloss: 0.346036\tvalid_0's binary_logloss: 0.35472\n",
      "[12]\ttraining's binary_logloss: 0.331462\tvalid_0's binary_logloss: 0.340525\n",
      "[13]\ttraining's binary_logloss: 0.318182\tvalid_0's binary_logloss: 0.327432\n",
      "[14]\ttraining's binary_logloss: 0.305676\tvalid_0's binary_logloss: 0.315449\n",
      "[15]\ttraining's binary_logloss: 0.293419\tvalid_0's binary_logloss: 0.30359\n",
      "[16]\ttraining's binary_logloss: 0.28265\tvalid_0's binary_logloss: 0.292858\n",
      "[17]\ttraining's binary_logloss: 0.271799\tvalid_0's binary_logloss: 0.28186\n",
      "[18]\ttraining's binary_logloss: 0.261342\tvalid_0's binary_logloss: 0.270889\n",
      "[19]\ttraining's binary_logloss: 0.251864\tvalid_0's binary_logloss: 0.261229\n",
      "[20]\ttraining's binary_logloss: 0.243621\tvalid_0's binary_logloss: 0.252788\n",
      "[21]\ttraining's binary_logloss: 0.236224\tvalid_0's binary_logloss: 0.245417\n",
      "[22]\ttraining's binary_logloss: 0.229124\tvalid_0's binary_logloss: 0.238737\n",
      "[23]\ttraining's binary_logloss: 0.220797\tvalid_0's binary_logloss: 0.230212\n",
      "[24]\ttraining's binary_logloss: 0.213941\tvalid_0's binary_logloss: 0.223784\n",
      "[25]\ttraining's binary_logloss: 0.206465\tvalid_0's binary_logloss: 0.216641\n",
      "[26]\ttraining's binary_logloss: 0.200345\tvalid_0's binary_logloss: 0.21056\n",
      "[27]\ttraining's binary_logloss: 0.194195\tvalid_0's binary_logloss: 0.204827\n",
      "[28]\ttraining's binary_logloss: 0.188425\tvalid_0's binary_logloss: 0.199406\n",
      "[29]\ttraining's binary_logloss: 0.183648\tvalid_0's binary_logloss: 0.194889\n",
      "[30]\ttraining's binary_logloss: 0.178388\tvalid_0's binary_logloss: 0.189975\n",
      "[31]\ttraining's binary_logloss: 0.173982\tvalid_0's binary_logloss: 0.185884\n",
      "[32]\ttraining's binary_logloss: 0.170141\tvalid_0's binary_logloss: 0.18249\n",
      "[33]\ttraining's binary_logloss: 0.166011\tvalid_0's binary_logloss: 0.17863\n",
      "[34]\ttraining's binary_logloss: 0.162521\tvalid_0's binary_logloss: 0.175071\n",
      "[35]\ttraining's binary_logloss: 0.158954\tvalid_0's binary_logloss: 0.171776\n",
      "[36]\ttraining's binary_logloss: 0.156109\tvalid_0's binary_logloss: 0.169187\n",
      "[37]\ttraining's binary_logloss: 0.153163\tvalid_0's binary_logloss: 0.166295\n",
      "[38]\ttraining's binary_logloss: 0.150327\tvalid_0's binary_logloss: 0.163652\n",
      "[39]\ttraining's binary_logloss: 0.1471\tvalid_0's binary_logloss: 0.160537\n",
      "[40]\ttraining's binary_logloss: 0.144303\tvalid_0's binary_logloss: 0.157886\n",
      "[41]\ttraining's binary_logloss: 0.141824\tvalid_0's binary_logloss: 0.155619\n",
      "[42]\ttraining's binary_logloss: 0.139526\tvalid_0's binary_logloss: 0.153451\n",
      "[43]\ttraining's binary_logloss: 0.13716\tvalid_0's binary_logloss: 0.151091\n",
      "[44]\ttraining's binary_logloss: 0.135197\tvalid_0's binary_logloss: 0.149169\n",
      "[45]\ttraining's binary_logloss: 0.133013\tvalid_0's binary_logloss: 0.147357\n",
      "[46]\ttraining's binary_logloss: 0.13122\tvalid_0's binary_logloss: 0.145604\n",
      "[47]\ttraining's binary_logloss: 0.129469\tvalid_0's binary_logloss: 0.143904\n",
      "[48]\ttraining's binary_logloss: 0.12742\tvalid_0's binary_logloss: 0.141999\n",
      "[49]\ttraining's binary_logloss: 0.1257\tvalid_0's binary_logloss: 0.140522\n",
      "[50]\ttraining's binary_logloss: 0.124025\tvalid_0's binary_logloss: 0.138704\n",
      "[51]\ttraining's binary_logloss: 0.122585\tvalid_0's binary_logloss: 0.137102\n",
      "[52]\ttraining's binary_logloss: 0.120794\tvalid_0's binary_logloss: 0.135581\n",
      "[53]\ttraining's binary_logloss: 0.118344\tvalid_0's binary_logloss: 0.13359\n",
      "[54]\ttraining's binary_logloss: 0.116748\tvalid_0's binary_logloss: 0.131861\n",
      "[55]\ttraining's binary_logloss: 0.115207\tvalid_0's binary_logloss: 0.130199\n",
      "[56]\ttraining's binary_logloss: 0.113941\tvalid_0's binary_logloss: 0.128973\n",
      "[57]\ttraining's binary_logloss: 0.111895\tvalid_0's binary_logloss: 0.12722\n",
      "[58]\ttraining's binary_logloss: 0.110379\tvalid_0's binary_logloss: 0.125664\n",
      "[59]\ttraining's binary_logloss: 0.10898\tvalid_0's binary_logloss: 0.124346\n",
      "[60]\ttraining's binary_logloss: 0.107631\tvalid_0's binary_logloss: 0.123143\n",
      "[61]\ttraining's binary_logloss: 0.106063\tvalid_0's binary_logloss: 0.121785\n",
      "[62]\ttraining's binary_logloss: 0.105034\tvalid_0's binary_logloss: 0.120655\n",
      "[63]\ttraining's binary_logloss: 0.103529\tvalid_0's binary_logloss: 0.119451\n",
      "[64]\ttraining's binary_logloss: 0.1024\tvalid_0's binary_logloss: 0.118261\n",
      "[65]\ttraining's binary_logloss: 0.101033\tvalid_0's binary_logloss: 0.116967\n",
      "[66]\ttraining's binary_logloss: 0.0997963\tvalid_0's binary_logloss: 0.115953\n",
      "[67]\ttraining's binary_logloss: 0.0987813\tvalid_0's binary_logloss: 0.114847\n",
      "[68]\ttraining's binary_logloss: 0.0973745\tvalid_0's binary_logloss: 0.11347\n",
      "[69]\ttraining's binary_logloss: 0.0962716\tvalid_0's binary_logloss: 0.112493\n",
      "[70]\ttraining's binary_logloss: 0.0953934\tvalid_0's binary_logloss: 0.111577\n",
      "[71]\ttraining's binary_logloss: 0.0942166\tvalid_0's binary_logloss: 0.110447\n",
      "[72]\ttraining's binary_logloss: 0.0934361\tvalid_0's binary_logloss: 0.109874\n",
      "[73]\ttraining's binary_logloss: 0.0926928\tvalid_0's binary_logloss: 0.109039\n",
      "[74]\ttraining's binary_logloss: 0.0914254\tvalid_0's binary_logloss: 0.107842\n",
      "[75]\ttraining's binary_logloss: 0.0906512\tvalid_0's binary_logloss: 0.107189\n",
      "[76]\ttraining's binary_logloss: 0.0897287\tvalid_0's binary_logloss: 0.106458\n",
      "[77]\ttraining's binary_logloss: 0.0883866\tvalid_0's binary_logloss: 0.105106\n",
      "[78]\ttraining's binary_logloss: 0.0876309\tvalid_0's binary_logloss: 0.10437\n",
      "[79]\ttraining's binary_logloss: 0.0866084\tvalid_0's binary_logloss: 0.103463\n",
      "[80]\ttraining's binary_logloss: 0.085625\tvalid_0's binary_logloss: 0.10268\n",
      "[81]\ttraining's binary_logloss: 0.085008\tvalid_0's binary_logloss: 0.102058\n",
      "[82]\ttraining's binary_logloss: 0.0839225\tvalid_0's binary_logloss: 0.101084\n",
      "[83]\ttraining's binary_logloss: 0.0830524\tvalid_0's binary_logloss: 0.100308\n",
      "[84]\ttraining's binary_logloss: 0.0822961\tvalid_0's binary_logloss: 0.0994679\n",
      "[85]\ttraining's binary_logloss: 0.0814868\tvalid_0's binary_logloss: 0.0984972\n",
      "[86]\ttraining's binary_logloss: 0.0807668\tvalid_0's binary_logloss: 0.09793\n",
      "[87]\ttraining's binary_logloss: 0.0800045\tvalid_0's binary_logloss: 0.0971015\n",
      "[88]\ttraining's binary_logloss: 0.0792968\tvalid_0's binary_logloss: 0.0965033\n",
      "[89]\ttraining's binary_logloss: 0.0786106\tvalid_0's binary_logloss: 0.0958131\n",
      "[90]\ttraining's binary_logloss: 0.0779656\tvalid_0's binary_logloss: 0.0953628\n",
      "[91]\ttraining's binary_logloss: 0.0773113\tvalid_0's binary_logloss: 0.0946766\n",
      "[92]\ttraining's binary_logloss: 0.0763737\tvalid_0's binary_logloss: 0.0938234\n",
      "[93]\ttraining's binary_logloss: 0.0757381\tvalid_0's binary_logloss: 0.0932859\n",
      "[94]\ttraining's binary_logloss: 0.0752336\tvalid_0's binary_logloss: 0.0928022\n",
      "[95]\ttraining's binary_logloss: 0.0746721\tvalid_0's binary_logloss: 0.0922284\n",
      "[96]\ttraining's binary_logloss: 0.0741646\tvalid_0's binary_logloss: 0.0916667\n",
      "[97]\ttraining's binary_logloss: 0.0734615\tvalid_0's binary_logloss: 0.0909199\n",
      "[98]\ttraining's binary_logloss: 0.072665\tvalid_0's binary_logloss: 0.0902252\n",
      "[99]\ttraining's binary_logloss: 0.0718146\tvalid_0's binary_logloss: 0.0893282\n",
      "[100]\ttraining's binary_logloss: 0.0712232\tvalid_0's binary_logloss: 0.0887899\n"
     ]
    },
    {
     "data": {
      "text/plain": "['export_run5_TargetEncoding_resampling/export_lgbm_clf_smote.joblib']"
     },
     "execution_count": 52,
     "metadata": {},
     "output_type": "execute_result"
    }
   ],
   "source": [
    "#lightgbm\n",
    "start = datetime.now()\n",
    "lgbm_model_smote = lgb.LGBMClassifier().fit(X_train_SMOTE, y_train_SMOTE, eval_set=[(X_test, y_test),\n",
    "                                                                                    (X_train_SMOTE, y_train_SMOTE)])\n",
    "end = datetime.now()\n",
    "if outputs:\n",
    "    print(f'model run time: {end - start}')\n",
    "lgbm_predicted_smote = lgbm_model_smote.predict(X_test)\n",
    "confusion = confusion_matrix(y_test, lgbm_predicted_smote)\n",
    "if outputs:\n",
    "    print('LightLGBM Classifier SMOTE Confusion Matrix\\n', confusion)\n",
    "joblib.dump(rf_clf, f'{prefix}_lgbm_clf_smote.joblib')"
   ],
   "metadata": {
    "collapsed": false,
    "pycharm": {
     "name": "#%%\n"
    }
   }
  },
  {
   "cell_type": "markdown",
   "source": [
    "## Overall Data Comparison"
   ],
   "metadata": {
    "collapsed": false,
    "pycharm": {
     "name": "#%% md\n"
    }
   }
  },
  {
   "cell_type": "code",
   "execution_count": 53,
   "outputs": [],
   "source": [
    "if outputs:\n",
    "    # dummy\n",
    "    print('Most frequent class standard(dummy classifier) \\n',\n",
    "          classification_report(y_test, dummy_predicted, target_names=['clear', 'seized']))\n",
    "    print('Most frequent class resampled (dummy classifier) \\n',\n",
    "          classification_report(y_test, dummy_predicted_resampled, target_names=['clear', 'seized']))\n",
    "    print('Most frequent class SMOTE (dummy classifier) \\n',\n",
    "          classification_report(y_test, dummy_predicted_smote, target_names=['clear', 'seized']))\\\n",
    "    # logistic regression\n",
    "    print('Logistic Regression standard \\n',\n",
    "          classification_report(y_test, lr_predicted, target_names=['clear', 'seized']))\n",
    "    print('Logistic Regression resampled \\n',\n",
    "          classification_report(y_test, lr_predicted_resampled, target_names=['clear', 'seized']))\n",
    "    print('Logistic Regression SMOTE \\n',\n",
    "          classification_report(y_test, lr_predicted_smote, target_names=['clear', 'seized']))\n",
    "    # logistic regression balanced\n",
    "    print('Logistic Regression (balanced) \\n',\n",
    "          classification_report(y_test, lr_balanced_predicted, target_names=['clear', 'seized']))\n",
    "    print('Logistic Regression resampled (balanced) \\n',\n",
    "          classification_report(y_test, lr_balanced_predicted_resampled, target_names=['clear', 'seized']))\n",
    "    print('Logistic Regression SMOTE (balanced) \\n',\n",
    "          classification_report(y_test, lr_balanced_predicted_smote, target_names=['clear', 'seized']))\n",
    "    # decision tree\n",
    "    print('Decision Tree \\n',\n",
    "          classification_report(y_test, tree_predicted, target_names=['clear', 'seized']))\n",
    "    print('Decision Tree resampled \\n',\n",
    "          classification_report(y_test, tree_predicted_resampled, target_names=['clear', 'seized']))\n",
    "    print('Decision Tree SMOTE \\n',\n",
    "          classification_report(y_test, tree_predicted_smote, target_names=['clear', 'seized']))\n",
    "    # random forest\n",
    "    print('Random Forest \\n',\n",
    "          classification_report(y_test, rf_predicted, target_names=['clear', 'seized']))\n",
    "    print('Random Forest resampled \\n',\n",
    "          classification_report(y_test, rf_predicted_resampled, target_names=['clear', 'seized']))\n",
    "    print('Random Forest SMOTE \\n',\n",
    "          classification_report(y_test, rf_predicted_smote, target_names=['clear', 'seized']))\n",
    "    # XGBoost\n",
    "    print('XGBoost Classifier \\n',\n",
    "          classification_report(y_test, xgb_predicted, target_names=['clear', 'seized']))\n",
    "    print('XGBoost Classifier resampled \\n',\n",
    "          classification_report(y_test, xgb_predicted_resampled, target_names=['clear', 'seized']))\n",
    "    print('XGBoost Classifier SMOTE \\n',\n",
    "          classification_report(y_test, xgb_predicted_resampled, target_names=['clear', 'seized']))\n",
    "    # FIGS\n",
    "    print('FIGS Classifier \\n',\n",
    "          classification_report(y_test, figs_predicted, target_names=['clear', 'seized']))\n",
    "    print('FIGS Classifier resampled\\n',\n",
    "          classification_report(y_test, figs_predicted_resampled, target_names=['clear', 'seized']))\n",
    "    print('FIGS Classifier SMOTE\\n',\n",
    "          classification_report(y_test, figs_predicted_smote, target_names=['clear', 'seized']))\n",
    "    # LGBM\n",
    "    print(\"LGBM Classifier \\n\",\n",
    "          classification_report(y_test, lgbm_predicted, target_names=['clear', 'seized']))\n",
    "    print(\"LGBM Classifier resampled \\n\",\n",
    "          classification_report(y_test, lgbm_predicted_resampled, target_names=['clear', 'seized']))\n",
    "    print(\"LGBM Classifier SMOTE \\n\",\n",
    "          classification_report(y_test, lgbm_predicted_smote, target_names=['clear', 'seized']))"
   ],
   "metadata": {
    "collapsed": false,
    "pycharm": {
     "name": "#%%\n"
    }
   }
  },
  {
   "cell_type": "code",
   "execution_count": 70,
   "outputs": [
    {
     "data": {
      "text/plain": "['species_code',\n 'wildlf_desc',\n 'ctry_org',\n 'ctry_ie',\n 'purp',\n 'src',\n 'trans_mode',\n 'pt_cd',\n 'value',\n 'ship_date_mm']"
     },
     "execution_count": 70,
     "metadata": {},
     "output_type": "execute_result"
    }
   ],
   "source": [
    "X_train_lgbm.columns.to_list()"
   ],
   "metadata": {
    "collapsed": false,
    "pycharm": {
     "name": "#%%\n"
    }
   }
  },
  {
   "cell_type": "code",
   "execution_count": 71,
   "outputs": [
    {
     "ename": "ValueError",
     "evalue": "DataFrame.dtypes for data must be int, float or bool.\nDid not expect the data types in the following fields: species_code, wildlf_desc, ctry_org, ctry_ie, purp, src, trans_mode, pt_cd",
     "output_type": "error",
     "traceback": [
      "\u001B[1;31m---------------------------------------------------------------------------\u001B[0m",
      "\u001B[1;31mValueError\u001B[0m                                Traceback (most recent call last)",
      "\u001B[1;32m~\\AppData\\Local\\Temp/ipykernel_19648/3019249951.py\u001B[0m in \u001B[0;36m<module>\u001B[1;34m\u001B[0m\n\u001B[0;32m      2\u001B[0m \u001B[1;33m\u001B[0m\u001B[0m\n\u001B[0;32m      3\u001B[0m \u001B[0mstart\u001B[0m \u001B[1;33m=\u001B[0m \u001B[0mdatetime\u001B[0m\u001B[1;33m.\u001B[0m\u001B[0mnow\u001B[0m\u001B[1;33m(\u001B[0m\u001B[1;33m)\u001B[0m\u001B[1;33m\u001B[0m\u001B[1;33m\u001B[0m\u001B[0m\n\u001B[1;32m----> 4\u001B[1;33m lgbm_model_raw= lgb.LGBMClassifier(feature_name= X_train_lgbm.columns.to_list(), categorical_feature= [\"species_code\", \"wildlf_desc\", \"ctry_org\",\n\u001B[0m\u001B[0;32m      5\u001B[0m                                                                                              \u001B[1;34m\"ctry_ie\"\u001B[0m\u001B[1;33m,\u001B[0m \u001B[1;34m\"purp\"\u001B[0m\u001B[1;33m,\u001B[0m\u001B[1;33m\u001B[0m\u001B[1;33m\u001B[0m\u001B[0m\n\u001B[0;32m      6\u001B[0m                                                          \u001B[1;34m\"src\"\u001B[0m\u001B[1;33m,\u001B[0m \u001B[1;34m\"trans_mode\"\u001B[0m\u001B[1;33m,\u001B[0m \u001B[1;34m\"pt_cd\"\u001B[0m\u001B[1;33m]\u001B[0m\u001B[1;33m)\u001B[0m\u001B[1;33m.\u001B[0m\u001B[0mfit\u001B[0m\u001B[1;33m(\u001B[0m\u001B[0mX_train_lgbm\u001B[0m\u001B[1;33m,\u001B[0m \u001B[0my_train_lgbm\u001B[0m\u001B[1;33m,\u001B[0m \u001B[0meval_set\u001B[0m\u001B[1;33m=\u001B[0m\u001B[1;33m[\u001B[0m\u001B[1;33m(\u001B[0m\u001B[0mX_test_lgbm\u001B[0m\u001B[1;33m,\u001B[0m \u001B[0my_test_lgbm\u001B[0m\u001B[1;33m)\u001B[0m\u001B[1;33m,\u001B[0m\u001B[1;33m\u001B[0m\u001B[1;33m\u001B[0m\u001B[0m\n",
      "\u001B[1;32m~\\anaconda3\\lib\\site-packages\\lightgbm\\sklearn.py\u001B[0m in \u001B[0;36mfit\u001B[1;34m(self, X, y, sample_weight, init_score, eval_set, eval_names, eval_sample_weight, eval_class_weight, eval_init_score, eval_metric, early_stopping_rounds, verbose, feature_name, categorical_feature, callbacks, init_model)\u001B[0m\n\u001B[0;32m    888\u001B[0m                     \u001B[0mvalid_sets\u001B[0m\u001B[1;33m[\u001B[0m\u001B[0mi\u001B[0m\u001B[1;33m]\u001B[0m \u001B[1;33m=\u001B[0m \u001B[1;33m(\u001B[0m\u001B[0mvalid_x\u001B[0m\u001B[1;33m,\u001B[0m \u001B[0mself\u001B[0m\u001B[1;33m.\u001B[0m\u001B[0m_le\u001B[0m\u001B[1;33m.\u001B[0m\u001B[0mtransform\u001B[0m\u001B[1;33m(\u001B[0m\u001B[0mvalid_y\u001B[0m\u001B[1;33m)\u001B[0m\u001B[1;33m)\u001B[0m\u001B[1;33m\u001B[0m\u001B[1;33m\u001B[0m\u001B[0m\n\u001B[0;32m    889\u001B[0m \u001B[1;33m\u001B[0m\u001B[0m\n\u001B[1;32m--> 890\u001B[1;33m         super().fit(X, _y, sample_weight=sample_weight, init_score=init_score, eval_set=valid_sets,\n\u001B[0m\u001B[0;32m    891\u001B[0m                     \u001B[0meval_names\u001B[0m\u001B[1;33m=\u001B[0m\u001B[0meval_names\u001B[0m\u001B[1;33m,\u001B[0m \u001B[0meval_sample_weight\u001B[0m\u001B[1;33m=\u001B[0m\u001B[0meval_sample_weight\u001B[0m\u001B[1;33m,\u001B[0m\u001B[1;33m\u001B[0m\u001B[1;33m\u001B[0m\u001B[0m\n\u001B[0;32m    892\u001B[0m                     \u001B[0meval_class_weight\u001B[0m\u001B[1;33m=\u001B[0m\u001B[0meval_class_weight\u001B[0m\u001B[1;33m,\u001B[0m \u001B[0meval_init_score\u001B[0m\u001B[1;33m=\u001B[0m\u001B[0meval_init_score\u001B[0m\u001B[1;33m,\u001B[0m\u001B[1;33m\u001B[0m\u001B[1;33m\u001B[0m\u001B[0m\n",
      "\u001B[1;32m~\\anaconda3\\lib\\site-packages\\lightgbm\\sklearn.py\u001B[0m in \u001B[0;36mfit\u001B[1;34m(self, X, y, sample_weight, init_score, group, eval_set, eval_names, eval_sample_weight, eval_class_weight, eval_init_score, eval_group, eval_metric, early_stopping_rounds, verbose, feature_name, categorical_feature, callbacks, init_model)\u001B[0m\n\u001B[0;32m    681\u001B[0m             \u001B[0minit_model\u001B[0m \u001B[1;33m=\u001B[0m \u001B[0minit_model\u001B[0m\u001B[1;33m.\u001B[0m\u001B[0mbooster_\u001B[0m\u001B[1;33m\u001B[0m\u001B[1;33m\u001B[0m\u001B[0m\n\u001B[0;32m    682\u001B[0m \u001B[1;33m\u001B[0m\u001B[0m\n\u001B[1;32m--> 683\u001B[1;33m         self._Booster = train(params, train_set,\n\u001B[0m\u001B[0;32m    684\u001B[0m                               \u001B[0mself\u001B[0m\u001B[1;33m.\u001B[0m\u001B[0mn_estimators\u001B[0m\u001B[1;33m,\u001B[0m \u001B[0mvalid_sets\u001B[0m\u001B[1;33m=\u001B[0m\u001B[0mvalid_sets\u001B[0m\u001B[1;33m,\u001B[0m \u001B[0mvalid_names\u001B[0m\u001B[1;33m=\u001B[0m\u001B[0meval_names\u001B[0m\u001B[1;33m,\u001B[0m\u001B[1;33m\u001B[0m\u001B[1;33m\u001B[0m\u001B[0m\n\u001B[0;32m    685\u001B[0m                               \u001B[0mearly_stopping_rounds\u001B[0m\u001B[1;33m=\u001B[0m\u001B[0mearly_stopping_rounds\u001B[0m\u001B[1;33m,\u001B[0m\u001B[1;33m\u001B[0m\u001B[1;33m\u001B[0m\u001B[0m\n",
      "\u001B[1;32m~\\anaconda3\\lib\\site-packages\\lightgbm\\engine.py\u001B[0m in \u001B[0;36mtrain\u001B[1;34m(params, train_set, num_boost_round, valid_sets, valid_names, fobj, feval, init_model, feature_name, categorical_feature, early_stopping_rounds, evals_result, verbose_eval, learning_rates, keep_training_booster, callbacks)\u001B[0m\n\u001B[0;32m    226\u001B[0m     \u001B[1;31m# construct booster\u001B[0m\u001B[1;33m\u001B[0m\u001B[1;33m\u001B[0m\u001B[0m\n\u001B[0;32m    227\u001B[0m     \u001B[1;32mtry\u001B[0m\u001B[1;33m:\u001B[0m\u001B[1;33m\u001B[0m\u001B[1;33m\u001B[0m\u001B[0m\n\u001B[1;32m--> 228\u001B[1;33m         \u001B[0mbooster\u001B[0m \u001B[1;33m=\u001B[0m \u001B[0mBooster\u001B[0m\u001B[1;33m(\u001B[0m\u001B[0mparams\u001B[0m\u001B[1;33m=\u001B[0m\u001B[0mparams\u001B[0m\u001B[1;33m,\u001B[0m \u001B[0mtrain_set\u001B[0m\u001B[1;33m=\u001B[0m\u001B[0mtrain_set\u001B[0m\u001B[1;33m)\u001B[0m\u001B[1;33m\u001B[0m\u001B[1;33m\u001B[0m\u001B[0m\n\u001B[0m\u001B[0;32m    229\u001B[0m         \u001B[1;32mif\u001B[0m \u001B[0mis_valid_contain_train\u001B[0m\u001B[1;33m:\u001B[0m\u001B[1;33m\u001B[0m\u001B[1;33m\u001B[0m\u001B[0m\n\u001B[0;32m    230\u001B[0m             \u001B[0mbooster\u001B[0m\u001B[1;33m.\u001B[0m\u001B[0mset_train_data_name\u001B[0m\u001B[1;33m(\u001B[0m\u001B[0mtrain_data_name\u001B[0m\u001B[1;33m)\u001B[0m\u001B[1;33m\u001B[0m\u001B[1;33m\u001B[0m\u001B[0m\n",
      "\u001B[1;32m~\\anaconda3\\lib\\site-packages\\lightgbm\\basic.py\u001B[0m in \u001B[0;36m__init__\u001B[1;34m(self, params, train_set, model_file, model_str, silent)\u001B[0m\n\u001B[0;32m   2227\u001B[0m                 )\n\u001B[0;32m   2228\u001B[0m             \u001B[1;31m# construct booster object\u001B[0m\u001B[1;33m\u001B[0m\u001B[1;33m\u001B[0m\u001B[0m\n\u001B[1;32m-> 2229\u001B[1;33m             \u001B[0mtrain_set\u001B[0m\u001B[1;33m.\u001B[0m\u001B[0mconstruct\u001B[0m\u001B[1;33m(\u001B[0m\u001B[1;33m)\u001B[0m\u001B[1;33m\u001B[0m\u001B[1;33m\u001B[0m\u001B[0m\n\u001B[0m\u001B[0;32m   2230\u001B[0m             \u001B[1;31m# copy the parameters from train_set\u001B[0m\u001B[1;33m\u001B[0m\u001B[1;33m\u001B[0m\u001B[0m\n\u001B[0;32m   2231\u001B[0m             \u001B[0mparams\u001B[0m\u001B[1;33m.\u001B[0m\u001B[0mupdate\u001B[0m\u001B[1;33m(\u001B[0m\u001B[0mtrain_set\u001B[0m\u001B[1;33m.\u001B[0m\u001B[0mget_params\u001B[0m\u001B[1;33m(\u001B[0m\u001B[1;33m)\u001B[0m\u001B[1;33m)\u001B[0m\u001B[1;33m\u001B[0m\u001B[1;33m\u001B[0m\u001B[0m\n",
      "\u001B[1;32m~\\anaconda3\\lib\\site-packages\\lightgbm\\basic.py\u001B[0m in \u001B[0;36mconstruct\u001B[1;34m(self)\u001B[0m\n\u001B[0;32m   1466\u001B[0m             \u001B[1;32melse\u001B[0m\u001B[1;33m:\u001B[0m\u001B[1;33m\u001B[0m\u001B[1;33m\u001B[0m\u001B[0m\n\u001B[0;32m   1467\u001B[0m                 \u001B[1;31m# create train\u001B[0m\u001B[1;33m\u001B[0m\u001B[1;33m\u001B[0m\u001B[0m\n\u001B[1;32m-> 1468\u001B[1;33m                 self._lazy_init(self.data, label=self.label,\n\u001B[0m\u001B[0;32m   1469\u001B[0m                                 \u001B[0mweight\u001B[0m\u001B[1;33m=\u001B[0m\u001B[0mself\u001B[0m\u001B[1;33m.\u001B[0m\u001B[0mweight\u001B[0m\u001B[1;33m,\u001B[0m \u001B[0mgroup\u001B[0m\u001B[1;33m=\u001B[0m\u001B[0mself\u001B[0m\u001B[1;33m.\u001B[0m\u001B[0mgroup\u001B[0m\u001B[1;33m,\u001B[0m\u001B[1;33m\u001B[0m\u001B[1;33m\u001B[0m\u001B[0m\n\u001B[0;32m   1470\u001B[0m                                 \u001B[0minit_score\u001B[0m\u001B[1;33m=\u001B[0m\u001B[0mself\u001B[0m\u001B[1;33m.\u001B[0m\u001B[0minit_score\u001B[0m\u001B[1;33m,\u001B[0m \u001B[0mpredictor\u001B[0m\u001B[1;33m=\u001B[0m\u001B[0mself\u001B[0m\u001B[1;33m.\u001B[0m\u001B[0m_predictor\u001B[0m\u001B[1;33m,\u001B[0m\u001B[1;33m\u001B[0m\u001B[1;33m\u001B[0m\u001B[0m\n",
      "\u001B[1;32m~\\anaconda3\\lib\\site-packages\\lightgbm\\basic.py\u001B[0m in \u001B[0;36m_lazy_init\u001B[1;34m(self, data, label, reference, weight, group, init_score, predictor, silent, feature_name, categorical_feature, params)\u001B[0m\n\u001B[0;32m   1207\u001B[0m             \u001B[0mself\u001B[0m\u001B[1;33m.\u001B[0m\u001B[0mpandas_categorical\u001B[0m \u001B[1;33m=\u001B[0m \u001B[0mreference\u001B[0m\u001B[1;33m.\u001B[0m\u001B[0mpandas_categorical\u001B[0m\u001B[1;33m\u001B[0m\u001B[1;33m\u001B[0m\u001B[0m\n\u001B[0;32m   1208\u001B[0m             \u001B[0mcategorical_feature\u001B[0m \u001B[1;33m=\u001B[0m \u001B[0mreference\u001B[0m\u001B[1;33m.\u001B[0m\u001B[0mcategorical_feature\u001B[0m\u001B[1;33m\u001B[0m\u001B[1;33m\u001B[0m\u001B[0m\n\u001B[1;32m-> 1209\u001B[1;33m         data, feature_name, categorical_feature, self.pandas_categorical = _data_from_pandas(data,\n\u001B[0m\u001B[0;32m   1210\u001B[0m                                                                                              \u001B[0mfeature_name\u001B[0m\u001B[1;33m,\u001B[0m\u001B[1;33m\u001B[0m\u001B[1;33m\u001B[0m\u001B[0m\n\u001B[0;32m   1211\u001B[0m                                                                                              \u001B[0mcategorical_feature\u001B[0m\u001B[1;33m,\u001B[0m\u001B[1;33m\u001B[0m\u001B[1;33m\u001B[0m\u001B[0m\n",
      "\u001B[1;32m~\\anaconda3\\lib\\site-packages\\lightgbm\\basic.py\u001B[0m in \u001B[0;36m_data_from_pandas\u001B[1;34m(data, feature_name, categorical_feature, pandas_categorical)\u001B[0m\n\u001B[0;32m    535\u001B[0m         \u001B[0mbad_indices\u001B[0m \u001B[1;33m=\u001B[0m \u001B[0m_get_bad_pandas_dtypes\u001B[0m\u001B[1;33m(\u001B[0m\u001B[0mdata\u001B[0m\u001B[1;33m.\u001B[0m\u001B[0mdtypes\u001B[0m\u001B[1;33m)\u001B[0m\u001B[1;33m\u001B[0m\u001B[1;33m\u001B[0m\u001B[0m\n\u001B[0;32m    536\u001B[0m         \u001B[1;32mif\u001B[0m \u001B[0mbad_indices\u001B[0m\u001B[1;33m:\u001B[0m\u001B[1;33m\u001B[0m\u001B[1;33m\u001B[0m\u001B[0m\n\u001B[1;32m--> 537\u001B[1;33m             raise ValueError(\"DataFrame.dtypes for data must be int, float or bool.\\n\"\n\u001B[0m\u001B[0;32m    538\u001B[0m                              \u001B[1;34m\"Did not expect the data types in the following fields: \"\u001B[0m\u001B[1;33m\u001B[0m\u001B[1;33m\u001B[0m\u001B[0m\n\u001B[0;32m    539\u001B[0m                              + ', '.join(data.columns[bad_indices]))\n",
      "\u001B[1;31mValueError\u001B[0m: DataFrame.dtypes for data must be int, float or bool.\nDid not expect the data types in the following fields: species_code, wildlf_desc, ctry_org, ctry_ie, purp, src, trans_mode, pt_cd"
     ]
    }
   ],
   "source": [
    "X_train_lgbm, X_test_lgbm, y_train_lgbm, y_test_lgbm = data_split(export_df)\n",
    "\n",
    "start = datetime.now()\n",
    "lgbm_model_raw= lgb.LGBMClassifier(feature_name= X_train_lgbm.columns.to_list(), categorical_feature= [\"species_code\", \"wildlf_desc\", \"ctry_org\",\n",
    "                                                                                             \"ctry_ie\", \"purp\",\n",
    "                                                         \"src\", \"trans_mode\", \"pt_cd\"]).fit(X_train_lgbm, y_train_lgbm, eval_set=[(X_test_lgbm, y_test_lgbm),\n",
    "                                                                                    (X_train_lgbm, y_train_lgbm)])\n",
    "end = datetime.now()\n",
    "\n",
    "print(f'model run time: {end - start}')\n",
    "lgbm_predicted_raw = lgbm_model_raw.predict(X_test)\n",
    "confusion = confusion_matrix(y_test, lgbm_predicted_raw)\n",
    "print('LightLGBM Classifier SMOTE Confusion Matrix\\n', confusion)"
   ],
   "metadata": {
    "collapsed": false,
    "pycharm": {
     "name": "#%%\n"
    }
   }
  },
  {
   "cell_type": "markdown",
   "source": [
    "## PCA Validation via Truncated SVD"
   ],
   "metadata": {
    "collapsed": false,
    "pycharm": {
     "name": "#%% md\n"
    }
   }
  },
  {
   "cell_type": "code",
   "execution_count": 54,
   "outputs": [
    {
     "data": {
      "text/plain": "['ship_date_mm',\n 'src',\n 'value',\n 'pt_cd',\n 'purp',\n 'ctry_org',\n 'wildlf_desc',\n 'trans_mode',\n 'ctry_ie',\n 'species_code']"
     },
     "execution_count": 54,
     "metadata": {},
     "output_type": "execute_result"
    }
   ],
   "source": [
    "from sklearn.decomposition import TruncatedSVD\n",
    "\n",
    "test_standard = TruncatedSVD(n_components=5, random_state=rng)\n",
    "X_train_svd = test_standard.fit_transform(X_train)\n",
    "[feature_cols[i] for i in test_standard.components_[0].argsort()[::-1]]"
   ],
   "metadata": {
    "collapsed": false,
    "pycharm": {
     "name": "#%%\n"
    }
   }
  },
  {
   "cell_type": "code",
   "execution_count": 58,
   "outputs": [
    {
     "data": {
      "text/plain": "{'algorithm': 'randomized',\n 'n_components': 5,\n 'n_iter': 5,\n 'n_oversamples': 10,\n 'power_iteration_normalizer': 'auto',\n 'random_state': 42,\n 'tol': 0.0,\n 'n_features_in_': 10,\n 'components_': array([[-1.45610663e-03,  1.08024816e-03,  1.08052940e-03,\n          1.04437999e-03,  1.08298093e-03,  1.09704038e-03,\n          1.05485817e-03,  1.09229473e-03,  1.09481920e-03,\n          9.99994287e-01],\n        [ 9.99995946e-01,  4.25736633e-04,  5.07853487e-04,\n          2.32226143e-03,  9.09747873e-05,  2.32893707e-05,\n          3.58514930e-04, -1.68756876e-04, -3.74771327e-06,\n          1.45236123e-03],\n        [-1.47667402e-03,  8.29078462e-01,  1.12190155e-01,\n          4.07918398e-01,  3.80115120e-02,  3.72052065e-02,\n          3.53509476e-01,  5.02917393e-02,  5.75438117e-02,\n         -2.01783596e-03],\n        [ 1.32601542e-03,  5.49616772e-01, -2.68053720e-02,\n         -5.74840242e-01, -2.45266453e-02, -1.71055762e-02,\n         -6.03165001e-01, -3.65502348e-02, -2.68532710e-02,\n          7.88432486e-04],\n        [ 1.38082698e-03,  5.72399740e-02, -1.54095269e-01,\n         -6.81448760e-01, -5.95135741e-03, -1.73432993e-02,\n          7.11531636e-01, -6.15659835e-03, -4.41872242e-02,\n          1.48382410e-04]]),\n 'explained_variance_': array([1.05723552e+01, 9.99819857e-01, 1.19675492e-03, 6.23824024e-04,\n        2.60884160e-04]),\n 'explained_variance_ratio_': array([9.13401782e-01, 8.63797353e-02, 1.03393999e-04, 5.38954630e-05,\n        2.25391650e-05]),\n 'singular_values_': array([3338.61346762,  473.79656605,   16.47276368,   11.86093138,\n           7.65427513])}"
     },
     "execution_count": 58,
     "metadata": {},
     "output_type": "execute_result"
    }
   ],
   "source": [
    "test_standard.__dict__"
   ],
   "metadata": {
    "collapsed": false,
    "pycharm": {
     "name": "#%%\n"
    }
   }
  },
  {
   "cell_type": "code",
   "execution_count": 55,
   "outputs": [
    {
     "data": {
      "text/plain": "['ship_date_mm',\n 'wildlf_desc',\n 'ctry_ie',\n 'trans_mode',\n 'ctry_org',\n 'value',\n 'pt_cd',\n 'purp',\n 'src',\n 'species_code']"
     },
     "execution_count": 55,
     "metadata": {},
     "output_type": "execute_result"
    }
   ],
   "source": [
    "test_resampled = TruncatedSVD(n_components=5, random_state=rng)\n",
    "X_train_svd_resampled = test_resampled.fit_transform(X_train_resampled)\n",
    "[feature_cols[i] for i in test_resampled.components_[0].argsort()[::-1]]"
   ],
   "metadata": {
    "collapsed": false,
    "pycharm": {
     "name": "#%%\n"
    }
   }
  },
  {
   "cell_type": "code",
   "execution_count": 59,
   "outputs": [
    {
     "data": {
      "text/plain": "{'algorithm': 'randomized',\n 'n_components': 5,\n 'n_iter': 5,\n 'n_oversamples': 10,\n 'power_iteration_normalizer': 'auto',\n 'random_state': 42,\n 'tol': 0.0,\n 'n_features_in_': 10,\n 'components_': array([[-3.13138159e-03,  9.03823479e-03,  2.01720799e-03,\n          4.74969914e-03,  1.37427207e-03,  1.27004647e-03,\n          4.61986056e-03,  1.62636040e-03,  1.89117869e-03,\n          9.99925402e-01],\n        [ 9.99980432e-01,  3.23385707e-03,  7.97151792e-04,\n         -2.10604445e-03, -1.07714198e-04, -2.66043758e-04,\n         -3.43332939e-03, -1.00670452e-03, -9.61191401e-04,\n          3.13052301e-03],\n        [-1.49836901e-03,  9.25499873e-01,  6.98694844e-02,\n          2.60483372e-01,  1.62606712e-02,  1.39529412e-02,\n          2.60294347e-01,  3.71140598e-02,  3.16425725e-02,\n         -1.11113586e-02],\n        [ 5.01566193e-03, -3.70699684e-01,  2.06624899e-02,\n          5.58369098e-01,  1.01021201e-02,  9.20461828e-03,\n          7.37224953e-01,  6.23533758e-02,  5.26258766e-02,\n         -2.96019369e-03],\n        [-7.27060835e-04, -6.89238899e-02,  9.56897192e-01,\n          1.66545821e-01,  1.71713828e-02,  3.90767643e-02,\n         -1.97856834e-01,  2.75681898e-02,  1.00637000e-01,\n         -1.49505597e-03]]),\n 'explained_variance_': array([1.07320340e+01, 5.81112171e-01, 3.42816927e-02, 9.78591189e-03,\n        2.48271525e-03]),\n 'explained_variance_ratio_': array([9.44421146e-01, 5.11379875e-02, 3.01679583e-03, 8.61162208e-04,\n        2.18479440e-04]),\n 'singular_values_': array([4828.759798  ,  508.61286372,  123.91965118,   66.14214274,\n          33.31024306])}"
     },
     "execution_count": 59,
     "metadata": {},
     "output_type": "execute_result"
    }
   ],
   "source": [
    "test_resampled.__dict__"
   ],
   "metadata": {
    "collapsed": false,
    "pycharm": {
     "name": "#%%\n"
    }
   }
  },
  {
   "cell_type": "code",
   "execution_count": 56,
   "outputs": [
    {
     "data": {
      "text/plain": "['ship_date_mm',\n 'wildlf_desc',\n 'ctry_ie',\n 'trans_mode',\n 'ctry_org',\n 'value',\n 'pt_cd',\n 'purp',\n 'src',\n 'species_code']"
     },
     "execution_count": 56,
     "metadata": {},
     "output_type": "execute_result"
    }
   ],
   "source": [
    "test_smote = TruncatedSVD(n_components=5, random_state=rng)\n",
    "X_train_svd_smote = test_smote.fit_transform(X_train_SMOTE)\n",
    "[feature_cols[i] for i in test_smote.components_[0].argsort()[::-1]]"
   ],
   "metadata": {
    "collapsed": false,
    "pycharm": {
     "name": "#%%\n"
    }
   }
  },
  {
   "cell_type": "code",
   "execution_count": 60,
   "outputs": [
    {
     "data": {
      "text/plain": "{'algorithm': 'randomized',\n 'n_components': 5,\n 'n_iter': 5,\n 'n_oversamples': 10,\n 'power_iteration_normalizer': 'auto',\n 'random_state': 42,\n 'tol': 0.0,\n 'n_features_in_': 10,\n 'components_': array([[-3.55392410e-03,  8.89407259e-03,  1.87289937e-03,\n          4.80073518e-03,  1.34526897e-03,  1.24940019e-03,\n          4.60734845e-03,  1.62754314e-03,  1.81223000e-03,\n          9.99925587e-01],\n        [ 9.99978978e-01,  2.95917037e-03,  7.60164146e-04,\n         -2.31113623e-03, -1.10687942e-04, -2.56814156e-04,\n         -3.57719361e-03, -1.01191028e-03, -9.00747166e-04,\n          3.55769693e-03],\n        [-1.05589874e-03,  9.19625799e-01,  6.05017490e-02,\n          2.69731500e-01,  1.55259893e-02,  1.36272571e-02,\n          2.74057392e-01,  3.86146208e-02,  2.69320681e-02,\n         -1.10042577e-02],\n        [ 5.14920470e-03, -3.86921939e-01,  1.92903222e-02,\n          5.61236149e-01,  1.10731172e-02,  7.78924296e-03,\n          7.26816876e-01,  6.43857340e-02,  4.80327261e-02,\n         -2.83623804e-03],\n        [-3.64492985e-04, -5.61179211e-02,  2.96215166e-01,\n          7.15147729e-01,  1.11364940e-02,  1.82058848e-02,\n         -6.05497242e-01,  4.51943176e-02,  1.68952018e-01,\n         -1.11800462e-03]]),\n 'explained_variance_': array([1.07496794e+01, 5.70381219e-01, 3.31573828e-02, 9.73071312e-03,\n        1.96479103e-03]),\n 'explained_variance_ratio_': array([9.45629713e-01, 5.01753969e-02, 2.91679457e-03, 8.55993109e-04,\n        1.72839088e-04]),\n 'singular_values_': array([4829.14254128,  503.89359417,  121.85210446,   65.95916712,\n          29.62154571])}"
     },
     "execution_count": 60,
     "metadata": {},
     "output_type": "execute_result"
    }
   ],
   "source": [
    "test_smote.__dict__"
   ],
   "metadata": {
    "collapsed": false,
    "pycharm": {
     "name": "#%%\n"
    }
   }
  },
  {
   "cell_type": "markdown",
   "source": [],
   "metadata": {
    "collapsed": false,
    "pycharm": {
     "name": "#%% md\n"
    }
   }
  }
 ],
 "metadata": {
  "kernelspec": {
   "display_name": "Python 3 (ipykernel)",
   "language": "python",
   "name": "python3"
  },
  "language_info": {
   "codemirror_mode": {
    "name": "ipython",
    "version": 3
   },
   "file_extension": ".py",
   "mimetype": "text/x-python",
   "name": "python",
   "nbconvert_exporter": "python",
   "pygments_lexer": "ipython3",
   "version": "3.8.13"
  }
 },
 "nbformat": 4,
 "nbformat_minor": 5
}