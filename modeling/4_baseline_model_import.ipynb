{
 "cells": [
  {
   "cell_type": "markdown",
   "id": "65eba54c-61dd-4500-b137-5bbbf6d2ffe9",
   "metadata": {},
   "source": [
    "### Baseline Models Template for 2016 - 2020 Data"
   ]
  },
  {
   "cell_type": "code",
   "execution_count": 3,
   "id": "cf47ec1f-dd36-41cf-adc1-b8cd24655722",
   "metadata": {},
   "outputs": [],
   "source": [
    "import pandas as pd\n",
    "import numpy as np\n",
    "from sklearn.model_selection import train_test_split\n",
    "from sklearn.preprocessing import StandardScaler, OneHotEncoder, LabelEncoder\n",
    "from sklearn.tree import DecisionTreeClassifier\n",
    "from sklearn.ensemble import RandomForestClassifier, GradientBoostingClassifier\n",
    "from sklearn.dummy import DummyClassifier\n",
    "from sklearn.linear_model import LogisticRegression\n",
    "from sklearn.metrics import classification_report, confusion_matrix\n",
    "\n",
    "# from sklearn.pipeline import make_pipeline\n",
    "# from sklearn.compose import make_column_transformer\n",
    "# from sklearn.decomposition import PCA\n",
    "# from sklearn.covariance import empirical_covariance\n",
    "# import matplotlib.pyplot as plt\n",
    "# import matplotlib.cm as cm\n",
    "# from matplotlib.colors import ListedColormap, BoundaryNorm\n",
    "# import matplotlib.patches as mpatches\n",
    "import seaborn as sns\n",
    "import joblib\n",
    "import os\n",
    "#from adspy_shared_utilities import plot_decision_tree\n",
    "from datetime import datetime"
   ]
  },
  {
   "cell_type": "code",
   "execution_count": 4,
   "id": "91f0c944-93fc-4b98-b727-5c634fd32cc5",
   "metadata": {},
   "outputs": [],
   "source": [
    "rng = 42"
   ]
  },
  {
   "cell_type": "code",
   "execution_count": 5,
   "id": "15252d07-f6f9-47bf-8fa4-d33d9663bc7e",
   "metadata": {},
   "outputs": [],
   "source": [
    "p = '../data/'\n",
    "input_name = 'cleaned.csv'\n",
    "\n",
    "df = pd.read_csv(f'{p}{input_name}')"
   ]
  },
  {
   "cell_type": "markdown",
   "id": "030d9cea-5f82-472c-8789-4cee707da730",
   "metadata": {
    "jp-MarkdownHeadingCollapsed": true,
    "tags": []
   },
   "source": [
    "#### Preprocessing"
   ]
  },
  {
   "cell_type": "code",
   "execution_count": 6,
   "id": "f49fadea-28c9-4221-8ee5-1457bddfd692",
   "metadata": {},
   "outputs": [],
   "source": [
    "def df_filtering(df, i_e = 'I', f_cols = []):\n",
    "\n",
    "    filtered_df = df[df.i_e == i_e]\n",
    "    filtered_df = filtered_df[f_cols+['act']]\n",
    "    \n",
    "    return filtered_df"
   ]
  },
  {
   "cell_type": "code",
   "execution_count": 7,
   "id": "a02364b7-9904-44d4-8bdc-0934ee5fee78",
   "metadata": {},
   "outputs": [
    {
     "data": {
      "text/plain": [
       "Index(['control_number', 'species_code', 'genus', 'species', 'wildlf_desc',\n",
       "       'wildlf_cat', 'cartons', 'qty', 'unit', 'value', 'ctry_org', 'ctry_ie',\n",
       "       'purp', 'src', 'trans_mode', 'act', 'dp_cd', 'disp_date', 'ship_date',\n",
       "       'i_e', 'pt_cd', 'specific_generic_name', 'disp_date_yyyy',\n",
       "       'disp_date_mm', 'ship_date_yyyy', 'ship_date_mm', 'disp_ship_date'],\n",
       "      dtype='object')"
      ]
     },
     "execution_count": 7,
     "metadata": {},
     "output_type": "execute_result"
    }
   ],
   "source": [
    "df.columns"
   ]
  },
  {
   "cell_type": "code",
   "execution_count": 8,
   "id": "66ad55fe-d543-4b10-ac4d-66fb10b8aba5",
   "metadata": {},
   "outputs": [],
   "source": [
    "non_feature_cols = ['control_number', 'disp_date', 'i_e', 'ship_date', \n",
    "                    'cartons', 'qty', 'unit', 'specific_generic_name',\n",
    "                    'genus', 'species', 'wildlf_cat', \n",
    "                    'disp_date_yyyy', 'disp_date_mm', 'disp_ship_date']\n",
    "\n",
    "target = ['act', 'dp_cd']\n",
    "\n",
    "feature_cols = ['species_code', 'wildlf_desc', \n",
    "                'ctry_org', 'ctry_ie','purp', 'src', 'trans_mode', 'pt_cd', \n",
    "                 'value', 'ship_date_mm']"
   ]
  },
  {
   "cell_type": "code",
   "execution_count": 9,
   "id": "39a9e465-92ac-487f-a9df-782636d25b10",
   "metadata": {},
   "outputs": [],
   "source": [
    "import_df = df_filtering(df, i_e = 'I', f_cols = feature_cols)\n",
    "# export_df = df_filtering(df, i_e = 'E', f_cols = feature_cols)\n",
    "# import: 590505 rows × 11 columns\n",
    "# export: 299340 rows × 11 columns"
   ]
  },
  {
   "cell_type": "code",
   "execution_count": 10,
   "id": "8e4ee54e-2879-488b-948e-f7decfb4a969",
   "metadata": {},
   "outputs": [],
   "source": [
    "def data_transformation(df):\n",
    "    X, y = df.iloc[:,:-1], df.iloc[:,-1:]\n",
    "    X = pd.get_dummies(X)\n",
    "    y = np.where(y['act']=='R',1,0)\n",
    "    \n",
    "    X_train, X_test, y_train, y_test = train_test_split(X, y, random_state=rng)#, stratify=y) \n",
    "    \n",
    "    return X_train, X_test, y_train, y_test\n",
    "    "
   ]
  },
  {
   "cell_type": "code",
   "execution_count": 11,
   "id": "0f88beda-31ad-4282-80b6-397773aac7ab",
   "metadata": {},
   "outputs": [],
   "source": [
    "X_train, X_test, y_train, y_test = data_transformation(import_df)"
   ]
  },
  {
   "cell_type": "code",
   "execution_count": null,
   "id": "764321ff-9e64-446b-abae-f9d2aa8110e4",
   "metadata": {},
   "outputs": [],
   "source": [
    "# set up folder to save results\n",
    "os.makedirs('import_run1')"
   ]
  },
  {
   "cell_type": "code",
   "execution_count": 13,
   "id": "20160ae3-0388-4bbd-969a-d53ea05da296",
   "metadata": {},
   "outputs": [],
   "source": [
    "prefix = 'import_run1/import'"
   ]
  },
  {
   "cell_type": "markdown",
   "id": "38712ba7-e296-4a1b-a3bc-77920c6115d7",
   "metadata": {
    "jp-MarkdownHeadingCollapsed": true,
    "tags": []
   },
   "source": [
    "#### Dummy Classifers"
   ]
  },
  {
   "cell_type": "code",
   "execution_count": 14,
   "id": "457ca9a8-2623-42bf-8610-b129f927217d",
   "metadata": {},
   "outputs": [
    {
     "name": "stdout",
     "output_type": "stream",
     "text": [
      "model run time: 0:00:00.052417\n"
     ]
    }
   ],
   "source": [
    "start = datetime.now()\n",
    "dummy_majority = DummyClassifier(strategy = 'most_frequent').fit(X_train, y_train)\n",
    "end = datetime.now()\n",
    "print(f'model run time: {end - start}')\n",
    "\n",
    "# dummy_majority.score(X_test, y_test)\n",
    "dummy_predicted = dummy_majority.predict(X_test)"
   ]
  },
  {
   "cell_type": "code",
   "execution_count": 15,
   "id": "60285ed2-962a-4016-90ad-9a1a2e218853",
   "metadata": {},
   "outputs": [
    {
     "data": {
      "text/plain": [
       "['import_run1/import_dummy_majority_clf.joblib']"
      ]
     },
     "execution_count": 15,
     "metadata": {},
     "output_type": "execute_result"
    }
   ],
   "source": [
    "joblib.dump(dummy_majority, f'{prefix}_dummy_majority_clf.joblib')"
   ]
  },
  {
   "cell_type": "markdown",
   "id": "7726cbe7-fb99-4902-8ac8-b7ed33b200db",
   "metadata": {
    "jp-MarkdownHeadingCollapsed": true,
    "tags": []
   },
   "source": [
    "#### Logistic Regression"
   ]
  },
  {
   "cell_type": "code",
   "execution_count": null,
   "id": "1272a83e-5b37-40d6-9b89-893bdd465b67",
   "metadata": {},
   "outputs": [],
   "source": [
    "start = datetime.now()\n",
    "lr = LogisticRegression(random_state=rng).fit(X_train, y_train)\n",
    "end = datetime.now()\n",
    "print(f'model run time: {end - start}')\n",
    "\n",
    "lr_predicted = lr.predict(X_test)\n",
    "confusion = confusion_matrix(y_test, lr_predicted)\n",
    "print('Logistic regression classifier (default settings)\\n', confusion)"
   ]
  },
  {
   "cell_type": "code",
   "execution_count": null,
   "id": "bdf2888c-6c3a-4e51-a7e2-b881628458f7",
   "metadata": {},
   "outputs": [],
   "source": [
    "start = datetime.now()\n",
    "lr_balanced = LogisticRegression(random_state=rng, class_weight='balanced').fit(X_train, y_train)\n",
    "end = datetime.now()\n",
    "print(f'model run time: {end - start}')\n",
    "\n",
    "lr_balanced_predicted = lr_balanced.predict(X_test)\n",
    "confusion = confusion_matrix(y_test, lr_balanced_predicted)\n",
    "print('Logistic regression classifier (balanced)\\n', confusion)"
   ]
  },
  {
   "cell_type": "code",
   "execution_count": null,
   "id": "d3dff4f3-de64-42bb-94c1-93e5f66ebd4f",
   "metadata": {},
   "outputs": [],
   "source": [
    "joblib.dump(lr, f'{prefix}_lr_clf.joblib')\n",
    "joblib.dump(lr_balanced, f'{prefix}_lr_balanced_clf.joblib')"
   ]
  },
  {
   "cell_type": "markdown",
   "id": "7adb248b-2822-40e0-b157-4407ee314cfd",
   "metadata": {
    "jp-MarkdownHeadingCollapsed": true,
    "tags": []
   },
   "source": [
    "#### Decision Tree"
   ]
  },
  {
   "cell_type": "code",
   "execution_count": null,
   "id": "88cfaff7-0061-45af-90e7-60d55a592e61",
   "metadata": {},
   "outputs": [],
   "source": [
    "start = datetime.now()\n",
    "decision_tree_clf = DecisionTreeClassifier(random_state=rng).fit(X_train, y_train)\n",
    "end = datetime.now()\n",
    "print(f'model run time: {end - start}')"
   ]
  },
  {
   "cell_type": "code",
   "execution_count": null,
   "id": "ac5c1593-221d-445a-81de-63527f4ef804",
   "metadata": {},
   "outputs": [],
   "source": [
    "tree_predicted = decision_tree_clf.predict(X_test)\n",
    "confusion = confusion_matrix(y_test, tree_predicted)\n",
    "print('Logistic regression classifier (balanced)\\n', confusion)"
   ]
  },
  {
   "cell_type": "code",
   "execution_count": null,
   "id": "64ef3d8a-d872-4af6-a88a-539600e89ea8",
   "metadata": {},
   "outputs": [],
   "source": [
    "joblib.dump(decision_tree_clf, f'{prefix}_decision_tree_clf.joblib')"
   ]
  },
  {
   "cell_type": "markdown",
   "id": "2c9a906b-06d1-4472-9902-f8c24ef8d282",
   "metadata": {
    "jp-MarkdownHeadingCollapsed": true,
    "tags": []
   },
   "source": [
    "#### Random Forest"
   ]
  },
  {
   "cell_type": "code",
   "execution_count": null,
   "id": "b20ae03b-c2c4-49d6-9ba4-ef2e6702cb78",
   "metadata": {},
   "outputs": [],
   "source": [
    "start = datetime.now()\n",
    "rf_clf = RandomForestClassifier(random_state=rng).fit(X_train, y_train)\n",
    "end = datetime.now()\n",
    "print(f'model run time: {end - start}')"
   ]
  },
  {
   "cell_type": "code",
   "execution_count": null,
   "id": "f553addd-7e72-4e25-adce-87cf5d655398",
   "metadata": {},
   "outputs": [],
   "source": [
    "rf_predicted = rf_clf.predict(X_test)\n",
    "confusion = confusion_matrix(y_test, rf_predicted)\n",
    "print('Logistic regression classifier (balanced)\\n', confusion)"
   ]
  },
  {
   "cell_type": "code",
   "execution_count": null,
   "id": "4c7470c8-08ff-44da-bac6-a28e3efdb6cf",
   "metadata": {},
   "outputs": [],
   "source": [
    "joblib.dump(rf_clf, f'{prefix}_rf_clf.joblib')"
   ]
  },
  {
   "cell_type": "markdown",
   "id": "4c2771bf-e988-45d9-aa1f-4c6bc760cb47",
   "metadata": {},
   "source": [
    "#### Model Evaluation"
   ]
  },
  {
   "cell_type": "code",
   "execution_count": null,
   "id": "8f99bb64-ca49-460f-84a8-3afffcd8ccd7",
   "metadata": {},
   "outputs": [],
   "source": [
    "print('Random class-proportional (dummy)\\n', \n",
    "      classification_report(y_test, dummy_predicted, target_names=['clear', 'seized']))\n",
    "print('Decision Tree \\n', \n",
    "      classification_report(y_test, tree_predicted, target_names=['clear', 'seized']))\n",
    "print('Random Forest \\n', \n",
    "      classification_report(y_test, rf_predicted, target_names=['clear', 'seized']))\n",
    "print('Logistic Regression \\n', \n",
    "      classification_report(y_test, lr_predicted, target_names=['clear', 'seized']))\n",
    "print('Logistic Regression (balanced) \\n', \n",
    "      classification_report(y_test, lr_balanced_predicted, target_names=['clear', 'seized']))"
   ]
  },
  {
   "cell_type": "code",
   "execution_count": null,
   "id": "7cba6c51-8605-446b-a92b-7c378d9ee6c0",
   "metadata": {},
   "outputs": [],
   "source": [
    "# Accuracy = TP + TN / (TP + TN + FP + FN)\n",
    "# Precision = TP / (TP + FP)\n",
    "# Recall = TP / (TP + FN)  Also known as sensitivity, or True Positive Rate\n",
    "# F1 = 2 * Precision * Recall / (Precision + Recall) "
   ]
  },
  {
   "cell_type": "code",
   "execution_count": null,
   "id": "f8d40a34-4e88-46b3-a7b9-9c436a57da49",
   "metadata": {},
   "outputs": [],
   "source": [
    "export_df.info()"
   ]
  },
  {
   "cell_type": "code",
   "execution_count": null,
   "id": "2828bffb-5400-4c20-a580-b66244c7b532",
   "metadata": {},
   "outputs": [],
   "source": [
    "categorical_var = ['species_code', 'wildlf_desc', 'ctry_org', 'ctry_ie','purp', 'src', \n",
    "                   'trans_mode', 'pt_cd']\n",
    "numerical_var = ['value']"
   ]
  },
  {
   "cell_type": "code",
   "execution_count": null,
   "id": "04548411-205d-452a-8f6c-e6a88d5d0683",
   "metadata": {},
   "outputs": [],
   "source": [
    "ct1 = make_column_transformer(\n",
    "    (StandardScaler(), numerical_var),\n",
    "    (OneHotEncoder(), categorical_var),\n",
    "    remainder='passthrough')\n",
    "le = LabelEncoder()"
   ]
  },
  {
   "cell_type": "code",
   "execution_count": null,
   "id": "d74c3da5-a973-4fd9-837c-047ad7fb4999",
   "metadata": {},
   "outputs": [],
   "source": [
    "X_train_ohe = ct.fit_transform(X_train)\n",
    "joblib.dump(X_train_ohe , 'X_train_ohe.joblib')\n",
    "\n",
    "X_test_ohe = ct.transform(X_test)\n",
    "joblib.dump(X_test_ohe , 'X_test_ohe.joblib')\n",
    "# Found unknown categories \n",
    "\n",
    "y_train_t = le.fit_transform(y_train.values.ravel())\n",
    "y_test_t = le.transform(y_test.values.ravel())"
   ]
  },
  {
   "cell_type": "code",
   "execution_count": null,
   "id": "01247818-63de-4c2b-99e6-fdccdc906d05",
   "metadata": {},
   "outputs": [],
   "source": [
    "print(f'{len(y_test_t[y_test_t > 0])},  {len(y_test_t[y_test_t ==0])}, total {len(y_test_t)}')\n",
    "print(f'{len(y_train_t[y_train_t > 0])},  {len(y_train_t[y_train_t ==0])}, total {len(y_train_t)}')"
   ]
  },
  {
   "cell_type": "code",
   "execution_count": null,
   "id": "a7537aa4-1165-47d5-a1fe-9c485f5157c9",
   "metadata": {},
   "outputs": [],
   "source": []
  },
  {
   "cell_type": "code",
   "execution_count": null,
   "id": "242db8ca-5884-4d48-9259-1085f54d32bd",
   "metadata": {},
   "outputs": [],
   "source": [
    "len(['NYSC', 'HETB', 'HIHK', 'DIGR', 'STRH', 'CNCR', 'MUWR', 'CSOR', 'PIO?', 'WHIB', 'PHMI', 'CBQ?', 'RHFR', 'PENG', 'MRUA', 'ARB*', 'EUAU', 'CTGU', 'NENO', 'GBAN', 'PASB', 'SEPC', 'GEAC', 'TUMA', 'BUBI', 'BES?', 'OCCI', 'ONCA', 'IST?', 'CRAQ', 'MADC', 'SPRH', 'CHNE', 'PHPP', 'LTY?', 'LASP', 'AGAA', 'UAFE', 'DSP?', 'SSPH', 'COB*', 'OTGA', 'DEIJ', 'SEAV', 'CCEL', 'PGAL', 'PDMO', 'PLI*', 'TYS?', 'COJP', 'MIS?', 'CPSE', 'TABA', 'NHT?', 'NTP*', 'BANI', 'TOER', 'BOMA', 'CLAE', 'CCM?', 'PEXI', 'TANC', 'APHS', 'GAR?', 'PELF', 'AAMM', 'DDP?', 'GAS*', 'BORI', 'WOTH', 'PLAS', 'CMOR', 'PUN?', 'BBRA', 'SFLV', 'MARS', 'GOR?', 'SPHI', 'MIBA', 'ELA*', 'PAGM', 'THPS', 'ICGR', 'OXPI', 'STDO', 'PANH', 'TODE', 'NOMU', 'CONG', 'AMFU', 'THRE', 'BAVS', 'AMST', 'TRK?', 'BTGW', 'OEPI', 'PHSY', 'CMGR', 'BBAL', 'LIAB', 'RAN*', 'CUL*', 'CAMT', 'ZON?', 'CONV', 'NEP*', 'CINL', 'NCIN', 'MVIO', 'HDA?', 'BUSE', 'CLRV', 'NEH*', 'AMPH', 'ZOQU', 'PRFF', 'CEO*', 'CUP?', 'MANC', 'LITL', 'FADE', 'MAMA', 'SACL', 'TCS?', 'LURU', 'FALR', 'ABSM', 'THPY', 'NOFL', 'DDOR', 'MCB?', 'MAAB', 'CCAO', 'TOPO', 'SCEF', 'EID?', 'YETO', 'LSOU', 'OCS?', 'ANOT', 'NOSK', 'VEER', 'SURF', 'MRI?', 'PATA', 'BA##', 'CETD', 'HNC?', 'MEFE', 'CUND', 'FAR*', 'BALU', 'CCNS', 'TRQU', 'BLSW', 'OLFU', 'SDEP', 'MGI?', 'AUT?', 'BLSK', 'DETY', 'PHWI', 'ODJU', 'ERLI', 'PIP*', 'HEWA', 'OMYK', 'ARXA', 'COIE', 'TOAS', 'ELOA', 'AEUG', 'LAJA', 'CAUO', 'APRO', 'YELL', 'EILE', 'AFRU', 'PIVI', 'ADL?', 'NYPE', 'SUPH', 'TOSA', 'TUPH', 'CARA', 'PLDA', 'PIE*', 'BHGR', 'ORIO', 'BO00', 'SIBO', 'MMNK', 'TRMU', 'HOP*', 'SERH', 'POO*', 'ANHC', 'COAR', 'CSPZ', 'RSTE', 'SUDI', 'EUC*', 'PMOC', 'DPU?', 'NASI', 'MYA?', 'LYN?', 'ZANA', 'SSTO', 'TRUF', 'STPI', 'SON?', 'TOY?', 'GLOP', 'SVS?', 'MYOM', 'CNSE', 'CACO', 'GGTA', 'ATVA', 'PUCO', 'BYC?', 'DNP?', 'TOXS', 'CLNG', 'SASA', 'CASN', 'EOP?', 'CGY?', 'THAA', 'PAP?', 'ANN?', 'GHER', 'TAGN', 'VAGL', 'GAAB', 'VAMC', 'AUBM', 'ARSP', 'PPUO', 'MLS*', 'OSFL', 'MCUI', 'TAYA', 'CYR?', 'SASE', 'APFL', 'MABP', 'LIH*', 'TOSO', 'RAME', 'PYLU', 'TAMI', 'DRGL', 'SBA*', 'AMG*', 'BSPE', 'INGE', 'THOT', 'GYML', 'LAMS', 'EIM?', 'CGRO', 'HCNT', 'MRE?', 'MALP', 'ASNL', 'ECCO', 'CHOT', 'CAAS', 'NEUC', 'MCC*', 'HEMS', 'TNGC', 'SPBR', 'THUN', 'ACAC', 'CRAM', 'GECO', 'CCFF', 'WYGW', 'GOLA', 'SQU?', 'CEEE', 'TOFL', 'MYRA', 'MMIP', 'PSXA', 'LIUS', 'MIMC', 'SBOI', 'AVRT', 'TPOP', 'LEPK', 'CBNK', 'AGYL', 'BUFB', 'AVIR', 'MARU', 'LRA?', 'GUYO', 'HYD?', 'ABLO', 'GLTR', 'HSOR', 'MCV*', 'APMA', 'PYED', 'RATL', 'HECI', 'DBU?', 'HAWF', 'SYLL', 'NEOB', 'PIAR', 'BALP', 'TMRA', 'TMP?', 'BOOM', 'ATCE', 'LAES', 'MYMN', 'LALO', 'LBLO', 'BOGU', 'HEAT', 'PNOT', 'ORPA', 'PYHE', 'OCUN', 'PHCN', 'PAHC', 'CAUB', 'EPIF', 'NENI', 'ECRI', 'ENTL', 'MPS?', 'CSCA', 'PIS*', 'MLML', 'MYAB', 'CFIG', 'APD?', 'SPP*', 'BEHI', 'MUSC', 'PANO', 'LYBE', 'NALO', 'DIPP', 'COPA', 'PEH?', 'PLHE', 'SUC?', 'PRJE', 'HEFR', 'EMEL', 'CRGL', 'PEO*', 'PGAB', 'FALF', 'RHIM', 'WIWD', 'CDID', 'PCHI', 'VIN*', 'NATE', 'GYCA', 'PMR?', 'CYMM', 'CHAG', 'CROG', 'HYPH', 'HMG*', 'KIRA', 'ELI*', 'PYGB', 'LIW?', 'CNRA', 'TESG', 'COEC', 'TYA*', 'PABE', 'VAOR', 'GLMA', 'APOA', 'CCSR', 'LETA', 'BSEP', 'MYSC', 'HAWH', 'HATH', 'ATS*', 'CNC*', 'SCAS', 'VAMT', 'CAE?', 'CPSL', 'COOS', 'LBE?', 'REKN', 'RHIN', 'URB?', 'CIAN', 'MLUC', 'WEHU', 'MLA?', 'CNRU', 'ANLA', 'BTRS', 'OLWA', 'CAPN', 'HELD', 'PIN*', 'PPRZ', 'NAC?', 'MCU?', 'NISE', 'LESU', 'EAME', 'BOIM', 'DUTA', 'DCNC', 'APD*', 'PML?', 'BLUE', 'RHFI', 'MUNM', 'EMSP', 'GATR', 'OTRO', 'PIBI', 'DDU?', 'XEMI', 'NRUF', 'GLOI', 'HBRA', 'HCAM', 'BACN', 'NESP', 'LUME', 'MENM', 'EUPF', 'TATT', 'PET*', 'PLCP', 'IDE*', 'NEA?', 'ACNM', 'PADN', 'EPRO', 'PRON', 'ACSL', 'SPMA', 'MMGT', 'ACCV', 'STST', 'PAMP', 'TEER', 'TRDR', 'SERF', 'MTP?', 'URAE', 'SPHN', 'SBR*', 'ACD?', 'MED?', 'TMS?', 'AMFR', 'MYGR', 'ARLO', 'CEGY', 'COPE', 'CAMI', 'GOMV', 'ACBR', 'BTC?', 'ISPA', 'ABIM', 'PYBA', 'ONZB', 'BCP?', 'GAI?', 'CVRI', 'TDD?', 'ENEN', 'DAUA', 'ARTE', 'HAMP', 'BLTU', 'BMES', 'LAOM', 'LYCD', 'SSEN', 'CLM?', 'THTO', 'MYIR', 'HRL?', 'OVOO', 'URSE', 'TRI?', 'FELP', 'WNRA', 'ARGB', 'POT*', 'DASL', 'APY?', 'RAEX', 'RFBO', 'AMAJ', 'AMRR', 'SSTT', 'SVIN', 'CSPN', 'TYBR', 'PPDX', 'PTOR', 'EMBL', 'PPO?', 'COU*', 'AMGR', 'TBRN', 'CUPA', 'PNCP', 'PCUI', 'HIFI', 'AEXT', 'THX*', 'PND?', 'OVO?', 'LNIG', 'EPSS', 'PTYH', 'CVIG', 'LGS*', 'LBPI', 'BONI', 'PHCR', 'FERA', 'NCS?', 'HOSE', 'HANG', 'HEHE', 'PTGL', 'CCST', 'HDM?', 'PSO*', 'CCCR', 'ARMX', 'STYG', 'FIFI', 'HOG?', 'DICY', 'AAPA', 'BODU', 'SCIP', 'COCC', 'ESUB', 'PSRF', 'PHEY', 'IND*', 'ZMN?', 'WHB?', 'AGVA', 'BRPE', 'TAE*', 'APVE', 'LYPH', 'GRSN', 'ETMS', 'AS00', 'CEOC', 'ECOC', 'CRQ?', 'TURC', 'ANTE', 'TCHR', 'PSRE', 'NAPI', 'COGO', 'FURE', 'ECAE', 'BTH?', 'SMAX', 'CHO*', 'AMPR', 'MYEL', 'ASFL', 'ARU?', 'BLAC', 'HBOL', 'CRYA', 'LCTH', 'CBDT', 'COEF', 'ENG?', 'PRFR', 'TPER', 'CCCL', 'PHDE', 'CUGA', 'PTO?', 'TCRL', 'TAKY', 'TYCO', 'APHC', 'ELP*', 'EL??', 'FLO?', 'ASAX', 'HYCY', 'WBMB', 'OSMO', 'TUFS', 'TRJA', 'LEOW', 'MOT?', 'PHDA', 'DIMB', 'RIHU', 'CRML', 'AFAT', 'CTT?', 'PFVC', 'JUTM', 'ACAE', 'CHTU', 'ASET', 'NEFL', 'RAEV', 'PYGO', 'EPAL', 'URN?', 'LLAV', 'AGPE', 'XIOC', 'GESC', 'CYPN', 'SSCT', 'VAME', 'PMLL', 'SPMC', 'CSIE', 'DNO?', 'BMOL', 'AGC?', 'PIRF', 'EUDC', 'PPLU', 'XAFL', 'SHAH', 'CHTR', 'RUPE', 'KNIP', 'ARVA', 'SEBA', 'ACG?', 'GCEC', 'MIM?', 'LEAS', 'MEHP', 'PEAT', 'BRAB', 'ASN?', 'VAIN', 'STJA', 'PNN?', 'MIDU', 'MIOL', 'MYFS', 'PLRH', 'PLFL', 'REDP', 'EMTA', 'OSG?', 'LGU?', 'BZCO', 'SSTA', 'CAB*', 'HYA?', 'ECYA', 'DGL?', 'COLS', 'PHUR', 'PHRC', 'HCLC', 'PNE?', 'RGN?', 'GRAG', 'PPAN', 'BALT', 'AIP?', 'FERE', 'SAH?', 'PEOC', 'RDP?', 'ODGU', 'WEFL', 'LIUN', 'CYQU', 'SYCO', 'MDC*', 'GUPL', 'ASIS', 'PR00', 'BLEP', 'GORB', 'NATN', 'SCS?', 'PISE', 'GOPO', 'DVAG', 'ADME', 'ACSO', 'ANHU', 'FUHY', 'ECS*', 'NUWO', 'NTL?', 'SYLB', 'STEX', 'RPC?', 'SAXR', 'COGS', 'RPUM', 'TE00', 'HELI', 'TRIP', 'STCU', 'SAT?', 'DMEX', 'COI?', 'CRDU', 'SYAT', 'OPD?', 'VALE', 'CPO*', 'NUCA', 'AMAV', 'CMRQ', 'SYNR', 'HOSA', 'DSA?', 'PYN?', 'YTWA', 'JWW?', 'NNAS', 'COTE', 'DOBM', 'BRAU', 'GRPE', 'OUL?', 'OLVI', 'PAML', 'PLDU', 'STU*', 'GPT?', 'AGAT', 'LEUF', 'LEBU', 'HAGO', 'ARLA', 'BLWA', 'VECR', 'BTBW', 'ICME', 'CLYL', 'PYCF', 'CYX?', 'PDUN', 'HEAX', 'MIFU', 'GOSL', 'ATRV', 'SEXP', 'GRYE', 'EMHO', 'PTSD', 'CMGU', 'HAPU', 'VUGR', 'TGER', 'HHAI', 'GBUN', 'MUL*', 'CMCC', 'AMXC', 'BON?', 'ATH*', 'LNO*', 'SYST', 'TIOB', 'LIGY', 'PAGL', 'XIEL', 'AGI?', 'BSEC', 'LBMW', 'LMEL', 'MEEV', 'MECP', 'CEPN', 'CACH', 'PMAS', 'PYCY', 'POEC', 'BABJ', 'CSCR', 'SIY?', 'ORPP', 'EPTS', 'SPOD', 'CHN*', 'TPEL', 'SIEI', 'NOUR', 'NASG', 'XEIM', 'LOLI', 'GROR', 'PFSH', 'IGFR', 'CGB?', 'ANMS', 'BRCR', 'CSP?', 'CNCA', 'SPDE', 'ELPA', 'ARO*', 'EHE?', 'NYNO'])"
   ]
  },
  {
   "cell_type": "code",
   "execution_count": null,
   "id": "77ef95b1-8d67-407c-8a53-e82c5e51c517",
   "metadata": {},
   "outputs": [],
   "source": [
    "# ct.named_transformers_\n",
    "# transformed_features = ct.named_transformers_['onehotencoder'].get_feature_names_out()"
   ]
  },
  {
   "cell_type": "code",
   "execution_count": null,
   "id": "6ee23c20-e027-4cf5-bad6-02ad1ff0d76e",
   "metadata": {},
   "outputs": [],
   "source": [
    "pca = PCA(n_components = 10)\n",
    "X_train_pca = pca.fit_transform(X_train_t.toarray())\n",
    "print(X_train_t.shape, X_train_pca.shape)"
   ]
  },
  {
   "cell_type": "code",
   "execution_count": null,
   "id": "cb094516-1e2d-40d4-8169-54d2d35f7cbd",
   "metadata": {},
   "outputs": [],
   "source": [
    "sns.heatmap(empirical_covariance(X_train_pca))"
   ]
  },
  {
   "cell_type": "code",
   "execution_count": null,
   "id": "9851c597-d17b-4d48-a15d-a1d9f5ab488c",
   "metadata": {},
   "outputs": [],
   "source": [
    "def plot_labelled_scatter(X, y, class_labels):\n",
    "    num_labels = len(class_labels)\n",
    "\n",
    "    x_min, x_max = X[:, 0].min() - 1, X[:, 0].max() + 1\n",
    "    y_min, y_max = X[:, 1].min() - 1, X[:, 1].max() + 1\n",
    "\n",
    "    marker_array = ['o', '^', '*']\n",
    "    color_array = ['#FFFF00', '#00AAFF', '#000000', '#FF00AA']\n",
    "    cmap_bold = ListedColormap(color_array)\n",
    "    bnorm = BoundaryNorm(np.arange(0, num_labels + 1, 1), ncolors=num_labels)\n",
    "    plt.figure()\n",
    "\n",
    "    plt.scatter(X[:, 0], X[:, 1], s=65, c=y, cmap=cmap_bold, norm = bnorm, alpha = 0.40, edgecolor='black', lw = 1)\n",
    "\n",
    "    plt.xlim(x_min, x_max)\n",
    "    plt.ylim(y_min, y_max)\n",
    "\n",
    "    h = []\n",
    "    for c in range(0, num_labels):\n",
    "        h.append(mpatches.Patch(color=color_array[c], label=class_labels[c]))\n",
    "    plt.legend(handles=h)\n",
    "\n",
    "    plt.show()\n",
    "    \n",
    "plot_labelled_scatter(X_train_pca, y_train_t, ['clear', 'seized'])"
   ]
  },
  {
   "cell_type": "code",
   "execution_count": null,
   "id": "0c891f1c-3da5-448a-90f8-bb00de6ae97e",
   "metadata": {},
   "outputs": [],
   "source": [
    "def plot_pca(pca, top_k = 10):\n",
    "    fig, ax = plt.subplots(figsize=(10, 6))\n",
    "    plt.imshow(pca.components_[0:top_k], interpolation = 'none', cmap = 'plasma')\n",
    "    feature_names=\n",
    "    plt.xticks(np.arange(-0., len(feature_names), 1) , feature_names, rotation = 90, fontsize=12)\n",
    "    plt.yticks(np.arange(0., 2, 1), ['First PC', 'Second PC'], fontsize = 16)\n",
    "    plt.colorbar()\n",
    "    \n",
    "plot_pca(pca)"
   ]
  }
 ],
 "metadata": {
  "kernelspec": {
   "display_name": "Python 3 (ipykernel)",
   "language": "python",
   "name": "python3"
  },
  "language_info": {
   "codemirror_mode": {
    "name": "ipython",
    "version": 3
   },
   "file_extension": ".py",
   "mimetype": "text/x-python",
   "name": "python",
   "nbconvert_exporter": "python",
   "pygments_lexer": "ipython3",
   "version": "3.8.13"
  }
 },
 "nbformat": 4,
 "nbformat_minor": 5
}
