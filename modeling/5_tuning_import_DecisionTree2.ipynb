{
 "cells": [
  {
   "cell_type": "markdown",
   "id": "d5a7ca30-f1f6-48fb-9315-788c1d8e8e23",
   "metadata": {},
   "source": [
    "### Decision Tree Model Tuning for 2016 - 2020 Data (imports)"
   ]
  },
  {
   "cell_type": "code",
   "execution_count": 1,
   "id": "e5b7908a-bbab-4133-bfdd-8a127e695741",
   "metadata": {
    "tags": []
   },
   "outputs": [],
   "source": [
    "import pandas as pd\n",
    "import numpy as np\n",
    "import seaborn as sns\n",
    "import modelinghelper as helper\n",
    "\n",
    "from sklearn.tree import DecisionTreeClassifier\n",
    "from sklearn.ensemble import RandomForestClassifier, GradientBoostingClassifier\n",
    "from sklearn.dummy import DummyClassifier\n",
    "from sklearn.linear_model import LogisticRegression\n",
    "from sklearn.metrics import classification_report, confusion_matrix, ConfusionMatrixDisplay\n",
    "from adspy_shared_utilities import plot_feature_importances\n",
    "#from adspy_shared_utilities import plot_decision_tree\n",
    "\n",
    "\n",
    "import joblib\n",
    "import os\n",
    "from datetime import datetime\n",
    "\n",
    "# supress future warnings\n",
    "import warnings\n",
    "warnings.filterwarnings(action='ignore', category=FutureWarning)"
   ]
  },
  {
   "cell_type": "code",
   "execution_count": 2,
   "id": "e18bde1e-1e5e-4ec1-8037-d78b160e8e96",
   "metadata": {},
   "outputs": [],
   "source": [
    "#set up random seed\n",
    "rng = 42\n",
    "\n",
    "# set up folder to save results\n",
    "output_path = 'import_run8_TargetEncoding_gridsearchCV'\n",
    "dataset = 'import'\n",
    "\n",
    "if not os.path.exists(output_path):\n",
    "    os.makedirs(output_path)\n",
    "else:\n",
    "    print(\"Folder already exists\")\n",
    "\n",
    "# file name\n",
    "prefix = f'{output_path}/{dataset}'"
   ]
  },
  {
   "cell_type": "code",
   "execution_count": 3,
   "id": "6019d607-4640-4f6f-9cea-fa1dfaeaf1e2",
   "metadata": {},
   "outputs": [],
   "source": [
    "# read in data\n",
    "p = '../data/'\n",
    "input_name = 'cleaned.csv'\n",
    "\n",
    "df = pd.read_csv(f'{p}{input_name}')"
   ]
  },
  {
   "cell_type": "code",
   "execution_count": 4,
   "id": "bc51ab93-bda1-4c29-852b-d67cce2eab5d",
   "metadata": {},
   "outputs": [],
   "source": [
    "df['ship_date_mm'] = df['ship_date_mm'].astype(str)"
   ]
  },
  {
   "cell_type": "code",
   "execution_count": 5,
   "id": "0fe15a1a-67d3-46a7-8068-d83651be856e",
   "metadata": {},
   "outputs": [
    {
     "data": {
      "text/html": [
       "<div>\n",
       "<style scoped>\n",
       "    .dataframe tbody tr th:only-of-type {\n",
       "        vertical-align: middle;\n",
       "    }\n",
       "\n",
       "    .dataframe tbody tr th {\n",
       "        vertical-align: top;\n",
       "    }\n",
       "\n",
       "    .dataframe thead th {\n",
       "        text-align: right;\n",
       "    }\n",
       "</style>\n",
       "<table border=\"1\" class=\"dataframe\">\n",
       "  <thead>\n",
       "    <tr style=\"text-align: right;\">\n",
       "      <th></th>\n",
       "      <th>control_number</th>\n",
       "      <th>qty</th>\n",
       "      <th>value</th>\n",
       "      <th>qty_new</th>\n",
       "      <th>ship_date_yyyy</th>\n",
       "    </tr>\n",
       "  </thead>\n",
       "  <tbody>\n",
       "    <tr>\n",
       "      <th>count</th>\n",
       "      <td>1.890132e+06</td>\n",
       "      <td>1.890132e+06</td>\n",
       "      <td>1.890132e+06</td>\n",
       "      <td>1.890132e+06</td>\n",
       "      <td>1.890132e+06</td>\n",
       "    </tr>\n",
       "    <tr>\n",
       "      <th>mean</th>\n",
       "      <td>2.018142e+09</td>\n",
       "      <td>1.955213e+06</td>\n",
       "      <td>9.658016e+03</td>\n",
       "      <td>1.954949e+06</td>\n",
       "      <td>2.017558e+03</td>\n",
       "    </tr>\n",
       "    <tr>\n",
       "      <th>std</th>\n",
       "      <td>1.263350e+06</td>\n",
       "      <td>2.644078e+08</td>\n",
       "      <td>9.355053e+05</td>\n",
       "      <td>2.644078e+08</td>\n",
       "      <td>1.279415e+00</td>\n",
       "    </tr>\n",
       "    <tr>\n",
       "      <th>min</th>\n",
       "      <td>2.014539e+09</td>\n",
       "      <td>-1.000000e+00</td>\n",
       "      <td>0.000000e+00</td>\n",
       "      <td>-1.000000e+00</td>\n",
       "      <td>2.016000e+03</td>\n",
       "    </tr>\n",
       "    <tr>\n",
       "      <th>25%</th>\n",
       "      <td>2.016978e+09</td>\n",
       "      <td>1.500000e+00</td>\n",
       "      <td>5.100000e+01</td>\n",
       "      <td>1.000000e+00</td>\n",
       "      <td>2.016000e+03</td>\n",
       "    </tr>\n",
       "    <tr>\n",
       "      <th>50%</th>\n",
       "      <td>2.017984e+09</td>\n",
       "      <td>9.000000e+00</td>\n",
       "      <td>3.180000e+02</td>\n",
       "      <td>8.000000e+00</td>\n",
       "      <td>2.017000e+03</td>\n",
       "    </tr>\n",
       "    <tr>\n",
       "      <th>75%</th>\n",
       "      <td>2.019505e+09</td>\n",
       "      <td>9.300000e+01</td>\n",
       "      <td>2.104000e+03</td>\n",
       "      <td>8.600000e+01</td>\n",
       "      <td>2.019000e+03</td>\n",
       "    </tr>\n",
       "    <tr>\n",
       "      <th>max</th>\n",
       "      <td>2.020755e+09</td>\n",
       "      <td>9.990708e+10</td>\n",
       "      <td>1.242236e+09</td>\n",
       "      <td>9.990708e+10</td>\n",
       "      <td>2.020000e+03</td>\n",
       "    </tr>\n",
       "  </tbody>\n",
       "</table>\n",
       "</div>"
      ],
      "text/plain": [
       "       control_number           qty         value       qty_new  \\\n",
       "count    1.890132e+06  1.890132e+06  1.890132e+06  1.890132e+06   \n",
       "mean     2.018142e+09  1.955213e+06  9.658016e+03  1.954949e+06   \n",
       "std      1.263350e+06  2.644078e+08  9.355053e+05  2.644078e+08   \n",
       "min      2.014539e+09 -1.000000e+00  0.000000e+00 -1.000000e+00   \n",
       "25%      2.016978e+09  1.500000e+00  5.100000e+01  1.000000e+00   \n",
       "50%      2.017984e+09  9.000000e+00  3.180000e+02  8.000000e+00   \n",
       "75%      2.019505e+09  9.300000e+01  2.104000e+03  8.600000e+01   \n",
       "max      2.020755e+09  9.990708e+10  1.242236e+09  9.990708e+10   \n",
       "\n",
       "       ship_date_yyyy  \n",
       "count    1.890132e+06  \n",
       "mean     2.017558e+03  \n",
       "std      1.279415e+00  \n",
       "min      2.016000e+03  \n",
       "25%      2.016000e+03  \n",
       "50%      2.017000e+03  \n",
       "75%      2.019000e+03  \n",
       "max      2.020000e+03  "
      ]
     },
     "execution_count": 5,
     "metadata": {},
     "output_type": "execute_result"
    }
   ],
   "source": [
    "df.describe()"
   ]
  },
  {
   "cell_type": "code",
   "execution_count": 6,
   "id": "de9c627f-4ffe-4dad-8c6e-085edb9a8fc2",
   "metadata": {},
   "outputs": [],
   "source": [
    "non_feature_cols = ['control_number', 'disp_date', 'i_e', 'ship_date', \n",
    "                    'cartons', 'qty', 'unit', 'specific_generic_name',\n",
    "                    'genus', 'species', 'wildlf_cat', \n",
    "                    'disp_date_yyyy', 'disp_date_mm', 'disp_ship_date']\n",
    "\n",
    "target = ['act', 'dp_cd']\n",
    "\n",
    "feature_cols = ['species_code', 'wildlf_desc', 'wildlf_cat',\n",
    "                'ctry_org', 'ctry_ie','purp', 'src', 'trans_mode', 'pt_cd', \n",
    "                 'value', 'ship_date_mm']\n",
    "\n",
    "export_df = helper.df_filtering(df, i_e = 'I', f_cols = feature_cols)\n",
    "# import: 590505 rows × 11 columns\n",
    "# export: 299340 rows × 11 columns"
   ]
  },
  {
   "cell_type": "markdown",
   "id": "1dfbf9ef-939d-42c7-b88e-675494e808e0",
   "metadata": {
    "tags": []
   },
   "source": [
    "#### Modeling Pipeline"
   ]
  },
  {
   "cell_type": "code",
   "execution_count": 7,
   "id": "5b842f26-fc76-49f0-8656-c90aa89779cb",
   "metadata": {},
   "outputs": [],
   "source": [
    "X_train, X_test, y_train, y_test = helper.data_split(export_df)"
   ]
  },
  {
   "cell_type": "markdown",
   "id": "a2749336-21b6-4612-9547-45472ca5b850",
   "metadata": {
    "tags": []
   },
   "source": [
    "#### Decision Tree"
   ]
  },
  {
   "cell_type": "code",
   "execution_count": null,
   "id": "513f8cdb-d71b-42bd-a856-1bfe06ab77a6",
   "metadata": {},
   "outputs": [
    {
     "name": "stdout",
     "output_type": "stream",
     "text": [
      "Fitting 5 folds for each of 30 candidates, totalling 150 fits\n"
     ]
    }
   ],
   "source": [
    "clf = DecisionTreeClassifier(random_state=rng)\n",
    "dt_params={\n",
    "    'clf__class_weight':[None,\n",
    "                         'balanced', \n",
    "                         #{0:100, 1:1}, \n",
    "                         {0:50, 1:1}],\n",
    "    'clf__max_depth': [2,3,4,5,6,7,8,9,10, None]\n",
    "}\n",
    "\n",
    "%time dt_pipe = helper.gridsearch_pipeline(X_train, y_train, clf, dt_params) \n",
    "dt_pipe"
   ]
  },
  {
   "cell_type": "code",
   "execution_count": null,
   "id": "e7b1e466-b96a-44b1-a98b-ed60a593364b",
   "metadata": {},
   "outputs": [],
   "source": [
    "joblib.dump(dt_pipe, f'{prefix}_dt_pipe.joblib')"
   ]
  },
  {
   "cell_type": "markdown",
   "id": "e2784a88-d955-45d4-a31a-0628e72c4fc2",
   "metadata": {
    "tags": []
   },
   "source": [
    "#### Random Forest"
   ]
  },
  {
   "cell_type": "code",
   "execution_count": null,
   "id": "53a011fc-a3a6-4e1f-8125-9eecf31c8980",
   "metadata": {},
   "outputs": [],
   "source": [
    "clf = RandomForestClassifier(random_state=rng)\n",
    "rf_params={\n",
    "    'clf__n_estimators':[4,6,8,10, 20, 30, 50, 100],\n",
    "    'clf__max_depth': [None, 3, 4, 5,7,8,9, 10],\n",
    "    'clf__class_weight':['balanced', None]\n",
    "}\n",
    "\n",
    "%time rf_pipe = helper.gridsearch_pipeline(clf, rf_params) \n",
    "#rf_pipe"
   ]
  },
  {
   "cell_type": "code",
   "execution_count": null,
   "id": "814fcf09-9a5a-49d4-87c3-3d4e7af7cb2e",
   "metadata": {},
   "outputs": [],
   "source": [
    "clf = RandomForestClassifier(random_state=rng)\n",
    "rf_params={\n",
    "    'clf__n_estimators':[100, 200, 500],\n",
    "    'clf__max_depth': [5, 6, 7, 8, None],\n",
    "    'clf__class_weight':['balanced', {0:100, 1:1}, {0:50, 1:1}]\n",
    "}\n",
    "\n",
    "%time rf_pipe = gridsearch_pipeline(clf, rf_params) \n",
    "rf_pipe"
   ]
  },
  {
   "cell_type": "code",
   "execution_count": null,
   "id": "6d9fb757-8138-4d0e-b2de-d40d89d0b2c5",
   "metadata": {},
   "outputs": [],
   "source": [
    "joblib.dump(rf_pipe, f'{prefix}_rf_pipe.joblib')"
   ]
  },
  {
   "cell_type": "code",
   "execution_count": null,
   "id": "a86e5fa6-ecc1-4b88-ab0b-a4b1004a6101",
   "metadata": {},
   "outputs": [],
   "source": [
    "outputs = True\n",
    "dt_predicted = dt_pipe.predict(X_test)\n",
    "confusion = confusion_matrix(y_test, dt_predicted, labels = [1,0])\n",
    "if outputs:\n",
    "    print('Decision Tree (best model)\\n', confusion)\n",
    "cm_display = ConfusionMatrixDisplay(confusion, display_labels=[1,0])\n",
    "if outputs:\n",
    "    cm_display.plot()\n",
    "    \n",
    "    "
   ]
  },
  {
   "cell_type": "code",
   "execution_count": null,
   "id": "0a476441-ae98-4bbe-82cb-b8b4888d670e",
   "metadata": {},
   "outputs": [],
   "source": []
  }
 ],
 "metadata": {
  "kernelspec": {
   "display_name": "Python 3 (ipykernel)",
   "language": "python",
   "name": "python3"
  },
  "language_info": {
   "codemirror_mode": {
    "name": "ipython",
    "version": 3
   },
   "file_extension": ".py",
   "mimetype": "text/x-python",
   "name": "python",
   "nbconvert_exporter": "python",
   "pygments_lexer": "ipython3",
   "version": "3.10.4"
  }
 },
 "nbformat": 4,
 "nbformat_minor": 5
}
