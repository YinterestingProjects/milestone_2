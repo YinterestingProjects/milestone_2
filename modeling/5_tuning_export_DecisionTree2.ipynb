{
 "cells": [
  {
   "cell_type": "markdown",
   "id": "d5a7ca30-f1f6-48fb-9315-788c1d8e8e23",
   "metadata": {},
   "source": [
    "### Decision Tree Model Tuning for 2016 - 2020 Data (exports)"
   ]
  },
  {
   "cell_type": "code",
   "execution_count": 1,
   "id": "e5b7908a-bbab-4133-bfdd-8a127e695741",
   "metadata": {
    "tags": []
   },
   "outputs": [],
   "source": [
    "import pandas as pd\n",
    "import numpy as np\n",
    "import seaborn as sns\n",
    "import modelinghelper as helper\n",
    "\n",
    "from sklearn.tree import DecisionTreeClassifier\n",
    "from sklearn.ensemble import RandomForestClassifier, GradientBoostingClassifier\n",
    "from sklearn.dummy import DummyClassifier\n",
    "from sklearn.linear_model import LogisticRegression\n",
    "from sklearn.metrics import classification_report, confusion_matrix, ConfusionMatrixDisplay\n",
    "from adspy_shared_utilities import plot_feature_importances\n",
    "#from adspy_shared_utilities import plot_decision_tree\n",
    "\n",
    "\n",
    "import joblib\n",
    "import os\n",
    "from datetime import datetime\n",
    "\n",
    "# supress future warnings\n",
    "import warnings\n",
    "warnings.filterwarnings(action='ignore', category=FutureWarning)"
   ]
  },
  {
   "cell_type": "code",
   "execution_count": 2,
   "id": "e18bde1e-1e5e-4ec1-8037-d78b160e8e96",
   "metadata": {},
   "outputs": [
    {
     "name": "stdout",
     "output_type": "stream",
     "text": [
      "Folder already exists\n"
     ]
    }
   ],
   "source": [
    "#set up random seed\n",
    "rng = 42\n",
    "\n",
    "# set up folder to save results\n",
    "output_path = 'export_run8_TargetEncoding_gridsearchCV'\n",
    "dataset = 'export'\n",
    "\n",
    "if not os.path.exists(output_path):\n",
    "    os.makedirs(output_path)\n",
    "else:\n",
    "    print(\"Folder already exists\")\n",
    "\n",
    "# file name\n",
    "prefix = f'{output_path}/{dataset}'"
   ]
  },
  {
   "cell_type": "code",
   "execution_count": 3,
   "id": "6019d607-4640-4f6f-9cea-fa1dfaeaf1e2",
   "metadata": {},
   "outputs": [],
   "source": [
    "# read in data\n",
    "p = '../data/'\n",
    "input_name = 'cleaned.csv'\n",
    "\n",
    "df = pd.read_csv(f'{p}{input_name}')"
   ]
  },
  {
   "cell_type": "code",
   "execution_count": 4,
   "id": "bc51ab93-bda1-4c29-852b-d67cce2eab5d",
   "metadata": {},
   "outputs": [],
   "source": [
    "df['ship_date_mm'] = df['ship_date_mm'].astype(str)"
   ]
  },
  {
   "cell_type": "code",
   "execution_count": 5,
   "id": "0fe15a1a-67d3-46a7-8068-d83651be856e",
   "metadata": {},
   "outputs": [
    {
     "data": {
      "text/html": [
       "<div>\n",
       "<style scoped>\n",
       "    .dataframe tbody tr th:only-of-type {\n",
       "        vertical-align: middle;\n",
       "    }\n",
       "\n",
       "    .dataframe tbody tr th {\n",
       "        vertical-align: top;\n",
       "    }\n",
       "\n",
       "    .dataframe thead th {\n",
       "        text-align: right;\n",
       "    }\n",
       "</style>\n",
       "<table border=\"1\" class=\"dataframe\">\n",
       "  <thead>\n",
       "    <tr style=\"text-align: right;\">\n",
       "      <th></th>\n",
       "      <th>control_number</th>\n",
       "      <th>qty</th>\n",
       "      <th>value</th>\n",
       "      <th>qty_new</th>\n",
       "      <th>ship_date_yyyy</th>\n",
       "    </tr>\n",
       "  </thead>\n",
       "  <tbody>\n",
       "    <tr>\n",
       "      <th>count</th>\n",
       "      <td>1.890132e+06</td>\n",
       "      <td>1.890132e+06</td>\n",
       "      <td>1.890132e+06</td>\n",
       "      <td>1.890132e+06</td>\n",
       "      <td>1.890132e+06</td>\n",
       "    </tr>\n",
       "    <tr>\n",
       "      <th>mean</th>\n",
       "      <td>2.018142e+09</td>\n",
       "      <td>1.955213e+06</td>\n",
       "      <td>9.658016e+03</td>\n",
       "      <td>1.954949e+06</td>\n",
       "      <td>2.017558e+03</td>\n",
       "    </tr>\n",
       "    <tr>\n",
       "      <th>std</th>\n",
       "      <td>1.263350e+06</td>\n",
       "      <td>2.644078e+08</td>\n",
       "      <td>9.355053e+05</td>\n",
       "      <td>2.644078e+08</td>\n",
       "      <td>1.279415e+00</td>\n",
       "    </tr>\n",
       "    <tr>\n",
       "      <th>min</th>\n",
       "      <td>2.014539e+09</td>\n",
       "      <td>-1.000000e+00</td>\n",
       "      <td>0.000000e+00</td>\n",
       "      <td>-1.000000e+00</td>\n",
       "      <td>2.016000e+03</td>\n",
       "    </tr>\n",
       "    <tr>\n",
       "      <th>25%</th>\n",
       "      <td>2.016978e+09</td>\n",
       "      <td>1.500000e+00</td>\n",
       "      <td>5.100000e+01</td>\n",
       "      <td>1.000000e+00</td>\n",
       "      <td>2.016000e+03</td>\n",
       "    </tr>\n",
       "    <tr>\n",
       "      <th>50%</th>\n",
       "      <td>2.017984e+09</td>\n",
       "      <td>9.000000e+00</td>\n",
       "      <td>3.180000e+02</td>\n",
       "      <td>8.000000e+00</td>\n",
       "      <td>2.017000e+03</td>\n",
       "    </tr>\n",
       "    <tr>\n",
       "      <th>75%</th>\n",
       "      <td>2.019505e+09</td>\n",
       "      <td>9.300000e+01</td>\n",
       "      <td>2.104000e+03</td>\n",
       "      <td>8.600000e+01</td>\n",
       "      <td>2.019000e+03</td>\n",
       "    </tr>\n",
       "    <tr>\n",
       "      <th>max</th>\n",
       "      <td>2.020755e+09</td>\n",
       "      <td>9.990708e+10</td>\n",
       "      <td>1.242236e+09</td>\n",
       "      <td>9.990708e+10</td>\n",
       "      <td>2.020000e+03</td>\n",
       "    </tr>\n",
       "  </tbody>\n",
       "</table>\n",
       "</div>"
      ],
      "text/plain": [
       "       control_number           qty         value       qty_new  \\\n",
       "count    1.890132e+06  1.890132e+06  1.890132e+06  1.890132e+06   \n",
       "mean     2.018142e+09  1.955213e+06  9.658016e+03  1.954949e+06   \n",
       "std      1.263350e+06  2.644078e+08  9.355053e+05  2.644078e+08   \n",
       "min      2.014539e+09 -1.000000e+00  0.000000e+00 -1.000000e+00   \n",
       "25%      2.016978e+09  1.500000e+00  5.100000e+01  1.000000e+00   \n",
       "50%      2.017984e+09  9.000000e+00  3.180000e+02  8.000000e+00   \n",
       "75%      2.019505e+09  9.300000e+01  2.104000e+03  8.600000e+01   \n",
       "max      2.020755e+09  9.990708e+10  1.242236e+09  9.990708e+10   \n",
       "\n",
       "       ship_date_yyyy  \n",
       "count    1.890132e+06  \n",
       "mean     2.017558e+03  \n",
       "std      1.279415e+00  \n",
       "min      2.016000e+03  \n",
       "25%      2.016000e+03  \n",
       "50%      2.017000e+03  \n",
       "75%      2.019000e+03  \n",
       "max      2.020000e+03  "
      ]
     },
     "execution_count": 5,
     "metadata": {},
     "output_type": "execute_result"
    }
   ],
   "source": [
    "df.describe()"
   ]
  },
  {
   "cell_type": "code",
   "execution_count": 6,
   "id": "de9c627f-4ffe-4dad-8c6e-085edb9a8fc2",
   "metadata": {},
   "outputs": [],
   "source": [
    "non_feature_cols = ['control_number', 'disp_date', 'i_e', 'ship_date', \n",
    "                    'cartons', 'qty', 'unit', 'specific_generic_name',\n",
    "                    'genus', 'species', 'wildlf_cat', \n",
    "                    'disp_date_yyyy', 'disp_date_mm', 'disp_ship_date']\n",
    "\n",
    "target = ['act', 'dp_cd']\n",
    "\n",
    "feature_cols = ['species_code', 'wildlf_desc', 'wildlf_cat',\n",
    "                'ctry_org', 'ctry_ie','purp', 'src', 'trans_mode', 'pt_cd', \n",
    "                 'value', 'ship_date_mm']\n",
    "\n",
    "export_df = helper.df_filtering(df, i_e = 'E', f_cols = feature_cols)\n",
    "# import: 590505 rows × 11 columns\n",
    "# export: 299340 rows × 11 columns"
   ]
  },
  {
   "cell_type": "markdown",
   "id": "1dfbf9ef-939d-42c7-b88e-675494e808e0",
   "metadata": {
    "tags": []
   },
   "source": [
    "#### Modeling Pipeline"
   ]
  },
  {
   "cell_type": "code",
   "execution_count": 7,
   "id": "5b842f26-fc76-49f0-8656-c90aa89779cb",
   "metadata": {},
   "outputs": [],
   "source": [
    "X_train, X_test, y_train, y_test = helper.data_split(export_df)"
   ]
  },
  {
   "cell_type": "markdown",
   "id": "a2749336-21b6-4612-9547-45472ca5b850",
   "metadata": {
    "tags": []
   },
   "source": [
    "#### Decision Tree"
   ]
  },
  {
   "cell_type": "code",
   "execution_count": 10,
   "id": "513f8cdb-d71b-42bd-a856-1bfe06ab77a6",
   "metadata": {},
   "outputs": [
    {
     "name": "stdout",
     "output_type": "stream",
     "text": [
      "Fitting 5 folds for each of 30 candidates, totalling 150 fits\n",
      "[CV 1/5] END clf__class_weight=None, clf__max_depth=2;, score=0.065 total time=   1.7s\n",
      "[CV 2/5] END clf__class_weight=None, clf__max_depth=2;, score=0.091 total time=   1.6s\n",
      "[CV 3/5] END clf__class_weight=None, clf__max_depth=2;, score=0.104 total time=   1.6s\n",
      "[CV 4/5] END clf__class_weight=None, clf__max_depth=2;, score=0.067 total time=   1.6s\n",
      "[CV 5/5] END clf__class_weight=None, clf__max_depth=2;, score=0.067 total time=   1.6s\n",
      "[CV 1/5] END clf__class_weight=None, clf__max_depth=3;, score=0.210 total time=   1.7s\n",
      "[CV 2/5] END clf__class_weight=None, clf__max_depth=3;, score=0.234 total time=   1.7s\n",
      "[CV 3/5] END clf__class_weight=None, clf__max_depth=3;, score=0.203 total time=   1.7s\n",
      "[CV 4/5] END clf__class_weight=None, clf__max_depth=3;, score=0.264 total time=   1.7s\n",
      "[CV 5/5] END clf__class_weight=None, clf__max_depth=3;, score=0.207 total time=   1.7s\n",
      "[CV 1/5] END clf__class_weight=None, clf__max_depth=4;, score=0.231 total time=   1.7s\n",
      "[CV 2/5] END clf__class_weight=None, clf__max_depth=4;, score=0.236 total time=   1.7s\n",
      "[CV 3/5] END clf__class_weight=None, clf__max_depth=4;, score=0.205 total time=   1.7s\n",
      "[CV 4/5] END clf__class_weight=None, clf__max_depth=4;, score=0.280 total time=   1.7s\n",
      "[CV 5/5] END clf__class_weight=None, clf__max_depth=4;, score=0.223 total time=   1.7s\n",
      "[CV 1/5] END clf__class_weight=None, clf__max_depth=5;, score=0.221 total time=   1.7s\n",
      "[CV 2/5] END clf__class_weight=None, clf__max_depth=5;, score=0.234 total time=   1.7s\n",
      "[CV 3/5] END clf__class_weight=None, clf__max_depth=5;, score=0.226 total time=   1.8s\n",
      "[CV 4/5] END clf__class_weight=None, clf__max_depth=5;, score=0.249 total time=   1.7s\n",
      "[CV 5/5] END clf__class_weight=None, clf__max_depth=5;, score=0.218 total time=   1.7s\n",
      "[CV 1/5] END clf__class_weight=None, clf__max_depth=6;, score=0.223 total time=   1.8s\n",
      "[CV 2/5] END clf__class_weight=None, clf__max_depth=6;, score=0.239 total time=   1.8s\n",
      "[CV 3/5] END clf__class_weight=None, clf__max_depth=6;, score=0.221 total time=   1.8s\n",
      "[CV 4/5] END clf__class_weight=None, clf__max_depth=6;, score=0.275 total time=   1.8s\n",
      "[CV 5/5] END clf__class_weight=None, clf__max_depth=6;, score=0.244 total time=   1.8s\n",
      "[CV 1/5] END clf__class_weight=None, clf__max_depth=7;, score=0.265 total time=   1.8s\n",
      "[CV 2/5] END clf__class_weight=None, clf__max_depth=7;, score=0.247 total time=   1.8s\n",
      "[CV 3/5] END clf__class_weight=None, clf__max_depth=7;, score=0.236 total time=   1.8s\n",
      "[CV 4/5] END clf__class_weight=None, clf__max_depth=7;, score=0.282 total time=   1.8s\n",
      "[CV 5/5] END clf__class_weight=None, clf__max_depth=7;, score=0.233 total time=   1.8s\n",
      "[CV 1/5] END clf__class_weight=None, clf__max_depth=8;, score=0.268 total time=   1.8s\n",
      "[CV 2/5] END clf__class_weight=None, clf__max_depth=8;, score=0.262 total time=   1.8s\n",
      "[CV 3/5] END clf__class_weight=None, clf__max_depth=8;, score=0.273 total time=   1.8s\n",
      "[CV 4/5] END clf__class_weight=None, clf__max_depth=8;, score=0.298 total time=   1.8s\n",
      "[CV 5/5] END clf__class_weight=None, clf__max_depth=8;, score=0.256 total time=   1.8s\n",
      "[CV 1/5] END clf__class_weight=None, clf__max_depth=9;, score=0.283 total time=   1.9s\n",
      "[CV 2/5] END clf__class_weight=None, clf__max_depth=9;, score=0.268 total time=   1.9s\n",
      "[CV 3/5] END clf__class_weight=None, clf__max_depth=9;, score=0.273 total time=   1.9s\n",
      "[CV 4/5] END clf__class_weight=None, clf__max_depth=9;, score=0.295 total time=   1.9s\n",
      "[CV 5/5] END clf__class_weight=None, clf__max_depth=9;, score=0.269 total time=   1.9s\n",
      "[CV 1/5] END clf__class_weight=None, clf__max_depth=10;, score=0.294 total time=   1.9s\n",
      "[CV 2/5] END clf__class_weight=None, clf__max_depth=10;, score=0.288 total time=   1.9s\n",
      "[CV 3/5] END clf__class_weight=None, clf__max_depth=10;, score=0.294 total time=   1.9s\n",
      "[CV 4/5] END clf__class_weight=None, clf__max_depth=10;, score=0.321 total time=   1.9s\n",
      "[CV 5/5] END clf__class_weight=None, clf__max_depth=10;, score=0.275 total time=   1.9s\n",
      "[CV 1/5] END clf__class_weight=None, clf__max_depth=None;, score=0.408 total time=   2.1s\n",
      "[CV 2/5] END clf__class_weight=None, clf__max_depth=None;, score=0.405 total time=   2.1s\n",
      "[CV 3/5] END clf__class_weight=None, clf__max_depth=None;, score=0.418 total time=   2.1s\n",
      "[CV 4/5] END clf__class_weight=None, clf__max_depth=None;, score=0.440 total time=   2.1s\n",
      "[CV 5/5] END clf__class_weight=None, clf__max_depth=None;, score=0.448 total time=   2.1s\n",
      "[CV 1/5] END clf__class_weight=balanced, clf__max_depth=2;, score=0.574 total time=   1.6s\n",
      "[CV 2/5] END clf__class_weight=balanced, clf__max_depth=2;, score=0.527 total time=   1.6s\n",
      "[CV 3/5] END clf__class_weight=balanced, clf__max_depth=2;, score=0.582 total time=   1.6s\n",
      "[CV 4/5] END clf__class_weight=balanced, clf__max_depth=2;, score=0.536 total time=   1.6s\n",
      "[CV 5/5] END clf__class_weight=balanced, clf__max_depth=2;, score=0.588 total time=   1.6s\n",
      "[CV 1/5] END clf__class_weight=balanced, clf__max_depth=3;, score=0.758 total time=   1.7s\n",
      "[CV 2/5] END clf__class_weight=balanced, clf__max_depth=3;, score=0.488 total time=   1.7s\n",
      "[CV 3/5] END clf__class_weight=balanced, clf__max_depth=3;, score=0.608 total time=   1.7s\n",
      "[CV 4/5] END clf__class_weight=balanced, clf__max_depth=3;, score=0.598 total time=   1.7s\n",
      "[CV 5/5] END clf__class_weight=balanced, clf__max_depth=3;, score=0.624 total time=   1.7s\n",
      "[CV 1/5] END clf__class_weight=balanced, clf__max_depth=4;, score=0.584 total time=   1.7s\n",
      "[CV 2/5] END clf__class_weight=balanced, clf__max_depth=4;, score=0.532 total time=   1.7s\n",
      "[CV 3/5] END clf__class_weight=balanced, clf__max_depth=4;, score=0.551 total time=   1.7s\n",
      "[CV 4/5] END clf__class_weight=balanced, clf__max_depth=4;, score=0.552 total time=   1.7s\n",
      "[CV 5/5] END clf__class_weight=balanced, clf__max_depth=4;, score=0.611 total time=   1.7s\n",
      "[CV 1/5] END clf__class_weight=balanced, clf__max_depth=5;, score=0.631 total time=   1.8s\n",
      "[CV 2/5] END clf__class_weight=balanced, clf__max_depth=5;, score=0.538 total time=   1.7s\n",
      "[CV 3/5] END clf__class_weight=balanced, clf__max_depth=5;, score=0.610 total time=   1.7s\n",
      "[CV 4/5] END clf__class_weight=balanced, clf__max_depth=5;, score=0.601 total time=   1.7s\n",
      "[CV 5/5] END clf__class_weight=balanced, clf__max_depth=5;, score=0.676 total time=   1.8s\n",
      "[CV 1/5] END clf__class_weight=balanced, clf__max_depth=6;, score=0.649 total time=   1.8s\n",
      "[CV 2/5] END clf__class_weight=balanced, clf__max_depth=6;, score=0.525 total time=   1.8s\n",
      "[CV 3/5] END clf__class_weight=balanced, clf__max_depth=6;, score=0.600 total time=   1.8s\n",
      "[CV 4/5] END clf__class_weight=balanced, clf__max_depth=6;, score=0.630 total time=   1.8s\n",
      "[CV 5/5] END clf__class_weight=balanced, clf__max_depth=6;, score=0.650 total time=   1.8s\n",
      "[CV 1/5] END clf__class_weight=balanced, clf__max_depth=7;, score=0.655 total time=   1.8s\n",
      "[CV 2/5] END clf__class_weight=balanced, clf__max_depth=7;, score=0.540 total time=   1.8s\n",
      "[CV 3/5] END clf__class_weight=balanced, clf__max_depth=7;, score=0.657 total time=   1.8s\n",
      "[CV 4/5] END clf__class_weight=balanced, clf__max_depth=7;, score=0.630 total time=   1.8s\n",
      "[CV 5/5] END clf__class_weight=balanced, clf__max_depth=7;, score=0.661 total time=   1.8s\n",
      "[CV 1/5] END clf__class_weight=balanced, clf__max_depth=8;, score=0.631 total time=   1.8s\n",
      "[CV 2/5] END clf__class_weight=balanced, clf__max_depth=8;, score=0.574 total time=   1.8s\n",
      "[CV 3/5] END clf__class_weight=balanced, clf__max_depth=8;, score=0.662 total time=   1.8s\n",
      "[CV 4/5] END clf__class_weight=balanced, clf__max_depth=8;, score=0.604 total time=   1.8s\n",
      "[CV 5/5] END clf__class_weight=balanced, clf__max_depth=8;, score=0.637 total time=   1.8s\n",
      "[CV 1/5] END clf__class_weight=balanced, clf__max_depth=9;, score=0.616 total time=   1.8s\n",
      "[CV 2/5] END clf__class_weight=balanced, clf__max_depth=9;, score=0.603 total time=   1.8s\n",
      "[CV 3/5] END clf__class_weight=balanced, clf__max_depth=9;, score=0.652 total time=   1.9s\n",
      "[CV 4/5] END clf__class_weight=balanced, clf__max_depth=9;, score=0.593 total time=   1.8s\n",
      "[CV 5/5] END clf__class_weight=balanced, clf__max_depth=9;, score=0.645 total time=   1.9s\n",
      "[CV 1/5] END clf__class_weight=balanced, clf__max_depth=10;, score=0.636 total time=   1.9s\n",
      "[CV 2/5] END clf__class_weight=balanced, clf__max_depth=10;, score=0.579 total time=   1.9s\n",
      "[CV 3/5] END clf__class_weight=balanced, clf__max_depth=10;, score=0.655 total time=   1.9s\n",
      "[CV 4/5] END clf__class_weight=balanced, clf__max_depth=10;, score=0.622 total time=   1.9s\n",
      "[CV 5/5] END clf__class_weight=balanced, clf__max_depth=10;, score=0.630 total time=   1.9s\n",
      "[CV 1/5] END clf__class_weight=balanced, clf__max_depth=None;, score=0.397 total time=   1.9s\n",
      "[CV 2/5] END clf__class_weight=balanced, clf__max_depth=None;, score=0.330 total time=   1.9s\n",
      "[CV 3/5] END clf__class_weight=balanced, clf__max_depth=None;, score=0.390 total time=   1.9s\n",
      "[CV 4/5] END clf__class_weight=balanced, clf__max_depth=None;, score=0.381 total time=   1.9s\n",
      "[CV 5/5] END clf__class_weight=balanced, clf__max_depth=None;, score=0.376 total time=   1.9s\n",
      "[CV 1/5] END clf__class_weight={0: 50, 1: 1}, clf__max_depth=2;, score=0.010 total time=   1.6s\n",
      "[CV 2/5] END clf__class_weight={0: 50, 1: 1}, clf__max_depth=2;, score=0.042 total time=   1.6s\n",
      "[CV 3/5] END clf__class_weight={0: 50, 1: 1}, clf__max_depth=2;, score=0.031 total time=   1.6s\n",
      "[CV 4/5] END clf__class_weight={0: 50, 1: 1}, clf__max_depth=2;, score=0.021 total time=   1.6s\n",
      "[CV 5/5] END clf__class_weight={0: 50, 1: 1}, clf__max_depth=2;, score=0.013 total time=   1.6s\n",
      "[CV 1/5] END clf__class_weight={0: 50, 1: 1}, clf__max_depth=3;, score=0.016 total time=   1.7s\n",
      "[CV 2/5] END clf__class_weight={0: 50, 1: 1}, clf__max_depth=3;, score=0.042 total time=   1.7s\n",
      "[CV 3/5] END clf__class_weight={0: 50, 1: 1}, clf__max_depth=3;, score=0.034 total time=   1.7s\n",
      "[CV 4/5] END clf__class_weight={0: 50, 1: 1}, clf__max_depth=3;, score=0.044 total time=   1.7s\n",
      "[CV 5/5] END clf__class_weight={0: 50, 1: 1}, clf__max_depth=3;, score=0.023 total time=   1.7s\n",
      "[CV 1/5] END clf__class_weight={0: 50, 1: 1}, clf__max_depth=4;, score=0.021 total time=   1.7s\n",
      "[CV 2/5] END clf__class_weight={0: 50, 1: 1}, clf__max_depth=4;, score=0.042 total time=   1.7s\n",
      "[CV 3/5] END clf__class_weight={0: 50, 1: 1}, clf__max_depth=4;, score=0.031 total time=   1.7s\n",
      "[CV 4/5] END clf__class_weight={0: 50, 1: 1}, clf__max_depth=4;, score=0.044 total time=   1.7s\n",
      "[CV 5/5] END clf__class_weight={0: 50, 1: 1}, clf__max_depth=4;, score=0.026 total time=   1.7s\n",
      "[CV 1/5] END clf__class_weight={0: 50, 1: 1}, clf__max_depth=5;, score=0.044 total time=   1.8s\n",
      "[CV 2/5] END clf__class_weight={0: 50, 1: 1}, clf__max_depth=5;, score=0.075 total time=   1.7s\n",
      "[CV 3/5] END clf__class_weight={0: 50, 1: 1}, clf__max_depth=5;, score=0.036 total time=   1.7s\n",
      "[CV 4/5] END clf__class_weight={0: 50, 1: 1}, clf__max_depth=5;, score=0.044 total time=   1.7s\n",
      "[CV 5/5] END clf__class_weight={0: 50, 1: 1}, clf__max_depth=5;, score=0.044 total time=   1.7s\n",
      "[CV 1/5] END clf__class_weight={0: 50, 1: 1}, clf__max_depth=6;, score=0.060 total time=   1.8s\n",
      "[CV 2/5] END clf__class_weight={0: 50, 1: 1}, clf__max_depth=6;, score=0.083 total time=   1.8s\n",
      "[CV 3/5] END clf__class_weight={0: 50, 1: 1}, clf__max_depth=6;, score=0.091 total time=   1.8s\n",
      "[CV 4/5] END clf__class_weight={0: 50, 1: 1}, clf__max_depth=6;, score=0.070 total time=   1.8s\n",
      "[CV 5/5] END clf__class_weight={0: 50, 1: 1}, clf__max_depth=6;, score=0.044 total time=   1.8s\n",
      "[CV 1/5] END clf__class_weight={0: 50, 1: 1}, clf__max_depth=7;, score=0.158 total time=   1.8s\n",
      "[CV 2/5] END clf__class_weight={0: 50, 1: 1}, clf__max_depth=7;, score=0.088 total time=   1.8s\n",
      "[CV 3/5] END clf__class_weight={0: 50, 1: 1}, clf__max_depth=7;, score=0.122 total time=   1.8s\n",
      "[CV 4/5] END clf__class_weight={0: 50, 1: 1}, clf__max_depth=7;, score=0.091 total time=   1.8s\n",
      "[CV 5/5] END clf__class_weight={0: 50, 1: 1}, clf__max_depth=7;, score=0.080 total time=   1.9s\n",
      "[CV 1/5] END clf__class_weight={0: 50, 1: 1}, clf__max_depth=8;, score=0.169 total time=   1.9s\n",
      "[CV 2/5] END clf__class_weight={0: 50, 1: 1}, clf__max_depth=8;, score=0.088 total time=   1.9s\n",
      "[CV 3/5] END clf__class_weight={0: 50, 1: 1}, clf__max_depth=8;, score=0.132 total time=   1.9s\n",
      "[CV 4/5] END clf__class_weight={0: 50, 1: 1}, clf__max_depth=8;, score=0.174 total time=   1.9s\n",
      "[CV 5/5] END clf__class_weight={0: 50, 1: 1}, clf__max_depth=8;, score=0.085 total time=   1.9s\n",
      "[CV 1/5] END clf__class_weight={0: 50, 1: 1}, clf__max_depth=9;, score=0.182 total time=   1.9s\n",
      "[CV 2/5] END clf__class_weight={0: 50, 1: 1}, clf__max_depth=9;, score=0.187 total time=   1.9s\n",
      "[CV 3/5] END clf__class_weight={0: 50, 1: 1}, clf__max_depth=9;, score=0.151 total time=   1.9s\n",
      "[CV 4/5] END clf__class_weight={0: 50, 1: 1}, clf__max_depth=9;, score=0.197 total time=   1.9s\n",
      "[CV 5/5] END clf__class_weight={0: 50, 1: 1}, clf__max_depth=9;, score=0.122 total time=   1.9s\n",
      "[CV 1/5] END clf__class_weight={0: 50, 1: 1}, clf__max_depth=10;, score=0.190 total time=   2.0s\n",
      "[CV 2/5] END clf__class_weight={0: 50, 1: 1}, clf__max_depth=10;, score=0.182 total time=   1.9s\n",
      "[CV 3/5] END clf__class_weight={0: 50, 1: 1}, clf__max_depth=10;, score=0.184 total time=   1.9s\n",
      "[CV 4/5] END clf__class_weight={0: 50, 1: 1}, clf__max_depth=10;, score=0.223 total time=   1.9s\n",
      "[CV 5/5] END clf__class_weight={0: 50, 1: 1}, clf__max_depth=10;, score=0.137 total time=   1.9s\n",
      "[CV 1/5] END clf__class_weight={0: 50, 1: 1}, clf__max_depth=None;, score=0.421 total time=   2.2s\n",
      "[CV 2/5] END clf__class_weight={0: 50, 1: 1}, clf__max_depth=None;, score=0.395 total time=   2.3s\n",
      "[CV 3/5] END clf__class_weight={0: 50, 1: 1}, clf__max_depth=None;, score=0.429 total time=   2.3s\n",
      "[CV 4/5] END clf__class_weight={0: 50, 1: 1}, clf__max_depth=None;, score=0.459 total time=   2.3s\n",
      "[CV 5/5] END clf__class_weight={0: 50, 1: 1}, clf__max_depth=None;, score=0.440 total time=   2.3s\n",
      "Grid best parameter (max. recall):  {'clf__class_weight': 'balanced', 'clf__max_depth': 7}\n",
      "Grid best score (recall):  0.6284206984725119\n",
      "CPU times: user 4min 33s, sys: 690 ms, total: 4min 34s\n",
      "Wall time: 4min 34s\n"
     ]
    },
    {
     "data": {
      "text/html": [
       "<style>#sk-container-id-2 {color: black;background-color: white;}#sk-container-id-2 pre{padding: 0;}#sk-container-id-2 div.sk-toggleable {background-color: white;}#sk-container-id-2 label.sk-toggleable__label {cursor: pointer;display: block;width: 100%;margin-bottom: 0;padding: 0.3em;box-sizing: border-box;text-align: center;}#sk-container-id-2 label.sk-toggleable__label-arrow:before {content: \"▸\";float: left;margin-right: 0.25em;color: #696969;}#sk-container-id-2 label.sk-toggleable__label-arrow:hover:before {color: black;}#sk-container-id-2 div.sk-estimator:hover label.sk-toggleable__label-arrow:before {color: black;}#sk-container-id-2 div.sk-toggleable__content {max-height: 0;max-width: 0;overflow: hidden;text-align: left;background-color: #f0f8ff;}#sk-container-id-2 div.sk-toggleable__content pre {margin: 0.2em;color: black;border-radius: 0.25em;background-color: #f0f8ff;}#sk-container-id-2 input.sk-toggleable__control:checked~div.sk-toggleable__content {max-height: 200px;max-width: 100%;overflow: auto;}#sk-container-id-2 input.sk-toggleable__control:checked~label.sk-toggleable__label-arrow:before {content: \"▾\";}#sk-container-id-2 div.sk-estimator input.sk-toggleable__control:checked~label.sk-toggleable__label {background-color: #d4ebff;}#sk-container-id-2 div.sk-label input.sk-toggleable__control:checked~label.sk-toggleable__label {background-color: #d4ebff;}#sk-container-id-2 input.sk-hidden--visually {border: 0;clip: rect(1px 1px 1px 1px);clip: rect(1px, 1px, 1px, 1px);height: 1px;margin: -1px;overflow: hidden;padding: 0;position: absolute;width: 1px;}#sk-container-id-2 div.sk-estimator {font-family: monospace;background-color: #f0f8ff;border: 1px dotted black;border-radius: 0.25em;box-sizing: border-box;margin-bottom: 0.5em;}#sk-container-id-2 div.sk-estimator:hover {background-color: #d4ebff;}#sk-container-id-2 div.sk-parallel-item::after {content: \"\";width: 100%;border-bottom: 1px solid gray;flex-grow: 1;}#sk-container-id-2 div.sk-label:hover label.sk-toggleable__label {background-color: #d4ebff;}#sk-container-id-2 div.sk-serial::before {content: \"\";position: absolute;border-left: 1px solid gray;box-sizing: border-box;top: 0;bottom: 0;left: 50%;z-index: 0;}#sk-container-id-2 div.sk-serial {display: flex;flex-direction: column;align-items: center;background-color: white;padding-right: 0.2em;padding-left: 0.2em;position: relative;}#sk-container-id-2 div.sk-item {position: relative;z-index: 1;}#sk-container-id-2 div.sk-parallel {display: flex;align-items: stretch;justify-content: center;background-color: white;position: relative;}#sk-container-id-2 div.sk-item::before, #sk-container-id-2 div.sk-parallel-item::before {content: \"\";position: absolute;border-left: 1px solid gray;box-sizing: border-box;top: 0;bottom: 0;left: 50%;z-index: -1;}#sk-container-id-2 div.sk-parallel-item {display: flex;flex-direction: column;z-index: 1;position: relative;background-color: white;}#sk-container-id-2 div.sk-parallel-item:first-child::after {align-self: flex-end;width: 50%;}#sk-container-id-2 div.sk-parallel-item:last-child::after {align-self: flex-start;width: 50%;}#sk-container-id-2 div.sk-parallel-item:only-child::after {width: 0;}#sk-container-id-2 div.sk-dashed-wrapped {border: 1px dashed gray;margin: 0 0.4em 0.5em 0.4em;box-sizing: border-box;padding-bottom: 0.4em;background-color: white;}#sk-container-id-2 div.sk-label label {font-family: monospace;font-weight: bold;display: inline-block;line-height: 1.2em;}#sk-container-id-2 div.sk-label-container {text-align: center;}#sk-container-id-2 div.sk-container {/* jupyter's `normalize.less` sets `[hidden] { display: none; }` but bootstrap.min.css set `[hidden] { display: none !important; }` so we also need the `!important` here to be able to override the default hidden behavior on the sphinx rendered scikit-learn.org. See: https://github.com/scikit-learn/scikit-learn/issues/21755 */display: inline-block !important;position: relative;}#sk-container-id-2 div.sk-text-repr-fallback {display: none;}</style><div id=\"sk-container-id-2\" class=\"sk-top-container\"><div class=\"sk-text-repr-fallback\"><pre>GridSearchCV(cv=5,\n",
       "             estimator=Pipeline(steps=[(&#x27;targetEncoding&#x27;,\n",
       "                                        ColumnTransformer(remainder=&#x27;passthrough&#x27;,\n",
       "                                                          transformers=[(&#x27;targetencoder&#x27;,\n",
       "                                                                         TargetEncoder(),\n",
       "                                                                         [&#x27;species_code&#x27;,\n",
       "                                                                          &#x27;wildlf_desc&#x27;,\n",
       "                                                                          &#x27;wildlf_cat&#x27;,\n",
       "                                                                          &#x27;ctry_org&#x27;,\n",
       "                                                                          &#x27;ctry_ie&#x27;,\n",
       "                                                                          &#x27;purp&#x27;,\n",
       "                                                                          &#x27;src&#x27;,\n",
       "                                                                          &#x27;trans_mode&#x27;,\n",
       "                                                                          &#x27;pt_cd&#x27;,\n",
       "                                                                          &#x27;ship_date_mm&#x27;])])),\n",
       "                                       (&#x27;standardScaler&#x27;, StandardScaler()),\n",
       "                                       (&#x27;clf&#x27;,\n",
       "                                        DecisionTreeClassifier(random_state=42))]),\n",
       "             param_grid={&#x27;clf__class_weight&#x27;: [None, &#x27;balanced&#x27;, {0: 50, 1: 1}],\n",
       "                         &#x27;clf__max_depth&#x27;: [2, 3, 4, 5, 6, 7, 8, 9, 10, None]},\n",
       "             scoring=&#x27;recall&#x27;, verbose=3)</pre><b>In a Jupyter environment, please rerun this cell to show the HTML representation or trust the notebook. <br />On GitHub, the HTML representation is unable to render, please try loading this page with nbviewer.org.</b></div><div class=\"sk-container\" hidden><div class=\"sk-item sk-dashed-wrapped\"><div class=\"sk-label-container\"><div class=\"sk-label sk-toggleable\"><input class=\"sk-toggleable__control sk-hidden--visually\" id=\"sk-estimator-id-10\" type=\"checkbox\" ><label for=\"sk-estimator-id-10\" class=\"sk-toggleable__label sk-toggleable__label-arrow\">GridSearchCV</label><div class=\"sk-toggleable__content\"><pre>GridSearchCV(cv=5,\n",
       "             estimator=Pipeline(steps=[(&#x27;targetEncoding&#x27;,\n",
       "                                        ColumnTransformer(remainder=&#x27;passthrough&#x27;,\n",
       "                                                          transformers=[(&#x27;targetencoder&#x27;,\n",
       "                                                                         TargetEncoder(),\n",
       "                                                                         [&#x27;species_code&#x27;,\n",
       "                                                                          &#x27;wildlf_desc&#x27;,\n",
       "                                                                          &#x27;wildlf_cat&#x27;,\n",
       "                                                                          &#x27;ctry_org&#x27;,\n",
       "                                                                          &#x27;ctry_ie&#x27;,\n",
       "                                                                          &#x27;purp&#x27;,\n",
       "                                                                          &#x27;src&#x27;,\n",
       "                                                                          &#x27;trans_mode&#x27;,\n",
       "                                                                          &#x27;pt_cd&#x27;,\n",
       "                                                                          &#x27;ship_date_mm&#x27;])])),\n",
       "                                       (&#x27;standardScaler&#x27;, StandardScaler()),\n",
       "                                       (&#x27;clf&#x27;,\n",
       "                                        DecisionTreeClassifier(random_state=42))]),\n",
       "             param_grid={&#x27;clf__class_weight&#x27;: [None, &#x27;balanced&#x27;, {0: 50, 1: 1}],\n",
       "                         &#x27;clf__max_depth&#x27;: [2, 3, 4, 5, 6, 7, 8, 9, 10, None]},\n",
       "             scoring=&#x27;recall&#x27;, verbose=3)</pre></div></div></div><div class=\"sk-parallel\"><div class=\"sk-parallel-item\"><div class=\"sk-item\"><div class=\"sk-label-container\"><div class=\"sk-label sk-toggleable\"><input class=\"sk-toggleable__control sk-hidden--visually\" id=\"sk-estimator-id-11\" type=\"checkbox\" ><label for=\"sk-estimator-id-11\" class=\"sk-toggleable__label sk-toggleable__label-arrow\">estimator: Pipeline</label><div class=\"sk-toggleable__content\"><pre>Pipeline(steps=[(&#x27;targetEncoding&#x27;,\n",
       "                 ColumnTransformer(remainder=&#x27;passthrough&#x27;,\n",
       "                                   transformers=[(&#x27;targetencoder&#x27;,\n",
       "                                                  TargetEncoder(),\n",
       "                                                  [&#x27;species_code&#x27;,\n",
       "                                                   &#x27;wildlf_desc&#x27;, &#x27;wildlf_cat&#x27;,\n",
       "                                                   &#x27;ctry_org&#x27;, &#x27;ctry_ie&#x27;,\n",
       "                                                   &#x27;purp&#x27;, &#x27;src&#x27;, &#x27;trans_mode&#x27;,\n",
       "                                                   &#x27;pt_cd&#x27;,\n",
       "                                                   &#x27;ship_date_mm&#x27;])])),\n",
       "                (&#x27;standardScaler&#x27;, StandardScaler()),\n",
       "                (&#x27;clf&#x27;, DecisionTreeClassifier(random_state=42))])</pre></div></div></div><div class=\"sk-serial\"><div class=\"sk-item\"><div class=\"sk-serial\"><div class=\"sk-item sk-dashed-wrapped\"><div class=\"sk-label-container\"><div class=\"sk-label sk-toggleable\"><input class=\"sk-toggleable__control sk-hidden--visually\" id=\"sk-estimator-id-12\" type=\"checkbox\" ><label for=\"sk-estimator-id-12\" class=\"sk-toggleable__label sk-toggleable__label-arrow\">targetEncoding: ColumnTransformer</label><div class=\"sk-toggleable__content\"><pre>ColumnTransformer(remainder=&#x27;passthrough&#x27;,\n",
       "                  transformers=[(&#x27;targetencoder&#x27;, TargetEncoder(),\n",
       "                                 [&#x27;species_code&#x27;, &#x27;wildlf_desc&#x27;, &#x27;wildlf_cat&#x27;,\n",
       "                                  &#x27;ctry_org&#x27;, &#x27;ctry_ie&#x27;, &#x27;purp&#x27;, &#x27;src&#x27;,\n",
       "                                  &#x27;trans_mode&#x27;, &#x27;pt_cd&#x27;, &#x27;ship_date_mm&#x27;])])</pre></div></div></div><div class=\"sk-parallel\"><div class=\"sk-parallel-item\"><div class=\"sk-item\"><div class=\"sk-label-container\"><div class=\"sk-label sk-toggleable\"><input class=\"sk-toggleable__control sk-hidden--visually\" id=\"sk-estimator-id-13\" type=\"checkbox\" ><label for=\"sk-estimator-id-13\" class=\"sk-toggleable__label sk-toggleable__label-arrow\">targetencoder</label><div class=\"sk-toggleable__content\"><pre>[&#x27;species_code&#x27;, &#x27;wildlf_desc&#x27;, &#x27;wildlf_cat&#x27;, &#x27;ctry_org&#x27;, &#x27;ctry_ie&#x27;, &#x27;purp&#x27;, &#x27;src&#x27;, &#x27;trans_mode&#x27;, &#x27;pt_cd&#x27;, &#x27;ship_date_mm&#x27;]</pre></div></div></div><div class=\"sk-serial\"><div class=\"sk-item\"><div class=\"sk-estimator sk-toggleable\"><input class=\"sk-toggleable__control sk-hidden--visually\" id=\"sk-estimator-id-14\" type=\"checkbox\" ><label for=\"sk-estimator-id-14\" class=\"sk-toggleable__label sk-toggleable__label-arrow\">TargetEncoder</label><div class=\"sk-toggleable__content\"><pre>TargetEncoder()</pre></div></div></div></div></div></div><div class=\"sk-parallel-item\"><div class=\"sk-item\"><div class=\"sk-label-container\"><div class=\"sk-label sk-toggleable\"><input class=\"sk-toggleable__control sk-hidden--visually\" id=\"sk-estimator-id-15\" type=\"checkbox\" ><label for=\"sk-estimator-id-15\" class=\"sk-toggleable__label sk-toggleable__label-arrow\">remainder</label><div class=\"sk-toggleable__content\"><pre></pre></div></div></div><div class=\"sk-serial\"><div class=\"sk-item\"><div class=\"sk-estimator sk-toggleable\"><input class=\"sk-toggleable__control sk-hidden--visually\" id=\"sk-estimator-id-16\" type=\"checkbox\" ><label for=\"sk-estimator-id-16\" class=\"sk-toggleable__label sk-toggleable__label-arrow\">passthrough</label><div class=\"sk-toggleable__content\"><pre>passthrough</pre></div></div></div></div></div></div></div></div><div class=\"sk-item\"><div class=\"sk-estimator sk-toggleable\"><input class=\"sk-toggleable__control sk-hidden--visually\" id=\"sk-estimator-id-17\" type=\"checkbox\" ><label for=\"sk-estimator-id-17\" class=\"sk-toggleable__label sk-toggleable__label-arrow\">StandardScaler</label><div class=\"sk-toggleable__content\"><pre>StandardScaler()</pre></div></div></div><div class=\"sk-item\"><div class=\"sk-estimator sk-toggleable\"><input class=\"sk-toggleable__control sk-hidden--visually\" id=\"sk-estimator-id-18\" type=\"checkbox\" ><label for=\"sk-estimator-id-18\" class=\"sk-toggleable__label sk-toggleable__label-arrow\">DecisionTreeClassifier</label><div class=\"sk-toggleable__content\"><pre>DecisionTreeClassifier(random_state=42)</pre></div></div></div></div></div></div></div></div></div></div></div></div>"
      ],
      "text/plain": [
       "GridSearchCV(cv=5,\n",
       "             estimator=Pipeline(steps=[('targetEncoding',\n",
       "                                        ColumnTransformer(remainder='passthrough',\n",
       "                                                          transformers=[('targetencoder',\n",
       "                                                                         TargetEncoder(),\n",
       "                                                                         ['species_code',\n",
       "                                                                          'wildlf_desc',\n",
       "                                                                          'wildlf_cat',\n",
       "                                                                          'ctry_org',\n",
       "                                                                          'ctry_ie',\n",
       "                                                                          'purp',\n",
       "                                                                          'src',\n",
       "                                                                          'trans_mode',\n",
       "                                                                          'pt_cd',\n",
       "                                                                          'ship_date_mm'])])),\n",
       "                                       ('standardScaler', StandardScaler()),\n",
       "                                       ('clf',\n",
       "                                        DecisionTreeClassifier(random_state=42))]),\n",
       "             param_grid={'clf__class_weight': [None, 'balanced', {0: 50, 1: 1}],\n",
       "                         'clf__max_depth': [2, 3, 4, 5, 6, 7, 8, 9, 10, None]},\n",
       "             scoring='recall', verbose=3)"
      ]
     },
     "execution_count": 10,
     "metadata": {},
     "output_type": "execute_result"
    }
   ],
   "source": [
    "clf = DecisionTreeClassifier(random_state=rng)\n",
    "dt_params={\n",
    "    'clf__class_weight':[None,\n",
    "                         'balanced', \n",
    "                         #{0:100, 1:1}, \n",
    "                         {0:50, 1:1}],\n",
    "    'clf__max_depth': [2,3,4,5,6,7,8,9,10, None]\n",
    "}\n",
    "\n",
    "%time dt_pipe = helper.gridsearch_pipeline(X_train, y_train, clf, dt_params) \n",
    "dt_pipe"
   ]
  },
  {
   "cell_type": "code",
   "execution_count": 39,
   "id": "e7b1e466-b96a-44b1-a98b-ed60a593364b",
   "metadata": {},
   "outputs": [
    {
     "data": {
      "text/plain": [
       "['export_run4_TargetEncoding_gridsearchCV/export_dt_pipe.joblib']"
      ]
     },
     "execution_count": 39,
     "metadata": {},
     "output_type": "execute_result"
    }
   ],
   "source": [
    "joblib.dump(dt_pipe, f'{prefix}_dt_pipe.joblib')"
   ]
  },
  {
   "cell_type": "markdown",
   "id": "e2784a88-d955-45d4-a31a-0628e72c4fc2",
   "metadata": {
    "tags": []
   },
   "source": [
    "#### Random Forest"
   ]
  },
  {
   "cell_type": "code",
   "execution_count": null,
   "id": "53a011fc-a3a6-4e1f-8125-9eecf31c8980",
   "metadata": {},
   "outputs": [
    {
     "name": "stdout",
     "output_type": "stream",
     "text": [
      "Fitting 5 folds for each of 128 candidates, totalling 640 fits\n",
      "[CV 1/5] END clf__class_weight=balanced, clf__max_depth=None, clf__n_estimators=4;, score=0.301 total time=   2.0s\n",
      "[CV 2/5] END clf__class_weight=balanced, clf__max_depth=None, clf__n_estimators=4;, score=0.291 total time=   1.9s\n",
      "[CV 3/5] END clf__class_weight=balanced, clf__max_depth=None, clf__n_estimators=4;, score=0.330 total time=   1.9s\n",
      "[CV 4/5] END clf__class_weight=balanced, clf__max_depth=None, clf__n_estimators=4;, score=0.326 total time=   1.9s\n",
      "[CV 5/5] END clf__class_weight=balanced, clf__max_depth=None, clf__n_estimators=4;, score=0.313 total time=   2.0s\n",
      "[CV 1/5] END clf__class_weight=balanced, clf__max_depth=None, clf__n_estimators=6;, score=0.304 total time=   2.1s\n",
      "[CV 2/5] END clf__class_weight=balanced, clf__max_depth=None, clf__n_estimators=6;, score=0.291 total time=   2.1s\n",
      "[CV 3/5] END clf__class_weight=balanced, clf__max_depth=None, clf__n_estimators=6;, score=0.345 total time=   2.1s\n",
      "[CV 4/5] END clf__class_weight=balanced, clf__max_depth=None, clf__n_estimators=6;, score=0.345 total time=   2.1s\n",
      "[CV 5/5] END clf__class_weight=balanced, clf__max_depth=None, clf__n_estimators=6;, score=0.329 total time=   2.1s\n",
      "[CV 1/5] END clf__class_weight=balanced, clf__max_depth=None, clf__n_estimators=8;, score=0.325 total time=   2.3s\n",
      "[CV 2/5] END clf__class_weight=balanced, clf__max_depth=None, clf__n_estimators=8;, score=0.296 total time=   2.3s\n",
      "[CV 3/5] END clf__class_weight=balanced, clf__max_depth=None, clf__n_estimators=8;, score=0.343 total time=   2.3s\n",
      "[CV 4/5] END clf__class_weight=balanced, clf__max_depth=None, clf__n_estimators=8;, score=0.342 total time=   2.3s\n",
      "[CV 5/5] END clf__class_weight=balanced, clf__max_depth=None, clf__n_estimators=8;, score=0.342 total time=   2.3s\n",
      "[CV 1/5] END clf__class_weight=balanced, clf__max_depth=None, clf__n_estimators=10;, score=0.312 total time=   2.5s\n",
      "[CV 2/5] END clf__class_weight=balanced, clf__max_depth=None, clf__n_estimators=10;, score=0.296 total time=   2.5s\n",
      "[CV 3/5] END clf__class_weight=balanced, clf__max_depth=None, clf__n_estimators=10;, score=0.358 total time=   2.5s\n",
      "[CV 4/5] END clf__class_weight=balanced, clf__max_depth=None, clf__n_estimators=10;, score=0.345 total time=   2.5s\n",
      "[CV 5/5] END clf__class_weight=balanced, clf__max_depth=None, clf__n_estimators=10;, score=0.339 total time=   2.5s\n",
      "[CV 1/5] END clf__class_weight=balanced, clf__max_depth=None, clf__n_estimators=20;, score=0.330 total time=   3.5s\n",
      "[CV 2/5] END clf__class_weight=balanced, clf__max_depth=None, clf__n_estimators=20;, score=0.299 total time=   3.5s\n",
      "[CV 3/5] END clf__class_weight=balanced, clf__max_depth=None, clf__n_estimators=20;, score=0.364 total time=   3.5s\n",
      "[CV 4/5] END clf__class_weight=balanced, clf__max_depth=None, clf__n_estimators=20;, score=0.358 total time=   3.4s\n",
      "[CV 5/5] END clf__class_weight=balanced, clf__max_depth=None, clf__n_estimators=20;, score=0.332 total time=   3.5s\n",
      "[CV 1/5] END clf__class_weight=balanced, clf__max_depth=None, clf__n_estimators=30;, score=0.330 total time=   4.5s\n",
      "[CV 2/5] END clf__class_weight=balanced, clf__max_depth=None, clf__n_estimators=30;, score=0.306 total time=   4.5s\n",
      "[CV 3/5] END clf__class_weight=balanced, clf__max_depth=None, clf__n_estimators=30;, score=0.364 total time=   4.5s\n",
      "[CV 4/5] END clf__class_weight=balanced, clf__max_depth=None, clf__n_estimators=30;, score=0.363 total time=   4.6s\n",
      "[CV 5/5] END clf__class_weight=balanced, clf__max_depth=None, clf__n_estimators=30;, score=0.347 total time=   4.4s\n",
      "[CV 1/5] END clf__class_weight=balanced, clf__max_depth=None, clf__n_estimators=50;, score=0.332 total time=   6.5s\n",
      "[CV 2/5] END clf__class_weight=balanced, clf__max_depth=None, clf__n_estimators=50;, score=0.306 total time=   6.4s\n",
      "[CV 3/5] END clf__class_weight=balanced, clf__max_depth=None, clf__n_estimators=50;, score=0.356 total time=   6.5s\n",
      "[CV 4/5] END clf__class_weight=balanced, clf__max_depth=None, clf__n_estimators=50;, score=0.365 total time=   6.3s\n",
      "[CV 5/5] END clf__class_weight=balanced, clf__max_depth=None, clf__n_estimators=50;, score=0.352 total time=   6.5s\n",
      "[CV 1/5] END clf__class_weight=balanced, clf__max_depth=None, clf__n_estimators=100;, score=0.345 total time=  11.4s\n",
      "[CV 2/5] END clf__class_weight=balanced, clf__max_depth=None, clf__n_estimators=100;, score=0.312 total time=  11.4s\n",
      "[CV 3/5] END clf__class_weight=balanced, clf__max_depth=None, clf__n_estimators=100;, score=0.345 total time=  11.3s\n",
      "[CV 4/5] END clf__class_weight=balanced, clf__max_depth=None, clf__n_estimators=100;, score=0.358 total time=  12.0s\n",
      "[CV 5/5] END clf__class_weight=balanced, clf__max_depth=None, clf__n_estimators=100;, score=0.352 total time=  11.8s\n",
      "[CV 1/5] END clf__class_weight=balanced, clf__max_depth=3, clf__n_estimators=4;, score=0.494 total time=   1.7s\n",
      "[CV 2/5] END clf__class_weight=balanced, clf__max_depth=3, clf__n_estimators=4;, score=0.582 total time=   1.7s\n",
      "[CV 3/5] END clf__class_weight=balanced, clf__max_depth=3, clf__n_estimators=4;, score=0.512 total time=   1.7s\n",
      "[CV 4/5] END clf__class_weight=balanced, clf__max_depth=3, clf__n_estimators=4;, score=0.650 total time=   1.7s\n",
      "[CV 5/5] END clf__class_weight=balanced, clf__max_depth=3, clf__n_estimators=4;, score=0.497 total time=   1.7s\n",
      "[CV 1/5] END clf__class_weight=balanced, clf__max_depth=3, clf__n_estimators=6;, score=0.597 total time=   1.8s\n",
      "[CV 2/5] END clf__class_weight=balanced, clf__max_depth=3, clf__n_estimators=6;, score=0.564 total time=   1.8s\n",
      "[CV 3/5] END clf__class_weight=balanced, clf__max_depth=3, clf__n_estimators=6;, score=0.613 total time=   1.8s\n",
      "[CV 4/5] END clf__class_weight=balanced, clf__max_depth=3, clf__n_estimators=6;, score=0.640 total time=   1.8s\n",
      "[CV 5/5] END clf__class_weight=balanced, clf__max_depth=3, clf__n_estimators=6;, score=0.588 total time=   1.8s\n",
      "[CV 1/5] END clf__class_weight=balanced, clf__max_depth=3, clf__n_estimators=8;, score=0.621 total time=   1.9s\n",
      "[CV 2/5] END clf__class_weight=balanced, clf__max_depth=3, clf__n_estimators=8;, score=0.564 total time=   1.9s\n",
      "[CV 3/5] END clf__class_weight=balanced, clf__max_depth=3, clf__n_estimators=8;, score=0.584 total time=   1.9s\n",
      "[CV 4/5] END clf__class_weight=balanced, clf__max_depth=3, clf__n_estimators=8;, score=0.627 total time=   1.9s\n",
      "[CV 5/5] END clf__class_weight=balanced, clf__max_depth=3, clf__n_estimators=8;, score=0.601 total time=   1.9s\n",
      "[CV 1/5] END clf__class_weight=balanced, clf__max_depth=3, clf__n_estimators=10;, score=0.618 total time=   2.0s\n",
      "[CV 2/5] END clf__class_weight=balanced, clf__max_depth=3, clf__n_estimators=10;, score=0.551 total time=   1.9s\n",
      "[CV 3/5] END clf__class_weight=balanced, clf__max_depth=3, clf__n_estimators=10;, score=0.605 total time=   2.0s\n",
      "[CV 4/5] END clf__class_weight=balanced, clf__max_depth=3, clf__n_estimators=10;, score=0.619 total time=   2.0s\n",
      "[CV 5/5] END clf__class_weight=balanced, clf__max_depth=3, clf__n_estimators=10;, score=0.632 total time=   2.0s\n"
     ]
    }
   ],
   "source": [
    "clf = RandomForestClassifier(random_state=rng)\n",
    "rf_params={\n",
    "    'clf__n_estimators':[4,6,8,10, 20, 30, 50, 100],\n",
    "    'clf__max_depth': [None, 3, 4, 5,7,8,9, 10],\n",
    "    'clf__class_weight':['balanced', None]\n",
    "}\n",
    "\n",
    "%time rf_pipe = helper.gridsearch_pipeline(X_train, y_train, clf, rf_params) \n",
    "rf_pipe"
   ]
  },
  {
   "cell_type": "code",
   "execution_count": 46,
   "id": "6d9fb757-8138-4d0e-b2de-d40d89d0b2c5",
   "metadata": {},
   "outputs": [
    {
     "data": {
      "text/plain": [
       "['export_run4_TargetEncoding_gridsearchCV/export_rf_pipe.joblib']"
      ]
     },
     "execution_count": 46,
     "metadata": {},
     "output_type": "execute_result"
    }
   ],
   "source": [
    "joblib.dump(rf_pipe, f'{prefix}_rf_pipe.joblib')"
   ]
  },
  {
   "cell_type": "code",
   "execution_count": 20,
   "id": "a86e5fa6-ecc1-4b88-ab0b-a4b1004a6101",
   "metadata": {},
   "outputs": [
    {
     "name": "stdout",
     "output_type": "stream",
     "text": [
      "Decision Tree (best model)\n",
      " [[  421   222]\n",
      " [14920 59272]]\n"
     ]
    },
    {
     "ename": "AttributeError",
     "evalue": "'GridSearchCV' object has no attribute 'feature_importances_'",
     "output_type": "error",
     "traceback": [
      "\u001b[0;31m---------------------------------------------------------------------------\u001b[0m",
      "\u001b[0;31mAttributeError\u001b[0m                            Traceback (most recent call last)",
      "Input \u001b[0;32mIn [20]\u001b[0m, in \u001b[0;36m<cell line: 13>\u001b[0;34m()\u001b[0m\n\u001b[1;32m      8\u001b[0m     cm_display\u001b[38;5;241m.\u001b[39mplot()\n\u001b[1;32m     12\u001b[0m plt\u001b[38;5;241m.\u001b[39mfigure(figsize\u001b[38;5;241m=\u001b[39m(\u001b[38;5;241m10\u001b[39m,\u001b[38;5;241m4\u001b[39m), dpi\u001b[38;5;241m=\u001b[39m\u001b[38;5;241m80\u001b[39m)\n\u001b[0;32m---> 13\u001b[0m \u001b[43mplot_feature_importances\u001b[49m\u001b[43m(\u001b[49m\u001b[43mdt_pipe\u001b[49m\u001b[43m,\u001b[49m\u001b[43m \u001b[49m\u001b[43mfeature_cols\u001b[49m\u001b[43m)\u001b[49m\n\u001b[1;32m     14\u001b[0m \u001b[38;5;28;01mif\u001b[39;00m outputs:\n\u001b[1;32m     15\u001b[0m     plt\u001b[38;5;241m.\u001b[39mshow()\n",
      "File \u001b[0;32m~/Documents/Github/wild_life/milestone_2/modeling/adspy_shared_utilities.py:48\u001b[0m, in \u001b[0;36mplot_feature_importances\u001b[0;34m(clf, feature_names)\u001b[0m\n\u001b[1;32m     46\u001b[0m \u001b[38;5;28;01mdef\u001b[39;00m \u001b[38;5;21mplot_feature_importances\u001b[39m(clf, feature_names):\n\u001b[1;32m     47\u001b[0m     c_features \u001b[38;5;241m=\u001b[39m \u001b[38;5;28mlen\u001b[39m(feature_names)\n\u001b[0;32m---> 48\u001b[0m     plt\u001b[38;5;241m.\u001b[39mbarh(\u001b[38;5;28mrange\u001b[39m(c_features), \u001b[43mclf\u001b[49m\u001b[38;5;241;43m.\u001b[39;49m\u001b[43mfeature_importances_\u001b[49m)\n\u001b[1;32m     49\u001b[0m     plt\u001b[38;5;241m.\u001b[39mxlabel(\u001b[38;5;124m\"\u001b[39m\u001b[38;5;124mFeature importance\u001b[39m\u001b[38;5;124m\"\u001b[39m)\n\u001b[1;32m     50\u001b[0m     plt\u001b[38;5;241m.\u001b[39mylabel(\u001b[38;5;124m\"\u001b[39m\u001b[38;5;124mFeature name\u001b[39m\u001b[38;5;124m\"\u001b[39m)\n",
      "\u001b[0;31mAttributeError\u001b[0m: 'GridSearchCV' object has no attribute 'feature_importances_'"
     ]
    },
    {
     "data": {
      "image/png": "[encoded data removed]",
      "text/plain": [
       "<Figure size 432x288 with 2 Axes>"
      ]
     },
     "metadata": {
      "needs_background": "light"
     },
     "output_type": "display_data"
    },
    {
     "data": {
      "text/plain": [
       "<Figure size 800x320 with 0 Axes>"
      ]
     },
     "metadata": {},
     "output_type": "display_data"
    }
   ],
   "source": [
    "outputs = True\n",
    "dt_predicted = dt_pipe.predict(X_test)\n",
    "confusion = confusion_matrix(y_test, dt_predicted, labels = [1,0])\n",
    "if outputs:\n",
    "    print('Decision Tree (best model)\\n', confusion)\n",
    "cm_display = ConfusionMatrixDisplay(confusion, display_labels=[1,0])\n",
    "if outputs:\n",
    "    cm_display.plot()\n",
    "    \n",
    "    "
   ]
  },
  {
   "cell_type": "code",
   "execution_count": null,
   "id": "0a476441-ae98-4bbe-82cb-b8b4888d670e",
   "metadata": {},
   "outputs": [],
   "source": []
  }
 ],
 "metadata": {
  "kernelspec": {
   "display_name": "Python 3 (ipykernel)",
   "language": "python",
   "name": "python3"
  },
  "language_info": {
   "codemirror_mode": {
    "name": "ipython",
    "version": 3
   },
   "file_extension": ".py",
   "mimetype": "text/x-python",
   "name": "python",
   "nbconvert_exporter": "python",
   "pygments_lexer": "ipython3",
   "version": "3.10.4"
  }
 },
 "nbformat": 4,
 "nbformat_minor": 5
}
