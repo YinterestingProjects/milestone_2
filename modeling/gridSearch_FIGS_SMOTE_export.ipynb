{
 "cells": [
  {
   "cell_type": "markdown",
   "source": [
    "# Implementing gridsearchcv for FIGS SMOTE"
   ],
   "metadata": {
    "collapsed": false,
    "pycharm": {
     "name": "#%% md\n"
    }
   }
  },
  {
   "cell_type": "code",
   "execution_count": 7,
   "outputs": [
    {
     "name": "stderr",
     "output_type": "stream",
     "text": [
      "C:\\Users\\joshh\\anaconda3\\lib\\site-packages\\ipykernel\\ipkernel.py:287: DeprecationWarning: `should_run_async` will not call `transform_cell` automatically in the future. Please pass the result to `transformed_cell` argument and any exception that happen during thetransform in `preprocessing_exc_tuple` in IPython 7.17 and above.\n",
      "  and should_run_async(code)\n"
     ]
    }
   ],
   "source": [
    "import pandas as pd\n",
    "import numpy as np\n",
    "import modelinghelper as helper\n",
    "from imodels import FIGSClassifier\n",
    "import os\n",
    "import joblib\n",
    "# supress future warnings\n",
    "import warnings\n",
    "warnings.filterwarnings(action='ignore', category=FutureWarning)"
   ],
   "metadata": {
    "collapsed": false,
    "pycharm": {
     "name": "#%%\n"
    }
   }
  },
  {
   "cell_type": "code",
   "execution_count": 9,
   "outputs": [
    {
     "name": "stdout",
     "output_type": "stream",
     "text": [
      "Folder already exists\n"
     ]
    },
    {
     "name": "stderr",
     "output_type": "stream",
     "text": [
      "C:\\Users\\joshh\\anaconda3\\lib\\site-packages\\ipykernel\\ipkernel.py:287: DeprecationWarning: `should_run_async` will not call `transform_cell` automatically in the future. Please pass the result to `transformed_cell` argument and any exception that happen during thetransform in `preprocessing_exc_tuple` in IPython 7.17 and above.\n",
      "  and should_run_async(code)\n"
     ]
    }
   ],
   "source": [
    "#set up random seed\n",
    "rng = 42\n",
    "\n",
    "# set up folder to save results\n",
    "output_path = 'gridsearch_all_models'\n",
    "dataset = 'export'\n",
    "mod_name = \"FIGS\"\n",
    "run_num = \"run_1\"\n",
    "\n",
    "if not os.path.exists(output_path):\n",
    "    os.makedirs(output_path)\n",
    "else:\n",
    "    print(\"Folder already exists\")\n",
    "\n",
    "# file name\n",
    "prefix = f'{output_path}'"
   ],
   "metadata": {
    "collapsed": false,
    "pycharm": {
     "name": "#%%\n"
    }
   }
  },
  {
   "cell_type": "code",
   "execution_count": 3,
   "outputs": [
    {
     "name": "stderr",
     "output_type": "stream",
     "text": [
      "C:\\Users\\joshh\\anaconda3\\lib\\site-packages\\ipykernel\\ipkernel.py:287: DeprecationWarning: `should_run_async` will not call `transform_cell` automatically in the future. Please pass the result to `transformed_cell` argument and any exception that happen during thetransform in `preprocessing_exc_tuple` in IPython 7.17 and above.\n",
      "  and should_run_async(code)\n"
     ]
    }
   ],
   "source": [
    "# read in data\n",
    "p = '../data/'\n",
    "input_name = 'cleaned.csv'\n",
    "\n",
    "df = pd.read_csv(f'{p}{input_name}')\n",
    "# convert month to string\n",
    "df['ship_date_mm'] = df['ship_date_mm'].astype(str)"
   ],
   "metadata": {
    "collapsed": false,
    "pycharm": {
     "name": "#%%\n"
    }
   }
  },
  {
   "cell_type": "code",
   "execution_count": 4,
   "outputs": [
    {
     "name": "stderr",
     "output_type": "stream",
     "text": [
      "C:\\Users\\joshh\\anaconda3\\lib\\site-packages\\ipykernel\\ipkernel.py:287: DeprecationWarning: `should_run_async` will not call `transform_cell` automatically in the future. Please pass the result to `transformed_cell` argument and any exception that happen during thetransform in `preprocessing_exc_tuple` in IPython 7.17 and above.\n",
      "  and should_run_async(code)\n"
     ]
    }
   ],
   "source": [
    "non_feature_cols = ['control_number', 'disp_date', 'i_e', 'ship_date',\n",
    "                    'cartons', 'qty', 'unit', 'specific_generic_name',\n",
    "                    'genus', 'species', 'wildlf_cat',\n",
    "                    'disp_date_yyyy', 'disp_date_mm', 'disp_ship_date']\n",
    "\n",
    "target = ['act', 'dp_cd']\n",
    "\n",
    "feature_cols = ['species_code', 'wildlf_desc', 'wildlf_cat',\n",
    "                'ctry_org', 'ctry_ie','purp', 'src', 'trans_mode', 'pt_cd',\n",
    "                'value', 'ship_date_mm']\n",
    "\n",
    "export_df = helper.df_filtering(df, i_e = 'E', f_cols = feature_cols)"
   ],
   "metadata": {
    "collapsed": false,
    "pycharm": {
     "name": "#%%\n"
    }
   }
  },
  {
   "cell_type": "code",
   "execution_count": 5,
   "outputs": [
    {
     "name": "stderr",
     "output_type": "stream",
     "text": [
      "C:\\Users\\joshh\\anaconda3\\lib\\site-packages\\ipykernel\\ipkernel.py:287: DeprecationWarning: `should_run_async` will not call `transform_cell` automatically in the future. Please pass the result to `transformed_cell` argument and any exception that happen during thetransform in `preprocessing_exc_tuple` in IPython 7.17 and above.\n",
      "  and should_run_async(code)\n"
     ]
    }
   ],
   "source": [
    "X_train, X_test, y_train, y_test = helper.data_split(export_df)"
   ],
   "metadata": {
    "collapsed": false,
    "pycharm": {
     "name": "#%%\n"
    }
   }
  },
  {
   "cell_type": "markdown",
   "source": [
    "### FIGS"
   ],
   "metadata": {
    "collapsed": false,
    "pycharm": {
     "name": "#%% md\n"
    }
   }
  },
  {
   "cell_type": "code",
   "execution_count": 6,
   "outputs": [
    {
     "name": "stderr",
     "output_type": "stream",
     "text": [
      "C:\\Users\\joshh\\anaconda3\\lib\\site-packages\\ipykernel\\ipkernel.py:287: DeprecationWarning: `should_run_async` will not call `transform_cell` automatically in the future. Please pass the result to `transformed_cell` argument and any exception that happen during thetransform in `preprocessing_exc_tuple` in IPython 7.17 and above.\n",
      "  and should_run_async(code)\n"
     ]
    },
    {
     "name": "stdout",
     "output_type": "stream",
     "text": [
      "Fitting 5 folds for each of 49 candidates, totalling 245 fits\n",
      "[CV 1/5] END ..................clf__max_rules=1;, score=0.556 total time=   4.7s\n",
      "[CV 2/5] END ..................clf__max_rules=1;, score=0.618 total time=   4.4s\n",
      "[CV 3/5] END ..................clf__max_rules=1;, score=0.579 total time=   4.5s\n",
      "[CV 4/5] END ..................clf__max_rules=1;, score=0.474 total time=   4.5s\n",
      "[CV 5/5] END ..................clf__max_rules=1;, score=0.451 total time=   4.5s\n",
      "[CV 1/5] END ..................clf__max_rules=2;, score=0.418 total time=   5.7s\n",
      "[CV 2/5] END ..................clf__max_rules=2;, score=0.496 total time=   5.6s\n",
      "[CV 3/5] END ..................clf__max_rules=2;, score=0.579 total time=   6.2s\n",
      "[CV 4/5] END ..................clf__max_rules=2;, score=0.474 total time=   6.3s\n",
      "[CV 5/5] END ..................clf__max_rules=2;, score=0.451 total time=   6.3s\n",
      "[CV 1/5] END ..................clf__max_rules=3;, score=0.488 total time=   7.4s\n",
      "[CV 2/5] END ..................clf__max_rules=3;, score=0.571 total time=   7.4s\n",
      "[CV 3/5] END ..................clf__max_rules=3;, score=0.558 total time=   8.1s\n",
      "[CV 4/5] END ..................clf__max_rules=3;, score=0.627 total time=   8.0s\n",
      "[CV 5/5] END ..................clf__max_rules=3;, score=0.622 total time=   8.1s\n",
      "[CV 1/5] END ..................clf__max_rules=4;, score=0.486 total time=   9.2s\n",
      "[CV 2/5] END ..................clf__max_rules=4;, score=0.558 total time=   9.2s\n",
      "[CV 3/5] END ..................clf__max_rules=4;, score=0.483 total time=   9.8s\n",
      "[CV 4/5] END ..................clf__max_rules=4;, score=0.593 total time=   9.8s\n",
      "[CV 5/5] END ..................clf__max_rules=4;, score=0.588 total time=  10.1s\n",
      "[CV 1/5] END ..................clf__max_rules=5;, score=0.486 total time=  11.8s\n",
      "[CV 2/5] END ..................clf__max_rules=5;, score=0.558 total time=  11.1s\n",
      "[CV 3/5] END ..................clf__max_rules=5;, score=0.605 total time=  11.9s\n",
      "[CV 4/5] END ..................clf__max_rules=5;, score=0.479 total time=  12.4s\n",
      "[CV 5/5] END ..................clf__max_rules=5;, score=0.526 total time=  11.8s\n",
      "[CV 1/5] END ..................clf__max_rules=6;, score=0.486 total time=  13.4s\n",
      "[CV 2/5] END ..................clf__max_rules=6;, score=0.558 total time=  13.3s\n",
      "[CV 3/5] END ..................clf__max_rules=6;, score=0.579 total time=  14.0s\n",
      "[CV 4/5] END ..................clf__max_rules=6;, score=0.526 total time=  15.0s\n",
      "[CV 5/5] END ..................clf__max_rules=6;, score=0.541 total time=  14.3s\n",
      "[CV 1/5] END ..................clf__max_rules=7;, score=0.504 total time=  16.9s\n",
      "[CV 2/5] END ..................clf__max_rules=7;, score=0.592 total time=  14.9s\n",
      "[CV 3/5] END ..................clf__max_rules=7;, score=0.574 total time=  16.3s\n",
      "[CV 4/5] END ..................clf__max_rules=7;, score=0.516 total time=  17.8s\n",
      "[CV 5/5] END ..................clf__max_rules=7;, score=0.549 total time=  18.6s\n",
      "[CV 1/5] END ..................clf__max_rules=8;, score=0.530 total time=  21.9s\n",
      "[CV 2/5] END ..................clf__max_rules=8;, score=0.592 total time=  18.1s\n",
      "[CV 3/5] END ..................clf__max_rules=8;, score=0.592 total time=  19.7s\n",
      "[CV 4/5] END ..................clf__max_rules=8;, score=0.492 total time=  21.3s\n",
      "[CV 5/5] END ..................clf__max_rules=8;, score=0.552 total time=  21.4s\n",
      "[CV 1/5] END ..................clf__max_rules=9;, score=0.514 total time=  25.3s\n",
      "[CV 2/5] END ..................clf__max_rules=9;, score=0.566 total time=  21.6s\n",
      "[CV 3/5] END ..................clf__max_rules=9;, score=0.506 total time=  25.2s\n",
      "[CV 4/5] END ..................clf__max_rules=9;, score=0.508 total time=  24.1s\n",
      "[CV 5/5] END ..................clf__max_rules=9;, score=0.547 total time=  24.9s\n",
      "[CV 1/5] END .................clf__max_rules=10;, score=0.522 total time=  23.7s\n",
      "[CV 2/5] END .................clf__max_rules=10;, score=0.569 total time=  25.8s\n",
      "[CV 3/5] END .................clf__max_rules=10;, score=0.553 total time=  25.2s\n",
      "[CV 4/5] END .................clf__max_rules=10;, score=0.544 total time=  27.8s\n",
      "[CV 5/5] END .................clf__max_rules=10;, score=0.544 total time=  28.5s\n",
      "[CV 1/5] END .................clf__max_rules=11;, score=0.514 total time=  27.1s\n",
      "[CV 2/5] END .................clf__max_rules=11;, score=0.545 total time=  27.1s\n",
      "[CV 3/5] END .................clf__max_rules=11;, score=0.551 total time=  32.7s\n",
      "[CV 4/5] END .................clf__max_rules=11;, score=0.528 total time=  31.5s\n",
      "[CV 5/5] END .................clf__max_rules=11;, score=0.549 total time=  32.6s\n",
      "[CV 1/5] END .................clf__max_rules=12;, score=0.538 total time=  29.8s\n",
      "[CV 2/5] END .................clf__max_rules=12;, score=0.553 total time=  33.5s\n",
      "[CV 3/5] END .................clf__max_rules=12;, score=0.548 total time=  33.8s\n",
      "[CV 4/5] END .................clf__max_rules=12;, score=0.503 total time=  35.1s\n",
      "[CV 5/5] END .................clf__max_rules=12;, score=0.518 total time=  37.9s\n",
      "[CV 1/5] END .................clf__max_rules=13;, score=0.538 total time=  39.5s\n",
      "[CV 2/5] END .................clf__max_rules=13;, score=0.543 total time=  34.2s\n",
      "[CV 3/5] END .................clf__max_rules=13;, score=0.530 total time=  39.1s\n",
      "[CV 4/5] END .................clf__max_rules=13;, score=0.503 total time=  39.3s\n",
      "[CV 5/5] END .................clf__max_rules=13;, score=0.521 total time=  40.7s\n",
      "[CV 1/5] END .................clf__max_rules=14;, score=0.514 total time=  37.6s\n",
      "[CV 2/5] END .................clf__max_rules=14;, score=0.558 total time=  41.9s\n",
      "[CV 3/5] END .................clf__max_rules=14;, score=0.566 total time=  39.1s\n",
      "[CV 4/5] END .................clf__max_rules=14;, score=0.479 total time=  43.1s\n",
      "[CV 5/5] END .................clf__max_rules=14;, score=0.523 total time=  46.3s\n",
      "[CV 1/5] END .................clf__max_rules=15;, score=0.494 total time=  41.4s\n",
      "[CV 2/5] END .................clf__max_rules=15;, score=0.561 total time=  48.1s\n",
      "[CV 3/5] END .................clf__max_rules=15;, score=0.579 total time=  40.5s\n",
      "[CV 4/5] END .................clf__max_rules=15;, score=0.474 total time=  45.9s\n",
      "[CV 5/5] END .................clf__max_rules=15;, score=0.513 total time=  51.1s\n",
      "[CV 1/5] END .................clf__max_rules=16;, score=0.488 total time=  46.2s\n",
      "[CV 2/5] END .................clf__max_rules=16;, score=0.519 total time=  52.8s\n",
      "[CV 3/5] END .................clf__max_rules=16;, score=0.592 total time=  44.5s\n",
      "[CV 4/5] END .................clf__max_rules=16;, score=0.479 total time=  49.4s\n",
      "[CV 5/5] END .................clf__max_rules=16;, score=0.539 total time=  52.4s\n",
      "[CV 1/5] END .................clf__max_rules=17;, score=0.517 total time=  47.2s\n",
      "[CV 2/5] END .................clf__max_rules=17;, score=0.566 total time=  54.2s\n",
      "[CV 3/5] END .................clf__max_rules=17;, score=0.551 total time=  54.2s\n",
      "[CV 4/5] END .................clf__max_rules=17;, score=0.492 total time=  53.4s\n",
      "[CV 5/5] END .................clf__max_rules=17;, score=0.523 total time=  56.3s\n",
      "[CV 1/5] END .................clf__max_rules=18;, score=0.514 total time=  54.1s\n",
      "[CV 2/5] END .................clf__max_rules=18;, score=0.538 total time=  58.8s\n",
      "[CV 3/5] END .................clf__max_rules=18;, score=0.543 total time=  58.9s\n",
      "[CV 4/5] END .................clf__max_rules=18;, score=0.487 total time=  57.3s\n",
      "[CV 5/5] END .................clf__max_rules=18;, score=0.528 total time= 1.0min\n",
      "[CV 1/5] END .................clf__max_rules=19;, score=0.514 total time= 1.0min\n",
      "[CV 2/5] END .................clf__max_rules=19;, score=0.540 total time= 1.1min\n",
      "[CV 3/5] END .................clf__max_rules=19;, score=0.551 total time=  56.6s\n",
      "[CV 4/5] END .................clf__max_rules=19;, score=0.461 total time= 1.0min\n",
      "[CV 5/5] END .................clf__max_rules=19;, score=0.508 total time= 1.1min\n",
      "[CV 1/5] END .................clf__max_rules=20;, score=0.514 total time=  58.6s\n",
      "[CV 2/5] END .................clf__max_rules=20;, score=0.551 total time=  57.6s\n",
      "[CV 3/5] END .................clf__max_rules=20;, score=0.525 total time= 1.0min\n",
      "[CV 4/5] END .................clf__max_rules=20;, score=0.469 total time= 1.1min\n",
      "[CV 5/5] END .................clf__max_rules=20;, score=0.539 total time= 1.1min\n",
      "[CV 1/5] END .................clf__max_rules=21;, score=0.514 total time= 1.1min\n",
      "[CV 2/5] END .................clf__max_rules=21;, score=0.532 total time= 1.3min\n",
      "[CV 3/5] END .................clf__max_rules=21;, score=0.558 total time= 1.1min\n",
      "[CV 4/5] END .................clf__max_rules=21;, score=0.479 total time= 1.2min\n",
      "[CV 5/5] END .................clf__max_rules=21;, score=0.508 total time=  57.1s\n",
      "[CV 1/5] END .................clf__max_rules=22;, score=0.506 total time= 1.1min\n",
      "[CV 2/5] END .................clf__max_rules=22;, score=0.543 total time= 1.3min\n",
      "[CV 3/5] END .................clf__max_rules=22;, score=0.540 total time= 1.2min\n",
      "[CV 4/5] END .................clf__max_rules=22;, score=0.464 total time= 1.2min\n",
      "[CV 5/5] END .................clf__max_rules=22;, score=0.487 total time= 1.4min\n",
      "[CV 1/5] END .................clf__max_rules=23;, score=0.530 total time= 1.4min\n",
      "[CV 2/5] END .................clf__max_rules=23;, score=0.543 total time= 1.4min\n",
      "[CV 3/5] END .................clf__max_rules=23;, score=0.540 total time= 1.3min\n",
      "[CV 4/5] END .................clf__max_rules=23;, score=0.477 total time= 1.3min\n",
      "[CV 5/5] END .................clf__max_rules=23;, score=0.513 total time= 1.4min\n",
      "[CV 1/5] END .................clf__max_rules=24;, score=0.499 total time= 1.3min\n",
      "[CV 2/5] END .................clf__max_rules=24;, score=0.551 total time= 1.2min\n",
      "[CV 3/5] END .................clf__max_rules=24;, score=0.527 total time= 1.3min\n",
      "[CV 4/5] END .................clf__max_rules=24;, score=0.469 total time= 1.4min\n",
      "[CV 5/5] END .................clf__max_rules=24;, score=0.482 total time= 1.6min\n",
      "[CV 1/5] END .................clf__max_rules=25;, score=0.478 total time= 1.5min\n",
      "[CV 2/5] END .................clf__max_rules=25;, score=0.540 total time= 1.6min\n",
      "[CV 3/5] END .................clf__max_rules=25;, score=0.509 total time= 1.4min\n",
      "[CV 4/5] END .................clf__max_rules=25;, score=0.477 total time= 1.4min\n",
      "[CV 5/5] END .................clf__max_rules=25;, score=0.482 total time= 1.7min\n",
      "[CV 1/5] END .................clf__max_rules=26;, score=0.494 total time= 1.4min\n",
      "[CV 2/5] END .................clf__max_rules=26;, score=0.551 total time= 1.3min\n",
      "[CV 3/5] END .................clf__max_rules=26;, score=0.504 total time= 1.4min\n",
      "[CV 4/5] END .................clf__max_rules=26;, score=0.477 total time= 1.5min\n",
      "[CV 5/5] END .................clf__max_rules=26;, score=0.495 total time= 1.7min\n",
      "[CV 1/5] END .................clf__max_rules=27;, score=0.535 total time= 1.6min\n",
      "[CV 2/5] END .................clf__max_rules=27;, score=0.530 total time= 1.7min\n",
      "[CV 3/5] END .................clf__max_rules=27;, score=0.519 total time= 1.6min\n",
      "[CV 4/5] END .................clf__max_rules=27;, score=0.464 total time= 1.6min\n",
      "[CV 5/5] END .................clf__max_rules=27;, score=0.477 total time= 1.8min\n",
      "[CV 1/5] END .................clf__max_rules=28;, score=0.519 total time= 1.8min\n",
      "[CV 2/5] END .................clf__max_rules=28;, score=0.501 total time= 1.9min\n",
      "[CV 3/5] END .................clf__max_rules=28;, score=0.535 total time= 1.6min\n",
      "[CV 4/5] END .................clf__max_rules=28;, score=0.472 total time= 1.7min\n",
      "[CV 5/5] END .................clf__max_rules=28;, score=0.472 total time= 2.0min\n",
      "[CV 1/5] END .................clf__max_rules=29;, score=0.519 total time= 1.8min\n",
      "[CV 2/5] END .................clf__max_rules=29;, score=0.527 total time= 1.9min\n",
      "[CV 3/5] END .................clf__max_rules=29;, score=0.496 total time= 1.5min\n",
      "[CV 4/5] END .................clf__max_rules=29;, score=0.453 total time= 1.7min\n",
      "[CV 5/5] END .................clf__max_rules=29;, score=0.472 total time= 2.1min\n",
      "[CV 1/5] END .................clf__max_rules=30;, score=0.519 total time= 1.9min\n",
      "[CV 2/5] END .................clf__max_rules=30;, score=0.535 total time= 2.0min\n",
      "[CV 3/5] END .................clf__max_rules=30;, score=0.517 total time= 1.7min\n",
      "[CV 4/5] END .................clf__max_rules=30;, score=0.474 total time= 1.8min\n",
      "[CV 5/5] END .................clf__max_rules=30;, score=0.495 total time= 2.2min\n",
      "[CV 1/5] END .................clf__max_rules=31;, score=0.488 total time= 1.8min\n",
      "[CV 2/5] END .................clf__max_rules=31;, score=0.530 total time= 2.1min\n",
      "[CV 3/5] END .................clf__max_rules=31;, score=0.501 total time= 2.1min\n",
      "[CV 4/5] END .................clf__max_rules=31;, score=0.484 total time= 1.8min\n",
      "[CV 5/5] END .................clf__max_rules=31;, score=0.472 total time= 2.4min\n",
      "[CV 1/5] END .................clf__max_rules=32;, score=0.514 total time= 1.9min\n",
      "[CV 2/5] END .................clf__max_rules=32;, score=0.551 total time= 2.2min\n",
      "[CV 3/5] END .................clf__max_rules=32;, score=0.540 total time= 2.0min\n",
      "[CV 4/5] END .................clf__max_rules=32;, score=0.466 total time= 2.0min\n",
      "[CV 5/5] END .................clf__max_rules=32;, score=0.461 total time= 2.9min\n",
      "[CV 1/5] END .................clf__max_rules=33;, score=0.519 total time= 2.2min\n",
      "[CV 2/5] END .................clf__max_rules=33;, score=0.540 total time= 2.3min\n",
      "[CV 3/5] END .................clf__max_rules=33;, score=0.481 total time= 2.1min\n",
      "[CV 4/5] END .................clf__max_rules=33;, score=0.474 total time= 2.1min\n",
      "[CV 5/5] END .................clf__max_rules=33;, score=0.461 total time= 2.6min\n",
      "[CV 1/5] END .................clf__max_rules=34;, score=0.522 total time= 2.3min\n",
      "[CV 2/5] END .................clf__max_rules=34;, score=0.530 total time= 2.5min\n",
      "[CV 3/5] END .................clf__max_rules=34;, score=0.535 total time= 2.2min\n",
      "[CV 4/5] END .................clf__max_rules=34;, score=0.440 total time= 2.1min\n",
      "[CV 5/5] END .................clf__max_rules=34;, score=0.482 total time= 2.7min\n",
      "[CV 1/5] END .................clf__max_rules=35;, score=0.496 total time= 2.1min\n",
      "[CV 2/5] END .................clf__max_rules=35;, score=0.532 total time= 2.6min\n",
      "[CV 3/5] END .................clf__max_rules=35;, score=0.483 total time= 1.9min\n",
      "[CV 4/5] END .................clf__max_rules=35;, score=0.464 total time= 2.2min\n",
      "[CV 5/5] END .................clf__max_rules=35;, score=0.461 total time= 3.0min\n",
      "[CV 1/5] END .................clf__max_rules=36;, score=0.506 total time= 2.4min\n",
      "[CV 2/5] END .................clf__max_rules=36;, score=0.532 total time= 2.6min\n",
      "[CV 3/5] END .................clf__max_rules=36;, score=0.499 total time= 2.6min\n",
      "[CV 4/5] END .................clf__max_rules=36;, score=0.469 total time= 2.4min\n",
      "[CV 5/5] END .................clf__max_rules=36;, score=0.456 total time= 3.0min\n",
      "[CV 1/5] END .................clf__max_rules=37;, score=0.512 total time= 2.3min\n",
      "[CV 2/5] END .................clf__max_rules=37;, score=0.535 total time= 2.8min\n",
      "[CV 3/5] END .................clf__max_rules=37;, score=0.506 total time= 2.2min\n",
      "[CV 4/5] END .................clf__max_rules=37;, score=0.448 total time= 2.4min\n",
      "[CV 5/5] END .................clf__max_rules=37;, score=0.484 total time= 2.9min\n",
      "[CV 1/5] END .................clf__max_rules=38;, score=0.506 total time= 2.6min\n",
      "[CV 2/5] END .................clf__max_rules=38;, score=0.538 total time= 2.9min\n",
      "[CV 3/5] END .................clf__max_rules=38;, score=0.527 total time= 2.4min\n",
      "[CV 4/5] END .................clf__max_rules=38;, score=0.459 total time= 2.5min\n",
      "[CV 5/5] END .................clf__max_rules=38;, score=0.469 total time= 2.8min\n",
      "[CV 1/5] END .................clf__max_rules=39;, score=0.496 total time= 2.7min\n",
      "[CV 2/5] END .................clf__max_rules=39;, score=0.535 total time= 2.8min\n",
      "[CV 3/5] END .................clf__max_rules=39;, score=0.522 total time= 2.4min\n",
      "[CV 4/5] END .................clf__max_rules=39;, score=0.469 total time= 2.7min\n",
      "[CV 5/5] END .................clf__max_rules=39;, score=0.469 total time= 3.2min\n",
      "[CV 1/5] END .................clf__max_rules=40;, score=0.501 total time= 2.7min\n",
      "[CV 2/5] END .................clf__max_rules=40;, score=0.512 total time= 2.3min\n",
      "[CV 3/5] END .................clf__max_rules=40;, score=0.478 total time= 3.2min\n",
      "[CV 4/5] END .................clf__max_rules=40;, score=0.461 total time= 2.8min\n",
      "[CV 5/5] END .................clf__max_rules=40;, score=0.472 total time= 3.3min\n",
      "[CV 1/5] END .................clf__max_rules=41;, score=0.509 total time= 2.7min\n",
      "[CV 2/5] END .................clf__max_rules=41;, score=0.501 total time= 2.6min\n",
      "[CV 3/5] END .................clf__max_rules=41;, score=0.532 total time= 3.1min\n",
      "[CV 4/5] END .................clf__max_rules=41;, score=0.464 total time= 2.8min\n",
      "[CV 5/5] END .................clf__max_rules=41;, score=0.469 total time= 3.1min\n",
      "[CV 1/5] END .................clf__max_rules=42;, score=0.478 total time= 2.8min\n",
      "[CV 2/5] END .................clf__max_rules=42;, score=0.491 total time= 2.5min\n",
      "[CV 3/5] END .................clf__max_rules=42;, score=0.504 total time= 2.9min\n",
      "[CV 4/5] END .................clf__max_rules=42;, score=0.477 total time= 2.7min\n",
      "[CV 5/5] END .................clf__max_rules=42;, score=0.482 total time= 3.5min\n",
      "[CV 1/5] END .................clf__max_rules=43;, score=0.478 total time= 2.9min\n",
      "[CV 2/5] END .................clf__max_rules=43;, score=0.512 total time= 3.4min\n",
      "[CV 3/5] END .................clf__max_rules=43;, score=0.522 total time= 3.2min\n",
      "[CV 4/5] END .................clf__max_rules=43;, score=0.474 total time= 3.0min\n",
      "[CV 5/5] END .................clf__max_rules=43;, score=0.479 total time= 3.6min\n",
      "[CV 1/5] END .................clf__max_rules=44;, score=0.486 total time= 2.9min\n",
      "[CV 2/5] END .................clf__max_rules=44;, score=0.470 total time= 2.8min\n",
      "[CV 3/5] END .................clf__max_rules=44;, score=0.504 total time= 2.8min\n",
      "[CV 4/5] END .................clf__max_rules=44;, score=0.479 total time= 3.2min\n",
      "[CV 5/5] END .................clf__max_rules=44;, score=0.459 total time= 3.8min\n",
      "[CV 1/5] END .................clf__max_rules=45;, score=0.504 total time= 3.0min\n",
      "[CV 2/5] END .................clf__max_rules=45;, score=0.491 total time= 3.0min\n",
      "[CV 3/5] END .................clf__max_rules=45;, score=0.491 total time= 3.6min\n",
      "[CV 4/5] END .................clf__max_rules=45;, score=0.482 total time= 3.0min\n",
      "[CV 5/5] END .................clf__max_rules=45;, score=0.438 total time= 4.4min\n",
      "[CV 1/5] END .................clf__max_rules=46;, score=0.496 total time= 3.1min\n",
      "[CV 2/5] END .................clf__max_rules=46;, score=0.514 total time= 3.8min\n",
      "[CV 3/5] END .................clf__max_rules=46;, score=0.540 total time= 3.3min\n",
      "[CV 4/5] END .................clf__max_rules=46;, score=0.459 total time= 3.2min\n",
      "[CV 5/5] END .................clf__max_rules=46;, score=0.474 total time= 3.5min\n",
      "[CV 1/5] END .................clf__max_rules=47;, score=0.486 total time= 3.6min\n",
      "[CV 2/5] END .................clf__max_rules=47;, score=0.532 total time= 3.6min\n",
      "[CV 3/5] END .................clf__max_rules=47;, score=0.517 total time= 3.4min\n",
      "[CV 4/5] END .................clf__max_rules=47;, score=0.477 total time= 3.3min\n",
      "[CV 5/5] END .................clf__max_rules=47;, score=0.474 total time= 4.1min\n",
      "[CV 1/5] END .................clf__max_rules=48;, score=0.499 total time= 3.6min\n",
      "[CV 2/5] END .................clf__max_rules=48;, score=0.527 total time= 3.9min\n",
      "[CV 3/5] END .................clf__max_rules=48;, score=0.488 total time= 3.9min\n",
      "[CV 4/5] END .................clf__max_rules=48;, score=0.477 total time= 3.2min\n",
      "[CV 5/5] END .................clf__max_rules=48;, score=0.500 total time= 4.5min\n",
      "[CV 1/5] END .................clf__max_rules=49;, score=0.478 total time= 3.4min\n",
      "[CV 2/5] END .................clf__max_rules=49;, score=0.519 total time= 4.1min\n",
      "[CV 3/5] END .................clf__max_rules=49;, score=0.519 total time= 3.6min\n",
      "[CV 4/5] END .................clf__max_rules=49;, score=0.456 total time= 3.5min\n",
      "[CV 5/5] END .................clf__max_rules=49;, score=0.456 total time= 4.3min\n",
      "Grid best parameter (max. recall):  {'clf__max_rules': 3}\n",
      "Grid best score (recall):  0.5733772962788507\n"
     ]
    }
   ],
   "source": [
    "clf_figs = FIGSClassifier(random_state=rng)\n",
    "\n",
    "figs_params = {\n",
    "    'clf__max_rules' : np.arange(1,50),\n",
    "    #early stopping?\n",
    "}\n",
    "figs_pipe = helper.gridsearch_pipeline(X_train, y_train, clf_figs, figs_params,imbalance_pipe=True)"
   ],
   "metadata": {
    "collapsed": false,
    "pycharm": {
     "name": "#%%\n"
    }
   }
  },
  {
   "cell_type": "code",
   "execution_count": 10,
   "outputs": [
    {
     "name": "stderr",
     "output_type": "stream",
     "text": [
      "C:\\Users\\joshh\\anaconda3\\lib\\site-packages\\ipykernel\\ipkernel.py:287: DeprecationWarning: `should_run_async` will not call `transform_cell` automatically in the future. Please pass the result to `transformed_cell` argument and any exception that happen during thetransform in `preprocessing_exc_tuple` in IPython 7.17 and above.\n",
      "  and should_run_async(code)\n"
     ]
    },
    {
     "data": {
      "text/plain": "['gridsearch_all_models/figs_pipe_export_SMOTE.joblib']"
     },
     "execution_count": 10,
     "metadata": {},
     "output_type": "execute_result"
    }
   ],
   "source": [
    "joblib.dump(figs_pipe, f'{prefix}/figs_pipe_export_SMOTE.joblib')"
   ],
   "metadata": {
    "collapsed": false,
    "pycharm": {
     "name": "#%%\n"
    }
   }
  }
 ],
 "metadata": {
  "kernelspec": {
   "display_name": "Python 3",
   "language": "python",
   "name": "python3"
  },
  "language_info": {
   "codemirror_mode": {
    "name": "ipython",
    "version": 2
   },
   "file_extension": ".py",
   "mimetype": "text/x-python",
   "name": "python",
   "nbconvert_exporter": "python",
   "pygments_lexer": "ipython2",
   "version": "2.7.6"
  }
 },
 "nbformat": 4,
 "nbformat_minor": 0
}