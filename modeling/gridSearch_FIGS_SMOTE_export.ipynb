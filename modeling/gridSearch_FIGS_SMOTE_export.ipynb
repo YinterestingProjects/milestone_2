{
 "cells": [
  {
   "cell_type": "markdown",
   "source": [
    "# Implementing gridsearchcv for XGBoost"
   ],
   "metadata": {
    "collapsed": false,
    "pycharm": {
     "name": "#%% md\n"
    }
   }
  },
  {
   "cell_type": "code",
   "execution_count": 1,
   "outputs": [],
   "source": [
    "import pandas as pd\n",
    "import numpy as np\n",
    "import modelinghelper as helper\n",
    "from imodels import FIGSClassifier\n",
    "import os\n",
    "\n",
    "# supress future warnings\n",
    "import warnings\n",
    "warnings.filterwarnings(action='ignore', category=FutureWarning)"
   ],
   "metadata": {
    "collapsed": false,
    "pycharm": {
     "name": "#%%\n"
    }
   }
  },
  {
   "cell_type": "code",
   "execution_count": 2,
   "outputs": [
    {
     "name": "stdout",
     "output_type": "stream",
     "text": [
      "Folder already exists\n"
     ]
    }
   ],
   "source": [
    "#set up random seed\n",
    "rng = 42\n",
    "\n",
    "# set up folder to save results\n",
    "output_path = 'gridsearch_all_models'\n",
    "dataset = 'export'\n",
    "mod_name = \"FIGS\"\n",
    "run_num = \"run_1\"\n",
    "\n",
    "if not os.path.exists(output_path):\n",
    "    os.makedirs(output_path)\n",
    "else:\n",
    "    print(\"Folder already exists\")\n",
    "\n",
    "# file name\n",
    "prefix = f'{output_path}/{dataset}/{mod_name}{run_num}'"
   ],
   "metadata": {
    "collapsed": false,
    "pycharm": {
     "name": "#%%\n"
    }
   }
  },
  {
   "cell_type": "code",
   "execution_count": 3,
   "outputs": [],
   "source": [
    "# read in data\n",
    "p = '../data/'\n",
    "input_name = 'cleaned.csv'\n",
    "\n",
    "df = pd.read_csv(f'{p}{input_name}')\n",
    "# convert month to string\n",
    "df['ship_date_mm'] = df['ship_date_mm'].astype(str)"
   ],
   "metadata": {
    "collapsed": false,
    "pycharm": {
     "name": "#%%\n"
    }
   }
  },
  {
   "cell_type": "code",
   "execution_count": 4,
   "outputs": [],
   "source": [
    "non_feature_cols = ['control_number', 'disp_date', 'i_e', 'ship_date',\n",
    "                    'cartons', 'qty', 'unit', 'specific_generic_name',\n",
    "                    'genus', 'species', 'wildlf_cat',\n",
    "                    'disp_date_yyyy', 'disp_date_mm', 'disp_ship_date']\n",
    "\n",
    "target = ['act', 'dp_cd']\n",
    "\n",
    "feature_cols = ['species_code', 'wildlf_desc', 'wildlf_cat',\n",
    "                'ctry_org', 'ctry_ie','purp', 'src', 'trans_mode', 'pt_cd',\n",
    "                'value', 'ship_date_mm']\n",
    "\n",
    "export_df = helper.df_filtering(df, i_e = 'E', f_cols = feature_cols)"
   ],
   "metadata": {
    "collapsed": false,
    "pycharm": {
     "name": "#%%\n"
    }
   }
  },
  {
   "cell_type": "code",
   "execution_count": 5,
   "outputs": [],
   "source": [
    "X_train, X_test, y_train, y_test = helper.data_split(export_df)"
   ],
   "metadata": {
    "collapsed": false,
    "pycharm": {
     "name": "#%%\n"
    }
   }
  },
  {
   "cell_type": "markdown",
   "source": [
    "### FIGS"
   ],
   "metadata": {
    "collapsed": false,
    "pycharm": {
     "name": "#%% md\n"
    }
   }
  },
  {
   "cell_type": "code",
   "execution_count": null,
   "outputs": [
    {
     "name": "stdout",
     "output_type": "stream",
     "text": [
      "Fitting 5 folds for each of 49 candidates, totalling 245 fits\n",
      "[CV 1/5] END ..................clf__max_rules=1;, score=0.556 total time=   3.9s\n",
      "[CV 2/5] END ..................clf__max_rules=1;, score=0.618 total time=   4.3s\n",
      "[CV 3/5] END ..................clf__max_rules=1;, score=0.504 total time=   3.9s\n",
      "[CV 4/5] END ..................clf__max_rules=1;, score=0.474 total time=   4.0s\n",
      "[CV 5/5] END ..................clf__max_rules=1;, score=0.451 total time=   3.9s\n",
      "[CV 1/5] END ..................clf__max_rules=2;, score=0.418 total time=   4.7s\n",
      "[CV 2/5] END ..................clf__max_rules=2;, score=0.496 total time=   4.7s\n",
      "[CV 3/5] END ..................clf__max_rules=2;, score=0.504 total time=   5.2s\n",
      "[CV 4/5] END ..................clf__max_rules=2;, score=0.474 total time=   5.1s\n",
      "[CV 5/5] END ..................clf__max_rules=2;, score=0.451 total time=   5.2s\n",
      "[CV 1/5] END ..................clf__max_rules=3;, score=0.488 total time=   6.1s\n",
      "[CV 2/5] END ..................clf__max_rules=3;, score=0.571 total time=   6.1s\n",
      "[CV 3/5] END ..................clf__max_rules=3;, score=0.558 total time=   6.8s\n",
      "[CV 4/5] END ..................clf__max_rules=3;, score=0.627 total time=   6.4s\n",
      "[CV 5/5] END ..................clf__max_rules=3;, score=0.622 total time=   6.3s\n",
      "[CV 1/5] END ..................clf__max_rules=4;, score=0.486 total time=   7.7s\n",
      "[CV 2/5] END ..................clf__max_rules=4;, score=0.558 total time=   7.5s\n",
      "[CV 3/5] END ..................clf__max_rules=4;, score=0.605 total time=   7.7s\n",
      "[CV 4/5] END ..................clf__max_rules=4;, score=0.593 total time=   7.4s\n",
      "[CV 5/5] END ..................clf__max_rules=4;, score=0.588 total time=   7.5s\n",
      "[CV 1/5] END ..................clf__max_rules=5;, score=0.486 total time=   8.7s\n",
      "[CV 2/5] END ..................clf__max_rules=5;, score=0.558 total time=   7.7s\n",
      "[CV 3/5] END ..................clf__max_rules=5;, score=0.584 total time=   7.5s\n",
      "[CV 4/5] END ..................clf__max_rules=5;, score=0.479 total time=   7.6s\n",
      "[CV 5/5] END ..................clf__max_rules=5;, score=0.526 total time=   7.9s\n",
      "[CV 1/5] END ..................clf__max_rules=6;, score=0.486 total time=   9.0s\n",
      "[CV 2/5] END ..................clf__max_rules=6;, score=0.561 total time=   9.2s\n",
      "[CV 3/5] END ..................clf__max_rules=6;, score=0.579 total time=   9.0s\n",
      "[CV 4/5] END ..................clf__max_rules=6;, score=0.526 total time=   9.6s\n",
      "[CV 5/5] END ..................clf__max_rules=6;, score=0.541 total time=   8.5s\n",
      "[CV 1/5] END ..................clf__max_rules=7;, score=0.504 total time=  10.9s\n",
      "[CV 2/5] END ..................clf__max_rules=7;, score=0.592 total time=   9.0s\n",
      "[CV 3/5] END ..................clf__max_rules=7;, score=0.512 total time=  10.6s\n",
      "[CV 4/5] END ..................clf__max_rules=7;, score=0.516 total time=  10.7s\n",
      "[CV 5/5] END ..................clf__max_rules=7;, score=0.549 total time=  10.3s\n",
      "[CV 1/5] END ..................clf__max_rules=8;, score=0.514 total time=  10.5s\n",
      "[CV 2/5] END ..................clf__max_rules=8;, score=0.592 total time=  10.4s\n",
      "[CV 3/5] END ..................clf__max_rules=8;, score=0.525 total time=  12.7s\n",
      "[CV 4/5] END ..................clf__max_rules=8;, score=0.492 total time=  12.3s\n",
      "[CV 5/5] END ..................clf__max_rules=8;, score=0.552 total time=  12.2s\n",
      "[CV 1/5] END ..................clf__max_rules=9;, score=0.548 total time=  13.6s\n",
      "[CV 2/5] END ..................clf__max_rules=9;, score=0.566 total time=  14.9s\n",
      "[CV 3/5] END ..................clf__max_rules=9;, score=0.584 total time=  13.4s\n",
      "[CV 4/5] END ..................clf__max_rules=9;, score=0.508 total time=  13.9s\n",
      "[CV 5/5] END ..................clf__max_rules=9;, score=0.547 total time=  14.3s\n",
      "[CV 1/5] END .................clf__max_rules=10;, score=0.522 total time=  14.2s\n",
      "[CV 2/5] END .................clf__max_rules=10;, score=0.569 total time=  15.3s\n",
      "[CV 3/5] END .................clf__max_rules=10;, score=0.561 total time=  14.8s\n",
      "[CV 4/5] END .................clf__max_rules=10;, score=0.544 total time=  16.0s\n",
      "[CV 5/5] END .................clf__max_rules=10;, score=0.544 total time=  16.1s\n",
      "[CV 1/5] END .................clf__max_rules=11;, score=0.514 total time=  15.7s\n",
      "[CV 2/5] END .................clf__max_rules=11;, score=0.545 total time=  15.7s\n",
      "[CV 3/5] END .................clf__max_rules=11;, score=0.561 total time=  16.0s\n",
      "[CV 4/5] END .................clf__max_rules=11;, score=0.528 total time=  17.9s\n",
      "[CV 5/5] END .................clf__max_rules=11;, score=0.513 total time=  20.0s\n",
      "[CV 1/5] END .................clf__max_rules=12;, score=0.538 total time=  18.2s\n",
      "[CV 2/5] END .................clf__max_rules=12;, score=0.553 total time=  20.3s\n",
      "[CV 3/5] END .................clf__max_rules=12;, score=0.610 total time=  18.4s\n",
      "[CV 4/5] END .................clf__max_rules=12;, score=0.503 total time=  21.2s\n",
      "[CV 5/5] END .................clf__max_rules=12;, score=0.518 total time=  21.6s\n",
      "[CV 1/5] END .................clf__max_rules=13;, score=0.540 total time=  20.2s\n",
      "[CV 2/5] END .................clf__max_rules=13;, score=0.564 total time=  22.0s\n",
      "[CV 3/5] END .................clf__max_rules=13;, score=0.525 total time=  22.6s\n",
      "[CV 4/5] END .................clf__max_rules=13;, score=0.503 total time=  22.7s\n",
      "[CV 5/5] END .................clf__max_rules=13;, score=0.523 total time=  24.6s\n",
      "[CV 1/5] END .................clf__max_rules=14;, score=0.517 total time=  22.2s\n",
      "[CV 2/5] END .................clf__max_rules=14;, score=0.558 total time=  25.3s\n",
      "[CV 3/5] END .................clf__max_rules=14;, score=0.600 total time=  22.1s\n",
      "[CV 4/5] END .................clf__max_rules=14;, score=0.479 total time=  25.4s\n",
      "[CV 5/5] END .................clf__max_rules=14;, score=0.516 total time=  26.3s\n",
      "[CV 1/5] END .................clf__max_rules=15;, score=0.494 total time=  27.7s\n",
      "[CV 2/5] END .................clf__max_rules=15;, score=0.556 total time=  32.0s\n",
      "[CV 3/5] END .................clf__max_rules=15;, score=0.579 total time=  28.0s\n",
      "[CV 4/5] END .................clf__max_rules=15;, score=0.474 total time=  32.5s\n",
      "[CV 5/5] END .................clf__max_rules=15;, score=0.518 total time=  34.4s\n",
      "[CV 1/5] END .................clf__max_rules=16;, score=0.538 total time=  33.1s\n",
      "[CV 2/5] END .................clf__max_rules=16;, score=0.558 total time=  34.6s\n",
      "[CV 3/5] END .................clf__max_rules=16;, score=0.566 total time=  32.5s\n",
      "[CV 4/5] END .................clf__max_rules=16;, score=0.484 total time=  33.6s\n",
      "[CV 5/5] END .................clf__max_rules=16;, score=0.531 total time=  37.3s\n",
      "[CV 1/5] END .................clf__max_rules=17;, score=0.512 total time=  35.7s\n",
      "[CV 2/5] END .................clf__max_rules=17;, score=0.561 total time=  35.7s\n",
      "[CV 3/5] END .................clf__max_rules=17;, score=0.551 total time=  38.1s\n",
      "[CV 4/5] END .................clf__max_rules=17;, score=0.505 total time=  36.0s\n",
      "[CV 5/5] END .................clf__max_rules=17;, score=0.523 total time=  39.6s\n",
      "[CV 1/5] END .................clf__max_rules=18;, score=0.506 total time=  38.1s\n",
      "[CV 2/5] END .................clf__max_rules=18;, score=0.545 total time=  43.0s\n",
      "[CV 3/5] END .................clf__max_rules=18;, score=0.566 total time=  38.5s\n",
      "[CV 4/5] END .................clf__max_rules=18;, score=0.521 total time=  37.8s\n",
      "[CV 5/5] END .................clf__max_rules=18;, score=0.497 total time=  42.5s\n",
      "[CV 1/5] END .................clf__max_rules=19;, score=0.496 total time=  40.2s\n",
      "[CV 2/5] END .................clf__max_rules=19;, score=0.545 total time=  46.9s\n"
     ]
    }
   ],
   "source": [
    "clf_figs = FIGSClassifier(random_state=rng)\n",
    "\n",
    "figs_params = {\n",
    "    'clf__max_rules' : np.arange(1,50),\n",
    "    #early stopping?\n",
    "}\n",
    "figs_pipe = helper.gridsearch_pipeline(X_train, y_train, clf_figs, figs_params,imbalance_pipe=True)"
   ],
   "metadata": {
    "collapsed": false,
    "pycharm": {
     "name": "#%%\n",
     "is_executing": true
    }
   }
  }
 ],
 "metadata": {
  "kernelspec": {
   "display_name": "Python 3",
   "language": "python",
   "name": "python3"
  },
  "language_info": {
   "codemirror_mode": {
    "name": "ipython",
    "version": 2
   },
   "file_extension": ".py",
   "mimetype": "text/x-python",
   "name": "python",
   "nbconvert_exporter": "python",
   "pygments_lexer": "ipython2",
   "version": "2.7.6"
  }
 },
 "nbformat": 4,
 "nbformat_minor": 0
}