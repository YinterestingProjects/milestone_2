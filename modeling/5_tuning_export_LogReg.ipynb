{
 "cells": [
  {
   "cell_type": "markdown",
   "id": "d5a7ca30-f1f6-48fb-9315-788c1d8e8e23",
   "metadata": {},
   "source": [
    "### Log Regression Model Tuning for 2016 - 2020 Data (exports)"
   ]
  },
  {
   "cell_type": "code",
   "execution_count": 1,
   "id": "e5b7908a-bbab-4133-bfdd-8a127e695741",
   "metadata": {
    "tags": []
   },
   "outputs": [],
   "source": [
    "import pandas as pd\n",
    "import numpy as np\n",
    "import seaborn as sns\n",
    "import modelinghelper as helper\n",
    "\n",
    "from sklearn.linear_model import LogisticRegression\n",
    "from sklearn.metrics import classification_report, confusion_matrix, ConfusionMatrixDisplay\n",
    "\n",
    "import joblib\n",
    "import os\n",
    "from datetime import datetime\n",
    "\n",
    "# supress future warnings\n",
    "import warnings\n",
    "warnings.filterwarnings(action='ignore', category=FutureWarning)"
   ]
  },
  {
   "cell_type": "code",
   "execution_count": 2,
   "id": "e18bde1e-1e5e-4ec1-8037-d78b160e8e96",
   "metadata": {},
   "outputs": [
    {
     "name": "stdout",
     "output_type": "stream",
     "text": [
      "Folder already exists\n"
     ]
    }
   ],
   "source": [
    "#set up random seed\n",
    "rng = 42\n",
    "\n",
    "# set up folder to save results\n",
    "output_path = 'export_run4_TargetEncoding_gridsearchCV'\n",
    "dataset = 'export'\n",
    "\n",
    "if not os.path.exists(output_path):\n",
    "    os.makedirs(output_path)\n",
    "else:\n",
    "    print(\"Folder already exists\")\n",
    "\n",
    "# file name\n",
    "prefix = f'{output_path}/{dataset}'"
   ]
  },
  {
   "cell_type": "code",
   "execution_count": 3,
   "id": "6019d607-4640-4f6f-9cea-fa1dfaeaf1e2",
   "metadata": {},
   "outputs": [],
   "source": [
    "# read in data\n",
    "p = '../data/'\n",
    "input_name = 'cleaned.csv'\n",
    "\n",
    "df = pd.read_csv(f'{p}{input_name}')"
   ]
  },
  {
   "cell_type": "code",
   "execution_count": 4,
   "id": "bc51ab93-bda1-4c29-852b-d67cce2eab5d",
   "metadata": {},
   "outputs": [],
   "source": [
    "df['ship_date_mm'] = df['ship_date_mm'].astype(str)"
   ]
  },
  {
   "cell_type": "code",
   "execution_count": 5,
   "id": "0fe15a1a-67d3-46a7-8068-d83651be856e",
   "metadata": {},
   "outputs": [
    {
     "data": {
      "text/html": [
       "<div>\n",
       "<style scoped>\n",
       "    .dataframe tbody tr th:only-of-type {\n",
       "        vertical-align: middle;\n",
       "    }\n",
       "\n",
       "    .dataframe tbody tr th {\n",
       "        vertical-align: top;\n",
       "    }\n",
       "\n",
       "    .dataframe thead th {\n",
       "        text-align: right;\n",
       "    }\n",
       "</style>\n",
       "<table border=\"1\" class=\"dataframe\">\n",
       "  <thead>\n",
       "    <tr style=\"text-align: right;\">\n",
       "      <th></th>\n",
       "      <th>control_number</th>\n",
       "      <th>qty</th>\n",
       "      <th>value</th>\n",
       "      <th>qty_new</th>\n",
       "      <th>ship_date_yyyy</th>\n",
       "    </tr>\n",
       "  </thead>\n",
       "  <tbody>\n",
       "    <tr>\n",
       "      <th>count</th>\n",
       "      <td>1.890132e+06</td>\n",
       "      <td>1.890132e+06</td>\n",
       "      <td>1.890132e+06</td>\n",
       "      <td>1.890132e+06</td>\n",
       "      <td>1.890132e+06</td>\n",
       "    </tr>\n",
       "    <tr>\n",
       "      <th>mean</th>\n",
       "      <td>2.018142e+09</td>\n",
       "      <td>1.955213e+06</td>\n",
       "      <td>9.658016e+03</td>\n",
       "      <td>1.954949e+06</td>\n",
       "      <td>2.017558e+03</td>\n",
       "    </tr>\n",
       "    <tr>\n",
       "      <th>std</th>\n",
       "      <td>1.263350e+06</td>\n",
       "      <td>2.644078e+08</td>\n",
       "      <td>9.355053e+05</td>\n",
       "      <td>2.644078e+08</td>\n",
       "      <td>1.279415e+00</td>\n",
       "    </tr>\n",
       "    <tr>\n",
       "      <th>min</th>\n",
       "      <td>2.014539e+09</td>\n",
       "      <td>-1.000000e+00</td>\n",
       "      <td>0.000000e+00</td>\n",
       "      <td>-1.000000e+00</td>\n",
       "      <td>2.016000e+03</td>\n",
       "    </tr>\n",
       "    <tr>\n",
       "      <th>25%</th>\n",
       "      <td>2.016978e+09</td>\n",
       "      <td>1.500000e+00</td>\n",
       "      <td>5.100000e+01</td>\n",
       "      <td>1.000000e+00</td>\n",
       "      <td>2.016000e+03</td>\n",
       "    </tr>\n",
       "    <tr>\n",
       "      <th>50%</th>\n",
       "      <td>2.017984e+09</td>\n",
       "      <td>9.000000e+00</td>\n",
       "      <td>3.180000e+02</td>\n",
       "      <td>8.000000e+00</td>\n",
       "      <td>2.017000e+03</td>\n",
       "    </tr>\n",
       "    <tr>\n",
       "      <th>75%</th>\n",
       "      <td>2.019505e+09</td>\n",
       "      <td>9.300000e+01</td>\n",
       "      <td>2.104000e+03</td>\n",
       "      <td>8.600000e+01</td>\n",
       "      <td>2.019000e+03</td>\n",
       "    </tr>\n",
       "    <tr>\n",
       "      <th>max</th>\n",
       "      <td>2.020755e+09</td>\n",
       "      <td>9.990708e+10</td>\n",
       "      <td>1.242236e+09</td>\n",
       "      <td>9.990708e+10</td>\n",
       "      <td>2.020000e+03</td>\n",
       "    </tr>\n",
       "  </tbody>\n",
       "</table>\n",
       "</div>"
      ],
      "text/plain": [
       "       control_number           qty         value       qty_new  \\\n",
       "count    1.890132e+06  1.890132e+06  1.890132e+06  1.890132e+06   \n",
       "mean     2.018142e+09  1.955213e+06  9.658016e+03  1.954949e+06   \n",
       "std      1.263350e+06  2.644078e+08  9.355053e+05  2.644078e+08   \n",
       "min      2.014539e+09 -1.000000e+00  0.000000e+00 -1.000000e+00   \n",
       "25%      2.016978e+09  1.500000e+00  5.100000e+01  1.000000e+00   \n",
       "50%      2.017984e+09  9.000000e+00  3.180000e+02  8.000000e+00   \n",
       "75%      2.019505e+09  9.300000e+01  2.104000e+03  8.600000e+01   \n",
       "max      2.020755e+09  9.990708e+10  1.242236e+09  9.990708e+10   \n",
       "\n",
       "       ship_date_yyyy  \n",
       "count    1.890132e+06  \n",
       "mean     2.017558e+03  \n",
       "std      1.279415e+00  \n",
       "min      2.016000e+03  \n",
       "25%      2.016000e+03  \n",
       "50%      2.017000e+03  \n",
       "75%      2.019000e+03  \n",
       "max      2.020000e+03  "
      ]
     },
     "execution_count": 5,
     "metadata": {},
     "output_type": "execute_result"
    }
   ],
   "source": [
    "df.describe()"
   ]
  },
  {
   "cell_type": "code",
   "execution_count": 6,
   "id": "de9c627f-4ffe-4dad-8c6e-085edb9a8fc2",
   "metadata": {},
   "outputs": [],
   "source": [
    "non_feature_cols = ['control_number', 'disp_date', 'i_e', 'ship_date', \n",
    "                    'cartons', 'qty', 'unit', 'specific_generic_name',\n",
    "                    'genus', 'species', 'wildlf_cat', \n",
    "                    'disp_date_yyyy', 'disp_date_mm', 'disp_ship_date']\n",
    "\n",
    "target = ['act', 'dp_cd']\n",
    "\n",
    "feature_cols = ['species_code', 'wildlf_desc', 'wildlf_cat',\n",
    "                'ctry_org', 'ctry_ie','purp', 'src', 'trans_mode', 'pt_cd', \n",
    "                 'value', 'ship_date_mm']\n",
    "\n",
    "export_df = helper.df_filtering(df, i_e = 'E', f_cols = feature_cols)\n",
    "# import: 590505 rows × 11 columns\n",
    "# export: 299340 rows × 11 columns"
   ]
  },
  {
   "cell_type": "markdown",
   "id": "1dfbf9ef-939d-42c7-b88e-675494e808e0",
   "metadata": {
    "tags": []
   },
   "source": [
    "#### Modeling Pipeline"
   ]
  },
  {
   "cell_type": "code",
   "execution_count": 7,
   "id": "5b842f26-fc76-49f0-8656-c90aa89779cb",
   "metadata": {},
   "outputs": [],
   "source": [
    "X_train, X_test, y_train, y_test = helper.data_split(export_df)"
   ]
  },
  {
   "cell_type": "markdown",
   "id": "a2749336-21b6-4612-9547-45472ca5b850",
   "metadata": {
    "tags": []
   },
   "source": [
    "#### Log Regression"
   ]
  },
  {
   "cell_type": "code",
   "execution_count": 8,
   "id": "513f8cdb-d71b-42bd-a856-1bfe06ab77a6",
   "metadata": {},
   "outputs": [
    {
     "name": "stdout",
     "output_type": "stream",
     "text": [
      "Fitting 5 folds for each of 112 candidates, totalling 560 fits\n",
      "[CV 1/5] END clf__C=0.1, clf__class_weight=None, clf__solver=lbfgs;, score=0.190 total time=   1.7s\n",
      "[CV 2/5] END clf__C=0.1, clf__class_weight=None, clf__solver=lbfgs;, score=0.216 total time=   1.7s\n",
      "[CV 3/5] END clf__C=0.1, clf__class_weight=None, clf__solver=lbfgs;, score=0.203 total time=   1.7s\n",
      "[CV 4/5] END clf__C=0.1, clf__class_weight=None, clf__solver=lbfgs;, score=0.228 total time=   1.7s\n",
      "[CV 5/5] END clf__C=0.1, clf__class_weight=None, clf__solver=lbfgs;, score=0.197 total time=   1.7s\n",
      "[CV 1/5] END clf__C=0.1, clf__class_weight=None, clf__solver=liblinear;, score=0.182 total time=   1.8s\n",
      "[CV 2/5] END clf__C=0.1, clf__class_weight=None, clf__solver=liblinear;, score=0.213 total time=   1.8s\n",
      "[CV 3/5] END clf__C=0.1, clf__class_weight=None, clf__solver=liblinear;, score=0.203 total time=   1.7s\n",
      "[CV 4/5] END clf__C=0.1, clf__class_weight=None, clf__solver=liblinear;, score=0.225 total time=   1.8s\n",
      "[CV 5/5] END clf__C=0.1, clf__class_weight=None, clf__solver=liblinear;, score=0.194 total time=   1.7s\n",
      "[CV 1/5] END clf__C=0.1, clf__class_weight=None, clf__solver=sag;, score=0.190 total time=   4.3s\n"
     ]
    },
    {
     "name": "stderr",
     "output_type": "stream",
     "text": [
      "/opt/anaconda3/envs/test_env/lib/python3.10/site-packages/sklearn/linear_model/_sag.py:350: ConvergenceWarning: The max_iter was reached which means the coef_ did not converge\n",
      "  warnings.warn(\n"
     ]
    },
    {
     "name": "stdout",
     "output_type": "stream",
     "text": [
      "[CV 2/5] END clf__C=0.1, clf__class_weight=None, clf__solver=sag;, score=0.216 total time=   4.6s\n"
     ]
    },
    {
     "name": "stderr",
     "output_type": "stream",
     "text": [
      "/opt/anaconda3/envs/test_env/lib/python3.10/site-packages/sklearn/linear_model/_sag.py:350: ConvergenceWarning: The max_iter was reached which means the coef_ did not converge\n",
      "  warnings.warn(\n"
     ]
    },
    {
     "name": "stdout",
     "output_type": "stream",
     "text": [
      "[CV 3/5] END clf__C=0.1, clf__class_weight=None, clf__solver=sag;, score=0.203 total time=   4.4s\n"
     ]
    },
    {
     "name": "stderr",
     "output_type": "stream",
     "text": [
      "/opt/anaconda3/envs/test_env/lib/python3.10/site-packages/sklearn/linear_model/_sag.py:350: ConvergenceWarning: The max_iter was reached which means the coef_ did not converge\n",
      "  warnings.warn(\n"
     ]
    },
    {
     "name": "stdout",
     "output_type": "stream",
     "text": [
      "[CV 4/5] END clf__C=0.1, clf__class_weight=None, clf__solver=sag;, score=0.228 total time=   4.6s\n"
     ]
    },
    {
     "name": "stderr",
     "output_type": "stream",
     "text": [
      "/opt/anaconda3/envs/test_env/lib/python3.10/site-packages/sklearn/linear_model/_sag.py:350: ConvergenceWarning: The max_iter was reached which means the coef_ did not converge\n",
      "  warnings.warn(\n"
     ]
    },
    {
     "name": "stdout",
     "output_type": "stream",
     "text": [
      "[CV 5/5] END clf__C=0.1, clf__class_weight=None, clf__solver=sag;, score=0.197 total time=   4.7s\n"
     ]
    },
    {
     "name": "stderr",
     "output_type": "stream",
     "text": [
      "/opt/anaconda3/envs/test_env/lib/python3.10/site-packages/sklearn/linear_model/_sag.py:350: ConvergenceWarning: The max_iter was reached which means the coef_ did not converge\n",
      "  warnings.warn(\n"
     ]
    },
    {
     "name": "stdout",
     "output_type": "stream",
     "text": [
      "[CV 1/5] END clf__C=0.1, clf__class_weight=None, clf__solver=saga;, score=0.190 total time=   4.8s\n"
     ]
    },
    {
     "name": "stderr",
     "output_type": "stream",
     "text": [
      "/opt/anaconda3/envs/test_env/lib/python3.10/site-packages/sklearn/linear_model/_sag.py:350: ConvergenceWarning: The max_iter was reached which means the coef_ did not converge\n",
      "  warnings.warn(\n"
     ]
    },
    {
     "name": "stdout",
     "output_type": "stream",
     "text": [
      "[CV 2/5] END clf__C=0.1, clf__class_weight=None, clf__solver=saga;, score=0.216 total time=   4.6s\n"
     ]
    },
    {
     "name": "stderr",
     "output_type": "stream",
     "text": [
      "/opt/anaconda3/envs/test_env/lib/python3.10/site-packages/sklearn/linear_model/_sag.py:350: ConvergenceWarning: The max_iter was reached which means the coef_ did not converge\n",
      "  warnings.warn(\n"
     ]
    },
    {
     "name": "stdout",
     "output_type": "stream",
     "text": [
      "[CV 3/5] END clf__C=0.1, clf__class_weight=None, clf__solver=saga;, score=0.205 total time=   4.7s\n"
     ]
    },
    {
     "name": "stderr",
     "output_type": "stream",
     "text": [
      "/opt/anaconda3/envs/test_env/lib/python3.10/site-packages/sklearn/linear_model/_sag.py:350: ConvergenceWarning: The max_iter was reached which means the coef_ did not converge\n",
      "  warnings.warn(\n"
     ]
    },
    {
     "name": "stdout",
     "output_type": "stream",
     "text": [
      "[CV 4/5] END clf__C=0.1, clf__class_weight=None, clf__solver=saga;, score=0.228 total time=   4.7s\n"
     ]
    },
    {
     "name": "stderr",
     "output_type": "stream",
     "text": [
      "/opt/anaconda3/envs/test_env/lib/python3.10/site-packages/sklearn/linear_model/_sag.py:350: ConvergenceWarning: The max_iter was reached which means the coef_ did not converge\n",
      "  warnings.warn(\n"
     ]
    },
    {
     "name": "stdout",
     "output_type": "stream",
     "text": [
      "[CV 5/5] END clf__C=0.1, clf__class_weight=None, clf__solver=saga;, score=0.197 total time=   4.6s\n",
      "[CV 1/5] END clf__C=0.1, clf__class_weight=balanced, clf__solver=lbfgs;, score=0.587 total time=   1.7s\n",
      "[CV 2/5] END clf__C=0.1, clf__class_weight=balanced, clf__solver=lbfgs;, score=0.530 total time=   1.7s\n",
      "[CV 3/5] END clf__C=0.1, clf__class_weight=balanced, clf__solver=lbfgs;, score=0.574 total time=   1.7s\n",
      "[CV 4/5] END clf__C=0.1, clf__class_weight=balanced, clf__solver=lbfgs;, score=0.593 total time=   1.7s\n",
      "[CV 5/5] END clf__C=0.1, clf__class_weight=balanced, clf__solver=lbfgs;, score=0.528 total time=   1.7s\n",
      "[CV 1/5] END clf__C=0.1, clf__class_weight=balanced, clf__solver=liblinear;, score=0.587 total time=   1.8s\n",
      "[CV 2/5] END clf__C=0.1, clf__class_weight=balanced, clf__solver=liblinear;, score=0.530 total time=   1.7s\n",
      "[CV 3/5] END clf__C=0.1, clf__class_weight=balanced, clf__solver=liblinear;, score=0.574 total time=   1.7s\n",
      "[CV 4/5] END clf__C=0.1, clf__class_weight=balanced, clf__solver=liblinear;, score=0.593 total time=   1.7s\n",
      "[CV 5/5] END clf__C=0.1, clf__class_weight=balanced, clf__solver=liblinear;, score=0.528 total time=   1.8s\n",
      "[CV 1/5] END clf__C=0.1, clf__class_weight=balanced, clf__solver=sag;, score=0.587 total time=   2.3s\n",
      "[CV 2/5] END clf__C=0.1, clf__class_weight=balanced, clf__solver=sag;, score=0.530 total time=   2.2s\n",
      "[CV 3/5] END clf__C=0.1, clf__class_weight=balanced, clf__solver=sag;, score=0.574 total time=   2.2s\n",
      "[CV 4/5] END clf__C=0.1, clf__class_weight=balanced, clf__solver=sag;, score=0.593 total time=   2.2s\n",
      "[CV 5/5] END clf__C=0.1, clf__class_weight=balanced, clf__solver=sag;, score=0.528 total time=   2.3s\n",
      "[CV 1/5] END clf__C=0.1, clf__class_weight=balanced, clf__solver=saga;, score=0.587 total time=   2.0s\n",
      "[CV 2/5] END clf__C=0.1, clf__class_weight=balanced, clf__solver=saga;, score=0.530 total time=   2.2s\n",
      "[CV 3/5] END clf__C=0.1, clf__class_weight=balanced, clf__solver=saga;, score=0.574 total time=   2.2s\n",
      "[CV 4/5] END clf__C=0.1, clf__class_weight=balanced, clf__solver=saga;, score=0.593 total time=   2.2s\n",
      "[CV 5/5] END clf__C=0.1, clf__class_weight=balanced, clf__solver=saga;, score=0.528 total time=   2.1s\n",
      "[CV 1/5] END clf__C=0.1, clf__class_weight={0: 100, 1: 1}, clf__solver=lbfgs;, score=0.013 total time=   1.8s\n",
      "[CV 2/5] END clf__C=0.1, clf__class_weight={0: 100, 1: 1}, clf__solver=lbfgs;, score=0.034 total time=   1.8s\n",
      "[CV 3/5] END clf__C=0.1, clf__class_weight={0: 100, 1: 1}, clf__solver=lbfgs;, score=0.042 total time=   1.8s\n",
      "[CV 4/5] END clf__C=0.1, clf__class_weight={0: 100, 1: 1}, clf__solver=lbfgs;, score=0.018 total time=   1.8s\n",
      "[CV 5/5] END clf__C=0.1, clf__class_weight={0: 100, 1: 1}, clf__solver=lbfgs;, score=0.031 total time=   1.8s\n",
      "[CV 1/5] END clf__C=0.1, clf__class_weight={0: 100, 1: 1}, clf__solver=liblinear;, score=0.013 total time=   1.8s\n",
      "[CV 2/5] END clf__C=0.1, clf__class_weight={0: 100, 1: 1}, clf__solver=liblinear;, score=0.034 total time=   1.8s\n",
      "[CV 3/5] END clf__C=0.1, clf__class_weight={0: 100, 1: 1}, clf__solver=liblinear;, score=0.042 total time=   1.8s\n",
      "[CV 4/5] END clf__C=0.1, clf__class_weight={0: 100, 1: 1}, clf__solver=liblinear;, score=0.018 total time=   1.8s\n",
      "[CV 5/5] END clf__C=0.1, clf__class_weight={0: 100, 1: 1}, clf__solver=liblinear;, score=0.028 total time=   1.8s\n"
     ]
    },
    {
     "name": "stderr",
     "output_type": "stream",
     "text": [
      "/opt/anaconda3/envs/test_env/lib/python3.10/site-packages/sklearn/linear_model/_sag.py:350: ConvergenceWarning: The max_iter was reached which means the coef_ did not converge\n",
      "  warnings.warn(\n"
     ]
    },
    {
     "name": "stdout",
     "output_type": "stream",
     "text": [
      "[CV 1/5] END clf__C=0.1, clf__class_weight={0: 100, 1: 1}, clf__solver=sag;, score=0.036 total time=   4.7s\n"
     ]
    },
    {
     "name": "stderr",
     "output_type": "stream",
     "text": [
      "/opt/anaconda3/envs/test_env/lib/python3.10/site-packages/sklearn/linear_model/_sag.py:350: ConvergenceWarning: The max_iter was reached which means the coef_ did not converge\n",
      "  warnings.warn(\n"
     ]
    },
    {
     "name": "stdout",
     "output_type": "stream",
     "text": [
      "[CV 2/5] END clf__C=0.1, clf__class_weight={0: 100, 1: 1}, clf__solver=sag;, score=0.039 total time=   5.1s\n"
     ]
    },
    {
     "name": "stderr",
     "output_type": "stream",
     "text": [
      "/opt/anaconda3/envs/test_env/lib/python3.10/site-packages/sklearn/linear_model/_sag.py:350: ConvergenceWarning: The max_iter was reached which means the coef_ did not converge\n",
      "  warnings.warn(\n"
     ]
    },
    {
     "name": "stdout",
     "output_type": "stream",
     "text": [
      "[CV 3/5] END clf__C=0.1, clf__class_weight={0: 100, 1: 1}, clf__solver=sag;, score=0.044 total time=   4.8s\n"
     ]
    },
    {
     "name": "stderr",
     "output_type": "stream",
     "text": [
      "/opt/anaconda3/envs/test_env/lib/python3.10/site-packages/sklearn/linear_model/_sag.py:350: ConvergenceWarning: The max_iter was reached which means the coef_ did not converge\n",
      "  warnings.warn(\n"
     ]
    },
    {
     "name": "stdout",
     "output_type": "stream",
     "text": [
      "[CV 4/5] END clf__C=0.1, clf__class_weight={0: 100, 1: 1}, clf__solver=sag;, score=0.016 total time=   4.5s\n"
     ]
    },
    {
     "name": "stderr",
     "output_type": "stream",
     "text": [
      "/opt/anaconda3/envs/test_env/lib/python3.10/site-packages/sklearn/linear_model/_sag.py:350: ConvergenceWarning: The max_iter was reached which means the coef_ did not converge\n",
      "  warnings.warn(\n"
     ]
    },
    {
     "name": "stdout",
     "output_type": "stream",
     "text": [
      "[CV 5/5] END clf__C=0.1, clf__class_weight={0: 100, 1: 1}, clf__solver=sag;, score=0.034 total time=   4.5s\n"
     ]
    },
    {
     "name": "stderr",
     "output_type": "stream",
     "text": [
      "/opt/anaconda3/envs/test_env/lib/python3.10/site-packages/sklearn/linear_model/_sag.py:350: ConvergenceWarning: The max_iter was reached which means the coef_ did not converge\n",
      "  warnings.warn(\n"
     ]
    },
    {
     "name": "stdout",
     "output_type": "stream",
     "text": [
      "[CV 1/5] END clf__C=0.1, clf__class_weight={0: 100, 1: 1}, clf__solver=saga;, score=0.016 total time=   4.6s\n"
     ]
    },
    {
     "name": "stderr",
     "output_type": "stream",
     "text": [
      "/opt/anaconda3/envs/test_env/lib/python3.10/site-packages/sklearn/linear_model/_sag.py:350: ConvergenceWarning: The max_iter was reached which means the coef_ did not converge\n",
      "  warnings.warn(\n"
     ]
    },
    {
     "name": "stdout",
     "output_type": "stream",
     "text": [
      "[CV 2/5] END clf__C=0.1, clf__class_weight={0: 100, 1: 1}, clf__solver=saga;, score=0.023 total time=   4.7s\n"
     ]
    },
    {
     "name": "stderr",
     "output_type": "stream",
     "text": [
      "/opt/anaconda3/envs/test_env/lib/python3.10/site-packages/sklearn/linear_model/_sag.py:350: ConvergenceWarning: The max_iter was reached which means the coef_ did not converge\n",
      "  warnings.warn(\n"
     ]
    },
    {
     "name": "stdout",
     "output_type": "stream",
     "text": [
      "[CV 3/5] END clf__C=0.1, clf__class_weight={0: 100, 1: 1}, clf__solver=saga;, score=0.042 total time=   4.8s\n"
     ]
    },
    {
     "name": "stderr",
     "output_type": "stream",
     "text": [
      "/opt/anaconda3/envs/test_env/lib/python3.10/site-packages/sklearn/linear_model/_sag.py:350: ConvergenceWarning: The max_iter was reached which means the coef_ did not converge\n",
      "  warnings.warn(\n"
     ]
    },
    {
     "name": "stdout",
     "output_type": "stream",
     "text": [
      "[CV 4/5] END clf__C=0.1, clf__class_weight={0: 100, 1: 1}, clf__solver=saga;, score=0.016 total time=   4.7s\n"
     ]
    },
    {
     "name": "stderr",
     "output_type": "stream",
     "text": [
      "/opt/anaconda3/envs/test_env/lib/python3.10/site-packages/sklearn/linear_model/_sag.py:350: ConvergenceWarning: The max_iter was reached which means the coef_ did not converge\n",
      "  warnings.warn(\n"
     ]
    },
    {
     "name": "stdout",
     "output_type": "stream",
     "text": [
      "[CV 5/5] END clf__C=0.1, clf__class_weight={0: 100, 1: 1}, clf__solver=saga;, score=0.034 total time=   4.6s\n",
      "[CV 1/5] END clf__C=0.1, clf__class_weight={0: 50, 1: 1}, clf__solver=lbfgs;, score=0.021 total time=   1.8s\n",
      "[CV 2/5] END clf__C=0.1, clf__class_weight={0: 50, 1: 1}, clf__solver=lbfgs;, score=0.044 total time=   1.8s\n",
      "[CV 3/5] END clf__C=0.1, clf__class_weight={0: 50, 1: 1}, clf__solver=lbfgs;, score=0.055 total time=   1.8s\n",
      "[CV 4/5] END clf__C=0.1, clf__class_weight={0: 50, 1: 1}, clf__solver=lbfgs;, score=0.034 total time=   1.8s\n",
      "[CV 5/5] END clf__C=0.1, clf__class_weight={0: 50, 1: 1}, clf__solver=lbfgs;, score=0.039 total time=   1.8s\n",
      "[CV 1/5] END clf__C=0.1, clf__class_weight={0: 50, 1: 1}, clf__solver=liblinear;, score=0.021 total time=   1.8s\n",
      "[CV 2/5] END clf__C=0.1, clf__class_weight={0: 50, 1: 1}, clf__solver=liblinear;, score=0.044 total time=   1.8s\n",
      "[CV 3/5] END clf__C=0.1, clf__class_weight={0: 50, 1: 1}, clf__solver=liblinear;, score=0.055 total time=   1.8s\n",
      "[CV 4/5] END clf__C=0.1, clf__class_weight={0: 50, 1: 1}, clf__solver=liblinear;, score=0.031 total time=   1.8s\n",
      "[CV 5/5] END clf__C=0.1, clf__class_weight={0: 50, 1: 1}, clf__solver=liblinear;, score=0.039 total time=   1.8s\n"
     ]
    },
    {
     "name": "stderr",
     "output_type": "stream",
     "text": [
      "/opt/anaconda3/envs/test_env/lib/python3.10/site-packages/sklearn/linear_model/_sag.py:350: ConvergenceWarning: The max_iter was reached which means the coef_ did not converge\n",
      "  warnings.warn(\n"
     ]
    },
    {
     "name": "stdout",
     "output_type": "stream",
     "text": [
      "[CV 1/5] END clf__C=0.1, clf__class_weight={0: 50, 1: 1}, clf__solver=sag;, score=0.026 total time=   4.8s\n"
     ]
    },
    {
     "name": "stderr",
     "output_type": "stream",
     "text": [
      "/opt/anaconda3/envs/test_env/lib/python3.10/site-packages/sklearn/linear_model/_sag.py:350: ConvergenceWarning: The max_iter was reached which means the coef_ did not converge\n",
      "  warnings.warn(\n"
     ]
    },
    {
     "name": "stdout",
     "output_type": "stream",
     "text": [
      "[CV 2/5] END clf__C=0.1, clf__class_weight={0: 50, 1: 1}, clf__solver=sag;, score=0.044 total time=   4.6s\n"
     ]
    },
    {
     "name": "stderr",
     "output_type": "stream",
     "text": [
      "/opt/anaconda3/envs/test_env/lib/python3.10/site-packages/sklearn/linear_model/_sag.py:350: ConvergenceWarning: The max_iter was reached which means the coef_ did not converge\n",
      "  warnings.warn(\n"
     ]
    },
    {
     "name": "stdout",
     "output_type": "stream",
     "text": [
      "[CV 3/5] END clf__C=0.1, clf__class_weight={0: 50, 1: 1}, clf__solver=sag;, score=0.057 total time=   4.8s\n"
     ]
    },
    {
     "name": "stderr",
     "output_type": "stream",
     "text": [
      "/opt/anaconda3/envs/test_env/lib/python3.10/site-packages/sklearn/linear_model/_sag.py:350: ConvergenceWarning: The max_iter was reached which means the coef_ did not converge\n",
      "  warnings.warn(\n"
     ]
    },
    {
     "name": "stdout",
     "output_type": "stream",
     "text": [
      "[CV 4/5] END clf__C=0.1, clf__class_weight={0: 50, 1: 1}, clf__solver=sag;, score=0.034 total time=   4.8s\n"
     ]
    },
    {
     "name": "stderr",
     "output_type": "stream",
     "text": [
      "/opt/anaconda3/envs/test_env/lib/python3.10/site-packages/sklearn/linear_model/_sag.py:350: ConvergenceWarning: The max_iter was reached which means the coef_ did not converge\n",
      "  warnings.warn(\n"
     ]
    },
    {
     "name": "stdout",
     "output_type": "stream",
     "text": [
      "[CV 5/5] END clf__C=0.1, clf__class_weight={0: 50, 1: 1}, clf__solver=sag;, score=0.039 total time=   4.7s\n"
     ]
    },
    {
     "name": "stderr",
     "output_type": "stream",
     "text": [
      "/opt/anaconda3/envs/test_env/lib/python3.10/site-packages/sklearn/linear_model/_sag.py:350: ConvergenceWarning: The max_iter was reached which means the coef_ did not converge\n",
      "  warnings.warn(\n"
     ]
    },
    {
     "name": "stdout",
     "output_type": "stream",
     "text": [
      "[CV 1/5] END clf__C=0.1, clf__class_weight={0: 50, 1: 1}, clf__solver=saga;, score=0.026 total time=   4.7s\n"
     ]
    },
    {
     "name": "stderr",
     "output_type": "stream",
     "text": [
      "/opt/anaconda3/envs/test_env/lib/python3.10/site-packages/sklearn/linear_model/_sag.py:350: ConvergenceWarning: The max_iter was reached which means the coef_ did not converge\n",
      "  warnings.warn(\n"
     ]
    },
    {
     "name": "stdout",
     "output_type": "stream",
     "text": [
      "[CV 2/5] END clf__C=0.1, clf__class_weight={0: 50, 1: 1}, clf__solver=saga;, score=0.042 total time=   4.7s\n",
      "[CV 3/5] END clf__C=0.1, clf__class_weight={0: 50, 1: 1}, clf__solver=saga;, score=0.055 total time=   4.2s\n"
     ]
    },
    {
     "name": "stderr",
     "output_type": "stream",
     "text": [
      "/opt/anaconda3/envs/test_env/lib/python3.10/site-packages/sklearn/linear_model/_sag.py:350: ConvergenceWarning: The max_iter was reached which means the coef_ did not converge\n",
      "  warnings.warn(\n"
     ]
    },
    {
     "name": "stdout",
     "output_type": "stream",
     "text": [
      "[CV 4/5] END clf__C=0.1, clf__class_weight={0: 50, 1: 1}, clf__solver=saga;, score=0.034 total time=   4.7s\n"
     ]
    },
    {
     "name": "stderr",
     "output_type": "stream",
     "text": [
      "/opt/anaconda3/envs/test_env/lib/python3.10/site-packages/sklearn/linear_model/_sag.py:350: ConvergenceWarning: The max_iter was reached which means the coef_ did not converge\n",
      "  warnings.warn(\n"
     ]
    },
    {
     "name": "stdout",
     "output_type": "stream",
     "text": [
      "[CV 5/5] END clf__C=0.1, clf__class_weight={0: 50, 1: 1}, clf__solver=saga;, score=0.039 total time=   4.7s\n",
      "[CV 1/5] END clf__C=0.5, clf__class_weight=None, clf__solver=lbfgs;, score=0.190 total time=   1.7s\n",
      "[CV 2/5] END clf__C=0.5, clf__class_weight=None, clf__solver=lbfgs;, score=0.216 total time=   1.7s\n",
      "[CV 3/5] END clf__C=0.5, clf__class_weight=None, clf__solver=lbfgs;, score=0.203 total time=   1.7s\n",
      "[CV 4/5] END clf__C=0.5, clf__class_weight=None, clf__solver=lbfgs;, score=0.228 total time=   1.7s\n",
      "[CV 5/5] END clf__C=0.5, clf__class_weight=None, clf__solver=lbfgs;, score=0.197 total time=   1.7s\n",
      "[CV 1/5] END clf__C=0.5, clf__class_weight=None, clf__solver=liblinear;, score=0.190 total time=   1.8s\n",
      "[CV 2/5] END clf__C=0.5, clf__class_weight=None, clf__solver=liblinear;, score=0.216 total time=   1.8s\n",
      "[CV 3/5] END clf__C=0.5, clf__class_weight=None, clf__solver=liblinear;, score=0.203 total time=   1.7s\n",
      "[CV 4/5] END clf__C=0.5, clf__class_weight=None, clf__solver=liblinear;, score=0.228 total time=   1.8s\n",
      "[CV 5/5] END clf__C=0.5, clf__class_weight=None, clf__solver=liblinear;, score=0.197 total time=   1.8s\n",
      "[CV 1/5] END clf__C=0.5, clf__class_weight=None, clf__solver=sag;, score=0.190 total time=   4.6s\n"
     ]
    },
    {
     "name": "stderr",
     "output_type": "stream",
     "text": [
      "/opt/anaconda3/envs/test_env/lib/python3.10/site-packages/sklearn/linear_model/_sag.py:350: ConvergenceWarning: The max_iter was reached which means the coef_ did not converge\n",
      "  warnings.warn(\n"
     ]
    },
    {
     "name": "stdout",
     "output_type": "stream",
     "text": [
      "[CV 2/5] END clf__C=0.5, clf__class_weight=None, clf__solver=sag;, score=0.216 total time=   5.0s\n"
     ]
    },
    {
     "name": "stderr",
     "output_type": "stream",
     "text": [
      "/opt/anaconda3/envs/test_env/lib/python3.10/site-packages/sklearn/linear_model/_sag.py:350: ConvergenceWarning: The max_iter was reached which means the coef_ did not converge\n",
      "  warnings.warn(\n"
     ]
    },
    {
     "name": "stdout",
     "output_type": "stream",
     "text": [
      "[CV 3/5] END clf__C=0.5, clf__class_weight=None, clf__solver=sag;, score=0.203 total time=   5.3s\n"
     ]
    },
    {
     "name": "stderr",
     "output_type": "stream",
     "text": [
      "/opt/anaconda3/envs/test_env/lib/python3.10/site-packages/sklearn/linear_model/_sag.py:350: ConvergenceWarning: The max_iter was reached which means the coef_ did not converge\n",
      "  warnings.warn(\n"
     ]
    },
    {
     "name": "stdout",
     "output_type": "stream",
     "text": [
      "[CV 4/5] END clf__C=0.5, clf__class_weight=None, clf__solver=sag;, score=0.228 total time=   5.6s\n"
     ]
    },
    {
     "name": "stderr",
     "output_type": "stream",
     "text": [
      "/opt/anaconda3/envs/test_env/lib/python3.10/site-packages/sklearn/linear_model/_sag.py:350: ConvergenceWarning: The max_iter was reached which means the coef_ did not converge\n",
      "  warnings.warn(\n"
     ]
    },
    {
     "name": "stdout",
     "output_type": "stream",
     "text": [
      "[CV 5/5] END clf__C=0.5, clf__class_weight=None, clf__solver=sag;, score=0.197 total time=   5.5s\n"
     ]
    },
    {
     "name": "stderr",
     "output_type": "stream",
     "text": [
      "/opt/anaconda3/envs/test_env/lib/python3.10/site-packages/sklearn/linear_model/_sag.py:350: ConvergenceWarning: The max_iter was reached which means the coef_ did not converge\n",
      "  warnings.warn(\n"
     ]
    },
    {
     "name": "stdout",
     "output_type": "stream",
     "text": [
      "[CV 1/5] END clf__C=0.5, clf__class_weight=None, clf__solver=saga;, score=0.190 total time=   5.6s\n"
     ]
    },
    {
     "name": "stderr",
     "output_type": "stream",
     "text": [
      "/opt/anaconda3/envs/test_env/lib/python3.10/site-packages/sklearn/linear_model/_sag.py:350: ConvergenceWarning: The max_iter was reached which means the coef_ did not converge\n",
      "  warnings.warn(\n"
     ]
    },
    {
     "name": "stdout",
     "output_type": "stream",
     "text": [
      "[CV 2/5] END clf__C=0.5, clf__class_weight=None, clf__solver=saga;, score=0.216 total time=   4.9s\n"
     ]
    },
    {
     "name": "stderr",
     "output_type": "stream",
     "text": [
      "/opt/anaconda3/envs/test_env/lib/python3.10/site-packages/sklearn/linear_model/_sag.py:350: ConvergenceWarning: The max_iter was reached which means the coef_ did not converge\n",
      "  warnings.warn(\n"
     ]
    },
    {
     "name": "stdout",
     "output_type": "stream",
     "text": [
      "[CV 3/5] END clf__C=0.5, clf__class_weight=None, clf__solver=saga;, score=0.205 total time=   4.8s\n"
     ]
    },
    {
     "name": "stderr",
     "output_type": "stream",
     "text": [
      "/opt/anaconda3/envs/test_env/lib/python3.10/site-packages/sklearn/linear_model/_sag.py:350: ConvergenceWarning: The max_iter was reached which means the coef_ did not converge\n",
      "  warnings.warn(\n"
     ]
    },
    {
     "name": "stdout",
     "output_type": "stream",
     "text": [
      "[CV 4/5] END clf__C=0.5, clf__class_weight=None, clf__solver=saga;, score=0.228 total time=   5.0s\n"
     ]
    },
    {
     "name": "stderr",
     "output_type": "stream",
     "text": [
      "/opt/anaconda3/envs/test_env/lib/python3.10/site-packages/sklearn/linear_model/_sag.py:350: ConvergenceWarning: The max_iter was reached which means the coef_ did not converge\n",
      "  warnings.warn(\n"
     ]
    },
    {
     "name": "stdout",
     "output_type": "stream",
     "text": [
      "[CV 5/5] END clf__C=0.5, clf__class_weight=None, clf__solver=saga;, score=0.197 total time=   5.8s\n",
      "[CV 1/5] END clf__C=0.5, clf__class_weight=balanced, clf__solver=lbfgs;, score=0.587 total time=   1.8s\n",
      "[CV 2/5] END clf__C=0.5, clf__class_weight=balanced, clf__solver=lbfgs;, score=0.530 total time=   1.7s\n",
      "[CV 3/5] END clf__C=0.5, clf__class_weight=balanced, clf__solver=lbfgs;, score=0.574 total time=   1.7s\n",
      "[CV 4/5] END clf__C=0.5, clf__class_weight=balanced, clf__solver=lbfgs;, score=0.593 total time=   1.7s\n",
      "[CV 5/5] END clf__C=0.5, clf__class_weight=balanced, clf__solver=lbfgs;, score=0.528 total time=   1.7s\n",
      "[CV 1/5] END clf__C=0.5, clf__class_weight=balanced, clf__solver=liblinear;, score=0.587 total time=   1.8s\n",
      "[CV 2/5] END clf__C=0.5, clf__class_weight=balanced, clf__solver=liblinear;, score=0.530 total time=   1.9s\n",
      "[CV 3/5] END clf__C=0.5, clf__class_weight=balanced, clf__solver=liblinear;, score=0.574 total time=   1.8s\n",
      "[CV 4/5] END clf__C=0.5, clf__class_weight=balanced, clf__solver=liblinear;, score=0.593 total time=   1.8s\n",
      "[CV 5/5] END clf__C=0.5, clf__class_weight=balanced, clf__solver=liblinear;, score=0.528 total time=   1.8s\n",
      "[CV 1/5] END clf__C=0.5, clf__class_weight=balanced, clf__solver=sag;, score=0.587 total time=   2.4s\n",
      "[CV 2/5] END clf__C=0.5, clf__class_weight=balanced, clf__solver=sag;, score=0.530 total time=   2.4s\n",
      "[CV 3/5] END clf__C=0.5, clf__class_weight=balanced, clf__solver=sag;, score=0.574 total time=   2.3s\n",
      "[CV 4/5] END clf__C=0.5, clf__class_weight=balanced, clf__solver=sag;, score=0.593 total time=   2.4s\n",
      "[CV 5/5] END clf__C=0.5, clf__class_weight=balanced, clf__solver=sag;, score=0.528 total time=   2.6s\n",
      "[CV 1/5] END clf__C=0.5, clf__class_weight=balanced, clf__solver=saga;, score=0.587 total time=   2.1s\n",
      "[CV 2/5] END clf__C=0.5, clf__class_weight=balanced, clf__solver=saga;, score=0.530 total time=   2.3s\n",
      "[CV 3/5] END clf__C=0.5, clf__class_weight=balanced, clf__solver=saga;, score=0.574 total time=   2.4s\n",
      "[CV 4/5] END clf__C=0.5, clf__class_weight=balanced, clf__solver=saga;, score=0.593 total time=   2.5s\n",
      "[CV 5/5] END clf__C=0.5, clf__class_weight=balanced, clf__solver=saga;, score=0.528 total time=   2.4s\n",
      "[CV 1/5] END clf__C=0.5, clf__class_weight={0: 100, 1: 1}, clf__solver=lbfgs;, score=0.013 total time=   1.9s\n",
      "[CV 2/5] END clf__C=0.5, clf__class_weight={0: 100, 1: 1}, clf__solver=lbfgs;, score=0.034 total time=   1.9s\n",
      "[CV 3/5] END clf__C=0.5, clf__class_weight={0: 100, 1: 1}, clf__solver=lbfgs;, score=0.042 total time=   1.9s\n",
      "[CV 4/5] END clf__C=0.5, clf__class_weight={0: 100, 1: 1}, clf__solver=lbfgs;, score=0.018 total time=   1.9s\n",
      "[CV 5/5] END clf__C=0.5, clf__class_weight={0: 100, 1: 1}, clf__solver=lbfgs;, score=0.031 total time=   1.9s\n",
      "[CV 1/5] END clf__C=0.5, clf__class_weight={0: 100, 1: 1}, clf__solver=liblinear;, score=0.013 total time=   1.8s\n",
      "[CV 2/5] END clf__C=0.5, clf__class_weight={0: 100, 1: 1}, clf__solver=liblinear;, score=0.034 total time=   1.9s\n",
      "[CV 3/5] END clf__C=0.5, clf__class_weight={0: 100, 1: 1}, clf__solver=liblinear;, score=0.042 total time=   1.9s\n",
      "[CV 4/5] END clf__C=0.5, clf__class_weight={0: 100, 1: 1}, clf__solver=liblinear;, score=0.018 total time=   1.9s\n",
      "[CV 5/5] END clf__C=0.5, clf__class_weight={0: 100, 1: 1}, clf__solver=liblinear;, score=0.031 total time=   1.9s\n"
     ]
    },
    {
     "name": "stderr",
     "output_type": "stream",
     "text": [
      "/opt/anaconda3/envs/test_env/lib/python3.10/site-packages/sklearn/linear_model/_sag.py:350: ConvergenceWarning: The max_iter was reached which means the coef_ did not converge\n",
      "  warnings.warn(\n"
     ]
    },
    {
     "name": "stdout",
     "output_type": "stream",
     "text": [
      "[CV 1/5] END clf__C=0.5, clf__class_weight={0: 100, 1: 1}, clf__solver=sag;, score=0.026 total time=   5.1s\n"
     ]
    },
    {
     "name": "stderr",
     "output_type": "stream",
     "text": [
      "/opt/anaconda3/envs/test_env/lib/python3.10/site-packages/sklearn/linear_model/_sag.py:350: ConvergenceWarning: The max_iter was reached which means the coef_ did not converge\n",
      "  warnings.warn(\n"
     ]
    },
    {
     "name": "stdout",
     "output_type": "stream",
     "text": [
      "[CV 2/5] END clf__C=0.5, clf__class_weight={0: 100, 1: 1}, clf__solver=sag;, score=0.013 total time=   6.1s\n"
     ]
    },
    {
     "name": "stderr",
     "output_type": "stream",
     "text": [
      "/opt/anaconda3/envs/test_env/lib/python3.10/site-packages/sklearn/linear_model/_sag.py:350: ConvergenceWarning: The max_iter was reached which means the coef_ did not converge\n",
      "  warnings.warn(\n"
     ]
    },
    {
     "name": "stdout",
     "output_type": "stream",
     "text": [
      "[CV 3/5] END clf__C=0.5, clf__class_weight={0: 100, 1: 1}, clf__solver=sag;, score=0.044 total time=   5.7s\n"
     ]
    },
    {
     "name": "stderr",
     "output_type": "stream",
     "text": [
      "/opt/anaconda3/envs/test_env/lib/python3.10/site-packages/sklearn/linear_model/_sag.py:350: ConvergenceWarning: The max_iter was reached which means the coef_ did not converge\n",
      "  warnings.warn(\n"
     ]
    },
    {
     "name": "stdout",
     "output_type": "stream",
     "text": [
      "[CV 4/5] END clf__C=0.5, clf__class_weight={0: 100, 1: 1}, clf__solver=sag;, score=0.016 total time=   5.4s\n"
     ]
    },
    {
     "name": "stderr",
     "output_type": "stream",
     "text": [
      "/opt/anaconda3/envs/test_env/lib/python3.10/site-packages/sklearn/linear_model/_sag.py:350: ConvergenceWarning: The max_iter was reached which means the coef_ did not converge\n",
      "  warnings.warn(\n"
     ]
    },
    {
     "name": "stdout",
     "output_type": "stream",
     "text": [
      "[CV 5/5] END clf__C=0.5, clf__class_weight={0: 100, 1: 1}, clf__solver=sag;, score=0.023 total time=   5.4s\n"
     ]
    },
    {
     "name": "stderr",
     "output_type": "stream",
     "text": [
      "/opt/anaconda3/envs/test_env/lib/python3.10/site-packages/sklearn/linear_model/_sag.py:350: ConvergenceWarning: The max_iter was reached which means the coef_ did not converge\n",
      "  warnings.warn(\n"
     ]
    },
    {
     "name": "stdout",
     "output_type": "stream",
     "text": [
      "[CV 1/5] END clf__C=0.5, clf__class_weight={0: 100, 1: 1}, clf__solver=saga;, score=0.005 total time=   5.4s\n"
     ]
    },
    {
     "name": "stderr",
     "output_type": "stream",
     "text": [
      "/opt/anaconda3/envs/test_env/lib/python3.10/site-packages/sklearn/linear_model/_sag.py:350: ConvergenceWarning: The max_iter was reached which means the coef_ did not converge\n",
      "  warnings.warn(\n"
     ]
    },
    {
     "name": "stdout",
     "output_type": "stream",
     "text": [
      "[CV 2/5] END clf__C=0.5, clf__class_weight={0: 100, 1: 1}, clf__solver=saga;, score=0.023 total time=   5.5s\n"
     ]
    },
    {
     "name": "stderr",
     "output_type": "stream",
     "text": [
      "/opt/anaconda3/envs/test_env/lib/python3.10/site-packages/sklearn/linear_model/_sag.py:350: ConvergenceWarning: The max_iter was reached which means the coef_ did not converge\n",
      "  warnings.warn(\n"
     ]
    },
    {
     "name": "stdout",
     "output_type": "stream",
     "text": [
      "[CV 3/5] END clf__C=0.5, clf__class_weight={0: 100, 1: 1}, clf__solver=saga;, score=0.042 total time=   5.3s\n"
     ]
    },
    {
     "name": "stderr",
     "output_type": "stream",
     "text": [
      "/opt/anaconda3/envs/test_env/lib/python3.10/site-packages/sklearn/linear_model/_sag.py:350: ConvergenceWarning: The max_iter was reached which means the coef_ did not converge\n",
      "  warnings.warn(\n"
     ]
    },
    {
     "name": "stdout",
     "output_type": "stream",
     "text": [
      "[CV 4/5] END clf__C=0.5, clf__class_weight={0: 100, 1: 1}, clf__solver=saga;, score=0.016 total time=   5.4s\n"
     ]
    },
    {
     "name": "stderr",
     "output_type": "stream",
     "text": [
      "/opt/anaconda3/envs/test_env/lib/python3.10/site-packages/sklearn/linear_model/_sag.py:350: ConvergenceWarning: The max_iter was reached which means the coef_ did not converge\n",
      "  warnings.warn(\n"
     ]
    },
    {
     "name": "stdout",
     "output_type": "stream",
     "text": [
      "[CV 5/5] END clf__C=0.5, clf__class_weight={0: 100, 1: 1}, clf__solver=saga;, score=0.034 total time=   5.6s\n",
      "[CV 1/5] END clf__C=0.5, clf__class_weight={0: 50, 1: 1}, clf__solver=lbfgs;, score=0.021 total time=   1.9s\n",
      "[CV 2/5] END clf__C=0.5, clf__class_weight={0: 50, 1: 1}, clf__solver=lbfgs;, score=0.044 total time=   1.9s\n",
      "[CV 3/5] END clf__C=0.5, clf__class_weight={0: 50, 1: 1}, clf__solver=lbfgs;, score=0.055 total time=   1.8s\n",
      "[CV 4/5] END clf__C=0.5, clf__class_weight={0: 50, 1: 1}, clf__solver=lbfgs;, score=0.034 total time=   1.8s\n",
      "[CV 5/5] END clf__C=0.5, clf__class_weight={0: 50, 1: 1}, clf__solver=lbfgs;, score=0.039 total time=   1.8s\n",
      "[CV 1/5] END clf__C=0.5, clf__class_weight={0: 50, 1: 1}, clf__solver=liblinear;, score=0.021 total time=   1.8s\n",
      "[CV 2/5] END clf__C=0.5, clf__class_weight={0: 50, 1: 1}, clf__solver=liblinear;, score=0.044 total time=   1.8s\n",
      "[CV 3/5] END clf__C=0.5, clf__class_weight={0: 50, 1: 1}, clf__solver=liblinear;, score=0.055 total time=   1.8s\n",
      "[CV 4/5] END clf__C=0.5, clf__class_weight={0: 50, 1: 1}, clf__solver=liblinear;, score=0.034 total time=   1.8s\n",
      "[CV 5/5] END clf__C=0.5, clf__class_weight={0: 50, 1: 1}, clf__solver=liblinear;, score=0.039 total time=   1.8s\n"
     ]
    },
    {
     "name": "stderr",
     "output_type": "stream",
     "text": [
      "/opt/anaconda3/envs/test_env/lib/python3.10/site-packages/sklearn/linear_model/_sag.py:350: ConvergenceWarning: The max_iter was reached which means the coef_ did not converge\n",
      "  warnings.warn(\n"
     ]
    },
    {
     "name": "stdout",
     "output_type": "stream",
     "text": [
      "[CV 1/5] END clf__C=0.5, clf__class_weight={0: 50, 1: 1}, clf__solver=sag;, score=0.016 total time=   5.1s\n"
     ]
    },
    {
     "name": "stderr",
     "output_type": "stream",
     "text": [
      "/opt/anaconda3/envs/test_env/lib/python3.10/site-packages/sklearn/linear_model/_sag.py:350: ConvergenceWarning: The max_iter was reached which means the coef_ did not converge\n",
      "  warnings.warn(\n"
     ]
    },
    {
     "name": "stdout",
     "output_type": "stream",
     "text": [
      "[CV 2/5] END clf__C=0.5, clf__class_weight={0: 50, 1: 1}, clf__solver=sag;, score=0.044 total time=   5.0s\n"
     ]
    },
    {
     "name": "stderr",
     "output_type": "stream",
     "text": [
      "/opt/anaconda3/envs/test_env/lib/python3.10/site-packages/sklearn/linear_model/_sag.py:350: ConvergenceWarning: The max_iter was reached which means the coef_ did not converge\n",
      "  warnings.warn(\n"
     ]
    },
    {
     "name": "stdout",
     "output_type": "stream",
     "text": [
      "[CV 3/5] END clf__C=0.5, clf__class_weight={0: 50, 1: 1}, clf__solver=sag;, score=0.057 total time=   4.9s\n"
     ]
    },
    {
     "name": "stderr",
     "output_type": "stream",
     "text": [
      "/opt/anaconda3/envs/test_env/lib/python3.10/site-packages/sklearn/linear_model/_sag.py:350: ConvergenceWarning: The max_iter was reached which means the coef_ did not converge\n",
      "  warnings.warn(\n"
     ]
    },
    {
     "name": "stdout",
     "output_type": "stream",
     "text": [
      "[CV 4/5] END clf__C=0.5, clf__class_weight={0: 50, 1: 1}, clf__solver=sag;, score=0.034 total time=   5.0s\n"
     ]
    },
    {
     "name": "stderr",
     "output_type": "stream",
     "text": [
      "/opt/anaconda3/envs/test_env/lib/python3.10/site-packages/sklearn/linear_model/_sag.py:350: ConvergenceWarning: The max_iter was reached which means the coef_ did not converge\n",
      "  warnings.warn(\n"
     ]
    },
    {
     "name": "stdout",
     "output_type": "stream",
     "text": [
      "[CV 5/5] END clf__C=0.5, clf__class_weight={0: 50, 1: 1}, clf__solver=sag;, score=0.036 total time=   5.7s\n"
     ]
    },
    {
     "name": "stderr",
     "output_type": "stream",
     "text": [
      "/opt/anaconda3/envs/test_env/lib/python3.10/site-packages/sklearn/linear_model/_sag.py:350: ConvergenceWarning: The max_iter was reached which means the coef_ did not converge\n",
      "  warnings.warn(\n"
     ]
    },
    {
     "name": "stdout",
     "output_type": "stream",
     "text": [
      "[CV 1/5] END clf__C=0.5, clf__class_weight={0: 50, 1: 1}, clf__solver=saga;, score=0.026 total time=   5.1s\n"
     ]
    },
    {
     "name": "stderr",
     "output_type": "stream",
     "text": [
      "/opt/anaconda3/envs/test_env/lib/python3.10/site-packages/sklearn/linear_model/_sag.py:350: ConvergenceWarning: The max_iter was reached which means the coef_ did not converge\n",
      "  warnings.warn(\n"
     ]
    },
    {
     "name": "stdout",
     "output_type": "stream",
     "text": [
      "[CV 2/5] END clf__C=0.5, clf__class_weight={0: 50, 1: 1}, clf__solver=saga;, score=0.042 total time=   5.2s\n"
     ]
    },
    {
     "name": "stderr",
     "output_type": "stream",
     "text": [
      "/opt/anaconda3/envs/test_env/lib/python3.10/site-packages/sklearn/linear_model/_sag.py:350: ConvergenceWarning: The max_iter was reached which means the coef_ did not converge\n",
      "  warnings.warn(\n"
     ]
    },
    {
     "name": "stdout",
     "output_type": "stream",
     "text": [
      "[CV 3/5] END clf__C=0.5, clf__class_weight={0: 50, 1: 1}, clf__solver=saga;, score=0.055 total time=   5.2s\n"
     ]
    },
    {
     "name": "stderr",
     "output_type": "stream",
     "text": [
      "/opt/anaconda3/envs/test_env/lib/python3.10/site-packages/sklearn/linear_model/_sag.py:350: ConvergenceWarning: The max_iter was reached which means the coef_ did not converge\n",
      "  warnings.warn(\n"
     ]
    },
    {
     "name": "stdout",
     "output_type": "stream",
     "text": [
      "[CV 4/5] END clf__C=0.5, clf__class_weight={0: 50, 1: 1}, clf__solver=saga;, score=0.034 total time=   5.2s\n"
     ]
    },
    {
     "name": "stderr",
     "output_type": "stream",
     "text": [
      "/opt/anaconda3/envs/test_env/lib/python3.10/site-packages/sklearn/linear_model/_sag.py:350: ConvergenceWarning: The max_iter was reached which means the coef_ did not converge\n",
      "  warnings.warn(\n"
     ]
    },
    {
     "name": "stdout",
     "output_type": "stream",
     "text": [
      "[CV 5/5] END clf__C=0.5, clf__class_weight={0: 50, 1: 1}, clf__solver=saga;, score=0.039 total time=   5.0s\n",
      "[CV 1/5] END clf__C=1, clf__class_weight=None, clf__solver=lbfgs;, score=0.190 total time=   1.8s\n",
      "[CV 2/5] END clf__C=1, clf__class_weight=None, clf__solver=lbfgs;, score=0.216 total time=   1.7s\n",
      "[CV 3/5] END clf__C=1, clf__class_weight=None, clf__solver=lbfgs;, score=0.203 total time=   1.8s\n",
      "[CV 4/5] END clf__C=1, clf__class_weight=None, clf__solver=lbfgs;, score=0.228 total time=   1.7s\n",
      "[CV 5/5] END clf__C=1, clf__class_weight=None, clf__solver=lbfgs;, score=0.197 total time=   1.7s\n",
      "[CV 1/5] END clf__C=1, clf__class_weight=None, clf__solver=liblinear;, score=0.190 total time=   1.8s\n",
      "[CV 2/5] END clf__C=1, clf__class_weight=None, clf__solver=liblinear;, score=0.216 total time=   1.8s\n",
      "[CV 3/5] END clf__C=1, clf__class_weight=None, clf__solver=liblinear;, score=0.203 total time=   1.8s\n",
      "[CV 4/5] END clf__C=1, clf__class_weight=None, clf__solver=liblinear;, score=0.228 total time=   1.8s\n",
      "[CV 5/5] END clf__C=1, clf__class_weight=None, clf__solver=liblinear;, score=0.197 total time=   1.8s\n",
      "[CV 1/5] END clf__C=1, clf__class_weight=None, clf__solver=sag;, score=0.190 total time=   5.0s\n"
     ]
    },
    {
     "name": "stderr",
     "output_type": "stream",
     "text": [
      "/opt/anaconda3/envs/test_env/lib/python3.10/site-packages/sklearn/linear_model/_sag.py:350: ConvergenceWarning: The max_iter was reached which means the coef_ did not converge\n",
      "  warnings.warn(\n"
     ]
    },
    {
     "name": "stdout",
     "output_type": "stream",
     "text": [
      "[CV 2/5] END clf__C=1, clf__class_weight=None, clf__solver=sag;, score=0.216 total time=   5.2s\n"
     ]
    },
    {
     "name": "stderr",
     "output_type": "stream",
     "text": [
      "/opt/anaconda3/envs/test_env/lib/python3.10/site-packages/sklearn/linear_model/_sag.py:350: ConvergenceWarning: The max_iter was reached which means the coef_ did not converge\n",
      "  warnings.warn(\n"
     ]
    },
    {
     "name": "stdout",
     "output_type": "stream",
     "text": [
      "[CV 3/5] END clf__C=1, clf__class_weight=None, clf__solver=sag;, score=0.203 total time=   5.2s\n"
     ]
    },
    {
     "name": "stderr",
     "output_type": "stream",
     "text": [
      "/opt/anaconda3/envs/test_env/lib/python3.10/site-packages/sklearn/linear_model/_sag.py:350: ConvergenceWarning: The max_iter was reached which means the coef_ did not converge\n",
      "  warnings.warn(\n"
     ]
    },
    {
     "name": "stdout",
     "output_type": "stream",
     "text": [
      "[CV 4/5] END clf__C=1, clf__class_weight=None, clf__solver=sag;, score=0.228 total time=   5.1s\n"
     ]
    },
    {
     "name": "stderr",
     "output_type": "stream",
     "text": [
      "/opt/anaconda3/envs/test_env/lib/python3.10/site-packages/sklearn/linear_model/_sag.py:350: ConvergenceWarning: The max_iter was reached which means the coef_ did not converge\n",
      "  warnings.warn(\n"
     ]
    },
    {
     "name": "stdout",
     "output_type": "stream",
     "text": [
      "[CV 5/5] END clf__C=1, clf__class_weight=None, clf__solver=sag;, score=0.197 total time=   5.0s\n"
     ]
    },
    {
     "name": "stderr",
     "output_type": "stream",
     "text": [
      "/opt/anaconda3/envs/test_env/lib/python3.10/site-packages/sklearn/linear_model/_sag.py:350: ConvergenceWarning: The max_iter was reached which means the coef_ did not converge\n",
      "  warnings.warn(\n"
     ]
    },
    {
     "name": "stdout",
     "output_type": "stream",
     "text": [
      "[CV 1/5] END clf__C=1, clf__class_weight=None, clf__solver=saga;, score=0.190 total time=   5.4s\n"
     ]
    },
    {
     "name": "stderr",
     "output_type": "stream",
     "text": [
      "/opt/anaconda3/envs/test_env/lib/python3.10/site-packages/sklearn/linear_model/_sag.py:350: ConvergenceWarning: The max_iter was reached which means the coef_ did not converge\n",
      "  warnings.warn(\n"
     ]
    },
    {
     "name": "stdout",
     "output_type": "stream",
     "text": [
      "[CV 2/5] END clf__C=1, clf__class_weight=None, clf__solver=saga;, score=0.216 total time=   5.4s\n"
     ]
    },
    {
     "name": "stderr",
     "output_type": "stream",
     "text": [
      "/opt/anaconda3/envs/test_env/lib/python3.10/site-packages/sklearn/linear_model/_sag.py:350: ConvergenceWarning: The max_iter was reached which means the coef_ did not converge\n",
      "  warnings.warn(\n"
     ]
    },
    {
     "name": "stdout",
     "output_type": "stream",
     "text": [
      "[CV 3/5] END clf__C=1, clf__class_weight=None, clf__solver=saga;, score=0.205 total time=   5.2s\n"
     ]
    },
    {
     "name": "stderr",
     "output_type": "stream",
     "text": [
      "/opt/anaconda3/envs/test_env/lib/python3.10/site-packages/sklearn/linear_model/_sag.py:350: ConvergenceWarning: The max_iter was reached which means the coef_ did not converge\n",
      "  warnings.warn(\n"
     ]
    },
    {
     "name": "stdout",
     "output_type": "stream",
     "text": [
      "[CV 4/5] END clf__C=1, clf__class_weight=None, clf__solver=saga;, score=0.228 total time=   5.6s\n"
     ]
    },
    {
     "name": "stderr",
     "output_type": "stream",
     "text": [
      "/opt/anaconda3/envs/test_env/lib/python3.10/site-packages/sklearn/linear_model/_sag.py:350: ConvergenceWarning: The max_iter was reached which means the coef_ did not converge\n",
      "  warnings.warn(\n"
     ]
    },
    {
     "name": "stdout",
     "output_type": "stream",
     "text": [
      "[CV 5/5] END clf__C=1, clf__class_weight=None, clf__solver=saga;, score=0.197 total time=   6.1s\n",
      "[CV 1/5] END clf__C=1, clf__class_weight=balanced, clf__solver=lbfgs;, score=0.587 total time=   1.8s\n",
      "[CV 2/5] END clf__C=1, clf__class_weight=balanced, clf__solver=lbfgs;, score=0.530 total time=   1.8s\n",
      "[CV 3/5] END clf__C=1, clf__class_weight=balanced, clf__solver=lbfgs;, score=0.574 total time=   1.7s\n",
      "[CV 4/5] END clf__C=1, clf__class_weight=balanced, clf__solver=lbfgs;, score=0.593 total time=   1.7s\n",
      "[CV 5/5] END clf__C=1, clf__class_weight=balanced, clf__solver=lbfgs;, score=0.528 total time=   1.7s\n",
      "[CV 1/5] END clf__C=1, clf__class_weight=balanced, clf__solver=liblinear;, score=0.587 total time=   1.8s\n",
      "[CV 2/5] END clf__C=1, clf__class_weight=balanced, clf__solver=liblinear;, score=0.530 total time=   1.7s\n",
      "[CV 3/5] END clf__C=1, clf__class_weight=balanced, clf__solver=liblinear;, score=0.574 total time=   1.8s\n",
      "[CV 4/5] END clf__C=1, clf__class_weight=balanced, clf__solver=liblinear;, score=0.593 total time=   1.8s\n",
      "[CV 5/5] END clf__C=1, clf__class_weight=balanced, clf__solver=liblinear;, score=0.528 total time=   1.8s\n",
      "[CV 1/5] END clf__C=1, clf__class_weight=balanced, clf__solver=sag;, score=0.587 total time=   2.4s\n",
      "[CV 2/5] END clf__C=1, clf__class_weight=balanced, clf__solver=sag;, score=0.530 total time=   2.3s\n",
      "[CV 3/5] END clf__C=1, clf__class_weight=balanced, clf__solver=sag;, score=0.574 total time=   2.3s\n",
      "[CV 4/5] END clf__C=1, clf__class_weight=balanced, clf__solver=sag;, score=0.593 total time=   2.4s\n",
      "[CV 5/5] END clf__C=1, clf__class_weight=balanced, clf__solver=sag;, score=0.528 total time=   2.3s\n",
      "[CV 1/5] END clf__C=1, clf__class_weight=balanced, clf__solver=saga;, score=0.587 total time=   2.1s\n",
      "[CV 2/5] END clf__C=1, clf__class_weight=balanced, clf__solver=saga;, score=0.530 total time=   2.3s\n",
      "[CV 3/5] END clf__C=1, clf__class_weight=balanced, clf__solver=saga;, score=0.574 total time=   2.3s\n",
      "[CV 4/5] END clf__C=1, clf__class_weight=balanced, clf__solver=saga;, score=0.593 total time=   2.3s\n",
      "[CV 5/5] END clf__C=1, clf__class_weight=balanced, clf__solver=saga;, score=0.528 total time=   2.4s\n",
      "[CV 1/5] END clf__C=1, clf__class_weight={0: 100, 1: 1}, clf__solver=lbfgs;, score=0.013 total time=   1.9s\n",
      "[CV 2/5] END clf__C=1, clf__class_weight={0: 100, 1: 1}, clf__solver=lbfgs;, score=0.034 total time=   1.9s\n",
      "[CV 3/5] END clf__C=1, clf__class_weight={0: 100, 1: 1}, clf__solver=lbfgs;, score=0.042 total time=   1.8s\n",
      "[CV 4/5] END clf__C=1, clf__class_weight={0: 100, 1: 1}, clf__solver=lbfgs;, score=0.018 total time=   1.9s\n",
      "[CV 5/5] END clf__C=1, clf__class_weight={0: 100, 1: 1}, clf__solver=lbfgs;, score=0.031 total time=   1.9s\n",
      "[CV 1/5] END clf__C=1, clf__class_weight={0: 100, 1: 1}, clf__solver=liblinear;, score=0.013 total time=   1.9s\n",
      "[CV 2/5] END clf__C=1, clf__class_weight={0: 100, 1: 1}, clf__solver=liblinear;, score=0.034 total time=   1.9s\n",
      "[CV 3/5] END clf__C=1, clf__class_weight={0: 100, 1: 1}, clf__solver=liblinear;, score=0.042 total time=   1.8s\n",
      "[CV 4/5] END clf__C=1, clf__class_weight={0: 100, 1: 1}, clf__solver=liblinear;, score=0.018 total time=   1.8s\n",
      "[CV 5/5] END clf__C=1, clf__class_weight={0: 100, 1: 1}, clf__solver=liblinear;, score=0.031 total time=   1.8s\n"
     ]
    },
    {
     "name": "stderr",
     "output_type": "stream",
     "text": [
      "/opt/anaconda3/envs/test_env/lib/python3.10/site-packages/sklearn/linear_model/_sag.py:350: ConvergenceWarning: The max_iter was reached which means the coef_ did not converge\n",
      "  warnings.warn(\n"
     ]
    },
    {
     "name": "stdout",
     "output_type": "stream",
     "text": [
      "[CV 1/5] END clf__C=1, clf__class_weight={0: 100, 1: 1}, clf__solver=sag;, score=0.000 total time=   5.1s\n"
     ]
    },
    {
     "name": "stderr",
     "output_type": "stream",
     "text": [
      "/opt/anaconda3/envs/test_env/lib/python3.10/site-packages/sklearn/linear_model/_sag.py:350: ConvergenceWarning: The max_iter was reached which means the coef_ did not converge\n",
      "  warnings.warn(\n"
     ]
    },
    {
     "name": "stdout",
     "output_type": "stream",
     "text": [
      "[CV 2/5] END clf__C=1, clf__class_weight={0: 100, 1: 1}, clf__solver=sag;, score=0.013 total time=   5.0s\n"
     ]
    },
    {
     "name": "stderr",
     "output_type": "stream",
     "text": [
      "/opt/anaconda3/envs/test_env/lib/python3.10/site-packages/sklearn/linear_model/_sag.py:350: ConvergenceWarning: The max_iter was reached which means the coef_ did not converge\n",
      "  warnings.warn(\n"
     ]
    },
    {
     "name": "stdout",
     "output_type": "stream",
     "text": [
      "[CV 3/5] END clf__C=1, clf__class_weight={0: 100, 1: 1}, clf__solver=sag;, score=0.044 total time=   5.7s\n"
     ]
    },
    {
     "name": "stderr",
     "output_type": "stream",
     "text": [
      "/opt/anaconda3/envs/test_env/lib/python3.10/site-packages/sklearn/linear_model/_sag.py:350: ConvergenceWarning: The max_iter was reached which means the coef_ did not converge\n",
      "  warnings.warn(\n"
     ]
    },
    {
     "name": "stdout",
     "output_type": "stream",
     "text": [
      "[CV 4/5] END clf__C=1, clf__class_weight={0: 100, 1: 1}, clf__solver=sag;, score=0.018 total time=   5.7s\n"
     ]
    },
    {
     "name": "stderr",
     "output_type": "stream",
     "text": [
      "/opt/anaconda3/envs/test_env/lib/python3.10/site-packages/sklearn/linear_model/_sag.py:350: ConvergenceWarning: The max_iter was reached which means the coef_ did not converge\n",
      "  warnings.warn(\n"
     ]
    },
    {
     "name": "stdout",
     "output_type": "stream",
     "text": [
      "[CV 5/5] END clf__C=1, clf__class_weight={0: 100, 1: 1}, clf__solver=sag;, score=0.021 total time=   5.4s\n"
     ]
    },
    {
     "name": "stderr",
     "output_type": "stream",
     "text": [
      "/opt/anaconda3/envs/test_env/lib/python3.10/site-packages/sklearn/linear_model/_sag.py:350: ConvergenceWarning: The max_iter was reached which means the coef_ did not converge\n",
      "  warnings.warn(\n"
     ]
    },
    {
     "name": "stdout",
     "output_type": "stream",
     "text": [
      "[CV 1/5] END clf__C=1, clf__class_weight={0: 100, 1: 1}, clf__solver=saga;, score=0.010 total time=   5.2s\n"
     ]
    },
    {
     "name": "stderr",
     "output_type": "stream",
     "text": [
      "/opt/anaconda3/envs/test_env/lib/python3.10/site-packages/sklearn/linear_model/_sag.py:350: ConvergenceWarning: The max_iter was reached which means the coef_ did not converge\n",
      "  warnings.warn(\n"
     ]
    },
    {
     "name": "stdout",
     "output_type": "stream",
     "text": [
      "[CV 2/5] END clf__C=1, clf__class_weight={0: 100, 1: 1}, clf__solver=saga;, score=0.023 total time=   5.8s\n"
     ]
    },
    {
     "name": "stderr",
     "output_type": "stream",
     "text": [
      "/opt/anaconda3/envs/test_env/lib/python3.10/site-packages/sklearn/linear_model/_sag.py:350: ConvergenceWarning: The max_iter was reached which means the coef_ did not converge\n",
      "  warnings.warn(\n"
     ]
    },
    {
     "name": "stdout",
     "output_type": "stream",
     "text": [
      "[CV 3/5] END clf__C=1, clf__class_weight={0: 100, 1: 1}, clf__solver=saga;, score=0.042 total time=   5.5s\n"
     ]
    },
    {
     "name": "stderr",
     "output_type": "stream",
     "text": [
      "/opt/anaconda3/envs/test_env/lib/python3.10/site-packages/sklearn/linear_model/_sag.py:350: ConvergenceWarning: The max_iter was reached which means the coef_ did not converge\n",
      "  warnings.warn(\n"
     ]
    },
    {
     "name": "stdout",
     "output_type": "stream",
     "text": [
      "[CV 4/5] END clf__C=1, clf__class_weight={0: 100, 1: 1}, clf__solver=saga;, score=0.016 total time=   5.2s\n"
     ]
    },
    {
     "name": "stderr",
     "output_type": "stream",
     "text": [
      "/opt/anaconda3/envs/test_env/lib/python3.10/site-packages/sklearn/linear_model/_sag.py:350: ConvergenceWarning: The max_iter was reached which means the coef_ did not converge\n",
      "  warnings.warn(\n"
     ]
    },
    {
     "name": "stdout",
     "output_type": "stream",
     "text": [
      "[CV 5/5] END clf__C=1, clf__class_weight={0: 100, 1: 1}, clf__solver=saga;, score=0.034 total time=   5.4s\n",
      "[CV 1/5] END clf__C=1, clf__class_weight={0: 50, 1: 1}, clf__solver=lbfgs;, score=0.021 total time=   1.8s\n",
      "[CV 2/5] END clf__C=1, clf__class_weight={0: 50, 1: 1}, clf__solver=lbfgs;, score=0.044 total time=   1.9s\n",
      "[CV 3/5] END clf__C=1, clf__class_weight={0: 50, 1: 1}, clf__solver=lbfgs;, score=0.055 total time=   1.9s\n",
      "[CV 4/5] END clf__C=1, clf__class_weight={0: 50, 1: 1}, clf__solver=lbfgs;, score=0.034 total time=   1.8s\n",
      "[CV 5/5] END clf__C=1, clf__class_weight={0: 50, 1: 1}, clf__solver=lbfgs;, score=0.039 total time=   1.9s\n",
      "[CV 1/5] END clf__C=1, clf__class_weight={0: 50, 1: 1}, clf__solver=liblinear;, score=0.021 total time=   1.9s\n",
      "[CV 2/5] END clf__C=1, clf__class_weight={0: 50, 1: 1}, clf__solver=liblinear;, score=0.044 total time=   1.9s\n",
      "[CV 3/5] END clf__C=1, clf__class_weight={0: 50, 1: 1}, clf__solver=liblinear;, score=0.055 total time=   1.8s\n",
      "[CV 4/5] END clf__C=1, clf__class_weight={0: 50, 1: 1}, clf__solver=liblinear;, score=0.034 total time=   1.8s\n",
      "[CV 5/5] END clf__C=1, clf__class_weight={0: 50, 1: 1}, clf__solver=liblinear;, score=0.039 total time=   1.8s\n"
     ]
    },
    {
     "name": "stderr",
     "output_type": "stream",
     "text": [
      "/opt/anaconda3/envs/test_env/lib/python3.10/site-packages/sklearn/linear_model/_sag.py:350: ConvergenceWarning: The max_iter was reached which means the coef_ did not converge\n",
      "  warnings.warn(\n"
     ]
    },
    {
     "name": "stdout",
     "output_type": "stream",
     "text": [
      "[CV 1/5] END clf__C=1, clf__class_weight={0: 50, 1: 1}, clf__solver=sag;, score=0.018 total time=   4.9s\n"
     ]
    },
    {
     "name": "stderr",
     "output_type": "stream",
     "text": [
      "/opt/anaconda3/envs/test_env/lib/python3.10/site-packages/sklearn/linear_model/_sag.py:350: ConvergenceWarning: The max_iter was reached which means the coef_ did not converge\n",
      "  warnings.warn(\n"
     ]
    },
    {
     "name": "stdout",
     "output_type": "stream",
     "text": [
      "[CV 2/5] END clf__C=1, clf__class_weight={0: 50, 1: 1}, clf__solver=sag;, score=0.047 total time=   5.7s\n"
     ]
    },
    {
     "name": "stderr",
     "output_type": "stream",
     "text": [
      "/opt/anaconda3/envs/test_env/lib/python3.10/site-packages/sklearn/linear_model/_sag.py:350: ConvergenceWarning: The max_iter was reached which means the coef_ did not converge\n",
      "  warnings.warn(\n"
     ]
    },
    {
     "name": "stdout",
     "output_type": "stream",
     "text": [
      "[CV 3/5] END clf__C=1, clf__class_weight={0: 50, 1: 1}, clf__solver=sag;, score=0.057 total time=   5.4s\n"
     ]
    },
    {
     "name": "stderr",
     "output_type": "stream",
     "text": [
      "/opt/anaconda3/envs/test_env/lib/python3.10/site-packages/sklearn/linear_model/_sag.py:350: ConvergenceWarning: The max_iter was reached which means the coef_ did not converge\n",
      "  warnings.warn(\n"
     ]
    },
    {
     "name": "stdout",
     "output_type": "stream",
     "text": [
      "[CV 4/5] END clf__C=1, clf__class_weight={0: 50, 1: 1}, clf__solver=sag;, score=0.034 total time=   5.0s\n"
     ]
    },
    {
     "name": "stderr",
     "output_type": "stream",
     "text": [
      "/opt/anaconda3/envs/test_env/lib/python3.10/site-packages/sklearn/linear_model/_sag.py:350: ConvergenceWarning: The max_iter was reached which means the coef_ did not converge\n",
      "  warnings.warn(\n"
     ]
    },
    {
     "name": "stdout",
     "output_type": "stream",
     "text": [
      "[CV 5/5] END clf__C=1, clf__class_weight={0: 50, 1: 1}, clf__solver=sag;, score=0.036 total time=   5.1s\n"
     ]
    },
    {
     "name": "stderr",
     "output_type": "stream",
     "text": [
      "/opt/anaconda3/envs/test_env/lib/python3.10/site-packages/sklearn/linear_model/_sag.py:350: ConvergenceWarning: The max_iter was reached which means the coef_ did not converge\n",
      "  warnings.warn(\n"
     ]
    },
    {
     "name": "stdout",
     "output_type": "stream",
     "text": [
      "[CV 1/5] END clf__C=1, clf__class_weight={0: 50, 1: 1}, clf__solver=saga;, score=0.026 total time=   5.0s\n"
     ]
    },
    {
     "name": "stderr",
     "output_type": "stream",
     "text": [
      "/opt/anaconda3/envs/test_env/lib/python3.10/site-packages/sklearn/linear_model/_sag.py:350: ConvergenceWarning: The max_iter was reached which means the coef_ did not converge\n",
      "  warnings.warn(\n"
     ]
    },
    {
     "name": "stdout",
     "output_type": "stream",
     "text": [
      "[CV 2/5] END clf__C=1, clf__class_weight={0: 50, 1: 1}, clf__solver=saga;, score=0.042 total time=   5.3s\n"
     ]
    },
    {
     "name": "stderr",
     "output_type": "stream",
     "text": [
      "/opt/anaconda3/envs/test_env/lib/python3.10/site-packages/sklearn/linear_model/_sag.py:350: ConvergenceWarning: The max_iter was reached which means the coef_ did not converge\n",
      "  warnings.warn(\n"
     ]
    },
    {
     "name": "stdout",
     "output_type": "stream",
     "text": [
      "[CV 3/5] END clf__C=1, clf__class_weight={0: 50, 1: 1}, clf__solver=saga;, score=0.055 total time=   5.5s\n"
     ]
    },
    {
     "name": "stderr",
     "output_type": "stream",
     "text": [
      "/opt/anaconda3/envs/test_env/lib/python3.10/site-packages/sklearn/linear_model/_sag.py:350: ConvergenceWarning: The max_iter was reached which means the coef_ did not converge\n",
      "  warnings.warn(\n"
     ]
    },
    {
     "name": "stdout",
     "output_type": "stream",
     "text": [
      "[CV 4/5] END clf__C=1, clf__class_weight={0: 50, 1: 1}, clf__solver=saga;, score=0.034 total time=   5.8s\n"
     ]
    },
    {
     "name": "stderr",
     "output_type": "stream",
     "text": [
      "/opt/anaconda3/envs/test_env/lib/python3.10/site-packages/sklearn/linear_model/_sag.py:350: ConvergenceWarning: The max_iter was reached which means the coef_ did not converge\n",
      "  warnings.warn(\n"
     ]
    },
    {
     "name": "stdout",
     "output_type": "stream",
     "text": [
      "[CV 5/5] END clf__C=1, clf__class_weight={0: 50, 1: 1}, clf__solver=saga;, score=0.039 total time=   6.0s\n",
      "[CV 1/5] END clf__C=5, clf__class_weight=None, clf__solver=lbfgs;, score=0.190 total time=   1.8s\n",
      "[CV 2/5] END clf__C=5, clf__class_weight=None, clf__solver=lbfgs;, score=0.216 total time=   1.8s\n",
      "[CV 3/5] END clf__C=5, clf__class_weight=None, clf__solver=lbfgs;, score=0.203 total time=   1.8s\n",
      "[CV 4/5] END clf__C=5, clf__class_weight=None, clf__solver=lbfgs;, score=0.228 total time=   1.8s\n",
      "[CV 5/5] END clf__C=5, clf__class_weight=None, clf__solver=lbfgs;, score=0.197 total time=   1.8s\n",
      "[CV 1/5] END clf__C=5, clf__class_weight=None, clf__solver=liblinear;, score=0.190 total time=   1.9s\n",
      "[CV 2/5] END clf__C=5, clf__class_weight=None, clf__solver=liblinear;, score=0.216 total time=   1.8s\n",
      "[CV 3/5] END clf__C=5, clf__class_weight=None, clf__solver=liblinear;, score=0.203 total time=   1.8s\n",
      "[CV 4/5] END clf__C=5, clf__class_weight=None, clf__solver=liblinear;, score=0.228 total time=   1.8s\n",
      "[CV 5/5] END clf__C=5, clf__class_weight=None, clf__solver=liblinear;, score=0.197 total time=   1.8s\n",
      "[CV 1/5] END clf__C=5, clf__class_weight=None, clf__solver=sag;, score=0.190 total time=   4.7s\n"
     ]
    },
    {
     "name": "stderr",
     "output_type": "stream",
     "text": [
      "/opt/anaconda3/envs/test_env/lib/python3.10/site-packages/sklearn/linear_model/_sag.py:350: ConvergenceWarning: The max_iter was reached which means the coef_ did not converge\n",
      "  warnings.warn(\n"
     ]
    },
    {
     "name": "stdout",
     "output_type": "stream",
     "text": [
      "[CV 2/5] END clf__C=5, clf__class_weight=None, clf__solver=sag;, score=0.216 total time=   5.3s\n"
     ]
    },
    {
     "name": "stderr",
     "output_type": "stream",
     "text": [
      "/opt/anaconda3/envs/test_env/lib/python3.10/site-packages/sklearn/linear_model/_sag.py:350: ConvergenceWarning: The max_iter was reached which means the coef_ did not converge\n",
      "  warnings.warn(\n"
     ]
    },
    {
     "name": "stdout",
     "output_type": "stream",
     "text": [
      "[CV 3/5] END clf__C=5, clf__class_weight=None, clf__solver=sag;, score=0.203 total time=   4.9s\n"
     ]
    },
    {
     "name": "stderr",
     "output_type": "stream",
     "text": [
      "/opt/anaconda3/envs/test_env/lib/python3.10/site-packages/sklearn/linear_model/_sag.py:350: ConvergenceWarning: The max_iter was reached which means the coef_ did not converge\n",
      "  warnings.warn(\n"
     ]
    },
    {
     "name": "stdout",
     "output_type": "stream",
     "text": [
      "[CV 4/5] END clf__C=5, clf__class_weight=None, clf__solver=sag;, score=0.228 total time=   5.3s\n"
     ]
    },
    {
     "name": "stderr",
     "output_type": "stream",
     "text": [
      "/opt/anaconda3/envs/test_env/lib/python3.10/site-packages/sklearn/linear_model/_sag.py:350: ConvergenceWarning: The max_iter was reached which means the coef_ did not converge\n",
      "  warnings.warn(\n"
     ]
    },
    {
     "name": "stdout",
     "output_type": "stream",
     "text": [
      "[CV 5/5] END clf__C=5, clf__class_weight=None, clf__solver=sag;, score=0.197 total time=   5.5s\n"
     ]
    },
    {
     "name": "stderr",
     "output_type": "stream",
     "text": [
      "/opt/anaconda3/envs/test_env/lib/python3.10/site-packages/sklearn/linear_model/_sag.py:350: ConvergenceWarning: The max_iter was reached which means the coef_ did not converge\n",
      "  warnings.warn(\n"
     ]
    },
    {
     "name": "stdout",
     "output_type": "stream",
     "text": [
      "[CV 1/5] END clf__C=5, clf__class_weight=None, clf__solver=saga;, score=0.190 total time=   6.5s\n"
     ]
    },
    {
     "name": "stderr",
     "output_type": "stream",
     "text": [
      "/opt/anaconda3/envs/test_env/lib/python3.10/site-packages/sklearn/linear_model/_sag.py:350: ConvergenceWarning: The max_iter was reached which means the coef_ did not converge\n",
      "  warnings.warn(\n"
     ]
    },
    {
     "name": "stdout",
     "output_type": "stream",
     "text": [
      "[CV 2/5] END clf__C=5, clf__class_weight=None, clf__solver=saga;, score=0.216 total time=   5.9s\n"
     ]
    },
    {
     "name": "stderr",
     "output_type": "stream",
     "text": [
      "/opt/anaconda3/envs/test_env/lib/python3.10/site-packages/sklearn/linear_model/_sag.py:350: ConvergenceWarning: The max_iter was reached which means the coef_ did not converge\n",
      "  warnings.warn(\n"
     ]
    },
    {
     "name": "stdout",
     "output_type": "stream",
     "text": [
      "[CV 3/5] END clf__C=5, clf__class_weight=None, clf__solver=saga;, score=0.205 total time=   6.0s\n"
     ]
    },
    {
     "name": "stderr",
     "output_type": "stream",
     "text": [
      "/opt/anaconda3/envs/test_env/lib/python3.10/site-packages/sklearn/linear_model/_sag.py:350: ConvergenceWarning: The max_iter was reached which means the coef_ did not converge\n",
      "  warnings.warn(\n"
     ]
    },
    {
     "name": "stdout",
     "output_type": "stream",
     "text": [
      "[CV 4/5] END clf__C=5, clf__class_weight=None, clf__solver=saga;, score=0.228 total time=   6.2s\n"
     ]
    },
    {
     "name": "stderr",
     "output_type": "stream",
     "text": [
      "/opt/anaconda3/envs/test_env/lib/python3.10/site-packages/sklearn/linear_model/_sag.py:350: ConvergenceWarning: The max_iter was reached which means the coef_ did not converge\n",
      "  warnings.warn(\n"
     ]
    },
    {
     "name": "stdout",
     "output_type": "stream",
     "text": [
      "[CV 5/5] END clf__C=5, clf__class_weight=None, clf__solver=saga;, score=0.197 total time=   6.0s\n",
      "[CV 1/5] END clf__C=5, clf__class_weight=balanced, clf__solver=lbfgs;, score=0.587 total time=   1.8s\n",
      "[CV 2/5] END clf__C=5, clf__class_weight=balanced, clf__solver=lbfgs;, score=0.530 total time=   1.8s\n",
      "[CV 3/5] END clf__C=5, clf__class_weight=balanced, clf__solver=lbfgs;, score=0.574 total time=   1.8s\n",
      "[CV 4/5] END clf__C=5, clf__class_weight=balanced, clf__solver=lbfgs;, score=0.593 total time=   1.8s\n",
      "[CV 5/5] END clf__C=5, clf__class_weight=balanced, clf__solver=lbfgs;, score=0.528 total time=   1.8s\n",
      "[CV 1/5] END clf__C=5, clf__class_weight=balanced, clf__solver=liblinear;, score=0.587 total time=   1.9s\n",
      "[CV 2/5] END clf__C=5, clf__class_weight=balanced, clf__solver=liblinear;, score=0.530 total time=   1.8s\n",
      "[CV 3/5] END clf__C=5, clf__class_weight=balanced, clf__solver=liblinear;, score=0.574 total time=   1.8s\n",
      "[CV 4/5] END clf__C=5, clf__class_weight=balanced, clf__solver=liblinear;, score=0.593 total time=   1.8s\n",
      "[CV 5/5] END clf__C=5, clf__class_weight=balanced, clf__solver=liblinear;, score=0.528 total time=   1.8s\n",
      "[CV 1/5] END clf__C=5, clf__class_weight=balanced, clf__solver=sag;, score=0.587 total time=   2.6s\n",
      "[CV 2/5] END clf__C=5, clf__class_weight=balanced, clf__solver=sag;, score=0.530 total time=   2.5s\n",
      "[CV 3/5] END clf__C=5, clf__class_weight=balanced, clf__solver=sag;, score=0.574 total time=   2.7s\n",
      "[CV 4/5] END clf__C=5, clf__class_weight=balanced, clf__solver=sag;, score=0.593 total time=   2.5s\n",
      "[CV 5/5] END clf__C=5, clf__class_weight=balanced, clf__solver=sag;, score=0.528 total time=   2.6s\n",
      "[CV 1/5] END clf__C=5, clf__class_weight=balanced, clf__solver=saga;, score=0.587 total time=   2.3s\n",
      "[CV 2/5] END clf__C=5, clf__class_weight=balanced, clf__solver=saga;, score=0.530 total time=   2.6s\n",
      "[CV 3/5] END clf__C=5, clf__class_weight=balanced, clf__solver=saga;, score=0.574 total time=   2.7s\n",
      "[CV 4/5] END clf__C=5, clf__class_weight=balanced, clf__solver=saga;, score=0.593 total time=   2.3s\n",
      "[CV 5/5] END clf__C=5, clf__class_weight=balanced, clf__solver=saga;, score=0.528 total time=   2.5s\n",
      "[CV 1/5] END clf__C=5, clf__class_weight={0: 100, 1: 1}, clf__solver=lbfgs;, score=0.013 total time=   1.9s\n",
      "[CV 2/5] END clf__C=5, clf__class_weight={0: 100, 1: 1}, clf__solver=lbfgs;, score=0.034 total time=   1.9s\n",
      "[CV 3/5] END clf__C=5, clf__class_weight={0: 100, 1: 1}, clf__solver=lbfgs;, score=0.042 total time=   1.9s\n",
      "[CV 4/5] END clf__C=5, clf__class_weight={0: 100, 1: 1}, clf__solver=lbfgs;, score=0.018 total time=   1.9s\n",
      "[CV 5/5] END clf__C=5, clf__class_weight={0: 100, 1: 1}, clf__solver=lbfgs;, score=0.031 total time=   2.1s\n",
      "[CV 1/5] END clf__C=5, clf__class_weight={0: 100, 1: 1}, clf__solver=liblinear;, score=0.013 total time=   1.9s\n",
      "[CV 2/5] END clf__C=5, clf__class_weight={0: 100, 1: 1}, clf__solver=liblinear;, score=0.034 total time=   1.9s\n",
      "[CV 3/5] END clf__C=5, clf__class_weight={0: 100, 1: 1}, clf__solver=liblinear;, score=0.042 total time=   1.9s\n",
      "[CV 4/5] END clf__C=5, clf__class_weight={0: 100, 1: 1}, clf__solver=liblinear;, score=0.018 total time=   1.9s\n",
      "[CV 5/5] END clf__C=5, clf__class_weight={0: 100, 1: 1}, clf__solver=liblinear;, score=0.031 total time=   1.9s\n"
     ]
    },
    {
     "name": "stderr",
     "output_type": "stream",
     "text": [
      "/opt/anaconda3/envs/test_env/lib/python3.10/site-packages/sklearn/linear_model/_sag.py:350: ConvergenceWarning: The max_iter was reached which means the coef_ did not converge\n",
      "  warnings.warn(\n"
     ]
    },
    {
     "name": "stdout",
     "output_type": "stream",
     "text": [
      "[CV 1/5] END clf__C=5, clf__class_weight={0: 100, 1: 1}, clf__solver=sag;, score=0.034 total time=   5.9s\n"
     ]
    },
    {
     "name": "stderr",
     "output_type": "stream",
     "text": [
      "/opt/anaconda3/envs/test_env/lib/python3.10/site-packages/sklearn/linear_model/_sag.py:350: ConvergenceWarning: The max_iter was reached which means the coef_ did not converge\n",
      "  warnings.warn(\n"
     ]
    },
    {
     "name": "stdout",
     "output_type": "stream",
     "text": [
      "[CV 2/5] END clf__C=5, clf__class_weight={0: 100, 1: 1}, clf__solver=sag;, score=0.013 total time=   5.8s\n"
     ]
    },
    {
     "name": "stderr",
     "output_type": "stream",
     "text": [
      "/opt/anaconda3/envs/test_env/lib/python3.10/site-packages/sklearn/linear_model/_sag.py:350: ConvergenceWarning: The max_iter was reached which means the coef_ did not converge\n",
      "  warnings.warn(\n"
     ]
    },
    {
     "name": "stdout",
     "output_type": "stream",
     "text": [
      "[CV 3/5] END clf__C=5, clf__class_weight={0: 100, 1: 1}, clf__solver=sag;, score=0.044 total time=   6.4s\n"
     ]
    },
    {
     "name": "stderr",
     "output_type": "stream",
     "text": [
      "/opt/anaconda3/envs/test_env/lib/python3.10/site-packages/sklearn/linear_model/_sag.py:350: ConvergenceWarning: The max_iter was reached which means the coef_ did not converge\n",
      "  warnings.warn(\n"
     ]
    },
    {
     "name": "stdout",
     "output_type": "stream",
     "text": [
      "[CV 4/5] END clf__C=5, clf__class_weight={0: 100, 1: 1}, clf__solver=sag;, score=0.016 total time=   6.6s\n"
     ]
    },
    {
     "name": "stderr",
     "output_type": "stream",
     "text": [
      "/opt/anaconda3/envs/test_env/lib/python3.10/site-packages/sklearn/linear_model/_sag.py:350: ConvergenceWarning: The max_iter was reached which means the coef_ did not converge\n",
      "  warnings.warn(\n"
     ]
    },
    {
     "name": "stdout",
     "output_type": "stream",
     "text": [
      "[CV 5/5] END clf__C=5, clf__class_weight={0: 100, 1: 1}, clf__solver=sag;, score=0.036 total time=   6.5s\n"
     ]
    },
    {
     "name": "stderr",
     "output_type": "stream",
     "text": [
      "/opt/anaconda3/envs/test_env/lib/python3.10/site-packages/sklearn/linear_model/_sag.py:350: ConvergenceWarning: The max_iter was reached which means the coef_ did not converge\n",
      "  warnings.warn(\n"
     ]
    },
    {
     "name": "stdout",
     "output_type": "stream",
     "text": [
      "[CV 1/5] END clf__C=5, clf__class_weight={0: 100, 1: 1}, clf__solver=saga;, score=0.010 total time=   6.3s\n"
     ]
    },
    {
     "name": "stderr",
     "output_type": "stream",
     "text": [
      "/opt/anaconda3/envs/test_env/lib/python3.10/site-packages/sklearn/linear_model/_sag.py:350: ConvergenceWarning: The max_iter was reached which means the coef_ did not converge\n",
      "  warnings.warn(\n"
     ]
    },
    {
     "name": "stdout",
     "output_type": "stream",
     "text": [
      "[CV 2/5] END clf__C=5, clf__class_weight={0: 100, 1: 1}, clf__solver=saga;, score=0.023 total time=   6.3s\n"
     ]
    },
    {
     "name": "stderr",
     "output_type": "stream",
     "text": [
      "/opt/anaconda3/envs/test_env/lib/python3.10/site-packages/sklearn/linear_model/_sag.py:350: ConvergenceWarning: The max_iter was reached which means the coef_ did not converge\n",
      "  warnings.warn(\n"
     ]
    },
    {
     "name": "stdout",
     "output_type": "stream",
     "text": [
      "[CV 3/5] END clf__C=5, clf__class_weight={0: 100, 1: 1}, clf__solver=saga;, score=0.042 total time=   6.5s\n"
     ]
    },
    {
     "name": "stderr",
     "output_type": "stream",
     "text": [
      "/opt/anaconda3/envs/test_env/lib/python3.10/site-packages/sklearn/linear_model/_sag.py:350: ConvergenceWarning: The max_iter was reached which means the coef_ did not converge\n",
      "  warnings.warn(\n"
     ]
    },
    {
     "name": "stdout",
     "output_type": "stream",
     "text": [
      "[CV 4/5] END clf__C=5, clf__class_weight={0: 100, 1: 1}, clf__solver=saga;, score=0.016 total time=   6.3s\n"
     ]
    },
    {
     "name": "stderr",
     "output_type": "stream",
     "text": [
      "/opt/anaconda3/envs/test_env/lib/python3.10/site-packages/sklearn/linear_model/_sag.py:350: ConvergenceWarning: The max_iter was reached which means the coef_ did not converge\n",
      "  warnings.warn(\n"
     ]
    },
    {
     "name": "stdout",
     "output_type": "stream",
     "text": [
      "[CV 5/5] END clf__C=5, clf__class_weight={0: 100, 1: 1}, clf__solver=saga;, score=0.034 total time=   6.1s\n",
      "[CV 1/5] END clf__C=5, clf__class_weight={0: 50, 1: 1}, clf__solver=lbfgs;, score=0.021 total time=   2.0s\n",
      "[CV 2/5] END clf__C=5, clf__class_weight={0: 50, 1: 1}, clf__solver=lbfgs;, score=0.044 total time=   2.0s\n",
      "[CV 3/5] END clf__C=5, clf__class_weight={0: 50, 1: 1}, clf__solver=lbfgs;, score=0.055 total time=   2.1s\n",
      "[CV 4/5] END clf__C=5, clf__class_weight={0: 50, 1: 1}, clf__solver=lbfgs;, score=0.034 total time=   2.0s\n",
      "[CV 5/5] END clf__C=5, clf__class_weight={0: 50, 1: 1}, clf__solver=lbfgs;, score=0.039 total time=   2.0s\n",
      "[CV 1/5] END clf__C=5, clf__class_weight={0: 50, 1: 1}, clf__solver=liblinear;, score=0.021 total time=   1.9s\n",
      "[CV 2/5] END clf__C=5, clf__class_weight={0: 50, 1: 1}, clf__solver=liblinear;, score=0.044 total time=   2.0s\n",
      "[CV 3/5] END clf__C=5, clf__class_weight={0: 50, 1: 1}, clf__solver=liblinear;, score=0.055 total time=   2.0s\n",
      "[CV 4/5] END clf__C=5, clf__class_weight={0: 50, 1: 1}, clf__solver=liblinear;, score=0.034 total time=   1.9s\n",
      "[CV 5/5] END clf__C=5, clf__class_weight={0: 50, 1: 1}, clf__solver=liblinear;, score=0.039 total time=   2.0s\n"
     ]
    },
    {
     "name": "stderr",
     "output_type": "stream",
     "text": [
      "/opt/anaconda3/envs/test_env/lib/python3.10/site-packages/sklearn/linear_model/_sag.py:350: ConvergenceWarning: The max_iter was reached which means the coef_ did not converge\n",
      "  warnings.warn(\n"
     ]
    },
    {
     "name": "stdout",
     "output_type": "stream",
     "text": [
      "[CV 1/5] END clf__C=5, clf__class_weight={0: 50, 1: 1}, clf__solver=sag;, score=0.026 total time=   6.7s\n"
     ]
    },
    {
     "name": "stderr",
     "output_type": "stream",
     "text": [
      "/opt/anaconda3/envs/test_env/lib/python3.10/site-packages/sklearn/linear_model/_sag.py:350: ConvergenceWarning: The max_iter was reached which means the coef_ did not converge\n",
      "  warnings.warn(\n"
     ]
    },
    {
     "name": "stdout",
     "output_type": "stream",
     "text": [
      "[CV 2/5] END clf__C=5, clf__class_weight={0: 50, 1: 1}, clf__solver=sag;, score=0.044 total time=   6.6s\n"
     ]
    },
    {
     "name": "stderr",
     "output_type": "stream",
     "text": [
      "/opt/anaconda3/envs/test_env/lib/python3.10/site-packages/sklearn/linear_model/_sag.py:350: ConvergenceWarning: The max_iter was reached which means the coef_ did not converge\n",
      "  warnings.warn(\n"
     ]
    },
    {
     "name": "stdout",
     "output_type": "stream",
     "text": [
      "[CV 3/5] END clf__C=5, clf__class_weight={0: 50, 1: 1}, clf__solver=sag;, score=0.057 total time=   6.2s\n"
     ]
    },
    {
     "name": "stderr",
     "output_type": "stream",
     "text": [
      "/opt/anaconda3/envs/test_env/lib/python3.10/site-packages/sklearn/linear_model/_sag.py:350: ConvergenceWarning: The max_iter was reached which means the coef_ did not converge\n",
      "  warnings.warn(\n"
     ]
    },
    {
     "name": "stdout",
     "output_type": "stream",
     "text": [
      "[CV 4/5] END clf__C=5, clf__class_weight={0: 50, 1: 1}, clf__solver=sag;, score=0.034 total time=   6.6s\n"
     ]
    },
    {
     "name": "stderr",
     "output_type": "stream",
     "text": [
      "/opt/anaconda3/envs/test_env/lib/python3.10/site-packages/sklearn/linear_model/_sag.py:350: ConvergenceWarning: The max_iter was reached which means the coef_ did not converge\n",
      "  warnings.warn(\n"
     ]
    },
    {
     "name": "stdout",
     "output_type": "stream",
     "text": [
      "[CV 5/5] END clf__C=5, clf__class_weight={0: 50, 1: 1}, clf__solver=sag;, score=0.036 total time=   5.6s\n"
     ]
    },
    {
     "name": "stderr",
     "output_type": "stream",
     "text": [
      "/opt/anaconda3/envs/test_env/lib/python3.10/site-packages/sklearn/linear_model/_sag.py:350: ConvergenceWarning: The max_iter was reached which means the coef_ did not converge\n",
      "  warnings.warn(\n"
     ]
    },
    {
     "name": "stdout",
     "output_type": "stream",
     "text": [
      "[CV 1/5] END clf__C=5, clf__class_weight={0: 50, 1: 1}, clf__solver=saga;, score=0.026 total time=   6.3s\n"
     ]
    },
    {
     "name": "stderr",
     "output_type": "stream",
     "text": [
      "/opt/anaconda3/envs/test_env/lib/python3.10/site-packages/sklearn/linear_model/_sag.py:350: ConvergenceWarning: The max_iter was reached which means the coef_ did not converge\n",
      "  warnings.warn(\n"
     ]
    },
    {
     "name": "stdout",
     "output_type": "stream",
     "text": [
      "[CV 2/5] END clf__C=5, clf__class_weight={0: 50, 1: 1}, clf__solver=saga;, score=0.042 total time=   6.0s\n"
     ]
    },
    {
     "name": "stderr",
     "output_type": "stream",
     "text": [
      "/opt/anaconda3/envs/test_env/lib/python3.10/site-packages/sklearn/linear_model/_sag.py:350: ConvergenceWarning: The max_iter was reached which means the coef_ did not converge\n",
      "  warnings.warn(\n"
     ]
    },
    {
     "name": "stdout",
     "output_type": "stream",
     "text": [
      "[CV 3/5] END clf__C=5, clf__class_weight={0: 50, 1: 1}, clf__solver=saga;, score=0.055 total time=   6.3s\n"
     ]
    },
    {
     "name": "stderr",
     "output_type": "stream",
     "text": [
      "/opt/anaconda3/envs/test_env/lib/python3.10/site-packages/sklearn/linear_model/_sag.py:350: ConvergenceWarning: The max_iter was reached which means the coef_ did not converge\n",
      "  warnings.warn(\n"
     ]
    },
    {
     "name": "stdout",
     "output_type": "stream",
     "text": [
      "[CV 4/5] END clf__C=5, clf__class_weight={0: 50, 1: 1}, clf__solver=saga;, score=0.034 total time=   6.3s\n"
     ]
    },
    {
     "name": "stderr",
     "output_type": "stream",
     "text": [
      "/opt/anaconda3/envs/test_env/lib/python3.10/site-packages/sklearn/linear_model/_sag.py:350: ConvergenceWarning: The max_iter was reached which means the coef_ did not converge\n",
      "  warnings.warn(\n"
     ]
    },
    {
     "name": "stdout",
     "output_type": "stream",
     "text": [
      "[CV 5/5] END clf__C=5, clf__class_weight={0: 50, 1: 1}, clf__solver=saga;, score=0.039 total time=   5.7s\n",
      "[CV 1/5] END clf__C=10, clf__class_weight=None, clf__solver=lbfgs;, score=0.190 total time=   1.8s\n",
      "[CV 2/5] END clf__C=10, clf__class_weight=None, clf__solver=lbfgs;, score=0.216 total time=   1.8s\n",
      "[CV 3/5] END clf__C=10, clf__class_weight=None, clf__solver=lbfgs;, score=0.203 total time=   1.8s\n",
      "[CV 4/5] END clf__C=10, clf__class_weight=None, clf__solver=lbfgs;, score=0.228 total time=   1.8s\n",
      "[CV 5/5] END clf__C=10, clf__class_weight=None, clf__solver=lbfgs;, score=0.197 total time=   1.8s\n",
      "[CV 1/5] END clf__C=10, clf__class_weight=None, clf__solver=liblinear;, score=0.190 total time=   1.9s\n",
      "[CV 2/5] END clf__C=10, clf__class_weight=None, clf__solver=liblinear;, score=0.216 total time=   1.9s\n",
      "[CV 3/5] END clf__C=10, clf__class_weight=None, clf__solver=liblinear;, score=0.203 total time=   1.9s\n",
      "[CV 4/5] END clf__C=10, clf__class_weight=None, clf__solver=liblinear;, score=0.228 total time=   1.9s\n",
      "[CV 5/5] END clf__C=10, clf__class_weight=None, clf__solver=liblinear;, score=0.197 total time=   2.0s\n",
      "[CV 1/5] END clf__C=10, clf__class_weight=None, clf__solver=sag;, score=0.190 total time=   6.3s\n"
     ]
    },
    {
     "name": "stderr",
     "output_type": "stream",
     "text": [
      "/opt/anaconda3/envs/test_env/lib/python3.10/site-packages/sklearn/linear_model/_sag.py:350: ConvergenceWarning: The max_iter was reached which means the coef_ did not converge\n",
      "  warnings.warn(\n"
     ]
    },
    {
     "name": "stdout",
     "output_type": "stream",
     "text": [
      "[CV 2/5] END clf__C=10, clf__class_weight=None, clf__solver=sag;, score=0.216 total time=   6.6s\n"
     ]
    },
    {
     "name": "stderr",
     "output_type": "stream",
     "text": [
      "/opt/anaconda3/envs/test_env/lib/python3.10/site-packages/sklearn/linear_model/_sag.py:350: ConvergenceWarning: The max_iter was reached which means the coef_ did not converge\n",
      "  warnings.warn(\n"
     ]
    },
    {
     "name": "stdout",
     "output_type": "stream",
     "text": [
      "[CV 3/5] END clf__C=10, clf__class_weight=None, clf__solver=sag;, score=0.203 total time=   6.7s\n"
     ]
    },
    {
     "name": "stderr",
     "output_type": "stream",
     "text": [
      "/opt/anaconda3/envs/test_env/lib/python3.10/site-packages/sklearn/linear_model/_sag.py:350: ConvergenceWarning: The max_iter was reached which means the coef_ did not converge\n",
      "  warnings.warn(\n"
     ]
    },
    {
     "name": "stdout",
     "output_type": "stream",
     "text": [
      "[CV 4/5] END clf__C=10, clf__class_weight=None, clf__solver=sag;, score=0.228 total time=   6.9s\n"
     ]
    },
    {
     "name": "stderr",
     "output_type": "stream",
     "text": [
      "/opt/anaconda3/envs/test_env/lib/python3.10/site-packages/sklearn/linear_model/_sag.py:350: ConvergenceWarning: The max_iter was reached which means the coef_ did not converge\n",
      "  warnings.warn(\n"
     ]
    },
    {
     "name": "stdout",
     "output_type": "stream",
     "text": [
      "[CV 5/5] END clf__C=10, clf__class_weight=None, clf__solver=sag;, score=0.197 total time=   6.5s\n"
     ]
    },
    {
     "name": "stderr",
     "output_type": "stream",
     "text": [
      "/opt/anaconda3/envs/test_env/lib/python3.10/site-packages/sklearn/linear_model/_sag.py:350: ConvergenceWarning: The max_iter was reached which means the coef_ did not converge\n",
      "  warnings.warn(\n"
     ]
    },
    {
     "name": "stdout",
     "output_type": "stream",
     "text": [
      "[CV 1/5] END clf__C=10, clf__class_weight=None, clf__solver=saga;, score=0.190 total time=   6.2s\n"
     ]
    },
    {
     "name": "stderr",
     "output_type": "stream",
     "text": [
      "/opt/anaconda3/envs/test_env/lib/python3.10/site-packages/sklearn/linear_model/_sag.py:350: ConvergenceWarning: The max_iter was reached which means the coef_ did not converge\n",
      "  warnings.warn(\n"
     ]
    },
    {
     "name": "stdout",
     "output_type": "stream",
     "text": [
      "[CV 2/5] END clf__C=10, clf__class_weight=None, clf__solver=saga;, score=0.216 total time=   7.2s\n"
     ]
    },
    {
     "name": "stderr",
     "output_type": "stream",
     "text": [
      "/opt/anaconda3/envs/test_env/lib/python3.10/site-packages/sklearn/linear_model/_sag.py:350: ConvergenceWarning: The max_iter was reached which means the coef_ did not converge\n",
      "  warnings.warn(\n"
     ]
    },
    {
     "name": "stdout",
     "output_type": "stream",
     "text": [
      "[CV 3/5] END clf__C=10, clf__class_weight=None, clf__solver=saga;, score=0.205 total time=   7.2s\n"
     ]
    },
    {
     "name": "stderr",
     "output_type": "stream",
     "text": [
      "/opt/anaconda3/envs/test_env/lib/python3.10/site-packages/sklearn/linear_model/_sag.py:350: ConvergenceWarning: The max_iter was reached which means the coef_ did not converge\n",
      "  warnings.warn(\n"
     ]
    },
    {
     "name": "stdout",
     "output_type": "stream",
     "text": [
      "[CV 4/5] END clf__C=10, clf__class_weight=None, clf__solver=saga;, score=0.228 total time=   7.2s\n"
     ]
    },
    {
     "name": "stderr",
     "output_type": "stream",
     "text": [
      "/opt/anaconda3/envs/test_env/lib/python3.10/site-packages/sklearn/linear_model/_sag.py:350: ConvergenceWarning: The max_iter was reached which means the coef_ did not converge\n",
      "  warnings.warn(\n"
     ]
    },
    {
     "name": "stdout",
     "output_type": "stream",
     "text": [
      "[CV 5/5] END clf__C=10, clf__class_weight=None, clf__solver=saga;, score=0.197 total time=   6.9s\n",
      "[CV 1/5] END clf__C=10, clf__class_weight=balanced, clf__solver=lbfgs;, score=0.587 total time=   1.9s\n",
      "[CV 2/5] END clf__C=10, clf__class_weight=balanced, clf__solver=lbfgs;, score=0.530 total time=   1.8s\n",
      "[CV 3/5] END clf__C=10, clf__class_weight=balanced, clf__solver=lbfgs;, score=0.574 total time=   1.8s\n",
      "[CV 4/5] END clf__C=10, clf__class_weight=balanced, clf__solver=lbfgs;, score=0.593 total time=   1.8s\n",
      "[CV 5/5] END clf__C=10, clf__class_weight=balanced, clf__solver=lbfgs;, score=0.528 total time=   1.9s\n",
      "[CV 1/5] END clf__C=10, clf__class_weight=balanced, clf__solver=liblinear;, score=0.587 total time=   1.9s\n",
      "[CV 2/5] END clf__C=10, clf__class_weight=balanced, clf__solver=liblinear;, score=0.530 total time=   1.9s\n",
      "[CV 3/5] END clf__C=10, clf__class_weight=balanced, clf__solver=liblinear;, score=0.574 total time=   2.0s\n",
      "[CV 4/5] END clf__C=10, clf__class_weight=balanced, clf__solver=liblinear;, score=0.593 total time=   2.0s\n",
      "[CV 5/5] END clf__C=10, clf__class_weight=balanced, clf__solver=liblinear;, score=0.528 total time=   1.9s\n",
      "[CV 1/5] END clf__C=10, clf__class_weight=balanced, clf__solver=sag;, score=0.587 total time=   2.6s\n",
      "[CV 2/5] END clf__C=10, clf__class_weight=balanced, clf__solver=sag;, score=0.530 total time=   2.8s\n",
      "[CV 3/5] END clf__C=10, clf__class_weight=balanced, clf__solver=sag;, score=0.574 total time=   2.8s\n",
      "[CV 4/5] END clf__C=10, clf__class_weight=balanced, clf__solver=sag;, score=0.593 total time=   2.8s\n",
      "[CV 5/5] END clf__C=10, clf__class_weight=balanced, clf__solver=sag;, score=0.528 total time=   2.7s\n",
      "[CV 1/5] END clf__C=10, clf__class_weight=balanced, clf__solver=saga;, score=0.587 total time=   2.3s\n",
      "[CV 2/5] END clf__C=10, clf__class_weight=balanced, clf__solver=saga;, score=0.530 total time=   2.7s\n",
      "[CV 3/5] END clf__C=10, clf__class_weight=balanced, clf__solver=saga;, score=0.574 total time=   2.9s\n",
      "[CV 4/5] END clf__C=10, clf__class_weight=balanced, clf__solver=saga;, score=0.593 total time=   2.6s\n",
      "[CV 5/5] END clf__C=10, clf__class_weight=balanced, clf__solver=saga;, score=0.528 total time=   2.6s\n",
      "[CV 1/5] END clf__C=10, clf__class_weight={0: 100, 1: 1}, clf__solver=lbfgs;, score=0.013 total time=   2.0s\n",
      "[CV 2/5] END clf__C=10, clf__class_weight={0: 100, 1: 1}, clf__solver=lbfgs;, score=0.034 total time=   1.9s\n",
      "[CV 3/5] END clf__C=10, clf__class_weight={0: 100, 1: 1}, clf__solver=lbfgs;, score=0.042 total time=   2.0s\n",
      "[CV 4/5] END clf__C=10, clf__class_weight={0: 100, 1: 1}, clf__solver=lbfgs;, score=0.018 total time=   1.9s\n",
      "[CV 5/5] END clf__C=10, clf__class_weight={0: 100, 1: 1}, clf__solver=lbfgs;, score=0.031 total time=   2.1s\n",
      "[CV 1/5] END clf__C=10, clf__class_weight={0: 100, 1: 1}, clf__solver=liblinear;, score=0.013 total time=   1.9s\n",
      "[CV 2/5] END clf__C=10, clf__class_weight={0: 100, 1: 1}, clf__solver=liblinear;, score=0.034 total time=   2.0s\n",
      "[CV 3/5] END clf__C=10, clf__class_weight={0: 100, 1: 1}, clf__solver=liblinear;, score=0.042 total time=   1.9s\n",
      "[CV 4/5] END clf__C=10, clf__class_weight={0: 100, 1: 1}, clf__solver=liblinear;, score=0.018 total time=   1.9s\n",
      "[CV 5/5] END clf__C=10, clf__class_weight={0: 100, 1: 1}, clf__solver=liblinear;, score=0.031 total time=   1.9s\n"
     ]
    },
    {
     "name": "stderr",
     "output_type": "stream",
     "text": [
      "/opt/anaconda3/envs/test_env/lib/python3.10/site-packages/sklearn/linear_model/_sag.py:350: ConvergenceWarning: The max_iter was reached which means the coef_ did not converge\n",
      "  warnings.warn(\n"
     ]
    },
    {
     "name": "stdout",
     "output_type": "stream",
     "text": [
      "[CV 1/5] END clf__C=10, clf__class_weight={0: 100, 1: 1}, clf__solver=sag;, score=0.000 total time=   6.6s\n"
     ]
    },
    {
     "name": "stderr",
     "output_type": "stream",
     "text": [
      "/opt/anaconda3/envs/test_env/lib/python3.10/site-packages/sklearn/linear_model/_sag.py:350: ConvergenceWarning: The max_iter was reached which means the coef_ did not converge\n",
      "  warnings.warn(\n"
     ]
    },
    {
     "name": "stdout",
     "output_type": "stream",
     "text": [
      "[CV 2/5] END clf__C=10, clf__class_weight={0: 100, 1: 1}, clf__solver=sag;, score=0.013 total time=   6.7s\n"
     ]
    },
    {
     "name": "stderr",
     "output_type": "stream",
     "text": [
      "/opt/anaconda3/envs/test_env/lib/python3.10/site-packages/sklearn/linear_model/_sag.py:350: ConvergenceWarning: The max_iter was reached which means the coef_ did not converge\n",
      "  warnings.warn(\n"
     ]
    },
    {
     "name": "stdout",
     "output_type": "stream",
     "text": [
      "[CV 3/5] END clf__C=10, clf__class_weight={0: 100, 1: 1}, clf__solver=sag;, score=0.044 total time=   6.9s\n"
     ]
    },
    {
     "name": "stderr",
     "output_type": "stream",
     "text": [
      "/opt/anaconda3/envs/test_env/lib/python3.10/site-packages/sklearn/linear_model/_sag.py:350: ConvergenceWarning: The max_iter was reached which means the coef_ did not converge\n",
      "  warnings.warn(\n"
     ]
    },
    {
     "name": "stdout",
     "output_type": "stream",
     "text": [
      "[CV 4/5] END clf__C=10, clf__class_weight={0: 100, 1: 1}, clf__solver=sag;, score=0.018 total time=   6.4s\n"
     ]
    },
    {
     "name": "stderr",
     "output_type": "stream",
     "text": [
      "/opt/anaconda3/envs/test_env/lib/python3.10/site-packages/sklearn/linear_model/_sag.py:350: ConvergenceWarning: The max_iter was reached which means the coef_ did not converge\n",
      "  warnings.warn(\n"
     ]
    },
    {
     "name": "stdout",
     "output_type": "stream",
     "text": [
      "[CV 5/5] END clf__C=10, clf__class_weight={0: 100, 1: 1}, clf__solver=sag;, score=0.023 total time=   6.9s\n"
     ]
    },
    {
     "name": "stderr",
     "output_type": "stream",
     "text": [
      "/opt/anaconda3/envs/test_env/lib/python3.10/site-packages/sklearn/linear_model/_sag.py:350: ConvergenceWarning: The max_iter was reached which means the coef_ did not converge\n",
      "  warnings.warn(\n"
     ]
    },
    {
     "name": "stdout",
     "output_type": "stream",
     "text": [
      "[CV 1/5] END clf__C=10, clf__class_weight={0: 100, 1: 1}, clf__solver=saga;, score=0.010 total time=   7.0s\n"
     ]
    },
    {
     "name": "stderr",
     "output_type": "stream",
     "text": [
      "/opt/anaconda3/envs/test_env/lib/python3.10/site-packages/sklearn/linear_model/_sag.py:350: ConvergenceWarning: The max_iter was reached which means the coef_ did not converge\n",
      "  warnings.warn(\n"
     ]
    },
    {
     "name": "stdout",
     "output_type": "stream",
     "text": [
      "[CV 2/5] END clf__C=10, clf__class_weight={0: 100, 1: 1}, clf__solver=saga;, score=0.023 total time=   6.9s\n"
     ]
    },
    {
     "name": "stderr",
     "output_type": "stream",
     "text": [
      "/opt/anaconda3/envs/test_env/lib/python3.10/site-packages/sklearn/linear_model/_sag.py:350: ConvergenceWarning: The max_iter was reached which means the coef_ did not converge\n",
      "  warnings.warn(\n"
     ]
    },
    {
     "name": "stdout",
     "output_type": "stream",
     "text": [
      "[CV 3/5] END clf__C=10, clf__class_weight={0: 100, 1: 1}, clf__solver=saga;, score=0.042 total time=   6.7s\n"
     ]
    },
    {
     "name": "stderr",
     "output_type": "stream",
     "text": [
      "/opt/anaconda3/envs/test_env/lib/python3.10/site-packages/sklearn/linear_model/_sag.py:350: ConvergenceWarning: The max_iter was reached which means the coef_ did not converge\n",
      "  warnings.warn(\n"
     ]
    },
    {
     "name": "stdout",
     "output_type": "stream",
     "text": [
      "[CV 4/5] END clf__C=10, clf__class_weight={0: 100, 1: 1}, clf__solver=saga;, score=0.016 total time=   6.6s\n"
     ]
    },
    {
     "name": "stderr",
     "output_type": "stream",
     "text": [
      "/opt/anaconda3/envs/test_env/lib/python3.10/site-packages/sklearn/linear_model/_sag.py:350: ConvergenceWarning: The max_iter was reached which means the coef_ did not converge\n",
      "  warnings.warn(\n"
     ]
    },
    {
     "name": "stdout",
     "output_type": "stream",
     "text": [
      "[CV 5/5] END clf__C=10, clf__class_weight={0: 100, 1: 1}, clf__solver=saga;, score=0.034 total time=   6.5s\n",
      "[CV 1/5] END clf__C=10, clf__class_weight={0: 50, 1: 1}, clf__solver=lbfgs;, score=0.021 total time=   2.0s\n",
      "[CV 2/5] END clf__C=10, clf__class_weight={0: 50, 1: 1}, clf__solver=lbfgs;, score=0.044 total time=   2.0s\n",
      "[CV 3/5] END clf__C=10, clf__class_weight={0: 50, 1: 1}, clf__solver=lbfgs;, score=0.055 total time=   2.1s\n",
      "[CV 4/5] END clf__C=10, clf__class_weight={0: 50, 1: 1}, clf__solver=lbfgs;, score=0.034 total time=   2.0s\n",
      "[CV 5/5] END clf__C=10, clf__class_weight={0: 50, 1: 1}, clf__solver=lbfgs;, score=0.039 total time=   2.0s\n",
      "[CV 1/5] END clf__C=10, clf__class_weight={0: 50, 1: 1}, clf__solver=liblinear;, score=0.021 total time=   1.9s\n",
      "[CV 2/5] END clf__C=10, clf__class_weight={0: 50, 1: 1}, clf__solver=liblinear;, score=0.044 total time=   1.9s\n",
      "[CV 3/5] END clf__C=10, clf__class_weight={0: 50, 1: 1}, clf__solver=liblinear;, score=0.055 total time=   1.9s\n",
      "[CV 4/5] END clf__C=10, clf__class_weight={0: 50, 1: 1}, clf__solver=liblinear;, score=0.034 total time=   1.9s\n",
      "[CV 5/5] END clf__C=10, clf__class_weight={0: 50, 1: 1}, clf__solver=liblinear;, score=0.039 total time=   1.9s\n"
     ]
    },
    {
     "name": "stderr",
     "output_type": "stream",
     "text": [
      "/opt/anaconda3/envs/test_env/lib/python3.10/site-packages/sklearn/linear_model/_sag.py:350: ConvergenceWarning: The max_iter was reached which means the coef_ did not converge\n",
      "  warnings.warn(\n"
     ]
    },
    {
     "name": "stdout",
     "output_type": "stream",
     "text": [
      "[CV 1/5] END clf__C=10, clf__class_weight={0: 50, 1: 1}, clf__solver=sag;, score=0.021 total time=   6.4s\n"
     ]
    },
    {
     "name": "stderr",
     "output_type": "stream",
     "text": [
      "/opt/anaconda3/envs/test_env/lib/python3.10/site-packages/sklearn/linear_model/_sag.py:350: ConvergenceWarning: The max_iter was reached which means the coef_ did not converge\n",
      "  warnings.warn(\n"
     ]
    },
    {
     "name": "stdout",
     "output_type": "stream",
     "text": [
      "[CV 2/5] END clf__C=10, clf__class_weight={0: 50, 1: 1}, clf__solver=sag;, score=0.042 total time=   6.9s\n"
     ]
    },
    {
     "name": "stderr",
     "output_type": "stream",
     "text": [
      "/opt/anaconda3/envs/test_env/lib/python3.10/site-packages/sklearn/linear_model/_sag.py:350: ConvergenceWarning: The max_iter was reached which means the coef_ did not converge\n",
      "  warnings.warn(\n"
     ]
    },
    {
     "name": "stdout",
     "output_type": "stream",
     "text": [
      "[CV 3/5] END clf__C=10, clf__class_weight={0: 50, 1: 1}, clf__solver=sag;, score=0.057 total time=   6.5s\n"
     ]
    },
    {
     "name": "stderr",
     "output_type": "stream",
     "text": [
      "/opt/anaconda3/envs/test_env/lib/python3.10/site-packages/sklearn/linear_model/_sag.py:350: ConvergenceWarning: The max_iter was reached which means the coef_ did not converge\n",
      "  warnings.warn(\n"
     ]
    },
    {
     "name": "stdout",
     "output_type": "stream",
     "text": [
      "[CV 4/5] END clf__C=10, clf__class_weight={0: 50, 1: 1}, clf__solver=sag;, score=0.034 total time=   6.4s\n"
     ]
    },
    {
     "name": "stderr",
     "output_type": "stream",
     "text": [
      "/opt/anaconda3/envs/test_env/lib/python3.10/site-packages/sklearn/linear_model/_sag.py:350: ConvergenceWarning: The max_iter was reached which means the coef_ did not converge\n",
      "  warnings.warn(\n"
     ]
    },
    {
     "name": "stdout",
     "output_type": "stream",
     "text": [
      "[CV 5/5] END clf__C=10, clf__class_weight={0: 50, 1: 1}, clf__solver=sag;, score=0.036 total time=   6.3s\n"
     ]
    },
    {
     "name": "stderr",
     "output_type": "stream",
     "text": [
      "/opt/anaconda3/envs/test_env/lib/python3.10/site-packages/sklearn/linear_model/_sag.py:350: ConvergenceWarning: The max_iter was reached which means the coef_ did not converge\n",
      "  warnings.warn(\n"
     ]
    },
    {
     "name": "stdout",
     "output_type": "stream",
     "text": [
      "[CV 1/5] END clf__C=10, clf__class_weight={0: 50, 1: 1}, clf__solver=saga;, score=0.026 total time=   6.7s\n"
     ]
    },
    {
     "name": "stderr",
     "output_type": "stream",
     "text": [
      "/opt/anaconda3/envs/test_env/lib/python3.10/site-packages/sklearn/linear_model/_sag.py:350: ConvergenceWarning: The max_iter was reached which means the coef_ did not converge\n",
      "  warnings.warn(\n"
     ]
    },
    {
     "name": "stdout",
     "output_type": "stream",
     "text": [
      "[CV 2/5] END clf__C=10, clf__class_weight={0: 50, 1: 1}, clf__solver=saga;, score=0.042 total time=   6.9s\n"
     ]
    },
    {
     "name": "stderr",
     "output_type": "stream",
     "text": [
      "/opt/anaconda3/envs/test_env/lib/python3.10/site-packages/sklearn/linear_model/_sag.py:350: ConvergenceWarning: The max_iter was reached which means the coef_ did not converge\n",
      "  warnings.warn(\n"
     ]
    },
    {
     "name": "stdout",
     "output_type": "stream",
     "text": [
      "[CV 3/5] END clf__C=10, clf__class_weight={0: 50, 1: 1}, clf__solver=saga;, score=0.055 total time=   6.5s\n"
     ]
    },
    {
     "name": "stderr",
     "output_type": "stream",
     "text": [
      "/opt/anaconda3/envs/test_env/lib/python3.10/site-packages/sklearn/linear_model/_sag.py:350: ConvergenceWarning: The max_iter was reached which means the coef_ did not converge\n",
      "  warnings.warn(\n"
     ]
    },
    {
     "name": "stdout",
     "output_type": "stream",
     "text": [
      "[CV 4/5] END clf__C=10, clf__class_weight={0: 50, 1: 1}, clf__solver=saga;, score=0.034 total time=   6.5s\n"
     ]
    },
    {
     "name": "stderr",
     "output_type": "stream",
     "text": [
      "/opt/anaconda3/envs/test_env/lib/python3.10/site-packages/sklearn/linear_model/_sag.py:350: ConvergenceWarning: The max_iter was reached which means the coef_ did not converge\n",
      "  warnings.warn(\n"
     ]
    },
    {
     "name": "stdout",
     "output_type": "stream",
     "text": [
      "[CV 5/5] END clf__C=10, clf__class_weight={0: 50, 1: 1}, clf__solver=saga;, score=0.039 total time=   6.6s\n",
      "[CV 1/5] END clf__C=50, clf__class_weight=None, clf__solver=lbfgs;, score=0.190 total time=   1.8s\n",
      "[CV 2/5] END clf__C=50, clf__class_weight=None, clf__solver=lbfgs;, score=0.216 total time=   1.8s\n",
      "[CV 3/5] END clf__C=50, clf__class_weight=None, clf__solver=lbfgs;, score=0.203 total time=   1.8s\n",
      "[CV 4/5] END clf__C=50, clf__class_weight=None, clf__solver=lbfgs;, score=0.228 total time=   1.8s\n",
      "[CV 5/5] END clf__C=50, clf__class_weight=None, clf__solver=lbfgs;, score=0.197 total time=   1.7s\n",
      "[CV 1/5] END clf__C=50, clf__class_weight=None, clf__solver=liblinear;, score=0.190 total time=   1.9s\n",
      "[CV 2/5] END clf__C=50, clf__class_weight=None, clf__solver=liblinear;, score=0.216 total time=   1.9s\n",
      "[CV 3/5] END clf__C=50, clf__class_weight=None, clf__solver=liblinear;, score=0.203 total time=   1.8s\n",
      "[CV 4/5] END clf__C=50, clf__class_weight=None, clf__solver=liblinear;, score=0.228 total time=   1.9s\n",
      "[CV 5/5] END clf__C=50, clf__class_weight=None, clf__solver=liblinear;, score=0.197 total time=   1.9s\n",
      "[CV 1/5] END clf__C=50, clf__class_weight=None, clf__solver=sag;, score=0.190 total time=   6.4s\n"
     ]
    },
    {
     "name": "stderr",
     "output_type": "stream",
     "text": [
      "/opt/anaconda3/envs/test_env/lib/python3.10/site-packages/sklearn/linear_model/_sag.py:350: ConvergenceWarning: The max_iter was reached which means the coef_ did not converge\n",
      "  warnings.warn(\n"
     ]
    },
    {
     "name": "stdout",
     "output_type": "stream",
     "text": [
      "[CV 2/5] END clf__C=50, clf__class_weight=None, clf__solver=sag;, score=0.216 total time=   6.9s\n"
     ]
    },
    {
     "name": "stderr",
     "output_type": "stream",
     "text": [
      "/opt/anaconda3/envs/test_env/lib/python3.10/site-packages/sklearn/linear_model/_sag.py:350: ConvergenceWarning: The max_iter was reached which means the coef_ did not converge\n",
      "  warnings.warn(\n"
     ]
    },
    {
     "name": "stdout",
     "output_type": "stream",
     "text": [
      "[CV 3/5] END clf__C=50, clf__class_weight=None, clf__solver=sag;, score=0.203 total time=   7.0s\n"
     ]
    },
    {
     "name": "stderr",
     "output_type": "stream",
     "text": [
      "/opt/anaconda3/envs/test_env/lib/python3.10/site-packages/sklearn/linear_model/_sag.py:350: ConvergenceWarning: The max_iter was reached which means the coef_ did not converge\n",
      "  warnings.warn(\n"
     ]
    },
    {
     "name": "stdout",
     "output_type": "stream",
     "text": [
      "[CV 4/5] END clf__C=50, clf__class_weight=None, clf__solver=sag;, score=0.228 total time=   6.9s\n"
     ]
    },
    {
     "name": "stderr",
     "output_type": "stream",
     "text": [
      "/opt/anaconda3/envs/test_env/lib/python3.10/site-packages/sklearn/linear_model/_sag.py:350: ConvergenceWarning: The max_iter was reached which means the coef_ did not converge\n",
      "  warnings.warn(\n"
     ]
    },
    {
     "name": "stdout",
     "output_type": "stream",
     "text": [
      "[CV 5/5] END clf__C=50, clf__class_weight=None, clf__solver=sag;, score=0.197 total time=   7.1s\n"
     ]
    },
    {
     "name": "stderr",
     "output_type": "stream",
     "text": [
      "/opt/anaconda3/envs/test_env/lib/python3.10/site-packages/sklearn/linear_model/_sag.py:350: ConvergenceWarning: The max_iter was reached which means the coef_ did not converge\n",
      "  warnings.warn(\n"
     ]
    },
    {
     "name": "stdout",
     "output_type": "stream",
     "text": [
      "[CV 1/5] END clf__C=50, clf__class_weight=None, clf__solver=saga;, score=0.190 total time=   6.7s\n"
     ]
    },
    {
     "name": "stderr",
     "output_type": "stream",
     "text": [
      "/opt/anaconda3/envs/test_env/lib/python3.10/site-packages/sklearn/linear_model/_sag.py:350: ConvergenceWarning: The max_iter was reached which means the coef_ did not converge\n",
      "  warnings.warn(\n"
     ]
    },
    {
     "name": "stdout",
     "output_type": "stream",
     "text": [
      "[CV 2/5] END clf__C=50, clf__class_weight=None, clf__solver=saga;, score=0.216 total time=   6.9s\n"
     ]
    },
    {
     "name": "stderr",
     "output_type": "stream",
     "text": [
      "/opt/anaconda3/envs/test_env/lib/python3.10/site-packages/sklearn/linear_model/_sag.py:350: ConvergenceWarning: The max_iter was reached which means the coef_ did not converge\n",
      "  warnings.warn(\n"
     ]
    },
    {
     "name": "stdout",
     "output_type": "stream",
     "text": [
      "[CV 3/5] END clf__C=50, clf__class_weight=None, clf__solver=saga;, score=0.205 total time=   6.6s\n"
     ]
    },
    {
     "name": "stderr",
     "output_type": "stream",
     "text": [
      "/opt/anaconda3/envs/test_env/lib/python3.10/site-packages/sklearn/linear_model/_sag.py:350: ConvergenceWarning: The max_iter was reached which means the coef_ did not converge\n",
      "  warnings.warn(\n"
     ]
    },
    {
     "name": "stdout",
     "output_type": "stream",
     "text": [
      "[CV 4/5] END clf__C=50, clf__class_weight=None, clf__solver=saga;, score=0.228 total time=   6.4s\n"
     ]
    },
    {
     "name": "stderr",
     "output_type": "stream",
     "text": [
      "/opt/anaconda3/envs/test_env/lib/python3.10/site-packages/sklearn/linear_model/_sag.py:350: ConvergenceWarning: The max_iter was reached which means the coef_ did not converge\n",
      "  warnings.warn(\n"
     ]
    },
    {
     "name": "stdout",
     "output_type": "stream",
     "text": [
      "[CV 5/5] END clf__C=50, clf__class_weight=None, clf__solver=saga;, score=0.197 total time=   6.4s\n",
      "[CV 1/5] END clf__C=50, clf__class_weight=balanced, clf__solver=lbfgs;, score=0.587 total time=   1.8s\n",
      "[CV 2/5] END clf__C=50, clf__class_weight=balanced, clf__solver=lbfgs;, score=0.530 total time=   1.8s\n",
      "[CV 3/5] END clf__C=50, clf__class_weight=balanced, clf__solver=lbfgs;, score=0.574 total time=   1.8s\n",
      "[CV 4/5] END clf__C=50, clf__class_weight=balanced, clf__solver=lbfgs;, score=0.593 total time=   1.7s\n",
      "[CV 5/5] END clf__C=50, clf__class_weight=balanced, clf__solver=lbfgs;, score=0.528 total time=   1.8s\n",
      "[CV 1/5] END clf__C=50, clf__class_weight=balanced, clf__solver=liblinear;, score=0.587 total time=   1.9s\n",
      "[CV 2/5] END clf__C=50, clf__class_weight=balanced, clf__solver=liblinear;, score=0.530 total time=   1.9s\n",
      "[CV 3/5] END clf__C=50, clf__class_weight=balanced, clf__solver=liblinear;, score=0.574 total time=   1.8s\n",
      "[CV 4/5] END clf__C=50, clf__class_weight=balanced, clf__solver=liblinear;, score=0.593 total time=   1.9s\n",
      "[CV 5/5] END clf__C=50, clf__class_weight=balanced, clf__solver=liblinear;, score=0.528 total time=   1.9s\n",
      "[CV 1/5] END clf__C=50, clf__class_weight=balanced, clf__solver=sag;, score=0.587 total time=   2.7s\n",
      "[CV 2/5] END clf__C=50, clf__class_weight=balanced, clf__solver=sag;, score=0.530 total time=   2.6s\n",
      "[CV 3/5] END clf__C=50, clf__class_weight=balanced, clf__solver=sag;, score=0.574 total time=   2.7s\n",
      "[CV 4/5] END clf__C=50, clf__class_weight=balanced, clf__solver=sag;, score=0.593 total time=   2.4s\n",
      "[CV 5/5] END clf__C=50, clf__class_weight=balanced, clf__solver=sag;, score=0.528 total time=   2.4s\n",
      "[CV 1/5] END clf__C=50, clf__class_weight=balanced, clf__solver=saga;, score=0.587 total time=   2.4s\n",
      "[CV 2/5] END clf__C=50, clf__class_weight=balanced, clf__solver=saga;, score=0.530 total time=   2.7s\n",
      "[CV 3/5] END clf__C=50, clf__class_weight=balanced, clf__solver=saga;, score=0.574 total time=   2.7s\n",
      "[CV 4/5] END clf__C=50, clf__class_weight=balanced, clf__solver=saga;, score=0.593 total time=   2.5s\n",
      "[CV 5/5] END clf__C=50, clf__class_weight=balanced, clf__solver=saga;, score=0.528 total time=   2.5s\n",
      "[CV 1/5] END clf__C=50, clf__class_weight={0: 100, 1: 1}, clf__solver=lbfgs;, score=0.013 total time=   2.0s\n",
      "[CV 2/5] END clf__C=50, clf__class_weight={0: 100, 1: 1}, clf__solver=lbfgs;, score=0.034 total time=   1.9s\n",
      "[CV 3/5] END clf__C=50, clf__class_weight={0: 100, 1: 1}, clf__solver=lbfgs;, score=0.042 total time=   1.9s\n",
      "[CV 4/5] END clf__C=50, clf__class_weight={0: 100, 1: 1}, clf__solver=lbfgs;, score=0.018 total time=   1.8s\n",
      "[CV 5/5] END clf__C=50, clf__class_weight={0: 100, 1: 1}, clf__solver=lbfgs;, score=0.031 total time=   2.0s\n",
      "[CV 1/5] END clf__C=50, clf__class_weight={0: 100, 1: 1}, clf__solver=liblinear;, score=0.013 total time=   1.9s\n",
      "[CV 2/5] END clf__C=50, clf__class_weight={0: 100, 1: 1}, clf__solver=liblinear;, score=0.034 total time=   1.9s\n",
      "[CV 3/5] END clf__C=50, clf__class_weight={0: 100, 1: 1}, clf__solver=liblinear;, score=0.042 total time=   1.9s\n",
      "[CV 4/5] END clf__C=50, clf__class_weight={0: 100, 1: 1}, clf__solver=liblinear;, score=0.018 total time=   1.9s\n",
      "[CV 5/5] END clf__C=50, clf__class_weight={0: 100, 1: 1}, clf__solver=liblinear;, score=0.031 total time=   1.9s\n"
     ]
    },
    {
     "name": "stderr",
     "output_type": "stream",
     "text": [
      "/opt/anaconda3/envs/test_env/lib/python3.10/site-packages/sklearn/linear_model/_sag.py:350: ConvergenceWarning: The max_iter was reached which means the coef_ did not converge\n",
      "  warnings.warn(\n"
     ]
    },
    {
     "name": "stdout",
     "output_type": "stream",
     "text": [
      "[CV 1/5] END clf__C=50, clf__class_weight={0: 100, 1: 1}, clf__solver=sag;, score=0.010 total time=   6.6s\n"
     ]
    },
    {
     "name": "stderr",
     "output_type": "stream",
     "text": [
      "/opt/anaconda3/envs/test_env/lib/python3.10/site-packages/sklearn/linear_model/_sag.py:350: ConvergenceWarning: The max_iter was reached which means the coef_ did not converge\n",
      "  warnings.warn(\n"
     ]
    },
    {
     "name": "stdout",
     "output_type": "stream",
     "text": [
      "[CV 2/5] END clf__C=50, clf__class_weight={0: 100, 1: 1}, clf__solver=sag;, score=0.013 total time=   6.3s\n"
     ]
    },
    {
     "name": "stderr",
     "output_type": "stream",
     "text": [
      "/opt/anaconda3/envs/test_env/lib/python3.10/site-packages/sklearn/linear_model/_sag.py:350: ConvergenceWarning: The max_iter was reached which means the coef_ did not converge\n",
      "  warnings.warn(\n"
     ]
    },
    {
     "name": "stdout",
     "output_type": "stream",
     "text": [
      "[CV 3/5] END clf__C=50, clf__class_weight={0: 100, 1: 1}, clf__solver=sag;, score=0.044 total time=   5.9s\n"
     ]
    },
    {
     "name": "stderr",
     "output_type": "stream",
     "text": [
      "/opt/anaconda3/envs/test_env/lib/python3.10/site-packages/sklearn/linear_model/_sag.py:350: ConvergenceWarning: The max_iter was reached which means the coef_ did not converge\n",
      "  warnings.warn(\n"
     ]
    },
    {
     "name": "stdout",
     "output_type": "stream",
     "text": [
      "[CV 4/5] END clf__C=50, clf__class_weight={0: 100, 1: 1}, clf__solver=sag;, score=0.021 total time=   6.2s\n"
     ]
    },
    {
     "name": "stderr",
     "output_type": "stream",
     "text": [
      "/opt/anaconda3/envs/test_env/lib/python3.10/site-packages/sklearn/linear_model/_sag.py:350: ConvergenceWarning: The max_iter was reached which means the coef_ did not converge\n",
      "  warnings.warn(\n"
     ]
    },
    {
     "name": "stdout",
     "output_type": "stream",
     "text": [
      "[CV 5/5] END clf__C=50, clf__class_weight={0: 100, 1: 1}, clf__solver=sag;, score=0.023 total time=   6.9s\n"
     ]
    },
    {
     "name": "stderr",
     "output_type": "stream",
     "text": [
      "/opt/anaconda3/envs/test_env/lib/python3.10/site-packages/sklearn/linear_model/_sag.py:350: ConvergenceWarning: The max_iter was reached which means the coef_ did not converge\n",
      "  warnings.warn(\n"
     ]
    },
    {
     "name": "stdout",
     "output_type": "stream",
     "text": [
      "[CV 1/5] END clf__C=50, clf__class_weight={0: 100, 1: 1}, clf__solver=saga;, score=0.008 total time=   6.8s\n"
     ]
    },
    {
     "name": "stderr",
     "output_type": "stream",
     "text": [
      "/opt/anaconda3/envs/test_env/lib/python3.10/site-packages/sklearn/linear_model/_sag.py:350: ConvergenceWarning: The max_iter was reached which means the coef_ did not converge\n",
      "  warnings.warn(\n"
     ]
    },
    {
     "name": "stdout",
     "output_type": "stream",
     "text": [
      "[CV 2/5] END clf__C=50, clf__class_weight={0: 100, 1: 1}, clf__solver=saga;, score=0.023 total time=   7.3s\n"
     ]
    },
    {
     "name": "stderr",
     "output_type": "stream",
     "text": [
      "/opt/anaconda3/envs/test_env/lib/python3.10/site-packages/sklearn/linear_model/_sag.py:350: ConvergenceWarning: The max_iter was reached which means the coef_ did not converge\n",
      "  warnings.warn(\n"
     ]
    },
    {
     "name": "stdout",
     "output_type": "stream",
     "text": [
      "[CV 3/5] END clf__C=50, clf__class_weight={0: 100, 1: 1}, clf__solver=saga;, score=0.042 total time=   6.9s\n"
     ]
    },
    {
     "name": "stderr",
     "output_type": "stream",
     "text": [
      "/opt/anaconda3/envs/test_env/lib/python3.10/site-packages/sklearn/linear_model/_sag.py:350: ConvergenceWarning: The max_iter was reached which means the coef_ did not converge\n",
      "  warnings.warn(\n"
     ]
    },
    {
     "name": "stdout",
     "output_type": "stream",
     "text": [
      "[CV 4/5] END clf__C=50, clf__class_weight={0: 100, 1: 1}, clf__solver=saga;, score=0.016 total time=   7.1s\n"
     ]
    },
    {
     "name": "stderr",
     "output_type": "stream",
     "text": [
      "/opt/anaconda3/envs/test_env/lib/python3.10/site-packages/sklearn/linear_model/_sag.py:350: ConvergenceWarning: The max_iter was reached which means the coef_ did not converge\n",
      "  warnings.warn(\n"
     ]
    },
    {
     "name": "stdout",
     "output_type": "stream",
     "text": [
      "[CV 5/5] END clf__C=50, clf__class_weight={0: 100, 1: 1}, clf__solver=saga;, score=0.034 total time=   7.0s\n",
      "[CV 1/5] END clf__C=50, clf__class_weight={0: 50, 1: 1}, clf__solver=lbfgs;, score=0.021 total time=   2.0s\n",
      "[CV 2/5] END clf__C=50, clf__class_weight={0: 50, 1: 1}, clf__solver=lbfgs;, score=0.044 total time=   2.0s\n",
      "[CV 3/5] END clf__C=50, clf__class_weight={0: 50, 1: 1}, clf__solver=lbfgs;, score=0.055 total time=   2.0s\n",
      "[CV 4/5] END clf__C=50, clf__class_weight={0: 50, 1: 1}, clf__solver=lbfgs;, score=0.034 total time=   1.9s\n",
      "[CV 5/5] END clf__C=50, clf__class_weight={0: 50, 1: 1}, clf__solver=lbfgs;, score=0.039 total time=   1.9s\n",
      "[CV 1/5] END clf__C=50, clf__class_weight={0: 50, 1: 1}, clf__solver=liblinear;, score=0.021 total time=   1.9s\n",
      "[CV 2/5] END clf__C=50, clf__class_weight={0: 50, 1: 1}, clf__solver=liblinear;, score=0.044 total time=   1.9s\n",
      "[CV 3/5] END clf__C=50, clf__class_weight={0: 50, 1: 1}, clf__solver=liblinear;, score=0.055 total time=   1.9s\n",
      "[CV 4/5] END clf__C=50, clf__class_weight={0: 50, 1: 1}, clf__solver=liblinear;, score=0.034 total time=   2.0s\n",
      "[CV 5/5] END clf__C=50, clf__class_weight={0: 50, 1: 1}, clf__solver=liblinear;, score=0.039 total time=   2.1s\n"
     ]
    },
    {
     "name": "stderr",
     "output_type": "stream",
     "text": [
      "/opt/anaconda3/envs/test_env/lib/python3.10/site-packages/sklearn/linear_model/_sag.py:350: ConvergenceWarning: The max_iter was reached which means the coef_ did not converge\n",
      "  warnings.warn(\n"
     ]
    },
    {
     "name": "stdout",
     "output_type": "stream",
     "text": [
      "[CV 1/5] END clf__C=50, clf__class_weight={0: 50, 1: 1}, clf__solver=sag;, score=0.021 total time=   6.0s\n"
     ]
    },
    {
     "name": "stderr",
     "output_type": "stream",
     "text": [
      "/opt/anaconda3/envs/test_env/lib/python3.10/site-packages/sklearn/linear_model/_sag.py:350: ConvergenceWarning: The max_iter was reached which means the coef_ did not converge\n",
      "  warnings.warn(\n"
     ]
    },
    {
     "name": "stdout",
     "output_type": "stream",
     "text": [
      "[CV 2/5] END clf__C=50, clf__class_weight={0: 50, 1: 1}, clf__solver=sag;, score=0.047 total time=   6.9s\n"
     ]
    },
    {
     "name": "stderr",
     "output_type": "stream",
     "text": [
      "/opt/anaconda3/envs/test_env/lib/python3.10/site-packages/sklearn/linear_model/_sag.py:350: ConvergenceWarning: The max_iter was reached which means the coef_ did not converge\n",
      "  warnings.warn(\n"
     ]
    },
    {
     "name": "stdout",
     "output_type": "stream",
     "text": [
      "[CV 3/5] END clf__C=50, clf__class_weight={0: 50, 1: 1}, clf__solver=sag;, score=0.057 total time=   6.5s\n"
     ]
    },
    {
     "name": "stderr",
     "output_type": "stream",
     "text": [
      "/opt/anaconda3/envs/test_env/lib/python3.10/site-packages/sklearn/linear_model/_sag.py:350: ConvergenceWarning: The max_iter was reached which means the coef_ did not converge\n",
      "  warnings.warn(\n"
     ]
    },
    {
     "name": "stdout",
     "output_type": "stream",
     "text": [
      "[CV 4/5] END clf__C=50, clf__class_weight={0: 50, 1: 1}, clf__solver=sag;, score=0.034 total time=   7.2s\n"
     ]
    },
    {
     "name": "stderr",
     "output_type": "stream",
     "text": [
      "/opt/anaconda3/envs/test_env/lib/python3.10/site-packages/sklearn/linear_model/_sag.py:350: ConvergenceWarning: The max_iter was reached which means the coef_ did not converge\n",
      "  warnings.warn(\n"
     ]
    },
    {
     "name": "stdout",
     "output_type": "stream",
     "text": [
      "[CV 5/5] END clf__C=50, clf__class_weight={0: 50, 1: 1}, clf__solver=sag;, score=0.039 total time=   7.0s\n"
     ]
    },
    {
     "name": "stderr",
     "output_type": "stream",
     "text": [
      "/opt/anaconda3/envs/test_env/lib/python3.10/site-packages/sklearn/linear_model/_sag.py:350: ConvergenceWarning: The max_iter was reached which means the coef_ did not converge\n",
      "  warnings.warn(\n"
     ]
    },
    {
     "name": "stdout",
     "output_type": "stream",
     "text": [
      "[CV 1/5] END clf__C=50, clf__class_weight={0: 50, 1: 1}, clf__solver=saga;, score=0.026 total time=   6.8s\n"
     ]
    },
    {
     "name": "stderr",
     "output_type": "stream",
     "text": [
      "/opt/anaconda3/envs/test_env/lib/python3.10/site-packages/sklearn/linear_model/_sag.py:350: ConvergenceWarning: The max_iter was reached which means the coef_ did not converge\n",
      "  warnings.warn(\n"
     ]
    },
    {
     "name": "stdout",
     "output_type": "stream",
     "text": [
      "[CV 2/5] END clf__C=50, clf__class_weight={0: 50, 1: 1}, clf__solver=saga;, score=0.042 total time=   7.3s\n"
     ]
    },
    {
     "name": "stderr",
     "output_type": "stream",
     "text": [
      "/opt/anaconda3/envs/test_env/lib/python3.10/site-packages/sklearn/linear_model/_sag.py:350: ConvergenceWarning: The max_iter was reached which means the coef_ did not converge\n",
      "  warnings.warn(\n"
     ]
    },
    {
     "name": "stdout",
     "output_type": "stream",
     "text": [
      "[CV 3/5] END clf__C=50, clf__class_weight={0: 50, 1: 1}, clf__solver=saga;, score=0.055 total time=   7.2s\n"
     ]
    },
    {
     "name": "stderr",
     "output_type": "stream",
     "text": [
      "/opt/anaconda3/envs/test_env/lib/python3.10/site-packages/sklearn/linear_model/_sag.py:350: ConvergenceWarning: The max_iter was reached which means the coef_ did not converge\n",
      "  warnings.warn(\n"
     ]
    },
    {
     "name": "stdout",
     "output_type": "stream",
     "text": [
      "[CV 4/5] END clf__C=50, clf__class_weight={0: 50, 1: 1}, clf__solver=saga;, score=0.034 total time=   6.9s\n"
     ]
    },
    {
     "name": "stderr",
     "output_type": "stream",
     "text": [
      "/opt/anaconda3/envs/test_env/lib/python3.10/site-packages/sklearn/linear_model/_sag.py:350: ConvergenceWarning: The max_iter was reached which means the coef_ did not converge\n",
      "  warnings.warn(\n"
     ]
    },
    {
     "name": "stdout",
     "output_type": "stream",
     "text": [
      "[CV 5/5] END clf__C=50, clf__class_weight={0: 50, 1: 1}, clf__solver=saga;, score=0.039 total time=   6.5s\n",
      "[CV 1/5] END clf__C=100, clf__class_weight=None, clf__solver=lbfgs;, score=0.190 total time=   1.8s\n",
      "[CV 2/5] END clf__C=100, clf__class_weight=None, clf__solver=lbfgs;, score=0.216 total time=   1.8s\n",
      "[CV 3/5] END clf__C=100, clf__class_weight=None, clf__solver=lbfgs;, score=0.203 total time=   1.8s\n",
      "[CV 4/5] END clf__C=100, clf__class_weight=None, clf__solver=lbfgs;, score=0.228 total time=   1.8s\n",
      "[CV 5/5] END clf__C=100, clf__class_weight=None, clf__solver=lbfgs;, score=0.197 total time=   1.8s\n",
      "[CV 1/5] END clf__C=100, clf__class_weight=None, clf__solver=liblinear;, score=0.190 total time=   1.9s\n",
      "[CV 2/5] END clf__C=100, clf__class_weight=None, clf__solver=liblinear;, score=0.216 total time=   1.9s\n",
      "[CV 3/5] END clf__C=100, clf__class_weight=None, clf__solver=liblinear;, score=0.203 total time=   1.8s\n",
      "[CV 4/5] END clf__C=100, clf__class_weight=None, clf__solver=liblinear;, score=0.228 total time=   1.8s\n",
      "[CV 5/5] END clf__C=100, clf__class_weight=None, clf__solver=liblinear;, score=0.197 total time=   1.8s\n",
      "[CV 1/5] END clf__C=100, clf__class_weight=None, clf__solver=sag;, score=0.190 total time=   5.9s\n"
     ]
    },
    {
     "name": "stderr",
     "output_type": "stream",
     "text": [
      "/opt/anaconda3/envs/test_env/lib/python3.10/site-packages/sklearn/linear_model/_sag.py:350: ConvergenceWarning: The max_iter was reached which means the coef_ did not converge\n",
      "  warnings.warn(\n"
     ]
    },
    {
     "name": "stdout",
     "output_type": "stream",
     "text": [
      "[CV 2/5] END clf__C=100, clf__class_weight=None, clf__solver=sag;, score=0.216 total time=   6.5s\n"
     ]
    },
    {
     "name": "stderr",
     "output_type": "stream",
     "text": [
      "/opt/anaconda3/envs/test_env/lib/python3.10/site-packages/sklearn/linear_model/_sag.py:350: ConvergenceWarning: The max_iter was reached which means the coef_ did not converge\n",
      "  warnings.warn(\n"
     ]
    },
    {
     "name": "stdout",
     "output_type": "stream",
     "text": [
      "[CV 3/5] END clf__C=100, clf__class_weight=None, clf__solver=sag;, score=0.203 total time=   6.4s\n"
     ]
    },
    {
     "name": "stderr",
     "output_type": "stream",
     "text": [
      "/opt/anaconda3/envs/test_env/lib/python3.10/site-packages/sklearn/linear_model/_sag.py:350: ConvergenceWarning: The max_iter was reached which means the coef_ did not converge\n",
      "  warnings.warn(\n"
     ]
    },
    {
     "name": "stdout",
     "output_type": "stream",
     "text": [
      "[CV 4/5] END clf__C=100, clf__class_weight=None, clf__solver=sag;, score=0.228 total time=   6.9s\n"
     ]
    },
    {
     "name": "stderr",
     "output_type": "stream",
     "text": [
      "/opt/anaconda3/envs/test_env/lib/python3.10/site-packages/sklearn/linear_model/_sag.py:350: ConvergenceWarning: The max_iter was reached which means the coef_ did not converge\n",
      "  warnings.warn(\n"
     ]
    },
    {
     "name": "stdout",
     "output_type": "stream",
     "text": [
      "[CV 5/5] END clf__C=100, clf__class_weight=None, clf__solver=sag;, score=0.197 total time=   6.6s\n"
     ]
    },
    {
     "name": "stderr",
     "output_type": "stream",
     "text": [
      "/opt/anaconda3/envs/test_env/lib/python3.10/site-packages/sklearn/linear_model/_sag.py:350: ConvergenceWarning: The max_iter was reached which means the coef_ did not converge\n",
      "  warnings.warn(\n"
     ]
    },
    {
     "name": "stdout",
     "output_type": "stream",
     "text": [
      "[CV 1/5] END clf__C=100, clf__class_weight=None, clf__solver=saga;, score=0.190 total time=   7.2s\n"
     ]
    },
    {
     "name": "stderr",
     "output_type": "stream",
     "text": [
      "/opt/anaconda3/envs/test_env/lib/python3.10/site-packages/sklearn/linear_model/_sag.py:350: ConvergenceWarning: The max_iter was reached which means the coef_ did not converge\n",
      "  warnings.warn(\n"
     ]
    },
    {
     "name": "stdout",
     "output_type": "stream",
     "text": [
      "[CV 2/5] END clf__C=100, clf__class_weight=None, clf__solver=saga;, score=0.216 total time=   6.6s\n"
     ]
    },
    {
     "name": "stderr",
     "output_type": "stream",
     "text": [
      "/opt/anaconda3/envs/test_env/lib/python3.10/site-packages/sklearn/linear_model/_sag.py:350: ConvergenceWarning: The max_iter was reached which means the coef_ did not converge\n",
      "  warnings.warn(\n"
     ]
    },
    {
     "name": "stdout",
     "output_type": "stream",
     "text": [
      "[CV 3/5] END clf__C=100, clf__class_weight=None, clf__solver=saga;, score=0.205 total time=   6.5s\n"
     ]
    },
    {
     "name": "stderr",
     "output_type": "stream",
     "text": [
      "/opt/anaconda3/envs/test_env/lib/python3.10/site-packages/sklearn/linear_model/_sag.py:350: ConvergenceWarning: The max_iter was reached which means the coef_ did not converge\n",
      "  warnings.warn(\n"
     ]
    },
    {
     "name": "stdout",
     "output_type": "stream",
     "text": [
      "[CV 4/5] END clf__C=100, clf__class_weight=None, clf__solver=saga;, score=0.228 total time=   6.5s\n"
     ]
    },
    {
     "name": "stderr",
     "output_type": "stream",
     "text": [
      "/opt/anaconda3/envs/test_env/lib/python3.10/site-packages/sklearn/linear_model/_sag.py:350: ConvergenceWarning: The max_iter was reached which means the coef_ did not converge\n",
      "  warnings.warn(\n"
     ]
    },
    {
     "name": "stdout",
     "output_type": "stream",
     "text": [
      "[CV 5/5] END clf__C=100, clf__class_weight=None, clf__solver=saga;, score=0.197 total time=   6.5s\n",
      "[CV 1/5] END clf__C=100, clf__class_weight=balanced, clf__solver=lbfgs;, score=0.587 total time=   1.8s\n",
      "[CV 2/5] END clf__C=100, clf__class_weight=balanced, clf__solver=lbfgs;, score=0.530 total time=   1.8s\n",
      "[CV 3/5] END clf__C=100, clf__class_weight=balanced, clf__solver=lbfgs;, score=0.574 total time=   1.8s\n",
      "[CV 4/5] END clf__C=100, clf__class_weight=balanced, clf__solver=lbfgs;, score=0.593 total time=   1.8s\n",
      "[CV 5/5] END clf__C=100, clf__class_weight=balanced, clf__solver=lbfgs;, score=0.528 total time=   1.9s\n",
      "[CV 1/5] END clf__C=100, clf__class_weight=balanced, clf__solver=liblinear;, score=0.587 total time=   1.9s\n",
      "[CV 2/5] END clf__C=100, clf__class_weight=balanced, clf__solver=liblinear;, score=0.530 total time=   1.9s\n",
      "[CV 3/5] END clf__C=100, clf__class_weight=balanced, clf__solver=liblinear;, score=0.574 total time=   1.9s\n",
      "[CV 4/5] END clf__C=100, clf__class_weight=balanced, clf__solver=liblinear;, score=0.593 total time=   1.9s\n",
      "[CV 5/5] END clf__C=100, clf__class_weight=balanced, clf__solver=liblinear;, score=0.528 total time=   1.9s\n",
      "[CV 1/5] END clf__C=100, clf__class_weight=balanced, clf__solver=sag;, score=0.587 total time=   2.7s\n",
      "[CV 2/5] END clf__C=100, clf__class_weight=balanced, clf__solver=sag;, score=0.530 total time=   2.6s\n",
      "[CV 3/5] END clf__C=100, clf__class_weight=balanced, clf__solver=sag;, score=0.574 total time=   2.7s\n",
      "[CV 4/5] END clf__C=100, clf__class_weight=balanced, clf__solver=sag;, score=0.593 total time=   2.8s\n",
      "[CV 5/5] END clf__C=100, clf__class_weight=balanced, clf__solver=sag;, score=0.528 total time=   2.8s\n",
      "[CV 1/5] END clf__C=100, clf__class_weight=balanced, clf__solver=saga;, score=0.587 total time=   2.3s\n",
      "[CV 2/5] END clf__C=100, clf__class_weight=balanced, clf__solver=saga;, score=0.530 total time=   2.7s\n",
      "[CV 3/5] END clf__C=100, clf__class_weight=balanced, clf__solver=saga;, score=0.574 total time=   2.7s\n",
      "[CV 4/5] END clf__C=100, clf__class_weight=balanced, clf__solver=saga;, score=0.593 total time=   2.6s\n",
      "[CV 5/5] END clf__C=100, clf__class_weight=balanced, clf__solver=saga;, score=0.528 total time=   2.6s\n",
      "[CV 1/5] END clf__C=100, clf__class_weight={0: 100, 1: 1}, clf__solver=lbfgs;, score=0.013 total time=   2.0s\n",
      "[CV 2/5] END clf__C=100, clf__class_weight={0: 100, 1: 1}, clf__solver=lbfgs;, score=0.034 total time=   1.9s\n",
      "[CV 3/5] END clf__C=100, clf__class_weight={0: 100, 1: 1}, clf__solver=lbfgs;, score=0.042 total time=   1.9s\n",
      "[CV 4/5] END clf__C=100, clf__class_weight={0: 100, 1: 1}, clf__solver=lbfgs;, score=0.018 total time=   1.9s\n",
      "[CV 5/5] END clf__C=100, clf__class_weight={0: 100, 1: 1}, clf__solver=lbfgs;, score=0.031 total time=   2.0s\n",
      "[CV 1/5] END clf__C=100, clf__class_weight={0: 100, 1: 1}, clf__solver=liblinear;, score=0.013 total time=   1.9s\n",
      "[CV 2/5] END clf__C=100, clf__class_weight={0: 100, 1: 1}, clf__solver=liblinear;, score=0.034 total time=   1.9s\n",
      "[CV 3/5] END clf__C=100, clf__class_weight={0: 100, 1: 1}, clf__solver=liblinear;, score=0.042 total time=   1.9s\n",
      "[CV 4/5] END clf__C=100, clf__class_weight={0: 100, 1: 1}, clf__solver=liblinear;, score=0.018 total time=   1.9s\n",
      "[CV 5/5] END clf__C=100, clf__class_weight={0: 100, 1: 1}, clf__solver=liblinear;, score=0.031 total time=   1.9s\n"
     ]
    },
    {
     "name": "stderr",
     "output_type": "stream",
     "text": [
      "/opt/anaconda3/envs/test_env/lib/python3.10/site-packages/sklearn/linear_model/_sag.py:350: ConvergenceWarning: The max_iter was reached which means the coef_ did not converge\n",
      "  warnings.warn(\n"
     ]
    },
    {
     "name": "stdout",
     "output_type": "stream",
     "text": [
      "[CV 1/5] END clf__C=100, clf__class_weight={0: 100, 1: 1}, clf__solver=sag;, score=0.010 total time=   6.8s\n"
     ]
    },
    {
     "name": "stderr",
     "output_type": "stream",
     "text": [
      "/opt/anaconda3/envs/test_env/lib/python3.10/site-packages/sklearn/linear_model/_sag.py:350: ConvergenceWarning: The max_iter was reached which means the coef_ did not converge\n",
      "  warnings.warn(\n"
     ]
    },
    {
     "name": "stdout",
     "output_type": "stream",
     "text": [
      "[CV 2/5] END clf__C=100, clf__class_weight={0: 100, 1: 1}, clf__solver=sag;, score=0.013 total time=   7.2s\n"
     ]
    },
    {
     "name": "stderr",
     "output_type": "stream",
     "text": [
      "/opt/anaconda3/envs/test_env/lib/python3.10/site-packages/sklearn/linear_model/_sag.py:350: ConvergenceWarning: The max_iter was reached which means the coef_ did not converge\n",
      "  warnings.warn(\n"
     ]
    },
    {
     "name": "stdout",
     "output_type": "stream",
     "text": [
      "[CV 3/5] END clf__C=100, clf__class_weight={0: 100, 1: 1}, clf__solver=sag;, score=0.044 total time=   6.4s\n"
     ]
    },
    {
     "name": "stderr",
     "output_type": "stream",
     "text": [
      "/opt/anaconda3/envs/test_env/lib/python3.10/site-packages/sklearn/linear_model/_sag.py:350: ConvergenceWarning: The max_iter was reached which means the coef_ did not converge\n",
      "  warnings.warn(\n"
     ]
    },
    {
     "name": "stdout",
     "output_type": "stream",
     "text": [
      "[CV 4/5] END clf__C=100, clf__class_weight={0: 100, 1: 1}, clf__solver=sag;, score=0.021 total time=   6.5s\n"
     ]
    },
    {
     "name": "stderr",
     "output_type": "stream",
     "text": [
      "/opt/anaconda3/envs/test_env/lib/python3.10/site-packages/sklearn/linear_model/_sag.py:350: ConvergenceWarning: The max_iter was reached which means the coef_ did not converge\n",
      "  warnings.warn(\n"
     ]
    },
    {
     "name": "stdout",
     "output_type": "stream",
     "text": [
      "[CV 5/5] END clf__C=100, clf__class_weight={0: 100, 1: 1}, clf__solver=sag;, score=0.021 total time=   6.4s\n"
     ]
    },
    {
     "name": "stderr",
     "output_type": "stream",
     "text": [
      "/opt/anaconda3/envs/test_env/lib/python3.10/site-packages/sklearn/linear_model/_sag.py:350: ConvergenceWarning: The max_iter was reached which means the coef_ did not converge\n",
      "  warnings.warn(\n"
     ]
    },
    {
     "name": "stdout",
     "output_type": "stream",
     "text": [
      "[CV 1/5] END clf__C=100, clf__class_weight={0: 100, 1: 1}, clf__solver=saga;, score=0.008 total time=   6.5s\n"
     ]
    },
    {
     "name": "stderr",
     "output_type": "stream",
     "text": [
      "/opt/anaconda3/envs/test_env/lib/python3.10/site-packages/sklearn/linear_model/_sag.py:350: ConvergenceWarning: The max_iter was reached which means the coef_ did not converge\n",
      "  warnings.warn(\n"
     ]
    },
    {
     "name": "stdout",
     "output_type": "stream",
     "text": [
      "[CV 2/5] END clf__C=100, clf__class_weight={0: 100, 1: 1}, clf__solver=saga;, score=0.023 total time=   6.5s\n"
     ]
    },
    {
     "name": "stderr",
     "output_type": "stream",
     "text": [
      "/opt/anaconda3/envs/test_env/lib/python3.10/site-packages/sklearn/linear_model/_sag.py:350: ConvergenceWarning: The max_iter was reached which means the coef_ did not converge\n",
      "  warnings.warn(\n"
     ]
    },
    {
     "name": "stdout",
     "output_type": "stream",
     "text": [
      "[CV 3/5] END clf__C=100, clf__class_weight={0: 100, 1: 1}, clf__solver=saga;, score=0.042 total time=   7.1s\n"
     ]
    },
    {
     "name": "stderr",
     "output_type": "stream",
     "text": [
      "/opt/anaconda3/envs/test_env/lib/python3.10/site-packages/sklearn/linear_model/_sag.py:350: ConvergenceWarning: The max_iter was reached which means the coef_ did not converge\n",
      "  warnings.warn(\n"
     ]
    },
    {
     "name": "stdout",
     "output_type": "stream",
     "text": [
      "[CV 4/5] END clf__C=100, clf__class_weight={0: 100, 1: 1}, clf__solver=saga;, score=0.016 total time=   5.9s\n"
     ]
    },
    {
     "name": "stderr",
     "output_type": "stream",
     "text": [
      "/opt/anaconda3/envs/test_env/lib/python3.10/site-packages/sklearn/linear_model/_sag.py:350: ConvergenceWarning: The max_iter was reached which means the coef_ did not converge\n",
      "  warnings.warn(\n"
     ]
    },
    {
     "name": "stdout",
     "output_type": "stream",
     "text": [
      "[CV 5/5] END clf__C=100, clf__class_weight={0: 100, 1: 1}, clf__solver=saga;, score=0.034 total time=   6.5s\n",
      "[CV 1/5] END clf__C=100, clf__class_weight={0: 50, 1: 1}, clf__solver=lbfgs;, score=0.021 total time=   1.9s\n",
      "[CV 2/5] END clf__C=100, clf__class_weight={0: 50, 1: 1}, clf__solver=lbfgs;, score=0.044 total time=   2.0s\n",
      "[CV 3/5] END clf__C=100, clf__class_weight={0: 50, 1: 1}, clf__solver=lbfgs;, score=0.055 total time=   1.9s\n",
      "[CV 4/5] END clf__C=100, clf__class_weight={0: 50, 1: 1}, clf__solver=lbfgs;, score=0.034 total time=   1.9s\n",
      "[CV 5/5] END clf__C=100, clf__class_weight={0: 50, 1: 1}, clf__solver=lbfgs;, score=0.039 total time=   1.9s\n",
      "[CV 1/5] END clf__C=100, clf__class_weight={0: 50, 1: 1}, clf__solver=liblinear;, score=0.021 total time=   1.9s\n",
      "[CV 2/5] END clf__C=100, clf__class_weight={0: 50, 1: 1}, clf__solver=liblinear;, score=0.044 total time=   1.9s\n",
      "[CV 3/5] END clf__C=100, clf__class_weight={0: 50, 1: 1}, clf__solver=liblinear;, score=0.055 total time=   1.9s\n",
      "[CV 4/5] END clf__C=100, clf__class_weight={0: 50, 1: 1}, clf__solver=liblinear;, score=0.034 total time=   1.9s\n",
      "[CV 5/5] END clf__C=100, clf__class_weight={0: 50, 1: 1}, clf__solver=liblinear;, score=0.039 total time=   2.0s\n"
     ]
    },
    {
     "name": "stderr",
     "output_type": "stream",
     "text": [
      "/opt/anaconda3/envs/test_env/lib/python3.10/site-packages/sklearn/linear_model/_sag.py:350: ConvergenceWarning: The max_iter was reached which means the coef_ did not converge\n",
      "  warnings.warn(\n"
     ]
    },
    {
     "name": "stdout",
     "output_type": "stream",
     "text": [
      "[CV 1/5] END clf__C=100, clf__class_weight={0: 50, 1: 1}, clf__solver=sag;, score=0.013 total time=  35.2s\n"
     ]
    },
    {
     "name": "stderr",
     "output_type": "stream",
     "text": [
      "/opt/anaconda3/envs/test_env/lib/python3.10/site-packages/sklearn/linear_model/_sag.py:350: ConvergenceWarning: The max_iter was reached which means the coef_ did not converge\n",
      "  warnings.warn(\n"
     ]
    },
    {
     "name": "stdout",
     "output_type": "stream",
     "text": [
      "[CV 2/5] END clf__C=100, clf__class_weight={0: 50, 1: 1}, clf__solver=sag;, score=0.047 total time=   6.8s\n"
     ]
    },
    {
     "name": "stderr",
     "output_type": "stream",
     "text": [
      "/opt/anaconda3/envs/test_env/lib/python3.10/site-packages/sklearn/linear_model/_sag.py:350: ConvergenceWarning: The max_iter was reached which means the coef_ did not converge\n",
      "  warnings.warn(\n"
     ]
    },
    {
     "name": "stdout",
     "output_type": "stream",
     "text": [
      "[CV 3/5] END clf__C=100, clf__class_weight={0: 50, 1: 1}, clf__solver=sag;, score=0.057 total time=   6.9s\n"
     ]
    },
    {
     "name": "stderr",
     "output_type": "stream",
     "text": [
      "/opt/anaconda3/envs/test_env/lib/python3.10/site-packages/sklearn/linear_model/_sag.py:350: ConvergenceWarning: The max_iter was reached which means the coef_ did not converge\n",
      "  warnings.warn(\n"
     ]
    },
    {
     "name": "stdout",
     "output_type": "stream",
     "text": [
      "[CV 4/5] END clf__C=100, clf__class_weight={0: 50, 1: 1}, clf__solver=sag;, score=0.034 total time=   5.4s\n"
     ]
    },
    {
     "name": "stderr",
     "output_type": "stream",
     "text": [
      "/opt/anaconda3/envs/test_env/lib/python3.10/site-packages/sklearn/linear_model/_sag.py:350: ConvergenceWarning: The max_iter was reached which means the coef_ did not converge\n",
      "  warnings.warn(\n"
     ]
    },
    {
     "name": "stdout",
     "output_type": "stream",
     "text": [
      "[CV 5/5] END clf__C=100, clf__class_weight={0: 50, 1: 1}, clf__solver=sag;, score=0.036 total time=   6.5s\n"
     ]
    },
    {
     "name": "stderr",
     "output_type": "stream",
     "text": [
      "/opt/anaconda3/envs/test_env/lib/python3.10/site-packages/sklearn/linear_model/_sag.py:350: ConvergenceWarning: The max_iter was reached which means the coef_ did not converge\n",
      "  warnings.warn(\n"
     ]
    },
    {
     "name": "stdout",
     "output_type": "stream",
     "text": [
      "[CV 1/5] END clf__C=100, clf__class_weight={0: 50, 1: 1}, clf__solver=saga;, score=0.026 total time=   6.5s\n"
     ]
    },
    {
     "name": "stderr",
     "output_type": "stream",
     "text": [
      "/opt/anaconda3/envs/test_env/lib/python3.10/site-packages/sklearn/linear_model/_sag.py:350: ConvergenceWarning: The max_iter was reached which means the coef_ did not converge\n",
      "  warnings.warn(\n"
     ]
    },
    {
     "name": "stdout",
     "output_type": "stream",
     "text": [
      "[CV 2/5] END clf__C=100, clf__class_weight={0: 50, 1: 1}, clf__solver=saga;, score=0.042 total time=   6.4s\n"
     ]
    },
    {
     "name": "stderr",
     "output_type": "stream",
     "text": [
      "/opt/anaconda3/envs/test_env/lib/python3.10/site-packages/sklearn/linear_model/_sag.py:350: ConvergenceWarning: The max_iter was reached which means the coef_ did not converge\n",
      "  warnings.warn(\n"
     ]
    },
    {
     "name": "stdout",
     "output_type": "stream",
     "text": [
      "[CV 3/5] END clf__C=100, clf__class_weight={0: 50, 1: 1}, clf__solver=saga;, score=0.055 total time=  30.7s\n"
     ]
    },
    {
     "name": "stderr",
     "output_type": "stream",
     "text": [
      "/opt/anaconda3/envs/test_env/lib/python3.10/site-packages/sklearn/linear_model/_sag.py:350: ConvergenceWarning: The max_iter was reached which means the coef_ did not converge\n",
      "  warnings.warn(\n"
     ]
    },
    {
     "name": "stdout",
     "output_type": "stream",
     "text": [
      "[CV 4/5] END clf__C=100, clf__class_weight={0: 50, 1: 1}, clf__solver=saga;, score=0.034 total time=   7.2s\n"
     ]
    },
    {
     "name": "stderr",
     "output_type": "stream",
     "text": [
      "/opt/anaconda3/envs/test_env/lib/python3.10/site-packages/sklearn/linear_model/_sag.py:350: ConvergenceWarning: The max_iter was reached which means the coef_ did not converge\n",
      "  warnings.warn(\n"
     ]
    },
    {
     "name": "stdout",
     "output_type": "stream",
     "text": [
      "[CV 5/5] END clf__C=100, clf__class_weight={0: 50, 1: 1}, clf__solver=saga;, score=0.039 total time=   8.2s\n",
      "Grid best parameter (max. recall):  {'clf__C': 0.1, 'clf__class_weight': 'balanced', 'clf__solver': 'lbfgs'}\n",
      "Grid best score (recall):  0.5625341497880358\n",
      "CPU times: user 37min 44s, sys: 2min 28s, total: 40min 12s\n",
      "Wall time: 33min 11s\n"
     ]
    },
    {
     "data": {
      "text/html": [
       "<style>#sk-container-id-1 {color: black;background-color: white;}#sk-container-id-1 pre{padding: 0;}#sk-container-id-1 div.sk-toggleable {background-color: white;}#sk-container-id-1 label.sk-toggleable__label {cursor: pointer;display: block;width: 100%;margin-bottom: 0;padding: 0.3em;box-sizing: border-box;text-align: center;}#sk-container-id-1 label.sk-toggleable__label-arrow:before {content: \"▸\";float: left;margin-right: 0.25em;color: #696969;}#sk-container-id-1 label.sk-toggleable__label-arrow:hover:before {color: black;}#sk-container-id-1 div.sk-estimator:hover label.sk-toggleable__label-arrow:before {color: black;}#sk-container-id-1 div.sk-toggleable__content {max-height: 0;max-width: 0;overflow: hidden;text-align: left;background-color: #f0f8ff;}#sk-container-id-1 div.sk-toggleable__content pre {margin: 0.2em;color: black;border-radius: 0.25em;background-color: #f0f8ff;}#sk-container-id-1 input.sk-toggleable__control:checked~div.sk-toggleable__content {max-height: 200px;max-width: 100%;overflow: auto;}#sk-container-id-1 input.sk-toggleable__control:checked~label.sk-toggleable__label-arrow:before {content: \"▾\";}#sk-container-id-1 div.sk-estimator input.sk-toggleable__control:checked~label.sk-toggleable__label {background-color: #d4ebff;}#sk-container-id-1 div.sk-label input.sk-toggleable__control:checked~label.sk-toggleable__label {background-color: #d4ebff;}#sk-container-id-1 input.sk-hidden--visually {border: 0;clip: rect(1px 1px 1px 1px);clip: rect(1px, 1px, 1px, 1px);height: 1px;margin: -1px;overflow: hidden;padding: 0;position: absolute;width: 1px;}#sk-container-id-1 div.sk-estimator {font-family: monospace;background-color: #f0f8ff;border: 1px dotted black;border-radius: 0.25em;box-sizing: border-box;margin-bottom: 0.5em;}#sk-container-id-1 div.sk-estimator:hover {background-color: #d4ebff;}#sk-container-id-1 div.sk-parallel-item::after {content: \"\";width: 100%;border-bottom: 1px solid gray;flex-grow: 1;}#sk-container-id-1 div.sk-label:hover label.sk-toggleable__label {background-color: #d4ebff;}#sk-container-id-1 div.sk-serial::before {content: \"\";position: absolute;border-left: 1px solid gray;box-sizing: border-box;top: 0;bottom: 0;left: 50%;z-index: 0;}#sk-container-id-1 div.sk-serial {display: flex;flex-direction: column;align-items: center;background-color: white;padding-right: 0.2em;padding-left: 0.2em;position: relative;}#sk-container-id-1 div.sk-item {position: relative;z-index: 1;}#sk-container-id-1 div.sk-parallel {display: flex;align-items: stretch;justify-content: center;background-color: white;position: relative;}#sk-container-id-1 div.sk-item::before, #sk-container-id-1 div.sk-parallel-item::before {content: \"\";position: absolute;border-left: 1px solid gray;box-sizing: border-box;top: 0;bottom: 0;left: 50%;z-index: -1;}#sk-container-id-1 div.sk-parallel-item {display: flex;flex-direction: column;z-index: 1;position: relative;background-color: white;}#sk-container-id-1 div.sk-parallel-item:first-child::after {align-self: flex-end;width: 50%;}#sk-container-id-1 div.sk-parallel-item:last-child::after {align-self: flex-start;width: 50%;}#sk-container-id-1 div.sk-parallel-item:only-child::after {width: 0;}#sk-container-id-1 div.sk-dashed-wrapped {border: 1px dashed gray;margin: 0 0.4em 0.5em 0.4em;box-sizing: border-box;padding-bottom: 0.4em;background-color: white;}#sk-container-id-1 div.sk-label label {font-family: monospace;font-weight: bold;display: inline-block;line-height: 1.2em;}#sk-container-id-1 div.sk-label-container {text-align: center;}#sk-container-id-1 div.sk-container {/* jupyter's `normalize.less` sets `[hidden] { display: none; }` but bootstrap.min.css set `[hidden] { display: none !important; }` so we also need the `!important` here to be able to override the default hidden behavior on the sphinx rendered scikit-learn.org. See: https://github.com/scikit-learn/scikit-learn/issues/21755 */display: inline-block !important;position: relative;}#sk-container-id-1 div.sk-text-repr-fallback {display: none;}</style><div id=\"sk-container-id-1\" class=\"sk-top-container\"><div class=\"sk-text-repr-fallback\"><pre>GridSearchCV(cv=5,\n",
       "             estimator=Pipeline(steps=[(&#x27;targetEncoding&#x27;,\n",
       "                                        ColumnTransformer(remainder=&#x27;passthrough&#x27;,\n",
       "                                                          transformers=[(&#x27;targetencoder&#x27;,\n",
       "                                                                         TargetEncoder(),\n",
       "                                                                         [&#x27;species_code&#x27;,\n",
       "                                                                          &#x27;wildlf_desc&#x27;,\n",
       "                                                                          &#x27;wildlf_cat&#x27;,\n",
       "                                                                          &#x27;ctry_org&#x27;,\n",
       "                                                                          &#x27;ctry_ie&#x27;,\n",
       "                                                                          &#x27;purp&#x27;,\n",
       "                                                                          &#x27;src&#x27;,\n",
       "                                                                          &#x27;trans_mode&#x27;,\n",
       "                                                                          &#x27;pt_cd&#x27;,\n",
       "                                                                          &#x27;ship_date_mm&#x27;])])),\n",
       "                                       (&#x27;standardScaler&#x27;, StandardScaler()),\n",
       "                                       (&#x27;clf&#x27;,\n",
       "                                        LogisticRegression(random_state=42))]),\n",
       "             param_grid={&#x27;clf__C&#x27;: [0.1, 0.5, 1, 5, 10, 50, 100],\n",
       "                         &#x27;clf__class_weight&#x27;: [None, &#x27;balanced&#x27;, {0: 100, 1: 1},\n",
       "                                               {0: 50, 1: 1}],\n",
       "                         &#x27;clf__solver&#x27;: [&#x27;lbfgs&#x27;, &#x27;liblinear&#x27;, &#x27;sag&#x27;, &#x27;saga&#x27;]},\n",
       "             scoring=&#x27;recall&#x27;, verbose=3)</pre><b>In a Jupyter environment, please rerun this cell to show the HTML representation or trust the notebook. <br />On GitHub, the HTML representation is unable to render, please try loading this page with nbviewer.org.</b></div><div class=\"sk-container\" hidden><div class=\"sk-item sk-dashed-wrapped\"><div class=\"sk-label-container\"><div class=\"sk-label sk-toggleable\"><input class=\"sk-toggleable__control sk-hidden--visually\" id=\"sk-estimator-id-1\" type=\"checkbox\" ><label for=\"sk-estimator-id-1\" class=\"sk-toggleable__label sk-toggleable__label-arrow\">GridSearchCV</label><div class=\"sk-toggleable__content\"><pre>GridSearchCV(cv=5,\n",
       "             estimator=Pipeline(steps=[(&#x27;targetEncoding&#x27;,\n",
       "                                        ColumnTransformer(remainder=&#x27;passthrough&#x27;,\n",
       "                                                          transformers=[(&#x27;targetencoder&#x27;,\n",
       "                                                                         TargetEncoder(),\n",
       "                                                                         [&#x27;species_code&#x27;,\n",
       "                                                                          &#x27;wildlf_desc&#x27;,\n",
       "                                                                          &#x27;wildlf_cat&#x27;,\n",
       "                                                                          &#x27;ctry_org&#x27;,\n",
       "                                                                          &#x27;ctry_ie&#x27;,\n",
       "                                                                          &#x27;purp&#x27;,\n",
       "                                                                          &#x27;src&#x27;,\n",
       "                                                                          &#x27;trans_mode&#x27;,\n",
       "                                                                          &#x27;pt_cd&#x27;,\n",
       "                                                                          &#x27;ship_date_mm&#x27;])])),\n",
       "                                       (&#x27;standardScaler&#x27;, StandardScaler()),\n",
       "                                       (&#x27;clf&#x27;,\n",
       "                                        LogisticRegression(random_state=42))]),\n",
       "             param_grid={&#x27;clf__C&#x27;: [0.1, 0.5, 1, 5, 10, 50, 100],\n",
       "                         &#x27;clf__class_weight&#x27;: [None, &#x27;balanced&#x27;, {0: 100, 1: 1},\n",
       "                                               {0: 50, 1: 1}],\n",
       "                         &#x27;clf__solver&#x27;: [&#x27;lbfgs&#x27;, &#x27;liblinear&#x27;, &#x27;sag&#x27;, &#x27;saga&#x27;]},\n",
       "             scoring=&#x27;recall&#x27;, verbose=3)</pre></div></div></div><div class=\"sk-parallel\"><div class=\"sk-parallel-item\"><div class=\"sk-item\"><div class=\"sk-label-container\"><div class=\"sk-label sk-toggleable\"><input class=\"sk-toggleable__control sk-hidden--visually\" id=\"sk-estimator-id-2\" type=\"checkbox\" ><label for=\"sk-estimator-id-2\" class=\"sk-toggleable__label sk-toggleable__label-arrow\">estimator: Pipeline</label><div class=\"sk-toggleable__content\"><pre>Pipeline(steps=[(&#x27;targetEncoding&#x27;,\n",
       "                 ColumnTransformer(remainder=&#x27;passthrough&#x27;,\n",
       "                                   transformers=[(&#x27;targetencoder&#x27;,\n",
       "                                                  TargetEncoder(),\n",
       "                                                  [&#x27;species_code&#x27;,\n",
       "                                                   &#x27;wildlf_desc&#x27;, &#x27;wildlf_cat&#x27;,\n",
       "                                                   &#x27;ctry_org&#x27;, &#x27;ctry_ie&#x27;,\n",
       "                                                   &#x27;purp&#x27;, &#x27;src&#x27;, &#x27;trans_mode&#x27;,\n",
       "                                                   &#x27;pt_cd&#x27;,\n",
       "                                                   &#x27;ship_date_mm&#x27;])])),\n",
       "                (&#x27;standardScaler&#x27;, StandardScaler()),\n",
       "                (&#x27;clf&#x27;, LogisticRegression(random_state=42))])</pre></div></div></div><div class=\"sk-serial\"><div class=\"sk-item\"><div class=\"sk-serial\"><div class=\"sk-item sk-dashed-wrapped\"><div class=\"sk-label-container\"><div class=\"sk-label sk-toggleable\"><input class=\"sk-toggleable__control sk-hidden--visually\" id=\"sk-estimator-id-3\" type=\"checkbox\" ><label for=\"sk-estimator-id-3\" class=\"sk-toggleable__label sk-toggleable__label-arrow\">targetEncoding: ColumnTransformer</label><div class=\"sk-toggleable__content\"><pre>ColumnTransformer(remainder=&#x27;passthrough&#x27;,\n",
       "                  transformers=[(&#x27;targetencoder&#x27;, TargetEncoder(),\n",
       "                                 [&#x27;species_code&#x27;, &#x27;wildlf_desc&#x27;, &#x27;wildlf_cat&#x27;,\n",
       "                                  &#x27;ctry_org&#x27;, &#x27;ctry_ie&#x27;, &#x27;purp&#x27;, &#x27;src&#x27;,\n",
       "                                  &#x27;trans_mode&#x27;, &#x27;pt_cd&#x27;, &#x27;ship_date_mm&#x27;])])</pre></div></div></div><div class=\"sk-parallel\"><div class=\"sk-parallel-item\"><div class=\"sk-item\"><div class=\"sk-label-container\"><div class=\"sk-label sk-toggleable\"><input class=\"sk-toggleable__control sk-hidden--visually\" id=\"sk-estimator-id-4\" type=\"checkbox\" ><label for=\"sk-estimator-id-4\" class=\"sk-toggleable__label sk-toggleable__label-arrow\">targetencoder</label><div class=\"sk-toggleable__content\"><pre>[&#x27;species_code&#x27;, &#x27;wildlf_desc&#x27;, &#x27;wildlf_cat&#x27;, &#x27;ctry_org&#x27;, &#x27;ctry_ie&#x27;, &#x27;purp&#x27;, &#x27;src&#x27;, &#x27;trans_mode&#x27;, &#x27;pt_cd&#x27;, &#x27;ship_date_mm&#x27;]</pre></div></div></div><div class=\"sk-serial\"><div class=\"sk-item\"><div class=\"sk-estimator sk-toggleable\"><input class=\"sk-toggleable__control sk-hidden--visually\" id=\"sk-estimator-id-5\" type=\"checkbox\" ><label for=\"sk-estimator-id-5\" class=\"sk-toggleable__label sk-toggleable__label-arrow\">TargetEncoder</label><div class=\"sk-toggleable__content\"><pre>TargetEncoder()</pre></div></div></div></div></div></div><div class=\"sk-parallel-item\"><div class=\"sk-item\"><div class=\"sk-label-container\"><div class=\"sk-label sk-toggleable\"><input class=\"sk-toggleable__control sk-hidden--visually\" id=\"sk-estimator-id-6\" type=\"checkbox\" ><label for=\"sk-estimator-id-6\" class=\"sk-toggleable__label sk-toggleable__label-arrow\">remainder</label><div class=\"sk-toggleable__content\"><pre></pre></div></div></div><div class=\"sk-serial\"><div class=\"sk-item\"><div class=\"sk-estimator sk-toggleable\"><input class=\"sk-toggleable__control sk-hidden--visually\" id=\"sk-estimator-id-7\" type=\"checkbox\" ><label for=\"sk-estimator-id-7\" class=\"sk-toggleable__label sk-toggleable__label-arrow\">passthrough</label><div class=\"sk-toggleable__content\"><pre>passthrough</pre></div></div></div></div></div></div></div></div><div class=\"sk-item\"><div class=\"sk-estimator sk-toggleable\"><input class=\"sk-toggleable__control sk-hidden--visually\" id=\"sk-estimator-id-8\" type=\"checkbox\" ><label for=\"sk-estimator-id-8\" class=\"sk-toggleable__label sk-toggleable__label-arrow\">StandardScaler</label><div class=\"sk-toggleable__content\"><pre>StandardScaler()</pre></div></div></div><div class=\"sk-item\"><div class=\"sk-estimator sk-toggleable\"><input class=\"sk-toggleable__control sk-hidden--visually\" id=\"sk-estimator-id-9\" type=\"checkbox\" ><label for=\"sk-estimator-id-9\" class=\"sk-toggleable__label sk-toggleable__label-arrow\">LogisticRegression</label><div class=\"sk-toggleable__content\"><pre>LogisticRegression(random_state=42)</pre></div></div></div></div></div></div></div></div></div></div></div></div>"
      ],
      "text/plain": [
       "GridSearchCV(cv=5,\n",
       "             estimator=Pipeline(steps=[('targetEncoding',\n",
       "                                        ColumnTransformer(remainder='passthrough',\n",
       "                                                          transformers=[('targetencoder',\n",
       "                                                                         TargetEncoder(),\n",
       "                                                                         ['species_code',\n",
       "                                                                          'wildlf_desc',\n",
       "                                                                          'wildlf_cat',\n",
       "                                                                          'ctry_org',\n",
       "                                                                          'ctry_ie',\n",
       "                                                                          'purp',\n",
       "                                                                          'src',\n",
       "                                                                          'trans_mode',\n",
       "                                                                          'pt_cd',\n",
       "                                                                          'ship_date_mm'])])),\n",
       "                                       ('standardScaler', StandardScaler()),\n",
       "                                       ('clf',\n",
       "                                        LogisticRegression(random_state=42))]),\n",
       "             param_grid={'clf__C': [0.1, 0.5, 1, 5, 10, 50, 100],\n",
       "                         'clf__class_weight': [None, 'balanced', {0: 100, 1: 1},\n",
       "                                               {0: 50, 1: 1}],\n",
       "                         'clf__solver': ['lbfgs', 'liblinear', 'sag', 'saga']},\n",
       "             scoring='recall', verbose=3)"
      ]
     },
     "execution_count": 8,
     "metadata": {},
     "output_type": "execute_result"
    }
   ],
   "source": [
    "clf = LogisticRegression(random_state=rng)\n",
    "lr_params={\n",
    "    'clf__class_weight':[None,\n",
    "                         'balanced', \n",
    "                         {0:100, 1:1}, \n",
    "                         {0:50, 1:1}],\n",
    "    'clf__solver': ['lbfgs', 'liblinear', 'sag', 'saga'],\n",
    "    'clf__C': [0.1, 0.5, 1, 5, 10, 50, 100]\n",
    "}\n",
    "\n",
    "%time lr_pipe = helper.gridsearch_pipeline(X_train, y_train, clf, lr_params) \n",
    "lr_pipe"
   ]
  },
  {
   "cell_type": "code",
   "execution_count": 9,
   "id": "e7b1e466-b96a-44b1-a98b-ed60a593364b",
   "metadata": {},
   "outputs": [
    {
     "data": {
      "text/plain": [
       "['export_run4_TargetEncoding_gridsearchCV/export_lr_pipe.joblib']"
      ]
     },
     "execution_count": 9,
     "metadata": {},
     "output_type": "execute_result"
    }
   ],
   "source": [
    "joblib.dump(lr_pipe, f'{prefix}_lr_pipe.joblib')"
   ]
  },
  {
   "cell_type": "markdown",
   "id": "e2784a88-d955-45d4-a31a-0628e72c4fc2",
   "metadata": {
    "tags": []
   },
   "source": [
    "#### Evaluation"
   ]
  },
  {
   "cell_type": "code",
   "execution_count": 11,
   "id": "a86e5fa6-ecc1-4b88-ab0b-a4b1004a6101",
   "metadata": {},
   "outputs": [
    {
     "name": "stdout",
     "output_type": "stream",
     "text": [
      "Log Regression (best model)\n",
      " [[  362   281]\n",
      " [ 7825 66367]]\n"
     ]
    },
    {
     "data": {
      "image/png": "[encoded data removed]",
      "text/plain": [
       "<Figure size 432x288 with 2 Axes>"
      ]
     },
     "metadata": {
      "needs_background": "light"
     },
     "output_type": "display_data"
    }
   ],
   "source": [
    "outputs = True\n",
    "lr_predicted = lr_pipe.predict(X_test)\n",
    "confusion = confusion_matrix(y_test, lr_predicted, labels = [1,0])\n",
    "if outputs:\n",
    "    print('Log Regression (best model)\\n', confusion)\n",
    "cm_display = ConfusionMatrixDisplay(confusion, display_labels=[1,0])\n",
    "if outputs:\n",
    "    cm_display.plot()\n",
    "    \n",
    "    "
   ]
  },
  {
   "cell_type": "code",
   "execution_count": 12,
   "id": "528c3680-3b0f-4bd6-93ee-e0e75be07628",
   "metadata": {},
   "outputs": [
    {
     "data": {
      "text/html": [
       "<style>#sk-container-id-2 {color: black;background-color: white;}#sk-container-id-2 pre{padding: 0;}#sk-container-id-2 div.sk-toggleable {background-color: white;}#sk-container-id-2 label.sk-toggleable__label {cursor: pointer;display: block;width: 100%;margin-bottom: 0;padding: 0.3em;box-sizing: border-box;text-align: center;}#sk-container-id-2 label.sk-toggleable__label-arrow:before {content: \"▸\";float: left;margin-right: 0.25em;color: #696969;}#sk-container-id-2 label.sk-toggleable__label-arrow:hover:before {color: black;}#sk-container-id-2 div.sk-estimator:hover label.sk-toggleable__label-arrow:before {color: black;}#sk-container-id-2 div.sk-toggleable__content {max-height: 0;max-width: 0;overflow: hidden;text-align: left;background-color: #f0f8ff;}#sk-container-id-2 div.sk-toggleable__content pre {margin: 0.2em;color: black;border-radius: 0.25em;background-color: #f0f8ff;}#sk-container-id-2 input.sk-toggleable__control:checked~div.sk-toggleable__content {max-height: 200px;max-width: 100%;overflow: auto;}#sk-container-id-2 input.sk-toggleable__control:checked~label.sk-toggleable__label-arrow:before {content: \"▾\";}#sk-container-id-2 div.sk-estimator input.sk-toggleable__control:checked~label.sk-toggleable__label {background-color: #d4ebff;}#sk-container-id-2 div.sk-label input.sk-toggleable__control:checked~label.sk-toggleable__label {background-color: #d4ebff;}#sk-container-id-2 input.sk-hidden--visually {border: 0;clip: rect(1px 1px 1px 1px);clip: rect(1px, 1px, 1px, 1px);height: 1px;margin: -1px;overflow: hidden;padding: 0;position: absolute;width: 1px;}#sk-container-id-2 div.sk-estimator {font-family: monospace;background-color: #f0f8ff;border: 1px dotted black;border-radius: 0.25em;box-sizing: border-box;margin-bottom: 0.5em;}#sk-container-id-2 div.sk-estimator:hover {background-color: #d4ebff;}#sk-container-id-2 div.sk-parallel-item::after {content: \"\";width: 100%;border-bottom: 1px solid gray;flex-grow: 1;}#sk-container-id-2 div.sk-label:hover label.sk-toggleable__label {background-color: #d4ebff;}#sk-container-id-2 div.sk-serial::before {content: \"\";position: absolute;border-left: 1px solid gray;box-sizing: border-box;top: 0;bottom: 0;left: 50%;z-index: 0;}#sk-container-id-2 div.sk-serial {display: flex;flex-direction: column;align-items: center;background-color: white;padding-right: 0.2em;padding-left: 0.2em;position: relative;}#sk-container-id-2 div.sk-item {position: relative;z-index: 1;}#sk-container-id-2 div.sk-parallel {display: flex;align-items: stretch;justify-content: center;background-color: white;position: relative;}#sk-container-id-2 div.sk-item::before, #sk-container-id-2 div.sk-parallel-item::before {content: \"\";position: absolute;border-left: 1px solid gray;box-sizing: border-box;top: 0;bottom: 0;left: 50%;z-index: -1;}#sk-container-id-2 div.sk-parallel-item {display: flex;flex-direction: column;z-index: 1;position: relative;background-color: white;}#sk-container-id-2 div.sk-parallel-item:first-child::after {align-self: flex-end;width: 50%;}#sk-container-id-2 div.sk-parallel-item:last-child::after {align-self: flex-start;width: 50%;}#sk-container-id-2 div.sk-parallel-item:only-child::after {width: 0;}#sk-container-id-2 div.sk-dashed-wrapped {border: 1px dashed gray;margin: 0 0.4em 0.5em 0.4em;box-sizing: border-box;padding-bottom: 0.4em;background-color: white;}#sk-container-id-2 div.sk-label label {font-family: monospace;font-weight: bold;display: inline-block;line-height: 1.2em;}#sk-container-id-2 div.sk-label-container {text-align: center;}#sk-container-id-2 div.sk-container {/* jupyter's `normalize.less` sets `[hidden] { display: none; }` but bootstrap.min.css set `[hidden] { display: none !important; }` so we also need the `!important` here to be able to override the default hidden behavior on the sphinx rendered scikit-learn.org. See: https://github.com/scikit-learn/scikit-learn/issues/21755 */display: inline-block !important;position: relative;}#sk-container-id-2 div.sk-text-repr-fallback {display: none;}</style><div id=\"sk-container-id-2\" class=\"sk-top-container\"><div class=\"sk-text-repr-fallback\"><pre>GridSearchCV(cv=5,\n",
       "             estimator=Pipeline(steps=[(&#x27;targetEncoding&#x27;,\n",
       "                                        ColumnTransformer(remainder=&#x27;passthrough&#x27;,\n",
       "                                                          transformers=[(&#x27;targetencoder&#x27;,\n",
       "                                                                         TargetEncoder(),\n",
       "                                                                         [&#x27;species_code&#x27;,\n",
       "                                                                          &#x27;wildlf_desc&#x27;,\n",
       "                                                                          &#x27;wildlf_cat&#x27;,\n",
       "                                                                          &#x27;ctry_org&#x27;,\n",
       "                                                                          &#x27;ctry_ie&#x27;,\n",
       "                                                                          &#x27;purp&#x27;,\n",
       "                                                                          &#x27;src&#x27;,\n",
       "                                                                          &#x27;trans_mode&#x27;,\n",
       "                                                                          &#x27;pt_cd&#x27;,\n",
       "                                                                          &#x27;ship_date_mm&#x27;])])),\n",
       "                                       (&#x27;standardScaler&#x27;, StandardScaler()),\n",
       "                                       (&#x27;clf&#x27;,\n",
       "                                        LogisticRegression(random_state=42))]),\n",
       "             param_grid={&#x27;clf__C&#x27;: [0.1, 0.5, 1, 5, 10, 50, 100],\n",
       "                         &#x27;clf__class_weight&#x27;: [None, &#x27;balanced&#x27;, {0: 100, 1: 1},\n",
       "                                               {0: 50, 1: 1}],\n",
       "                         &#x27;clf__solver&#x27;: [&#x27;lbfgs&#x27;, &#x27;liblinear&#x27;, &#x27;sag&#x27;, &#x27;saga&#x27;]},\n",
       "             scoring=&#x27;recall&#x27;, verbose=3)</pre><b>In a Jupyter environment, please rerun this cell to show the HTML representation or trust the notebook. <br />On GitHub, the HTML representation is unable to render, please try loading this page with nbviewer.org.</b></div><div class=\"sk-container\" hidden><div class=\"sk-item sk-dashed-wrapped\"><div class=\"sk-label-container\"><div class=\"sk-label sk-toggleable\"><input class=\"sk-toggleable__control sk-hidden--visually\" id=\"sk-estimator-id-10\" type=\"checkbox\" ><label for=\"sk-estimator-id-10\" class=\"sk-toggleable__label sk-toggleable__label-arrow\">GridSearchCV</label><div class=\"sk-toggleable__content\"><pre>GridSearchCV(cv=5,\n",
       "             estimator=Pipeline(steps=[(&#x27;targetEncoding&#x27;,\n",
       "                                        ColumnTransformer(remainder=&#x27;passthrough&#x27;,\n",
       "                                                          transformers=[(&#x27;targetencoder&#x27;,\n",
       "                                                                         TargetEncoder(),\n",
       "                                                                         [&#x27;species_code&#x27;,\n",
       "                                                                          &#x27;wildlf_desc&#x27;,\n",
       "                                                                          &#x27;wildlf_cat&#x27;,\n",
       "                                                                          &#x27;ctry_org&#x27;,\n",
       "                                                                          &#x27;ctry_ie&#x27;,\n",
       "                                                                          &#x27;purp&#x27;,\n",
       "                                                                          &#x27;src&#x27;,\n",
       "                                                                          &#x27;trans_mode&#x27;,\n",
       "                                                                          &#x27;pt_cd&#x27;,\n",
       "                                                                          &#x27;ship_date_mm&#x27;])])),\n",
       "                                       (&#x27;standardScaler&#x27;, StandardScaler()),\n",
       "                                       (&#x27;clf&#x27;,\n",
       "                                        LogisticRegression(random_state=42))]),\n",
       "             param_grid={&#x27;clf__C&#x27;: [0.1, 0.5, 1, 5, 10, 50, 100],\n",
       "                         &#x27;clf__class_weight&#x27;: [None, &#x27;balanced&#x27;, {0: 100, 1: 1},\n",
       "                                               {0: 50, 1: 1}],\n",
       "                         &#x27;clf__solver&#x27;: [&#x27;lbfgs&#x27;, &#x27;liblinear&#x27;, &#x27;sag&#x27;, &#x27;saga&#x27;]},\n",
       "             scoring=&#x27;recall&#x27;, verbose=3)</pre></div></div></div><div class=\"sk-parallel\"><div class=\"sk-parallel-item\"><div class=\"sk-item\"><div class=\"sk-label-container\"><div class=\"sk-label sk-toggleable\"><input class=\"sk-toggleable__control sk-hidden--visually\" id=\"sk-estimator-id-11\" type=\"checkbox\" ><label for=\"sk-estimator-id-11\" class=\"sk-toggleable__label sk-toggleable__label-arrow\">estimator: Pipeline</label><div class=\"sk-toggleable__content\"><pre>Pipeline(steps=[(&#x27;targetEncoding&#x27;,\n",
       "                 ColumnTransformer(remainder=&#x27;passthrough&#x27;,\n",
       "                                   transformers=[(&#x27;targetencoder&#x27;,\n",
       "                                                  TargetEncoder(),\n",
       "                                                  [&#x27;species_code&#x27;,\n",
       "                                                   &#x27;wildlf_desc&#x27;, &#x27;wildlf_cat&#x27;,\n",
       "                                                   &#x27;ctry_org&#x27;, &#x27;ctry_ie&#x27;,\n",
       "                                                   &#x27;purp&#x27;, &#x27;src&#x27;, &#x27;trans_mode&#x27;,\n",
       "                                                   &#x27;pt_cd&#x27;,\n",
       "                                                   &#x27;ship_date_mm&#x27;])])),\n",
       "                (&#x27;standardScaler&#x27;, StandardScaler()),\n",
       "                (&#x27;clf&#x27;, LogisticRegression(random_state=42))])</pre></div></div></div><div class=\"sk-serial\"><div class=\"sk-item\"><div class=\"sk-serial\"><div class=\"sk-item sk-dashed-wrapped\"><div class=\"sk-label-container\"><div class=\"sk-label sk-toggleable\"><input class=\"sk-toggleable__control sk-hidden--visually\" id=\"sk-estimator-id-12\" type=\"checkbox\" ><label for=\"sk-estimator-id-12\" class=\"sk-toggleable__label sk-toggleable__label-arrow\">targetEncoding: ColumnTransformer</label><div class=\"sk-toggleable__content\"><pre>ColumnTransformer(remainder=&#x27;passthrough&#x27;,\n",
       "                  transformers=[(&#x27;targetencoder&#x27;, TargetEncoder(),\n",
       "                                 [&#x27;species_code&#x27;, &#x27;wildlf_desc&#x27;, &#x27;wildlf_cat&#x27;,\n",
       "                                  &#x27;ctry_org&#x27;, &#x27;ctry_ie&#x27;, &#x27;purp&#x27;, &#x27;src&#x27;,\n",
       "                                  &#x27;trans_mode&#x27;, &#x27;pt_cd&#x27;, &#x27;ship_date_mm&#x27;])])</pre></div></div></div><div class=\"sk-parallel\"><div class=\"sk-parallel-item\"><div class=\"sk-item\"><div class=\"sk-label-container\"><div class=\"sk-label sk-toggleable\"><input class=\"sk-toggleable__control sk-hidden--visually\" id=\"sk-estimator-id-13\" type=\"checkbox\" ><label for=\"sk-estimator-id-13\" class=\"sk-toggleable__label sk-toggleable__label-arrow\">targetencoder</label><div class=\"sk-toggleable__content\"><pre>[&#x27;species_code&#x27;, &#x27;wildlf_desc&#x27;, &#x27;wildlf_cat&#x27;, &#x27;ctry_org&#x27;, &#x27;ctry_ie&#x27;, &#x27;purp&#x27;, &#x27;src&#x27;, &#x27;trans_mode&#x27;, &#x27;pt_cd&#x27;, &#x27;ship_date_mm&#x27;]</pre></div></div></div><div class=\"sk-serial\"><div class=\"sk-item\"><div class=\"sk-estimator sk-toggleable\"><input class=\"sk-toggleable__control sk-hidden--visually\" id=\"sk-estimator-id-14\" type=\"checkbox\" ><label for=\"sk-estimator-id-14\" class=\"sk-toggleable__label sk-toggleable__label-arrow\">TargetEncoder</label><div class=\"sk-toggleable__content\"><pre>TargetEncoder()</pre></div></div></div></div></div></div><div class=\"sk-parallel-item\"><div class=\"sk-item\"><div class=\"sk-label-container\"><div class=\"sk-label sk-toggleable\"><input class=\"sk-toggleable__control sk-hidden--visually\" id=\"sk-estimator-id-15\" type=\"checkbox\" ><label for=\"sk-estimator-id-15\" class=\"sk-toggleable__label sk-toggleable__label-arrow\">remainder</label><div class=\"sk-toggleable__content\"><pre></pre></div></div></div><div class=\"sk-serial\"><div class=\"sk-item\"><div class=\"sk-estimator sk-toggleable\"><input class=\"sk-toggleable__control sk-hidden--visually\" id=\"sk-estimator-id-16\" type=\"checkbox\" ><label for=\"sk-estimator-id-16\" class=\"sk-toggleable__label sk-toggleable__label-arrow\">passthrough</label><div class=\"sk-toggleable__content\"><pre>passthrough</pre></div></div></div></div></div></div></div></div><div class=\"sk-item\"><div class=\"sk-estimator sk-toggleable\"><input class=\"sk-toggleable__control sk-hidden--visually\" id=\"sk-estimator-id-17\" type=\"checkbox\" ><label for=\"sk-estimator-id-17\" class=\"sk-toggleable__label sk-toggleable__label-arrow\">StandardScaler</label><div class=\"sk-toggleable__content\"><pre>StandardScaler()</pre></div></div></div><div class=\"sk-item\"><div class=\"sk-estimator sk-toggleable\"><input class=\"sk-toggleable__control sk-hidden--visually\" id=\"sk-estimator-id-18\" type=\"checkbox\" ><label for=\"sk-estimator-id-18\" class=\"sk-toggleable__label sk-toggleable__label-arrow\">LogisticRegression</label><div class=\"sk-toggleable__content\"><pre>LogisticRegression(random_state=42)</pre></div></div></div></div></div></div></div></div></div></div></div></div>"
      ],
      "text/plain": [
       "GridSearchCV(cv=5,\n",
       "             estimator=Pipeline(steps=[('targetEncoding',\n",
       "                                        ColumnTransformer(remainder='passthrough',\n",
       "                                                          transformers=[('targetencoder',\n",
       "                                                                         TargetEncoder(),\n",
       "                                                                         ['species_code',\n",
       "                                                                          'wildlf_desc',\n",
       "                                                                          'wildlf_cat',\n",
       "                                                                          'ctry_org',\n",
       "                                                                          'ctry_ie',\n",
       "                                                                          'purp',\n",
       "                                                                          'src',\n",
       "                                                                          'trans_mode',\n",
       "                                                                          'pt_cd',\n",
       "                                                                          'ship_date_mm'])])),\n",
       "                                       ('standardScaler', StandardScaler()),\n",
       "                                       ('clf',\n",
       "                                        LogisticRegression(random_state=42))]),\n",
       "             param_grid={'clf__C': [0.1, 0.5, 1, 5, 10, 50, 100],\n",
       "                         'clf__class_weight': [None, 'balanced', {0: 100, 1: 1},\n",
       "                                               {0: 50, 1: 1}],\n",
       "                         'clf__solver': ['lbfgs', 'liblinear', 'sag', 'saga']},\n",
       "             scoring='recall', verbose=3)"
      ]
     },
     "execution_count": 12,
     "metadata": {},
     "output_type": "execute_result"
    }
   ],
   "source": [
    "lr_pipe"
   ]
  },
  {
   "cell_type": "code",
   "execution_count": 18,
   "id": "998def80-1422-45e7-b94f-9bcedc086162",
   "metadata": {},
   "outputs": [
    {
     "name": "stdout",
     "output_type": "stream",
     "text": [
      "              precision    recall  f1-score   support\n",
      "\n",
      "           0       1.00      0.89      0.94     74192\n",
      "           1       0.04      0.56      0.08       643\n",
      "\n",
      "    accuracy                           0.89     74835\n",
      "   macro avg       0.52      0.73      0.51     74835\n",
      "weighted avg       0.99      0.89      0.94     74835\n",
      "\n"
     ]
    }
   ],
   "source": [
    "print(classification_report(y_test, lr_predicted))"
   ]
  },
  {
   "cell_type": "code",
   "execution_count": 15,
   "id": "cc3cb7eb-7fba-4057-9f07-6b3ee6a7b58e",
   "metadata": {},
   "outputs": [
    {
     "name": "stdout",
     "output_type": "stream",
     "text": [
      "{'clf__C': 0.1, 'clf__class_weight': 'balanced', 'clf__solver': 'lbfgs'}\n",
      "0.5625341497880358\n"
     ]
    }
   ],
   "source": [
    "print(lr_pipe.best_params_)\n",
    "print(lr_pipe.best_score_)"
   ]
  },
  {
   "cell_type": "code",
   "execution_count": 16,
   "id": "d61d61da-9e09-4ed5-9ad1-bce8b5077106",
   "metadata": {},
   "outputs": [
    {
     "data": {
      "text/html": [
       "<div>\n",
       "<style scoped>\n",
       "    .dataframe tbody tr th:only-of-type {\n",
       "        vertical-align: middle;\n",
       "    }\n",
       "\n",
       "    .dataframe tbody tr th {\n",
       "        vertical-align: top;\n",
       "    }\n",
       "\n",
       "    .dataframe thead th {\n",
       "        text-align: right;\n",
       "    }\n",
       "</style>\n",
       "<table border=\"1\" class=\"dataframe\">\n",
       "  <thead>\n",
       "    <tr style=\"text-align: right;\">\n",
       "      <th></th>\n",
       "      <th>mean_fit_time</th>\n",
       "      <th>std_fit_time</th>\n",
       "      <th>mean_score_time</th>\n",
       "      <th>std_score_time</th>\n",
       "      <th>param_clf__C</th>\n",
       "      <th>param_clf__class_weight</th>\n",
       "      <th>param_clf__solver</th>\n",
       "      <th>params</th>\n",
       "      <th>split0_test_score</th>\n",
       "      <th>split1_test_score</th>\n",
       "      <th>split2_test_score</th>\n",
       "      <th>split3_test_score</th>\n",
       "      <th>split4_test_score</th>\n",
       "      <th>mean_test_score</th>\n",
       "      <th>std_test_score</th>\n",
       "      <th>rank_test_score</th>\n",
       "    </tr>\n",
       "  </thead>\n",
       "  <tbody>\n",
       "    <tr>\n",
       "      <th>0</th>\n",
       "      <td>1.606230</td>\n",
       "      <td>0.016171</td>\n",
       "      <td>0.106671</td>\n",
       "      <td>0.000634</td>\n",
       "      <td>0.1</td>\n",
       "      <td>None</td>\n",
       "      <td>lbfgs</td>\n",
       "      <td>{'clf__C': 0.1, 'clf__class_weight': None, 'cl...</td>\n",
       "      <td>0.189610</td>\n",
       "      <td>0.215584</td>\n",
       "      <td>0.202597</td>\n",
       "      <td>0.227979</td>\n",
       "      <td>0.196891</td>\n",
       "      <td>0.206533</td>\n",
       "      <td>0.013687</td>\n",
       "      <td>36</td>\n",
       "    </tr>\n",
       "    <tr>\n",
       "      <th>1</th>\n",
       "      <td>1.657499</td>\n",
       "      <td>0.024733</td>\n",
       "      <td>0.101946</td>\n",
       "      <td>0.000648</td>\n",
       "      <td>0.1</td>\n",
       "      <td>None</td>\n",
       "      <td>liblinear</td>\n",
       "      <td>{'clf__C': 0.1, 'clf__class_weight': None, 'cl...</td>\n",
       "      <td>0.181818</td>\n",
       "      <td>0.212987</td>\n",
       "      <td>0.202597</td>\n",
       "      <td>0.225389</td>\n",
       "      <td>0.194301</td>\n",
       "      <td>0.203418</td>\n",
       "      <td>0.014998</td>\n",
       "      <td>56</td>\n",
       "    </tr>\n",
       "    <tr>\n",
       "      <th>2</th>\n",
       "      <td>4.423288</td>\n",
       "      <td>0.123471</td>\n",
       "      <td>0.102240</td>\n",
       "      <td>0.001113</td>\n",
       "      <td>0.1</td>\n",
       "      <td>None</td>\n",
       "      <td>sag</td>\n",
       "      <td>{'clf__C': 0.1, 'clf__class_weight': None, 'cl...</td>\n",
       "      <td>0.189610</td>\n",
       "      <td>0.215584</td>\n",
       "      <td>0.202597</td>\n",
       "      <td>0.227979</td>\n",
       "      <td>0.196891</td>\n",
       "      <td>0.206533</td>\n",
       "      <td>0.013687</td>\n",
       "      <td>36</td>\n",
       "    </tr>\n",
       "    <tr>\n",
       "      <th>3</th>\n",
       "      <td>4.587316</td>\n",
       "      <td>0.100287</td>\n",
       "      <td>0.104099</td>\n",
       "      <td>0.001855</td>\n",
       "      <td>0.1</td>\n",
       "      <td>None</td>\n",
       "      <td>saga</td>\n",
       "      <td>{'clf__C': 0.1, 'clf__class_weight': None, 'cl...</td>\n",
       "      <td>0.189610</td>\n",
       "      <td>0.215584</td>\n",
       "      <td>0.205195</td>\n",
       "      <td>0.227979</td>\n",
       "      <td>0.196891</td>\n",
       "      <td>0.207052</td>\n",
       "      <td>0.013577</td>\n",
       "      <td>29</td>\n",
       "    </tr>\n",
       "    <tr>\n",
       "      <th>4</th>\n",
       "      <td>1.570933</td>\n",
       "      <td>0.011139</td>\n",
       "      <td>0.105715</td>\n",
       "      <td>0.002128</td>\n",
       "      <td>0.1</td>\n",
       "      <td>balanced</td>\n",
       "      <td>lbfgs</td>\n",
       "      <td>{'clf__C': 0.1, 'clf__class_weight': 'balanced...</td>\n",
       "      <td>0.587013</td>\n",
       "      <td>0.529870</td>\n",
       "      <td>0.574026</td>\n",
       "      <td>0.593264</td>\n",
       "      <td>0.528497</td>\n",
       "      <td>0.562534</td>\n",
       "      <td>0.027932</td>\n",
       "      <td>1</td>\n",
       "    </tr>\n",
       "    <tr>\n",
       "      <th>...</th>\n",
       "      <td>...</td>\n",
       "      <td>...</td>\n",
       "      <td>...</td>\n",
       "      <td>...</td>\n",
       "      <td>...</td>\n",
       "      <td>...</td>\n",
       "      <td>...</td>\n",
       "      <td>...</td>\n",
       "      <td>...</td>\n",
       "      <td>...</td>\n",
       "      <td>...</td>\n",
       "      <td>...</td>\n",
       "      <td>...</td>\n",
       "      <td>...</td>\n",
       "      <td>...</td>\n",
       "      <td>...</td>\n",
       "    </tr>\n",
       "    <tr>\n",
       "      <th>107</th>\n",
       "      <td>6.395761</td>\n",
       "      <td>0.361358</td>\n",
       "      <td>0.110545</td>\n",
       "      <td>0.002595</td>\n",
       "      <td>100</td>\n",
       "      <td>{0: 100, 1: 1}</td>\n",
       "      <td>saga</td>\n",
       "      <td>{'clf__C': 100, 'clf__class_weight': {0: 100, ...</td>\n",
       "      <td>0.007792</td>\n",
       "      <td>0.023377</td>\n",
       "      <td>0.041558</td>\n",
       "      <td>0.015544</td>\n",
       "      <td>0.033679</td>\n",
       "      <td>0.024390</td>\n",
       "      <td>0.012131</td>\n",
       "      <td>106</td>\n",
       "    </tr>\n",
       "    <tr>\n",
       "      <th>108</th>\n",
       "      <td>1.829165</td>\n",
       "      <td>0.027320</td>\n",
       "      <td>0.111092</td>\n",
       "      <td>0.002460</td>\n",
       "      <td>100</td>\n",
       "      <td>{0: 50, 1: 1}</td>\n",
       "      <td>lbfgs</td>\n",
       "      <td>{'clf__C': 100, 'clf__class_weight': {0: 50, 1...</td>\n",
       "      <td>0.020779</td>\n",
       "      <td>0.044156</td>\n",
       "      <td>0.054545</td>\n",
       "      <td>0.033679</td>\n",
       "      <td>0.038860</td>\n",
       "      <td>0.038404</td>\n",
       "      <td>0.011196</td>\n",
       "      <td>68</td>\n",
       "    </tr>\n",
       "    <tr>\n",
       "      <th>109</th>\n",
       "      <td>1.813728</td>\n",
       "      <td>0.048706</td>\n",
       "      <td>0.113980</td>\n",
       "      <td>0.010290</td>\n",
       "      <td>100</td>\n",
       "      <td>{0: 50, 1: 1}</td>\n",
       "      <td>liblinear</td>\n",
       "      <td>{'clf__C': 100, 'clf__class_weight': {0: 50, 1...</td>\n",
       "      <td>0.020779</td>\n",
       "      <td>0.044156</td>\n",
       "      <td>0.054545</td>\n",
       "      <td>0.033679</td>\n",
       "      <td>0.038860</td>\n",
       "      <td>0.038404</td>\n",
       "      <td>0.011196</td>\n",
       "      <td>68</td>\n",
       "    </tr>\n",
       "    <tr>\n",
       "      <th>110</th>\n",
       "      <td>12.024664</td>\n",
       "      <td>11.541600</td>\n",
       "      <td>0.133138</td>\n",
       "      <td>0.039950</td>\n",
       "      <td>100</td>\n",
       "      <td>{0: 50, 1: 1}</td>\n",
       "      <td>sag</td>\n",
       "      <td>{'clf__C': 100, 'clf__class_weight': {0: 50, 1...</td>\n",
       "      <td>0.012987</td>\n",
       "      <td>0.046753</td>\n",
       "      <td>0.057143</td>\n",
       "      <td>0.033679</td>\n",
       "      <td>0.036269</td>\n",
       "      <td>0.037366</td>\n",
       "      <td>0.014754</td>\n",
       "      <td>83</td>\n",
       "    </tr>\n",
       "    <tr>\n",
       "      <th>111</th>\n",
       "      <td>11.672304</td>\n",
       "      <td>9.481576</td>\n",
       "      <td>0.134571</td>\n",
       "      <td>0.039660</td>\n",
       "      <td>100</td>\n",
       "      <td>{0: 50, 1: 1}</td>\n",
       "      <td>saga</td>\n",
       "      <td>{'clf__C': 100, 'clf__class_weight': {0: 50, 1...</td>\n",
       "      <td>0.025974</td>\n",
       "      <td>0.041558</td>\n",
       "      <td>0.054545</td>\n",
       "      <td>0.033679</td>\n",
       "      <td>0.038860</td>\n",
       "      <td>0.038923</td>\n",
       "      <td>0.009447</td>\n",
       "      <td>60</td>\n",
       "    </tr>\n",
       "  </tbody>\n",
       "</table>\n",
       "<p>112 rows × 16 columns</p>\n",
       "</div>"
      ],
      "text/plain": [
       "     mean_fit_time  std_fit_time  mean_score_time  std_score_time  \\\n",
       "0         1.606230      0.016171         0.106671        0.000634   \n",
       "1         1.657499      0.024733         0.101946        0.000648   \n",
       "2         4.423288      0.123471         0.102240        0.001113   \n",
       "3         4.587316      0.100287         0.104099        0.001855   \n",
       "4         1.570933      0.011139         0.105715        0.002128   \n",
       "..             ...           ...              ...             ...   \n",
       "107       6.395761      0.361358         0.110545        0.002595   \n",
       "108       1.829165      0.027320         0.111092        0.002460   \n",
       "109       1.813728      0.048706         0.113980        0.010290   \n",
       "110      12.024664     11.541600         0.133138        0.039950   \n",
       "111      11.672304      9.481576         0.134571        0.039660   \n",
       "\n",
       "    param_clf__C param_clf__class_weight param_clf__solver  \\\n",
       "0            0.1                    None             lbfgs   \n",
       "1            0.1                    None         liblinear   \n",
       "2            0.1                    None               sag   \n",
       "3            0.1                    None              saga   \n",
       "4            0.1                balanced             lbfgs   \n",
       "..           ...                     ...               ...   \n",
       "107          100          {0: 100, 1: 1}              saga   \n",
       "108          100           {0: 50, 1: 1}             lbfgs   \n",
       "109          100           {0: 50, 1: 1}         liblinear   \n",
       "110          100           {0: 50, 1: 1}               sag   \n",
       "111          100           {0: 50, 1: 1}              saga   \n",
       "\n",
       "                                                params  split0_test_score  \\\n",
       "0    {'clf__C': 0.1, 'clf__class_weight': None, 'cl...           0.189610   \n",
       "1    {'clf__C': 0.1, 'clf__class_weight': None, 'cl...           0.181818   \n",
       "2    {'clf__C': 0.1, 'clf__class_weight': None, 'cl...           0.189610   \n",
       "3    {'clf__C': 0.1, 'clf__class_weight': None, 'cl...           0.189610   \n",
       "4    {'clf__C': 0.1, 'clf__class_weight': 'balanced...           0.587013   \n",
       "..                                                 ...                ...   \n",
       "107  {'clf__C': 100, 'clf__class_weight': {0: 100, ...           0.007792   \n",
       "108  {'clf__C': 100, 'clf__class_weight': {0: 50, 1...           0.020779   \n",
       "109  {'clf__C': 100, 'clf__class_weight': {0: 50, 1...           0.020779   \n",
       "110  {'clf__C': 100, 'clf__class_weight': {0: 50, 1...           0.012987   \n",
       "111  {'clf__C': 100, 'clf__class_weight': {0: 50, 1...           0.025974   \n",
       "\n",
       "     split1_test_score  split2_test_score  split3_test_score  \\\n",
       "0             0.215584           0.202597           0.227979   \n",
       "1             0.212987           0.202597           0.225389   \n",
       "2             0.215584           0.202597           0.227979   \n",
       "3             0.215584           0.205195           0.227979   \n",
       "4             0.529870           0.574026           0.593264   \n",
       "..                 ...                ...                ...   \n",
       "107           0.023377           0.041558           0.015544   \n",
       "108           0.044156           0.054545           0.033679   \n",
       "109           0.044156           0.054545           0.033679   \n",
       "110           0.046753           0.057143           0.033679   \n",
       "111           0.041558           0.054545           0.033679   \n",
       "\n",
       "     split4_test_score  mean_test_score  std_test_score  rank_test_score  \n",
       "0             0.196891         0.206533        0.013687               36  \n",
       "1             0.194301         0.203418        0.014998               56  \n",
       "2             0.196891         0.206533        0.013687               36  \n",
       "3             0.196891         0.207052        0.013577               29  \n",
       "4             0.528497         0.562534        0.027932                1  \n",
       "..                 ...              ...             ...              ...  \n",
       "107           0.033679         0.024390        0.012131              106  \n",
       "108           0.038860         0.038404        0.011196               68  \n",
       "109           0.038860         0.038404        0.011196               68  \n",
       "110           0.036269         0.037366        0.014754               83  \n",
       "111           0.038860         0.038923        0.009447               60  \n",
       "\n",
       "[112 rows x 16 columns]"
      ]
     },
     "execution_count": 16,
     "metadata": {},
     "output_type": "execute_result"
    }
   ],
   "source": [
    "pd.DataFrame(lr_pipe.cv_results_)"
   ]
  },
  {
   "cell_type": "code",
   "execution_count": null,
   "id": "ee2eba07-8e03-405d-aecd-dd09d9a746cf",
   "metadata": {},
   "outputs": [],
   "source": []
  }
 ],
 "metadata": {
  "kernelspec": {
   "display_name": "Python 3 (ipykernel)",
   "language": "python",
   "name": "python3"
  },
  "language_info": {
   "codemirror_mode": {
    "name": "ipython",
    "version": 3
   },
   "file_extension": ".py",
   "mimetype": "text/x-python",
   "name": "python",
   "nbconvert_exporter": "python",
   "pygments_lexer": "ipython3",
   "version": "3.10.4"
  }
 },
 "nbformat": 4,
 "nbformat_minor": 5
}
