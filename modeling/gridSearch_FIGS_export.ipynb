{
 "cells": [
  {
   "cell_type": "markdown",
   "source": [
    "# Implementing gridsearchcv for XGBoost"
   ],
   "metadata": {
    "collapsed": false,
    "pycharm": {
     "name": "#%% md\n"
    }
   }
  },
  {
   "cell_type": "code",
   "execution_count": 1,
   "outputs": [],
   "source": [
    "import pandas as pd\n",
    "import numpy as np\n",
    "import modelinghelper as helper\n",
    "from imodels import FIGSClassifier\n",
    "import os\n",
    "\n",
    "# supress future warnings\n",
    "import warnings\n",
    "warnings.filterwarnings(action='ignore', category=FutureWarning)"
   ],
   "metadata": {
    "collapsed": false,
    "pycharm": {
     "name": "#%%\n"
    }
   }
  },
  {
   "cell_type": "code",
   "execution_count": 2,
   "outputs": [
    {
     "name": "stdout",
     "output_type": "stream",
     "text": [
      "Folder already exists\n"
     ]
    }
   ],
   "source": [
    "#set up random seed\n",
    "rng = 42\n",
    "\n",
    "# set up folder to save results\n",
    "output_path = 'gridsearch_all_models'\n",
    "dataset = 'export'\n",
    "mod_name = \"FIGS\"\n",
    "run_num = \"run_1\"\n",
    "\n",
    "if not os.path.exists(output_path):\n",
    "    os.makedirs(output_path)\n",
    "else:\n",
    "    print(\"Folder already exists\")\n",
    "\n",
    "# file name\n",
    "prefix = f'{output_path}/{dataset}/{mod_name}{run_num}'"
   ],
   "metadata": {
    "collapsed": false,
    "pycharm": {
     "name": "#%%\n"
    }
   }
  },
  {
   "cell_type": "code",
   "execution_count": 3,
   "outputs": [],
   "source": [
    "# read in data\n",
    "p = '../data/'\n",
    "input_name = 'cleaned.csv'\n",
    "\n",
    "df = pd.read_csv(f'{p}{input_name}')\n",
    "# convert month to string\n",
    "df['ship_date_mm'] = df['ship_date_mm'].astype(str)"
   ],
   "metadata": {
    "collapsed": false,
    "pycharm": {
     "name": "#%%\n"
    }
   }
  },
  {
   "cell_type": "code",
   "execution_count": 4,
   "outputs": [],
   "source": [
    "non_feature_cols = ['control_number', 'disp_date', 'i_e', 'ship_date',\n",
    "                    'cartons', 'qty', 'unit', 'specific_generic_name',\n",
    "                    'genus', 'species', 'wildlf_cat',\n",
    "                    'disp_date_yyyy', 'disp_date_mm', 'disp_ship_date']\n",
    "\n",
    "target = ['act', 'dp_cd']\n",
    "\n",
    "feature_cols = ['species_code', 'wildlf_desc', 'wildlf_cat',\n",
    "                'ctry_org', 'ctry_ie','purp', 'src', 'trans_mode', 'pt_cd',\n",
    "                'value', 'ship_date_mm']\n",
    "\n",
    "export_df = helper.df_filtering(df, i_e = 'E', f_cols = feature_cols)"
   ],
   "metadata": {
    "collapsed": false,
    "pycharm": {
     "name": "#%%\n"
    }
   }
  },
  {
   "cell_type": "code",
   "execution_count": 5,
   "outputs": [],
   "source": [
    "X_train, X_test, y_train, y_test = helper.data_split(export_df)"
   ],
   "metadata": {
    "collapsed": false,
    "pycharm": {
     "name": "#%%\n"
    }
   }
  },
  {
   "cell_type": "markdown",
   "source": [
    "### FIGS Export"
   ],
   "metadata": {
    "collapsed": false,
    "pycharm": {
     "name": "#%% md\n"
    }
   }
  },
  {
   "cell_type": "code",
   "execution_count": null,
   "outputs": [
    {
     "name": "stdout",
     "output_type": "stream",
     "text": [
      "Fitting 5 folds for each of 49 candidates, totalling 245 fits\n",
      "[CV 1/5] END ..................clf__max_rules=1;, score=0.106 total time=   2.8s\n",
      "[CV 2/5] END ..................clf__max_rules=1;, score=0.135 total time=   2.6s\n",
      "[CV 3/5] END ..................clf__max_rules=1;, score=0.101 total time=   2.7s\n",
      "[CV 4/5] END ..................clf__max_rules=1;, score=0.114 total time=   2.9s\n",
      "[CV 5/5] END ..................clf__max_rules=1;, score=0.000 total time=   2.6s\n",
      "[CV 1/5] END ..................clf__max_rules=2;, score=0.106 total time=   3.5s\n",
      "[CV 2/5] END ..................clf__max_rules=2;, score=0.135 total time=   3.2s\n",
      "[CV 3/5] END ..................clf__max_rules=2;, score=0.101 total time=   3.2s\n",
      "[CV 4/5] END ..................clf__max_rules=2;, score=0.114 total time=   3.2s\n",
      "[CV 5/5] END ..................clf__max_rules=2;, score=0.078 total time=   3.2s\n",
      "[CV 1/5] END ..................clf__max_rules=3;, score=0.221 total time=   3.5s\n",
      "[CV 2/5] END ..................clf__max_rules=3;, score=0.249 total time=   3.6s\n",
      "[CV 3/5] END ..................clf__max_rules=3;, score=0.226 total time=   3.5s\n",
      "[CV 4/5] END ..................clf__max_rules=3;, score=0.210 total time=   3.6s\n",
      "[CV 5/5] END ..................clf__max_rules=3;, score=0.228 total time=   3.7s\n",
      "[CV 1/5] END ..................clf__max_rules=4;, score=0.221 total time=   4.4s\n",
      "[CV 2/5] END ..................clf__max_rules=4;, score=0.249 total time=   3.9s\n",
      "[CV 3/5] END ..................clf__max_rules=4;, score=0.226 total time=   4.1s\n",
      "[CV 4/5] END ..................clf__max_rules=4;, score=0.210 total time=   3.9s\n",
      "[CV 5/5] END ..................clf__max_rules=4;, score=0.228 total time=   4.1s\n",
      "[CV 1/5] END ..................clf__max_rules=5;, score=0.145 total time=   4.7s\n",
      "[CV 2/5] END ..................clf__max_rules=5;, score=0.249 total time=   4.6s\n",
      "[CV 3/5] END ..................clf__max_rules=5;, score=0.179 total time=   4.6s\n",
      "[CV 4/5] END ..................clf__max_rules=5;, score=0.210 total time=   4.6s\n",
      "[CV 5/5] END ..................clf__max_rules=5;, score=0.228 total time=   4.5s\n",
      "[CV 1/5] END ..................clf__max_rules=6;, score=0.195 total time=   5.7s\n",
      "[CV 2/5] END ..................clf__max_rules=6;, score=0.268 total time=   5.7s\n",
      "[CV 3/5] END ..................clf__max_rules=6;, score=0.203 total time=   5.6s\n",
      "[CV 4/5] END ..................clf__max_rules=6;, score=0.142 total time=   5.3s\n",
      "[CV 5/5] END ..................clf__max_rules=6;, score=0.212 total time=   5.6s\n",
      "[CV 1/5] END ..................clf__max_rules=7;, score=0.195 total time=   6.4s\n",
      "[CV 2/5] END ..................clf__max_rules=7;, score=0.262 total time=   6.2s\n",
      "[CV 3/5] END ..................clf__max_rules=7;, score=0.213 total time=   6.0s\n",
      "[CV 4/5] END ..................clf__max_rules=7;, score=0.166 total time=   5.7s\n",
      "[CV 5/5] END ..................clf__max_rules=7;, score=0.236 total time=   5.7s\n",
      "[CV 1/5] END ..................clf__max_rules=8;, score=0.218 total time=   6.1s\n",
      "[CV 2/5] END ..................clf__max_rules=8;, score=0.231 total time=   5.9s\n",
      "[CV 3/5] END ..................clf__max_rules=8;, score=0.257 total time=   6.1s\n",
      "[CV 4/5] END ..................clf__max_rules=8;, score=0.168 total time=   6.0s\n",
      "[CV 5/5] END ..................clf__max_rules=8;, score=0.236 total time=   6.9s\n",
      "[CV 1/5] END ..................clf__max_rules=9;, score=0.242 total time=   6.3s\n",
      "[CV 2/5] END ..................clf__max_rules=9;, score=0.231 total time=   6.1s\n",
      "[CV 3/5] END ..................clf__max_rules=9;, score=0.257 total time=   6.4s\n",
      "[CV 4/5] END ..................clf__max_rules=9;, score=0.197 total time=   6.5s\n",
      "[CV 5/5] END ..................clf__max_rules=9;, score=0.236 total time=   7.5s\n",
      "[CV 1/5] END .................clf__max_rules=10;, score=0.242 total time=   6.9s\n",
      "[CV 2/5] END .................clf__max_rules=10;, score=0.231 total time=   6.8s\n",
      "[CV 3/5] END .................clf__max_rules=10;, score=0.255 total time=   7.2s\n",
      "[CV 4/5] END .................clf__max_rules=10;, score=0.205 total time=   6.8s\n",
      "[CV 5/5] END .................clf__max_rules=10;, score=0.256 total time=   8.0s\n",
      "[CV 1/5] END .................clf__max_rules=11;, score=0.231 total time=   7.5s\n",
      "[CV 2/5] END .................clf__max_rules=11;, score=0.231 total time=   7.2s\n",
      "[CV 3/5] END .................clf__max_rules=11;, score=0.255 total time=   7.4s\n",
      "[CV 4/5] END .................clf__max_rules=11;, score=0.205 total time=   7.9s\n",
      "[CV 5/5] END .................clf__max_rules=11;, score=0.256 total time=   8.9s\n",
      "[CV 1/5] END .................clf__max_rules=12;, score=0.236 total time=   8.3s\n",
      "[CV 2/5] END .................clf__max_rules=12;, score=0.273 total time=   7.6s\n",
      "[CV 3/5] END .................clf__max_rules=12;, score=0.268 total time=   8.1s\n",
      "[CV 4/5] END .................clf__max_rules=12;, score=0.205 total time=   8.1s\n",
      "[CV 5/5] END .................clf__max_rules=12;, score=0.256 total time=   9.7s\n",
      "[CV 1/5] END .................clf__max_rules=13;, score=0.236 total time=   9.0s\n",
      "[CV 2/5] END .................clf__max_rules=13;, score=0.273 total time=   8.6s\n",
      "[CV 3/5] END .................clf__max_rules=13;, score=0.268 total time=   8.5s\n",
      "[CV 4/5] END .................clf__max_rules=13;, score=0.249 total time=   8.5s\n",
      "[CV 5/5] END .................clf__max_rules=13;, score=0.269 total time=  10.3s\n",
      "[CV 1/5] END .................clf__max_rules=14;, score=0.234 total time=   9.1s\n",
      "[CV 2/5] END .................clf__max_rules=14;, score=0.273 total time=   8.8s\n",
      "[CV 3/5] END .................clf__max_rules=14;, score=0.275 total time=   9.5s\n",
      "[CV 4/5] END .................clf__max_rules=14;, score=0.249 total time=  10.1s\n",
      "[CV 5/5] END .................clf__max_rules=14;, score=0.269 total time=  12.5s\n",
      "[CV 1/5] END .................clf__max_rules=15;, score=0.234 total time=   9.9s\n",
      "[CV 2/5] END .................clf__max_rules=15;, score=0.286 total time=   9.0s\n",
      "[CV 3/5] END .................clf__max_rules=15;, score=0.275 total time=   9.3s\n",
      "[CV 4/5] END .................clf__max_rules=15;, score=0.249 total time=   9.5s\n",
      "[CV 5/5] END .................clf__max_rules=15;, score=0.269 total time=  12.1s\n",
      "[CV 1/5] END .................clf__max_rules=16;, score=0.234 total time=  10.8s\n",
      "[CV 2/5] END .................clf__max_rules=16;, score=0.288 total time=  10.7s\n",
      "[CV 3/5] END .................clf__max_rules=16;, score=0.270 total time=  10.8s\n",
      "[CV 4/5] END .................clf__max_rules=16;, score=0.249 total time=  10.4s\n",
      "[CV 5/5] END .................clf__max_rules=16;, score=0.269 total time=  12.1s\n",
      "[CV 1/5] END .................clf__max_rules=17;, score=0.234 total time=  11.7s\n",
      "[CV 2/5] END .................clf__max_rules=17;, score=0.288 total time=  11.8s\n",
      "[CV 3/5] END .................clf__max_rules=17;, score=0.270 total time=  12.1s\n",
      "[CV 4/5] END .................clf__max_rules=17;, score=0.249 total time=  11.2s\n",
      "[CV 5/5] END .................clf__max_rules=17;, score=0.269 total time=  14.0s\n",
      "[CV 1/5] END .................clf__max_rules=18;, score=0.234 total time=  11.6s\n",
      "[CV 2/5] END .................clf__max_rules=18;, score=0.288 total time=  10.9s\n",
      "[CV 3/5] END .................clf__max_rules=18;, score=0.275 total time=  11.7s\n",
      "[CV 4/5] END .................clf__max_rules=18;, score=0.249 total time=  12.0s\n",
      "[CV 5/5] END .................clf__max_rules=18;, score=0.272 total time=  13.8s\n",
      "[CV 1/5] END .................clf__max_rules=19;, score=0.234 total time=  12.3s\n",
      "[CV 2/5] END .................clf__max_rules=19;, score=0.288 total time=  11.8s\n",
      "[CV 3/5] END .................clf__max_rules=19;, score=0.270 total time=  13.0s\n",
      "[CV 4/5] END .................clf__max_rules=19;, score=0.249 total time=  13.6s\n",
      "[CV 5/5] END .................clf__max_rules=19;, score=0.269 total time=  15.9s\n",
      "[CV 1/5] END .................clf__max_rules=20;, score=0.252 total time=  13.5s\n",
      "[CV 2/5] END .................clf__max_rules=20;, score=0.288 total time=  13.4s\n",
      "[CV 3/5] END .................clf__max_rules=20;, score=0.275 total time=  13.9s\n",
      "[CV 4/5] END .................clf__max_rules=20;, score=0.249 total time=  14.1s\n",
      "[CV 5/5] END .................clf__max_rules=20;, score=0.269 total time=  16.8s\n",
      "[CV 1/5] END .................clf__max_rules=21;, score=0.252 total time=  14.6s\n",
      "[CV 2/5] END .................clf__max_rules=21;, score=0.288 total time=  13.7s\n"
     ]
    }
   ],
   "source": [
    "clf_figs = FIGSClassifier(random_state=rng)\n",
    "\n",
    "figs_params = {\n",
    "    'clf__max_rules' : np.arange(1,50),\n",
    "    #early stopping?\n",
    "}\n",
    "figs_pipe = helper.gridsearch_pipeline(X_train, y_train, clf_figs, figs_params)"
   ],
   "metadata": {
    "collapsed": false,
    "pycharm": {
     "name": "#%%\n",
     "is_executing": true
    }
   }
  }
 ],
 "metadata": {
  "kernelspec": {
   "display_name": "Python 3",
   "language": "python",
   "name": "python3"
  },
  "language_info": {
   "codemirror_mode": {
    "name": "ipython",
    "version": 2
   },
   "file_extension": ".py",
   "mimetype": "text/x-python",
   "name": "python",
   "nbconvert_exporter": "python",
   "pygments_lexer": "ipython2",
   "version": "2.7.6"
  }
 },
 "nbformat": 4,
 "nbformat_minor": 0
}