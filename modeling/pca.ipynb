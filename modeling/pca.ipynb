{
 "cells": [
  {
   "cell_type": "markdown",
   "id": "9c2c0902-16f6-4b47-8eb2-2fc98643799f",
   "metadata": {},
   "source": [
    "### PCA"
   ]
  },
  {
   "cell_type": "code",
   "execution_count": 1,
   "id": "a2d8ec97-4af0-4ab5-9c77-177b114dedea",
   "metadata": {},
   "outputs": [],
   "source": [
    "import pandas as pd\n",
    "import numpy as np\n",
    "\n",
    "from sklearn.model_selection import train_test_split\n",
    "from sklearn.compose import make_column_transformer\n",
    "from category_encoders.target_encoder import TargetEncoder\n",
    "from sklearn.preprocessing import StandardScaler, RobustScaler\n",
    "from sklearn.pipeline import make_pipeline, Pipeline\n",
    "\n",
    "from sklearn.decomposition import PCA, SparsePCA\n",
    "from sklearn.covariance import empirical_covariance\n",
    "\n",
    "import matplotlib.pyplot as plt\n",
    "import matplotlib.cm as cm\n",
    "from matplotlib.colors import ListedColormap, BoundaryNorm\n",
    "import matplotlib.patches as mpatches\n",
    "\n",
    "import seaborn as sns\n",
    "import joblib\n",
    "import os\n",
    "\n",
    "import warnings\n",
    "warnings.filterwarnings(action='ignore', category=FutureWarning) # setting ignore as a parameter and further adding category"
   ]
  },
  {
   "cell_type": "code",
   "execution_count": 2,
   "id": "e1821f0c-e109-41e6-a3b1-fdaf14254ce3",
   "metadata": {},
   "outputs": [],
   "source": [
    "rng = 42"
   ]
  },
  {
   "cell_type": "code",
   "execution_count": 3,
   "id": "1dcf5bf1-4a7b-4159-a2e7-a8d05f92b604",
   "metadata": {},
   "outputs": [],
   "source": [
    "p = '../data/'\n",
    "input_name = 'cleaned.csv'\n",
    "\n",
    "df = pd.read_csv(f'{p}{input_name}')"
   ]
  },
  {
   "cell_type": "code",
   "execution_count": 4,
   "id": "ef535dfa-9fa5-499c-8cc2-5050f06ad6af",
   "metadata": {},
   "outputs": [],
   "source": [
    "# set up folder to save results\n",
    "#os.makedirs('export_run5_PCA')\n",
    "prefix = 'export_run5_PCA/export'"
   ]
  },
  {
   "cell_type": "code",
   "execution_count": 5,
   "id": "f3216777-d653-48fb-abdc-168c8e0e7d11",
   "metadata": {},
   "outputs": [],
   "source": [
    "def df_filtering(df, i_e = 'I', f_cols = []):\n",
    "\n",
    "    filtered_df = df[df.i_e == i_e]\n",
    "    filtered_df = filtered_df[f_cols+['act']]\n",
    "    \n",
    "    return filtered_df\n",
    "\n",
    "def data_split(df):\n",
    "    X, y = df.iloc[:,:-1], df.iloc[:,-1:]\n",
    "    y = np.where(y['act']=='R',1,0)\n",
    "    \n",
    "    X_train, X_test, y_train, y_test = train_test_split(X, y, random_state=rng, stratify=y) \n",
    "    \n",
    "    return X_train, X_test, y_train, y_test"
   ]
  },
  {
   "cell_type": "code",
   "execution_count": 6,
   "id": "8ba00ba2-8716-49c7-824f-068d9641e0c7",
   "metadata": {},
   "outputs": [],
   "source": [
    "non_feature_cols = ['control_number', 'disp_date', 'i_e', 'ship_date', \n",
    "                    'disp_date_yyyy', 'disp_date_mm', 'disp_ship_date']\n",
    "\n",
    "target = ['act', 'dp_cd']\n",
    "\n",
    "feature_cols = ['species_code', 'wildlf_desc', 'specific_generic_name', 'genus', 'species', 'wildlf_cat', \n",
    "                'ctry_org', 'ctry_ie','purp', 'src', 'trans_mode', 'pt_cd',\n",
    "                 'qty', 'unit', #'cartons',\n",
    "                 'value', 'ship_date_mm']\n",
    "\n",
    "export_df = df_filtering(df, i_e = 'E', f_cols = feature_cols)\n",
    "X_train, X_test, y_train, y_test = data_split(export_df)"
   ]
  },
  {
   "cell_type": "code",
   "execution_count": 8,
   "id": "4514b376-8686-4529-b554-172a924f421d",
   "metadata": {},
   "outputs": [
    {
     "data": {
      "text/html": [
       "<div>\n",
       "<style scoped>\n",
       "    .dataframe tbody tr th:only-of-type {\n",
       "        vertical-align: middle;\n",
       "    }\n",
       "\n",
       "    .dataframe tbody tr th {\n",
       "        vertical-align: top;\n",
       "    }\n",
       "\n",
       "    .dataframe thead th {\n",
       "        text-align: right;\n",
       "    }\n",
       "</style>\n",
       "<table border=\"1\" class=\"dataframe\">\n",
       "  <thead>\n",
       "    <tr style=\"text-align: right;\">\n",
       "      <th></th>\n",
       "      <th>species_code</th>\n",
       "      <th>wildlf_desc</th>\n",
       "      <th>specific_generic_name</th>\n",
       "      <th>genus</th>\n",
       "      <th>species</th>\n",
       "      <th>wildlf_cat</th>\n",
       "      <th>ctry_org</th>\n",
       "      <th>ctry_ie</th>\n",
       "      <th>purp</th>\n",
       "      <th>src</th>\n",
       "      <th>trans_mode</th>\n",
       "      <th>pt_cd</th>\n",
       "      <th>qty</th>\n",
       "      <th>unit</th>\n",
       "      <th>value</th>\n",
       "      <th>ship_date_mm</th>\n",
       "    </tr>\n",
       "  </thead>\n",
       "  <tbody>\n",
       "    <tr>\n",
       "      <th>65575</th>\n",
       "      <td>PINM</td>\n",
       "      <td>TRI</td>\n",
       "      <td>GREAT PEARL OYSTER</td>\n",
       "      <td>PINCTADA</td>\n",
       "      <td>MARGARITIFERA</td>\n",
       "      <td>MOL</td>\n",
       "      <td>PF</td>\n",
       "      <td>JP</td>\n",
       "      <td>T</td>\n",
       "      <td>W</td>\n",
       "      <td>A</td>\n",
       "      <td>BA</td>\n",
       "      <td>1.0</td>\n",
       "      <td>NO</td>\n",
       "      <td>0.0</td>\n",
       "      <td>5</td>\n",
       "    </tr>\n",
       "    <tr>\n",
       "      <th>126087</th>\n",
       "      <td>ALLM</td>\n",
       "      <td>SPE</td>\n",
       "      <td>AMERICAN ALLIGATOR</td>\n",
       "      <td>ALLIGATOR</td>\n",
       "      <td>MISSISSIPPIENSIS</td>\n",
       "      <td>REP</td>\n",
       "      <td>US</td>\n",
       "      <td>TT</td>\n",
       "      <td>M</td>\n",
       "      <td>W</td>\n",
       "      <td>A</td>\n",
       "      <td>MI</td>\n",
       "      <td>14.0</td>\n",
       "      <td>NO</td>\n",
       "      <td>2320.0</td>\n",
       "      <td>4</td>\n",
       "    </tr>\n",
       "    <tr>\n",
       "      <th>486033</th>\n",
       "      <td>PIMX</td>\n",
       "      <td>JWL</td>\n",
       "      <td>GOLD-LIP OYSTER</td>\n",
       "      <td>PINCTADA</td>\n",
       "      <td>MAXIMA</td>\n",
       "      <td>MOL</td>\n",
       "      <td>MX</td>\n",
       "      <td>HK</td>\n",
       "      <td>T</td>\n",
       "      <td>W</td>\n",
       "      <td>A</td>\n",
       "      <td>HA</td>\n",
       "      <td>1.0</td>\n",
       "      <td>NO</td>\n",
       "      <td>53.0</td>\n",
       "      <td>1</td>\n",
       "    </tr>\n",
       "    <tr>\n",
       "      <th>798703</th>\n",
       "      <td>MOLL</td>\n",
       "      <td>LIV</td>\n",
       "      <td>SHELLS MOLLUSCS</td>\n",
       "      <td>NaN_genus</td>\n",
       "      <td>NaN_species</td>\n",
       "      <td>MOL</td>\n",
       "      <td>VS</td>\n",
       "      <td>CA</td>\n",
       "      <td>T</td>\n",
       "      <td>W</td>\n",
       "      <td>A</td>\n",
       "      <td>LA</td>\n",
       "      <td>350.0</td>\n",
       "      <td>NO</td>\n",
       "      <td>208.0</td>\n",
       "      <td>12</td>\n",
       "    </tr>\n",
       "    <tr>\n",
       "      <th>392269</th>\n",
       "      <td>WDER</td>\n",
       "      <td>SKI</td>\n",
       "      <td>WHITE-TAILED DEER</td>\n",
       "      <td>ODOCOILEUS</td>\n",
       "      <td>VIRGINIANUS</td>\n",
       "      <td>MAM</td>\n",
       "      <td>US</td>\n",
       "      <td>CN</td>\n",
       "      <td>T</td>\n",
       "      <td>W</td>\n",
       "      <td>O</td>\n",
       "      <td>NW</td>\n",
       "      <td>744.0</td>\n",
       "      <td>NO</td>\n",
       "      <td>22190.0</td>\n",
       "      <td>2</td>\n",
       "    </tr>\n",
       "  </tbody>\n",
       "</table>\n",
       "</div>"
      ],
      "text/plain": [
       "       species_code wildlf_desc specific_generic_name       genus  \\\n",
       "65575          PINM         TRI    GREAT PEARL OYSTER    PINCTADA   \n",
       "126087         ALLM         SPE    AMERICAN ALLIGATOR   ALLIGATOR   \n",
       "486033         PIMX         JWL       GOLD-LIP OYSTER    PINCTADA   \n",
       "798703         MOLL         LIV       SHELLS MOLLUSCS   NaN_genus   \n",
       "392269         WDER         SKI     WHITE-TAILED DEER  ODOCOILEUS   \n",
       "\n",
       "                 species wildlf_cat ctry_org ctry_ie purp src trans_mode  \\\n",
       "65575      MARGARITIFERA        MOL       PF      JP    T   W          A   \n",
       "126087  MISSISSIPPIENSIS        REP       US      TT    M   W          A   \n",
       "486033            MAXIMA        MOL       MX      HK    T   W          A   \n",
       "798703       NaN_species        MOL       VS      CA    T   W          A   \n",
       "392269       VIRGINIANUS        MAM       US      CN    T   W          O   \n",
       "\n",
       "       pt_cd    qty unit    value  ship_date_mm  \n",
       "65575     BA    1.0   NO      0.0             5  \n",
       "126087    MI   14.0   NO   2320.0             4  \n",
       "486033    HA    1.0   NO     53.0             1  \n",
       "798703    LA  350.0   NO    208.0            12  \n",
       "392269    NW  744.0   NO  22190.0             2  "
      ]
     },
     "execution_count": 8,
     "metadata": {},
     "output_type": "execute_result"
    }
   ],
   "source": [
    "X_train.head()"
   ]
  },
  {
   "cell_type": "markdown",
   "id": "0fd4236b-4b3a-4054-a340-f9e55213f867",
   "metadata": {
    "tags": []
   },
   "source": [
    "#### Option 1: TargetEncoding on Categorical and StandardScaler on Numeric Cols"
   ]
  },
  {
   "cell_type": "code",
   "execution_count": 29,
   "id": "1d5df1f4-561f-449a-8f4b-c68cf0379ab7",
   "metadata": {},
   "outputs": [],
   "source": [
    "numerical_var = ['value', 'qty']\n",
    "categorical_var = ['species_code', 'wildlf_desc', 'specific_generic_name', 'genus', 'species', 'wildlf_cat', \n",
    "                'ctry_org', 'ctry_ie','purp', 'src', 'trans_mode', 'pt_cd', 'unit']\n",
    "\n",
    "ct_target = make_column_transformer(\n",
    "    (RobustScaler(), numerical_var),\n",
    "    (TargetEncoder(), categorical_var),\n",
    "    remainder='passthrough')"
   ]
  },
  {
   "cell_type": "code",
   "execution_count": 30,
   "id": "fe03620f-451a-4ab8-a0b7-a937c99d3815",
   "metadata": {},
   "outputs": [],
   "source": [
    "X_train_t = ct_target.fit_transform(X_train, y_train)\n",
    "X_test_t = ct_target.transform(X_test)"
   ]
  },
  {
   "cell_type": "code",
   "execution_count": 31,
   "id": "4b41ab8b-826d-4f9b-8b56-0d0e0163aa21",
   "metadata": {},
   "outputs": [
    {
     "data": {
      "text/plain": [
       "array([[-1.06467927e-01, -9.18367347e-02,  1.17187500e-03,\n",
       "         1.41166405e-02,  1.17187500e-03,  3.24858757e-03,\n",
       "         1.04239055e-03,  4.55603725e-03,  0.00000000e+00,\n",
       "         6.34431783e-03,  8.38549976e-03,  7.48914176e-03,\n",
       "         5.48979767e-03,  3.54484225e-04,  8.36848617e-03,\n",
       "         5.00000000e+00],\n",
       "       [ 5.11046047e-01,  4.08163265e-02,  5.99026582e-03,\n",
       "         3.08513794e-03,  5.99026582e-03,  5.99026582e-03,\n",
       "         5.99026582e-03,  9.32896890e-03,  7.68923905e-03,\n",
       "         9.43396226e-03,  3.24745616e-03,  7.48914176e-03,\n",
       "         5.48979767e-03,  5.40807723e-03,  8.36848617e-03,\n",
       "         4.00000000e+00]])"
      ]
     },
     "execution_count": 31,
     "metadata": {},
     "output_type": "execute_result"
    }
   ],
   "source": [
    "X_train_t[:2]"
   ]
  },
  {
   "cell_type": "markdown",
   "id": "9d0d9fdd-a1e0-4139-8c0b-e970741d7d86",
   "metadata": {
    "tags": []
   },
   "source": [
    "#### Option 2: TargetEncoding on Categorical and RobustScaler on all"
   ]
  },
  {
   "cell_type": "code",
   "execution_count": 35,
   "id": "84861979-8c66-44ae-844b-07b6734c4277",
   "metadata": {},
   "outputs": [],
   "source": [
    "numerical_var = ['value', 'qty']\n",
    "categorical_var = ['species_code', 'wildlf_desc', 'specific_generic_name', 'genus', 'species', 'wildlf_cat', \n",
    "                'ctry_org', 'ctry_ie','purp', 'src', 'trans_mode', 'pt_cd', 'unit']\n",
    "\n",
    "\n",
    "ct_target = make_column_transformer(\n",
    "    (TargetEncoder(), categorical_var),\n",
    "    #(RobustScaler(), feature_cols),    #operation is parallelized and concatenated together\n",
    "    remainder='passthrough')\n",
    "\n",
    "pipe = Pipeline([('targetEncoding', ct_target), \n",
    "                 ('robustscaler', RobustScaler())\n",
    "                ], verbose=False)"
   ]
  },
  {
   "cell_type": "code",
   "execution_count": 36,
   "id": "a78e4557-70ca-4403-87d5-9d582c76f74c",
   "metadata": {},
   "outputs": [],
   "source": [
    "X_train_t = pipe.fit_transform(X_train, y_train)\n",
    "X_test_t = pipe.transform(X_test)"
   ]
  },
  {
   "cell_type": "code",
   "execution_count": 37,
   "id": "afd08bc2-6446-4b04-9aec-ec0f474f90f7",
   "metadata": {},
   "outputs": [
    {
     "data": {
      "text/plain": [
       "array([[-0.34323436,  1.39647287, -0.36220875, -0.32785867, -0.41573803,\n",
       "        -0.58463978, -2.25112298, -0.63304305,  0.        ,  0.        ,\n",
       "         0.        , -0.74466999,  0.        , -0.09183673, -0.10646793,\n",
       "        -0.2       ],\n",
       "       [ 0.36009137, -0.54018066,  0.37999763,  0.21647759,  0.18714843,\n",
       "         0.        ,  0.        ,  0.78944501, -0.00513804,  0.        ,\n",
       "         0.        , -0.1184527 ,  0.        ,  0.04081633,  0.51104605,\n",
       "        -0.4       ]])"
      ]
     },
     "execution_count": 37,
     "metadata": {},
     "output_type": "execute_result"
    }
   ],
   "source": [
    "X_train_t[:2]"
   ]
  },
  {
   "cell_type": "markdown",
   "id": "5106fc42-86cf-4601-916d-c53f6382ef93",
   "metadata": {
    "tags": []
   },
   "source": [
    "#### PCA"
   ]
  },
  {
   "cell_type": "code",
   "execution_count": 38,
   "id": "2c9516e0-e9c6-48d1-9a8d-98c209a5f1ed",
   "metadata": {},
   "outputs": [
    {
     "name": "stdout",
     "output_type": "stream",
     "text": [
      "(224505, 16) (224505, 5)\n"
     ]
    }
   ],
   "source": [
    "pca = PCA(n_components=5, random_state=rng)\n",
    "X_train_pca = pca.fit_transform(X_train_t)\n",
    "print(X_train_t.shape, X_train_pca.shape)"
   ]
  },
  {
   "cell_type": "code",
   "execution_count": 39,
   "id": "27ae64e3-e255-4b6b-9d90-22154c3a5a24",
   "metadata": {},
   "outputs": [],
   "source": [
    "def plot_pca(pca, f_names, top_k = 10):\n",
    "    fig, ax = plt.subplots(figsize=(10, 6))\n",
    "    plt.imshow(pca.components_[0:top_k], interpolation = 'none', cmap = 'plasma')\n",
    "    feature_names=f_names\n",
    "    plt.xticks(np.arange(-0., len(feature_names), 1) , feature_names, rotation = 90, fontsize=12)\n",
    "    plt.yticks(np.arange(0., 5, 1), ['First PC', 'Second PC','Third PC', 'Fourth PC', 'Fifth PC'], fontsize = 16)\n",
    "    plt.colorbar()"
   ]
  },
  {
   "cell_type": "code",
   "execution_count": 40,
   "id": "98d4d585-bfc4-4bd3-b4c1-f2d945377b91",
   "metadata": {},
   "outputs": [
    {
     "data": {
      "image/png": "[encoded data removed]",
      "text/plain": [
       "<Figure size 720x432 with 2 Axes>"
      ]
     },
     "metadata": {
      "needs_background": "light"
     },
     "output_type": "display_data"
    }
   ],
   "source": [
    "plot_pca(pca, feature_cols)"
   ]
  },
  {
   "cell_type": "code",
   "execution_count": 41,
   "id": "ac59585f-ad5a-4eb1-8526-50e4a2d1c991",
   "metadata": {},
   "outputs": [
    {
     "data": {
      "text/plain": [
       "<AxesSubplot:>"
      ]
     },
     "execution_count": 41,
     "metadata": {},
     "output_type": "execute_result"
    },
    {
     "data": {
      "image/png": "[encoded data removed]",
      "text/plain": [
       "<Figure size 432x288 with 2 Axes>"
      ]
     },
     "metadata": {
      "needs_background": "light"
     },
     "output_type": "display_data"
    }
   ],
   "source": [
    "sns.heatmap(empirical_covariance(X_train_pca))"
   ]
  },
  {
   "cell_type": "markdown",
   "id": "5df9810e-d109-4a12-b58a-6d4dee4369c8",
   "metadata": {
    "jp-MarkdownHeadingCollapsed": true,
    "tags": []
   },
   "source": [
    "#### Archive - do not run "
   ]
  },
  {
   "cell_type": "code",
   "execution_count": null,
   "id": "67675b71-b910-469f-8060-37317fec51cf",
   "metadata": {},
   "outputs": [],
   "source": [
    "numerical_var = ['value', 'qty']\n",
    "categorical_var = ['species_code', 'wildlf_desc', 'specific_generic_name', 'genus', 'species', 'wildlf_cat', \n",
    "                'ctry_org', 'ctry_ie','purp', 'src', 'trans_mode', 'pt_cd', 'unit']\n",
    "\n",
    "\n",
    "ct_target = make_column_transformer(\n",
    "    (TargetEncoder(), categorical_var),\n",
    "    (StandardScaler(), numerical_var),\n",
    "    remainder='passthrough')"
   ]
  },
  {
   "cell_type": "code",
   "execution_count": null,
   "id": "6f8c6900-baa1-40b0-9ad2-ad18d2468aae",
   "metadata": {},
   "outputs": [],
   "source": []
  }
 ],
 "metadata": {
  "kernelspec": {
   "display_name": "Python 3 (ipykernel)",
   "language": "python",
   "name": "python3"
  },
  "language_info": {
   "codemirror_mode": {
    "name": "ipython",
    "version": 3
   },
   "file_extension": ".py",
   "mimetype": "text/x-python",
   "name": "python",
   "nbconvert_exporter": "python",
   "pygments_lexer": "ipython3",
   "version": "3.8.13"
  }
 },
 "nbformat": 4,
 "nbformat_minor": 5
}
