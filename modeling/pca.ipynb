{
 "cells": [
  {
   "cell_type": "markdown",
   "id": "9c2c0902-16f6-4b47-8eb2-2fc98643799f",
   "metadata": {
    "pycharm": {
     "name": "#%% md\n"
    }
   },
   "source": [
    "### PCA"
   ]
  },
  {
   "cell_type": "code",
   "execution_count": 1,
   "id": "a2d8ec97-4af0-4ab5-9c77-177b114dedea",
   "metadata": {
    "pycharm": {
     "name": "#%%\n"
    }
   },
   "outputs": [],
   "source": [
    "import pandas as pd\n",
    "import numpy as np\n",
    "\n",
    "from sklearn.model_selection import train_test_split\n",
    "from sklearn.compose import make_column_transformer\n",
    "from category_encoders.target_encoder import TargetEncoder\n",
    "from sklearn.preprocessing import StandardScaler, RobustScaler\n",
    "from sklearn.pipeline import make_pipeline, Pipeline\n",
    "\n",
    "from sklearn.decomposition import PCA, SparsePCA\n",
    "from sklearn.covariance import empirical_covariance\n",
    "\n",
    "import matplotlib.pyplot as plt\n",
    "import matplotlib.cm as cm\n",
    "from matplotlib.colors import ListedColormap, BoundaryNorm\n",
    "import matplotlib.patches as mpatches\n",
    "\n",
    "import seaborn as sns\n",
    "import joblib\n",
    "import os\n",
    "\n",
    "import warnings\n",
    "warnings.filterwarnings(action='ignore', category=FutureWarning) # setting ignore as a parameter and further adding category"
   ]
  },
  {
   "cell_type": "code",
   "execution_count": 2,
   "id": "e1821f0c-e109-41e6-a3b1-fdaf14254ce3",
   "metadata": {
    "pycharm": {
     "name": "#%%\n"
    }
   },
   "outputs": [],
   "source": [
    "rng = 42"
   ]
  },
  {
   "cell_type": "code",
   "execution_count": 3,
   "id": "1dcf5bf1-4a7b-4159-a2e7-a8d05f92b604",
   "metadata": {
    "pycharm": {
     "name": "#%%\n"
    }
   },
   "outputs": [],
   "source": [
    "p = '../data/'\n",
    "input_name = 'cleaned.csv'\n",
    "\n",
    "df = pd.read_csv(f'{p}{input_name}')"
   ]
  },
  {
   "cell_type": "code",
   "execution_count": 4,
   "id": "ef535dfa-9fa5-499c-8cc2-5050f06ad6af",
   "metadata": {
    "pycharm": {
     "name": "#%%\n"
    }
   },
   "outputs": [],
   "source": [
    "# set up folder to save results\n",
    "#os.makedirs('export_run5_PCA')\n",
    "prefix = 'export_run5_PCA/export'"
   ]
  },
  {
   "cell_type": "code",
   "execution_count": 5,
   "id": "f3216777-d653-48fb-abdc-168c8e0e7d11",
   "metadata": {
    "pycharm": {
     "name": "#%%\n"
    }
   },
   "outputs": [],
   "source": [
    "def df_filtering(df, i_e = 'I', f_cols = []):\n",
    "\n",
    "    filtered_df = df[df.i_e == i_e]\n",
    "    filtered_df = filtered_df[f_cols+['act']]\n",
    "    \n",
    "    return filtered_df\n",
    "\n",
    "def data_split(df):\n",
    "    X, y = df.iloc[:,:-1], df.iloc[:,-1:]\n",
    "    y = np.where(y['act']=='R',1,0)\n",
    "    \n",
    "    X_train, X_test, y_train, y_test = train_test_split(X, y, random_state=rng, stratify=y) \n",
    "    \n",
    "    return X_train, X_test, y_train, y_test"
   ]
  },
  {
   "cell_type": "code",
   "execution_count": 6,
   "id": "8ba00ba2-8716-49c7-824f-068d9641e0c7",
   "metadata": {
    "pycharm": {
     "name": "#%%\n"
    }
   },
   "outputs": [],
   "source": [
    "non_feature_cols = ['control_number', 'disp_date', 'i_e', 'ship_date', \n",
    "                    'disp_date_yyyy', 'disp_date_mm', 'disp_ship_date']\n",
    "\n",
    "target = ['act', 'dp_cd']\n",
    "\n",
    "feature_cols = ['species_code', 'wildlf_desc', 'specific_generic_name', 'genus', 'species', 'wildlf_cat', \n",
    "                'ctry_org', 'ctry_ie','purp', 'src', 'trans_mode', 'pt_cd',\n",
    "                 'qty', 'unit', #'cartons',\n",
    "                 'value', 'ship_date_mm']\n",
    "\n",
    "export_df = df_filtering(df, i_e = 'E', f_cols = feature_cols)\n",
    "X_train, X_test, y_train, y_test = data_split(export_df)"
   ]
  },
  {
   "cell_type": "code",
   "execution_count": 7,
   "id": "4514b376-8686-4529-b554-172a924f421d",
   "metadata": {
    "pycharm": {
     "name": "#%%\n"
    }
   },
   "outputs": [
    {
     "data": {
      "text/plain": "       species_code wildlf_desc specific_generic_name       genus  \\\n65575          PINM         TRI    GREAT PEARL OYSTER    PINCTADA   \n126087         ALLM         SPE    AMERICAN ALLIGATOR   ALLIGATOR   \n486033         PIMX         JWL       GOLD-LIP OYSTER    PINCTADA   \n798703         MOLL         LIV       SHELLS MOLLUSCS   NaN_genus   \n392269         WDER         SKI     WHITE-TAILED DEER  ODOCOILEUS   \n\n                 species wildlf_cat ctry_org ctry_ie purp src trans_mode  \\\n65575      MARGARITIFERA        MOL       PF      JP    T   W          A   \n126087  MISSISSIPPIENSIS        REP       US      TT    M   W          A   \n486033            MAXIMA        MOL       MX      HK    T   W          A   \n798703       NaN_species        MOL       VS      CA    T   W          A   \n392269       VIRGINIANUS        MAM       US      CN    T   W          O   \n\n       pt_cd    qty unit    value  ship_date_mm  \n65575     BA    1.0   NO      0.0             5  \n126087    MI   14.0   NO   2320.0             4  \n486033    HA    1.0   NO     53.0             1  \n798703    LA  350.0   NO    208.0            12  \n392269    NW  744.0   NO  22190.0             2  ",
      "text/html": "<div>\n<style scoped>\n    .dataframe tbody tr th:only-of-type {\n        vertical-align: middle;\n    }\n\n    .dataframe tbody tr th {\n        vertical-align: top;\n    }\n\n    .dataframe thead th {\n        text-align: right;\n    }\n</style>\n<table border=\"1\" class=\"dataframe\">\n  <thead>\n    <tr style=\"text-align: right;\">\n      <th></th>\n      <th>species_code</th>\n      <th>wildlf_desc</th>\n      <th>specific_generic_name</th>\n      <th>genus</th>\n      <th>species</th>\n      <th>wildlf_cat</th>\n      <th>ctry_org</th>\n      <th>ctry_ie</th>\n      <th>purp</th>\n      <th>src</th>\n      <th>trans_mode</th>\n      <th>pt_cd</th>\n      <th>qty</th>\n      <th>unit</th>\n      <th>value</th>\n      <th>ship_date_mm</th>\n    </tr>\n  </thead>\n  <tbody>\n    <tr>\n      <th>65575</th>\n      <td>PINM</td>\n      <td>TRI</td>\n      <td>GREAT PEARL OYSTER</td>\n      <td>PINCTADA</td>\n      <td>MARGARITIFERA</td>\n      <td>MOL</td>\n      <td>PF</td>\n      <td>JP</td>\n      <td>T</td>\n      <td>W</td>\n      <td>A</td>\n      <td>BA</td>\n      <td>1.0</td>\n      <td>NO</td>\n      <td>0.0</td>\n      <td>5</td>\n    </tr>\n    <tr>\n      <th>126087</th>\n      <td>ALLM</td>\n      <td>SPE</td>\n      <td>AMERICAN ALLIGATOR</td>\n      <td>ALLIGATOR</td>\n      <td>MISSISSIPPIENSIS</td>\n      <td>REP</td>\n      <td>US</td>\n      <td>TT</td>\n      <td>M</td>\n      <td>W</td>\n      <td>A</td>\n      <td>MI</td>\n      <td>14.0</td>\n      <td>NO</td>\n      <td>2320.0</td>\n      <td>4</td>\n    </tr>\n    <tr>\n      <th>486033</th>\n      <td>PIMX</td>\n      <td>JWL</td>\n      <td>GOLD-LIP OYSTER</td>\n      <td>PINCTADA</td>\n      <td>MAXIMA</td>\n      <td>MOL</td>\n      <td>MX</td>\n      <td>HK</td>\n      <td>T</td>\n      <td>W</td>\n      <td>A</td>\n      <td>HA</td>\n      <td>1.0</td>\n      <td>NO</td>\n      <td>53.0</td>\n      <td>1</td>\n    </tr>\n    <tr>\n      <th>798703</th>\n      <td>MOLL</td>\n      <td>LIV</td>\n      <td>SHELLS MOLLUSCS</td>\n      <td>NaN_genus</td>\n      <td>NaN_species</td>\n      <td>MOL</td>\n      <td>VS</td>\n      <td>CA</td>\n      <td>T</td>\n      <td>W</td>\n      <td>A</td>\n      <td>LA</td>\n      <td>350.0</td>\n      <td>NO</td>\n      <td>208.0</td>\n      <td>12</td>\n    </tr>\n    <tr>\n      <th>392269</th>\n      <td>WDER</td>\n      <td>SKI</td>\n      <td>WHITE-TAILED DEER</td>\n      <td>ODOCOILEUS</td>\n      <td>VIRGINIANUS</td>\n      <td>MAM</td>\n      <td>US</td>\n      <td>CN</td>\n      <td>T</td>\n      <td>W</td>\n      <td>O</td>\n      <td>NW</td>\n      <td>744.0</td>\n      <td>NO</td>\n      <td>22190.0</td>\n      <td>2</td>\n    </tr>\n  </tbody>\n</table>\n</div>"
     },
     "execution_count": 7,
     "metadata": {},
     "output_type": "execute_result"
    }
   ],
   "source": [
    "X_train.head()"
   ]
  },
  {
   "cell_type": "markdown",
   "id": "0fd4236b-4b3a-4054-a340-f9e55213f867",
   "metadata": {
    "tags": [],
    "pycharm": {
     "name": "#%% md\n"
    }
   },
   "source": [
    "#### Option 1: TargetEncoding on Categorical and RobustScaler on Numeric Cols"
   ]
  },
  {
   "cell_type": "code",
   "execution_count": 8,
   "id": "1d5df1f4-561f-449a-8f4b-c68cf0379ab7",
   "metadata": {
    "pycharm": {
     "name": "#%%\n"
    }
   },
   "outputs": [],
   "source": [
    "numerical_var = ['value', 'qty']\n",
    "categorical_var = ['species_code', 'wildlf_desc', 'specific_generic_name', 'genus', 'species', 'wildlf_cat', \n",
    "                'ctry_org', 'ctry_ie','purp', 'src', 'trans_mode', 'pt_cd', 'unit']\n",
    "\n",
    "ct_target = make_column_transformer(\n",
    "    (RobustScaler(), numerical_var),\n",
    "    (TargetEncoder(), categorical_var),\n",
    "    remainder='passthrough')"
   ]
  },
  {
   "cell_type": "code",
   "execution_count": 9,
   "id": "fe03620f-451a-4ab8-a0b7-a937c99d3815",
   "metadata": {
    "pycharm": {
     "name": "#%%\n"
    }
   },
   "outputs": [],
   "source": [
    "X_train_t = ct_target.fit_transform(X_train, y_train)\n",
    "X_test_t = ct_target.transform(X_test)"
   ]
  },
  {
   "cell_type": "code",
   "execution_count": 10,
   "id": "4b41ab8b-826d-4f9b-8b56-0d0e0163aa21",
   "metadata": {
    "pycharm": {
     "name": "#%%\n"
    }
   },
   "outputs": [
    {
     "data": {
      "text/plain": "array([[-1.06467927e-01, -9.18367347e-02,  1.17187500e-03,\n         1.41166405e-02,  1.17187500e-03,  3.24858757e-03,\n         1.04239055e-03,  4.55603725e-03,  0.00000000e+00,\n         6.34431783e-03,  8.38549976e-03,  7.48914176e-03,\n         5.48979767e-03,  3.54484225e-04,  8.36848617e-03,\n         5.00000000e+00],\n       [ 5.11046047e-01,  4.08163265e-02,  5.99026582e-03,\n         3.08513794e-03,  5.99026582e-03,  5.99026582e-03,\n         5.99026582e-03,  9.32896890e-03,  7.68923905e-03,\n         9.43396226e-03,  3.24745616e-03,  7.48914176e-03,\n         5.48979767e-03,  5.40807723e-03,  8.36848617e-03,\n         4.00000000e+00]])"
     },
     "execution_count": 10,
     "metadata": {},
     "output_type": "execute_result"
    }
   ],
   "source": [
    "X_train_t[:2]"
   ]
  },
  {
   "cell_type": "markdown",
   "id": "9d0d9fdd-a1e0-4139-8c0b-e970741d7d86",
   "metadata": {
    "tags": [],
    "pycharm": {
     "name": "#%% md\n"
    }
   },
   "source": [
    "#### Option 2: TargetEncoding on Categorical and RobustScaler on all"
   ]
  },
  {
   "cell_type": "code",
   "execution_count": 11,
   "id": "84861979-8c66-44ae-844b-07b6734c4277",
   "metadata": {
    "pycharm": {
     "name": "#%%\n"
    }
   },
   "outputs": [],
   "source": [
    "numerical_var = ['value', 'qty']\n",
    "categorical_var = ['species_code', 'wildlf_desc', 'specific_generic_name', 'genus', 'species', 'wildlf_cat', \n",
    "                'ctry_org', 'ctry_ie','purp', 'src', 'trans_mode', 'pt_cd', 'unit']\n",
    "\n",
    "\n",
    "ct_target = make_column_transformer(\n",
    "    (TargetEncoder(), categorical_var),\n",
    "    #(RobustScaler(), feature_cols),    #operation is parallelized and concatenated together\n",
    "    remainder='passthrough')\n",
    "\n",
    "pipe = Pipeline([('targetEncoding', ct_target), \n",
    "                 ('robustscaler', RobustScaler())\n",
    "                ], verbose=False)"
   ]
  },
  {
   "cell_type": "code",
   "execution_count": 12,
   "id": "a78e4557-70ca-4403-87d5-9d582c76f74c",
   "metadata": {
    "pycharm": {
     "name": "#%%\n"
    }
   },
   "outputs": [],
   "source": [
    "X_train_t = pipe.fit_transform(X_train, y_train)\n",
    "X_test_t = pipe.transform(X_test)"
   ]
  },
  {
   "cell_type": "code",
   "execution_count": 14,
   "outputs": [
    {
     "data": {
      "text/plain": "numpy.ndarray"
     },
     "execution_count": 14,
     "metadata": {},
     "output_type": "execute_result"
    }
   ],
   "source": [
    "X_train_t[:]"
   ],
   "metadata": {
    "collapsed": false,
    "pycharm": {
     "name": "#%%\n"
    }
   }
  },
  {
   "cell_type": "code",
   "execution_count": 15,
   "id": "afd08bc2-6446-4b04-9aec-ec0f474f90f7",
   "metadata": {
    "pycharm": {
     "name": "#%%\n"
    }
   },
   "outputs": [
    {
     "data": {
      "text/plain": "(224505, 16)"
     },
     "execution_count": 15,
     "metadata": {},
     "output_type": "execute_result"
    }
   ],
   "source": [
    "X_train_t.shape"
   ]
  },
  {
   "cell_type": "markdown",
   "id": "5106fc42-86cf-4601-916d-c53f6382ef93",
   "metadata": {
    "tags": [],
    "pycharm": {
     "name": "#%% md\n"
    }
   },
   "source": [
    "#### PCA"
   ]
  },
  {
   "cell_type": "code",
   "execution_count": 27,
   "outputs": [
    {
     "data": {
      "text/plain": "   species_code  wildlf_desc  specific_generic_name     genus   species  \\\n0     -0.343234     1.396473              -0.362209 -0.327859 -0.415738   \n1      0.360091    -0.540181               0.379998  0.216478  0.187148   \n2      0.000000     0.159178               0.000000 -0.327859 -0.108344   \n3      0.753518     0.000000               0.796337  0.274107  0.689910   \n4      1.950041     0.512210               2.057842  2.619931  1.506355   \n\n   wildlf_cat  ctry_org   ctry_ie      purp  src  trans_mode     pt_cd  qty  \\\n0    -0.58464 -2.251123 -0.633043  0.000000  0.0    0.000000 -0.744670  0.0   \n1     0.00000  0.000000  0.789445 -0.005138  0.0    0.000000 -0.118453  0.0   \n2    -0.58464 -1.310915  5.098605  0.000000  0.0    0.000000 -0.453516  0.0   \n3    -0.58464 -1.425082  0.000000  0.000000  0.0    0.000000  0.600411  0.0   \n4     0.41536  0.000000  6.782299  0.000000  0.0    0.005824  0.132337  0.0   \n\n       unit     value  ship_date_mm  \n0 -0.091837 -0.106468          -0.2  \n1  0.040816  0.511046          -0.4  \n2 -0.091837 -0.092361          -1.0  \n3  3.469388 -0.051105           1.2  \n4  7.489796  5.799840          -0.8  ",
      "text/html": "<div>\n<style scoped>\n    .dataframe tbody tr th:only-of-type {\n        vertical-align: middle;\n    }\n\n    .dataframe tbody tr th {\n        vertical-align: top;\n    }\n\n    .dataframe thead th {\n        text-align: right;\n    }\n</style>\n<table border=\"1\" class=\"dataframe\">\n  <thead>\n    <tr style=\"text-align: right;\">\n      <th></th>\n      <th>species_code</th>\n      <th>wildlf_desc</th>\n      <th>specific_generic_name</th>\n      <th>genus</th>\n      <th>species</th>\n      <th>wildlf_cat</th>\n      <th>ctry_org</th>\n      <th>ctry_ie</th>\n      <th>purp</th>\n      <th>src</th>\n      <th>trans_mode</th>\n      <th>pt_cd</th>\n      <th>qty</th>\n      <th>unit</th>\n      <th>value</th>\n      <th>ship_date_mm</th>\n    </tr>\n  </thead>\n  <tbody>\n    <tr>\n      <th>0</th>\n      <td>-0.343234</td>\n      <td>1.396473</td>\n      <td>-0.362209</td>\n      <td>-0.327859</td>\n      <td>-0.415738</td>\n      <td>-0.58464</td>\n      <td>-2.251123</td>\n      <td>-0.633043</td>\n      <td>0.000000</td>\n      <td>0.0</td>\n      <td>0.000000</td>\n      <td>-0.744670</td>\n      <td>0.0</td>\n      <td>-0.091837</td>\n      <td>-0.106468</td>\n      <td>-0.2</td>\n    </tr>\n    <tr>\n      <th>1</th>\n      <td>0.360091</td>\n      <td>-0.540181</td>\n      <td>0.379998</td>\n      <td>0.216478</td>\n      <td>0.187148</td>\n      <td>0.00000</td>\n      <td>0.000000</td>\n      <td>0.789445</td>\n      <td>-0.005138</td>\n      <td>0.0</td>\n      <td>0.000000</td>\n      <td>-0.118453</td>\n      <td>0.0</td>\n      <td>0.040816</td>\n      <td>0.511046</td>\n      <td>-0.4</td>\n    </tr>\n    <tr>\n      <th>2</th>\n      <td>0.000000</td>\n      <td>0.159178</td>\n      <td>0.000000</td>\n      <td>-0.327859</td>\n      <td>-0.108344</td>\n      <td>-0.58464</td>\n      <td>-1.310915</td>\n      <td>5.098605</td>\n      <td>0.000000</td>\n      <td>0.0</td>\n      <td>0.000000</td>\n      <td>-0.453516</td>\n      <td>0.0</td>\n      <td>-0.091837</td>\n      <td>-0.092361</td>\n      <td>-1.0</td>\n    </tr>\n    <tr>\n      <th>3</th>\n      <td>0.753518</td>\n      <td>0.000000</td>\n      <td>0.796337</td>\n      <td>0.274107</td>\n      <td>0.689910</td>\n      <td>-0.58464</td>\n      <td>-1.425082</td>\n      <td>0.000000</td>\n      <td>0.000000</td>\n      <td>0.0</td>\n      <td>0.000000</td>\n      <td>0.600411</td>\n      <td>0.0</td>\n      <td>3.469388</td>\n      <td>-0.051105</td>\n      <td>1.2</td>\n    </tr>\n    <tr>\n      <th>4</th>\n      <td>1.950041</td>\n      <td>0.512210</td>\n      <td>2.057842</td>\n      <td>2.619931</td>\n      <td>1.506355</td>\n      <td>0.41536</td>\n      <td>0.000000</td>\n      <td>6.782299</td>\n      <td>0.000000</td>\n      <td>0.0</td>\n      <td>0.005824</td>\n      <td>0.132337</td>\n      <td>0.0</td>\n      <td>7.489796</td>\n      <td>5.799840</td>\n      <td>-0.8</td>\n    </tr>\n  </tbody>\n</table>\n</div>"
     },
     "execution_count": 27,
     "metadata": {},
     "output_type": "execute_result"
    }
   ],
   "source": [
    "test_df = pd.DataFrame(X_train_t, columns=feature_cols)\n",
    "test_df.head()"
   ],
   "metadata": {
    "collapsed": false,
    "pycharm": {
     "name": "#%%\n"
    }
   }
  },
  {
   "cell_type": "code",
   "execution_count": 28,
   "outputs": [
    {
     "name": "stdout",
     "output_type": "stream",
     "text": [
      "(224505, 16) (224505, 5)\n"
     ]
    }
   ],
   "source": [
    "from sklearn.decomposition import TruncatedSVD\n",
    "test = TruncatedSVD(n_components=5, random_state=rng)\n",
    "X_train_svd = test.fit_transform(test_df)\n",
    "print(X_train_t.shape, X_train_svd.shape)"
   ],
   "metadata": {
    "collapsed": false,
    "pycharm": {
     "name": "#%%\n"
    }
   }
  },
  {
   "cell_type": "code",
   "execution_count": 42,
   "outputs": [
    {
     "data": {
      "text/plain": "array(['truncatedsvd0', 'truncatedsvd1', 'truncatedsvd2', 'truncatedsvd3',\n       'truncatedsvd4'], dtype=object)"
     },
     "execution_count": 42,
     "metadata": {},
     "output_type": "execute_result"
    }
   ],
   "source": [
    "test.get_feature_names_out(input_features=feature_cols)"
   ],
   "metadata": {
    "collapsed": false,
    "pycharm": {
     "name": "#%%\n"
    }
   }
  },
  {
   "cell_type": "code",
   "execution_count": 43,
   "outputs": [
    {
     "data": {
      "text/plain": "['unit',\n 'value',\n 'ctry_ie',\n 'species',\n 'pt_cd',\n 'specific_generic_name',\n 'species_code',\n 'wildlf_desc',\n 'genus',\n 'ship_date_mm',\n 'trans_mode',\n 'qty',\n 'purp',\n 'wildlf_cat',\n 'src',\n 'ctry_org']"
     },
     "execution_count": 43,
     "metadata": {},
     "output_type": "execute_result"
    }
   ],
   "source": [
    "[feature_cols[i] for i in test.components_[0].argsort()[::-1]]"
   ],
   "metadata": {
    "collapsed": false,
    "pycharm": {
     "name": "#%%\n"
    }
   }
  },
  {
   "cell_type": "code",
   "execution_count": 40,
   "outputs": [
    {
     "data": {
      "text/plain": "{'algorithm': 'randomized',\n 'n_components': 5,\n 'n_iter': 5,\n 'n_oversamples': 10,\n 'power_iteration_normalizer': 'auto',\n 'random_state': 42,\n 'tol': 0.0,\n 'feature_names_in_': array(['species_code', 'wildlf_desc', 'specific_generic_name', 'genus',\n        'species', 'wildlf_cat', 'ctry_org', 'ctry_ie', 'purp', 'src',\n        'trans_mode', 'pt_cd', 'qty', 'unit', 'value', 'ship_date_mm'],\n       dtype=object),\n 'n_features_in_': 16,\n 'components_': array([[ 1.62910430e-06,  1.14995675e-06,  1.68587769e-06,\n          2.91694036e-07,  3.36896558e-06, -2.32112950e-06,\n         -5.26343212e-06,  9.90281036e-06, -1.12469659e-10,\n         -5.21236139e-06,  3.83744062e-09,  2.55411394e-06,\n          9.77991994e-10,  9.99999993e-01,  1.14798049e-04,\n          1.31216614e-07],\n        [ 3.65987524e-03,  3.20947828e-03,  3.85391568e-03,\n          4.26320594e-03,  2.19092622e-03, -1.10385727e-05,\n          1.85459640e-02,  1.29669229e-03, -8.40080163e-07,\n          8.15029482e-03,  2.46516046e-06,  5.23472374e-04,\n          7.12245647e-07, -1.14669695e-04,  9.99763011e-01,\n         -2.25424270e-04],\n        [ 9.72782887e-02,  1.76210773e-02,  9.08700631e-02,\n          8.09401822e-02,  1.94965090e-02,  3.43455031e-03,\n          2.72546237e-01,  1.21228633e-02,  1.33605650e-05,\n          9.48877479e-01,  6.32535456e-05,  5.80442541e-03,\n          1.32462682e-05,  7.43506078e-06, -1.39609917e-02,\n         -5.91055951e-04],\n        [ 5.47596375e-01,  8.05011366e-02,  5.46281406e-01,\n          5.22172409e-01,  1.56434879e-01,  1.47996886e-02,\n          2.17802716e-01,  3.29243456e-02,  6.97016912e-05,\n         -2.21000125e-01,  1.22790660e-04,  2.06735788e-02,\n          3.24189276e-05, -1.87568012e-06, -9.22993583e-03,\n          1.94284651e-03],\n        [ 1.51833007e-01, -2.77946598e-02,  1.51481402e-01,\n          1.57483326e-01,  4.67794094e-02, -3.32626310e-03,\n         -9.35574355e-01,  1.36079671e-02,  1.45607317e-05,\n          2.24824079e-01,  2.97629074e-05, -1.43363652e-03,\n          1.49140877e-05, -6.13655988e-06,  1.36815209e-02,\n          2.74713373e-03]]),\n 'explained_variance_': array([5.35899942e+06, 1.46994780e+03, 2.07517643e+02, 5.59684549e+01,\n        2.96838754e+01]),\n 'explained_variance_ratio_': array([9.99665748e-01, 2.74203513e-04, 3.87102636e-05, 1.04403346e-05,\n        5.53721901e-06]),\n 'singular_values_': array([1096978.04127403,   18274.6246313 ,    6838.34359577,\n           3588.84130439,    2585.96936456])}"
     },
     "execution_count": 40,
     "metadata": {},
     "output_type": "execute_result"
    }
   ],
   "source": [
    "test.__dict__"
   ],
   "metadata": {
    "collapsed": false,
    "pycharm": {
     "name": "#%%\n"
    }
   }
  },
  {
   "cell_type": "code",
   "execution_count": 35,
   "outputs": [
    {
     "data": {
      "text/plain": "array([9.99665748e-01, 2.74203513e-04, 3.87102636e-05, 1.04403346e-05,\n       5.53721901e-06])"
     },
     "execution_count": 35,
     "metadata": {},
     "output_type": "execute_result"
    }
   ],
   "source": [
    "test.explained_variance_ratio_"
   ],
   "metadata": {
    "collapsed": false,
    "pycharm": {
     "name": "#%%\n"
    }
   }
  },
  {
   "cell_type": "code",
   "execution_count": 30,
   "outputs": [
    {
     "data": {
      "text/plain": "array(['truncatedsvd0', 'truncatedsvd1', 'truncatedsvd2', 'truncatedsvd3',\n       'truncatedsvd4'], dtype=object)"
     },
     "execution_count": 30,
     "metadata": {},
     "output_type": "execute_result"
    }
   ],
   "source": [
    "test.get_feature_names_out()"
   ],
   "metadata": {
    "collapsed": false,
    "pycharm": {
     "name": "#%%\n"
    }
   }
  },
  {
   "cell_type": "code",
   "execution_count": 80,
   "id": "2c9516e0-e9c6-48d1-9a8d-98c209a5f1ed",
   "metadata": {
    "pycharm": {
     "name": "#%%\n"
    }
   },
   "outputs": [
    {
     "name": "stdout",
     "output_type": "stream",
     "text": [
      "(224505, 16) (224505, 5)\n"
     ]
    }
   ],
   "source": [
    "pca = PCA(n_components=5, random_state=rng)\n",
    "X_train_pca = pca.fit_transform(X_train_t)\n",
    "print(X_train_t.shape, X_train_pca.shape)"
   ]
  },
  {
   "cell_type": "code",
   "execution_count": null,
   "outputs": [],
   "source": [],
   "metadata": {
    "collapsed": false,
    "pycharm": {
     "name": "#%%\n"
    }
   }
  },
  {
   "cell_type": "code",
   "execution_count": 21,
   "id": "27ae64e3-e255-4b6b-9d90-22154c3a5a24",
   "metadata": {
    "pycharm": {
     "name": "#%%\n"
    }
   },
   "outputs": [],
   "source": [
    "def plot_pca(pca, f_names, top_k = 10):\n",
    "    fig, ax = plt.subplots(figsize=(10, 6))\n",
    "    plt.imshow(pca.components_[0:top_k], interpolation = 'none', cmap = 'plasma')\n",
    "    feature_names=f_names\n",
    "    plt.xticks(np.arange(-0., len(feature_names), 1) , feature_names, rotation = 90, fontsize=12)\n",
    "    plt.yticks(np.arange(0., 5, 1), ['First PC', 'Second PC','Third PC', 'Fourth PC', 'Fifth PC'], fontsize = 16)\n",
    "    plt.colorbar()"
   ]
  },
  {
   "cell_type": "code",
   "execution_count": 82,
   "id": "ac59585f-ad5a-4eb1-8526-50e4a2d1c991",
   "metadata": {
    "pycharm": {
     "name": "#%%\n"
    }
   },
   "outputs": [
    {
     "data": {
      "text/plain": [
       "<AxesSubplot:>"
      ]
     },
     "execution_count": 82,
     "metadata": {},
     "output_type": "execute_result"
    },
    {
     "data": {
      "image/png": "[encoded data removed]",
      "text/plain": [
       "<Figure size 432x288 with 2 Axes>"
      ]
     },
     "metadata": {
      "needs_background": "light"
     },
     "output_type": "display_data"
    }
   ],
   "source": [
    "sns.heatmap(empirical_covariance(X_train_pca))"
   ]
  },
  {
   "cell_type": "code",
   "execution_count": 83,
   "id": "98d4d585-bfc4-4bd3-b4c1-f2d945377b91",
   "metadata": {
    "pycharm": {
     "name": "#%%\n"
    }
   },
   "outputs": [
    {
     "data": {
      "image/png": "[encoded data removed]",
      "text/plain": [
       "<Figure size 720x432 with 2 Axes>"
      ]
     },
     "metadata": {
      "needs_background": "light"
     },
     "output_type": "display_data"
    }
   ],
   "source": [
    "plot_pca(pca, feature_cols)"
   ]
  },
  {
   "cell_type": "code",
   "execution_count": 84,
   "id": "a8c77a30-2b31-4e3a-ab93-a752931e8029",
   "metadata": {
    "pycharm": {
     "name": "#%%\n"
    }
   },
   "outputs": [
    {
     "name": "stdout",
     "output_type": "stream",
     "text": [
      "explained_variance_ratio: [9.99665749e-01 2.74209180e-04 3.87099401e-05 1.04386592e-05\n",
      " 5.53617466e-06]\n",
      "sum of explained variance ratios: 0.9999946425792864\n",
      "singular values: [1096869.25682961   18166.38244647    6825.56658821    3544.45785853\n",
      "    2581.26355646]\n"
     ]
    }
   ],
   "source": [
    "print(\"explained_variance_ratio:\", pca.explained_variance_ratio_)\n",
    "print(\"sum of explained variance ratios:\", np.sum(pca.explained_variance_ratio_))\n",
    "print(\"singular values:\", pca.singular_values_)  "
   ]
  },
  {
   "cell_type": "code",
   "execution_count": 64,
   "id": "93625373-f76f-40f3-8ebc-4a2b0e93a6ee",
   "metadata": {
    "pycharm": {
     "name": "#%%\n"
    }
   },
   "outputs": [
    {
     "data": {
      "image/png": "[encoded data removed]",
      "text/plain": [
       "<Figure size 432x288 with 1 Axes>"
      ]
     },
     "metadata": {
      "needs_background": "light"
     },
     "output_type": "display_data"
    }
   ],
   "source": [
    "df = pd.DataFrame({'eigenvalue': np.sqrt(pca.explained_variance_),\n",
    "                   'PC':['01','02','03','04','05']}) #                   'PC':['01','02','03','04','05']}) #\n",
    "sns.lineplot(x = 'PC',y = \"eigenvalue\", data = df, color=\"c\");"
   ]
  },
  {
   "cell_type": "code",
   "execution_count": 67,
   "id": "c840c85d-c0ef-41e8-8840-d4893fadfe3a",
   "metadata": {
    "pycharm": {
     "name": "#%%\n"
    }
   },
   "outputs": [
    {
     "data": {
      "text/plain": [
       "[<matplotlib.lines.Line2D at 0x7fc3f6508730>]"
      ]
     },
     "execution_count": 67,
     "metadata": {},
     "output_type": "execute_result"
    },
    {
     "data": {
      "image/png": "[encoded data removed]",
      "text/plain": [
       "<Figure size 432x288 with 1 Axes>"
      ]
     },
     "metadata": {
      "needs_background": "light"
     },
     "output_type": "display_data"
    }
   ],
   "source": [
    "plt.plot(np.cumsum(pca.explained_variance_ratio_))"
   ]
  },
  {
   "cell_type": "code",
   "execution_count": 65,
   "id": "0dac3011-de8d-4887-b2de-3b7be1519ff3",
   "metadata": {
    "pycharm": {
     "name": "#%%\n"
    }
   },
   "outputs": [
    {
     "data": {
      "text/plain": [
       "0    0.999666\n",
       "1    0.999940\n",
       "2    0.999979\n",
       "3    0.999989\n",
       "4    0.999995\n",
       "Name: explained var ratio, dtype: float64"
      ]
     },
     "execution_count": 65,
     "metadata": {},
     "output_type": "execute_result"
    },
    {
     "data": {
      "image/png": "[encoded data removed]",
      "text/plain": [
       "<Figure size 432x288 with 1 Axes>"
      ]
     },
     "metadata": {
      "needs_background": "light"
     },
     "output_type": "display_data"
    }
   ],
   "source": [
    "df = pd.DataFrame({'explained var ratio':pca.explained_variance_ratio_,\n",
    "                   'PC':['PC1','PC2','PC3','PC4','PC5']})  #,'PC6','PC7','PC8','PC9','PC10'\n",
    "sns.barplot(x = 'PC',y = \"explained var ratio\", data = df, color=\"c\");\n",
    "np.cumsum(df['explained var ratio'])"
   ]
  },
  {
   "cell_type": "markdown",
   "id": "5df9810e-d109-4a12-b58a-6d4dee4369c8",
   "metadata": {
    "jp-MarkdownHeadingCollapsed": true,
    "tags": [],
    "pycharm": {
     "name": "#%% md\n"
    }
   },
   "source": [
    "#### Archive - do not run "
   ]
  },
  {
   "cell_type": "code",
   "execution_count": null,
   "id": "67675b71-b910-469f-8060-37317fec51cf",
   "metadata": {
    "pycharm": {
     "name": "#%%\n"
    }
   },
   "outputs": [],
   "source": [
    "numerical_var = ['value', 'qty']\n",
    "categorical_var = ['species_code', 'wildlf_desc', 'specific_generic_name', 'genus', 'species', 'wildlf_cat', \n",
    "                'ctry_org', 'ctry_ie','purp', 'src', 'trans_mode', 'pt_cd', 'unit']\n",
    "\n",
    "\n",
    "ct_target = make_column_transformer(\n",
    "    (TargetEncoder(), categorical_var),\n",
    "    (StandardScaler(), numerical_var),\n",
    "    remainder='passthrough')"
   ]
  },
  {
   "cell_type": "code",
   "execution_count": null,
   "id": "6f8c6900-baa1-40b0-9ad2-ad18d2468aae",
   "metadata": {
    "pycharm": {
     "name": "#%%\n"
    }
   },
   "outputs": [],
   "source": []
  }
 ],
 "metadata": {
  "kernelspec": {
   "display_name": "Python 3 (ipykernel)",
   "language": "python",
   "name": "python3"
  },
  "language_info": {
   "codemirror_mode": {
    "name": "ipython",
    "version": 3
   },
   "file_extension": ".py",
   "mimetype": "text/x-python",
   "name": "python",
   "nbconvert_exporter": "python",
   "pygments_lexer": "ipython3",
   "version": "3.8.13"
  }
 },
 "nbformat": 4,
 "nbformat_minor": 5
}