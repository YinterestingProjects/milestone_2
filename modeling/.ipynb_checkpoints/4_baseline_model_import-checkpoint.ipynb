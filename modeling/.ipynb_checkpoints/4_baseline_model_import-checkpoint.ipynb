{
 "cells": [
  {
   "cell_type": "markdown",
   "id": "65eba54c-61dd-4500-b137-5bbbf6d2ffe9",
   "metadata": {},
   "source": [
    "### Baseline Models Template for 2016 - 2020 Data"
   ]
  },
  {
   "cell_type": "code",
   "execution_count": 218,
   "id": "cf47ec1f-dd36-41cf-adc1-b8cd24655722",
   "metadata": {},
   "outputs": [],
   "source": [
    "import pandas as pd\n",
    "import numpy as np\n",
    "from sklearn.model_selection import train_test_split\n",
    "from sklearn.preprocessing import StandardScaler, OneHotEncoder, LabelEncoder\n",
    "from sklearn.tree import DecisionTreeClassifier\n",
    "from sklearn.ensemble import RandomForestClassifier, GradientBoostingClassifier\n",
    "from sklearn.dummy import DummyClassifier\n",
    "from sklearn.linear_model import LogisticRegression\n",
    "from sklearn.metrics import classification_report, confusion_matrix\n",
    "\n",
    "# from sklearn.pipeline import make_pipeline\n",
    "# from sklearn.compose import make_column_transformer\n",
    "# from sklearn.decomposition import PCA\n",
    "# from sklearn.covariance import empirical_covariance\n",
    "# import matplotlib.pyplot as plt\n",
    "# import matplotlib.cm as cm\n",
    "# from matplotlib.colors import ListedColormap, BoundaryNorm\n",
    "# import matplotlib.patches as mpatches\n",
    "import seaborn as sns\n",
    "import joblib\n",
    "import os\n",
    "#from adspy_shared_utilities import plot_decision_tree\n",
    "from datetime import datetime"
   ]
  },
  {
   "cell_type": "code",
   "execution_count": 37,
   "id": "91f0c944-93fc-4b98-b727-5c634fd32cc5",
   "metadata": {},
   "outputs": [],
   "source": [
    "rng = 42"
   ]
  },
  {
   "cell_type": "code",
   "execution_count": 4,
   "id": "15252d07-f6f9-47bf-8fa4-d33d9663bc7e",
   "metadata": {},
   "outputs": [],
   "source": [
    "p = '../data/'\n",
    "input_name = 'cleaned.csv'\n",
    "\n",
    "df = pd.read_csv(f'{p}{input_name}')"
   ]
  },
  {
   "cell_type": "markdown",
   "id": "030d9cea-5f82-472c-8789-4cee707da730",
   "metadata": {
    "tags": []
   },
   "source": [
    "#### Preprocessing"
   ]
  },
  {
   "cell_type": "code",
   "execution_count": 31,
   "id": "f49fadea-28c9-4221-8ee5-1457bddfd692",
   "metadata": {},
   "outputs": [],
   "source": [
    "def df_filtering(df, i_e = 'I', f_cols = []):\n",
    "\n",
    "    filtered_df = df[df.i_e == i_e]\n",
    "    filtered_df = filtered_df[f_cols+['act']]\n",
    "    \n",
    "    return filtered_df"
   ]
  },
  {
   "cell_type": "code",
   "execution_count": 6,
   "id": "a02364b7-9904-44d4-8bdc-0934ee5fee78",
   "metadata": {},
   "outputs": [
    {
     "data": {
      "text/plain": [
       "Index(['control_number', 'species_code', 'genus', 'species', 'wildlf_desc',\n",
       "       'wildlf_cat', 'cartons', 'qty', 'unit', 'value', 'ctry_org', 'ctry_ie',\n",
       "       'purp', 'src', 'trans_mode', 'act', 'dp_cd', 'disp_date', 'ship_date',\n",
       "       'i_e', 'pt_cd', 'specific_generic_name', 'disp_date_yyyy',\n",
       "       'disp_date_mm', 'ship_date_yyyy', 'ship_date_mm', 'disp_ship_date'],\n",
       "      dtype='object')"
      ]
     },
     "execution_count": 6,
     "metadata": {},
     "output_type": "execute_result"
    }
   ],
   "source": [
    "df.columns"
   ]
  },
  {
   "cell_type": "code",
   "execution_count": 21,
   "id": "66ad55fe-d543-4b10-ac4d-66fb10b8aba5",
   "metadata": {},
   "outputs": [],
   "source": [
    "non_feature_cols = ['control_number', 'disp_date', 'i_e', 'ship_date', \n",
    "                    'cartons', 'qty', 'unit', 'specific_generic_name',\n",
    "                    'genus', 'species', 'wildlf_cat', \n",
    "                    'disp_date_yyyy', 'disp_date_mm', 'disp_ship_date']\n",
    "\n",
    "target = ['act', 'dp_cd']\n",
    "\n",
    "feature_cols = ['species_code', 'wildlf_desc', \n",
    "                'ctry_org', 'ctry_ie','purp', 'src', 'trans_mode', 'pt_cd', \n",
    "                 'value', 'ship_date_mm']"
   ]
  },
  {
   "cell_type": "code",
   "execution_count": 35,
   "id": "39a9e465-92ac-487f-a9df-782636d25b10",
   "metadata": {},
   "outputs": [],
   "source": [
    "import_df = df_filtering(df, i_e = 'I', f_cols = feature_cols)\n",
    "export_df = df_filtering(df, i_e = 'E', f_cols = feature_cols)\n",
    "# import: 590505 rows × 11 columns\n",
    "# export: 299340 rows × 11 columns"
   ]
  },
  {
   "cell_type": "code",
   "execution_count": 187,
   "id": "8e4ee54e-2879-488b-948e-f7decfb4a969",
   "metadata": {},
   "outputs": [],
   "source": [
    "def data_transformation(df):\n",
    "    X, y = export_df.iloc[:,:-1], export_df.iloc[:,-1:]\n",
    "    X = pd.get_dummies(X, sparse=True)\n",
    "    y = np.where(y['act']=='R',1,0)\n",
    "    \n",
    "    X_train, X_test, y_train, y_test = train_test_split(X, y, random_state=rng)#, stratify=y) \n",
    "    \n",
    "    return X_train, X_test, y_train, y_test\n",
    "    "
   ]
  },
  {
   "cell_type": "code",
   "execution_count": 212,
   "id": "0f88beda-31ad-4282-80b6-397773aac7ab",
   "metadata": {},
   "outputs": [],
   "source": [
    "X_train, X_test, y_train, y_test = data_transformation(export_df)"
   ]
  },
  {
   "cell_type": "code",
   "execution_count": null,
   "id": "da7ba44b-f496-4f24-b90c-aca60e1944c7",
   "metadata": {},
   "outputs": [
    {
     "ename": "FileExistsError",
     "evalue": "[Errno 17] File exists: 'export_run1'",
     "output_type": "error",
     "traceback": [
      "\u001b[0;31m---------------------------------------------------------------------------\u001b[0m",
      "\u001b[0;31mFileExistsError\u001b[0m                           Traceback (most recent call last)",
      "Input \u001b[0;32mIn [227]\u001b[0m, in \u001b[0;36m<cell line: 2>\u001b[0;34m()\u001b[0m\n\u001b[1;32m      1\u001b[0m \u001b[38;5;66;03m# set up folder to save results\u001b[39;00m\n\u001b[0;32m----> 2\u001b[0m \u001b[43mos\u001b[49m\u001b[38;5;241;43m.\u001b[39;49m\u001b[43mmakedirs\u001b[49m\u001b[43m(\u001b[49m\u001b[38;5;124;43m'\u001b[39;49m\u001b[38;5;124;43mexport_run1\u001b[39;49m\u001b[38;5;124;43m'\u001b[39;49m\u001b[43m)\u001b[49m\n\u001b[1;32m      3\u001b[0m prefix \u001b[38;5;241m=\u001b[39m \u001b[38;5;124m'\u001b[39m\u001b[38;5;124mexport_run1/export\u001b[39m\u001b[38;5;124m'\u001b[39m\n",
      "File \u001b[0;32m/opt/anaconda3/envs/test_env/lib/python3.10/os.py:225\u001b[0m, in \u001b[0;36mmakedirs\u001b[0;34m(name, mode, exist_ok)\u001b[0m\n\u001b[1;32m    223\u001b[0m         \u001b[38;5;28;01mreturn\u001b[39;00m\n\u001b[1;32m    224\u001b[0m \u001b[38;5;28;01mtry\u001b[39;00m:\n\u001b[0;32m--> 225\u001b[0m     \u001b[43mmkdir\u001b[49m\u001b[43m(\u001b[49m\u001b[43mname\u001b[49m\u001b[43m,\u001b[49m\u001b[43m \u001b[49m\u001b[43mmode\u001b[49m\u001b[43m)\u001b[49m\n\u001b[1;32m    226\u001b[0m \u001b[38;5;28;01mexcept\u001b[39;00m \u001b[38;5;167;01mOSError\u001b[39;00m:\n\u001b[1;32m    227\u001b[0m     \u001b[38;5;66;03m# Cannot rely on checking for EEXIST, since the operating system\u001b[39;00m\n\u001b[1;32m    228\u001b[0m     \u001b[38;5;66;03m# could give priority to other errors like EACCES or EROFS\u001b[39;00m\n\u001b[1;32m    229\u001b[0m     \u001b[38;5;28;01mif\u001b[39;00m \u001b[38;5;129;01mnot\u001b[39;00m exist_ok \u001b[38;5;129;01mor\u001b[39;00m \u001b[38;5;129;01mnot\u001b[39;00m path\u001b[38;5;241m.\u001b[39misdir(name):\n",
      "\u001b[0;31mFileExistsError\u001b[0m: [Errno 17] File exists: 'export_run1'"
     ]
    }
   ],
   "source": [
    "# set up folder to save results\n",
    "os.makedirs('export_run1')\n",
    "prefix = 'export_run1/export'"
   ]
  },
  {
   "cell_type": "code",
   "execution_count": 229,
   "id": "7c185daf-3658-4b2e-bf16-c115441e5668",
   "metadata": {},
   "outputs": [],
   "source": [
    "prefix = 'export_run1/export'"
   ]
  },
  {
   "cell_type": "markdown",
   "id": "38712ba7-e296-4a1b-a3bc-77920c6115d7",
   "metadata": {
    "tags": []
   },
   "source": [
    "#### Dummy Classifers"
   ]
  },
  {
   "cell_type": "code",
   "execution_count": 199,
   "id": "457ca9a8-2623-42bf-8610-b129f927217d",
   "metadata": {},
   "outputs": [
    {
     "name": "stdout",
     "output_type": "stream",
     "text": [
      "model run time: 0:00:00.014347\n"
     ]
    }
   ],
   "source": [
    "start = datetime.now()\n",
    "dummy_majority = DummyClassifier(strategy = 'most_frequent').fit(X_train, y_train)\n",
    "end = datetime.now()\n",
    "print(f'model run time: {end - start}')\n",
    "\n",
    "# dummy_majority.score(X_test, y_test)\n",
    "dummy_predicted = dummy_majority.predict(X_test)"
   ]
  },
  {
   "cell_type": "code",
   "execution_count": null,
   "id": "60285ed2-962a-4016-90ad-9a1a2e218853",
   "metadata": {},
   "outputs": [],
   "source": [
    "joblib.dump(dummy_majority, f'{prefix}_dummy_majority_clf.joblib')"
   ]
  },
  {
   "cell_type": "markdown",
   "id": "7726cbe7-fb99-4902-8ac8-b7ed33b200db",
   "metadata": {
    "tags": []
   },
   "source": [
    "#### Logistic Regression"
   ]
  },
  {
   "cell_type": "code",
   "execution_count": 224,
   "id": "1272a83e-5b37-40d6-9b89-893bdd465b67",
   "metadata": {},
   "outputs": [
    {
     "name": "stderr",
     "output_type": "stream",
     "text": [
      "/opt/anaconda3/envs/test_env/lib/python3.10/site-packages/sklearn/utils/validation.py:758: UserWarning: pandas.DataFrame with sparse columns found.It will be converted to a dense numpy array.\n",
      "  warnings.warn(\n"
     ]
    },
    {
     "name": "stdout",
     "output_type": "stream",
     "text": [
      "model run time: 0:06:46.677111\n"
     ]
    },
    {
     "name": "stderr",
     "output_type": "stream",
     "text": [
      "/opt/anaconda3/envs/test_env/lib/python3.10/site-packages/sklearn/utils/validation.py:758: UserWarning: pandas.DataFrame with sparse columns found.It will be converted to a dense numpy array.\n",
      "  warnings.warn(\n"
     ]
    },
    {
     "name": "stdout",
     "output_type": "stream",
     "text": [
      "Logistic regression classifier (default settings)\n",
      " [[74201     0]\n",
      " [  634     0]]\n"
     ]
    }
   ],
   "source": [
    "start = datetime.now()\n",
    "lr = LogisticRegression(random_state=rng).fit(X_train, y_train)\n",
    "end = datetime.now()\n",
    "print(f'model run time: {end - start}')\n",
    "\n",
    "lr_predicted = lr.predict(X_test)\n",
    "confusion = confusion_matrix(y_test, lr_predicted)\n",
    "print('Logistic regression classifier (default settings)\\n', confusion)"
   ]
  },
  {
   "cell_type": "code",
   "execution_count": 222,
   "id": "bdf2888c-6c3a-4e51-a7e2-b881628458f7",
   "metadata": {},
   "outputs": [
    {
     "name": "stderr",
     "output_type": "stream",
     "text": [
      "/opt/anaconda3/envs/test_env/lib/python3.10/site-packages/sklearn/utils/validation.py:758: UserWarning: pandas.DataFrame with sparse columns found.It will be converted to a dense numpy array.\n",
      "  warnings.warn(\n"
     ]
    },
    {
     "name": "stdout",
     "output_type": "stream",
     "text": [
      "model run time: 0:01:36.080061\n"
     ]
    },
    {
     "name": "stderr",
     "output_type": "stream",
     "text": [
      "/opt/anaconda3/envs/test_env/lib/python3.10/site-packages/sklearn/utils/validation.py:758: UserWarning: pandas.DataFrame with sparse columns found.It will be converted to a dense numpy array.\n",
      "  warnings.warn(\n"
     ]
    },
    {
     "name": "stdout",
     "output_type": "stream",
     "text": [
      "Logistic regression classifier (balanced)\n",
      " [[67941  6260]\n",
      " [  568    66]]\n"
     ]
    }
   ],
   "source": [
    "start = datetime.now()\n",
    "lr_balanced = LogisticRegression(random_state=rng, class_weight='balanced').fit(X_train, y_train)\n",
    "end = datetime.now()\n",
    "print(f'model run time: {end - start}')\n",
    "\n",
    "lr_balanced_predicted = lr_balanced.predict(X_test)\n",
    "confusion = confusion_matrix(y_test, lr_balanced_predicted)\n",
    "print('Logistic regression classifier (balanced)\\n', confusion)"
   ]
  },
  {
   "cell_type": "code",
   "execution_count": 231,
   "id": "d3dff4f3-de64-42bb-94c1-93e5f66ebd4f",
   "metadata": {},
   "outputs": [
    {
     "data": {
      "text/plain": [
       "['export_run1/export_lr_balanced_clf.joblib']"
      ]
     },
     "execution_count": 231,
     "metadata": {},
     "output_type": "execute_result"
    }
   ],
   "source": [
    "joblib.dump(lr, f'{prefix}_lr_clf.joblib')\n",
    "joblib.dump(lr_balanced, f'{prefix}_lr_balanced_clf.joblib')"
   ]
  },
  {
   "cell_type": "markdown",
   "id": "7adb248b-2822-40e0-b157-4407ee314cfd",
   "metadata": {
    "tags": []
   },
   "source": [
    "#### Decision Tree"
   ]
  },
  {
   "cell_type": "code",
   "execution_count": 189,
   "id": "88cfaff7-0061-45af-90e7-60d55a592e61",
   "metadata": {},
   "outputs": [
    {
     "name": "stderr",
     "output_type": "stream",
     "text": [
      "/opt/anaconda3/envs/test_env/lib/python3.10/site-packages/sklearn/utils/validation.py:758: UserWarning: pandas.DataFrame with sparse columns found.It will be converted to a dense numpy array.\n",
      "  warnings.warn(\n"
     ]
    },
    {
     "name": "stdout",
     "output_type": "stream",
     "text": [
      "model run time: 0:07:49.795160\n"
     ]
    }
   ],
   "source": [
    "start = datetime.now()\n",
    "decision_tree_clf = DecisionTreeClassifier(random_state=rng).fit(X_train, y_train)\n",
    "end = datetime.now()\n",
    "print(f'model run time: {end - start}')"
   ]
  },
  {
   "cell_type": "code",
   "execution_count": 225,
   "id": "ac5c1593-221d-445a-81de-63527f4ef804",
   "metadata": {},
   "outputs": [
    {
     "name": "stderr",
     "output_type": "stream",
     "text": [
      "/opt/anaconda3/envs/test_env/lib/python3.10/site-packages/sklearn/utils/validation.py:758: UserWarning: pandas.DataFrame with sparse columns found.It will be converted to a dense numpy array.\n",
      "  warnings.warn(\n"
     ]
    },
    {
     "name": "stdout",
     "output_type": "stream",
     "text": [
      "Logistic regression classifier (balanced)\n",
      " [[73884   317]\n",
      " [  292   342]]\n"
     ]
    }
   ],
   "source": [
    "tree_predicted = decision_tree_clf.predict(X_test)\n",
    "confusion = confusion_matrix(y_test, tree_predicted)\n",
    "print('Logistic regression classifier (balanced)\\n', confusion)"
   ]
  },
  {
   "cell_type": "code",
   "execution_count": 232,
   "id": "64ef3d8a-d872-4af6-a88a-539600e89ea8",
   "metadata": {},
   "outputs": [
    {
     "data": {
      "text/plain": [
       "['export_run1/export_decision_tree_clf.joblib']"
      ]
     },
     "execution_count": 232,
     "metadata": {},
     "output_type": "execute_result"
    }
   ],
   "source": [
    "joblib.dump(decision_tree_clf, f'{prefix}_decision_tree_clf.joblib')"
   ]
  },
  {
   "cell_type": "markdown",
   "id": "2c9a906b-06d1-4472-9902-f8c24ef8d282",
   "metadata": {
    "tags": []
   },
   "source": [
    "#### Random Forest"
   ]
  },
  {
   "cell_type": "code",
   "execution_count": 202,
   "id": "b20ae03b-c2c4-49d6-9ba4-ef2e6702cb78",
   "metadata": {},
   "outputs": [
    {
     "name": "stderr",
     "output_type": "stream",
     "text": [
      "/opt/anaconda3/envs/test_env/lib/python3.10/site-packages/sklearn/utils/validation.py:758: UserWarning: pandas.DataFrame with sparse columns found.It will be converted to a dense numpy array.\n",
      "  warnings.warn(\n"
     ]
    },
    {
     "name": "stdout",
     "output_type": "stream",
     "text": [
      "model run time: 0:06:35.537821\n"
     ]
    }
   ],
   "source": [
    "start = datetime.now()\n",
    "rf_clf = RandomForestClassifier(random_state=rng).fit(X_train, y_train)\n",
    "end = datetime.now()\n",
    "print(f'model run time: {end - start}')"
   ]
  },
  {
   "cell_type": "code",
   "execution_count": 226,
   "id": "f553addd-7e72-4e25-adce-87cf5d655398",
   "metadata": {},
   "outputs": [
    {
     "name": "stderr",
     "output_type": "stream",
     "text": [
      "/opt/anaconda3/envs/test_env/lib/python3.10/site-packages/sklearn/utils/validation.py:758: UserWarning: pandas.DataFrame with sparse columns found.It will be converted to a dense numpy array.\n",
      "  warnings.warn(\n"
     ]
    },
    {
     "name": "stdout",
     "output_type": "stream",
     "text": [
      "Logistic regression classifier (balanced)\n",
      " [[74095   106]\n",
      " [  339   295]]\n"
     ]
    }
   ],
   "source": [
    "rf_predicted = rf_clf.predict(X_test)\n",
    "confusion = confusion_matrix(y_test, rf_predicted)\n",
    "print('Logistic regression classifier (balanced)\\n', confusion)"
   ]
  },
  {
   "cell_type": "code",
   "execution_count": 233,
   "id": "4c7470c8-08ff-44da-bac6-a28e3efdb6cf",
   "metadata": {},
   "outputs": [
    {
     "data": {
      "text/plain": [
       "['export_run1/export_rf_clf.joblib']"
      ]
     },
     "execution_count": 233,
     "metadata": {},
     "output_type": "execute_result"
    }
   ],
   "source": [
    "joblib.dump(rf_clf, f'{prefix}_rf_clf.joblib')"
   ]
  },
  {
   "cell_type": "markdown",
   "id": "4c2771bf-e988-45d9-aa1f-4c6bc760cb47",
   "metadata": {},
   "source": [
    "#### Model Evaluation"
   ]
  },
  {
   "cell_type": "code",
   "execution_count": 211,
   "id": "8f99bb64-ca49-460f-84a8-3afffcd8ccd7",
   "metadata": {},
   "outputs": [
    {
     "name": "stderr",
     "output_type": "stream",
     "text": [
      "/opt/anaconda3/envs/test_env/lib/python3.10/site-packages/sklearn/metrics/_classification.py:1327: UndefinedMetricWarning: Precision and F-score are ill-defined and being set to 0.0 in labels with no predicted samples. Use `zero_division` parameter to control this behavior.\n",
      "  _warn_prf(average, modifier, msg_start, len(result))\n",
      "/opt/anaconda3/envs/test_env/lib/python3.10/site-packages/sklearn/metrics/_classification.py:1327: UndefinedMetricWarning: Precision and F-score are ill-defined and being set to 0.0 in labels with no predicted samples. Use `zero_division` parameter to control this behavior.\n",
      "  _warn_prf(average, modifier, msg_start, len(result))\n",
      "/opt/anaconda3/envs/test_env/lib/python3.10/site-packages/sklearn/metrics/_classification.py:1327: UndefinedMetricWarning: Precision and F-score are ill-defined and being set to 0.0 in labels with no predicted samples. Use `zero_division` parameter to control this behavior.\n",
      "  _warn_prf(average, modifier, msg_start, len(result))\n",
      "/opt/anaconda3/envs/test_env/lib/python3.10/site-packages/sklearn/metrics/_classification.py:1327: UndefinedMetricWarning: Precision and F-score are ill-defined and being set to 0.0 in labels with no predicted samples. Use `zero_division` parameter to control this behavior.\n",
      "  _warn_prf(average, modifier, msg_start, len(result))\n",
      "/opt/anaconda3/envs/test_env/lib/python3.10/site-packages/sklearn/metrics/_classification.py:1327: UndefinedMetricWarning: Precision and F-score are ill-defined and being set to 0.0 in labels with no predicted samples. Use `zero_division` parameter to control this behavior.\n",
      "  _warn_prf(average, modifier, msg_start, len(result))\n",
      "/opt/anaconda3/envs/test_env/lib/python3.10/site-packages/sklearn/metrics/_classification.py:1327: UndefinedMetricWarning: Precision and F-score are ill-defined and being set to 0.0 in labels with no predicted samples. Use `zero_division` parameter to control this behavior.\n",
      "  _warn_prf(average, modifier, msg_start, len(result))\n"
     ]
    },
    {
     "name": "stdout",
     "output_type": "stream",
     "text": [
      "Random class-proportional (dummy)\n",
      "               precision    recall  f1-score   support\n",
      "\n",
      "       clear       0.99      1.00      1.00     74201\n",
      "      seized       0.00      0.00      0.00       634\n",
      "\n",
      "    accuracy                           0.99     74835\n",
      "   macro avg       0.50      0.50      0.50     74835\n",
      "weighted avg       0.98      0.99      0.99     74835\n",
      "\n",
      "Decision Tree \n",
      "               precision    recall  f1-score   support\n",
      "\n",
      "       clear       1.00      1.00      1.00     74201\n",
      "      seized       0.52      0.54      0.53       634\n",
      "\n",
      "    accuracy                           0.99     74835\n",
      "   macro avg       0.76      0.77      0.76     74835\n",
      "weighted avg       0.99      0.99      0.99     74835\n",
      "\n",
      "Random Forest \n",
      "               precision    recall  f1-score   support\n",
      "\n",
      "       clear       1.00      1.00      1.00     74201\n",
      "      seized       0.74      0.47      0.57       634\n",
      "\n",
      "    accuracy                           0.99     74835\n",
      "   macro avg       0.87      0.73      0.78     74835\n",
      "weighted avg       0.99      0.99      0.99     74835\n",
      "\n",
      "Logistic Regression \n",
      "               precision    recall  f1-score   support\n",
      "\n",
      "       clear       0.99      1.00      1.00     74201\n",
      "      seized       0.00      0.00      0.00       634\n",
      "\n",
      "    accuracy                           0.99     74835\n",
      "   macro avg       0.50      0.50      0.50     74835\n",
      "weighted avg       0.98      0.99      0.99     74835\n",
      "\n",
      "Logistic Regression (balanced) \n",
      "               precision    recall  f1-score   support\n",
      "\n",
      "       clear       0.99      0.92      0.95     74201\n",
      "      seized       0.01      0.10      0.02       634\n",
      "\n",
      "    accuracy                           0.91     74835\n",
      "   macro avg       0.50      0.51      0.49     74835\n",
      "weighted avg       0.98      0.91      0.94     74835\n",
      "\n"
     ]
    }
   ],
   "source": [
    "print('Random class-proportional (dummy)\\n', \n",
    "      classification_report(y_test, dummy_predicted, target_names=['clear', 'seized']))\n",
    "print('Decision Tree \\n', \n",
    "      classification_report(y_test, tree_predicted, target_names=['clear', 'seized']))\n",
    "print('Random Forest \\n', \n",
    "      classification_report(y_test, rf_predicted, target_names=['clear', 'seized']))\n",
    "print('Logistic Regression \\n', \n",
    "      classification_report(y_test, lr_predicted, target_names=['clear', 'seized']))\n",
    "print('Logistic Regression (balanced) \\n', \n",
    "      classification_report(y_test, lr_balanced_predicted, target_names=['clear', 'seized']))"
   ]
  },
  {
   "cell_type": "code",
   "execution_count": null,
   "id": "7cba6c51-8605-446b-a92b-7c378d9ee6c0",
   "metadata": {},
   "outputs": [],
   "source": [
    "# Accuracy = TP + TN / (TP + TN + FP + FN)\n",
    "# Precision = TP / (TP + FP)\n",
    "# Recall = TP / (TP + FN)  Also known as sensitivity, or True Positive Rate\n",
    "# F1 = 2 * Precision * Recall / (Precision + Recall) "
   ]
  },
  {
   "cell_type": "markdown",
   "id": "178713f1-2053-4749-a20c-322d335af9ae",
   "metadata": {
    "jp-MarkdownHeadingCollapsed": true,
    "tags": []
   },
   "source": [
    "### column transformer w/ OneHotEncoding"
   ]
  },
  {
   "cell_type": "code",
   "execution_count": 129,
   "id": "f8d40a34-4e88-46b3-a7b9-9c436a57da49",
   "metadata": {},
   "outputs": [
    {
     "name": "stdout",
     "output_type": "stream",
     "text": [
      "<class 'pandas.core.frame.DataFrame'>\n",
      "Int64Index: 299340 entries, 11 to 1890123\n",
      "Data columns (total 11 columns):\n",
      " #   Column        Non-Null Count   Dtype  \n",
      "---  ------        --------------   -----  \n",
      " 0   species_code  299340 non-null  object \n",
      " 1   wildlf_desc   299340 non-null  object \n",
      " 2   ctry_org      299340 non-null  object \n",
      " 3   ctry_ie       299340 non-null  object \n",
      " 4   purp          299340 non-null  object \n",
      " 5   src           299340 non-null  object \n",
      " 6   trans_mode    299340 non-null  object \n",
      " 7   pt_cd         299340 non-null  object \n",
      " 8   value         299340 non-null  float64\n",
      " 9   ship_date_mm  299340 non-null  int64  \n",
      " 10  act           299340 non-null  object \n",
      "dtypes: float64(1), int64(1), object(9)\n",
      "memory usage: 27.4+ MB\n"
     ]
    }
   ],
   "source": [
    "export_df.info()"
   ]
  },
  {
   "cell_type": "code",
   "execution_count": 158,
   "id": "2828bffb-5400-4c20-a580-b66244c7b532",
   "metadata": {},
   "outputs": [],
   "source": [
    "categorical_var = ['species_code', 'wildlf_desc', 'ctry_org', 'ctry_ie','purp', 'src', \n",
    "                   'trans_mode', 'pt_cd']\n",
    "numerical_var = ['value']"
   ]
  },
  {
   "cell_type": "code",
   "execution_count": 159,
   "id": "04548411-205d-452a-8f6c-e6a88d5d0683",
   "metadata": {},
   "outputs": [],
   "source": [
    "ct1 = make_column_transformer(\n",
    "    (StandardScaler(), numerical_var),\n",
    "    (OneHotEncoder(), categorical_var),\n",
    "    remainder='passthrough')\n",
    "le = LabelEncoder()"
   ]
  },
  {
   "cell_type": "code",
   "execution_count": 160,
   "id": "d74c3da5-a973-4fd9-837c-047ad7fb4999",
   "metadata": {},
   "outputs": [
    {
     "ename": "ValueError",
     "evalue": "Found unknown categories ['NYSC', 'HETB', 'HIHK', 'DIGR', 'STRH', 'CNCR', 'MUWR', 'CSOR', 'PIO?', 'WHIB', 'PHMI', 'CBQ?', 'RHFR', 'PENG', 'MRUA', 'ARB*', 'EUAU', 'CTGU', 'NENO', 'GBAN', 'PASB', 'SEPC', 'GEAC', 'TUMA', 'BUBI', 'BES?', 'OCCI', 'ONCA', 'IST?', 'CRAQ', 'MADC', 'SPRH', 'CHNE', 'PHPP', 'LTY?', 'LASP', 'AGAA', 'UAFE', 'DSP?', 'SSPH', 'COB*', 'OTGA', 'DEIJ', 'SEAV', 'CCEL', 'PGAL', 'PDMO', 'PLI*', 'TYS?', 'COJP', 'MIS?', 'CPSE', 'TABA', 'NHT?', 'NTP*', 'BANI', 'TOER', 'BOMA', 'CLAE', 'CCM?', 'PEXI', 'TANC', 'APHS', 'GAR?', 'PELF', 'AAMM', 'DDP?', 'GAS*', 'BORI', 'WOTH', 'PLAS', 'CMOR', 'PUN?', 'BBRA', 'SFLV', 'MARS', 'GOR?', 'SPHI', 'MIBA', 'ELA*', 'PAGM', 'THPS', 'ICGR', 'OXPI', 'STDO', 'PANH', 'TODE', 'NOMU', 'CONG', 'AMFU', 'THRE', 'BAVS', 'AMST', 'TRK?', 'BTGW', 'OEPI', 'PHSY', 'CMGR', 'BBAL', 'LIAB', 'RAN*', 'CUL*', 'CAMT', 'ZON?', 'CONV', 'NEP*', 'CINL', 'NCIN', 'MVIO', 'HDA?', 'BUSE', 'CLRV', 'NEH*', 'AMPH', 'ZOQU', 'PRFF', 'CEO*', 'CUP?', 'MANC', 'LITL', 'FADE', 'MAMA', 'SACL', 'TCS?', 'LURU', 'FALR', 'ABSM', 'THPY', 'NOFL', 'DDOR', 'MCB?', 'MAAB', 'CCAO', 'TOPO', 'SCEF', 'EID?', 'YETO', 'LSOU', 'OCS?', 'ANOT', 'NOSK', 'VEER', 'SURF', 'MRI?', 'PATA', 'BA##', 'CETD', 'HNC?', 'MEFE', 'CUND', 'FAR*', 'BALU', 'CCNS', 'TRQU', 'BLSW', 'OLFU', 'SDEP', 'MGI?', 'AUT?', 'BLSK', 'DETY', 'PHWI', 'ODJU', 'ERLI', 'PIP*', 'HEWA', 'OMYK', 'ARXA', 'COIE', 'TOAS', 'ELOA', 'AEUG', 'LAJA', 'CAUO', 'APRO', 'YELL', 'EILE', 'AFRU', 'PIVI', 'ADL?', 'NYPE', 'SUPH', 'TOSA', 'TUPH', 'CARA', 'PLDA', 'PIE*', 'BHGR', 'ORIO', 'BO00', 'SIBO', 'MMNK', 'TRMU', 'HOP*', 'SERH', 'POO*', 'ANHC', 'COAR', 'CSPZ', 'RSTE', 'SUDI', 'EUC*', 'PMOC', 'DPU?', 'NASI', 'MYA?', 'LYN?', 'ZANA', 'SSTO', 'TRUF', 'STPI', 'SON?', 'TOY?', 'GLOP', 'SVS?', 'MYOM', 'CNSE', 'CACO', 'GGTA', 'ATVA', 'PUCO', 'BYC?', 'DNP?', 'TOXS', 'CLNG', 'SASA', 'CASN', 'EOP?', 'CGY?', 'THAA', 'PAP?', 'ANN?', 'GHER', 'TAGN', 'VAGL', 'GAAB', 'VAMC', 'AUBM', 'ARSP', 'PPUO', 'MLS*', 'OSFL', 'MCUI', 'TAYA', 'CYR?', 'SASE', 'APFL', 'MABP', 'LIH*', 'TOSO', 'RAME', 'PYLU', 'TAMI', 'DRGL', 'SBA*', 'AMG*', 'BSPE', 'INGE', 'THOT', 'GYML', 'LAMS', 'EIM?', 'CGRO', 'HCNT', 'MRE?', 'MALP', 'ASNL', 'ECCO', 'CHOT', 'CAAS', 'NEUC', 'MCC*', 'HEMS', 'TNGC', 'SPBR', 'THUN', 'ACAC', 'CRAM', 'GECO', 'CCFF', 'WYGW', 'GOLA', 'SQU?', 'CEEE', 'TOFL', 'MYRA', 'MMIP', 'PSXA', 'LIUS', 'MIMC', 'SBOI', 'AVRT', 'TPOP', 'LEPK', 'CBNK', 'AGYL', 'BUFB', 'AVIR', 'MARU', 'LRA?', 'GUYO', 'HYD?', 'ABLO', 'GLTR', 'HSOR', 'MCV*', 'APMA', 'PYED', 'RATL', 'HECI', 'DBU?', 'HAWF', 'SYLL', 'NEOB', 'PIAR', 'BALP', 'TMRA', 'TMP?', 'BOOM', 'ATCE', 'LAES', 'MYMN', 'LALO', 'LBLO', 'BOGU', 'HEAT', 'PNOT', 'ORPA', 'PYHE', 'OCUN', 'PHCN', 'PAHC', 'CAUB', 'EPIF', 'NENI', 'ECRI', 'ENTL', 'MPS?', 'CSCA', 'PIS*', 'MLML', 'MYAB', 'CFIG', 'APD?', 'SPP*', 'BEHI', 'MUSC', 'PANO', 'LYBE', 'NALO', 'DIPP', 'COPA', 'PEH?', 'PLHE', 'SUC?', 'PRJE', 'HEFR', 'EMEL', 'CRGL', 'PEO*', 'PGAB', 'FALF', 'RHIM', 'WIWD', 'CDID', 'PCHI', 'VIN*', 'NATE', 'GYCA', 'PMR?', 'CYMM', 'CHAG', 'CROG', 'HYPH', 'HMG*', 'KIRA', 'ELI*', 'PYGB', 'LIW?', 'CNRA', 'TESG', 'COEC', 'TYA*', 'PABE', 'VAOR', 'GLMA', 'APOA', 'CCSR', 'LETA', 'BSEP', 'MYSC', 'HAWH', 'HATH', 'ATS*', 'CNC*', 'SCAS', 'VAMT', 'CAE?', 'CPSL', 'COOS', 'LBE?', 'REKN', 'RHIN', 'URB?', 'CIAN', 'MLUC', 'WEHU', 'MLA?', 'CNRU', 'ANLA', 'BTRS', 'OLWA', 'CAPN', 'HELD', 'PIN*', 'PPRZ', 'NAC?', 'MCU?', 'NISE', 'LESU', 'EAME', 'BOIM', 'DUTA', 'DCNC', 'APD*', 'PML?', 'BLUE', 'RHFI', 'MUNM', 'EMSP', 'GATR', 'OTRO', 'PIBI', 'DDU?', 'XEMI', 'NRUF', 'GLOI', 'HBRA', 'HCAM', 'BACN', 'NESP', 'LUME', 'MENM', 'EUPF', 'TATT', 'PET*', 'PLCP', 'IDE*', 'NEA?', 'ACNM', 'PADN', 'EPRO', 'PRON', 'ACSL', 'SPMA', 'MMGT', 'ACCV', 'STST', 'PAMP', 'TEER', 'TRDR', 'SERF', 'MTP?', 'URAE', 'SPHN', 'SBR*', 'ACD?', 'MED?', 'TMS?', 'AMFR', 'MYGR', 'ARLO', 'CEGY', 'COPE', 'CAMI', 'GOMV', 'ACBR', 'BTC?', 'ISPA', 'ABIM', 'PYBA', 'ONZB', 'BCP?', 'GAI?', 'CVRI', 'TDD?', 'ENEN', 'DAUA', 'ARTE', 'HAMP', 'BLTU', 'BMES', 'LAOM', 'LYCD', 'SSEN', 'CLM?', 'THTO', 'MYIR', 'HRL?', 'OVOO', 'URSE', 'TRI?', 'FELP', 'WNRA', 'ARGB', 'POT*', 'DASL', 'APY?', 'RAEX', 'RFBO', 'AMAJ', 'AMRR', 'SSTT', 'SVIN', 'CSPN', 'TYBR', 'PPDX', 'PTOR', 'EMBL', 'PPO?', 'COU*', 'AMGR', 'TBRN', 'CUPA', 'PNCP', 'PCUI', 'HIFI', 'AEXT', 'THX*', 'PND?', 'OVO?', 'LNIG', 'EPSS', 'PTYH', 'CVIG', 'LGS*', 'LBPI', 'BONI', 'PHCR', 'FERA', 'NCS?', 'HOSE', 'HANG', 'HEHE', 'PTGL', 'CCST', 'HDM?', 'PSO*', 'CCCR', 'ARMX', 'STYG', 'FIFI', 'HOG?', 'DICY', 'AAPA', 'BODU', 'SCIP', 'COCC', 'ESUB', 'PSRF', 'PHEY', 'IND*', 'ZMN?', 'WHB?', 'AGVA', 'BRPE', 'TAE*', 'APVE', 'LYPH', 'GRSN', 'ETMS', 'AS00', 'CEOC', 'ECOC', 'CRQ?', 'TURC', 'ANTE', 'TCHR', 'PSRE', 'NAPI', 'COGO', 'FURE', 'ECAE', 'BTH?', 'SMAX', 'CHO*', 'AMPR', 'MYEL', 'ASFL', 'ARU?', 'BLAC', 'HBOL', 'CRYA', 'LCTH', 'CBDT', 'COEF', 'ENG?', 'PRFR', 'TPER', 'CCCL', 'PHDE', 'CUGA', 'PTO?', 'TCRL', 'TAKY', 'TYCO', 'APHC', 'ELP*', 'EL??', 'FLO?', 'ASAX', 'HYCY', 'WBMB', 'OSMO', 'TUFS', 'TRJA', 'LEOW', 'MOT?', 'PHDA', 'DIMB', 'RIHU', 'CRML', 'AFAT', 'CTT?', 'PFVC', 'JUTM', 'ACAE', 'CHTU', 'ASET', 'NEFL', 'RAEV', 'PYGO', 'EPAL', 'URN?', 'LLAV', 'AGPE', 'XIOC', 'GESC', 'CYPN', 'SSCT', 'VAME', 'PMLL', 'SPMC', 'CSIE', 'DNO?', 'BMOL', 'AGC?', 'PIRF', 'EUDC', 'PPLU', 'XAFL', 'SHAH', 'CHTR', 'RUPE', 'KNIP', 'ARVA', 'SEBA', 'ACG?', 'GCEC', 'MIM?', 'LEAS', 'MEHP', 'PEAT', 'BRAB', 'ASN?', 'VAIN', 'STJA', 'PNN?', 'MIDU', 'MIOL', 'MYFS', 'PLRH', 'PLFL', 'REDP', 'EMTA', 'OSG?', 'LGU?', 'BZCO', 'SSTA', 'CAB*', 'HYA?', 'ECYA', 'DGL?', 'COLS', 'PHUR', 'PHRC', 'HCLC', 'PNE?', 'RGN?', 'GRAG', 'PPAN', 'BALT', 'AIP?', 'FERE', 'SAH?', 'PEOC', 'RDP?', 'ODGU', 'WEFL', 'LIUN', 'CYQU', 'SYCO', 'MDC*', 'GUPL', 'ASIS', 'PR00', 'BLEP', 'GORB', 'NATN', 'SCS?', 'PISE', 'GOPO', 'DVAG', 'ADME', 'ACSO', 'ANHU', 'FUHY', 'ECS*', 'NUWO', 'NTL?', 'SYLB', 'STEX', 'RPC?', 'SAXR', 'COGS', 'RPUM', 'TE00', 'HELI', 'TRIP', 'STCU', 'SAT?', 'DMEX', 'COI?', 'CRDU', 'SYAT', 'OPD?', 'VALE', 'CPO*', 'NUCA', 'AMAV', 'CMRQ', 'SYNR', 'HOSA', 'DSA?', 'PYN?', 'YTWA', 'JWW?', 'NNAS', 'COTE', 'DOBM', 'BRAU', 'GRPE', 'OUL?', 'OLVI', 'PAML', 'PLDU', 'STU*', 'GPT?', 'AGAT', 'LEUF', 'LEBU', 'HAGO', 'ARLA', 'BLWA', 'VECR', 'BTBW', 'ICME', 'CLYL', 'PYCF', 'CYX?', 'PDUN', 'HEAX', 'MIFU', 'GOSL', 'ATRV', 'SEXP', 'GRYE', 'EMHO', 'PTSD', 'CMGU', 'HAPU', 'VUGR', 'TGER', 'HHAI', 'GBUN', 'MUL*', 'CMCC', 'AMXC', 'BON?', 'ATH*', 'LNO*', 'SYST', 'TIOB', 'LIGY', 'PAGL', 'XIEL', 'AGI?', 'BSEC', 'LBMW', 'LMEL', 'MEEV', 'MECP', 'CEPN', 'CACH', 'PMAS', 'PYCY', 'POEC', 'BABJ', 'CSCR', 'SIY?', 'ORPP', 'EPTS', 'SPOD', 'CHN*', 'TPEL', 'SIEI', 'NOUR', 'NASG', 'XEIM', 'LOLI', 'GROR', 'PFSH', 'IGFR', 'CGB?', 'ANMS', 'BRCR', 'CSP?', 'CNCA', 'SPDE', 'ELPA', 'ARO*', 'EHE?', 'NYNO'] in column 0 during transform",
     "output_type": "error",
     "traceback": [
      "\u001b[0;31m---------------------------------------------------------------------------\u001b[0m",
      "\u001b[0;31mValueError\u001b[0m                                Traceback (most recent call last)",
      "Input \u001b[0;32mIn [160]\u001b[0m, in \u001b[0;36m<cell line: 4>\u001b[0;34m()\u001b[0m\n\u001b[1;32m      1\u001b[0m X_train_ohe \u001b[38;5;241m=\u001b[39m ct\u001b[38;5;241m.\u001b[39mfit_transform(X_train)\n\u001b[1;32m      2\u001b[0m joblib\u001b[38;5;241m.\u001b[39mdump(X_train_ohe , \u001b[38;5;124m'\u001b[39m\u001b[38;5;124mX_train_ohe.joblib\u001b[39m\u001b[38;5;124m'\u001b[39m)\n\u001b[0;32m----> 4\u001b[0m X_test_ohe \u001b[38;5;241m=\u001b[39m \u001b[43mct\u001b[49m\u001b[38;5;241;43m.\u001b[39;49m\u001b[43mtransform\u001b[49m\u001b[43m(\u001b[49m\u001b[43mX_test\u001b[49m\u001b[43m)\u001b[49m\n\u001b[1;32m      5\u001b[0m joblib\u001b[38;5;241m.\u001b[39mdump(X_test_ohe , \u001b[38;5;124m'\u001b[39m\u001b[38;5;124mX_test_ohe.joblib\u001b[39m\u001b[38;5;124m'\u001b[39m)\n\u001b[1;32m      6\u001b[0m \u001b[38;5;66;03m# Found unknown categories \u001b[39;00m\n",
      "File \u001b[0;32m/opt/anaconda3/envs/test_env/lib/python3.10/site-packages/sklearn/compose/_column_transformer.py:746\u001b[0m, in \u001b[0;36mColumnTransformer.transform\u001b[0;34m(self, X)\u001b[0m\n\u001b[1;32m    741\u001b[0m \u001b[38;5;28;01melse\u001b[39;00m:\n\u001b[1;32m    742\u001b[0m     \u001b[38;5;66;03m# ndarray was used for fitting or transforming, thus we only\u001b[39;00m\n\u001b[1;32m    743\u001b[0m     \u001b[38;5;66;03m# check that n_features_in_ is consistent\u001b[39;00m\n\u001b[1;32m    744\u001b[0m     \u001b[38;5;28mself\u001b[39m\u001b[38;5;241m.\u001b[39m_check_n_features(X, reset\u001b[38;5;241m=\u001b[39m\u001b[38;5;28;01mFalse\u001b[39;00m)\n\u001b[0;32m--> 746\u001b[0m Xs \u001b[38;5;241m=\u001b[39m \u001b[38;5;28;43mself\u001b[39;49m\u001b[38;5;241;43m.\u001b[39;49m\u001b[43m_fit_transform\u001b[49m\u001b[43m(\u001b[49m\n\u001b[1;32m    747\u001b[0m \u001b[43m    \u001b[49m\u001b[43mX\u001b[49m\u001b[43m,\u001b[49m\n\u001b[1;32m    748\u001b[0m \u001b[43m    \u001b[49m\u001b[38;5;28;43;01mNone\u001b[39;49;00m\u001b[43m,\u001b[49m\n\u001b[1;32m    749\u001b[0m \u001b[43m    \u001b[49m\u001b[43m_transform_one\u001b[49m\u001b[43m,\u001b[49m\n\u001b[1;32m    750\u001b[0m \u001b[43m    \u001b[49m\u001b[43mfitted\u001b[49m\u001b[38;5;241;43m=\u001b[39;49m\u001b[38;5;28;43;01mTrue\u001b[39;49;00m\u001b[43m,\u001b[49m\n\u001b[1;32m    751\u001b[0m \u001b[43m    \u001b[49m\u001b[43mcolumn_as_strings\u001b[49m\u001b[38;5;241;43m=\u001b[39;49m\u001b[43mfit_dataframe_and_transform_dataframe\u001b[49m\u001b[43m,\u001b[49m\n\u001b[1;32m    752\u001b[0m \u001b[43m\u001b[49m\u001b[43m)\u001b[49m\n\u001b[1;32m    753\u001b[0m \u001b[38;5;28mself\u001b[39m\u001b[38;5;241m.\u001b[39m_validate_output(Xs)\n\u001b[1;32m    755\u001b[0m \u001b[38;5;28;01mif\u001b[39;00m \u001b[38;5;129;01mnot\u001b[39;00m Xs:\n\u001b[1;32m    756\u001b[0m     \u001b[38;5;66;03m# All transformers are None\u001b[39;00m\n",
      "File \u001b[0;32m/opt/anaconda3/envs/test_env/lib/python3.10/site-packages/sklearn/compose/_column_transformer.py:604\u001b[0m, in \u001b[0;36mColumnTransformer._fit_transform\u001b[0;34m(self, X, y, func, fitted, column_as_strings)\u001b[0m\n\u001b[1;32m    598\u001b[0m transformers \u001b[38;5;241m=\u001b[39m \u001b[38;5;28mlist\u001b[39m(\n\u001b[1;32m    599\u001b[0m     \u001b[38;5;28mself\u001b[39m\u001b[38;5;241m.\u001b[39m_iter(\n\u001b[1;32m    600\u001b[0m         fitted\u001b[38;5;241m=\u001b[39mfitted, replace_strings\u001b[38;5;241m=\u001b[39m\u001b[38;5;28;01mTrue\u001b[39;00m, column_as_strings\u001b[38;5;241m=\u001b[39mcolumn_as_strings\n\u001b[1;32m    601\u001b[0m     )\n\u001b[1;32m    602\u001b[0m )\n\u001b[1;32m    603\u001b[0m \u001b[38;5;28;01mtry\u001b[39;00m:\n\u001b[0;32m--> 604\u001b[0m     \u001b[38;5;28;01mreturn\u001b[39;00m \u001b[43mParallel\u001b[49m\u001b[43m(\u001b[49m\u001b[43mn_jobs\u001b[49m\u001b[38;5;241;43m=\u001b[39;49m\u001b[38;5;28;43mself\u001b[39;49m\u001b[38;5;241;43m.\u001b[39;49m\u001b[43mn_jobs\u001b[49m\u001b[43m)\u001b[49m\u001b[43m(\u001b[49m\n\u001b[1;32m    605\u001b[0m \u001b[43m        \u001b[49m\u001b[43mdelayed\u001b[49m\u001b[43m(\u001b[49m\u001b[43mfunc\u001b[49m\u001b[43m)\u001b[49m\u001b[43m(\u001b[49m\n\u001b[1;32m    606\u001b[0m \u001b[43m            \u001b[49m\u001b[43mtransformer\u001b[49m\u001b[38;5;241;43m=\u001b[39;49m\u001b[43mclone\u001b[49m\u001b[43m(\u001b[49m\u001b[43mtrans\u001b[49m\u001b[43m)\u001b[49m\u001b[43m \u001b[49m\u001b[38;5;28;43;01mif\u001b[39;49;00m\u001b[43m \u001b[49m\u001b[38;5;129;43;01mnot\u001b[39;49;00m\u001b[43m \u001b[49m\u001b[43mfitted\u001b[49m\u001b[43m \u001b[49m\u001b[38;5;28;43;01melse\u001b[39;49;00m\u001b[43m \u001b[49m\u001b[43mtrans\u001b[49m\u001b[43m,\u001b[49m\n\u001b[1;32m    607\u001b[0m \u001b[43m            \u001b[49m\u001b[43mX\u001b[49m\u001b[38;5;241;43m=\u001b[39;49m\u001b[43m_safe_indexing\u001b[49m\u001b[43m(\u001b[49m\u001b[43mX\u001b[49m\u001b[43m,\u001b[49m\u001b[43m \u001b[49m\u001b[43mcolumn\u001b[49m\u001b[43m,\u001b[49m\u001b[43m \u001b[49m\u001b[43maxis\u001b[49m\u001b[38;5;241;43m=\u001b[39;49m\u001b[38;5;241;43m1\u001b[39;49m\u001b[43m)\u001b[49m\u001b[43m,\u001b[49m\n\u001b[1;32m    608\u001b[0m \u001b[43m            \u001b[49m\u001b[43my\u001b[49m\u001b[38;5;241;43m=\u001b[39;49m\u001b[43my\u001b[49m\u001b[43m,\u001b[49m\n\u001b[1;32m    609\u001b[0m \u001b[43m            \u001b[49m\u001b[43mweight\u001b[49m\u001b[38;5;241;43m=\u001b[39;49m\u001b[43mweight\u001b[49m\u001b[43m,\u001b[49m\n\u001b[1;32m    610\u001b[0m \u001b[43m            \u001b[49m\u001b[43mmessage_clsname\u001b[49m\u001b[38;5;241;43m=\u001b[39;49m\u001b[38;5;124;43m\"\u001b[39;49m\u001b[38;5;124;43mColumnTransformer\u001b[39;49m\u001b[38;5;124;43m\"\u001b[39;49m\u001b[43m,\u001b[49m\n\u001b[1;32m    611\u001b[0m \u001b[43m            \u001b[49m\u001b[43mmessage\u001b[49m\u001b[38;5;241;43m=\u001b[39;49m\u001b[38;5;28;43mself\u001b[39;49m\u001b[38;5;241;43m.\u001b[39;49m\u001b[43m_log_message\u001b[49m\u001b[43m(\u001b[49m\u001b[43mname\u001b[49m\u001b[43m,\u001b[49m\u001b[43m \u001b[49m\u001b[43midx\u001b[49m\u001b[43m,\u001b[49m\u001b[43m \u001b[49m\u001b[38;5;28;43mlen\u001b[39;49m\u001b[43m(\u001b[49m\u001b[43mtransformers\u001b[49m\u001b[43m)\u001b[49m\u001b[43m)\u001b[49m\u001b[43m,\u001b[49m\n\u001b[1;32m    612\u001b[0m \u001b[43m        \u001b[49m\u001b[43m)\u001b[49m\n\u001b[1;32m    613\u001b[0m \u001b[43m        \u001b[49m\u001b[38;5;28;43;01mfor\u001b[39;49;00m\u001b[43m \u001b[49m\u001b[43midx\u001b[49m\u001b[43m,\u001b[49m\u001b[43m \u001b[49m\u001b[43m(\u001b[49m\u001b[43mname\u001b[49m\u001b[43m,\u001b[49m\u001b[43m \u001b[49m\u001b[43mtrans\u001b[49m\u001b[43m,\u001b[49m\u001b[43m \u001b[49m\u001b[43mcolumn\u001b[49m\u001b[43m,\u001b[49m\u001b[43m \u001b[49m\u001b[43mweight\u001b[49m\u001b[43m)\u001b[49m\u001b[43m \u001b[49m\u001b[38;5;129;43;01min\u001b[39;49;00m\u001b[43m \u001b[49m\u001b[38;5;28;43menumerate\u001b[39;49m\u001b[43m(\u001b[49m\u001b[43mtransformers\u001b[49m\u001b[43m,\u001b[49m\u001b[43m \u001b[49m\u001b[38;5;241;43m1\u001b[39;49m\u001b[43m)\u001b[49m\n\u001b[1;32m    614\u001b[0m \u001b[43m    \u001b[49m\u001b[43m)\u001b[49m\n\u001b[1;32m    615\u001b[0m \u001b[38;5;28;01mexcept\u001b[39;00m \u001b[38;5;167;01mValueError\u001b[39;00m \u001b[38;5;28;01mas\u001b[39;00m e:\n\u001b[1;32m    616\u001b[0m     \u001b[38;5;28;01mif\u001b[39;00m \u001b[38;5;124m\"\u001b[39m\u001b[38;5;124mExpected 2D array, got 1D array instead\u001b[39m\u001b[38;5;124m\"\u001b[39m \u001b[38;5;129;01min\u001b[39;00m \u001b[38;5;28mstr\u001b[39m(e):\n",
      "File \u001b[0;32m/opt/anaconda3/envs/test_env/lib/python3.10/site-packages/joblib/parallel.py:1046\u001b[0m, in \u001b[0;36mParallel.__call__\u001b[0;34m(self, iterable)\u001b[0m\n\u001b[1;32m   1043\u001b[0m \u001b[38;5;28;01mif\u001b[39;00m \u001b[38;5;28mself\u001b[39m\u001b[38;5;241m.\u001b[39mdispatch_one_batch(iterator):\n\u001b[1;32m   1044\u001b[0m     \u001b[38;5;28mself\u001b[39m\u001b[38;5;241m.\u001b[39m_iterating \u001b[38;5;241m=\u001b[39m \u001b[38;5;28mself\u001b[39m\u001b[38;5;241m.\u001b[39m_original_iterator \u001b[38;5;129;01mis\u001b[39;00m \u001b[38;5;129;01mnot\u001b[39;00m \u001b[38;5;28;01mNone\u001b[39;00m\n\u001b[0;32m-> 1046\u001b[0m \u001b[38;5;28;01mwhile\u001b[39;00m \u001b[38;5;28;43mself\u001b[39;49m\u001b[38;5;241;43m.\u001b[39;49m\u001b[43mdispatch_one_batch\u001b[49m\u001b[43m(\u001b[49m\u001b[43miterator\u001b[49m\u001b[43m)\u001b[49m:\n\u001b[1;32m   1047\u001b[0m     \u001b[38;5;28;01mpass\u001b[39;00m\n\u001b[1;32m   1049\u001b[0m \u001b[38;5;28;01mif\u001b[39;00m pre_dispatch \u001b[38;5;241m==\u001b[39m \u001b[38;5;124m\"\u001b[39m\u001b[38;5;124mall\u001b[39m\u001b[38;5;124m\"\u001b[39m \u001b[38;5;129;01mor\u001b[39;00m n_jobs \u001b[38;5;241m==\u001b[39m \u001b[38;5;241m1\u001b[39m:\n\u001b[1;32m   1050\u001b[0m     \u001b[38;5;66;03m# The iterable was consumed all at once by the above for loop.\u001b[39;00m\n\u001b[1;32m   1051\u001b[0m     \u001b[38;5;66;03m# No need to wait for async callbacks to trigger to\u001b[39;00m\n\u001b[1;32m   1052\u001b[0m     \u001b[38;5;66;03m# consumption.\u001b[39;00m\n",
      "File \u001b[0;32m/opt/anaconda3/envs/test_env/lib/python3.10/site-packages/joblib/parallel.py:861\u001b[0m, in \u001b[0;36mParallel.dispatch_one_batch\u001b[0;34m(self, iterator)\u001b[0m\n\u001b[1;32m    859\u001b[0m     \u001b[38;5;28;01mreturn\u001b[39;00m \u001b[38;5;28;01mFalse\u001b[39;00m\n\u001b[1;32m    860\u001b[0m \u001b[38;5;28;01melse\u001b[39;00m:\n\u001b[0;32m--> 861\u001b[0m     \u001b[38;5;28;43mself\u001b[39;49m\u001b[38;5;241;43m.\u001b[39;49m\u001b[43m_dispatch\u001b[49m\u001b[43m(\u001b[49m\u001b[43mtasks\u001b[49m\u001b[43m)\u001b[49m\n\u001b[1;32m    862\u001b[0m     \u001b[38;5;28;01mreturn\u001b[39;00m \u001b[38;5;28;01mTrue\u001b[39;00m\n",
      "File \u001b[0;32m/opt/anaconda3/envs/test_env/lib/python3.10/site-packages/joblib/parallel.py:779\u001b[0m, in \u001b[0;36mParallel._dispatch\u001b[0;34m(self, batch)\u001b[0m\n\u001b[1;32m    777\u001b[0m \u001b[38;5;28;01mwith\u001b[39;00m \u001b[38;5;28mself\u001b[39m\u001b[38;5;241m.\u001b[39m_lock:\n\u001b[1;32m    778\u001b[0m     job_idx \u001b[38;5;241m=\u001b[39m \u001b[38;5;28mlen\u001b[39m(\u001b[38;5;28mself\u001b[39m\u001b[38;5;241m.\u001b[39m_jobs)\n\u001b[0;32m--> 779\u001b[0m     job \u001b[38;5;241m=\u001b[39m \u001b[38;5;28;43mself\u001b[39;49m\u001b[38;5;241;43m.\u001b[39;49m\u001b[43m_backend\u001b[49m\u001b[38;5;241;43m.\u001b[39;49m\u001b[43mapply_async\u001b[49m\u001b[43m(\u001b[49m\u001b[43mbatch\u001b[49m\u001b[43m,\u001b[49m\u001b[43m \u001b[49m\u001b[43mcallback\u001b[49m\u001b[38;5;241;43m=\u001b[39;49m\u001b[43mcb\u001b[49m\u001b[43m)\u001b[49m\n\u001b[1;32m    780\u001b[0m     \u001b[38;5;66;03m# A job can complete so quickly than its callback is\u001b[39;00m\n\u001b[1;32m    781\u001b[0m     \u001b[38;5;66;03m# called before we get here, causing self._jobs to\u001b[39;00m\n\u001b[1;32m    782\u001b[0m     \u001b[38;5;66;03m# grow. To ensure correct results ordering, .insert is\u001b[39;00m\n\u001b[1;32m    783\u001b[0m     \u001b[38;5;66;03m# used (rather than .append) in the following line\u001b[39;00m\n\u001b[1;32m    784\u001b[0m     \u001b[38;5;28mself\u001b[39m\u001b[38;5;241m.\u001b[39m_jobs\u001b[38;5;241m.\u001b[39minsert(job_idx, job)\n",
      "File \u001b[0;32m/opt/anaconda3/envs/test_env/lib/python3.10/site-packages/joblib/_parallel_backends.py:208\u001b[0m, in \u001b[0;36mSequentialBackend.apply_async\u001b[0;34m(self, func, callback)\u001b[0m\n\u001b[1;32m    206\u001b[0m \u001b[38;5;28;01mdef\u001b[39;00m \u001b[38;5;21mapply_async\u001b[39m(\u001b[38;5;28mself\u001b[39m, func, callback\u001b[38;5;241m=\u001b[39m\u001b[38;5;28;01mNone\u001b[39;00m):\n\u001b[1;32m    207\u001b[0m     \u001b[38;5;124;03m\"\"\"Schedule a func to be run\"\"\"\u001b[39;00m\n\u001b[0;32m--> 208\u001b[0m     result \u001b[38;5;241m=\u001b[39m \u001b[43mImmediateResult\u001b[49m\u001b[43m(\u001b[49m\u001b[43mfunc\u001b[49m\u001b[43m)\u001b[49m\n\u001b[1;32m    209\u001b[0m     \u001b[38;5;28;01mif\u001b[39;00m callback:\n\u001b[1;32m    210\u001b[0m         callback(result)\n",
      "File \u001b[0;32m/opt/anaconda3/envs/test_env/lib/python3.10/site-packages/joblib/_parallel_backends.py:572\u001b[0m, in \u001b[0;36mImmediateResult.__init__\u001b[0;34m(self, batch)\u001b[0m\n\u001b[1;32m    569\u001b[0m \u001b[38;5;28;01mdef\u001b[39;00m \u001b[38;5;21m__init__\u001b[39m(\u001b[38;5;28mself\u001b[39m, batch):\n\u001b[1;32m    570\u001b[0m     \u001b[38;5;66;03m# Don't delay the application, to avoid keeping the input\u001b[39;00m\n\u001b[1;32m    571\u001b[0m     \u001b[38;5;66;03m# arguments in memory\u001b[39;00m\n\u001b[0;32m--> 572\u001b[0m     \u001b[38;5;28mself\u001b[39m\u001b[38;5;241m.\u001b[39mresults \u001b[38;5;241m=\u001b[39m \u001b[43mbatch\u001b[49m\u001b[43m(\u001b[49m\u001b[43m)\u001b[49m\n",
      "File \u001b[0;32m/opt/anaconda3/envs/test_env/lib/python3.10/site-packages/joblib/parallel.py:262\u001b[0m, in \u001b[0;36mBatchedCalls.__call__\u001b[0;34m(self)\u001b[0m\n\u001b[1;32m    258\u001b[0m \u001b[38;5;28;01mdef\u001b[39;00m \u001b[38;5;21m__call__\u001b[39m(\u001b[38;5;28mself\u001b[39m):\n\u001b[1;32m    259\u001b[0m     \u001b[38;5;66;03m# Set the default nested backend to self._backend but do not set the\u001b[39;00m\n\u001b[1;32m    260\u001b[0m     \u001b[38;5;66;03m# change the default number of processes to -1\u001b[39;00m\n\u001b[1;32m    261\u001b[0m     \u001b[38;5;28;01mwith\u001b[39;00m parallel_backend(\u001b[38;5;28mself\u001b[39m\u001b[38;5;241m.\u001b[39m_backend, n_jobs\u001b[38;5;241m=\u001b[39m\u001b[38;5;28mself\u001b[39m\u001b[38;5;241m.\u001b[39m_n_jobs):\n\u001b[0;32m--> 262\u001b[0m         \u001b[38;5;28;01mreturn\u001b[39;00m [func(\u001b[38;5;241m*\u001b[39margs, \u001b[38;5;241m*\u001b[39m\u001b[38;5;241m*\u001b[39mkwargs)\n\u001b[1;32m    263\u001b[0m                 \u001b[38;5;28;01mfor\u001b[39;00m func, args, kwargs \u001b[38;5;129;01min\u001b[39;00m \u001b[38;5;28mself\u001b[39m\u001b[38;5;241m.\u001b[39mitems]\n",
      "File \u001b[0;32m/opt/anaconda3/envs/test_env/lib/python3.10/site-packages/joblib/parallel.py:262\u001b[0m, in \u001b[0;36m<listcomp>\u001b[0;34m(.0)\u001b[0m\n\u001b[1;32m    258\u001b[0m \u001b[38;5;28;01mdef\u001b[39;00m \u001b[38;5;21m__call__\u001b[39m(\u001b[38;5;28mself\u001b[39m):\n\u001b[1;32m    259\u001b[0m     \u001b[38;5;66;03m# Set the default nested backend to self._backend but do not set the\u001b[39;00m\n\u001b[1;32m    260\u001b[0m     \u001b[38;5;66;03m# change the default number of processes to -1\u001b[39;00m\n\u001b[1;32m    261\u001b[0m     \u001b[38;5;28;01mwith\u001b[39;00m parallel_backend(\u001b[38;5;28mself\u001b[39m\u001b[38;5;241m.\u001b[39m_backend, n_jobs\u001b[38;5;241m=\u001b[39m\u001b[38;5;28mself\u001b[39m\u001b[38;5;241m.\u001b[39m_n_jobs):\n\u001b[0;32m--> 262\u001b[0m         \u001b[38;5;28;01mreturn\u001b[39;00m [\u001b[43mfunc\u001b[49m\u001b[43m(\u001b[49m\u001b[38;5;241;43m*\u001b[39;49m\u001b[43margs\u001b[49m\u001b[43m,\u001b[49m\u001b[43m \u001b[49m\u001b[38;5;241;43m*\u001b[39;49m\u001b[38;5;241;43m*\u001b[39;49m\u001b[43mkwargs\u001b[49m\u001b[43m)\u001b[49m\n\u001b[1;32m    263\u001b[0m                 \u001b[38;5;28;01mfor\u001b[39;00m func, args, kwargs \u001b[38;5;129;01min\u001b[39;00m \u001b[38;5;28mself\u001b[39m\u001b[38;5;241m.\u001b[39mitems]\n",
      "File \u001b[0;32m/opt/anaconda3/envs/test_env/lib/python3.10/site-packages/sklearn/utils/fixes.py:117\u001b[0m, in \u001b[0;36m_FuncWrapper.__call__\u001b[0;34m(self, *args, **kwargs)\u001b[0m\n\u001b[1;32m    115\u001b[0m \u001b[38;5;28;01mdef\u001b[39;00m \u001b[38;5;21m__call__\u001b[39m(\u001b[38;5;28mself\u001b[39m, \u001b[38;5;241m*\u001b[39margs, \u001b[38;5;241m*\u001b[39m\u001b[38;5;241m*\u001b[39mkwargs):\n\u001b[1;32m    116\u001b[0m     \u001b[38;5;28;01mwith\u001b[39;00m config_context(\u001b[38;5;241m*\u001b[39m\u001b[38;5;241m*\u001b[39m\u001b[38;5;28mself\u001b[39m\u001b[38;5;241m.\u001b[39mconfig):\n\u001b[0;32m--> 117\u001b[0m         \u001b[38;5;28;01mreturn\u001b[39;00m \u001b[38;5;28;43mself\u001b[39;49m\u001b[38;5;241;43m.\u001b[39;49m\u001b[43mfunction\u001b[49m\u001b[43m(\u001b[49m\u001b[38;5;241;43m*\u001b[39;49m\u001b[43margs\u001b[49m\u001b[43m,\u001b[49m\u001b[43m \u001b[49m\u001b[38;5;241;43m*\u001b[39;49m\u001b[38;5;241;43m*\u001b[39;49m\u001b[43mkwargs\u001b[49m\u001b[43m)\u001b[49m\n",
      "File \u001b[0;32m/opt/anaconda3/envs/test_env/lib/python3.10/site-packages/sklearn/pipeline.py:853\u001b[0m, in \u001b[0;36m_transform_one\u001b[0;34m(transformer, X, y, weight, **fit_params)\u001b[0m\n\u001b[1;32m    852\u001b[0m \u001b[38;5;28;01mdef\u001b[39;00m \u001b[38;5;21m_transform_one\u001b[39m(transformer, X, y, weight, \u001b[38;5;241m*\u001b[39m\u001b[38;5;241m*\u001b[39mfit_params):\n\u001b[0;32m--> 853\u001b[0m     res \u001b[38;5;241m=\u001b[39m \u001b[43mtransformer\u001b[49m\u001b[38;5;241;43m.\u001b[39;49m\u001b[43mtransform\u001b[49m\u001b[43m(\u001b[49m\u001b[43mX\u001b[49m\u001b[43m)\u001b[49m\n\u001b[1;32m    854\u001b[0m     \u001b[38;5;66;03m# if we have a weight for this transformer, multiply output\u001b[39;00m\n\u001b[1;32m    855\u001b[0m     \u001b[38;5;28;01mif\u001b[39;00m weight \u001b[38;5;129;01mis\u001b[39;00m \u001b[38;5;28;01mNone\u001b[39;00m:\n",
      "File \u001b[0;32m/opt/anaconda3/envs/test_env/lib/python3.10/site-packages/sklearn/preprocessing/_encoders.py:882\u001b[0m, in \u001b[0;36mOneHotEncoder.transform\u001b[0;34m(self, X)\u001b[0m\n\u001b[1;32m    877\u001b[0m \u001b[38;5;66;03m# validation of X happens in _check_X called by _transform\u001b[39;00m\n\u001b[1;32m    878\u001b[0m warn_on_unknown \u001b[38;5;241m=\u001b[39m \u001b[38;5;28mself\u001b[39m\u001b[38;5;241m.\u001b[39mdrop \u001b[38;5;129;01mis\u001b[39;00m \u001b[38;5;129;01mnot\u001b[39;00m \u001b[38;5;28;01mNone\u001b[39;00m \u001b[38;5;129;01mand\u001b[39;00m \u001b[38;5;28mself\u001b[39m\u001b[38;5;241m.\u001b[39mhandle_unknown \u001b[38;5;129;01min\u001b[39;00m {\n\u001b[1;32m    879\u001b[0m     \u001b[38;5;124m\"\u001b[39m\u001b[38;5;124mignore\u001b[39m\u001b[38;5;124m\"\u001b[39m,\n\u001b[1;32m    880\u001b[0m     \u001b[38;5;124m\"\u001b[39m\u001b[38;5;124minfrequent_if_exist\u001b[39m\u001b[38;5;124m\"\u001b[39m,\n\u001b[1;32m    881\u001b[0m }\n\u001b[0;32m--> 882\u001b[0m X_int, X_mask \u001b[38;5;241m=\u001b[39m \u001b[38;5;28;43mself\u001b[39;49m\u001b[38;5;241;43m.\u001b[39;49m\u001b[43m_transform\u001b[49m\u001b[43m(\u001b[49m\n\u001b[1;32m    883\u001b[0m \u001b[43m    \u001b[49m\u001b[43mX\u001b[49m\u001b[43m,\u001b[49m\n\u001b[1;32m    884\u001b[0m \u001b[43m    \u001b[49m\u001b[43mhandle_unknown\u001b[49m\u001b[38;5;241;43m=\u001b[39;49m\u001b[38;5;28;43mself\u001b[39;49m\u001b[38;5;241;43m.\u001b[39;49m\u001b[43mhandle_unknown\u001b[49m\u001b[43m,\u001b[49m\n\u001b[1;32m    885\u001b[0m \u001b[43m    \u001b[49m\u001b[43mforce_all_finite\u001b[49m\u001b[38;5;241;43m=\u001b[39;49m\u001b[38;5;124;43m\"\u001b[39;49m\u001b[38;5;124;43mallow-nan\u001b[39;49m\u001b[38;5;124;43m\"\u001b[39;49m\u001b[43m,\u001b[49m\n\u001b[1;32m    886\u001b[0m \u001b[43m    \u001b[49m\u001b[43mwarn_on_unknown\u001b[49m\u001b[38;5;241;43m=\u001b[39;49m\u001b[43mwarn_on_unknown\u001b[49m\u001b[43m,\u001b[49m\n\u001b[1;32m    887\u001b[0m \u001b[43m\u001b[49m\u001b[43m)\u001b[49m\n\u001b[1;32m    888\u001b[0m \u001b[38;5;28mself\u001b[39m\u001b[38;5;241m.\u001b[39m_map_infrequent_categories(X_int, X_mask)\n\u001b[1;32m    890\u001b[0m n_samples, n_features \u001b[38;5;241m=\u001b[39m X_int\u001b[38;5;241m.\u001b[39mshape\n",
      "File \u001b[0;32m/opt/anaconda3/envs/test_env/lib/python3.10/site-packages/sklearn/preprocessing/_encoders.py:160\u001b[0m, in \u001b[0;36m_BaseEncoder._transform\u001b[0;34m(self, X, handle_unknown, force_all_finite, warn_on_unknown)\u001b[0m\n\u001b[1;32m    155\u001b[0m \u001b[38;5;28;01mif\u001b[39;00m handle_unknown \u001b[38;5;241m==\u001b[39m \u001b[38;5;124m\"\u001b[39m\u001b[38;5;124merror\u001b[39m\u001b[38;5;124m\"\u001b[39m:\n\u001b[1;32m    156\u001b[0m     msg \u001b[38;5;241m=\u001b[39m (\n\u001b[1;32m    157\u001b[0m         \u001b[38;5;124m\"\u001b[39m\u001b[38;5;124mFound unknown categories \u001b[39m\u001b[38;5;132;01m{0}\u001b[39;00m\u001b[38;5;124m in column \u001b[39m\u001b[38;5;132;01m{1}\u001b[39;00m\u001b[38;5;124m\"\u001b[39m\n\u001b[1;32m    158\u001b[0m         \u001b[38;5;124m\"\u001b[39m\u001b[38;5;124m during transform\u001b[39m\u001b[38;5;124m\"\u001b[39m\u001b[38;5;241m.\u001b[39mformat(diff, i)\n\u001b[1;32m    159\u001b[0m     )\n\u001b[0;32m--> 160\u001b[0m     \u001b[38;5;28;01mraise\u001b[39;00m \u001b[38;5;167;01mValueError\u001b[39;00m(msg)\n\u001b[1;32m    161\u001b[0m \u001b[38;5;28;01melse\u001b[39;00m:\n\u001b[1;32m    162\u001b[0m     \u001b[38;5;28;01mif\u001b[39;00m warn_on_unknown:\n",
      "\u001b[0;31mValueError\u001b[0m: Found unknown categories ['NYSC', 'HETB', 'HIHK', 'DIGR', 'STRH', 'CNCR', 'MUWR', 'CSOR', 'PIO?', 'WHIB', 'PHMI', 'CBQ?', 'RHFR', 'PENG', 'MRUA', 'ARB*', 'EUAU', 'CTGU', 'NENO', 'GBAN', 'PASB', 'SEPC', 'GEAC', 'TUMA', 'BUBI', 'BES?', 'OCCI', 'ONCA', 'IST?', 'CRAQ', 'MADC', 'SPRH', 'CHNE', 'PHPP', 'LTY?', 'LASP', 'AGAA', 'UAFE', 'DSP?', 'SSPH', 'COB*', 'OTGA', 'DEIJ', 'SEAV', 'CCEL', 'PGAL', 'PDMO', 'PLI*', 'TYS?', 'COJP', 'MIS?', 'CPSE', 'TABA', 'NHT?', 'NTP*', 'BANI', 'TOER', 'BOMA', 'CLAE', 'CCM?', 'PEXI', 'TANC', 'APHS', 'GAR?', 'PELF', 'AAMM', 'DDP?', 'GAS*', 'BORI', 'WOTH', 'PLAS', 'CMOR', 'PUN?', 'BBRA', 'SFLV', 'MARS', 'GOR?', 'SPHI', 'MIBA', 'ELA*', 'PAGM', 'THPS', 'ICGR', 'OXPI', 'STDO', 'PANH', 'TODE', 'NOMU', 'CONG', 'AMFU', 'THRE', 'BAVS', 'AMST', 'TRK?', 'BTGW', 'OEPI', 'PHSY', 'CMGR', 'BBAL', 'LIAB', 'RAN*', 'CUL*', 'CAMT', 'ZON?', 'CONV', 'NEP*', 'CINL', 'NCIN', 'MVIO', 'HDA?', 'BUSE', 'CLRV', 'NEH*', 'AMPH', 'ZOQU', 'PRFF', 'CEO*', 'CUP?', 'MANC', 'LITL', 'FADE', 'MAMA', 'SACL', 'TCS?', 'LURU', 'FALR', 'ABSM', 'THPY', 'NOFL', 'DDOR', 'MCB?', 'MAAB', 'CCAO', 'TOPO', 'SCEF', 'EID?', 'YETO', 'LSOU', 'OCS?', 'ANOT', 'NOSK', 'VEER', 'SURF', 'MRI?', 'PATA', 'BA##', 'CETD', 'HNC?', 'MEFE', 'CUND', 'FAR*', 'BALU', 'CCNS', 'TRQU', 'BLSW', 'OLFU', 'SDEP', 'MGI?', 'AUT?', 'BLSK', 'DETY', 'PHWI', 'ODJU', 'ERLI', 'PIP*', 'HEWA', 'OMYK', 'ARXA', 'COIE', 'TOAS', 'ELOA', 'AEUG', 'LAJA', 'CAUO', 'APRO', 'YELL', 'EILE', 'AFRU', 'PIVI', 'ADL?', 'NYPE', 'SUPH', 'TOSA', 'TUPH', 'CARA', 'PLDA', 'PIE*', 'BHGR', 'ORIO', 'BO00', 'SIBO', 'MMNK', 'TRMU', 'HOP*', 'SERH', 'POO*', 'ANHC', 'COAR', 'CSPZ', 'RSTE', 'SUDI', 'EUC*', 'PMOC', 'DPU?', 'NASI', 'MYA?', 'LYN?', 'ZANA', 'SSTO', 'TRUF', 'STPI', 'SON?', 'TOY?', 'GLOP', 'SVS?', 'MYOM', 'CNSE', 'CACO', 'GGTA', 'ATVA', 'PUCO', 'BYC?', 'DNP?', 'TOXS', 'CLNG', 'SASA', 'CASN', 'EOP?', 'CGY?', 'THAA', 'PAP?', 'ANN?', 'GHER', 'TAGN', 'VAGL', 'GAAB', 'VAMC', 'AUBM', 'ARSP', 'PPUO', 'MLS*', 'OSFL', 'MCUI', 'TAYA', 'CYR?', 'SASE', 'APFL', 'MABP', 'LIH*', 'TOSO', 'RAME', 'PYLU', 'TAMI', 'DRGL', 'SBA*', 'AMG*', 'BSPE', 'INGE', 'THOT', 'GYML', 'LAMS', 'EIM?', 'CGRO', 'HCNT', 'MRE?', 'MALP', 'ASNL', 'ECCO', 'CHOT', 'CAAS', 'NEUC', 'MCC*', 'HEMS', 'TNGC', 'SPBR', 'THUN', 'ACAC', 'CRAM', 'GECO', 'CCFF', 'WYGW', 'GOLA', 'SQU?', 'CEEE', 'TOFL', 'MYRA', 'MMIP', 'PSXA', 'LIUS', 'MIMC', 'SBOI', 'AVRT', 'TPOP', 'LEPK', 'CBNK', 'AGYL', 'BUFB', 'AVIR', 'MARU', 'LRA?', 'GUYO', 'HYD?', 'ABLO', 'GLTR', 'HSOR', 'MCV*', 'APMA', 'PYED', 'RATL', 'HECI', 'DBU?', 'HAWF', 'SYLL', 'NEOB', 'PIAR', 'BALP', 'TMRA', 'TMP?', 'BOOM', 'ATCE', 'LAES', 'MYMN', 'LALO', 'LBLO', 'BOGU', 'HEAT', 'PNOT', 'ORPA', 'PYHE', 'OCUN', 'PHCN', 'PAHC', 'CAUB', 'EPIF', 'NENI', 'ECRI', 'ENTL', 'MPS?', 'CSCA', 'PIS*', 'MLML', 'MYAB', 'CFIG', 'APD?', 'SPP*', 'BEHI', 'MUSC', 'PANO', 'LYBE', 'NALO', 'DIPP', 'COPA', 'PEH?', 'PLHE', 'SUC?', 'PRJE', 'HEFR', 'EMEL', 'CRGL', 'PEO*', 'PGAB', 'FALF', 'RHIM', 'WIWD', 'CDID', 'PCHI', 'VIN*', 'NATE', 'GYCA', 'PMR?', 'CYMM', 'CHAG', 'CROG', 'HYPH', 'HMG*', 'KIRA', 'ELI*', 'PYGB', 'LIW?', 'CNRA', 'TESG', 'COEC', 'TYA*', 'PABE', 'VAOR', 'GLMA', 'APOA', 'CCSR', 'LETA', 'BSEP', 'MYSC', 'HAWH', 'HATH', 'ATS*', 'CNC*', 'SCAS', 'VAMT', 'CAE?', 'CPSL', 'COOS', 'LBE?', 'REKN', 'RHIN', 'URB?', 'CIAN', 'MLUC', 'WEHU', 'MLA?', 'CNRU', 'ANLA', 'BTRS', 'OLWA', 'CAPN', 'HELD', 'PIN*', 'PPRZ', 'NAC?', 'MCU?', 'NISE', 'LESU', 'EAME', 'BOIM', 'DUTA', 'DCNC', 'APD*', 'PML?', 'BLUE', 'RHFI', 'MUNM', 'EMSP', 'GATR', 'OTRO', 'PIBI', 'DDU?', 'XEMI', 'NRUF', 'GLOI', 'HBRA', 'HCAM', 'BACN', 'NESP', 'LUME', 'MENM', 'EUPF', 'TATT', 'PET*', 'PLCP', 'IDE*', 'NEA?', 'ACNM', 'PADN', 'EPRO', 'PRON', 'ACSL', 'SPMA', 'MMGT', 'ACCV', 'STST', 'PAMP', 'TEER', 'TRDR', 'SERF', 'MTP?', 'URAE', 'SPHN', 'SBR*', 'ACD?', 'MED?', 'TMS?', 'AMFR', 'MYGR', 'ARLO', 'CEGY', 'COPE', 'CAMI', 'GOMV', 'ACBR', 'BTC?', 'ISPA', 'ABIM', 'PYBA', 'ONZB', 'BCP?', 'GAI?', 'CVRI', 'TDD?', 'ENEN', 'DAUA', 'ARTE', 'HAMP', 'BLTU', 'BMES', 'LAOM', 'LYCD', 'SSEN', 'CLM?', 'THTO', 'MYIR', 'HRL?', 'OVOO', 'URSE', 'TRI?', 'FELP', 'WNRA', 'ARGB', 'POT*', 'DASL', 'APY?', 'RAEX', 'RFBO', 'AMAJ', 'AMRR', 'SSTT', 'SVIN', 'CSPN', 'TYBR', 'PPDX', 'PTOR', 'EMBL', 'PPO?', 'COU*', 'AMGR', 'TBRN', 'CUPA', 'PNCP', 'PCUI', 'HIFI', 'AEXT', 'THX*', 'PND?', 'OVO?', 'LNIG', 'EPSS', 'PTYH', 'CVIG', 'LGS*', 'LBPI', 'BONI', 'PHCR', 'FERA', 'NCS?', 'HOSE', 'HANG', 'HEHE', 'PTGL', 'CCST', 'HDM?', 'PSO*', 'CCCR', 'ARMX', 'STYG', 'FIFI', 'HOG?', 'DICY', 'AAPA', 'BODU', 'SCIP', 'COCC', 'ESUB', 'PSRF', 'PHEY', 'IND*', 'ZMN?', 'WHB?', 'AGVA', 'BRPE', 'TAE*', 'APVE', 'LYPH', 'GRSN', 'ETMS', 'AS00', 'CEOC', 'ECOC', 'CRQ?', 'TURC', 'ANTE', 'TCHR', 'PSRE', 'NAPI', 'COGO', 'FURE', 'ECAE', 'BTH?', 'SMAX', 'CHO*', 'AMPR', 'MYEL', 'ASFL', 'ARU?', 'BLAC', 'HBOL', 'CRYA', 'LCTH', 'CBDT', 'COEF', 'ENG?', 'PRFR', 'TPER', 'CCCL', 'PHDE', 'CUGA', 'PTO?', 'TCRL', 'TAKY', 'TYCO', 'APHC', 'ELP*', 'EL??', 'FLO?', 'ASAX', 'HYCY', 'WBMB', 'OSMO', 'TUFS', 'TRJA', 'LEOW', 'MOT?', 'PHDA', 'DIMB', 'RIHU', 'CRML', 'AFAT', 'CTT?', 'PFVC', 'JUTM', 'ACAE', 'CHTU', 'ASET', 'NEFL', 'RAEV', 'PYGO', 'EPAL', 'URN?', 'LLAV', 'AGPE', 'XIOC', 'GESC', 'CYPN', 'SSCT', 'VAME', 'PMLL', 'SPMC', 'CSIE', 'DNO?', 'BMOL', 'AGC?', 'PIRF', 'EUDC', 'PPLU', 'XAFL', 'SHAH', 'CHTR', 'RUPE', 'KNIP', 'ARVA', 'SEBA', 'ACG?', 'GCEC', 'MIM?', 'LEAS', 'MEHP', 'PEAT', 'BRAB', 'ASN?', 'VAIN', 'STJA', 'PNN?', 'MIDU', 'MIOL', 'MYFS', 'PLRH', 'PLFL', 'REDP', 'EMTA', 'OSG?', 'LGU?', 'BZCO', 'SSTA', 'CAB*', 'HYA?', 'ECYA', 'DGL?', 'COLS', 'PHUR', 'PHRC', 'HCLC', 'PNE?', 'RGN?', 'GRAG', 'PPAN', 'BALT', 'AIP?', 'FERE', 'SAH?', 'PEOC', 'RDP?', 'ODGU', 'WEFL', 'LIUN', 'CYQU', 'SYCO', 'MDC*', 'GUPL', 'ASIS', 'PR00', 'BLEP', 'GORB', 'NATN', 'SCS?', 'PISE', 'GOPO', 'DVAG', 'ADME', 'ACSO', 'ANHU', 'FUHY', 'ECS*', 'NUWO', 'NTL?', 'SYLB', 'STEX', 'RPC?', 'SAXR', 'COGS', 'RPUM', 'TE00', 'HELI', 'TRIP', 'STCU', 'SAT?', 'DMEX', 'COI?', 'CRDU', 'SYAT', 'OPD?', 'VALE', 'CPO*', 'NUCA', 'AMAV', 'CMRQ', 'SYNR', 'HOSA', 'DSA?', 'PYN?', 'YTWA', 'JWW?', 'NNAS', 'COTE', 'DOBM', 'BRAU', 'GRPE', 'OUL?', 'OLVI', 'PAML', 'PLDU', 'STU*', 'GPT?', 'AGAT', 'LEUF', 'LEBU', 'HAGO', 'ARLA', 'BLWA', 'VECR', 'BTBW', 'ICME', 'CLYL', 'PYCF', 'CYX?', 'PDUN', 'HEAX', 'MIFU', 'GOSL', 'ATRV', 'SEXP', 'GRYE', 'EMHO', 'PTSD', 'CMGU', 'HAPU', 'VUGR', 'TGER', 'HHAI', 'GBUN', 'MUL*', 'CMCC', 'AMXC', 'BON?', 'ATH*', 'LNO*', 'SYST', 'TIOB', 'LIGY', 'PAGL', 'XIEL', 'AGI?', 'BSEC', 'LBMW', 'LMEL', 'MEEV', 'MECP', 'CEPN', 'CACH', 'PMAS', 'PYCY', 'POEC', 'BABJ', 'CSCR', 'SIY?', 'ORPP', 'EPTS', 'SPOD', 'CHN*', 'TPEL', 'SIEI', 'NOUR', 'NASG', 'XEIM', 'LOLI', 'GROR', 'PFSH', 'IGFR', 'CGB?', 'ANMS', 'BRCR', 'CSP?', 'CNCA', 'SPDE', 'ELPA', 'ARO*', 'EHE?', 'NYNO'] in column 0 during transform"
     ]
    }
   ],
   "source": [
    "X_train_ohe = ct.fit_transform(X_train)\n",
    "joblib.dump(X_train_ohe , 'X_train_ohe.joblib')\n",
    "\n",
    "X_test_ohe = ct.transform(X_test)\n",
    "joblib.dump(X_test_ohe , 'X_test_ohe.joblib')\n",
    "# Found unknown categories \n",
    "\n",
    "y_train_t = le.fit_transform(y_train.values.ravel())\n",
    "y_test_t = le.transform(y_test.values.ravel())"
   ]
  },
  {
   "cell_type": "code",
   "execution_count": 162,
   "id": "01247818-63de-4c2b-99e6-fdccdc906d05",
   "metadata": {},
   "outputs": [
    {
     "name": "stdout",
     "output_type": "stream",
     "text": [
      "643,  74192, total 74835\n",
      "1927,  222578, total 224505\n"
     ]
    }
   ],
   "source": [
    "print(f'{len(y_test_t[y_test_t > 0])},  {len(y_test_t[y_test_t ==0])}, total {len(y_test_t)}')\n",
    "print(f'{len(y_train_t[y_train_t > 0])},  {len(y_train_t[y_train_t ==0])}, total {len(y_train_t)}')"
   ]
  },
  {
   "cell_type": "code",
   "execution_count": null,
   "id": "a7537aa4-1165-47d5-a1fe-9c485f5157c9",
   "metadata": {},
   "outputs": [],
   "source": []
  },
  {
   "cell_type": "code",
   "execution_count": 161,
   "id": "242db8ca-5884-4d48-9259-1085f54d32bd",
   "metadata": {},
   "outputs": [
    {
     "data": {
      "text/plain": [
       "833"
      ]
     },
     "execution_count": 161,
     "metadata": {},
     "output_type": "execute_result"
    }
   ],
   "source": [
    "len(['NYSC', 'HETB', 'HIHK', 'DIGR', 'STRH', 'CNCR', 'MUWR', 'CSOR', 'PIO?', 'WHIB', 'PHMI', 'CBQ?', 'RHFR', 'PENG', 'MRUA', 'ARB*', 'EUAU', 'CTGU', 'NENO', 'GBAN', 'PASB', 'SEPC', 'GEAC', 'TUMA', 'BUBI', 'BES?', 'OCCI', 'ONCA', 'IST?', 'CRAQ', 'MADC', 'SPRH', 'CHNE', 'PHPP', 'LTY?', 'LASP', 'AGAA', 'UAFE', 'DSP?', 'SSPH', 'COB*', 'OTGA', 'DEIJ', 'SEAV', 'CCEL', 'PGAL', 'PDMO', 'PLI*', 'TYS?', 'COJP', 'MIS?', 'CPSE', 'TABA', 'NHT?', 'NTP*', 'BANI', 'TOER', 'BOMA', 'CLAE', 'CCM?', 'PEXI', 'TANC', 'APHS', 'GAR?', 'PELF', 'AAMM', 'DDP?', 'GAS*', 'BORI', 'WOTH', 'PLAS', 'CMOR', 'PUN?', 'BBRA', 'SFLV', 'MARS', 'GOR?', 'SPHI', 'MIBA', 'ELA*', 'PAGM', 'THPS', 'ICGR', 'OXPI', 'STDO', 'PANH', 'TODE', 'NOMU', 'CONG', 'AMFU', 'THRE', 'BAVS', 'AMST', 'TRK?', 'BTGW', 'OEPI', 'PHSY', 'CMGR', 'BBAL', 'LIAB', 'RAN*', 'CUL*', 'CAMT', 'ZON?', 'CONV', 'NEP*', 'CINL', 'NCIN', 'MVIO', 'HDA?', 'BUSE', 'CLRV', 'NEH*', 'AMPH', 'ZOQU', 'PRFF', 'CEO*', 'CUP?', 'MANC', 'LITL', 'FADE', 'MAMA', 'SACL', 'TCS?', 'LURU', 'FALR', 'ABSM', 'THPY', 'NOFL', 'DDOR', 'MCB?', 'MAAB', 'CCAO', 'TOPO', 'SCEF', 'EID?', 'YETO', 'LSOU', 'OCS?', 'ANOT', 'NOSK', 'VEER', 'SURF', 'MRI?', 'PATA', 'BA##', 'CETD', 'HNC?', 'MEFE', 'CUND', 'FAR*', 'BALU', 'CCNS', 'TRQU', 'BLSW', 'OLFU', 'SDEP', 'MGI?', 'AUT?', 'BLSK', 'DETY', 'PHWI', 'ODJU', 'ERLI', 'PIP*', 'HEWA', 'OMYK', 'ARXA', 'COIE', 'TOAS', 'ELOA', 'AEUG', 'LAJA', 'CAUO', 'APRO', 'YELL', 'EILE', 'AFRU', 'PIVI', 'ADL?', 'NYPE', 'SUPH', 'TOSA', 'TUPH', 'CARA', 'PLDA', 'PIE*', 'BHGR', 'ORIO', 'BO00', 'SIBO', 'MMNK', 'TRMU', 'HOP*', 'SERH', 'POO*', 'ANHC', 'COAR', 'CSPZ', 'RSTE', 'SUDI', 'EUC*', 'PMOC', 'DPU?', 'NASI', 'MYA?', 'LYN?', 'ZANA', 'SSTO', 'TRUF', 'STPI', 'SON?', 'TOY?', 'GLOP', 'SVS?', 'MYOM', 'CNSE', 'CACO', 'GGTA', 'ATVA', 'PUCO', 'BYC?', 'DNP?', 'TOXS', 'CLNG', 'SASA', 'CASN', 'EOP?', 'CGY?', 'THAA', 'PAP?', 'ANN?', 'GHER', 'TAGN', 'VAGL', 'GAAB', 'VAMC', 'AUBM', 'ARSP', 'PPUO', 'MLS*', 'OSFL', 'MCUI', 'TAYA', 'CYR?', 'SASE', 'APFL', 'MABP', 'LIH*', 'TOSO', 'RAME', 'PYLU', 'TAMI', 'DRGL', 'SBA*', 'AMG*', 'BSPE', 'INGE', 'THOT', 'GYML', 'LAMS', 'EIM?', 'CGRO', 'HCNT', 'MRE?', 'MALP', 'ASNL', 'ECCO', 'CHOT', 'CAAS', 'NEUC', 'MCC*', 'HEMS', 'TNGC', 'SPBR', 'THUN', 'ACAC', 'CRAM', 'GECO', 'CCFF', 'WYGW', 'GOLA', 'SQU?', 'CEEE', 'TOFL', 'MYRA', 'MMIP', 'PSXA', 'LIUS', 'MIMC', 'SBOI', 'AVRT', 'TPOP', 'LEPK', 'CBNK', 'AGYL', 'BUFB', 'AVIR', 'MARU', 'LRA?', 'GUYO', 'HYD?', 'ABLO', 'GLTR', 'HSOR', 'MCV*', 'APMA', 'PYED', 'RATL', 'HECI', 'DBU?', 'HAWF', 'SYLL', 'NEOB', 'PIAR', 'BALP', 'TMRA', 'TMP?', 'BOOM', 'ATCE', 'LAES', 'MYMN', 'LALO', 'LBLO', 'BOGU', 'HEAT', 'PNOT', 'ORPA', 'PYHE', 'OCUN', 'PHCN', 'PAHC', 'CAUB', 'EPIF', 'NENI', 'ECRI', 'ENTL', 'MPS?', 'CSCA', 'PIS*', 'MLML', 'MYAB', 'CFIG', 'APD?', 'SPP*', 'BEHI', 'MUSC', 'PANO', 'LYBE', 'NALO', 'DIPP', 'COPA', 'PEH?', 'PLHE', 'SUC?', 'PRJE', 'HEFR', 'EMEL', 'CRGL', 'PEO*', 'PGAB', 'FALF', 'RHIM', 'WIWD', 'CDID', 'PCHI', 'VIN*', 'NATE', 'GYCA', 'PMR?', 'CYMM', 'CHAG', 'CROG', 'HYPH', 'HMG*', 'KIRA', 'ELI*', 'PYGB', 'LIW?', 'CNRA', 'TESG', 'COEC', 'TYA*', 'PABE', 'VAOR', 'GLMA', 'APOA', 'CCSR', 'LETA', 'BSEP', 'MYSC', 'HAWH', 'HATH', 'ATS*', 'CNC*', 'SCAS', 'VAMT', 'CAE?', 'CPSL', 'COOS', 'LBE?', 'REKN', 'RHIN', 'URB?', 'CIAN', 'MLUC', 'WEHU', 'MLA?', 'CNRU', 'ANLA', 'BTRS', 'OLWA', 'CAPN', 'HELD', 'PIN*', 'PPRZ', 'NAC?', 'MCU?', 'NISE', 'LESU', 'EAME', 'BOIM', 'DUTA', 'DCNC', 'APD*', 'PML?', 'BLUE', 'RHFI', 'MUNM', 'EMSP', 'GATR', 'OTRO', 'PIBI', 'DDU?', 'XEMI', 'NRUF', 'GLOI', 'HBRA', 'HCAM', 'BACN', 'NESP', 'LUME', 'MENM', 'EUPF', 'TATT', 'PET*', 'PLCP', 'IDE*', 'NEA?', 'ACNM', 'PADN', 'EPRO', 'PRON', 'ACSL', 'SPMA', 'MMGT', 'ACCV', 'STST', 'PAMP', 'TEER', 'TRDR', 'SERF', 'MTP?', 'URAE', 'SPHN', 'SBR*', 'ACD?', 'MED?', 'TMS?', 'AMFR', 'MYGR', 'ARLO', 'CEGY', 'COPE', 'CAMI', 'GOMV', 'ACBR', 'BTC?', 'ISPA', 'ABIM', 'PYBA', 'ONZB', 'BCP?', 'GAI?', 'CVRI', 'TDD?', 'ENEN', 'DAUA', 'ARTE', 'HAMP', 'BLTU', 'BMES', 'LAOM', 'LYCD', 'SSEN', 'CLM?', 'THTO', 'MYIR', 'HRL?', 'OVOO', 'URSE', 'TRI?', 'FELP', 'WNRA', 'ARGB', 'POT*', 'DASL', 'APY?', 'RAEX', 'RFBO', 'AMAJ', 'AMRR', 'SSTT', 'SVIN', 'CSPN', 'TYBR', 'PPDX', 'PTOR', 'EMBL', 'PPO?', 'COU*', 'AMGR', 'TBRN', 'CUPA', 'PNCP', 'PCUI', 'HIFI', 'AEXT', 'THX*', 'PND?', 'OVO?', 'LNIG', 'EPSS', 'PTYH', 'CVIG', 'LGS*', 'LBPI', 'BONI', 'PHCR', 'FERA', 'NCS?', 'HOSE', 'HANG', 'HEHE', 'PTGL', 'CCST', 'HDM?', 'PSO*', 'CCCR', 'ARMX', 'STYG', 'FIFI', 'HOG?', 'DICY', 'AAPA', 'BODU', 'SCIP', 'COCC', 'ESUB', 'PSRF', 'PHEY', 'IND*', 'ZMN?', 'WHB?', 'AGVA', 'BRPE', 'TAE*', 'APVE', 'LYPH', 'GRSN', 'ETMS', 'AS00', 'CEOC', 'ECOC', 'CRQ?', 'TURC', 'ANTE', 'TCHR', 'PSRE', 'NAPI', 'COGO', 'FURE', 'ECAE', 'BTH?', 'SMAX', 'CHO*', 'AMPR', 'MYEL', 'ASFL', 'ARU?', 'BLAC', 'HBOL', 'CRYA', 'LCTH', 'CBDT', 'COEF', 'ENG?', 'PRFR', 'TPER', 'CCCL', 'PHDE', 'CUGA', 'PTO?', 'TCRL', 'TAKY', 'TYCO', 'APHC', 'ELP*', 'EL??', 'FLO?', 'ASAX', 'HYCY', 'WBMB', 'OSMO', 'TUFS', 'TRJA', 'LEOW', 'MOT?', 'PHDA', 'DIMB', 'RIHU', 'CRML', 'AFAT', 'CTT?', 'PFVC', 'JUTM', 'ACAE', 'CHTU', 'ASET', 'NEFL', 'RAEV', 'PYGO', 'EPAL', 'URN?', 'LLAV', 'AGPE', 'XIOC', 'GESC', 'CYPN', 'SSCT', 'VAME', 'PMLL', 'SPMC', 'CSIE', 'DNO?', 'BMOL', 'AGC?', 'PIRF', 'EUDC', 'PPLU', 'XAFL', 'SHAH', 'CHTR', 'RUPE', 'KNIP', 'ARVA', 'SEBA', 'ACG?', 'GCEC', 'MIM?', 'LEAS', 'MEHP', 'PEAT', 'BRAB', 'ASN?', 'VAIN', 'STJA', 'PNN?', 'MIDU', 'MIOL', 'MYFS', 'PLRH', 'PLFL', 'REDP', 'EMTA', 'OSG?', 'LGU?', 'BZCO', 'SSTA', 'CAB*', 'HYA?', 'ECYA', 'DGL?', 'COLS', 'PHUR', 'PHRC', 'HCLC', 'PNE?', 'RGN?', 'GRAG', 'PPAN', 'BALT', 'AIP?', 'FERE', 'SAH?', 'PEOC', 'RDP?', 'ODGU', 'WEFL', 'LIUN', 'CYQU', 'SYCO', 'MDC*', 'GUPL', 'ASIS', 'PR00', 'BLEP', 'GORB', 'NATN', 'SCS?', 'PISE', 'GOPO', 'DVAG', 'ADME', 'ACSO', 'ANHU', 'FUHY', 'ECS*', 'NUWO', 'NTL?', 'SYLB', 'STEX', 'RPC?', 'SAXR', 'COGS', 'RPUM', 'TE00', 'HELI', 'TRIP', 'STCU', 'SAT?', 'DMEX', 'COI?', 'CRDU', 'SYAT', 'OPD?', 'VALE', 'CPO*', 'NUCA', 'AMAV', 'CMRQ', 'SYNR', 'HOSA', 'DSA?', 'PYN?', 'YTWA', 'JWW?', 'NNAS', 'COTE', 'DOBM', 'BRAU', 'GRPE', 'OUL?', 'OLVI', 'PAML', 'PLDU', 'STU*', 'GPT?', 'AGAT', 'LEUF', 'LEBU', 'HAGO', 'ARLA', 'BLWA', 'VECR', 'BTBW', 'ICME', 'CLYL', 'PYCF', 'CYX?', 'PDUN', 'HEAX', 'MIFU', 'GOSL', 'ATRV', 'SEXP', 'GRYE', 'EMHO', 'PTSD', 'CMGU', 'HAPU', 'VUGR', 'TGER', 'HHAI', 'GBUN', 'MUL*', 'CMCC', 'AMXC', 'BON?', 'ATH*', 'LNO*', 'SYST', 'TIOB', 'LIGY', 'PAGL', 'XIEL', 'AGI?', 'BSEC', 'LBMW', 'LMEL', 'MEEV', 'MECP', 'CEPN', 'CACH', 'PMAS', 'PYCY', 'POEC', 'BABJ', 'CSCR', 'SIY?', 'ORPP', 'EPTS', 'SPOD', 'CHN*', 'TPEL', 'SIEI', 'NOUR', 'NASG', 'XEIM', 'LOLI', 'GROR', 'PFSH', 'IGFR', 'CGB?', 'ANMS', 'BRCR', 'CSP?', 'CNCA', 'SPDE', 'ELPA', 'ARO*', 'EHE?', 'NYNO'])"
   ]
  },
  {
   "cell_type": "markdown",
   "id": "a3269c23-50f6-4f43-bc33-52b8322a4886",
   "metadata": {
    "jp-MarkdownHeadingCollapsed": true,
    "tags": []
   },
   "source": [
    "### PCA"
   ]
  },
  {
   "cell_type": "code",
   "execution_count": 149,
   "id": "77ef95b1-8d67-407c-8a53-e82c5e51c517",
   "metadata": {},
   "outputs": [],
   "source": [
    "# ct.named_transformers_\n",
    "# transformed_features = ct.named_transformers_['onehotencoder'].get_feature_names_out()"
   ]
  },
  {
   "cell_type": "code",
   "execution_count": 133,
   "id": "6ee23c20-e027-4cf5-bad6-02ad1ff0d76e",
   "metadata": {},
   "outputs": [
    {
     "name": "stdout",
     "output_type": "stream",
     "text": [
      "(224505, 7346) (224505, 10)\n"
     ]
    }
   ],
   "source": [
    "pca = PCA(n_components = 10)\n",
    "X_train_pca = pca.fit_transform(X_train_t.toarray())\n",
    "print(X_train_t.shape, X_train_pca.shape)"
   ]
  },
  {
   "cell_type": "code",
   "execution_count": 134,
   "id": "cb094516-1e2d-40d4-8169-54d2d35f7cbd",
   "metadata": {},
   "outputs": [
    {
     "data": {
      "text/plain": [
       "<AxesSubplot:>"
      ]
     },
     "execution_count": 134,
     "metadata": {},
     "output_type": "execute_result"
    },
    {
     "data": {
      "image/png": "[encoded data removed]",
      "text/plain": [
       "<Figure size 432x288 with 2 Axes>"
      ]
     },
     "metadata": {
      "needs_background": "light"
     },
     "output_type": "display_data"
    }
   ],
   "source": [
    "sns.heatmap(empirical_covariance(X_train_pca))"
   ]
  },
  {
   "cell_type": "code",
   "execution_count": 135,
   "id": "9851c597-d17b-4d48-a15d-a1d9f5ab488c",
   "metadata": {},
   "outputs": [
    {
     "data": {
      "image/png": "[encoded data removed]",
      "text/plain": [
       "<Figure size 432x288 with 1 Axes>"
      ]
     },
     "metadata": {
      "needs_background": "light"
     },
     "output_type": "display_data"
    }
   ],
   "source": [
    "def plot_labelled_scatter(X, y, class_labels):\n",
    "    num_labels = len(class_labels)\n",
    "\n",
    "    x_min, x_max = X[:, 0].min() - 1, X[:, 0].max() + 1\n",
    "    y_min, y_max = X[:, 1].min() - 1, X[:, 1].max() + 1\n",
    "\n",
    "    marker_array = ['o', '^', '*']\n",
    "    color_array = ['#FFFF00', '#00AAFF', '#000000', '#FF00AA']\n",
    "    cmap_bold = ListedColormap(color_array)\n",
    "    bnorm = BoundaryNorm(np.arange(0, num_labels + 1, 1), ncolors=num_labels)\n",
    "    plt.figure()\n",
    "\n",
    "    plt.scatter(X[:, 0], X[:, 1], s=65, c=y, cmap=cmap_bold, norm = bnorm, alpha = 0.40, edgecolor='black', lw = 1)\n",
    "\n",
    "    plt.xlim(x_min, x_max)\n",
    "    plt.ylim(y_min, y_max)\n",
    "\n",
    "    h = []\n",
    "    for c in range(0, num_labels):\n",
    "        h.append(mpatches.Patch(color=color_array[c], label=class_labels[c]))\n",
    "    plt.legend(handles=h)\n",
    "\n",
    "    plt.show()\n",
    "    \n",
    "plot_labelled_scatter(X_train_pca, y_train_t, ['clear', 'seized'])"
   ]
  },
  {
   "cell_type": "code",
   "execution_count": 127,
   "id": "0c891f1c-3da5-448a-90f8-bb00de6ae97e",
   "metadata": {},
   "outputs": [
    {
     "data": {
      "image/png": "[encoded data removed]",
      "text/plain": [
       "<Figure size 720x432 with 2 Axes>"
      ]
     },
     "metadata": {
      "needs_background": "light"
     },
     "output_type": "display_data"
    }
   ],
   "source": [
    "def plot_pca(pca, top_k = 10):\n",
    "    fig, ax = plt.subplots(figsize=(10, 6))\n",
    "    plt.imshow(pca.components_[0:top_k], interpolation = 'none', cmap = 'plasma')\n",
    "    feature_names=\n",
    "    plt.xticks(np.arange(-0., len(feature_names), 1) , feature_names, rotation = 90, fontsize=12)\n",
    "    plt.yticks(np.arange(0., 2, 1), ['First PC', 'Second PC'], fontsize = 16)\n",
    "    plt.colorbar()\n",
    "    \n",
    "plot_pca(pca)"
   ]
  }
 ],
 "metadata": {
  "kernelspec": {
   "display_name": "Python 3 (ipykernel)",
   "language": "python",
   "name": "python3"
  },
  "language_info": {
   "codemirror_mode": {
    "name": "ipython",
    "version": 3
   },
   "file_extension": ".py",
   "mimetype": "text/x-python",
   "name": "python",
   "nbconvert_exporter": "python",
   "pygments_lexer": "ipython3",
   "version": "3.10.4"
  }
 },
 "nbformat": 4,
 "nbformat_minor": 5
}
