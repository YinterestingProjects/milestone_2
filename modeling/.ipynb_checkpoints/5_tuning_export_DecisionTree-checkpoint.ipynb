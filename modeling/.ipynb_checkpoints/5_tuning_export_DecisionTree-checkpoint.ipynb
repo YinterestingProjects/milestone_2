{
 "cells": [
  {
   "cell_type": "markdown",
   "id": "d5a7ca30-f1f6-48fb-9315-788c1d8e8e23",
   "metadata": {},
   "source": [
    "### Decision Tree Model Tuning for 2016 - 2020 Data (exports)"
   ]
  },
  {
   "cell_type": "code",
   "execution_count": 16,
   "id": "e5b7908a-bbab-4133-bfdd-8a127e695741",
   "metadata": {},
   "outputs": [],
   "source": [
    "import pandas as pd\n",
    "import numpy as np\n",
    "from category_encoders.target_encoder import TargetEncoder\n",
    "from sklearn.model_selection import train_test_split, GridSearchCV\n",
    "from sklearn.preprocessing import StandardScaler, OneHotEncoder, LabelEncoder\n",
    "from sklearn.tree import DecisionTreeClassifier\n",
    "from sklearn.ensemble import RandomForestClassifier, GradientBoostingClassifier\n",
    "from sklearn.dummy import DummyClassifier\n",
    "from sklearn.linear_model import LogisticRegression\n",
    "from sklearn.metrics import classification_report, confusion_matrix, ConfusionMatrixDisplay\n",
    "\n",
    "from sklearn.pipeline import make_pipeline, Pipeline\n",
    "from sklearn.compose import make_column_transformer\n",
    "# from sklearn.decomposition import PCA, SparsePCA\n",
    "# from sklearn.covariance import empirical_covariance\n",
    "import matplotlib.pyplot as plt\n",
    "import matplotlib.cm as cm\n",
    "# from matplotlib.colors import ListedColormap, BoundaryNorm\n",
    "# import matplotlib.patches as mpatches\n",
    "\n",
    "import seaborn as sns\n",
    "import joblib\n",
    "import os\n",
    "#from adspy_shared_utilities import plot_decision_tree\n",
    "from datetime import datetime"
   ]
  },
  {
   "cell_type": "code",
   "execution_count": 3,
   "id": "e18bde1e-1e5e-4ec1-8037-d78b160e8e96",
   "metadata": {},
   "outputs": [],
   "source": [
    "#set up random seed\n",
    "rng = 42\n",
    "\n",
    "# set up folder to save results\n",
    "os.makedirs('export_run4_TargetEncoding_gridsearchCV')\n",
    "prefix = 'export_run4_TargetEncoding_gridsearchCV/export'"
   ]
  },
  {
   "cell_type": "code",
   "execution_count": 4,
   "id": "6019d607-4640-4f6f-9cea-fa1dfaeaf1e2",
   "metadata": {},
   "outputs": [],
   "source": [
    "# read in data\n",
    "p = '../data/'\n",
    "input_name = 'cleaned.csv'\n",
    "\n",
    "df = pd.read_csv(f'{p}{input_name}')"
   ]
  },
  {
   "cell_type": "code",
   "execution_count": 5,
   "id": "de9c627f-4ffe-4dad-8c6e-085edb9a8fc2",
   "metadata": {},
   "outputs": [],
   "source": [
    "# filter for exports\n",
    "\n",
    "def df_filtering(df, i_e = 'I', f_cols = []):\n",
    "\n",
    "    filtered_df = df[df.i_e == i_e]\n",
    "    filtered_df = filtered_df[f_cols+['act']]\n",
    "    \n",
    "    return filtered_df\n",
    "\n",
    "non_feature_cols = ['control_number', 'disp_date', 'i_e', 'ship_date', \n",
    "                    'cartons', 'qty', 'unit', 'specific_generic_name',\n",
    "                    'genus', 'species', 'wildlf_cat', \n",
    "                    'disp_date_yyyy', 'disp_date_mm', 'disp_ship_date']\n",
    "\n",
    "target = ['act', 'dp_cd']\n",
    "\n",
    "feature_cols = ['species_code', 'wildlf_desc', \n",
    "                'ctry_org', 'ctry_ie','purp', 'src', 'trans_mode', 'pt_cd', \n",
    "                 'value', 'ship_date_mm']\n",
    "\n",
    "#import_df = df_filtering(df, i_e = 'I', f_cols = feature_cols)\n",
    "export_df = df_filtering(df, i_e = 'E', f_cols = feature_cols)\n",
    "# import: 590505 rows × 11 columns\n",
    "# export: 299340 rows × 11 columns"
   ]
  },
  {
   "cell_type": "markdown",
   "id": "1dfbf9ef-939d-42c7-b88e-675494e808e0",
   "metadata": {
    "tags": []
   },
   "source": [
    "#### Modeling Pipeline"
   ]
  },
  {
   "cell_type": "code",
   "execution_count": 7,
   "id": "5b842f26-fc76-49f0-8656-c90aa89779cb",
   "metadata": {},
   "outputs": [],
   "source": [
    "def data_split(df):\n",
    "    X, y = df.iloc[:,:-1], df.iloc[:,-1:]\n",
    "    y = np.where(y['act']=='R',1,0)\n",
    "    \n",
    "    X_train, X_test, y_train, y_test = train_test_split(X, y, random_state=rng, stratify=y) \n",
    "    \n",
    "    return X_train, X_test, y_train, y_test\n",
    "\n",
    "X_train, X_test, y_train, y_test = data_split(export_df)"
   ]
  },
  {
   "cell_type": "code",
   "execution_count": 42,
   "id": "c1af7fd7-6890-403a-86bb-427f9177c3db",
   "metadata": {},
   "outputs": [],
   "source": [
    "def gridsearch_pipeline(classifer, grid_param): \n",
    "    categorical_var = ['species_code', 'wildlf_desc', 'ctry_org', 'ctry_ie','purp', 'src', \n",
    "                   'trans_mode', 'pt_cd']\n",
    "    numerical_var = ['value']\n",
    "    \n",
    "    ct_target = make_column_transformer(\n",
    "                            (StandardScaler(), numerical_var),\n",
    "                            (TargetEncoder(), categorical_var),\n",
    "                            remainder='passthrough')\n",
    "    \n",
    "    clf = classifer\n",
    "    params = grid_param\n",
    "\n",
    "    pipe = Pipeline([('transformer', ct_target), \n",
    "                     ('clf', clf)\n",
    "                    ], verbose=False)\n",
    "\n",
    "    grid_pipe = GridSearchCV(pipe,\n",
    "                             param_grid=params,\n",
    "                             scoring='recall',\n",
    "                             cv=5,\n",
    "                             verbose=3)\n",
    "\n",
    "    grid_pipe.fit(X_train, y_train)\n",
    "    print('Grid best parameter (max. recall): ', grid_pipe.best_params_)\n",
    "    print('Grid best score (recall): ', grid_pipe.best_score_)\n",
    "    \n",
    "    return grid_pipe"
   ]
  },
  {
   "cell_type": "code",
   "execution_count": 31,
   "id": "5fa98b1b-51f2-4b97-b9d7-5ec7c397dd4d",
   "metadata": {},
   "outputs": [],
   "source": [
    "import warnings\n",
    "warnings.filterwarnings(action='ignore', category=FutureWarning) # setting ignore as a parameter and further adding category"
   ]
  },
  {
   "cell_type": "markdown",
   "id": "a2749336-21b6-4612-9547-45472ca5b850",
   "metadata": {
    "tags": []
   },
   "source": [
    "#### Decision Tree"
   ]
  },
  {
   "cell_type": "code",
   "execution_count": 43,
   "id": "513f8cdb-d71b-42bd-a856-1bfe06ab77a6",
   "metadata": {},
   "outputs": [
    {
     "name": "stdout",
     "output_type": "stream",
     "text": [
      "Fitting 5 folds for each of 15 candidates, totalling 75 fits\n",
      "[CV 1/5] END clf__class_weight=balanced, clf__max_depth=5;, score=0.610 total time=   1.4s\n",
      "[CV 2/5] END clf__class_weight=balanced, clf__max_depth=5;, score=0.681 total time=   1.4s\n",
      "[CV 3/5] END clf__class_weight=balanced, clf__max_depth=5;, score=0.725 total time=   1.3s\n",
      "[CV 4/5] END clf__class_weight=balanced, clf__max_depth=5;, score=0.630 total time=   1.3s\n",
      "[CV 5/5] END clf__class_weight=balanced, clf__max_depth=5;, score=0.653 total time=   1.3s\n",
      "[CV 1/5] END clf__class_weight=balanced, clf__max_depth=6;, score=0.579 total time=   1.4s\n",
      "[CV 2/5] END clf__class_weight=balanced, clf__max_depth=6;, score=0.642 total time=   1.4s\n",
      "[CV 3/5] END clf__class_weight=balanced, clf__max_depth=6;, score=0.647 total time=   1.4s\n",
      "[CV 4/5] END clf__class_weight=balanced, clf__max_depth=6;, score=0.645 total time=   1.4s\n",
      "[CV 5/5] END clf__class_weight=balanced, clf__max_depth=6;, score=0.640 total time=   1.4s\n",
      "[CV 1/5] END clf__class_weight=balanced, clf__max_depth=7;, score=0.610 total time=   1.4s\n",
      "[CV 2/5] END clf__class_weight=balanced, clf__max_depth=7;, score=0.649 total time=   1.4s\n",
      "[CV 3/5] END clf__class_weight=balanced, clf__max_depth=7;, score=0.655 total time=   1.4s\n",
      "[CV 4/5] END clf__class_weight=balanced, clf__max_depth=7;, score=0.666 total time=   1.4s\n",
      "[CV 5/5] END clf__class_weight=balanced, clf__max_depth=7;, score=0.604 total time=   1.4s\n",
      "[CV 1/5] END clf__class_weight=balanced, clf__max_depth=8;, score=0.587 total time=   1.4s\n",
      "[CV 2/5] END clf__class_weight=balanced, clf__max_depth=8;, score=0.644 total time=   1.4s\n",
      "[CV 3/5] END clf__class_weight=balanced, clf__max_depth=8;, score=0.675 total time=   1.4s\n",
      "[CV 4/5] END clf__class_weight=balanced, clf__max_depth=8;, score=0.648 total time=   1.4s\n",
      "[CV 5/5] END clf__class_weight=balanced, clf__max_depth=8;, score=0.614 total time=   1.4s\n",
      "[CV 1/5] END clf__class_weight=balanced, clf__max_depth=None;, score=0.338 total time=   1.5s\n",
      "[CV 2/5] END clf__class_weight=balanced, clf__max_depth=None;, score=0.410 total time=   1.5s\n",
      "[CV 3/5] END clf__class_weight=balanced, clf__max_depth=None;, score=0.390 total time=   1.5s\n",
      "[CV 4/5] END clf__class_weight=balanced, clf__max_depth=None;, score=0.363 total time=   1.5s\n",
      "[CV 5/5] END clf__class_weight=balanced, clf__max_depth=None;, score=0.355 total time=   1.5s\n",
      "[CV 1/5] END clf__class_weight={0: 100, 1: 1}, clf__max_depth=5;, score=0.049 total time=   1.3s\n",
      "[CV 2/5] END clf__class_weight={0: 100, 1: 1}, clf__max_depth=5;, score=0.070 total time=   1.3s\n",
      "[CV 3/5] END clf__class_weight={0: 100, 1: 1}, clf__max_depth=5;, score=0.065 total time=   1.3s\n",
      "[CV 4/5] END clf__class_weight={0: 100, 1: 1}, clf__max_depth=5;, score=0.021 total time=   1.4s\n",
      "[CV 5/5] END clf__class_weight={0: 100, 1: 1}, clf__max_depth=5;, score=0.016 total time=   1.3s\n",
      "[CV 1/5] END clf__class_weight={0: 100, 1: 1}, clf__max_depth=6;, score=0.052 total time=   1.4s\n",
      "[CV 2/5] END clf__class_weight={0: 100, 1: 1}, clf__max_depth=6;, score=0.070 total time=   1.4s\n",
      "[CV 3/5] END clf__class_weight={0: 100, 1: 1}, clf__max_depth=6;, score=0.065 total time=   1.4s\n",
      "[CV 4/5] END clf__class_weight={0: 100, 1: 1}, clf__max_depth=6;, score=0.057 total time=   1.4s\n",
      "[CV 5/5] END clf__class_weight={0: 100, 1: 1}, clf__max_depth=6;, score=0.018 total time=   1.4s\n",
      "[CV 1/5] END clf__class_weight={0: 100, 1: 1}, clf__max_depth=7;, score=0.057 total time=   1.5s\n",
      "[CV 2/5] END clf__class_weight={0: 100, 1: 1}, clf__max_depth=7;, score=0.075 total time=   1.4s\n",
      "[CV 3/5] END clf__class_weight={0: 100, 1: 1}, clf__max_depth=7;, score=0.081 total time=   1.4s\n",
      "[CV 4/5] END clf__class_weight={0: 100, 1: 1}, clf__max_depth=7;, score=0.067 total time=   1.5s\n",
      "[CV 5/5] END clf__class_weight={0: 100, 1: 1}, clf__max_depth=7;, score=0.034 total time=   1.5s\n",
      "[CV 1/5] END clf__class_weight={0: 100, 1: 1}, clf__max_depth=8;, score=0.062 total time=   1.5s\n",
      "[CV 2/5] END clf__class_weight={0: 100, 1: 1}, clf__max_depth=8;, score=0.086 total time=   1.5s\n",
      "[CV 3/5] END clf__class_weight={0: 100, 1: 1}, clf__max_depth=8;, score=0.083 total time=   1.5s\n",
      "[CV 4/5] END clf__class_weight={0: 100, 1: 1}, clf__max_depth=8;, score=0.096 total time=   1.5s\n",
      "[CV 5/5] END clf__class_weight={0: 100, 1: 1}, clf__max_depth=8;, score=0.080 total time=   1.5s\n",
      "[CV 1/5] END clf__class_weight={0: 100, 1: 1}, clf__max_depth=None;, score=0.369 total time=   1.9s\n",
      "[CV 2/5] END clf__class_weight={0: 100, 1: 1}, clf__max_depth=None;, score=0.460 total time=   1.9s\n",
      "[CV 3/5] END clf__class_weight={0: 100, 1: 1}, clf__max_depth=None;, score=0.452 total time=   1.9s\n",
      "[CV 4/5] END clf__class_weight={0: 100, 1: 1}, clf__max_depth=None;, score=0.412 total time=   1.9s\n",
      "[CV 5/5] END clf__class_weight={0: 100, 1: 1}, clf__max_depth=None;, score=0.425 total time=   1.8s\n",
      "[CV 1/5] END clf__class_weight={0: 50, 1: 1}, clf__max_depth=5;, score=0.052 total time=   1.3s\n",
      "[CV 2/5] END clf__class_weight={0: 50, 1: 1}, clf__max_depth=5;, score=0.068 total time=   1.4s\n",
      "[CV 3/5] END clf__class_weight={0: 50, 1: 1}, clf__max_depth=5;, score=0.062 total time=   1.4s\n",
      "[CV 4/5] END clf__class_weight={0: 50, 1: 1}, clf__max_depth=5;, score=0.062 total time=   1.3s\n",
      "[CV 5/5] END clf__class_weight={0: 50, 1: 1}, clf__max_depth=5;, score=0.062 total time=   1.4s\n",
      "[CV 1/5] END clf__class_weight={0: 50, 1: 1}, clf__max_depth=6;, score=0.052 total time=   1.4s\n",
      "[CV 2/5] END clf__class_weight={0: 50, 1: 1}, clf__max_depth=6;, score=0.073 total time=   1.4s\n",
      "[CV 3/5] END clf__class_weight={0: 50, 1: 1}, clf__max_depth=6;, score=0.065 total time=   1.4s\n",
      "[CV 4/5] END clf__class_weight={0: 50, 1: 1}, clf__max_depth=6;, score=0.073 total time=   1.4s\n",
      "[CV 5/5] END clf__class_weight={0: 50, 1: 1}, clf__max_depth=6;, score=0.083 total time=   1.4s\n",
      "[CV 1/5] END clf__class_weight={0: 50, 1: 1}, clf__max_depth=7;, score=0.075 total time=   1.4s\n",
      "[CV 2/5] END clf__class_weight={0: 50, 1: 1}, clf__max_depth=7;, score=0.083 total time=   1.4s\n",
      "[CV 3/5] END clf__class_weight={0: 50, 1: 1}, clf__max_depth=7;, score=0.065 total time=   1.4s\n",
      "[CV 4/5] END clf__class_weight={0: 50, 1: 1}, clf__max_depth=7;, score=0.106 total time=   1.4s\n",
      "[CV 5/5] END clf__class_weight={0: 50, 1: 1}, clf__max_depth=7;, score=0.106 total time=   1.4s\n",
      "[CV 1/5] END clf__class_weight={0: 50, 1: 1}, clf__max_depth=8;, score=0.166 total time=   1.4s\n",
      "[CV 2/5] END clf__class_weight={0: 50, 1: 1}, clf__max_depth=8;, score=0.112 total time=   1.4s\n",
      "[CV 3/5] END clf__class_weight={0: 50, 1: 1}, clf__max_depth=8;, score=0.101 total time=   1.4s\n",
      "[CV 4/5] END clf__class_weight={0: 50, 1: 1}, clf__max_depth=8;, score=0.132 total time=   1.4s\n",
      "[CV 5/5] END clf__class_weight={0: 50, 1: 1}, clf__max_depth=8;, score=0.106 total time=   1.4s\n",
      "[CV 1/5] END clf__class_weight={0: 50, 1: 1}, clf__max_depth=None;, score=0.364 total time=   1.9s\n",
      "[CV 2/5] END clf__class_weight={0: 50, 1: 1}, clf__max_depth=None;, score=0.468 total time=   1.9s\n",
      "[CV 3/5] END clf__class_weight={0: 50, 1: 1}, clf__max_depth=None;, score=0.449 total time=   1.9s\n",
      "[CV 4/5] END clf__class_weight={0: 50, 1: 1}, clf__max_depth=None;, score=0.407 total time=   1.8s\n",
      "[CV 5/5] END clf__class_weight={0: 50, 1: 1}, clf__max_depth=None;, score=0.433 total time=   1.9s\n",
      "Grid best parameter (max. recall):  {'clf__class_weight': 'balanced', 'clf__max_depth': 5}\n",
      "Grid best score (recall):  0.6595935670547071\n",
      "CPU times: user 1min 50s, sys: 818 ms, total: 1min 51s\n",
      "Wall time: 1min 51s\n"
     ]
    },
    {
     "data": {
      "text/html": [
       "<style>#sk-container-id-8 {color: black;background-color: white;}#sk-container-id-8 pre{padding: 0;}#sk-container-id-8 div.sk-toggleable {background-color: white;}#sk-container-id-8 label.sk-toggleable__label {cursor: pointer;display: block;width: 100%;margin-bottom: 0;padding: 0.3em;box-sizing: border-box;text-align: center;}#sk-container-id-8 label.sk-toggleable__label-arrow:before {content: \"▸\";float: left;margin-right: 0.25em;color: #696969;}#sk-container-id-8 label.sk-toggleable__label-arrow:hover:before {color: black;}#sk-container-id-8 div.sk-estimator:hover label.sk-toggleable__label-arrow:before {color: black;}#sk-container-id-8 div.sk-toggleable__content {max-height: 0;max-width: 0;overflow: hidden;text-align: left;background-color: #f0f8ff;}#sk-container-id-8 div.sk-toggleable__content pre {margin: 0.2em;color: black;border-radius: 0.25em;background-color: #f0f8ff;}#sk-container-id-8 input.sk-toggleable__control:checked~div.sk-toggleable__content {max-height: 200px;max-width: 100%;overflow: auto;}#sk-container-id-8 input.sk-toggleable__control:checked~label.sk-toggleable__label-arrow:before {content: \"▾\";}#sk-container-id-8 div.sk-estimator input.sk-toggleable__control:checked~label.sk-toggleable__label {background-color: #d4ebff;}#sk-container-id-8 div.sk-label input.sk-toggleable__control:checked~label.sk-toggleable__label {background-color: #d4ebff;}#sk-container-id-8 input.sk-hidden--visually {border: 0;clip: rect(1px 1px 1px 1px);clip: rect(1px, 1px, 1px, 1px);height: 1px;margin: -1px;overflow: hidden;padding: 0;position: absolute;width: 1px;}#sk-container-id-8 div.sk-estimator {font-family: monospace;background-color: #f0f8ff;border: 1px dotted black;border-radius: 0.25em;box-sizing: border-box;margin-bottom: 0.5em;}#sk-container-id-8 div.sk-estimator:hover {background-color: #d4ebff;}#sk-container-id-8 div.sk-parallel-item::after {content: \"\";width: 100%;border-bottom: 1px solid gray;flex-grow: 1;}#sk-container-id-8 div.sk-label:hover label.sk-toggleable__label {background-color: #d4ebff;}#sk-container-id-8 div.sk-serial::before {content: \"\";position: absolute;border-left: 1px solid gray;box-sizing: border-box;top: 0;bottom: 0;left: 50%;z-index: 0;}#sk-container-id-8 div.sk-serial {display: flex;flex-direction: column;align-items: center;background-color: white;padding-right: 0.2em;padding-left: 0.2em;position: relative;}#sk-container-id-8 div.sk-item {position: relative;z-index: 1;}#sk-container-id-8 div.sk-parallel {display: flex;align-items: stretch;justify-content: center;background-color: white;position: relative;}#sk-container-id-8 div.sk-item::before, #sk-container-id-8 div.sk-parallel-item::before {content: \"\";position: absolute;border-left: 1px solid gray;box-sizing: border-box;top: 0;bottom: 0;left: 50%;z-index: -1;}#sk-container-id-8 div.sk-parallel-item {display: flex;flex-direction: column;z-index: 1;position: relative;background-color: white;}#sk-container-id-8 div.sk-parallel-item:first-child::after {align-self: flex-end;width: 50%;}#sk-container-id-8 div.sk-parallel-item:last-child::after {align-self: flex-start;width: 50%;}#sk-container-id-8 div.sk-parallel-item:only-child::after {width: 0;}#sk-container-id-8 div.sk-dashed-wrapped {border: 1px dashed gray;margin: 0 0.4em 0.5em 0.4em;box-sizing: border-box;padding-bottom: 0.4em;background-color: white;}#sk-container-id-8 div.sk-label label {font-family: monospace;font-weight: bold;display: inline-block;line-height: 1.2em;}#sk-container-id-8 div.sk-label-container {text-align: center;}#sk-container-id-8 div.sk-container {/* jupyter's `normalize.less` sets `[hidden] { display: none; }` but bootstrap.min.css set `[hidden] { display: none !important; }` so we also need the `!important` here to be able to override the default hidden behavior on the sphinx rendered scikit-learn.org. See: https://github.com/scikit-learn/scikit-learn/issues/21755 */display: inline-block !important;position: relative;}#sk-container-id-8 div.sk-text-repr-fallback {display: none;}</style><div id=\"sk-container-id-8\" class=\"sk-top-container\"><div class=\"sk-text-repr-fallback\"><pre>GridSearchCV(cv=5,\n",
       "             estimator=Pipeline(steps=[(&#x27;transformer&#x27;,\n",
       "                                        ColumnTransformer(remainder=&#x27;passthrough&#x27;,\n",
       "                                                          transformers=[(&#x27;standardscaler&#x27;,\n",
       "                                                                         StandardScaler(),\n",
       "                                                                         [&#x27;value&#x27;]),\n",
       "                                                                        (&#x27;targetencoder&#x27;,\n",
       "                                                                         TargetEncoder(),\n",
       "                                                                         [&#x27;species_code&#x27;,\n",
       "                                                                          &#x27;wildlf_desc&#x27;,\n",
       "                                                                          &#x27;ctry_org&#x27;,\n",
       "                                                                          &#x27;ctry_ie&#x27;,\n",
       "                                                                          &#x27;purp&#x27;,\n",
       "                                                                          &#x27;src&#x27;,\n",
       "                                                                          &#x27;trans_mode&#x27;,\n",
       "                                                                          &#x27;pt_cd&#x27;])])),\n",
       "                                       (&#x27;clf&#x27;,\n",
       "                                        DecisionTreeClassifier(random_state=42))]),\n",
       "             param_grid={&#x27;clf__class_weight&#x27;: [&#x27;balanced&#x27;, {0: 100, 1: 1},\n",
       "                                               {0: 50, 1: 1}],\n",
       "                         &#x27;clf__max_depth&#x27;: [5, 6, 7, 8, None]},\n",
       "             scoring=&#x27;recall&#x27;, verbose=3)</pre><b>In a Jupyter environment, please rerun this cell to show the HTML representation or trust the notebook. <br />On GitHub, the HTML representation is unable to render, please try loading this page with nbviewer.org.</b></div><div class=\"sk-container\" hidden><div class=\"sk-item sk-dashed-wrapped\"><div class=\"sk-label-container\"><div class=\"sk-label sk-toggleable\"><input class=\"sk-toggleable__control sk-hidden--visually\" id=\"sk-estimator-id-71\" type=\"checkbox\" ><label for=\"sk-estimator-id-71\" class=\"sk-toggleable__label sk-toggleable__label-arrow\">GridSearchCV</label><div class=\"sk-toggleable__content\"><pre>GridSearchCV(cv=5,\n",
       "             estimator=Pipeline(steps=[(&#x27;transformer&#x27;,\n",
       "                                        ColumnTransformer(remainder=&#x27;passthrough&#x27;,\n",
       "                                                          transformers=[(&#x27;standardscaler&#x27;,\n",
       "                                                                         StandardScaler(),\n",
       "                                                                         [&#x27;value&#x27;]),\n",
       "                                                                        (&#x27;targetencoder&#x27;,\n",
       "                                                                         TargetEncoder(),\n",
       "                                                                         [&#x27;species_code&#x27;,\n",
       "                                                                          &#x27;wildlf_desc&#x27;,\n",
       "                                                                          &#x27;ctry_org&#x27;,\n",
       "                                                                          &#x27;ctry_ie&#x27;,\n",
       "                                                                          &#x27;purp&#x27;,\n",
       "                                                                          &#x27;src&#x27;,\n",
       "                                                                          &#x27;trans_mode&#x27;,\n",
       "                                                                          &#x27;pt_cd&#x27;])])),\n",
       "                                       (&#x27;clf&#x27;,\n",
       "                                        DecisionTreeClassifier(random_state=42))]),\n",
       "             param_grid={&#x27;clf__class_weight&#x27;: [&#x27;balanced&#x27;, {0: 100, 1: 1},\n",
       "                                               {0: 50, 1: 1}],\n",
       "                         &#x27;clf__max_depth&#x27;: [5, 6, 7, 8, None]},\n",
       "             scoring=&#x27;recall&#x27;, verbose=3)</pre></div></div></div><div class=\"sk-parallel\"><div class=\"sk-parallel-item\"><div class=\"sk-item\"><div class=\"sk-label-container\"><div class=\"sk-label sk-toggleable\"><input class=\"sk-toggleable__control sk-hidden--visually\" id=\"sk-estimator-id-72\" type=\"checkbox\" ><label for=\"sk-estimator-id-72\" class=\"sk-toggleable__label sk-toggleable__label-arrow\">estimator: Pipeline</label><div class=\"sk-toggleable__content\"><pre>Pipeline(steps=[(&#x27;transformer&#x27;,\n",
       "                 ColumnTransformer(remainder=&#x27;passthrough&#x27;,\n",
       "                                   transformers=[(&#x27;standardscaler&#x27;,\n",
       "                                                  StandardScaler(), [&#x27;value&#x27;]),\n",
       "                                                 (&#x27;targetencoder&#x27;,\n",
       "                                                  TargetEncoder(),\n",
       "                                                  [&#x27;species_code&#x27;,\n",
       "                                                   &#x27;wildlf_desc&#x27;, &#x27;ctry_org&#x27;,\n",
       "                                                   &#x27;ctry_ie&#x27;, &#x27;purp&#x27;, &#x27;src&#x27;,\n",
       "                                                   &#x27;trans_mode&#x27;, &#x27;pt_cd&#x27;])])),\n",
       "                (&#x27;clf&#x27;, DecisionTreeClassifier(random_state=42))])</pre></div></div></div><div class=\"sk-serial\"><div class=\"sk-item\"><div class=\"sk-serial\"><div class=\"sk-item sk-dashed-wrapped\"><div class=\"sk-label-container\"><div class=\"sk-label sk-toggleable\"><input class=\"sk-toggleable__control sk-hidden--visually\" id=\"sk-estimator-id-73\" type=\"checkbox\" ><label for=\"sk-estimator-id-73\" class=\"sk-toggleable__label sk-toggleable__label-arrow\">transformer: ColumnTransformer</label><div class=\"sk-toggleable__content\"><pre>ColumnTransformer(remainder=&#x27;passthrough&#x27;,\n",
       "                  transformers=[(&#x27;standardscaler&#x27;, StandardScaler(), [&#x27;value&#x27;]),\n",
       "                                (&#x27;targetencoder&#x27;, TargetEncoder(),\n",
       "                                 [&#x27;species_code&#x27;, &#x27;wildlf_desc&#x27;, &#x27;ctry_org&#x27;,\n",
       "                                  &#x27;ctry_ie&#x27;, &#x27;purp&#x27;, &#x27;src&#x27;, &#x27;trans_mode&#x27;,\n",
       "                                  &#x27;pt_cd&#x27;])])</pre></div></div></div><div class=\"sk-parallel\"><div class=\"sk-parallel-item\"><div class=\"sk-item\"><div class=\"sk-label-container\"><div class=\"sk-label sk-toggleable\"><input class=\"sk-toggleable__control sk-hidden--visually\" id=\"sk-estimator-id-74\" type=\"checkbox\" ><label for=\"sk-estimator-id-74\" class=\"sk-toggleable__label sk-toggleable__label-arrow\">standardscaler</label><div class=\"sk-toggleable__content\"><pre>[&#x27;value&#x27;]</pre></div></div></div><div class=\"sk-serial\"><div class=\"sk-item\"><div class=\"sk-estimator sk-toggleable\"><input class=\"sk-toggleable__control sk-hidden--visually\" id=\"sk-estimator-id-75\" type=\"checkbox\" ><label for=\"sk-estimator-id-75\" class=\"sk-toggleable__label sk-toggleable__label-arrow\">StandardScaler</label><div class=\"sk-toggleable__content\"><pre>StandardScaler()</pre></div></div></div></div></div></div><div class=\"sk-parallel-item\"><div class=\"sk-item\"><div class=\"sk-label-container\"><div class=\"sk-label sk-toggleable\"><input class=\"sk-toggleable__control sk-hidden--visually\" id=\"sk-estimator-id-76\" type=\"checkbox\" ><label for=\"sk-estimator-id-76\" class=\"sk-toggleable__label sk-toggleable__label-arrow\">targetencoder</label><div class=\"sk-toggleable__content\"><pre>[&#x27;species_code&#x27;, &#x27;wildlf_desc&#x27;, &#x27;ctry_org&#x27;, &#x27;ctry_ie&#x27;, &#x27;purp&#x27;, &#x27;src&#x27;, &#x27;trans_mode&#x27;, &#x27;pt_cd&#x27;]</pre></div></div></div><div class=\"sk-serial\"><div class=\"sk-item\"><div class=\"sk-estimator sk-toggleable\"><input class=\"sk-toggleable__control sk-hidden--visually\" id=\"sk-estimator-id-77\" type=\"checkbox\" ><label for=\"sk-estimator-id-77\" class=\"sk-toggleable__label sk-toggleable__label-arrow\">TargetEncoder</label><div class=\"sk-toggleable__content\"><pre>TargetEncoder()</pre></div></div></div></div></div></div><div class=\"sk-parallel-item\"><div class=\"sk-item\"><div class=\"sk-label-container\"><div class=\"sk-label sk-toggleable\"><input class=\"sk-toggleable__control sk-hidden--visually\" id=\"sk-estimator-id-78\" type=\"checkbox\" ><label for=\"sk-estimator-id-78\" class=\"sk-toggleable__label sk-toggleable__label-arrow\">remainder</label><div class=\"sk-toggleable__content\"><pre></pre></div></div></div><div class=\"sk-serial\"><div class=\"sk-item\"><div class=\"sk-estimator sk-toggleable\"><input class=\"sk-toggleable__control sk-hidden--visually\" id=\"sk-estimator-id-79\" type=\"checkbox\" ><label for=\"sk-estimator-id-79\" class=\"sk-toggleable__label sk-toggleable__label-arrow\">passthrough</label><div class=\"sk-toggleable__content\"><pre>passthrough</pre></div></div></div></div></div></div></div></div><div class=\"sk-item\"><div class=\"sk-estimator sk-toggleable\"><input class=\"sk-toggleable__control sk-hidden--visually\" id=\"sk-estimator-id-80\" type=\"checkbox\" ><label for=\"sk-estimator-id-80\" class=\"sk-toggleable__label sk-toggleable__label-arrow\">DecisionTreeClassifier</label><div class=\"sk-toggleable__content\"><pre>DecisionTreeClassifier(random_state=42)</pre></div></div></div></div></div></div></div></div></div></div></div></div>"
      ],
      "text/plain": [
       "GridSearchCV(cv=5,\n",
       "             estimator=Pipeline(steps=[('transformer',\n",
       "                                        ColumnTransformer(remainder='passthrough',\n",
       "                                                          transformers=[('standardscaler',\n",
       "                                                                         StandardScaler(),\n",
       "                                                                         ['value']),\n",
       "                                                                        ('targetencoder',\n",
       "                                                                         TargetEncoder(),\n",
       "                                                                         ['species_code',\n",
       "                                                                          'wildlf_desc',\n",
       "                                                                          'ctry_org',\n",
       "                                                                          'ctry_ie',\n",
       "                                                                          'purp',\n",
       "                                                                          'src',\n",
       "                                                                          'trans_mode',\n",
       "                                                                          'pt_cd'])])),\n",
       "                                       ('clf',\n",
       "                                        DecisionTreeClassifier(random_state=42))]),\n",
       "             param_grid={'clf__class_weight': ['balanced', {0: 100, 1: 1},\n",
       "                                               {0: 50, 1: 1}],\n",
       "                         'clf__max_depth': [5, 6, 7, 8, None]},\n",
       "             scoring='recall', verbose=3)"
      ]
     },
     "execution_count": 43,
     "metadata": {},
     "output_type": "execute_result"
    }
   ],
   "source": [
    "clf = DecisionTreeClassifier(random_state=rng)\n",
    "dt_params={\n",
    "    'clf__class_weight':['balanced', {0:100, 1:1}, {0:50, 1:1}],\n",
    "    'clf__max_depth': [5, 6, 7, 8, None]\n",
    "}\n",
    "\n",
    "%time dt_pipe = gridsearch_pipeline(clf, dt_params) \n",
    "dt_pipe"
   ]
  },
  {
   "cell_type": "code",
   "execution_count": 39,
   "id": "e7b1e466-b96a-44b1-a98b-ed60a593364b",
   "metadata": {},
   "outputs": [
    {
     "data": {
      "text/plain": [
       "['export_run4_TargetEncoding_gridsearchCV/export_dt_pipe.joblib']"
      ]
     },
     "execution_count": 39,
     "metadata": {},
     "output_type": "execute_result"
    }
   ],
   "source": [
    "joblib.dump(dt_pipe, f'{prefix}_dt_pipe.joblib')"
   ]
  },
  {
   "cell_type": "markdown",
   "id": "e2784a88-d955-45d4-a31a-0628e72c4fc2",
   "metadata": {
    "tags": []
   },
   "source": [
    "#### Random Forest"
   ]
  },
  {
   "cell_type": "code",
   "execution_count": null,
   "id": "814fcf09-9a5a-49d4-87c3-3d4e7af7cb2e",
   "metadata": {},
   "outputs": [
    {
     "name": "stdout",
     "output_type": "stream",
     "text": [
      "Fitting 5 folds for each of 45 candidates, totalling 225 fits\n",
      "[CV 1/5] END clf__class_weight=balanced, clf__max_depth=5, clf__n_estimators=100;, score=0.548 total time=   6.3s\n",
      "[CV 2/5] END clf__class_weight=balanced, clf__max_depth=5, clf__n_estimators=100;, score=0.595 total time=   6.2s\n",
      "[CV 3/5] END clf__class_weight=balanced, clf__max_depth=5, clf__n_estimators=100;, score=0.621 total time=   6.3s\n",
      "[CV 4/5] END clf__class_weight=balanced, clf__max_depth=5, clf__n_estimators=100;, score=0.552 total time=   6.2s\n",
      "[CV 5/5] END clf__class_weight=balanced, clf__max_depth=5, clf__n_estimators=100;, score=0.598 total time=   6.3s\n",
      "[CV 1/5] END clf__class_weight=balanced, clf__max_depth=5, clf__n_estimators=200;, score=0.558 total time=  11.2s\n",
      "[CV 2/5] END clf__class_weight=balanced, clf__max_depth=5, clf__n_estimators=200;, score=0.610 total time=  11.3s\n",
      "[CV 3/5] END clf__class_weight=balanced, clf__max_depth=5, clf__n_estimators=200;, score=0.629 total time=  11.3s\n",
      "[CV 4/5] END clf__class_weight=balanced, clf__max_depth=5, clf__n_estimators=200;, score=0.573 total time=  11.5s\n",
      "[CV 5/5] END clf__class_weight=balanced, clf__max_depth=5, clf__n_estimators=200;, score=0.596 total time=  11.6s\n",
      "[CV 1/5] END clf__class_weight=balanced, clf__max_depth=5, clf__n_estimators=500;, score=0.558 total time=  26.6s\n",
      "[CV 2/5] END clf__class_weight=balanced, clf__max_depth=5, clf__n_estimators=500;, score=0.610 total time=  26.7s\n",
      "[CV 3/5] END clf__class_weight=balanced, clf__max_depth=5, clf__n_estimators=500;, score=0.639 total time=  27.1s\n",
      "[CV 4/5] END clf__class_weight=balanced, clf__max_depth=5, clf__n_estimators=500;, score=0.578 total time=  27.0s\n",
      "[CV 5/5] END clf__class_weight=balanced, clf__max_depth=5, clf__n_estimators=500;, score=0.596 total time=  27.2s\n",
      "[CV 1/5] END clf__class_weight=balanced, clf__max_depth=6, clf__n_estimators=100;, score=0.553 total time=   7.2s\n",
      "[CV 2/5] END clf__class_weight=balanced, clf__max_depth=6, clf__n_estimators=100;, score=0.605 total time=   7.0s\n",
      "[CV 3/5] END clf__class_weight=balanced, clf__max_depth=6, clf__n_estimators=100;, score=0.631 total time=   7.1s\n",
      "[CV 4/5] END clf__class_weight=balanced, clf__max_depth=6, clf__n_estimators=100;, score=0.575 total time=   7.0s\n",
      "[CV 5/5] END clf__class_weight=balanced, clf__max_depth=6, clf__n_estimators=100;, score=0.598 total time=   7.1s\n",
      "[CV 1/5] END clf__class_weight=balanced, clf__max_depth=6, clf__n_estimators=200;, score=0.561 total time=  12.7s\n",
      "[CV 2/5] END clf__class_weight=balanced, clf__max_depth=6, clf__n_estimators=200;, score=0.618 total time=  12.6s\n",
      "[CV 3/5] END clf__class_weight=balanced, clf__max_depth=6, clf__n_estimators=200;, score=0.639 total time=  12.8s\n",
      "[CV 4/5] END clf__class_weight=balanced, clf__max_depth=6, clf__n_estimators=200;, score=0.573 total time=  12.6s\n",
      "[CV 5/5] END clf__class_weight=balanced, clf__max_depth=6, clf__n_estimators=200;, score=0.598 total time=  12.9s\n",
      "[CV 1/5] END clf__class_weight=balanced, clf__max_depth=6, clf__n_estimators=500;, score=0.553 total time=  30.3s\n",
      "[CV 2/5] END clf__class_weight=balanced, clf__max_depth=6, clf__n_estimators=500;, score=0.613 total time=  30.1s\n",
      "[CV 3/5] END clf__class_weight=balanced, clf__max_depth=6, clf__n_estimators=500;, score=0.636 total time=  29.8s\n",
      "[CV 4/5] END clf__class_weight=balanced, clf__max_depth=6, clf__n_estimators=500;, score=0.580 total time=  29.8s\n",
      "[CV 5/5] END clf__class_weight=balanced, clf__max_depth=6, clf__n_estimators=500;, score=0.598 total time=  29.9s\n",
      "[CV 1/5] END clf__class_weight=balanced, clf__max_depth=7, clf__n_estimators=100;, score=0.556 total time=   7.5s\n",
      "[CV 2/5] END clf__class_weight=balanced, clf__max_depth=7, clf__n_estimators=100;, score=0.613 total time=   7.5s\n",
      "[CV 3/5] END clf__class_weight=balanced, clf__max_depth=7, clf__n_estimators=100;, score=0.623 total time=   7.5s\n",
      "[CV 4/5] END clf__class_weight=balanced, clf__max_depth=7, clf__n_estimators=100;, score=0.593 total time=   7.5s\n",
      "[CV 5/5] END clf__class_weight=balanced, clf__max_depth=7, clf__n_estimators=100;, score=0.593 total time=   7.6s\n",
      "[CV 1/5] END clf__class_weight=balanced, clf__max_depth=7, clf__n_estimators=200;, score=0.564 total time=  13.9s\n",
      "[CV 2/5] END clf__class_weight=balanced, clf__max_depth=7, clf__n_estimators=200;, score=0.616 total time=  13.9s\n",
      "[CV 3/5] END clf__class_weight=balanced, clf__max_depth=7, clf__n_estimators=200;, score=0.629 total time=  13.9s\n",
      "[CV 4/5] END clf__class_weight=balanced, clf__max_depth=7, clf__n_estimators=200;, score=0.596 total time=  13.9s\n",
      "[CV 5/5] END clf__class_weight=balanced, clf__max_depth=7, clf__n_estimators=200;, score=0.596 total time=  13.9s\n",
      "[CV 1/5] END clf__class_weight=balanced, clf__max_depth=7, clf__n_estimators=500;, score=0.564 total time=  33.3s\n",
      "[CV 2/5] END clf__class_weight=balanced, clf__max_depth=7, clf__n_estimators=500;, score=0.613 total time=  33.6s\n",
      "[CV 3/5] END clf__class_weight=balanced, clf__max_depth=7, clf__n_estimators=500;, score=0.621 total time=  34.0s\n",
      "[CV 4/5] END clf__class_weight=balanced, clf__max_depth=7, clf__n_estimators=500;, score=0.591 total time=  33.4s\n",
      "[CV 5/5] END clf__class_weight=balanced, clf__max_depth=7, clf__n_estimators=500;, score=0.593 total time=  33.4s\n",
      "[CV 1/5] END clf__class_weight=balanced, clf__max_depth=8, clf__n_estimators=100;, score=0.561 total time=   8.3s\n",
      "[CV 2/5] END clf__class_weight=balanced, clf__max_depth=8, clf__n_estimators=100;, score=0.618 total time=   8.3s\n",
      "[CV 3/5] END clf__class_weight=balanced, clf__max_depth=8, clf__n_estimators=100;, score=0.613 total time=   8.2s\n",
      "[CV 4/5] END clf__class_weight=balanced, clf__max_depth=8, clf__n_estimators=100;, score=0.591 total time=   8.3s\n",
      "[CV 5/5] END clf__class_weight=balanced, clf__max_depth=8, clf__n_estimators=100;, score=0.601 total time=   8.2s\n",
      "[CV 1/5] END clf__class_weight=balanced, clf__max_depth=8, clf__n_estimators=200;, score=0.558 total time=  15.2s\n",
      "[CV 2/5] END clf__class_weight=balanced, clf__max_depth=8, clf__n_estimators=200;, score=0.616 total time=  15.2s\n",
      "[CV 3/5] END clf__class_weight=balanced, clf__max_depth=8, clf__n_estimators=200;, score=0.613 total time=  15.1s\n",
      "[CV 4/5] END clf__class_weight=balanced, clf__max_depth=8, clf__n_estimators=200;, score=0.596 total time=  15.3s\n",
      "[CV 5/5] END clf__class_weight=balanced, clf__max_depth=8, clf__n_estimators=200;, score=0.591 total time=  15.1s\n"
     ]
    }
   ],
   "source": [
    "clf = RandomForestClassifier(random_state=rng)\n",
    "rf_params={\n",
    "    'clf__n_estimators':[100, 200, 500],\n",
    "    'clf__max_depth': [5, 6, 7, 8, None],\n",
    "    'clf__class_weight':['balanced', {0:100, 1:1}, {0:50, 1:1}]\n",
    "}\n",
    "\n",
    "%time rf_pipe = gridsearch_pipeline(clf, rf_params) \n",
    "rf_pipe"
   ]
  },
  {
   "cell_type": "code",
   "execution_count": null,
   "id": "6d9fb757-8138-4d0e-b2de-d40d89d0b2c5",
   "metadata": {},
   "outputs": [],
   "source": [
    "joblib.dump(rf_pipe, f'{prefix}_rf_pipe.joblib')"
   ]
  }
 ],
 "metadata": {
  "kernelspec": {
   "display_name": "Python 3 (ipykernel)",
   "language": "python",
   "name": "python3"
  },
  "language_info": {
   "codemirror_mode": {
    "name": "ipython",
    "version": 3
   },
   "file_extension": ".py",
   "mimetype": "text/x-python",
   "name": "python",
   "nbconvert_exporter": "python",
   "pygments_lexer": "ipython3",
   "version": "3.10.4"
  }
 },
 "nbformat": 4,
 "nbformat_minor": 5
}
