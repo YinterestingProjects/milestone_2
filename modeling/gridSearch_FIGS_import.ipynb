{
 "cells": [
  {
   "cell_type": "markdown",
   "source": [
    "# Implementing gridsearchcv for FIGS"
   ],
   "metadata": {
    "collapsed": false,
    "pycharm": {
     "name": "#%% md\n"
    }
   }
  },
  {
   "cell_type": "code",
   "execution_count": 1,
   "outputs": [],
   "source": [
    "import pandas as pd\n",
    "import numpy as np\n",
    "import modelinghelper as helper\n",
    "from imodels import FIGSClassifier\n",
    "import os\n",
    "import joblib\n",
    "# supress future warnings\n",
    "import warnings\n",
    "warnings.filterwarnings(action='ignore', category=FutureWarning)"
   ],
   "metadata": {
    "collapsed": false,
    "pycharm": {
     "name": "#%%\n"
    }
   }
  },
  {
   "cell_type": "code",
   "execution_count": 2,
   "outputs": [
    {
     "name": "stdout",
     "output_type": "stream",
     "text": [
      "Folder already exists\n"
     ]
    }
   ],
   "source": [
    "#set up random seed\n",
    "rng = 42\n",
    "\n",
    "# set up folder to save results\n",
    "output_path = 'gridsearch_all_models'\n",
    "dataset = 'import'\n",
    "mod_name = \"FIGS\"\n",
    "run_num = \"run_1\"\n",
    "\n",
    "if not os.path.exists(output_path):\n",
    "    os.makedirs(output_path)\n",
    "else:\n",
    "    print(\"Folder already exists\")\n",
    "\n",
    "# file name\n",
    "prefix = f'{output_path}'"
   ],
   "metadata": {
    "collapsed": false,
    "pycharm": {
     "name": "#%%\n"
    }
   }
  },
  {
   "cell_type": "code",
   "execution_count": 3,
   "outputs": [],
   "source": [
    "# read in data\n",
    "p = '../data/'\n",
    "input_name = 'cleaned.csv'\n",
    "\n",
    "df = pd.read_csv(f'{p}{input_name}')\n",
    "# convert month to string\n",
    "df['ship_date_mm'] = df['ship_date_mm'].astype(str)"
   ],
   "metadata": {
    "collapsed": false,
    "pycharm": {
     "name": "#%%\n"
    }
   }
  },
  {
   "cell_type": "code",
   "execution_count": 4,
   "outputs": [],
   "source": [
    "non_feature_cols = ['control_number', 'disp_date', 'i_e', 'ship_date',\n",
    "                    'cartons', 'qty', 'unit', 'specific_generic_name',\n",
    "                    'genus', 'species', 'wildlf_cat',\n",
    "                    'disp_date_yyyy', 'disp_date_mm', 'disp_ship_date']\n",
    "\n",
    "target = ['act', 'dp_cd']\n",
    "\n",
    "feature_cols = ['species_code', 'wildlf_desc', 'wildlf_cat',\n",
    "                'ctry_org', 'ctry_ie','purp', 'src', 'trans_mode', 'pt_cd',\n",
    "                'value', 'ship_date_mm']\n",
    "\n",
    "import_df = helper.df_filtering(df, i_e = 'I', f_cols = feature_cols)"
   ],
   "metadata": {
    "collapsed": false,
    "pycharm": {
     "name": "#%%\n"
    }
   }
  },
  {
   "cell_type": "code",
   "execution_count": 5,
   "outputs": [],
   "source": [
    "X_train, X_test, y_train, y_test = helper.data_split(import_df)"
   ],
   "metadata": {
    "collapsed": false,
    "pycharm": {
     "name": "#%%\n"
    }
   }
  },
  {
   "cell_type": "markdown",
   "source": [
    "### FIGS Export"
   ],
   "metadata": {
    "collapsed": false,
    "pycharm": {
     "name": "#%% md\n"
    }
   }
  },
  {
   "cell_type": "code",
   "execution_count": 6,
   "outputs": [
    {
     "name": "stdout",
     "output_type": "stream",
     "text": [
      "Fitting 5 folds for each of 49 candidates, totalling 245 fits\n",
      "[CV 1/5] END ..................clf__max_rules=1;, score=0.312 total time=  11.4s\n",
      "[CV 2/5] END ..................clf__max_rules=1;, score=0.319 total time=  11.6s\n",
      "[CV 3/5] END ..................clf__max_rules=1;, score=0.314 total time=  12.0s\n",
      "[CV 4/5] END ..................clf__max_rules=1;, score=0.313 total time=  11.7s\n",
      "[CV 5/5] END ..................clf__max_rules=1;, score=0.306 total time=  11.7s\n",
      "[CV 1/5] END ..................clf__max_rules=2;, score=0.312 total time=  14.0s\n",
      "[CV 2/5] END ..................clf__max_rules=2;, score=0.319 total time=  17.5s\n",
      "[CV 3/5] END ..................clf__max_rules=2;, score=0.314 total time=  18.9s\n",
      "[CV 4/5] END ..................clf__max_rules=2;, score=0.313 total time=  15.7s\n",
      "[CV 5/5] END ..................clf__max_rules=2;, score=0.306 total time=  14.6s\n",
      "[CV 1/5] END ..................clf__max_rules=3;, score=0.371 total time=  17.0s\n",
      "[CV 2/5] END ..................clf__max_rules=3;, score=0.378 total time=  16.9s\n",
      "[CV 3/5] END ..................clf__max_rules=3;, score=0.305 total time=  16.3s\n",
      "[CV 4/5] END ..................clf__max_rules=3;, score=0.367 total time=  16.2s\n",
      "[CV 5/5] END ..................clf__max_rules=3;, score=0.365 total time=  16.4s\n",
      "[CV 1/5] END ..................clf__max_rules=4;, score=0.362 total time=  19.1s\n",
      "[CV 2/5] END ..................clf__max_rules=4;, score=0.371 total time=  18.8s\n",
      "[CV 3/5] END ..................clf__max_rules=4;, score=0.367 total time=  19.3s\n",
      "[CV 4/5] END ..................clf__max_rules=4;, score=0.352 total time=  19.7s\n",
      "[CV 5/5] END ..................clf__max_rules=4;, score=0.354 total time=  19.7s\n",
      "[CV 1/5] END ..................clf__max_rules=5;, score=0.362 total time=  21.8s\n",
      "[CV 2/5] END ..................clf__max_rules=5;, score=0.371 total time=  22.5s\n",
      "[CV 3/5] END ..................clf__max_rules=5;, score=0.367 total time=  21.8s\n",
      "[CV 4/5] END ..................clf__max_rules=5;, score=0.352 total time=  22.4s\n",
      "[CV 5/5] END ..................clf__max_rules=5;, score=0.354 total time=  22.4s\n",
      "[CV 1/5] END ..................clf__max_rules=6;, score=0.362 total time=  26.0s\n",
      "[CV 2/5] END ..................clf__max_rules=6;, score=0.371 total time=  24.0s\n",
      "[CV 3/5] END ..................clf__max_rules=6;, score=0.367 total time=  23.0s\n",
      "[CV 4/5] END ..................clf__max_rules=6;, score=0.352 total time=  25.2s\n",
      "[CV 5/5] END ..................clf__max_rules=6;, score=0.354 total time=  26.3s\n",
      "[CV 1/5] END ..................clf__max_rules=7;, score=0.371 total time=  30.3s\n",
      "[CV 2/5] END ..................clf__max_rules=7;, score=0.371 total time=  27.3s\n",
      "[CV 3/5] END ..................clf__max_rules=7;, score=0.407 total time=  28.2s\n",
      "[CV 4/5] END ..................clf__max_rules=7;, score=0.352 total time=  27.4s\n",
      "[CV 5/5] END ..................clf__max_rules=7;, score=0.364 total time=  27.4s\n",
      "[CV 1/5] END ..................clf__max_rules=8;, score=0.371 total time=  30.1s\n",
      "[CV 2/5] END ..................clf__max_rules=8;, score=0.377 total time=  28.2s\n",
      "[CV 3/5] END ..................clf__max_rules=8;, score=0.415 total time=  29.2s\n",
      "[CV 4/5] END ..................clf__max_rules=8;, score=0.413 total time=  27.8s\n",
      "[CV 5/5] END ..................clf__max_rules=8;, score=0.364 total time=  29.9s\n",
      "[CV 1/5] END ..................clf__max_rules=9;, score=0.425 total time=  36.2s\n",
      "[CV 2/5] END ..................clf__max_rules=9;, score=0.436 total time=  30.0s\n",
      "[CV 3/5] END ..................clf__max_rules=9;, score=0.430 total time=  30.9s\n",
      "[CV 4/5] END ..................clf__max_rules=9;, score=0.413 total time=  30.4s\n",
      "[CV 5/5] END ..................clf__max_rules=9;, score=0.422 total time=  32.1s\n",
      "[CV 1/5] END .................clf__max_rules=10;, score=0.425 total time=  34.3s\n",
      "[CV 2/5] END .................clf__max_rules=10;, score=0.442 total time=  33.7s\n",
      "[CV 3/5] END .................clf__max_rules=10;, score=0.430 total time=  33.6s\n",
      "[CV 4/5] END .................clf__max_rules=10;, score=0.422 total time=  33.0s\n",
      "[CV 5/5] END .................clf__max_rules=10;, score=0.422 total time=  34.9s\n",
      "[CV 1/5] END .................clf__max_rules=11;, score=0.452 total time=  37.4s\n",
      "[CV 2/5] END .................clf__max_rules=11;, score=0.432 total time=  36.3s\n",
      "[CV 3/5] END .................clf__max_rules=11;, score=0.433 total time=  36.3s\n",
      "[CV 4/5] END .................clf__max_rules=11;, score=0.409 total time=  36.5s\n",
      "[CV 5/5] END .................clf__max_rules=11;, score=0.434 total time=  38.1s\n",
      "[CV 1/5] END .................clf__max_rules=12;, score=0.435 total time=  42.4s\n",
      "[CV 2/5] END .................clf__max_rules=12;, score=0.438 total time=  44.1s\n",
      "[CV 3/5] END .................clf__max_rules=12;, score=0.415 total time=  43.5s\n",
      "[CV 4/5] END .................clf__max_rules=12;, score=0.414 total time=  42.9s\n",
      "[CV 5/5] END .................clf__max_rules=12;, score=0.419 total time=  44.0s\n",
      "[CV 1/5] END .................clf__max_rules=13;, score=0.439 total time=  47.1s\n",
      "[CV 2/5] END .................clf__max_rules=13;, score=0.438 total time=  46.8s\n",
      "[CV 3/5] END .................clf__max_rules=13;, score=0.430 total time=  46.7s\n",
      "[CV 4/5] END .................clf__max_rules=13;, score=0.437 total time=  49.3s\n",
      "[CV 5/5] END .................clf__max_rules=13;, score=0.422 total time=  49.2s\n",
      "[CV 1/5] END .................clf__max_rules=14;, score=0.439 total time=  59.4s\n",
      "[CV 2/5] END .................clf__max_rules=14;, score=0.437 total time=  59.1s\n",
      "[CV 3/5] END .................clf__max_rules=14;, score=0.430 total time=  57.9s\n",
      "[CV 4/5] END .................clf__max_rules=14;, score=0.437 total time=  59.0s\n",
      "[CV 5/5] END .................clf__max_rules=14;, score=0.431 total time=  59.5s\n",
      "[CV 1/5] END .................clf__max_rules=15;, score=0.439 total time= 1.0min\n",
      "[CV 2/5] END .................clf__max_rules=15;, score=0.442 total time= 1.0min\n",
      "[CV 3/5] END .................clf__max_rules=15;, score=0.441 total time=  59.5s\n",
      "[CV 4/5] END .................clf__max_rules=15;, score=0.440 total time=  59.7s\n",
      "[CV 5/5] END .................clf__max_rules=15;, score=0.431 total time= 1.0min\n",
      "[CV 1/5] END .................clf__max_rules=16;, score=0.441 total time= 1.1min\n",
      "[CV 2/5] END .................clf__max_rules=16;, score=0.443 total time= 1.1min\n",
      "[CV 3/5] END .................clf__max_rules=16;, score=0.434 total time= 1.1min\n",
      "[CV 4/5] END .................clf__max_rules=16;, score=0.438 total time= 1.1min\n",
      "[CV 5/5] END .................clf__max_rules=16;, score=0.435 total time= 1.1min\n",
      "[CV 1/5] END .................clf__max_rules=17;, score=0.437 total time= 1.2min\n",
      "[CV 2/5] END .................clf__max_rules=17;, score=0.445 total time= 1.2min\n",
      "[CV 3/5] END .................clf__max_rules=17;, score=0.434 total time= 1.2min\n",
      "[CV 4/5] END .................clf__max_rules=17;, score=0.418 total time= 1.2min\n",
      "[CV 5/5] END .................clf__max_rules=17;, score=0.442 total time= 1.2min\n",
      "[CV 1/5] END .................clf__max_rules=18;, score=0.445 total time= 1.2min\n",
      "[CV 2/5] END .................clf__max_rules=18;, score=0.450 total time= 1.2min\n",
      "[CV 3/5] END .................clf__max_rules=18;, score=0.437 total time= 1.2min\n",
      "[CV 4/5] END .................clf__max_rules=18;, score=0.427 total time= 1.3min\n",
      "[CV 5/5] END .................clf__max_rules=18;, score=0.433 total time= 1.2min\n",
      "[CV 1/5] END .................clf__max_rules=19;, score=0.445 total time= 1.3min\n",
      "[CV 2/5] END .................clf__max_rules=19;, score=0.450 total time= 1.4min\n",
      "[CV 3/5] END .................clf__max_rules=19;, score=0.447 total time= 1.3min\n",
      "[CV 4/5] END .................clf__max_rules=19;, score=0.420 total time= 1.3min\n",
      "[CV 5/5] END .................clf__max_rules=19;, score=0.433 total time= 1.3min\n",
      "[CV 1/5] END .................clf__max_rules=20;, score=0.452 total time= 1.4min\n",
      "[CV 2/5] END .................clf__max_rules=20;, score=0.452 total time= 1.4min\n",
      "[CV 3/5] END .................clf__max_rules=20;, score=0.455 total time= 1.4min\n",
      "[CV 4/5] END .................clf__max_rules=20;, score=0.428 total time= 1.4min\n",
      "[CV 5/5] END .................clf__max_rules=20;, score=0.436 total time= 1.4min\n",
      "[CV 1/5] END .................clf__max_rules=21;, score=0.457 total time= 1.5min\n",
      "[CV 2/5] END .................clf__max_rules=21;, score=0.469 total time= 1.5min\n",
      "[CV 3/5] END .................clf__max_rules=21;, score=0.462 total time= 1.5min\n",
      "[CV 4/5] END .................clf__max_rules=21;, score=0.430 total time= 1.5min\n",
      "[CV 5/5] END .................clf__max_rules=21;, score=0.440 total time= 1.4min\n",
      "[CV 1/5] END .................clf__max_rules=22;, score=0.457 total time= 1.5min\n",
      "[CV 2/5] END .................clf__max_rules=22;, score=0.479 total time= 1.6min\n",
      "[CV 3/5] END .................clf__max_rules=22;, score=0.471 total time= 1.6min\n",
      "[CV 4/5] END .................clf__max_rules=22;, score=0.444 total time= 1.6min\n",
      "[CV 5/5] END .................clf__max_rules=22;, score=0.443 total time= 1.5min\n",
      "[CV 1/5] END .................clf__max_rules=23;, score=0.459 total time= 1.5min\n",
      "[CV 2/5] END .................clf__max_rules=23;, score=0.473 total time= 1.6min\n",
      "[CV 3/5] END .................clf__max_rules=23;, score=0.471 total time= 1.6min\n",
      "[CV 4/5] END .................clf__max_rules=23;, score=0.449 total time= 1.6min\n",
      "[CV 5/5] END .................clf__max_rules=23;, score=0.453 total time= 1.6min\n",
      "[CV 1/5] END .................clf__max_rules=24;, score=0.472 total time= 1.6min\n",
      "[CV 2/5] END .................clf__max_rules=24;, score=0.478 total time= 1.7min\n",
      "[CV 3/5] END .................clf__max_rules=24;, score=0.470 total time= 1.7min\n",
      "[CV 4/5] END .................clf__max_rules=24;, score=0.458 total time= 1.6min\n",
      "[CV 5/5] END .................clf__max_rules=24;, score=0.453 total time= 1.6min\n",
      "[CV 1/5] END .................clf__max_rules=25;, score=0.473 total time= 1.7min\n",
      "[CV 2/5] END .................clf__max_rules=25;, score=0.479 total time= 1.8min\n",
      "[CV 3/5] END .................clf__max_rules=25;, score=0.470 total time= 1.7min\n",
      "[CV 4/5] END .................clf__max_rules=25;, score=0.458 total time= 1.7min\n",
      "[CV 5/5] END .................clf__max_rules=25;, score=0.452 total time= 1.8min\n",
      "[CV 1/5] END .................clf__max_rules=26;, score=0.473 total time= 1.7min\n",
      "[CV 2/5] END .................clf__max_rules=26;, score=0.481 total time= 1.8min\n",
      "[CV 3/5] END .................clf__max_rules=26;, score=0.468 total time= 1.6min\n",
      "[CV 4/5] END .................clf__max_rules=26;, score=0.458 total time= 1.8min\n",
      "[CV 5/5] END .................clf__max_rules=26;, score=0.453 total time= 1.9min\n",
      "[CV 1/5] END .................clf__max_rules=27;, score=0.473 total time= 1.9min\n",
      "[CV 2/5] END .................clf__max_rules=27;, score=0.481 total time= 1.9min\n",
      "[CV 3/5] END .................clf__max_rules=27;, score=0.459 total time= 1.9min\n",
      "[CV 4/5] END .................clf__max_rules=27;, score=0.458 total time= 1.8min\n",
      "[CV 5/5] END .................clf__max_rules=27;, score=0.455 total time= 1.9min\n",
      "[CV 1/5] END .................clf__max_rules=28;, score=0.478 total time= 1.9min\n",
      "[CV 2/5] END .................clf__max_rules=28;, score=0.481 total time= 1.8min\n",
      "[CV 3/5] END .................clf__max_rules=28;, score=0.467 total time= 1.5min\n",
      "[CV 4/5] END .................clf__max_rules=28;, score=0.458 total time= 1.5min\n",
      "[CV 5/5] END .................clf__max_rules=28;, score=0.463 total time= 1.6min\n",
      "[CV 1/5] END .................clf__max_rules=29;, score=0.478 total time= 1.7min\n",
      "[CV 2/5] END .................clf__max_rules=29;, score=0.484 total time= 1.9min\n",
      "[CV 3/5] END .................clf__max_rules=29;, score=0.470 total time= 1.8min\n",
      "[CV 4/5] END .................clf__max_rules=29;, score=0.465 total time= 1.8min\n",
      "[CV 5/5] END .................clf__max_rules=29;, score=0.471 total time= 2.0min\n",
      "[CV 1/5] END .................clf__max_rules=30;, score=0.478 total time= 2.0min\n",
      "[CV 2/5] END .................clf__max_rules=30;, score=0.486 total time= 2.0min\n",
      "[CV 3/5] END .................clf__max_rules=30;, score=0.470 total time= 2.0min\n",
      "[CV 4/5] END .................clf__max_rules=30;, score=0.465 total time= 1.9min\n",
      "[CV 5/5] END .................clf__max_rules=30;, score=0.475 total time= 2.0min\n",
      "[CV 1/5] END .................clf__max_rules=31;, score=0.490 total time= 1.8min\n",
      "[CV 2/5] END .................clf__max_rules=31;, score=0.486 total time= 2.0min\n",
      "[CV 3/5] END .................clf__max_rules=31;, score=0.475 total time= 2.0min\n",
      "[CV 4/5] END .................clf__max_rules=31;, score=0.476 total time= 2.0min\n",
      "[CV 5/5] END .................clf__max_rules=31;, score=0.475 total time= 2.1min\n",
      "[CV 1/5] END .................clf__max_rules=32;, score=0.497 total time= 2.0min\n",
      "[CV 2/5] END .................clf__max_rules=32;, score=0.491 total time= 2.2min\n",
      "[CV 3/5] END .................clf__max_rules=32;, score=0.474 total time= 2.1min\n",
      "[CV 4/5] END .................clf__max_rules=32;, score=0.471 total time= 2.1min\n",
      "[CV 5/5] END .................clf__max_rules=32;, score=0.470 total time= 2.2min\n",
      "[CV 1/5] END .................clf__max_rules=33;, score=0.497 total time= 2.0min\n",
      "[CV 2/5] END .................clf__max_rules=33;, score=0.491 total time= 2.2min\n",
      "[CV 3/5] END .................clf__max_rules=33;, score=0.474 total time= 2.2min\n",
      "[CV 4/5] END .................clf__max_rules=33;, score=0.472 total time= 2.2min\n",
      "[CV 5/5] END .................clf__max_rules=33;, score=0.470 total time= 2.3min\n",
      "[CV 1/5] END .................clf__max_rules=34;, score=0.497 total time= 2.2min\n",
      "[CV 2/5] END .................clf__max_rules=34;, score=0.491 total time= 2.3min\n",
      "[CV 3/5] END .................clf__max_rules=34;, score=0.477 total time= 2.2min\n",
      "[CV 4/5] END .................clf__max_rules=34;, score=0.473 total time= 2.2min\n",
      "[CV 5/5] END .................clf__max_rules=34;, score=0.471 total time= 2.4min\n",
      "[CV 1/5] END .................clf__max_rules=35;, score=0.497 total time= 2.2min\n",
      "[CV 2/5] END .................clf__max_rules=35;, score=0.491 total time= 2.3min\n",
      "[CV 3/5] END .................clf__max_rules=35;, score=0.480 total time= 2.1min\n",
      "[CV 4/5] END .................clf__max_rules=35;, score=0.476 total time= 2.1min\n",
      "[CV 5/5] END .................clf__max_rules=35;, score=0.471 total time= 2.2min\n",
      "[CV 1/5] END .................clf__max_rules=36;, score=0.500 total time= 2.0min\n",
      "[CV 2/5] END .................clf__max_rules=36;, score=0.489 total time= 2.1min\n",
      "[CV 3/5] END .................clf__max_rules=36;, score=0.480 total time= 2.0min\n",
      "[CV 4/5] END .................clf__max_rules=36;, score=0.476 total time= 2.0min\n",
      "[CV 5/5] END .................clf__max_rules=36;, score=0.471 total time= 2.2min\n",
      "[CV 1/5] END .................clf__max_rules=37;, score=0.492 total time= 2.0min\n",
      "[CV 2/5] END .................clf__max_rules=37;, score=0.490 total time= 2.2min\n",
      "[CV 3/5] END .................clf__max_rules=37;, score=0.483 total time= 2.2min\n",
      "[CV 4/5] END .................clf__max_rules=37;, score=0.477 total time= 2.2min\n",
      "[CV 5/5] END .................clf__max_rules=37;, score=0.477 total time= 2.3min\n",
      "[CV 1/5] END .................clf__max_rules=38;, score=0.494 total time= 2.1min\n",
      "[CV 2/5] END .................clf__max_rules=38;, score=0.493 total time= 2.3min\n",
      "[CV 3/5] END .................clf__max_rules=38;, score=0.483 total time= 2.2min\n",
      "[CV 4/5] END .................clf__max_rules=38;, score=0.477 total time= 2.3min\n",
      "[CV 5/5] END .................clf__max_rules=38;, score=0.481 total time= 2.4min\n",
      "[CV 1/5] END .................clf__max_rules=39;, score=0.494 total time= 2.2min\n",
      "[CV 2/5] END .................clf__max_rules=39;, score=0.494 total time= 2.4min\n",
      "[CV 3/5] END .................clf__max_rules=39;, score=0.483 total time= 2.3min\n",
      "[CV 4/5] END .................clf__max_rules=39;, score=0.477 total time= 2.3min\n",
      "[CV 5/5] END .................clf__max_rules=39;, score=0.477 total time= 2.5min\n",
      "[CV 1/5] END .................clf__max_rules=40;, score=0.494 total time= 2.3min\n",
      "[CV 2/5] END .................clf__max_rules=40;, score=0.495 total time= 2.4min\n",
      "[CV 3/5] END .................clf__max_rules=40;, score=0.487 total time= 2.4min\n",
      "[CV 4/5] END .................clf__max_rules=40;, score=0.477 total time= 2.3min\n",
      "[CV 5/5] END .................clf__max_rules=40;, score=0.477 total time= 2.5min\n",
      "[CV 1/5] END .................clf__max_rules=41;, score=0.494 total time= 2.3min\n",
      "[CV 2/5] END .................clf__max_rules=41;, score=0.499 total time= 2.5min\n",
      "[CV 3/5] END .................clf__max_rules=41;, score=0.486 total time= 2.5min\n",
      "[CV 4/5] END .................clf__max_rules=41;, score=0.478 total time= 2.3min\n",
      "[CV 5/5] END .................clf__max_rules=41;, score=0.477 total time= 2.5min\n",
      "[CV 1/5] END .................clf__max_rules=42;, score=0.501 total time= 2.4min\n",
      "[CV 2/5] END .................clf__max_rules=42;, score=0.506 total time= 2.4min\n",
      "[CV 3/5] END .................clf__max_rules=42;, score=0.489 total time= 2.6min\n",
      "[CV 4/5] END .................clf__max_rules=42;, score=0.480 total time= 2.5min\n",
      "[CV 5/5] END .................clf__max_rules=42;, score=0.477 total time= 4.6min\n",
      "[CV 1/5] END .................clf__max_rules=43;, score=0.502 total time= 4.5min\n",
      "[CV 2/5] END .................clf__max_rules=43;, score=0.506 total time= 4.8min\n",
      "[CV 3/5] END .................clf__max_rules=43;, score=0.490 total time= 4.8min\n",
      "[CV 4/5] END .................clf__max_rules=43;, score=0.481 total time= 4.4min\n",
      "[CV 5/5] END .................clf__max_rules=43;, score=0.477 total time= 5.3min\n",
      "[CV 1/5] END .................clf__max_rules=44;, score=0.504 total time= 4.7min\n",
      "[CV 2/5] END .................clf__max_rules=44;, score=0.506 total time= 5.0min\n",
      "[CV 3/5] END .................clf__max_rules=44;, score=0.492 total time= 4.8min\n",
      "[CV 4/5] END .................clf__max_rules=44;, score=0.484 total time= 5.1min\n",
      "[CV 5/5] END .................clf__max_rules=44;, score=0.486 total time= 5.1min\n",
      "[CV 1/5] END .................clf__max_rules=45;, score=0.507 total time= 4.7min\n",
      "[CV 2/5] END .................clf__max_rules=45;, score=0.505 total time= 5.0min\n",
      "[CV 3/5] END .................clf__max_rules=45;, score=0.493 total time= 5.1min\n",
      "[CV 4/5] END .................clf__max_rules=45;, score=0.492 total time= 5.2min\n",
      "[CV 5/5] END .................clf__max_rules=45;, score=0.485 total time= 5.5min\n",
      "[CV 1/5] END .................clf__max_rules=46;, score=0.507 total time= 4.8min\n",
      "[CV 2/5] END .................clf__max_rules=46;, score=0.508 total time= 5.4min\n",
      "[CV 3/5] END .................clf__max_rules=46;, score=0.493 total time= 5.3min\n",
      "[CV 4/5] END .................clf__max_rules=46;, score=0.491 total time= 5.4min\n",
      "[CV 5/5] END .................clf__max_rules=46;, score=0.485 total time= 5.4min\n",
      "[CV 1/5] END .................clf__max_rules=47;, score=0.509 total time= 4.9min\n",
      "[CV 2/5] END .................clf__max_rules=47;, score=0.509 total time= 5.2min\n",
      "[CV 3/5] END .................clf__max_rules=47;, score=0.494 total time= 5.4min\n",
      "[CV 4/5] END .................clf__max_rules=47;, score=0.492 total time= 5.1min\n",
      "[CV 5/5] END .................clf__max_rules=47;, score=0.486 total time= 5.3min\n",
      "[CV 1/5] END .................clf__max_rules=48;, score=0.510 total time= 4.9min\n",
      "[CV 2/5] END .................clf__max_rules=48;, score=0.509 total time= 5.2min\n",
      "[CV 3/5] END .................clf__max_rules=48;, score=0.497 total time= 5.4min\n",
      "[CV 4/5] END .................clf__max_rules=48;, score=0.497 total time= 5.4min\n",
      "[CV 5/5] END .................clf__max_rules=48;, score=0.486 total time= 6.1min\n",
      "[CV 1/5] END .................clf__max_rules=49;, score=0.511 total time= 5.2min\n",
      "[CV 2/5] END .................clf__max_rules=49;, score=0.510 total time= 5.7min\n",
      "[CV 3/5] END .................clf__max_rules=49;, score=0.495 total time= 5.8min\n",
      "[CV 4/5] END .................clf__max_rules=49;, score=0.497 total time= 6.0min\n",
      "[CV 5/5] END .................clf__max_rules=49;, score=0.486 total time= 6.0min\n",
      "Grid best parameter (max. recall):  {'clf__max_rules': 48}\n",
      "Grid best score (recall):  0.4998972920189595\n"
     ]
    }
   ],
   "source": [
    "clf_figs = FIGSClassifier(random_state=rng)\n",
    "\n",
    "figs_params = {\n",
    "    'clf__max_rules' : np.arange(1,50),\n",
    "}\n",
    "figs_pipe = helper.gridsearch_pipeline(X_train, y_train, clf_figs, figs_params)"
   ],
   "metadata": {
    "collapsed": false,
    "pycharm": {
     "name": "#%%\n"
    }
   }
  },
  {
   "cell_type": "code",
   "execution_count": 7,
   "outputs": [
    {
     "data": {
      "text/plain": "['gridsearch_all_models/figs_pipe_import.joblib']"
     },
     "execution_count": 7,
     "metadata": {},
     "output_type": "execute_result"
    }
   ],
   "source": [
    "joblib.dump(figs_pipe, f'{prefix}/figs_pipe_import.joblib')"
   ],
   "metadata": {
    "collapsed": false,
    "pycharm": {
     "name": "#%%\n"
    }
   }
  }
 ],
 "metadata": {
  "kernelspec": {
   "display_name": "Python 3",
   "language": "python",
   "name": "python3"
  },
  "language_info": {
   "codemirror_mode": {
    "name": "ipython",
    "version": 2
   },
   "file_extension": ".py",
   "mimetype": "text/x-python",
   "name": "python",
   "nbconvert_exporter": "python",
   "pygments_lexer": "ipython2",
   "version": "2.7.6"
  }
 },
 "nbformat": 4,
 "nbformat_minor": 0
}